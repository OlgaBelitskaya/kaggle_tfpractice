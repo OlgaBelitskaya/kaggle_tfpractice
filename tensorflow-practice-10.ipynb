{
 "cells": [
  {
   "cell_type": "code",
   "execution_count": 1,
   "metadata": {
    "_kg_hide-input": true,
    "execution": {
     "iopub.execute_input": "2021-01-09T23:12:10.499778Z",
     "iopub.status.busy": "2021-01-09T23:12:10.498737Z",
     "iopub.status.idle": "2021-01-09T23:12:10.521116Z",
     "shell.execute_reply": "2021-01-09T23:12:10.521655Z"
    },
    "papermill": {
     "duration": 0.041409,
     "end_time": "2021-01-09T23:12:10.521821",
     "exception": false,
     "start_time": "2021-01-09T23:12:10.480412",
     "status": "completed"
    },
    "tags": []
   },
   "outputs": [
    {
     "data": {
      "text/html": [
       "<style>@import 'https://fonts.googleapis.com/css?family=Ewert'; #div5218736 {background:white; padding:2px;}\n",
       "    .textrg {display:inline-block; font-size:30px; line-height:1.1; padding:5px; font-family:Ewert,sans-serif; text-transform:uppercase;\n",
       "       background:radial-gradient(\n",
       "           circle farthest-corner at center center,\n",
       "           orange,magenta,cyan) no-repeat;\n",
       "       -webkit-background-clip:text;\n",
       "       -webkit-text-fill-color:transparent;}</style>\n",
       "    <div id='div5218736'><text class='textrg'>Code Modules & Functions</text></div>"
      ],
      "text/plain": [
       "<IPython.core.display.HTML object>"
      ]
     },
     "metadata": {},
     "output_type": "display_data"
    }
   ],
   "source": [
    "%run ../input/python-recipes/radial_gradient_header.py\n",
    "%radial_gradient_header Code Modules & Functions"
   ]
  },
  {
   "cell_type": "code",
   "execution_count": 2,
   "metadata": {
    "_cell_guid": "b1076dfc-b9ad-4769-8c92-a6c4dae69d19",
    "_uuid": "8f2839f25d086af736a60e9eeb907d3b93b6e0e5",
    "execution": {
     "iopub.execute_input": "2021-01-09T23:12:10.552133Z",
     "iopub.status.busy": "2021-01-09T23:12:10.551419Z",
     "iopub.status.idle": "2021-01-09T23:12:17.604568Z",
     "shell.execute_reply": "2021-01-09T23:12:17.603315Z"
    },
    "papermill": {
     "duration": 7.069263,
     "end_time": "2021-01-09T23:12:17.604708",
     "exception": false,
     "start_time": "2021-01-09T23:12:10.535445",
     "status": "completed"
    },
    "tags": []
   },
   "outputs": [],
   "source": [
    "import warnings; warnings.filterwarnings('ignore')\n",
    "import pandas as pd,numpy as np\n",
    "import pylab as pl,tensorflow as tf\n",
    "from sklearn import datasets\n",
    "import sklearn.model_selection as sms\n",
    "from tensorflow.data import Dataset as tds"
   ]
  },
  {
   "cell_type": "code",
   "execution_count": 3,
   "metadata": {
    "execution": {
     "iopub.execute_input": "2021-01-09T23:12:17.642405Z",
     "iopub.status.busy": "2021-01-09T23:12:17.641432Z",
     "iopub.status.idle": "2021-01-09T23:12:17.645062Z",
     "shell.execute_reply": "2021-01-09T23:12:17.644343Z"
    },
    "papermill": {
     "duration": 0.027072,
     "end_time": "2021-01-09T23:12:17.645182",
     "exception": false,
     "start_time": "2021-01-09T23:12:17.618110",
     "status": "completed"
    },
    "tags": []
   },
   "outputs": [],
   "source": [
    "def pd_style():\n",
    "    return [dict(selector='th',\n",
    "                 props=[('font-size','10pt'),('min-width','45px')]),\n",
    "            dict(selector='td',\n",
    "                 props=[('padding','0em 0em'),('min-width','45px')]),\n",
    "            dict(selector='tr:hover th:hover',\n",
    "                 props=[('font-size','11pt'),('max-width','45px'),\n",
    "                        ('text-shadow','3px 3px 3px #aaa')]),\n",
    "            dict(selector='tr:hover td:hover',\n",
    "                 props=[('font-size','10pt'),('max-width','45px'),\n",
    "                        ('text-shadow','3px 3px 3px #aaa')])]"
   ]
  },
  {
   "cell_type": "code",
   "execution_count": 4,
   "metadata": {
    "_kg_hide-input": true,
    "execution": {
     "iopub.execute_input": "2021-01-09T23:12:17.675058Z",
     "iopub.status.busy": "2021-01-09T23:12:17.674420Z",
     "iopub.status.idle": "2021-01-09T23:12:17.680192Z",
     "shell.execute_reply": "2021-01-09T23:12:17.680783Z"
    },
    "papermill": {
     "duration": 0.022493,
     "end_time": "2021-01-09T23:12:17.680937",
     "exception": false,
     "start_time": "2021-01-09T23:12:17.658444",
     "status": "completed"
    },
    "tags": []
   },
   "outputs": [
    {
     "data": {
      "text/html": [
       "<style>@import 'https://fonts.googleapis.com/css?family=Ewert'; #div7982541 {background:white; padding:2px;}\n",
       "    .textrg {display:inline-block; font-size:30px; line-height:1.1; padding:5px; font-family:Ewert,sans-serif; text-transform:uppercase;\n",
       "       background:radial-gradient(\n",
       "           circle farthest-corner at center center,\n",
       "           orange,magenta,cyan) no-repeat;\n",
       "       -webkit-background-clip:text;\n",
       "       -webkit-text-fill-color:transparent;}</style>\n",
       "    <div id='div7982541'><text class='textrg'>Data Exploration</text></div>"
      ],
      "text/plain": [
       "<IPython.core.display.HTML object>"
      ]
     },
     "metadata": {},
     "output_type": "display_data"
    }
   ],
   "source": [
    "%radial_gradient_header Data Exploration"
   ]
  },
  {
   "cell_type": "code",
   "execution_count": 5,
   "metadata": {
    "_cell_guid": "79c7e3d0-c299-4dcb-8224-4455121ee9b0",
    "_uuid": "d629ff2d2480ee46fbb7e2d37f6b5fab8052498a",
    "execution": {
     "iopub.execute_input": "2021-01-09T23:12:17.713110Z",
     "iopub.status.busy": "2021-01-09T23:12:17.712474Z",
     "iopub.status.idle": "2021-01-09T23:12:18.009348Z",
     "shell.execute_reply": "2021-01-09T23:12:18.009813Z"
    },
    "papermill": {
     "duration": 0.314637,
     "end_time": "2021-01-09T23:12:18.009969",
     "exception": false,
     "start_time": "2021-01-09T23:12:17.695332",
     "status": "completed"
    },
    "tags": []
   },
   "outputs": [
    {
     "data": {
      "text/html": [
       "<style  type=\"text/css\" >\n",
       "    #T_1e4babe4_52d0_11eb_840a_0242ac130202 th {\n",
       "          font-size: 10pt;\n",
       "          min-width: 45px;\n",
       "    }    #T_1e4babe4_52d0_11eb_840a_0242ac130202 td {\n",
       "          padding: 0em 0em;\n",
       "          min-width: 45px;\n",
       "    }    #T_1e4babe4_52d0_11eb_840a_0242ac130202 tr:hover th:hover {\n",
       "          font-size: 11pt;\n",
       "          max-width: 45px;\n",
       "          text-shadow: 3px 3px 3px #aaa;\n",
       "    }    #T_1e4babe4_52d0_11eb_840a_0242ac130202 tr:hover td:hover {\n",
       "          font-size: 10pt;\n",
       "          max-width: 45px;\n",
       "          text-shadow: 3px 3px 3px #aaa;\n",
       "    }#T_1e4babe4_52d0_11eb_840a_0242ac130202row0_col0{\n",
       "            width:  10em;\n",
       "             height:  80%;\n",
       "            background:  linear-gradient(90deg, transparent 6.8%, #55eeee 6.8%, #55eeee 100.0%, transparent 100.0%);\n",
       "        }#T_1e4babe4_52d0_11eb_840a_0242ac130202row0_col1,#T_1e4babe4_52d0_11eb_840a_0242ac130202row1_col1,#T_1e4babe4_52d0_11eb_840a_0242ac130202row2_col1,#T_1e4babe4_52d0_11eb_840a_0242ac130202row3_col1,#T_1e4babe4_52d0_11eb_840a_0242ac130202row4_col1{\n",
       "            width:  10em;\n",
       "             height:  80%;\n",
       "            background:  linear-gradient(90deg,#55eeee 64.6%, transparent 64.6%);\n",
       "        }#T_1e4babe4_52d0_11eb_840a_0242ac130202row0_col2,#T_1e4babe4_52d0_11eb_840a_0242ac130202row0_col8,#T_1e4babe4_52d0_11eb_840a_0242ac130202row1_col2,#T_1e4babe4_52d0_11eb_840a_0242ac130202row1_col8,#T_1e4babe4_52d0_11eb_840a_0242ac130202row2_col2,#T_1e4babe4_52d0_11eb_840a_0242ac130202row2_col8,#T_1e4babe4_52d0_11eb_840a_0242ac130202row3_col2,#T_1e4babe4_52d0_11eb_840a_0242ac130202row4_col2,#T_1e4babe4_52d0_11eb_840a_0242ac130202row4_col8,#T_1e4babe4_52d0_11eb_840a_0242ac130202row5_col7,#T_1e4babe4_52d0_11eb_840a_0242ac130202row6_col7,#T_1e4babe4_52d0_11eb_840a_0242ac130202row6_col8,#T_1e4babe4_52d0_11eb_840a_0242ac130202row7_col7,#T_1e4babe4_52d0_11eb_840a_0242ac130202row7_col8,#T_1e4babe4_52d0_11eb_840a_0242ac130202row8_col7,#T_1e4babe4_52d0_11eb_840a_0242ac130202row9_col7,#T_1e4babe4_52d0_11eb_840a_0242ac130202row9_col8{\n",
       "            width:  10em;\n",
       "             height:  80%;\n",
       "            background:  linear-gradient(90deg,#ee55ee 100.0%, transparent 100.0%);\n",
       "        }#T_1e4babe4_52d0_11eb_840a_0242ac130202row0_col3{\n",
       "            width:  10em;\n",
       "             height:  80%;\n",
       "            background:  linear-gradient(90deg,#55eeee 56.4%, transparent 56.4%);\n",
       "        }#T_1e4babe4_52d0_11eb_840a_0242ac130202row0_col4{\n",
       "            width:  10em;\n",
       "             height:  80%;\n",
       "            background:  linear-gradient(90deg, transparent 12.7%, #ee55ee 12.7%, #ee55ee 29.6%, transparent 29.6%);\n",
       "        }#T_1e4babe4_52d0_11eb_840a_0242ac130202row0_col5{\n",
       "            width:  10em;\n",
       "             height:  80%;\n",
       "            background:  linear-gradient(90deg, transparent 38.8%, #55eeee 38.8%, #55eeee 100.0%, transparent 100.0%);\n",
       "        }#T_1e4babe4_52d0_11eb_840a_0242ac130202row0_col6,#T_1e4babe4_52d0_11eb_840a_0242ac130202row1_col6,#T_1e4babe4_52d0_11eb_840a_0242ac130202row2_col6,#T_1e4babe4_52d0_11eb_840a_0242ac130202row3_col6,#T_1e4babe4_52d0_11eb_840a_0242ac130202row4_col6{\n",
       "            width:  10em;\n",
       "             height:  80%;\n",
       "            background:  linear-gradient(90deg, transparent 87.3%, #55eeee 87.3%, #55eeee 100.0%, transparent 100.0%);\n",
       "        }#T_1e4babe4_52d0_11eb_840a_0242ac130202row0_col7,#T_1e4babe4_52d0_11eb_840a_0242ac130202row1_col7,#T_1e4babe4_52d0_11eb_840a_0242ac130202row2_col7,#T_1e4babe4_52d0_11eb_840a_0242ac130202row3_col7,#T_1e4babe4_52d0_11eb_840a_0242ac130202row4_col7{\n",
       "            width:  10em;\n",
       "             height:  80%;\n",
       "            background:  linear-gradient(90deg,#ee55ee 29.3%, transparent 29.3%);\n",
       "        }#T_1e4babe4_52d0_11eb_840a_0242ac130202row0_col9{\n",
       "            width:  10em;\n",
       "             height:  80%;\n",
       "            background:  linear-gradient(90deg, transparent 45.2%, #ee55ee 45.2%, #ee55ee 100.0%, transparent 100.0%);\n",
       "        }#T_1e4babe4_52d0_11eb_840a_0242ac130202row0_col10{\n",
       "            width:  10em;\n",
       "             height:  80%;\n",
       "            background:  linear-gradient(90deg, transparent 65.0%, #55eeee 65.0%, #55eeee 88.6%, transparent 88.6%);\n",
       "        }#T_1e4babe4_52d0_11eb_840a_0242ac130202row1_col0{\n",
       "            width:  10em;\n",
       "             height:  80%;\n",
       "            background:  linear-gradient(90deg, transparent 6.3%, #55eeee 6.3%, #55eeee 100.0%, transparent 100.0%);\n",
       "        }#T_1e4babe4_52d0_11eb_840a_0242ac130202row1_col3{\n",
       "            width:  10em;\n",
       "             height:  80%;\n",
       "            background:  linear-gradient(90deg, transparent 25.5%, #55eeee 25.5%, #55eeee 56.4%, transparent 56.4%);\n",
       "        }#T_1e4babe4_52d0_11eb_840a_0242ac130202row1_col4{\n",
       "            width:  10em;\n",
       "             height:  80%;\n",
       "            background:  linear-gradient(90deg, transparent 12.7%, #ee55ee 12.7%, #ee55ee 20.6%, transparent 20.6%);\n",
       "        }#T_1e4babe4_52d0_11eb_840a_0242ac130202row1_col5{\n",
       "            width:  10em;\n",
       "             height:  80%;\n",
       "            background:  linear-gradient(90deg, transparent 44.6%, #55eeee 44.6%, #55eeee 100.0%, transparent 100.0%);\n",
       "        }#T_1e4babe4_52d0_11eb_840a_0242ac130202row1_col9{\n",
       "            width:  10em;\n",
       "             height:  80%;\n",
       "            background:  linear-gradient(90deg, transparent 45.2%, #ee55ee 45.2%, #ee55ee 54.6%, transparent 54.6%);\n",
       "        }#T_1e4babe4_52d0_11eb_840a_0242ac130202row1_col10{\n",
       "            width:  10em;\n",
       "             height:  80%;\n",
       "            background:  linear-gradient(90deg, transparent 53.3%, #55eeee 53.3%, #55eeee 88.6%, transparent 88.6%);\n",
       "        }#T_1e4babe4_52d0_11eb_840a_0242ac130202row2_col0{\n",
       "            width:  10em;\n",
       "             height:  80%;\n",
       "            background:  linear-gradient(90deg, transparent 5.4%, #55eeee 5.4%, #55eeee 100.0%, transparent 100.0%);\n",
       "        }#T_1e4babe4_52d0_11eb_840a_0242ac130202row2_col3{\n",
       "            width:  10em;\n",
       "             height:  80%;\n",
       "            background:  linear-gradient(90deg, transparent 39.7%, #55eeee 39.7%, #55eeee 56.4%, transparent 56.4%);\n",
       "        }#T_1e4babe4_52d0_11eb_840a_0242ac130202row2_col4{\n",
       "            width:  10em;\n",
       "             height:  80%;\n",
       "            background:  linear-gradient(90deg,#55eeee 12.7%, transparent 12.7%);\n",
       "        }#T_1e4babe4_52d0_11eb_840a_0242ac130202row2_col5{\n",
       "            width:  10em;\n",
       "             height:  80%;\n",
       "            background:  linear-gradient(90deg, transparent 14.8%, #55eeee 14.8%, #55eeee 100.0%, transparent 100.0%);\n",
       "        }#T_1e4babe4_52d0_11eb_840a_0242ac130202row2_col9{\n",
       "            width:  10em;\n",
       "             height:  80%;\n",
       "            background:  linear-gradient(90deg, transparent 45.2%, #ee55ee 45.2%, #ee55ee 47.0%, transparent 47.0%);\n",
       "        }#T_1e4babe4_52d0_11eb_840a_0242ac130202row2_col10{\n",
       "            width:  10em;\n",
       "             height:  80%;\n",
       "            background:  linear-gradient(90deg, transparent 77.5%, #55eeee 77.5%, #55eeee 88.6%, transparent 88.6%);\n",
       "        }#T_1e4babe4_52d0_11eb_840a_0242ac130202row3_col0{\n",
       "            width:  10em;\n",
       "             height:  80%;\n",
       "            background:  linear-gradient(90deg, transparent 3.7%, #55eeee 3.7%, #55eeee 100.0%, transparent 100.0%);\n",
       "        }#T_1e4babe4_52d0_11eb_840a_0242ac130202row3_col3{\n",
       "            width:  10em;\n",
       "             height:  80%;\n",
       "            background:  linear-gradient(90deg, transparent 11.3%, #55eeee 11.3%, #55eeee 56.4%, transparent 56.4%);\n",
       "        }#T_1e4babe4_52d0_11eb_840a_0242ac130202row3_col4{\n",
       "            width:  10em;\n",
       "             height:  80%;\n",
       "            background:  linear-gradient(90deg, transparent 12.7%, #ee55ee 12.7%, #ee55ee 31.9%, transparent 31.9%);\n",
       "        }#T_1e4babe4_52d0_11eb_840a_0242ac130202row3_col5{\n",
       "            width:  10em;\n",
       "             height:  80%;\n",
       "            background:  linear-gradient(90deg, transparent 14.3%, #55eeee 14.3%, #55eeee 100.0%, transparent 100.0%);\n",
       "        }#T_1e4babe4_52d0_11eb_840a_0242ac130202row3_col8{\n",
       "            width:  10em;\n",
       "             height:  80%;\n",
       "            background:  linear-gradient(90deg,#ee55ee 97.2%, transparent 97.2%);\n",
       "        }#T_1e4babe4_52d0_11eb_840a_0242ac130202row3_col9{\n",
       "            width:  10em;\n",
       "             height:  80%;\n",
       "            background:  linear-gradient(90deg, transparent 45.2%, #ee55ee 45.2%, #ee55ee 61.0%, transparent 61.0%);\n",
       "        }#T_1e4babe4_52d0_11eb_840a_0242ac130202row3_col10{\n",
       "            width:  10em;\n",
       "             height:  80%;\n",
       "            background:  linear-gradient(90deg, transparent 46.7%, #55eeee 46.7%, #55eeee 88.6%, transparent 88.6%);\n",
       "        }#T_1e4babe4_52d0_11eb_840a_0242ac130202row4_col0{\n",
       "            width:  10em;\n",
       "             height:  80%;\n",
       "            background:  linear-gradient(90deg, transparent 5.0%, #55eeee 5.0%, #55eeee 100.0%, transparent 100.0%);\n",
       "        }#T_1e4babe4_52d0_11eb_840a_0242ac130202row4_col3{\n",
       "            width:  10em;\n",
       "             height:  80%;\n",
       "            background:  linear-gradient(90deg, transparent 40.2%, #55eeee 40.2%, #55eeee 56.4%, transparent 56.4%);\n",
       "        }#T_1e4babe4_52d0_11eb_840a_0242ac130202row4_col4{\n",
       "            width:  10em;\n",
       "             height:  80%;\n",
       "            background:  linear-gradient(90deg, transparent 12.7%, #ee55ee 12.7%, #ee55ee 56.0%, transparent 56.0%);\n",
       "        }#T_1e4babe4_52d0_11eb_840a_0242ac130202row4_col5{\n",
       "            width:  10em;\n",
       "             height:  80%;\n",
       "            background:  linear-gradient(90deg, transparent 20.3%, #55eeee 20.3%, #55eeee 100.0%, transparent 100.0%);\n",
       "        }#T_1e4babe4_52d0_11eb_840a_0242ac130202row4_col9{\n",
       "            width:  10em;\n",
       "             height:  80%;\n",
       "            background:  linear-gradient(90deg, transparent 45.2%, #ee55ee 45.2%, #ee55ee 56.1%, transparent 56.1%);\n",
       "        }#T_1e4babe4_52d0_11eb_840a_0242ac130202row4_col10{\n",
       "            width:  10em;\n",
       "             height:  80%;\n",
       "            background:  linear-gradient(90deg, transparent 40.8%, #55eeee 40.8%, #55eeee 88.6%, transparent 88.6%);\n",
       "        }#T_1e4babe4_52d0_11eb_840a_0242ac130202row5_col0{\n",
       "            width:  10em;\n",
       "             height:  80%;\n",
       "            background:  linear-gradient(90deg, transparent 0.5%, #55eeee 0.5%, #55eeee 100.0%, transparent 100.0%);\n",
       "        }#T_1e4babe4_52d0_11eb_840a_0242ac130202row5_col1,#T_1e4babe4_52d0_11eb_840a_0242ac130202row6_col1,#T_1e4babe4_52d0_11eb_840a_0242ac130202row7_col1,#T_1e4babe4_52d0_11eb_840a_0242ac130202row8_col1,#T_1e4babe4_52d0_11eb_840a_0242ac130202row9_col1{\n",
       "            width:  10em;\n",
       "             height:  80%;\n",
       "            background:  linear-gradient(90deg, transparent 64.6%, #ee55ee 64.6%, #ee55ee 100.0%, transparent 100.0%);\n",
       "        }#T_1e4babe4_52d0_11eb_840a_0242ac130202row5_col2,#T_1e4babe4_52d0_11eb_840a_0242ac130202row6_col2,#T_1e4babe4_52d0_11eb_840a_0242ac130202row7_col2,#T_1e4babe4_52d0_11eb_840a_0242ac130202row8_col2,#T_1e4babe4_52d0_11eb_840a_0242ac130202row9_col2{\n",
       "            width:  10em;\n",
       "             height:  80%;\n",
       "            background:  linear-gradient(90deg,#ee55ee 60.4%, transparent 60.4%);\n",
       "        }#T_1e4babe4_52d0_11eb_840a_0242ac130202row5_col3{\n",
       "            width:  10em;\n",
       "             height:  80%;\n",
       "            background:  linear-gradient(90deg, transparent 56.4%, #ee55ee 56.4%, #ee55ee 75.9%, transparent 75.9%);\n",
       "        }#T_1e4babe4_52d0_11eb_840a_0242ac130202row5_col4{\n",
       "            width:  10em;\n",
       "             height:  80%;\n",
       "            background:  linear-gradient(90deg, transparent 12.7%, #ee55ee 12.7%, #ee55ee 14.8%, transparent 14.8%);\n",
       "        }#T_1e4babe4_52d0_11eb_840a_0242ac130202row5_col5{\n",
       "            width:  10em;\n",
       "             height:  80%;\n",
       "            background:  linear-gradient(90deg, transparent 19.1%, #55eeee 19.1%, #55eeee 100.0%, transparent 100.0%);\n",
       "        }#T_1e4babe4_52d0_11eb_840a_0242ac130202row5_col6,#T_1e4babe4_52d0_11eb_840a_0242ac130202row6_col0,#T_1e4babe4_52d0_11eb_840a_0242ac130202row6_col6,#T_1e4babe4_52d0_11eb_840a_0242ac130202row7_col5,#T_1e4babe4_52d0_11eb_840a_0242ac130202row7_col6,#T_1e4babe4_52d0_11eb_840a_0242ac130202row8_col6,#T_1e4babe4_52d0_11eb_840a_0242ac130202row9_col6{\n",
       "            width:  10em;\n",
       "             height:  80%;\n",
       "            background:  linear-gradient(90deg,#55eeee 100.0%, transparent 100.0%);\n",
       "        }#T_1e4babe4_52d0_11eb_840a_0242ac130202row5_col8{\n",
       "            width:  10em;\n",
       "             height:  80%;\n",
       "            background:  linear-gradient(90deg,#ee55ee 87.8%, transparent 87.8%);\n",
       "        }#T_1e4babe4_52d0_11eb_840a_0242ac130202row5_col9{\n",
       "            width:  10em;\n",
       "             height:  80%;\n",
       "            background:  linear-gradient(90deg, transparent 26.0%, #55eeee 26.0%, #55eeee 45.2%, transparent 45.2%);\n",
       "        }#T_1e4babe4_52d0_11eb_840a_0242ac130202row5_col10{\n",
       "            width:  10em;\n",
       "             height:  80%;\n",
       "            background:  linear-gradient(90deg, transparent 87.5%, #55eeee 87.5%, #55eeee 88.6%, transparent 88.6%);\n",
       "        }#T_1e4babe4_52d0_11eb_840a_0242ac130202row6_col3{\n",
       "            width:  10em;\n",
       "             height:  80%;\n",
       "            background:  linear-gradient(90deg, transparent 46.0%, #55eeee 46.0%, #55eeee 56.4%, transparent 56.4%);\n",
       "        }#T_1e4babe4_52d0_11eb_840a_0242ac130202row6_col4{\n",
       "            width:  10em;\n",
       "             height:  80%;\n",
       "            background:  linear-gradient(90deg, transparent 12.7%, #ee55ee 12.7%, #ee55ee 44.4%, transparent 44.4%);\n",
       "        }#T_1e4babe4_52d0_11eb_840a_0242ac130202row6_col5{\n",
       "            width:  10em;\n",
       "             height:  80%;\n",
       "            background:  linear-gradient(90deg, transparent 7.4%, #55eeee 7.4%, #55eeee 100.0%, transparent 100.0%);\n",
       "        }#T_1e4babe4_52d0_11eb_840a_0242ac130202row6_col9{\n",
       "            width:  10em;\n",
       "             height:  80%;\n",
       "            background:  linear-gradient(90deg, transparent 22.2%, #55eeee 22.2%, #55eeee 45.2%, transparent 45.2%);\n",
       "        }#T_1e4babe4_52d0_11eb_840a_0242ac130202row6_col10{\n",
       "            width:  10em;\n",
       "             height:  80%;\n",
       "            background:  linear-gradient(90deg, transparent 72.5%, #55eeee 72.5%, #55eeee 88.6%, transparent 88.6%);\n",
       "        }#T_1e4babe4_52d0_11eb_840a_0242ac130202row7_col0{\n",
       "            width:  10em;\n",
       "             height:  80%;\n",
       "            background:  linear-gradient(90deg, transparent 0.4%, #55eeee 0.4%, #55eeee 100.0%, transparent 100.0%);\n",
       "        }#T_1e4babe4_52d0_11eb_840a_0242ac130202row7_col3{\n",
       "            width:  10em;\n",
       "             height:  80%;\n",
       "            background:  linear-gradient(90deg, transparent 56.4%, #ee55ee 56.4%, #ee55ee 100.0%, transparent 100.0%);\n",
       "        }#T_1e4babe4_52d0_11eb_840a_0242ac130202row7_col4{\n",
       "            width:  10em;\n",
       "             height:  80%;\n",
       "            background:  linear-gradient(90deg, transparent 12.7%, #ee55ee 12.7%, #ee55ee 100.0%, transparent 100.0%);\n",
       "        }#T_1e4babe4_52d0_11eb_840a_0242ac130202row7_col9{\n",
       "            width:  10em;\n",
       "             height:  80%;\n",
       "            background:  linear-gradient(90deg,#55eeee 45.2%, transparent 45.2%);\n",
       "        }#T_1e4babe4_52d0_11eb_840a_0242ac130202row7_col10{\n",
       "            width:  10em;\n",
       "             height:  80%;\n",
       "            background:  linear-gradient(90deg, transparent 88.6%, #ee55ee 88.6%, #ee55ee 100.0%, transparent 100.0%);\n",
       "        }#T_1e4babe4_52d0_11eb_840a_0242ac130202row8_col0{\n",
       "            width:  10em;\n",
       "             height:  80%;\n",
       "            background:  linear-gradient(90deg, transparent 1.8%, #55eeee 1.8%, #55eeee 100.0%, transparent 100.0%);\n",
       "        }#T_1e4babe4_52d0_11eb_840a_0242ac130202row8_col3{\n",
       "            width:  10em;\n",
       "             height:  80%;\n",
       "            background:  linear-gradient(90deg, transparent 56.4%, #ee55ee 56.4%, #ee55ee 88.5%, transparent 88.5%);\n",
       "        }#T_1e4babe4_52d0_11eb_840a_0242ac130202row8_col4{\n",
       "            width:  10em;\n",
       "             height:  80%;\n",
       "            background:  linear-gradient(90deg, transparent 12.7%, #ee55ee 12.7%, #ee55ee 93.4%, transparent 93.4%);\n",
       "        }#T_1e4babe4_52d0_11eb_840a_0242ac130202row8_col5{\n",
       "            width:  10em;\n",
       "             height:  80%;\n",
       "            background:  linear-gradient(90deg, transparent 13.6%, #55eeee 13.6%, #55eeee 100.0%, transparent 100.0%);\n",
       "        }#T_1e4babe4_52d0_11eb_840a_0242ac130202row8_col8{\n",
       "            width:  10em;\n",
       "             height:  80%;\n",
       "            background:  linear-gradient(90deg,#ee55ee 91.4%, transparent 91.4%);\n",
       "        }#T_1e4babe4_52d0_11eb_840a_0242ac130202row8_col9{\n",
       "            width:  10em;\n",
       "             height:  80%;\n",
       "            background:  linear-gradient(90deg, transparent 5.4%, #55eeee 5.4%, #55eeee 45.2%, transparent 45.2%);\n",
       "        }#T_1e4babe4_52d0_11eb_840a_0242ac130202row8_col10{\n",
       "            width:  10em;\n",
       "             height:  80%;\n",
       "            background:  linear-gradient(90deg, transparent 84.2%, #55eeee 84.2%, #55eeee 88.6%, transparent 88.6%);\n",
       "        }#T_1e4babe4_52d0_11eb_840a_0242ac130202row9_col0{\n",
       "            width:  10em;\n",
       "             height:  80%;\n",
       "            background:  linear-gradient(90deg, transparent 0.1%, #55eeee 0.1%, #55eeee 100.0%, transparent 100.0%);\n",
       "        }#T_1e4babe4_52d0_11eb_840a_0242ac130202row9_col3{\n",
       "            width:  10em;\n",
       "             height:  80%;\n",
       "            background:  linear-gradient(90deg, transparent 40.4%, #55eeee 40.4%, #55eeee 56.4%, transparent 56.4%);\n",
       "        }#T_1e4babe4_52d0_11eb_840a_0242ac130202row9_col4{\n",
       "            width:  10em;\n",
       "             height:  80%;\n",
       "            background:  linear-gradient(90deg, transparent 12.7%, #ee55ee 12.7%, #ee55ee 60.3%, transparent 60.3%);\n",
       "        }#T_1e4babe4_52d0_11eb_840a_0242ac130202row9_col5{\n",
       "            width:  10em;\n",
       "             height:  80%;\n",
       "            background:  linear-gradient(90deg, transparent 20.7%, #55eeee 20.7%, #55eeee 100.0%, transparent 100.0%);\n",
       "        }#T_1e4babe4_52d0_11eb_840a_0242ac130202row9_col9{\n",
       "            width:  10em;\n",
       "             height:  80%;\n",
       "            background:  linear-gradient(90deg, transparent 14.5%, #55eeee 14.5%, #55eeee 45.2%, transparent 45.2%);\n",
       "        }#T_1e4babe4_52d0_11eb_840a_0242ac130202row9_col10{\n",
       "            width:  10em;\n",
       "             height:  80%;\n",
       "            background:  linear-gradient(90deg,#55eeee 88.6%, transparent 88.6%);\n",
       "        }</style><table id=\"T_1e4babe4_52d0_11eb_840a_0242ac130202\" ><thead>    <tr>        <th class=\"blank level0\" ></th>        <th class=\"col_heading level0 col0\" >CRIM</th>        <th class=\"col_heading level0 col1\" >INDUS</th>        <th class=\"col_heading level0 col2\" >NOX</th>        <th class=\"col_heading level0 col3\" >RM</th>        <th class=\"col_heading level0 col4\" >AGE</th>        <th class=\"col_heading level0 col5\" >DIS</th>        <th class=\"col_heading level0 col6\" >TAX</th>        <th class=\"col_heading level0 col7\" >PTRATIO</th>        <th class=\"col_heading level0 col8\" >B</th>        <th class=\"col_heading level0 col9\" >LSTAT</th>        <th class=\"col_heading level0 col10\" >MEDV</th>    </tr></thead><tbody>\n",
       "                <tr>\n",
       "                        <th id=\"T_1e4babe4_52d0_11eb_840a_0242ac130202level0_row0\" class=\"row_heading level0 row0\" >496</th>\n",
       "                        <td id=\"T_1e4babe4_52d0_11eb_840a_0242ac130202row0_col0\" class=\"data row0 col0\" >-0.386</td>\n",
       "                        <td id=\"T_1e4babe4_52d0_11eb_840a_0242ac130202row0_col1\" class=\"data row0 col1\" >-0.211</td>\n",
       "                        <td id=\"T_1e4babe4_52d0_11eb_840a_0242ac130202row0_col2\" class=\"data row0 col2\" >0.262</td>\n",
       "                        <td id=\"T_1e4babe4_52d0_11eb_840a_0242ac130202row0_col3\" class=\"data row0 col3\" >-1.273</td>\n",
       "                        <td id=\"T_1e4babe4_52d0_11eb_840a_0242ac130202row0_col4\" class=\"data row0 col4\" >0.154</td>\n",
       "                        <td id=\"T_1e4babe4_52d0_11eb_840a_0242ac130202row0_col5\" class=\"data row0 col5\" >-0.473</td>\n",
       "                        <td id=\"T_1e4babe4_52d0_11eb_840a_0242ac130202row0_col6\" class=\"data row0 col6\" >-0.102</td>\n",
       "                        <td id=\"T_1e4babe4_52d0_11eb_840a_0242ac130202row0_col7\" class=\"data row0 col7\" >0.344</td>\n",
       "                        <td id=\"T_1e4babe4_52d0_11eb_840a_0242ac130202row0_col8\" class=\"data row0 col8\" >0.441</td>\n",
       "                        <td id=\"T_1e4babe4_52d0_11eb_840a_0242ac130202row0_col9\" class=\"data row0 col9\" >1.188</td>\n",
       "                        <td id=\"T_1e4babe4_52d0_11eb_840a_0242ac130202row0_col10\" class=\"data row0 col10\" >-0.308</td>\n",
       "            </tr>\n",
       "            <tr>\n",
       "                        <th id=\"T_1e4babe4_52d0_11eb_840a_0242ac130202level0_row1\" class=\"row_heading level0 row1\" >497</th>\n",
       "                        <td id=\"T_1e4babe4_52d0_11eb_840a_0242ac130202row1_col0\" class=\"data row1 col0\" >-0.389</td>\n",
       "                        <td id=\"T_1e4babe4_52d0_11eb_840a_0242ac130202row1_col1\" class=\"data row1 col1\" >-0.211</td>\n",
       "                        <td id=\"T_1e4babe4_52d0_11eb_840a_0242ac130202row1_col2\" class=\"data row1 col2\" >0.262</td>\n",
       "                        <td id=\"T_1e4babe4_52d0_11eb_840a_0242ac130202row1_col3\" class=\"data row1 col3\" >-0.698</td>\n",
       "                        <td id=\"T_1e4babe4_52d0_11eb_840a_0242ac130202row1_col4\" class=\"data row1 col4\" >0.072</td>\n",
       "                        <td id=\"T_1e4babe4_52d0_11eb_840a_0242ac130202row1_col5\" class=\"data row1 col5\" >-0.429</td>\n",
       "                        <td id=\"T_1e4babe4_52d0_11eb_840a_0242ac130202row1_col6\" class=\"data row1 col6\" >-0.102</td>\n",
       "                        <td id=\"T_1e4babe4_52d0_11eb_840a_0242ac130202row1_col7\" class=\"data row1 col7\" >0.344</td>\n",
       "                        <td id=\"T_1e4babe4_52d0_11eb_840a_0242ac130202row1_col8\" class=\"data row1 col8\" >0.441</td>\n",
       "                        <td id=\"T_1e4babe4_52d0_11eb_840a_0242ac130202row1_col9\" class=\"data row1 col9\" >0.203</td>\n",
       "                        <td id=\"T_1e4babe4_52d0_11eb_840a_0242ac130202row1_col10\" class=\"data row1 col10\" >-0.460</td>\n",
       "            </tr>\n",
       "            <tr>\n",
       "                        <th id=\"T_1e4babe4_52d0_11eb_840a_0242ac130202level0_row2\" class=\"row_heading level0 row2\" >498</th>\n",
       "                        <td id=\"T_1e4babe4_52d0_11eb_840a_0242ac130202row2_col0\" class=\"data row2 col0\" >-0.392</td>\n",
       "                        <td id=\"T_1e4babe4_52d0_11eb_840a_0242ac130202row2_col1\" class=\"data row2 col1\" >-0.211</td>\n",
       "                        <td id=\"T_1e4babe4_52d0_11eb_840a_0242ac130202row2_col2\" class=\"data row2 col2\" >0.262</td>\n",
       "                        <td id=\"T_1e4babe4_52d0_11eb_840a_0242ac130202row2_col3\" class=\"data row2 col3\" >-0.378</td>\n",
       "                        <td id=\"T_1e4babe4_52d0_11eb_840a_0242ac130202row2_col4\" class=\"data row2 col4\" >-0.116</td>\n",
       "                        <td id=\"T_1e4babe4_52d0_11eb_840a_0242ac130202row2_col5\" class=\"data row2 col5\" >-0.658</td>\n",
       "                        <td id=\"T_1e4babe4_52d0_11eb_840a_0242ac130202row2_col6\" class=\"data row2 col6\" >-0.102</td>\n",
       "                        <td id=\"T_1e4babe4_52d0_11eb_840a_0242ac130202row2_col7\" class=\"data row2 col7\" >0.344</td>\n",
       "                        <td id=\"T_1e4babe4_52d0_11eb_840a_0242ac130202row2_col8\" class=\"data row2 col8\" >0.441</td>\n",
       "                        <td id=\"T_1e4babe4_52d0_11eb_840a_0242ac130202row2_col9\" class=\"data row2 col9\" >0.037</td>\n",
       "                        <td id=\"T_1e4babe4_52d0_11eb_840a_0242ac130202row2_col10\" class=\"data row2 col10\" >-0.145</td>\n",
       "            </tr>\n",
       "            <tr>\n",
       "                        <th id=\"T_1e4babe4_52d0_11eb_840a_0242ac130202level0_row3\" class=\"row_heading level0 row3\" >499</th>\n",
       "                        <td id=\"T_1e4babe4_52d0_11eb_840a_0242ac130202row3_col0\" class=\"data row3 col0\" >-0.399</td>\n",
       "                        <td id=\"T_1e4babe4_52d0_11eb_840a_0242ac130202row3_col1\" class=\"data row3 col1\" >-0.211</td>\n",
       "                        <td id=\"T_1e4babe4_52d0_11eb_840a_0242ac130202row3_col2\" class=\"data row3 col2\" >0.262</td>\n",
       "                        <td id=\"T_1e4babe4_52d0_11eb_840a_0242ac130202row3_col3\" class=\"data row3 col3\" >-1.019</td>\n",
       "                        <td id=\"T_1e4babe4_52d0_11eb_840a_0242ac130202row3_col4\" class=\"data row3 col4\" >0.175</td>\n",
       "                        <td id=\"T_1e4babe4_52d0_11eb_840a_0242ac130202row3_col5\" class=\"data row3 col5\" >-0.663</td>\n",
       "                        <td id=\"T_1e4babe4_52d0_11eb_840a_0242ac130202row3_col6\" class=\"data row3 col6\" >-0.102</td>\n",
       "                        <td id=\"T_1e4babe4_52d0_11eb_840a_0242ac130202row3_col7\" class=\"data row3 col7\" >0.344</td>\n",
       "                        <td id=\"T_1e4babe4_52d0_11eb_840a_0242ac130202row3_col8\" class=\"data row3 col8\" >0.428</td>\n",
       "                        <td id=\"T_1e4babe4_52d0_11eb_840a_0242ac130202row3_col9\" class=\"data row3 col9\" >0.343</td>\n",
       "                        <td id=\"T_1e4babe4_52d0_11eb_840a_0242ac130202row3_col10\" class=\"data row3 col10\" >-0.547</td>\n",
       "            </tr>\n",
       "            <tr>\n",
       "                        <th id=\"T_1e4babe4_52d0_11eb_840a_0242ac130202level0_row4\" class=\"row_heading level0 row4\" >500</th>\n",
       "                        <td id=\"T_1e4babe4_52d0_11eb_840a_0242ac130202row4_col0\" class=\"data row4 col0\" >-0.394</td>\n",
       "                        <td id=\"T_1e4babe4_52d0_11eb_840a_0242ac130202row4_col1\" class=\"data row4 col1\" >-0.211</td>\n",
       "                        <td id=\"T_1e4babe4_52d0_11eb_840a_0242ac130202row4_col2\" class=\"data row4 col2\" >0.262</td>\n",
       "                        <td id=\"T_1e4babe4_52d0_11eb_840a_0242ac130202row4_col3\" class=\"data row4 col3\" >-0.367</td>\n",
       "                        <td id=\"T_1e4babe4_52d0_11eb_840a_0242ac130202row4_col4\" class=\"data row4 col4\" >0.395</td>\n",
       "                        <td id=\"T_1e4babe4_52d0_11eb_840a_0242ac130202row4_col5\" class=\"data row4 col5\" >-0.616</td>\n",
       "                        <td id=\"T_1e4babe4_52d0_11eb_840a_0242ac130202row4_col6\" class=\"data row4 col6\" >-0.102</td>\n",
       "                        <td id=\"T_1e4babe4_52d0_11eb_840a_0242ac130202row4_col7\" class=\"data row4 col7\" >0.344</td>\n",
       "                        <td id=\"T_1e4babe4_52d0_11eb_840a_0242ac130202row4_col8\" class=\"data row4 col8\" >0.441</td>\n",
       "                        <td id=\"T_1e4babe4_52d0_11eb_840a_0242ac130202row4_col9\" class=\"data row4 col9\" >0.235</td>\n",
       "                        <td id=\"T_1e4babe4_52d0_11eb_840a_0242ac130202row4_col10\" class=\"data row4 col10\" >-0.623</td>\n",
       "            </tr>\n",
       "            <tr>\n",
       "                        <th id=\"T_1e4babe4_52d0_11eb_840a_0242ac130202level0_row5\" class=\"row_heading level0 row5\" >501</th>\n",
       "                        <td id=\"T_1e4babe4_52d0_11eb_840a_0242ac130202row5_col0\" class=\"data row5 col0\" >-0.413</td>\n",
       "                        <td id=\"T_1e4babe4_52d0_11eb_840a_0242ac130202row5_col1\" class=\"data row5 col1\" >0.116</td>\n",
       "                        <td id=\"T_1e4babe4_52d0_11eb_840a_0242ac130202row5_col2\" class=\"data row5 col2\" >0.158</td>\n",
       "                        <td id=\"T_1e4babe4_52d0_11eb_840a_0242ac130202row5_col3\" class=\"data row5 col3\" >0.439</td>\n",
       "                        <td id=\"T_1e4babe4_52d0_11eb_840a_0242ac130202row5_col4\" class=\"data row5 col4\" >0.019</td>\n",
       "                        <td id=\"T_1e4babe4_52d0_11eb_840a_0242ac130202row5_col5\" class=\"data row5 col5\" >-0.625</td>\n",
       "                        <td id=\"T_1e4babe4_52d0_11eb_840a_0242ac130202row5_col6\" class=\"data row5 col6\" >-0.802</td>\n",
       "                        <td id=\"T_1e4babe4_52d0_11eb_840a_0242ac130202row5_col7\" class=\"data row5 col7\" >1.175</td>\n",
       "                        <td id=\"T_1e4babe4_52d0_11eb_840a_0242ac130202row5_col8\" class=\"data row5 col8\" >0.387</td>\n",
       "                        <td id=\"T_1e4babe4_52d0_11eb_840a_0242ac130202row5_col9\" class=\"data row5 col9\" >-0.418</td>\n",
       "                        <td id=\"T_1e4babe4_52d0_11eb_840a_0242ac130202row5_col10\" class=\"data row5 col10\" >-0.014</td>\n",
       "            </tr>\n",
       "            <tr>\n",
       "                        <th id=\"T_1e4babe4_52d0_11eb_840a_0242ac130202level0_row6\" class=\"row_heading level0 row6\" >502</th>\n",
       "                        <td id=\"T_1e4babe4_52d0_11eb_840a_0242ac130202row6_col0\" class=\"data row6 col0\" >-0.415</td>\n",
       "                        <td id=\"T_1e4babe4_52d0_11eb_840a_0242ac130202row6_col1\" class=\"data row6 col1\" >0.116</td>\n",
       "                        <td id=\"T_1e4babe4_52d0_11eb_840a_0242ac130202row6_col2\" class=\"data row6 col2\" >0.158</td>\n",
       "                        <td id=\"T_1e4babe4_52d0_11eb_840a_0242ac130202row6_col3\" class=\"data row6 col3\" >-0.234</td>\n",
       "                        <td id=\"T_1e4babe4_52d0_11eb_840a_0242ac130202row6_col4\" class=\"data row6 col4\" >0.289</td>\n",
       "                        <td id=\"T_1e4babe4_52d0_11eb_840a_0242ac130202row6_col5\" class=\"data row6 col5\" >-0.716</td>\n",
       "                        <td id=\"T_1e4babe4_52d0_11eb_840a_0242ac130202row6_col6\" class=\"data row6 col6\" >-0.802</td>\n",
       "                        <td id=\"T_1e4babe4_52d0_11eb_840a_0242ac130202row6_col7\" class=\"data row6 col7\" >1.175</td>\n",
       "                        <td id=\"T_1e4babe4_52d0_11eb_840a_0242ac130202row6_col8\" class=\"data row6 col8\" >0.441</td>\n",
       "                        <td id=\"T_1e4babe4_52d0_11eb_840a_0242ac130202row6_col9\" class=\"data row6 col9\" >-0.500</td>\n",
       "                        <td id=\"T_1e4babe4_52d0_11eb_840a_0242ac130202row6_col10\" class=\"data row6 col10\" >-0.210</td>\n",
       "            </tr>\n",
       "            <tr>\n",
       "                        <th id=\"T_1e4babe4_52d0_11eb_840a_0242ac130202level0_row7\" class=\"row_heading level0 row7\" >503</th>\n",
       "                        <td id=\"T_1e4babe4_52d0_11eb_840a_0242ac130202row7_col0\" class=\"data row7 col0\" >-0.413</td>\n",
       "                        <td id=\"T_1e4babe4_52d0_11eb_840a_0242ac130202row7_col1\" class=\"data row7 col1\" >0.116</td>\n",
       "                        <td id=\"T_1e4babe4_52d0_11eb_840a_0242ac130202row7_col2\" class=\"data row7 col2\" >0.158</td>\n",
       "                        <td id=\"T_1e4babe4_52d0_11eb_840a_0242ac130202row7_col3\" class=\"data row7 col3\" >0.984</td>\n",
       "                        <td id=\"T_1e4babe4_52d0_11eb_840a_0242ac130202row7_col4\" class=\"data row7 col4\" >0.797</td>\n",
       "                        <td id=\"T_1e4babe4_52d0_11eb_840a_0242ac130202row7_col5\" class=\"data row7 col5\" >-0.773</td>\n",
       "                        <td id=\"T_1e4babe4_52d0_11eb_840a_0242ac130202row7_col6\" class=\"data row7 col6\" >-0.802</td>\n",
       "                        <td id=\"T_1e4babe4_52d0_11eb_840a_0242ac130202row7_col7\" class=\"data row7 col7\" >1.175</td>\n",
       "                        <td id=\"T_1e4babe4_52d0_11eb_840a_0242ac130202row7_col8\" class=\"data row7 col8\" >0.441</td>\n",
       "                        <td id=\"T_1e4babe4_52d0_11eb_840a_0242ac130202row7_col9\" class=\"data row7 col9\" >-0.982</td>\n",
       "                        <td id=\"T_1e4babe4_52d0_11eb_840a_0242ac130202row7_col10\" class=\"data row7 col10\" >0.149</td>\n",
       "            </tr>\n",
       "            <tr>\n",
       "                        <th id=\"T_1e4babe4_52d0_11eb_840a_0242ac130202level0_row8\" class=\"row_heading level0 row8\" >504</th>\n",
       "                        <td id=\"T_1e4babe4_52d0_11eb_840a_0242ac130202row8_col0\" class=\"data row8 col0\" >-0.407</td>\n",
       "                        <td id=\"T_1e4babe4_52d0_11eb_840a_0242ac130202row8_col1\" class=\"data row8 col1\" >0.116</td>\n",
       "                        <td id=\"T_1e4babe4_52d0_11eb_840a_0242ac130202row8_col2\" class=\"data row8 col2\" >0.158</td>\n",
       "                        <td id=\"T_1e4babe4_52d0_11eb_840a_0242ac130202row8_col3\" class=\"data row8 col3\" >0.725</td>\n",
       "                        <td id=\"T_1e4babe4_52d0_11eb_840a_0242ac130202row8_col4\" class=\"data row8 col4\" >0.736</td>\n",
       "                        <td id=\"T_1e4babe4_52d0_11eb_840a_0242ac130202row8_col5\" class=\"data row8 col5\" >-0.668</td>\n",
       "                        <td id=\"T_1e4babe4_52d0_11eb_840a_0242ac130202row8_col6\" class=\"data row8 col6\" >-0.802</td>\n",
       "                        <td id=\"T_1e4babe4_52d0_11eb_840a_0242ac130202row8_col7\" class=\"data row8 col7\" >1.175</td>\n",
       "                        <td id=\"T_1e4babe4_52d0_11eb_840a_0242ac130202row8_col8\" class=\"data row8 col8\" >0.403</td>\n",
       "                        <td id=\"T_1e4babe4_52d0_11eb_840a_0242ac130202row8_col9\" class=\"data row8 col9\" >-0.864</td>\n",
       "                        <td id=\"T_1e4babe4_52d0_11eb_840a_0242ac130202row8_col10\" class=\"data row8 col10\" >-0.058</td>\n",
       "            </tr>\n",
       "            <tr>\n",
       "                        <th id=\"T_1e4babe4_52d0_11eb_840a_0242ac130202level0_row9\" class=\"row_heading level0 row9\" >505</th>\n",
       "                        <td id=\"T_1e4babe4_52d0_11eb_840a_0242ac130202row9_col0\" class=\"data row9 col0\" >-0.415</td>\n",
       "                        <td id=\"T_1e4babe4_52d0_11eb_840a_0242ac130202row9_col1\" class=\"data row9 col1\" >0.116</td>\n",
       "                        <td id=\"T_1e4babe4_52d0_11eb_840a_0242ac130202row9_col2\" class=\"data row9 col2\" >0.158</td>\n",
       "                        <td id=\"T_1e4babe4_52d0_11eb_840a_0242ac130202row9_col3\" class=\"data row9 col3\" >-0.362</td>\n",
       "                        <td id=\"T_1e4babe4_52d0_11eb_840a_0242ac130202row9_col4\" class=\"data row9 col4\" >0.434</td>\n",
       "                        <td id=\"T_1e4babe4_52d0_11eb_840a_0242ac130202row9_col5\" class=\"data row9 col5\" >-0.613</td>\n",
       "                        <td id=\"T_1e4babe4_52d0_11eb_840a_0242ac130202row9_col6\" class=\"data row9 col6\" >-0.802</td>\n",
       "                        <td id=\"T_1e4babe4_52d0_11eb_840a_0242ac130202row9_col7\" class=\"data row9 col7\" >1.175</td>\n",
       "                        <td id=\"T_1e4babe4_52d0_11eb_840a_0242ac130202row9_col8\" class=\"data row9 col8\" >0.441</td>\n",
       "                        <td id=\"T_1e4babe4_52d0_11eb_840a_0242ac130202row9_col9\" class=\"data row9 col9\" >-0.668</td>\n",
       "                        <td id=\"T_1e4babe4_52d0_11eb_840a_0242ac130202row9_col10\" class=\"data row9 col10\" >-1.156</td>\n",
       "            </tr>\n",
       "    </tbody></table>"
      ],
      "text/plain": [
       "<pandas.io.formats.style.Styler at 0x7fe04d5c9290>"
      ]
     },
     "execution_count": 5,
     "metadata": {},
     "output_type": "execute_result"
    }
   ],
   "source": [
    "boston_data=datasets.load_boston()\n",
    "columns=boston_data.feature_names\n",
    "boston_df=pd.DataFrame(boston_data.data,columns=columns)\n",
    "boston_df['MEDV']=boston_data.target\n",
    "boston_df[['CHAS','RAD']]=boston_df[['CHAS','RAD']].astype('int64')\n",
    "numeric_features=\\\n",
    "boston_df.columns[[0,2,4,5,6,7,9,10,11,12,13]]\n",
    "stats=boston_df.describe().transpose()\n",
    "dfn=boston_df.copy()\n",
    "for nc in numeric_features:\n",
    "    mean=stats.loc[nc,'mean']; std=stats.loc[nc,'std']\n",
    "    dfn.loc[:,nc]=(dfn.loc[:,nc]-mean)/std\n",
    "dfn[numeric_features].tail(int(10)).style.bar(\n",
    "    align='mid',color=['#55eeee','#ee55ee'],\n",
    "    subset=numeric_features).set_precision(3)\\\n",
    "   .set_table_styles(pd_style())"
   ]
  },
  {
   "cell_type": "code",
   "execution_count": 6,
   "metadata": {
    "_kg_hide-input": true,
    "execution": {
     "iopub.execute_input": "2021-01-09T23:12:18.047379Z",
     "iopub.status.busy": "2021-01-09T23:12:18.046655Z",
     "iopub.status.idle": "2021-01-09T23:12:18.051914Z",
     "shell.execute_reply": "2021-01-09T23:12:18.051334Z"
    },
    "papermill": {
     "duration": 0.026898,
     "end_time": "2021-01-09T23:12:18.052023",
     "exception": false,
     "start_time": "2021-01-09T23:12:18.025125",
     "status": "completed"
    },
    "tags": []
   },
   "outputs": [
    {
     "data": {
      "text/html": [
       "<style>@import 'https://fonts.googleapis.com/css?family=Ewert'; #div1780249 {background:white; padding:2px;}\n",
       "    .textrg {display:inline-block; font-size:30px; line-height:1.1; padding:5px; font-family:Ewert,sans-serif; text-transform:uppercase;\n",
       "       background:radial-gradient(\n",
       "           circle farthest-corner at center center,\n",
       "           orange,magenta,cyan) no-repeat;\n",
       "       -webkit-background-clip:text;\n",
       "       -webkit-text-fill-color:transparent;}</style>\n",
       "    <div id='div1780249'><text class='textrg'>Data Processing</text></div>"
      ],
      "text/plain": [
       "<IPython.core.display.HTML object>"
      ]
     },
     "metadata": {},
     "output_type": "display_data"
    }
   ],
   "source": [
    "%radial_gradient_header Data Processing"
   ]
  },
  {
   "cell_type": "code",
   "execution_count": 7,
   "metadata": {
    "execution": {
     "iopub.execute_input": "2021-01-09T23:12:18.097465Z",
     "iopub.status.busy": "2021-01-09T23:12:18.096785Z",
     "iopub.status.idle": "2021-01-09T23:12:18.102510Z",
     "shell.execute_reply": "2021-01-09T23:12:18.101960Z"
    },
    "papermill": {
     "duration": 0.034894,
     "end_time": "2021-01-09T23:12:18.102619",
     "exception": false,
     "start_time": "2021-01-09T23:12:18.067725",
     "status": "completed"
    },
    "tags": []
   },
   "outputs": [
    {
     "name": "stdout",
     "output_type": "stream",
     "text": [
      "NumericColumn(key='CRIM', shape=(1,), default_value=None, dtype=tf.float32, normalizer_fn=None)\n",
      "EmbeddingColumn(categorical_column=VocabularyListCategoricalColumn(key='CHAS', vocabulary_list=(0, 1), dtype=tf.int64, default_value=-1, num_oov_buckets=0), dimension=2, combiner='mean', initializer=<tensorflow.python.ops.init_ops.TruncatedNormal object at 0x7fe04d603850>, ckpt_to_load_from=None, tensor_name_in_ckpt=None, max_norm=None, trainable=True, use_safe_embedding_lookup=True)\n",
      "BucketizedColumn(source_column=NumericColumn(key='ZN', shape=(1,), default_value=None, dtype=tf.float32, normalizer_fn=None), boundaries=(30, 70, 100))\n"
     ]
    }
   ],
   "source": [
    "tfnumeric_features=[]\n",
    "for nc in numeric_features[:-1]:\n",
    "    tfnumeric_features.append(\n",
    "        tf.feature_column.numeric_column(key=nc)) \n",
    "for nf in tfnumeric_features: \n",
    "    print(str(nf)); break\n",
    "fchas=tf.feature_column\\\n",
    ".categorical_column_with_vocabulary_list(\n",
    "    key='CHAS',vocabulary_list=[0,1])\n",
    "frad=tf.feature_column\\\n",
    ".categorical_column_with_vocabulary_list(\n",
    "    key='RAD',vocabulary_list=[1,2,3,4,5,6,7,8,24])\n",
    "tfcategorical_features=[]\n",
    "fchas_emb=tf.feature_column.embedding_column(fchas,dimension=2)\n",
    "tfcategorical_features.append(fchas_emb)\n",
    "frad_emb=tf.feature_column.embedding_column(frad,dimension=9)\n",
    "tfcategorical_features.append(frad_emb)\n",
    "print(str(tfcategorical_features[0]))\n",
    "fzn=tf.feature_column.numeric_column(key='ZN')\n",
    "tfbucketized_features=[tf.feature_column.bucketized_column(\n",
    "    source_column=fzn,boundaries=[30,70,100])]\n",
    "print(str(tfbucketized_features[0]))"
   ]
  },
  {
   "cell_type": "code",
   "execution_count": 8,
   "metadata": {
    "execution": {
     "iopub.execute_input": "2021-01-09T23:12:18.147485Z",
     "iopub.status.busy": "2021-01-09T23:12:18.146560Z",
     "iopub.status.idle": "2021-01-09T23:12:18.151656Z",
     "shell.execute_reply": "2021-01-09T23:12:18.150981Z"
    },
    "papermill": {
     "duration": 0.032895,
     "end_time": "2021-01-09T23:12:18.151834",
     "exception": false,
     "start_time": "2021-01-09T23:12:18.118939",
     "status": "completed"
    },
    "tags": []
   },
   "outputs": [
    {
     "name": "stdout",
     "output_type": "stream",
     "text": [
      "[404, 102]\n"
     ]
    }
   ],
   "source": [
    "features=(tfnumeric_features+tfbucketized_features+tfcategorical_features)\n",
    "dfn_train,dfn_test=sms.train_test_split(dfn,train_size=.8,shuffle=True)\n",
    "print(str([len(dfn_train),len(dfn_test)]))"
   ]
  },
  {
   "cell_type": "code",
   "execution_count": 9,
   "metadata": {
    "execution": {
     "iopub.execute_input": "2021-01-09T23:12:18.258460Z",
     "iopub.status.busy": "2021-01-09T23:12:18.238764Z",
     "iopub.status.idle": "2021-01-09T23:12:18.340866Z",
     "shell.execute_reply": "2021-01-09T23:12:18.340348Z"
    },
    "papermill": {
     "duration": 0.172154,
     "end_time": "2021-01-09T23:12:18.341023",
     "exception": false,
     "start_time": "2021-01-09T23:12:18.168869",
     "status": "completed"
    },
    "tags": []
   },
   "outputs": [
    {
     "name": "stdout",
     "output_type": "stream",
     "text": [
      "keys: \n",
      "dict_keys(['CRIM', 'ZN', 'INDUS', 'CHAS', 'NOX', 'RM', 'AGE', 'DIS', 'RAD', 'TAX', 'PTRATIO', 'B', 'LSTAT'])\n",
      "batch values of `ZN`: \n",
      " tf.Tensor([ 0.  0.  0.  0.  0. 21.  0. 95.], shape=(8,), dtype=float64)\n"
     ]
    }
   ],
   "source": [
    "batch_size=8\n",
    "def train_input_fn(dfn_train,batch_size):\n",
    "    dft=dfn_train.copy()\n",
    "    x_train,y_train=dft,dft.pop('MEDV')\n",
    "    ds_train=tds.from_tensor_slices((dict(x_train),y_train))\n",
    "    return ds_train.shuffle(len(x_train)).repeat().batch(batch_size)\n",
    "ds_train=train_input_fn(dfn_train,batch_size)\n",
    "batch=next(iter(ds_train))\n",
    "print('keys: \\n%s'%batch[0].keys())\n",
    "print('batch values of `ZN`: \\n %s'%batch[0]['ZN'])"
   ]
  },
  {
   "cell_type": "code",
   "execution_count": 10,
   "metadata": {
    "execution": {
     "iopub.execute_input": "2021-01-09T23:12:18.403479Z",
     "iopub.status.busy": "2021-01-09T23:12:18.385407Z",
     "iopub.status.idle": "2021-01-09T23:12:18.416722Z",
     "shell.execute_reply": "2021-01-09T23:12:18.416050Z"
    },
    "papermill": {
     "duration": 0.058001,
     "end_time": "2021-01-09T23:12:18.416837",
     "exception": false,
     "start_time": "2021-01-09T23:12:18.358836",
     "status": "completed"
    },
    "tags": []
   },
   "outputs": [
    {
     "name": "stdout",
     "output_type": "stream",
     "text": [
      "keys: \n",
      "dict_keys(['CRIM', 'ZN', 'INDUS', 'CHAS', 'NOX', 'RM', 'AGE', 'DIS', 'RAD', 'TAX', 'PTRATIO', 'B', 'LSTAT'])\n",
      "batch values of `CHAS`: \n",
      "tf.Tensor([0 0 1 0 0 0 0 0], shape=(8,), dtype=int64)\n"
     ]
    }
   ],
   "source": [
    "def test_input_fn(dfn_test,batch_size):\n",
    "    dft2=dfn_test.copy()\n",
    "    x_test,y_test=dft2,dft2.pop('MEDV')\n",
    "    ds_test=tds.from_tensor_slices((dict(x_test),y_test))\n",
    "    return ds_test.batch(batch_size)\n",
    "ds_test=test_input_fn(dfn_test,batch_size)\n",
    "batch=next(iter(ds_test))\n",
    "print('keys: \\n%s'%batch[0].keys())\n",
    "print('batch values of `CHAS`: \\n%s'%batch[0]['CHAS'])"
   ]
  },
  {
   "cell_type": "code",
   "execution_count": 11,
   "metadata": {
    "_kg_hide-input": true,
    "execution": {
     "iopub.execute_input": "2021-01-09T23:12:18.460349Z",
     "iopub.status.busy": "2021-01-09T23:12:18.459451Z",
     "iopub.status.idle": "2021-01-09T23:12:18.465064Z",
     "shell.execute_reply": "2021-01-09T23:12:18.464430Z"
    },
    "papermill": {
     "duration": 0.029874,
     "end_time": "2021-01-09T23:12:18.465180",
     "exception": false,
     "start_time": "2021-01-09T23:12:18.435306",
     "status": "completed"
    },
    "tags": []
   },
   "outputs": [
    {
     "data": {
      "text/html": [
       "<style>@import 'https://fonts.googleapis.com/css?family=Ewert'; #div5964415 {background:white; padding:2px;}\n",
       "    .textrg {display:inline-block; font-size:30px; line-height:1.1; padding:5px; font-family:Ewert,sans-serif; text-transform:uppercase;\n",
       "       background:radial-gradient(\n",
       "           circle farthest-corner at center center,\n",
       "           orange,magenta,cyan) no-repeat;\n",
       "       -webkit-background-clip:text;\n",
       "       -webkit-text-fill-color:transparent;}</style>\n",
       "    <div id='div5964415'><text class='textrg'>Model Training</text></div>"
      ],
      "text/plain": [
       "<IPython.core.display.HTML object>"
      ]
     },
     "metadata": {},
     "output_type": "display_data"
    }
   ],
   "source": [
    "%radial_gradient_header Model Training"
   ]
  },
  {
   "cell_type": "code",
   "execution_count": 12,
   "metadata": {
    "execution": {
     "iopub.execute_input": "2021-01-09T23:12:18.509048Z",
     "iopub.status.busy": "2021-01-09T23:12:18.508380Z",
     "iopub.status.idle": "2021-01-09T23:12:18.727357Z",
     "shell.execute_reply": "2021-01-09T23:12:18.726647Z"
    },
    "papermill": {
     "duration": 0.243332,
     "end_time": "2021-01-09T23:12:18.727511",
     "exception": false,
     "start_time": "2021-01-09T23:12:18.484179",
     "status": "completed"
    },
    "tags": []
   },
   "outputs": [],
   "source": [
    "reg=tf.estimator.DNNRegressor(\n",
    "    feature_columns=features,hidden_units=[104,52],\n",
    "    model_dir='models/boston-dnnregressor/');"
   ]
  },
  {
   "cell_type": "code",
   "execution_count": 13,
   "metadata": {
    "execution": {
     "iopub.execute_input": "2021-01-09T23:12:18.773527Z",
     "iopub.status.busy": "2021-01-09T23:12:18.772812Z",
     "iopub.status.idle": "2021-01-09T23:13:45.465916Z",
     "shell.execute_reply": "2021-01-09T23:13:45.465257Z"
    },
    "papermill": {
     "duration": 86.71874,
     "end_time": "2021-01-09T23:13:45.466070",
     "exception": false,
     "start_time": "2021-01-09T23:12:18.747330",
     "status": "completed"
    },
    "tags": []
   },
   "outputs": [
    {
     "name": "stdout",
     "output_type": "stream",
     "text": [
      "training steps: 51000\n"
     ]
    }
   ],
   "source": [
    "epochs=1000\n",
    "steps=epochs*int(np.ceil(len(dfn_train)/batch_size))\n",
    "print('training steps: %d'%steps)\n",
    "reg.train(input_fn=lambda:train_input_fn(dfn_train,batch_size),steps=steps);"
   ]
  },
  {
   "cell_type": "code",
   "execution_count": 14,
   "metadata": {
    "_kg_hide-input": true,
    "execution": {
     "iopub.execute_input": "2021-01-09T23:13:45.512860Z",
     "iopub.status.busy": "2021-01-09T23:13:45.511780Z",
     "iopub.status.idle": "2021-01-09T23:13:45.516992Z",
     "shell.execute_reply": "2021-01-09T23:13:45.516456Z"
    },
    "papermill": {
     "duration": 0.030824,
     "end_time": "2021-01-09T23:13:45.517120",
     "exception": false,
     "start_time": "2021-01-09T23:13:45.486296",
     "status": "completed"
    },
    "tags": []
   },
   "outputs": [
    {
     "data": {
      "text/html": [
       "<style>@import 'https://fonts.googleapis.com/css?family=Ewert'; #div6409797 {background:white; padding:2px;}\n",
       "    .textrg {display:inline-block; font-size:30px; line-height:1.1; padding:5px; font-family:Ewert,sans-serif; text-transform:uppercase;\n",
       "       background:radial-gradient(\n",
       "           circle farthest-corner at center center,\n",
       "           orange,magenta,cyan) no-repeat;\n",
       "       -webkit-background-clip:text;\n",
       "       -webkit-text-fill-color:transparent;}</style>\n",
       "    <div id='div6409797'><text class='textrg'>Model Evaluation</text></div>"
      ],
      "text/plain": [
       "<IPython.core.display.HTML object>"
      ]
     },
     "metadata": {},
     "output_type": "display_data"
    }
   ],
   "source": [
    "%radial_gradient_header Model Evaluation"
   ]
  },
  {
   "cell_type": "code",
   "execution_count": 15,
   "metadata": {
    "execution": {
     "iopub.execute_input": "2021-01-09T23:13:45.566391Z",
     "iopub.status.busy": "2021-01-09T23:13:45.565626Z",
     "iopub.status.idle": "2021-01-09T23:13:45.569133Z",
     "shell.execute_reply": "2021-01-09T23:13:45.568580Z"
    },
    "papermill": {
     "duration": 0.031811,
     "end_time": "2021-01-09T23:13:45.569265",
     "exception": false,
     "start_time": "2021-01-09T23:13:45.537454",
     "status": "completed"
    },
    "tags": []
   },
   "outputs": [],
   "source": [
    "reloaded_reg=tf.estimator.DNNRegressor(\n",
    "    feature_columns=features,hidden_units=[104,52],\n",
    "    warm_start_from='models/boston-dnnregressor/',\n",
    "    model_dir='models/boston-dnnregressor/');"
   ]
  },
  {
   "cell_type": "code",
   "execution_count": 16,
   "metadata": {
    "execution": {
     "iopub.execute_input": "2021-01-09T23:13:45.618391Z",
     "iopub.status.busy": "2021-01-09T23:13:45.617320Z",
     "iopub.status.idle": "2021-01-09T23:13:46.557192Z",
     "shell.execute_reply": "2021-01-09T23:13:46.556329Z"
    },
    "papermill": {
     "duration": 0.967342,
     "end_time": "2021-01-09T23:13:46.557364",
     "exception": false,
     "start_time": "2021-01-09T23:13:45.590022",
     "status": "completed"
    },
    "tags": []
   },
   "outputs": [
    {
     "name": "stdout",
     "output_type": "stream",
     "text": [
      "average_loss: 0.11035904288291931\n",
      "label/mean: 0.06284347176551819\n",
      "loss: 0.11002970486879349\n",
      "prediction/mean: 0.10504470020532608\n",
      "global_step: 51000\n",
      "test average loss% 0.1104\n"
     ]
    }
   ],
   "source": [
    "test_results=reloaded_reg.evaluate(\n",
    "    input_fn=lambda:test_input_fn(dfn_test,batch_size))\n",
    "for key in test_results:\n",
    "    print('{}: {}'.format(key,test_results[key]))\n",
    "print('test average loss% {:.4f}'\\\n",
    "      .format(test_results['average_loss']))"
   ]
  },
  {
   "cell_type": "code",
   "execution_count": 17,
   "metadata": {
    "execution": {
     "iopub.execute_input": "2021-01-09T23:13:46.607446Z",
     "iopub.status.busy": "2021-01-09T23:13:46.606063Z",
     "iopub.status.idle": "2021-01-09T23:13:47.104962Z",
     "shell.execute_reply": "2021-01-09T23:13:47.103404Z"
    },
    "papermill": {
     "duration": 0.526453,
     "end_time": "2021-01-09T23:13:47.105125",
     "exception": false,
     "start_time": "2021-01-09T23:13:46.578672",
     "status": "completed"
    },
    "tags": []
   },
   "outputs": [],
   "source": [
    "y_test_pred=reg.predict(\n",
    "    input_fn=lambda:test_input_fn(dfn_test,batch_size))\n",
    "py_test=[]\n",
    "for i in range(len(dfn_test)):\n",
    "    py_test.append(next(iter(y_test_pred))['predictions'][0])"
   ]
  },
  {
   "cell_type": "code",
   "execution_count": 18,
   "metadata": {
    "execution": {
     "iopub.execute_input": "2021-01-09T23:13:47.154822Z",
     "iopub.status.busy": "2021-01-09T23:13:47.154176Z",
     "iopub.status.idle": "2021-01-09T23:13:47.444868Z",
     "shell.execute_reply": "2021-01-09T23:13:47.445448Z"
    },
    "papermill": {
     "duration": 0.319806,
     "end_time": "2021-01-09T23:13:47.445609",
     "exception": false,
     "start_time": "2021-01-09T23:13:47.125803",
     "status": "completed"
    },
    "tags": []
   },
   "outputs": [
    {
     "data": {
      "image/png": "[encoded data removed]",
      "text/plain": [
       "<Figure size 720x288 with 1 Axes>"
      ]
     },
     "metadata": {
      "needs_background": "light"
     },
     "output_type": "display_data"
    }
   ],
   "source": [
    "pl.figure(figsize=(10,4))\n",
    "pl.plot(range(len(dfn_test)),dfn_test['MEDV'],\n",
    "        '-o',label='real data',c='#55eeee',ms=7)\n",
    "pl.plot(range(len(dfn_test)),py_test,\n",
    "        '-o',label='predictions',c='#ee55ee',ms=5)\n",
    "pl.tight_layout(); pl.grid(); pl.legend();"
   ]
  }
 ],
 "metadata": {
  "kernelspec": {
   "display_name": "Python 3",
   "language": "python",
   "name": "python3"
  },
  "language_info": {
   "codemirror_mode": {
    "name": "ipython",
    "version": 3
   },
   "file_extension": ".py",
   "mimetype": "text/x-python",
   "name": "python",
   "nbconvert_exporter": "python",
   "pygments_lexer": "ipython3",
   "version": "3.7.6"
  },
  "papermill": {
   "duration": 101.957134,
   "end_time": "2021-01-09T23:13:47.579482",
   "environment_variables": {},
   "exception": null,
   "input_path": "__notebook__.ipynb",
   "output_path": "__notebook__.ipynb",
   "parameters": {},
   "start_time": "2021-01-09T23:12:05.622348",
   "version": "2.1.0"
  }
 },
 "nbformat": 4,
 "nbformat_minor": 4
}
