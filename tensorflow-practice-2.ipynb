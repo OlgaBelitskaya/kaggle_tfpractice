{
 "cells": [
  {
   "cell_type": "code",
   "execution_count": 1,
   "metadata": {
    "_kg_hide-input": true,
    "papermill": {
     "duration": 0.036358,
     "end_time": "2021-01-08T18:39:06.621774",
     "exception": false,
     "start_time": "2021-01-08T18:39:06.585416",
     "status": "completed"
    },
    "tags": []
   },
   "outputs": [
    {
     "name": "stdout",
     "output_type": "stream",
     "text": [
      "Writing decor_header.py\n"
     ]
    }
   ],
   "source": [
    "%%writefile decor_header.py\n",
    "import random; from IPython.display import display,HTML\n",
    "from IPython.core.magic import register_line_magic\n",
    "@register_line_magic\n",
    "def decor_header(params):\n",
    "    params=params.split('|'); string=params[0]\n",
    "    if len(params)==1: \n",
    "        font_size='22'; font_family='Wallpoet'; cmap='Sinebow'\n",
    "    elif  len(params)==2: \n",
    "        font_size=params[1]\n",
    "        font_family='Wallpoet'; cmap='Sinebow'\n",
    "    elif  len(params)==3: \n",
    "        font_size=params[1]; font_family=params[2]\n",
    "        cmap='Sinebow'\n",
    "    else: \n",
    "        font_size=params[1]; font_family=params[2]; cmap=params[3]\n",
    "    height=int(font_size)*3; randi=str(random.uniform(0,9999999))\n",
    "    html_str=\"\"\"\n",
    "<script src='https://d3js.org/d3.v6.min.js'></script>\n",
    "<style>\n",
    "@import 'https://fonts.googleapis.com/css?family=\"\"\"+font_family+\"\"\"';\n",
    "#colorized001 {\n",
    "font-family:\"\"\"+font_family+\"\"\"; font-size:\"\"\"+font_size+\"\"\";}\n",
    "#canvas001,#canvas002 {width:10%; vertical-align:middle;}\n",
    "</style>\n",
    "<text id='colorized001'><canvas id='canvas001'></canvas>\n",
    "\"\"\"+string+\"\"\"\n",
    "<canvas id='canvas002'></canvas></text><br/>\n",
    "<script>\n",
    "var tc=setInterval(function() {\n",
    "    var now=new Date().getTime();\n",
    "    var iddoc=document.getElementById('colorized001');\n",
    "    iddoc.style.color=d3.interpolate\"\"\"+cmap+\"\"\"(now/6000);\n",
    "    var r=10,n=7;\n",
    "    var c1=document.getElementById('canvas001'); \n",
    "    var context1=c1.getContext('2d');\n",
    "    var c2=document.getElementById('canvas002'); \n",
    "    var context2=c2.getContext('2d');\n",
    "    c1.style.background=d3.interpolate\"\"\"+cmap+\"\"\"(now/60000); \n",
    "    c2.style.background=d3.interpolate\"\"\"+cmap+\"\"\"(now/60000);\n",
    "    context1.strokeStyle=d3.interpolate\"\"\"+cmap+\"\"\"(now/6000);    \n",
    "    context2.strokeStyle=d3.interpolate\"\"\"+cmap+\"\"\"(now/6000);\n",
    "    for (var i=1; i<n; i++) {\n",
    "        context1.beginPath(); context2.beginPath();\n",
    "        for (var j=0; j<6; j++) {\n",
    "            context1.arc(60*j,r*(n+.5),i*r,0,2*Math.PI);\n",
    "            context2.arc(60*j,r*(n+.5),i*r,0,2*Math.PI); };\n",
    "        context1.stroke(); context2.stroke(); }; },1)\n",
    "</script>\"\"\"\n",
    "    file='d3header'+randi+'.html'\n",
    "    with open(file,'w') as f:\n",
    "         f.write(html_str); f.close()\n",
    "    string=\"\"\"<div id='html_string\"\"\"+randi+\\\n",
    "    \"\"\"' style='width:100%;'><iframe src='\"\"\"+file+\\\n",
    "    \"\"\"' height=\"\"\"+str(height)+\"\"\"\n",
    "    style='display:block; width:100%;'></iframe></div>\"\"\"\n",
    "    display(HTML(string))"
   ]
  },
  {
   "cell_type": "code",
   "execution_count": 2,
   "metadata": {
    "_kg_hide-input": true,
    "papermill": {
     "duration": 0.037599,
     "end_time": "2021-01-08T18:39:06.684054",
     "exception": false,
     "start_time": "2021-01-08T18:39:06.646455",
     "status": "completed"
    },
    "tags": []
   },
   "outputs": [
    {
     "data": {
      "text/html": [
       "<div id='html_string2475615.966362533' style='width:100%;'><iframe src='d3header2475615.966362533.html' height=66\n",
       "    style='display:block; width:100%;'></iframe></div>"
      ],
      "text/plain": [
       "<IPython.core.display.HTML object>"
      ]
     },
     "metadata": {},
     "output_type": "display_data"
    }
   ],
   "source": [
    "%run decor_header.py\n",
    "%decor_header Modules, Helpful Functions, & Styling"
   ]
  },
  {
   "cell_type": "code",
   "execution_count": 3,
   "metadata": {
    "_kg_hide-output": false,
    "papermill": {
     "duration": 8.214289,
     "end_time": "2021-01-08T18:39:14.922899",
     "exception": false,
     "start_time": "2021-01-08T18:39:06.708610",
     "status": "completed"
    },
    "tags": []
   },
   "outputs": [],
   "source": [
    "!pip install --upgrade neural_structured_learning --user --quiet "
   ]
  },
  {
   "cell_type": "code",
   "execution_count": 4,
   "metadata": {
    "_cell_guid": "79c7e3d0-c299-4dcb-8224-4455121ee9b0",
    "_kg_hide-input": true,
    "_uuid": "d629ff2d2480ee46fbb7e2d37f6b5fab8052498a",
    "papermill": {
     "duration": 0.035913,
     "end_time": "2021-01-08T18:39:14.984178",
     "exception": false,
     "start_time": "2021-01-08T18:39:14.948265",
     "status": "completed"
    },
    "tags": []
   },
   "outputs": [
    {
     "data": {
      "text/html": [
       "<style>\n",
       "@import url('https://fonts.googleapis.com/css?family=Ewert|Roboto&effect=3d');\n",
       "span {text-shadow:3px 3px 3px #aaa;}  \n",
       "div.output_area pre{font-family:Roboto; font-size:110%; color:#ff36ff;}      \n",
       "</style>\n"
      ],
      "text/plain": [
       "<IPython.core.display.HTML object>"
      ]
     },
     "metadata": {},
     "output_type": "display_data"
    }
   ],
   "source": [
    "%%html\n",
    "<style>\n",
    "@import url('https://fonts.googleapis.com/css?family=Ewert|Roboto&effect=3d');\n",
    "span {text-shadow:3px 3px 3px #aaa;}  \n",
    "div.output_area pre{font-family:Roboto; font-size:110%; color:#ff36ff;}      \n",
    "</style>"
   ]
  },
  {
   "cell_type": "code",
   "execution_count": 5,
   "metadata": {
    "_cell_guid": "b1076dfc-b9ad-4769-8c92-a6c4dae69d19",
    "_uuid": "8f2839f25d086af736a60e9eeb907d3b93b6e0e5",
    "papermill": {
     "duration": 5.770484,
     "end_time": "2021-01-08T18:39:20.781235",
     "exception": false,
     "start_time": "2021-01-08T18:39:15.010751",
     "status": "completed"
    },
    "tags": []
   },
   "outputs": [],
   "source": [
    "import warnings; warnings.filterwarnings('ignore')\n",
    "import h5py,pylab as pl,pandas as pd\n",
    "import numpy as np,tensorflow as tf\n",
    "import neural_structured_learning as nsl\n",
    "from sklearn.model_selection import train_test_split\n",
    "fpath3='../input/classification-of-handwritten-letters/'\n",
    "fpath4='../input/flower-color-images/'"
   ]
  },
  {
   "cell_type": "code",
   "execution_count": 6,
   "metadata": {
    "_kg_hide-input": true,
    "papermill": {
     "duration": 0.056218,
     "end_time": "2021-01-08T18:39:20.876877",
     "exception": false,
     "start_time": "2021-01-08T18:39:20.820659",
     "status": "completed"
    },
    "tags": []
   },
   "outputs": [],
   "source": [
    "def prepro(x_train,y_train,x_test,y_test,n_class):\n",
    "    n=int(len(x_test)/2)    \n",
    "    x_valid,y_valid=x_test[:n],y_test[:n]\n",
    "    x_test,y_test=x_test[n:],y_test[n:]\n",
    "    cy_train=tf.keras.utils.to_categorical(y_train,n_class) \n",
    "    cy_valid=tf.keras.utils.to_categorical(y_valid,n_class)\n",
    "    cy_test=tf.keras.utils.to_categorical(y_test,n_class)\n",
    "    df=pd.DataFrame([[x_train.shape,x_valid.shape,x_test.shape],\n",
    "                     [y_train.shape,y_valid.shape,y_test.shape],\n",
    "                     [cy_train.shape,cy_valid.shape,cy_test.shape]],\n",
    "                    columns=['train','valid','test'],\n",
    "                    index=['images','labels','encoded labels'])\n",
    "    display(df)\n",
    "    return [[x_train,x_valid,x_test],\n",
    "            [y_train,y_valid,y_test],\n",
    "            [cy_train,cy_valid,cy_test]]"
   ]
  },
  {
   "cell_type": "code",
   "execution_count": 7,
   "metadata": {
    "_kg_hide-input": true,
    "papermill": {
     "duration": 0.051993,
     "end_time": "2021-01-08T18:39:20.967867",
     "exception": false,
     "start_time": "2021-01-08T18:39:20.915874",
     "status": "completed"
    },
    "tags": []
   },
   "outputs": [
    {
     "data": {
      "text/html": [
       "<div id='html_string4471175.294167675' style='width:100%;'><iframe src='d3header4471175.294167675.html' height=66\n",
       "    style='display:block; width:100%;'></iframe></div>"
      ],
      "text/plain": [
       "<IPython.core.display.HTML object>"
      ]
     },
     "metadata": {},
     "output_type": "display_data"
    }
   ],
   "source": [
    "%decor_header Data Loading & Preprocessing"
   ]
  },
  {
   "cell_type": "code",
   "execution_count": 8,
   "metadata": {
    "papermill": {
     "duration": 0.665512,
     "end_time": "2021-01-08T18:39:21.676493",
     "exception": false,
     "start_time": "2021-01-08T18:39:21.010981",
     "status": "completed"
    },
    "tags": []
   },
   "outputs": [
    {
     "name": "stdout",
     "output_type": "stream",
     "text": [
      "Downloading data from https://storage.googleapis.com/tensorflow/tf-keras-datasets/mnist.npz\n",
      "11493376/11490434 [==============================] - 0s 0us/step\n"
     ]
    },
    {
     "data": {
      "text/html": [
       "<div>\n",
       "<style scoped>\n",
       "    .dataframe tbody tr th:only-of-type {\n",
       "        vertical-align: middle;\n",
       "    }\n",
       "\n",
       "    .dataframe tbody tr th {\n",
       "        vertical-align: top;\n",
       "    }\n",
       "\n",
       "    .dataframe thead th {\n",
       "        text-align: right;\n",
       "    }\n",
       "</style>\n",
       "<table border=\"1\" class=\"dataframe\">\n",
       "  <thead>\n",
       "    <tr style=\"text-align: right;\">\n",
       "      <th></th>\n",
       "      <th>train</th>\n",
       "      <th>valid</th>\n",
       "      <th>test</th>\n",
       "    </tr>\n",
       "  </thead>\n",
       "  <tbody>\n",
       "    <tr>\n",
       "      <th>images</th>\n",
       "      <td>(60000, 28, 28)</td>\n",
       "      <td>(5000, 28, 28)</td>\n",
       "      <td>(5000, 28, 28)</td>\n",
       "    </tr>\n",
       "    <tr>\n",
       "      <th>labels</th>\n",
       "      <td>(60000, 1)</td>\n",
       "      <td>(5000, 1)</td>\n",
       "      <td>(5000, 1)</td>\n",
       "    </tr>\n",
       "    <tr>\n",
       "      <th>encoded labels</th>\n",
       "      <td>(60000, 10)</td>\n",
       "      <td>(5000, 10)</td>\n",
       "      <td>(5000, 10)</td>\n",
       "    </tr>\n",
       "  </tbody>\n",
       "</table>\n",
       "</div>"
      ],
      "text/plain": [
       "                          train           valid            test\n",
       "images          (60000, 28, 28)  (5000, 28, 28)  (5000, 28, 28)\n",
       "labels               (60000, 1)       (5000, 1)       (5000, 1)\n",
       "encoded labels      (60000, 10)      (5000, 10)      (5000, 10)"
      ]
     },
     "metadata": {},
     "output_type": "display_data"
    }
   ],
   "source": [
    "(x_train1,y_train1),(x_test1,y_test1)=\\\n",
    "tf.keras.datasets.mnist.load_data()\n",
    "[[x_train1,x_valid1,x_test1],\n",
    " [y_train1,y_valid1,y_test1],\n",
    " [cy_train1,cy_valid1,cy_test1]]=\\\n",
    "prepro(x_train1/255,y_train1.reshape(-1,1),\n",
    "       x_test1/255,y_test1.reshape(-1,1),10)"
   ]
  },
  {
   "cell_type": "code",
   "execution_count": 9,
   "metadata": {
    "papermill": {
     "duration": 5.682313,
     "end_time": "2021-01-08T18:39:27.387364",
     "exception": false,
     "start_time": "2021-01-08T18:39:21.705051",
     "status": "completed"
    },
    "tags": []
   },
   "outputs": [
    {
     "name": "stdout",
     "output_type": "stream",
     "text": [
      "Downloading data from https://www.cs.toronto.edu/~kriz/cifar-10-python.tar.gz\n",
      "170500096/170498071 [==============================] - 3s 0us/step\n"
     ]
    },
    {
     "data": {
      "text/html": [
       "<div>\n",
       "<style scoped>\n",
       "    .dataframe tbody tr th:only-of-type {\n",
       "        vertical-align: middle;\n",
       "    }\n",
       "\n",
       "    .dataframe tbody tr th {\n",
       "        vertical-align: top;\n",
       "    }\n",
       "\n",
       "    .dataframe thead th {\n",
       "        text-align: right;\n",
       "    }\n",
       "</style>\n",
       "<table border=\"1\" class=\"dataframe\">\n",
       "  <thead>\n",
       "    <tr style=\"text-align: right;\">\n",
       "      <th></th>\n",
       "      <th>train</th>\n",
       "      <th>valid</th>\n",
       "      <th>test</th>\n",
       "    </tr>\n",
       "  </thead>\n",
       "  <tbody>\n",
       "    <tr>\n",
       "      <th>images</th>\n",
       "      <td>(50000, 32, 32, 3)</td>\n",
       "      <td>(5000, 32, 32, 3)</td>\n",
       "      <td>(5000, 32, 32, 3)</td>\n",
       "    </tr>\n",
       "    <tr>\n",
       "      <th>labels</th>\n",
       "      <td>(50000, 1)</td>\n",
       "      <td>(5000, 1)</td>\n",
       "      <td>(5000, 1)</td>\n",
       "    </tr>\n",
       "    <tr>\n",
       "      <th>encoded labels</th>\n",
       "      <td>(50000, 10)</td>\n",
       "      <td>(5000, 10)</td>\n",
       "      <td>(5000, 10)</td>\n",
       "    </tr>\n",
       "  </tbody>\n",
       "</table>\n",
       "</div>"
      ],
      "text/plain": [
       "                             train              valid               test\n",
       "images          (50000, 32, 32, 3)  (5000, 32, 32, 3)  (5000, 32, 32, 3)\n",
       "labels                  (50000, 1)          (5000, 1)          (5000, 1)\n",
       "encoded labels         (50000, 10)         (5000, 10)         (5000, 10)"
      ]
     },
     "metadata": {},
     "output_type": "display_data"
    }
   ],
   "source": [
    "(x_train2,y_train2),(x_test2,y_test2)=\\\n",
    "tf.keras.datasets.cifar10.load_data()\n",
    "[[x_train2,x_valid2,x_test2],\n",
    " [y_train2,y_valid2,y_test2],\n",
    " [cy_train2,cy_valid2,cy_test2]]=\\\n",
    "prepro(x_train2/255,y_train2,x_test2/255,y_test2,10)"
   ]
  },
  {
   "cell_type": "code",
   "execution_count": 10,
   "metadata": {
    "papermill": {
     "duration": 3.429859,
     "end_time": "2021-01-08T18:39:30.866803",
     "exception": false,
     "start_time": "2021-01-08T18:39:27.436944",
     "status": "completed"
    },
    "tags": []
   },
   "outputs": [
    {
     "data": {
      "text/html": [
       "<div>\n",
       "<style scoped>\n",
       "    .dataframe tbody tr th:only-of-type {\n",
       "        vertical-align: middle;\n",
       "    }\n",
       "\n",
       "    .dataframe tbody tr th {\n",
       "        vertical-align: top;\n",
       "    }\n",
       "\n",
       "    .dataframe thead th {\n",
       "        text-align: right;\n",
       "    }\n",
       "</style>\n",
       "<table border=\"1\" class=\"dataframe\">\n",
       "  <thead>\n",
       "    <tr style=\"text-align: right;\">\n",
       "      <th></th>\n",
       "      <th>train</th>\n",
       "      <th>valid</th>\n",
       "      <th>test</th>\n",
       "    </tr>\n",
       "  </thead>\n",
       "  <tbody>\n",
       "    <tr>\n",
       "      <th>images</th>\n",
       "      <td>(11352, 32, 32, 3)</td>\n",
       "      <td>(1419, 32, 32, 3)</td>\n",
       "      <td>(1419, 32, 32, 3)</td>\n",
       "    </tr>\n",
       "    <tr>\n",
       "      <th>labels</th>\n",
       "      <td>(11352, 1)</td>\n",
       "      <td>(1419, 1)</td>\n",
       "      <td>(1419, 1)</td>\n",
       "    </tr>\n",
       "    <tr>\n",
       "      <th>encoded labels</th>\n",
       "      <td>(11352, 33)</td>\n",
       "      <td>(1419, 33)</td>\n",
       "      <td>(1419, 33)</td>\n",
       "    </tr>\n",
       "  </tbody>\n",
       "</table>\n",
       "</div>"
      ],
      "text/plain": [
       "                             train              valid               test\n",
       "images          (11352, 32, 32, 3)  (1419, 32, 32, 3)  (1419, 32, 32, 3)\n",
       "labels                  (11352, 1)          (1419, 1)          (1419, 1)\n",
       "encoded labels         (11352, 33)         (1419, 33)         (1419, 33)"
      ]
     },
     "metadata": {},
     "output_type": "display_data"
    }
   ],
   "source": [
    "f=h5py.File(fpath3+'LetterColorImages_123.h5','r') \n",
    "keys=list(f.keys()); keys\n",
    "images=np.array(f[keys[1]])/255\n",
    "labels=np.array(f[keys[2]]).astype('int').reshape(-1,1)-1\n",
    "x_train3,x_test3,y_train3,y_test3=\\\n",
    "train_test_split(images,labels,test_size=.2,random_state=1)\n",
    "del images,labels\n",
    "[[x_train3,x_valid3,x_test3],\n",
    " [y_train3,y_valid3,y_test3],\n",
    " [cy_train3,cy_valid3,cy_test3]]=\\\n",
    "prepro(x_train3,y_train3,x_test3,y_test3,33)"
   ]
  },
  {
   "cell_type": "code",
   "execution_count": 11,
   "metadata": {
    "papermill": {
     "duration": 0.519134,
     "end_time": "2021-01-08T18:39:31.435073",
     "exception": false,
     "start_time": "2021-01-08T18:39:30.915939",
     "status": "completed"
    },
    "tags": []
   },
   "outputs": [
    {
     "data": {
      "text/html": [
       "<div>\n",
       "<style scoped>\n",
       "    .dataframe tbody tr th:only-of-type {\n",
       "        vertical-align: middle;\n",
       "    }\n",
       "\n",
       "    .dataframe tbody tr th {\n",
       "        vertical-align: top;\n",
       "    }\n",
       "\n",
       "    .dataframe thead th {\n",
       "        text-align: right;\n",
       "    }\n",
       "</style>\n",
       "<table border=\"1\" class=\"dataframe\">\n",
       "  <thead>\n",
       "    <tr style=\"text-align: right;\">\n",
       "      <th></th>\n",
       "      <th>train</th>\n",
       "      <th>valid</th>\n",
       "      <th>test</th>\n",
       "    </tr>\n",
       "  </thead>\n",
       "  <tbody>\n",
       "    <tr>\n",
       "      <th>images</th>\n",
       "      <td>(168, 128, 128, 3)</td>\n",
       "      <td>(21, 128, 128, 3)</td>\n",
       "      <td>(21, 128, 128, 3)</td>\n",
       "    </tr>\n",
       "    <tr>\n",
       "      <th>labels</th>\n",
       "      <td>(168, 1)</td>\n",
       "      <td>(21, 1)</td>\n",
       "      <td>(21, 1)</td>\n",
       "    </tr>\n",
       "    <tr>\n",
       "      <th>encoded labels</th>\n",
       "      <td>(168, 10)</td>\n",
       "      <td>(21, 10)</td>\n",
       "      <td>(21, 10)</td>\n",
       "    </tr>\n",
       "  </tbody>\n",
       "</table>\n",
       "</div>"
      ],
      "text/plain": [
       "                             train              valid               test\n",
       "images          (168, 128, 128, 3)  (21, 128, 128, 3)  (21, 128, 128, 3)\n",
       "labels                    (168, 1)            (21, 1)            (21, 1)\n",
       "encoded labels           (168, 10)           (21, 10)           (21, 10)"
      ]
     },
     "metadata": {},
     "output_type": "display_data"
    }
   ],
   "source": [
    "f=h5py.File(fpath4+'FlowerColorImages.h5','r') \n",
    "keys=list(f.keys()); keys\n",
    "images=np.array(f[keys[0]])/255\n",
    "labels=np.array(f[keys[1]]).astype('int').reshape(-1,1)\n",
    "x_train4,x_test4,y_train4,y_test4=\\\n",
    "train_test_split(images,labels,test_size=.2,random_state=1)\n",
    "del images,labels\n",
    "[[x_train4,x_valid4,x_test4],\n",
    " [y_train4,y_valid4,y_test4],\n",
    " [cy_train4,cy_valid4,cy_test4]]=\\\n",
    "prepro(x_train4,y_train4,x_test4,y_test4,10)"
   ]
  },
  {
   "cell_type": "code",
   "execution_count": 12,
   "metadata": {
    "_kg_hide-input": true,
    "papermill": {
     "duration": 0.062206,
     "end_time": "2021-01-08T18:39:31.546916",
     "exception": false,
     "start_time": "2021-01-08T18:39:31.484710",
     "status": "completed"
    },
    "tags": []
   },
   "outputs": [
    {
     "data": {
      "text/html": [
       "<div id='html_string3910142.990706476' style='width:100%;'><iframe src='d3header3910142.990706476.html' height=66\n",
       "    style='display:block; width:100%;'></iframe></div>"
      ],
      "text/plain": [
       "<IPython.core.display.HTML object>"
      ]
     },
     "metadata": {},
     "output_type": "display_data"
    },
    {
     "data": {
      "text/html": [
       "<div id='html_string756434.1487640627' style='width:100%;'><iframe src='d3header756434.1487640627.html' height=54\n",
       "    style='display:block; width:100%;'></iframe></div>"
      ],
      "text/plain": [
       "<IPython.core.display.HTML object>"
      ]
     },
     "metadata": {},
     "output_type": "display_data"
    }
   ],
   "source": [
    "%decor_header Models with Adversarial Regularization\n",
    "%decor_header MLP Base|18"
   ]
  },
  {
   "cell_type": "code",
   "execution_count": 13,
   "metadata": {
    "papermill": {
     "duration": 3.338356,
     "end_time": "2021-01-08T18:39:34.938625",
     "exception": false,
     "start_time": "2021-01-08T18:39:31.600269",
     "status": "completed"
    },
    "tags": []
   },
   "outputs": [],
   "source": [
    "batch_size=64; img_size=28; n_class=10; epochs=7\n",
    "base_model=tf.keras.Sequential([\n",
    "    tf.keras.Input((img_size,img_size),name='input'),\n",
    "    tf.keras.layers.Flatten(),\n",
    "    tf.keras.layers.Dense(128,activation=tf.nn.relu),\n",
    "    tf.keras.layers.BatchNormalization(),    \n",
    "    tf.keras.layers.Dense(256,activation=tf.nn.relu),\n",
    "    tf.keras.layers.Dense(n_class,activation=tf.nn.softmax)\n",
    "])\n",
    "adv_config=nsl.configs\\\n",
    ".make_adv_reg_config(multiplier=.2,adv_step_size=.05)\n",
    "adv_model=nsl.keras\\\n",
    ".AdversarialRegularization(base_model,adv_config=adv_config)\n",
    "adv_model.compile(optimizer='adam',\n",
    "                  loss='sparse_categorical_crossentropy',\n",
    "                  metrics=['accuracy'])"
   ]
  },
  {
   "cell_type": "code",
   "execution_count": 14,
   "metadata": {
    "_kg_hide-output": true,
    "papermill": {
     "duration": 48.8533,
     "end_time": "2021-01-08T18:40:23.843288",
     "exception": false,
     "start_time": "2021-01-08T18:39:34.989988",
     "status": "completed"
    },
    "tags": []
   },
   "outputs": [
    {
     "name": "stdout",
     "output_type": "stream",
     "text": [
      "Train for 938 steps, validate for 78 steps\n",
      "Epoch 1/7\n",
      "938/938 - 7s - loss: 0.2659 - sparse_categorical_crossentropy: 0.2140 - sparse_categorical_accuracy: 0.9345 - scaled_adversarial_loss: 0.0519 - val_loss: 0.2147 - val_sparse_categorical_crossentropy: 0.1727 - val_sparse_categorical_accuracy: 0.9433 - val_scaled_adversarial_loss: 0.0419\n",
      "Epoch 2/7\n",
      "938/938 - 5s - loss: 0.1145 - sparse_categorical_crossentropy: 0.0901 - sparse_categorical_accuracy: 0.9722 - scaled_adversarial_loss: 0.0244 - val_loss: 0.1983 - val_sparse_categorical_crossentropy: 0.1592 - val_sparse_categorical_accuracy: 0.9467 - val_scaled_adversarial_loss: 0.0391\n",
      "Epoch 3/7\n",
      "938/938 - 5s - loss: 0.0753 - sparse_categorical_crossentropy: 0.0579 - sparse_categorical_accuracy: 0.9824 - scaled_adversarial_loss: 0.0174 - val_loss: 0.2086 - val_sparse_categorical_crossentropy: 0.1672 - val_sparse_categorical_accuracy: 0.9525 - val_scaled_adversarial_loss: 0.0414\n",
      "Epoch 4/7\n",
      "938/938 - 5s - loss: 0.0521 - sparse_categorical_crossentropy: 0.0391 - sparse_categorical_accuracy: 0.9879 - scaled_adversarial_loss: 0.0130 - val_loss: 0.1745 - val_sparse_categorical_crossentropy: 0.1391 - val_sparse_categorical_accuracy: 0.9603 - val_scaled_adversarial_loss: 0.0353\n",
      "Epoch 5/7\n",
      "938/938 - 5s - loss: 0.0410 - sparse_categorical_crossentropy: 0.0298 - sparse_categorical_accuracy: 0.9901 - scaled_adversarial_loss: 0.0112 - val_loss: 0.1882 - val_sparse_categorical_crossentropy: 0.1503 - val_sparse_categorical_accuracy: 0.9605 - val_scaled_adversarial_loss: 0.0379\n",
      "Epoch 6/7\n",
      "938/938 - 5s - loss: 0.0312 - sparse_categorical_crossentropy: 0.0220 - sparse_categorical_accuracy: 0.9928 - scaled_adversarial_loss: 0.0092 - val_loss: 0.1866 - val_sparse_categorical_crossentropy: 0.1487 - val_sparse_categorical_accuracy: 0.9643 - val_scaled_adversarial_loss: 0.0378\n",
      "Epoch 7/7\n",
      "938/938 - 6s - loss: 0.0277 - sparse_categorical_crossentropy: 0.0190 - sparse_categorical_accuracy: 0.9935 - scaled_adversarial_loss: 0.0087 - val_loss: 0.2084 - val_sparse_categorical_crossentropy: 0.1664 - val_sparse_categorical_accuracy: 0.9615 - val_scaled_adversarial_loss: 0.0419\n"
     ]
    },
    {
     "data": {
      "text/plain": [
       "<tensorflow.python.keras.callbacks.History at 0x7fe7528aaa50>"
      ]
     },
     "execution_count": 14,
     "metadata": {},
     "output_type": "execute_result"
    }
   ],
   "source": [
    "train1=tf.data.Dataset.from_tensor_slices(\n",
    "    {'input':x_train1,'label':y_train1}).batch(batch_size)\n",
    "valid1=tf.data.Dataset.from_tensor_slices(\n",
    "    {'input':x_valid1,'label':y_valid1}).batch(batch_size)\n",
    "valid_steps=x_valid1.shape[0]//batch_size\n",
    "adv_model.fit(train1,validation_data=valid1,verbose=2,\n",
    "              validation_steps=valid_steps,epochs=epochs)"
   ]
  },
  {
   "cell_type": "code",
   "execution_count": 15,
   "metadata": {
    "papermill": {
     "duration": 1.159755,
     "end_time": "2021-01-08T18:40:25.063991",
     "exception": false,
     "start_time": "2021-01-08T18:40:23.904236",
     "status": "completed"
    },
    "tags": []
   },
   "outputs": [
    {
     "name": "stdout",
     "output_type": "stream",
     "text": [
      "5000/5000 [==============================] - 1s 205us/sample - loss: 0.0734 - sparse_categorical_crossentropy: 0.0579 - sparse_categorical_accuracy: 0.9852 - scaled_adversarial_loss: 0.0152\n"
     ]
    },
    {
     "data": {
      "text/plain": [
       "[0.07340541521113628, 0.05789365, 0.9852, 0.015161194]"
      ]
     },
     "execution_count": 15,
     "metadata": {},
     "output_type": "execute_result"
    }
   ],
   "source": [
    "adv_model.evaluate({'input':x_test1,'label':y_test1})"
   ]
  },
  {
   "cell_type": "code",
   "execution_count": 16,
   "metadata": {
    "papermill": {
     "duration": 0.24706,
     "end_time": "2021-01-08T18:40:25.371867",
     "exception": false,
     "start_time": "2021-01-08T18:40:25.124807",
     "status": "completed"
    },
    "tags": []
   },
   "outputs": [],
   "source": [
    "batch_size=64; img_size=32; n_class=10; epochs=7\n",
    "base_model=tf.keras.models.Sequential([\n",
    "        tf.keras.Input((img_size,img_size,3),name='input'),\n",
    "        tf.keras.layers.Flatten(),\n",
    "        tf.keras.layers.Dense(128,activation='relu'),\n",
    "        tf.keras.layers.BatchNormalization(),    \n",
    "        tf.keras.layers.Dense(256,activation='relu'),\n",
    "        tf.keras.layers.BatchNormalization(),    \n",
    "        tf.keras.layers.Dense(512,activation='relu'),\n",
    "        tf.keras.layers.BatchNormalization(),   \n",
    "        tf.keras.layers.Dense(1024,activation='relu'),\n",
    "        tf.keras.layers.Dense(10,activation='softmax')\n",
    "    ])\n",
    "adv_config=nsl.configs\\\n",
    ".make_adv_reg_config(multiplier=.2,adv_step_size=.05)\n",
    "adv_model=nsl.keras\\\n",
    ".AdversarialRegularization(base_model,adv_config=adv_config)\n",
    "adv_model.compile(optimizer='adam',\n",
    "                  loss='sparse_categorical_crossentropy',\n",
    "                  metrics=['accuracy'])"
   ]
  },
  {
   "cell_type": "code",
   "execution_count": 17,
   "metadata": {
    "_kg_hide-output": true,
    "papermill": {
     "duration": 53.545713,
     "end_time": "2021-01-08T18:41:18.989446",
     "exception": false,
     "start_time": "2021-01-08T18:40:25.443733",
     "status": "completed"
    },
    "tags": []
   },
   "outputs": [
    {
     "name": "stdout",
     "output_type": "stream",
     "text": [
      "Train for 782 steps, validate for 78 steps\n",
      "Epoch 1/7\n",
      "782/782 - 9s - loss: 2.1252 - sparse_categorical_crossentropy: 1.7592 - sparse_categorical_accuracy: 0.3885 - scaled_adversarial_loss: 0.3660 - val_loss: 2.1954 - val_sparse_categorical_crossentropy: 1.8207 - val_sparse_categorical_accuracy: 0.3626 - val_scaled_adversarial_loss: 0.3747\n",
      "Epoch 2/7\n",
      "782/782 - 7s - loss: 1.7812 - sparse_categorical_crossentropy: 1.4745 - sparse_categorical_accuracy: 0.4748 - scaled_adversarial_loss: 0.3068 - val_loss: 2.0018 - val_sparse_categorical_crossentropy: 1.6580 - val_sparse_categorical_accuracy: 0.4295 - val_scaled_adversarial_loss: 0.3438\n",
      "Epoch 3/7\n",
      "782/782 - 7s - loss: 1.6452 - sparse_categorical_crossentropy: 1.3600 - sparse_categorical_accuracy: 0.5150 - scaled_adversarial_loss: 0.2852 - val_loss: 1.9839 - val_sparse_categorical_crossentropy: 1.6413 - val_sparse_categorical_accuracy: 0.4229 - val_scaled_adversarial_loss: 0.3426\n",
      "Epoch 4/7\n",
      "782/782 - 7s - loss: 1.5518 - sparse_categorical_crossentropy: 1.2807 - sparse_categorical_accuracy: 0.5405 - scaled_adversarial_loss: 0.2711 - val_loss: 2.2098 - val_sparse_categorical_crossentropy: 1.8268 - val_sparse_categorical_accuracy: 0.3934 - val_scaled_adversarial_loss: 0.3830\n",
      "Epoch 5/7\n",
      "782/782 - 7s - loss: 1.4318 - sparse_categorical_crossentropy: 1.1793 - sparse_categorical_accuracy: 0.5743 - scaled_adversarial_loss: 0.2525 - val_loss: 2.0535 - val_sparse_categorical_crossentropy: 1.6952 - val_sparse_categorical_accuracy: 0.4309 - val_scaled_adversarial_loss: 0.3583\n",
      "Epoch 6/7\n",
      "782/782 - 7s - loss: 1.3017 - sparse_categorical_crossentropy: 1.0694 - sparse_categorical_accuracy: 0.6162 - scaled_adversarial_loss: 0.2323 - val_loss: 2.1352 - val_sparse_categorical_crossentropy: 1.7593 - val_sparse_categorical_accuracy: 0.4377 - val_scaled_adversarial_loss: 0.3759\n",
      "Epoch 7/7\n",
      "782/782 - 7s - loss: 1.1618 - sparse_categorical_crossentropy: 0.9512 - sparse_categorical_accuracy: 0.6605 - scaled_adversarial_loss: 0.2106 - val_loss: 2.1428 - val_sparse_categorical_crossentropy: 1.7629 - val_sparse_categorical_accuracy: 0.4501 - val_scaled_adversarial_loss: 0.3800\n"
     ]
    },
    {
     "data": {
      "text/plain": [
       "<tensorflow.python.keras.callbacks.History at 0x7fe6e004f710>"
      ]
     },
     "execution_count": 17,
     "metadata": {},
     "output_type": "execute_result"
    }
   ],
   "source": [
    "train2=tf.data.Dataset.from_tensor_slices(\n",
    "    {'input':x_train2,'label':y_train2}).batch(batch_size)\n",
    "valid2=tf.data.Dataset.from_tensor_slices(\n",
    "    {'input':x_valid2,'label':y_valid2}).batch(batch_size)\n",
    "valid_steps=x_valid2.shape[0]//batch_size\n",
    "adv_model.fit(train2,validation_data=valid2,verbose=2,\n",
    "              validation_steps=valid_steps,epochs=epochs)"
   ]
  },
  {
   "cell_type": "code",
   "execution_count": 18,
   "metadata": {
    "papermill": {
     "duration": 1.273467,
     "end_time": "2021-01-08T18:41:20.338676",
     "exception": false,
     "start_time": "2021-01-08T18:41:19.065209",
     "status": "completed"
    },
    "tags": []
   },
   "outputs": [
    {
     "name": "stdout",
     "output_type": "stream",
     "text": [
      "5000/5000 [==============================] - 1s 204us/sample - loss: 2.2364 - sparse_categorical_crossentropy: 1.8386 - sparse_categorical_accuracy: 0.4364 - scaled_adversarial_loss: 0.3959\n"
     ]
    },
    {
     "data": {
      "text/plain": [
       "[2.2364123416900634, 1.8385599, 0.4364, 0.39588258]"
      ]
     },
     "execution_count": 18,
     "metadata": {},
     "output_type": "execute_result"
    }
   ],
   "source": [
    "adv_model.evaluate({'input':x_test2,'label':y_test2})"
   ]
  },
  {
   "cell_type": "code",
   "execution_count": 19,
   "metadata": {
    "papermill": {
     "duration": 0.393109,
     "end_time": "2021-01-08T18:41:20.942941",
     "exception": false,
     "start_time": "2021-01-08T18:41:20.549832",
     "status": "completed"
    },
    "tags": []
   },
   "outputs": [],
   "source": [
    "batch_size=128; img_size=32; n_class=33; epochs=100\n",
    "base_model=tf.keras.models.Sequential([\n",
    "        tf.keras.Input((img_size,img_size,3),name='input'),\n",
    "        tf.keras.layers.Flatten(),\n",
    "        tf.keras.layers.Dense(128,activation='relu'),\n",
    "        tf.keras.layers.BatchNormalization(),    \n",
    "        tf.keras.layers.Dense(256,activation='relu'),\n",
    "        tf.keras.layers.BatchNormalization(),    \n",
    "        tf.keras.layers.Dense(512,activation='relu'),\n",
    "        tf.keras.layers.BatchNormalization(),   \n",
    "        tf.keras.layers.Dense(1024,activation='relu'),\n",
    "        tf.keras.layers.Dense(33,activation='softmax')\n",
    "    ])\n",
    "adv_config=nsl.configs\\\n",
    ".make_adv_reg_config(multiplier=.2,adv_step_size=.05)\n",
    "adv_model=nsl.keras\\\n",
    ".AdversarialRegularization(base_model,adv_config=adv_config)\n",
    "adv_model.compile(optimizer='adam',\n",
    "                  loss='sparse_categorical_crossentropy',\n",
    "                  metrics=['accuracy'])"
   ]
  },
  {
   "cell_type": "code",
   "execution_count": 20,
   "metadata": {
    "_kg_hide-output": true,
    "papermill": {
     "duration": 93.878272,
     "end_time": "2021-01-08T18:42:54.926953",
     "exception": false,
     "start_time": "2021-01-08T18:41:21.048681",
     "status": "completed"
    },
    "tags": []
   },
   "outputs": [
    {
     "name": "stdout",
     "output_type": "stream",
     "text": [
      "Train for 89 steps, validate for 11 steps\n",
      "Epoch 1/100\n",
      "89/89 - 4s - loss: 3.3491 - sparse_categorical_crossentropy: 2.7251 - sparse_categorical_accuracy: 0.2359 - scaled_adversarial_loss: 0.6240 - val_loss: 5.6446 - val_sparse_categorical_crossentropy: 4.6884 - val_sparse_categorical_accuracy: 0.0646 - val_scaled_adversarial_loss: 0.9562\n",
      "Epoch 2/100\n",
      "89/89 - 1s - loss: 2.4188 - sparse_categorical_crossentropy: 1.9431 - sparse_categorical_accuracy: 0.4298 - scaled_adversarial_loss: 0.4757 - val_loss: 5.3691 - val_sparse_categorical_crossentropy: 4.4323 - val_sparse_categorical_accuracy: 0.1037 - val_scaled_adversarial_loss: 0.9369\n",
      "Epoch 3/100\n",
      "89/89 - 1s - loss: 1.9682 - sparse_categorical_crossentropy: 1.5671 - sparse_categorical_accuracy: 0.5297 - scaled_adversarial_loss: 0.4011 - val_loss: 4.7054 - val_sparse_categorical_crossentropy: 3.8586 - val_sparse_categorical_accuracy: 0.1875 - val_scaled_adversarial_loss: 0.8467\n",
      "Epoch 4/100\n",
      "89/89 - 1s - loss: 1.6481 - sparse_categorical_crossentropy: 1.3010 - sparse_categorical_accuracy: 0.6042 - scaled_adversarial_loss: 0.3472 - val_loss: 12.8340 - val_sparse_categorical_crossentropy: 10.5858 - val_sparse_categorical_accuracy: 0.0376 - val_scaled_adversarial_loss: 2.2482\n",
      "Epoch 5/100\n",
      "89/89 - 1s - loss: 1.4122 - sparse_categorical_crossentropy: 1.1051 - sparse_categorical_accuracy: 0.6594 - scaled_adversarial_loss: 0.3071 - val_loss: 11.2123 - val_sparse_categorical_crossentropy: 9.2377 - val_sparse_categorical_accuracy: 0.0661 - val_scaled_adversarial_loss: 1.9746\n",
      "Epoch 6/100\n",
      "89/89 - 1s - loss: 1.3210 - sparse_categorical_crossentropy: 1.0281 - sparse_categorical_accuracy: 0.6808 - scaled_adversarial_loss: 0.2929 - val_loss: 6.6119 - val_sparse_categorical_crossentropy: 5.4271 - val_sparse_categorical_accuracy: 0.1300 - val_scaled_adversarial_loss: 1.1848\n",
      "Epoch 7/100\n",
      "89/89 - 1s - loss: 1.1883 - sparse_categorical_crossentropy: 0.9188 - sparse_categorical_accuracy: 0.7099 - scaled_adversarial_loss: 0.2695 - val_loss: 10.2540 - val_sparse_categorical_crossentropy: 8.4476 - val_sparse_categorical_accuracy: 0.1087 - val_scaled_adversarial_loss: 1.8064\n",
      "Epoch 8/100\n",
      "89/89 - 1s - loss: 1.0159 - sparse_categorical_crossentropy: 0.7763 - sparse_categorical_accuracy: 0.7580 - scaled_adversarial_loss: 0.2395 - val_loss: 9.1837 - val_sparse_categorical_crossentropy: 7.5537 - val_sparse_categorical_accuracy: 0.0824 - val_scaled_adversarial_loss: 1.6300\n",
      "Epoch 9/100\n",
      "89/89 - 1s - loss: 0.9418 - sparse_categorical_crossentropy: 0.7139 - sparse_categorical_accuracy: 0.7739 - scaled_adversarial_loss: 0.2279 - val_loss: 13.9546 - val_sparse_categorical_crossentropy: 11.5044 - val_sparse_categorical_accuracy: 0.0547 - val_scaled_adversarial_loss: 2.4502\n",
      "Epoch 10/100\n",
      "89/89 - 1s - loss: 0.8968 - sparse_categorical_crossentropy: 0.6770 - sparse_categorical_accuracy: 0.7837 - scaled_adversarial_loss: 0.2198 - val_loss: 19.5203 - val_sparse_categorical_crossentropy: 16.1141 - val_sparse_categorical_accuracy: 0.0781 - val_scaled_adversarial_loss: 3.4062\n",
      "Epoch 11/100\n",
      "89/89 - 1s - loss: 0.8447 - sparse_categorical_crossentropy: 0.6326 - sparse_categorical_accuracy: 0.7975 - scaled_adversarial_loss: 0.2120 - val_loss: 11.0506 - val_sparse_categorical_crossentropy: 9.0704 - val_sparse_categorical_accuracy: 0.1001 - val_scaled_adversarial_loss: 1.9802\n",
      "Epoch 12/100\n",
      "89/89 - 1s - loss: 0.7134 - sparse_categorical_crossentropy: 0.5271 - sparse_categorical_accuracy: 0.8339 - scaled_adversarial_loss: 0.1863 - val_loss: 13.2201 - val_sparse_categorical_crossentropy: 10.8823 - val_sparse_categorical_accuracy: 0.0803 - val_scaled_adversarial_loss: 2.3378\n",
      "Epoch 13/100\n",
      "89/89 - 1s - loss: 0.6059 - sparse_categorical_crossentropy: 0.4395 - sparse_categorical_accuracy: 0.8632 - scaled_adversarial_loss: 0.1663 - val_loss: 10.5672 - val_sparse_categorical_crossentropy: 8.6766 - val_sparse_categorical_accuracy: 0.1065 - val_scaled_adversarial_loss: 1.8906\n",
      "Epoch 14/100\n",
      "89/89 - 1s - loss: 0.5697 - sparse_categorical_crossentropy: 0.4092 - sparse_categorical_accuracy: 0.8670 - scaled_adversarial_loss: 0.1604 - val_loss: 16.0389 - val_sparse_categorical_crossentropy: 13.2178 - val_sparse_categorical_accuracy: 0.0696 - val_scaled_adversarial_loss: 2.8211\n",
      "Epoch 15/100\n",
      "89/89 - 1s - loss: 0.5625 - sparse_categorical_crossentropy: 0.4013 - sparse_categorical_accuracy: 0.8691 - scaled_adversarial_loss: 0.1612 - val_loss: 23.5825 - val_sparse_categorical_crossentropy: 19.4823 - val_sparse_categorical_accuracy: 0.0582 - val_scaled_adversarial_loss: 4.1002\n",
      "Epoch 16/100\n",
      "89/89 - 1s - loss: 0.5021 - sparse_categorical_crossentropy: 0.3535 - sparse_categorical_accuracy: 0.8863 - scaled_adversarial_loss: 0.1486 - val_loss: 9.4432 - val_sparse_categorical_crossentropy: 7.7331 - val_sparse_categorical_accuracy: 0.1328 - val_scaled_adversarial_loss: 1.7101\n",
      "Epoch 17/100\n",
      "89/89 - 1s - loss: 0.4144 - sparse_categorical_crossentropy: 0.2859 - sparse_categorical_accuracy: 0.9105 - scaled_adversarial_loss: 0.1284 - val_loss: 14.0430 - val_sparse_categorical_crossentropy: 11.5273 - val_sparse_categorical_accuracy: 0.0852 - val_scaled_adversarial_loss: 2.5158\n",
      "Epoch 18/100\n",
      "89/89 - 1s - loss: 0.3814 - sparse_categorical_crossentropy: 0.2596 - sparse_categorical_accuracy: 0.9180 - scaled_adversarial_loss: 0.1218 - val_loss: 12.3912 - val_sparse_categorical_crossentropy: 10.1693 - val_sparse_categorical_accuracy: 0.1129 - val_scaled_adversarial_loss: 2.2218\n",
      "Epoch 19/100\n",
      "89/89 - 1s - loss: 0.3404 - sparse_categorical_crossentropy: 0.2271 - sparse_categorical_accuracy: 0.9318 - scaled_adversarial_loss: 0.1133 - val_loss: 10.1426 - val_sparse_categorical_crossentropy: 8.2996 - val_sparse_categorical_accuracy: 0.1406 - val_scaled_adversarial_loss: 1.8431\n",
      "Epoch 20/100\n",
      "89/89 - 1s - loss: 0.2879 - sparse_categorical_crossentropy: 0.1874 - sparse_categorical_accuracy: 0.9451 - scaled_adversarial_loss: 0.1004 - val_loss: 9.8631 - val_sparse_categorical_crossentropy: 8.0529 - val_sparse_categorical_accuracy: 0.1484 - val_scaled_adversarial_loss: 1.8102\n",
      "Epoch 21/100\n",
      "89/89 - 1s - loss: 0.2549 - sparse_categorical_crossentropy: 0.1614 - sparse_categorical_accuracy: 0.9530 - scaled_adversarial_loss: 0.0936 - val_loss: 10.4123 - val_sparse_categorical_crossentropy: 8.5144 - val_sparse_categorical_accuracy: 0.1506 - val_scaled_adversarial_loss: 1.8978\n",
      "Epoch 22/100\n",
      "89/89 - 1s - loss: 0.2670 - sparse_categorical_crossentropy: 0.1695 - sparse_categorical_accuracy: 0.9499 - scaled_adversarial_loss: 0.0975 - val_loss: 11.3996 - val_sparse_categorical_crossentropy: 9.3521 - val_sparse_categorical_accuracy: 0.1101 - val_scaled_adversarial_loss: 2.0474\n",
      "Epoch 23/100\n",
      "89/89 - 1s - loss: 0.2224 - sparse_categorical_crossentropy: 0.1379 - sparse_categorical_accuracy: 0.9610 - scaled_adversarial_loss: 0.0845 - val_loss: 8.0428 - val_sparse_categorical_crossentropy: 6.5573 - val_sparse_categorical_accuracy: 0.1882 - val_scaled_adversarial_loss: 1.4856\n",
      "Epoch 24/100\n",
      "89/89 - 1s - loss: 0.2095 - sparse_categorical_crossentropy: 0.1274 - sparse_categorical_accuracy: 0.9622 - scaled_adversarial_loss: 0.0821 - val_loss: 14.4069 - val_sparse_categorical_crossentropy: 11.8055 - val_sparse_categorical_accuracy: 0.1222 - val_scaled_adversarial_loss: 2.6013\n",
      "Epoch 25/100\n",
      "89/89 - 1s - loss: 0.1803 - sparse_categorical_crossentropy: 0.1057 - sparse_categorical_accuracy: 0.9704 - scaled_adversarial_loss: 0.0746 - val_loss: 13.5382 - val_sparse_categorical_crossentropy: 11.0786 - val_sparse_categorical_accuracy: 0.1080 - val_scaled_adversarial_loss: 2.4596\n",
      "Epoch 26/100\n",
      "89/89 - 1s - loss: 0.1484 - sparse_categorical_crossentropy: 0.0841 - sparse_categorical_accuracy: 0.9778 - scaled_adversarial_loss: 0.0642 - val_loss: 11.3413 - val_sparse_categorical_crossentropy: 9.2610 - val_sparse_categorical_accuracy: 0.1612 - val_scaled_adversarial_loss: 2.0802\n",
      "Epoch 27/100\n",
      "89/89 - 1s - loss: 0.1281 - sparse_categorical_crossentropy: 0.0696 - sparse_categorical_accuracy: 0.9832 - scaled_adversarial_loss: 0.0585 - val_loss: 10.6536 - val_sparse_categorical_crossentropy: 8.6819 - val_sparse_categorical_accuracy: 0.1712 - val_scaled_adversarial_loss: 1.9717\n",
      "Epoch 28/100\n",
      "89/89 - 1s - loss: 0.1032 - sparse_categorical_crossentropy: 0.0535 - sparse_categorical_accuracy: 0.9882 - scaled_adversarial_loss: 0.0497 - val_loss: 14.1090 - val_sparse_categorical_crossentropy: 11.5490 - val_sparse_categorical_accuracy: 0.1534 - val_scaled_adversarial_loss: 2.5600\n",
      "Epoch 29/100\n",
      "89/89 - 1s - loss: 0.0999 - sparse_categorical_crossentropy: 0.0506 - sparse_categorical_accuracy: 0.9879 - scaled_adversarial_loss: 0.0493 - val_loss: 11.7223 - val_sparse_categorical_crossentropy: 9.5539 - val_sparse_categorical_accuracy: 0.1939 - val_scaled_adversarial_loss: 2.1684\n",
      "Epoch 30/100\n",
      "89/89 - 1s - loss: 0.1029 - sparse_categorical_crossentropy: 0.0539 - sparse_categorical_accuracy: 0.9867 - scaled_adversarial_loss: 0.0490 - val_loss: 7.5334 - val_sparse_categorical_crossentropy: 6.1023 - val_sparse_categorical_accuracy: 0.2770 - val_scaled_adversarial_loss: 1.4311\n",
      "Epoch 31/100\n",
      "89/89 - 1s - loss: 0.0798 - sparse_categorical_crossentropy: 0.0374 - sparse_categorical_accuracy: 0.9930 - scaled_adversarial_loss: 0.0424 - val_loss: 9.7470 - val_sparse_categorical_crossentropy: 7.9224 - val_sparse_categorical_accuracy: 0.1818 - val_scaled_adversarial_loss: 1.8246\n",
      "Epoch 32/100\n",
      "89/89 - 1s - loss: 0.0712 - sparse_categorical_crossentropy: 0.0319 - sparse_categorical_accuracy: 0.9940 - scaled_adversarial_loss: 0.0394 - val_loss: 9.6641 - val_sparse_categorical_crossentropy: 7.8477 - val_sparse_categorical_accuracy: 0.2202 - val_scaled_adversarial_loss: 1.8164\n",
      "Epoch 33/100\n",
      "89/89 - 1s - loss: 0.0843 - sparse_categorical_crossentropy: 0.0416 - sparse_categorical_accuracy: 0.9898 - scaled_adversarial_loss: 0.0428 - val_loss: 16.8121 - val_sparse_categorical_crossentropy: 13.7856 - val_sparse_categorical_accuracy: 0.1357 - val_scaled_adversarial_loss: 3.0265\n",
      "Epoch 34/100\n",
      "89/89 - 1s - loss: 0.0954 - sparse_categorical_crossentropy: 0.0479 - sparse_categorical_accuracy: 0.9862 - scaled_adversarial_loss: 0.0475 - val_loss: 10.0206 - val_sparse_categorical_crossentropy: 8.1743 - val_sparse_categorical_accuracy: 0.1491 - val_scaled_adversarial_loss: 1.8463\n",
      "Epoch 35/100\n",
      "89/89 - 1s - loss: 0.0777 - sparse_categorical_crossentropy: 0.0357 - sparse_categorical_accuracy: 0.9912 - scaled_adversarial_loss: 0.0420 - val_loss: 10.1758 - val_sparse_categorical_crossentropy: 8.2750 - val_sparse_categorical_accuracy: 0.1712 - val_scaled_adversarial_loss: 1.9008\n",
      "Epoch 36/100\n",
      "89/89 - 1s - loss: 0.0781 - sparse_categorical_crossentropy: 0.0368 - sparse_categorical_accuracy: 0.9908 - scaled_adversarial_loss: 0.0413 - val_loss: 9.6521 - val_sparse_categorical_crossentropy: 7.8558 - val_sparse_categorical_accuracy: 0.2131 - val_scaled_adversarial_loss: 1.7963\n",
      "Epoch 37/100\n",
      "89/89 - 1s - loss: 0.0748 - sparse_categorical_crossentropy: 0.0355 - sparse_categorical_accuracy: 0.9917 - scaled_adversarial_loss: 0.0394 - val_loss: 11.2089 - val_sparse_categorical_crossentropy: 9.1371 - val_sparse_categorical_accuracy: 0.1705 - val_scaled_adversarial_loss: 2.0718\n",
      "Epoch 38/100\n",
      "89/89 - 1s - loss: 0.0723 - sparse_categorical_crossentropy: 0.0342 - sparse_categorical_accuracy: 0.9914 - scaled_adversarial_loss: 0.0381 - val_loss: 13.5869 - val_sparse_categorical_crossentropy: 11.0784 - val_sparse_categorical_accuracy: 0.1705 - val_scaled_adversarial_loss: 2.5085\n",
      "Epoch 39/100\n",
      "89/89 - 1s - loss: 0.0854 - sparse_categorical_crossentropy: 0.0414 - sparse_categorical_accuracy: 0.9883 - scaled_adversarial_loss: 0.0440 - val_loss: 13.6067 - val_sparse_categorical_crossentropy: 11.1045 - val_sparse_categorical_accuracy: 0.1776 - val_scaled_adversarial_loss: 2.5022\n",
      "Epoch 40/100\n",
      "89/89 - 1s - loss: 0.0919 - sparse_categorical_crossentropy: 0.0447 - sparse_categorical_accuracy: 0.9866 - scaled_adversarial_loss: 0.0472 - val_loss: 22.3530 - val_sparse_categorical_crossentropy: 18.3190 - val_sparse_categorical_accuracy: 0.1200 - val_scaled_adversarial_loss: 4.0341\n",
      "Epoch 41/100\n",
      "89/89 - 1s - loss: 0.1434 - sparse_categorical_crossentropy: 0.0784 - sparse_categorical_accuracy: 0.9782 - scaled_adversarial_loss: 0.0650 - val_loss: 8.9687 - val_sparse_categorical_crossentropy: 7.2859 - val_sparse_categorical_accuracy: 0.2074 - val_scaled_adversarial_loss: 1.6828\n",
      "Epoch 42/100\n",
      "89/89 - 1s - loss: 0.1311 - sparse_categorical_crossentropy: 0.0675 - sparse_categorical_accuracy: 0.9775 - scaled_adversarial_loss: 0.0635 - val_loss: 13.4403 - val_sparse_categorical_crossentropy: 10.9909 - val_sparse_categorical_accuracy: 0.1463 - val_scaled_adversarial_loss: 2.4494\n",
      "Epoch 43/100\n",
      "89/89 - 1s - loss: 0.1336 - sparse_categorical_crossentropy: 0.0716 - sparse_categorical_accuracy: 0.9774 - scaled_adversarial_loss: 0.0620 - val_loss: 11.0530 - val_sparse_categorical_crossentropy: 9.0113 - val_sparse_categorical_accuracy: 0.1761 - val_scaled_adversarial_loss: 2.0417\n",
      "Epoch 44/100\n",
      "89/89 - 1s - loss: 0.0998 - sparse_categorical_crossentropy: 0.0493 - sparse_categorical_accuracy: 0.9871 - scaled_adversarial_loss: 0.0505 - val_loss: 12.2088 - val_sparse_categorical_crossentropy: 9.9490 - val_sparse_categorical_accuracy: 0.2045 - val_scaled_adversarial_loss: 2.2598\n",
      "Epoch 45/100\n",
      "89/89 - 1s - loss: 0.0661 - sparse_categorical_crossentropy: 0.0294 - sparse_categorical_accuracy: 0.9927 - scaled_adversarial_loss: 0.0366 - val_loss: 13.9098 - val_sparse_categorical_crossentropy: 11.3178 - val_sparse_categorical_accuracy: 0.2223 - val_scaled_adversarial_loss: 2.5921\n",
      "Epoch 46/100\n",
      "89/89 - 1s - loss: 0.0650 - sparse_categorical_crossentropy: 0.0291 - sparse_categorical_accuracy: 0.9920 - scaled_adversarial_loss: 0.0359 - val_loss: 15.8224 - val_sparse_categorical_crossentropy: 12.9271 - val_sparse_categorical_accuracy: 0.1747 - val_scaled_adversarial_loss: 2.8954\n",
      "Epoch 47/100\n",
      "89/89 - 1s - loss: 0.0663 - sparse_categorical_crossentropy: 0.0284 - sparse_categorical_accuracy: 0.9915 - scaled_adversarial_loss: 0.0378 - val_loss: 22.4125 - val_sparse_categorical_crossentropy: 18.3948 - val_sparse_categorical_accuracy: 0.1250 - val_scaled_adversarial_loss: 4.0178\n",
      "Epoch 48/100\n",
      "89/89 - 1s - loss: 0.0528 - sparse_categorical_crossentropy: 0.0207 - sparse_categorical_accuracy: 0.9945 - scaled_adversarial_loss: 0.0321 - val_loss: 16.6357 - val_sparse_categorical_crossentropy: 13.5861 - val_sparse_categorical_accuracy: 0.1321 - val_scaled_adversarial_loss: 3.0496\n",
      "Epoch 49/100\n",
      "89/89 - 1s - loss: 0.0392 - sparse_categorical_crossentropy: 0.0135 - sparse_categorical_accuracy: 0.9968 - scaled_adversarial_loss: 0.0258 - val_loss: 11.0098 - val_sparse_categorical_crossentropy: 8.9734 - val_sparse_categorical_accuracy: 0.2266 - val_scaled_adversarial_loss: 2.0365\n",
      "Epoch 50/100\n",
      "89/89 - 1s - loss: 0.0345 - sparse_categorical_crossentropy: 0.0117 - sparse_categorical_accuracy: 0.9972 - scaled_adversarial_loss: 0.0228 - val_loss: 11.2601 - val_sparse_categorical_crossentropy: 9.1376 - val_sparse_categorical_accuracy: 0.2322 - val_scaled_adversarial_loss: 2.1224\n",
      "Epoch 51/100\n",
      "89/89 - 1s - loss: 0.0386 - sparse_categorical_crossentropy: 0.0135 - sparse_categorical_accuracy: 0.9967 - scaled_adversarial_loss: 0.0252 - val_loss: 13.4133 - val_sparse_categorical_crossentropy: 10.9233 - val_sparse_categorical_accuracy: 0.2287 - val_scaled_adversarial_loss: 2.4899\n",
      "Epoch 52/100\n",
      "89/89 - 1s - loss: 0.0333 - sparse_categorical_crossentropy: 0.0108 - sparse_categorical_accuracy: 0.9974 - scaled_adversarial_loss: 0.0224 - val_loss: 10.2644 - val_sparse_categorical_crossentropy: 8.3214 - val_sparse_categorical_accuracy: 0.2763 - val_scaled_adversarial_loss: 1.9430\n",
      "Epoch 53/100\n",
      "89/89 - 1s - loss: 0.0348 - sparse_categorical_crossentropy: 0.0129 - sparse_categorical_accuracy: 0.9968 - scaled_adversarial_loss: 0.0219 - val_loss: 12.5609 - val_sparse_categorical_crossentropy: 10.2090 - val_sparse_categorical_accuracy: 0.2486 - val_scaled_adversarial_loss: 2.3519\n",
      "Epoch 54/100\n",
      "89/89 - 1s - loss: 0.0566 - sparse_categorical_crossentropy: 0.0255 - sparse_categorical_accuracy: 0.9933 - scaled_adversarial_loss: 0.0311 - val_loss: 24.5470 - val_sparse_categorical_crossentropy: 20.1722 - val_sparse_categorical_accuracy: 0.0959 - val_scaled_adversarial_loss: 4.3748\n",
      "Epoch 55/100\n",
      "89/89 - 1s - loss: 0.1171 - sparse_categorical_crossentropy: 0.0617 - sparse_categorical_accuracy: 0.9820 - scaled_adversarial_loss: 0.0553 - val_loss: 15.1099 - val_sparse_categorical_crossentropy: 12.3285 - val_sparse_categorical_accuracy: 0.1832 - val_scaled_adversarial_loss: 2.7814\n",
      "Epoch 56/100\n",
      "89/89 - 1s - loss: 0.1864 - sparse_categorical_crossentropy: 0.1048 - sparse_categorical_accuracy: 0.9653 - scaled_adversarial_loss: 0.0816 - val_loss: 18.4559 - val_sparse_categorical_crossentropy: 15.0728 - val_sparse_categorical_accuracy: 0.2173 - val_scaled_adversarial_loss: 3.3831\n",
      "Epoch 57/100\n",
      "89/89 - 1s - loss: 0.2651 - sparse_categorical_crossentropy: 0.1589 - sparse_categorical_accuracy: 0.9526 - scaled_adversarial_loss: 0.1061 - val_loss: 10.8551 - val_sparse_categorical_crossentropy: 8.8043 - val_sparse_categorical_accuracy: 0.1896 - val_scaled_adversarial_loss: 2.0508\n",
      "Epoch 58/100\n",
      "89/89 - 1s - loss: 0.2335 - sparse_categorical_crossentropy: 0.1389 - sparse_categorical_accuracy: 0.9567 - scaled_adversarial_loss: 0.0947 - val_loss: 9.3212 - val_sparse_categorical_crossentropy: 7.5469 - val_sparse_categorical_accuracy: 0.2351 - val_scaled_adversarial_loss: 1.7743\n",
      "Epoch 59/100\n",
      "89/89 - 1s - loss: 0.1359 - sparse_categorical_crossentropy: 0.0738 - sparse_categorical_accuracy: 0.9774 - scaled_adversarial_loss: 0.0621 - val_loss: 14.4188 - val_sparse_categorical_crossentropy: 11.7382 - val_sparse_categorical_accuracy: 0.1797 - val_scaled_adversarial_loss: 2.6806\n",
      "Epoch 60/100\n",
      "89/89 - 1s - loss: 0.0857 - sparse_categorical_crossentropy: 0.0409 - sparse_categorical_accuracy: 0.9869 - scaled_adversarial_loss: 0.0449 - val_loss: 21.6962 - val_sparse_categorical_crossentropy: 17.7831 - val_sparse_categorical_accuracy: 0.1719 - val_scaled_adversarial_loss: 3.9131\n",
      "Epoch 61/100\n",
      "89/89 - 1s - loss: 0.0463 - sparse_categorical_crossentropy: 0.0194 - sparse_categorical_accuracy: 0.9945 - scaled_adversarial_loss: 0.0269 - val_loss: 8.5187 - val_sparse_categorical_crossentropy: 6.8452 - val_sparse_categorical_accuracy: 0.3210 - val_scaled_adversarial_loss: 1.6735\n",
      "Epoch 62/100\n",
      "89/89 - 1s - loss: 0.0289 - sparse_categorical_crossentropy: 0.0096 - sparse_categorical_accuracy: 0.9982 - scaled_adversarial_loss: 0.0192 - val_loss: 5.5009 - val_sparse_categorical_crossentropy: 4.3928 - val_sparse_categorical_accuracy: 0.4141 - val_scaled_adversarial_loss: 1.1081\n",
      "Epoch 63/100\n",
      "89/89 - 1s - loss: 0.0173 - sparse_categorical_crossentropy: 0.0043 - sparse_categorical_accuracy: 0.9993 - scaled_adversarial_loss: 0.0130 - val_loss: 7.6825 - val_sparse_categorical_crossentropy: 6.1592 - val_sparse_categorical_accuracy: 0.3729 - val_scaled_adversarial_loss: 1.5233\n",
      "Epoch 64/100\n",
      "89/89 - 1s - loss: 0.0093 - sparse_categorical_crossentropy: 0.0016 - sparse_categorical_accuracy: 0.9999 - scaled_adversarial_loss: 0.0077 - val_loss: 5.9770 - val_sparse_categorical_crossentropy: 4.7385 - val_sparse_categorical_accuracy: 0.4553 - val_scaled_adversarial_loss: 1.2384\n",
      "Epoch 65/100\n",
      "89/89 - 1s - loss: 0.0054 - sparse_categorical_crossentropy: 7.2444e-04 - sparse_categorical_accuracy: 1.0000 - scaled_adversarial_loss: 0.0047 - val_loss: 4.0766 - val_sparse_categorical_crossentropy: 3.1900 - val_sparse_categorical_accuracy: 0.5611 - val_scaled_adversarial_loss: 0.8866\n",
      "Epoch 66/100\n",
      "89/89 - 1s - loss: 0.0030 - sparse_categorical_crossentropy: 4.3762e-04 - sparse_categorical_accuracy: 1.0000 - scaled_adversarial_loss: 0.0025 - val_loss: 3.7867 - val_sparse_categorical_crossentropy: 2.9379 - val_sparse_categorical_accuracy: 0.5980 - val_scaled_adversarial_loss: 0.8488\n",
      "Epoch 67/100\n",
      "89/89 - 1s - loss: 0.0019 - sparse_categorical_crossentropy: 2.8805e-04 - sparse_categorical_accuracy: 1.0000 - scaled_adversarial_loss: 0.0016 - val_loss: 3.0474 - val_sparse_categorical_crossentropy: 2.3377 - val_sparse_categorical_accuracy: 0.6562 - val_scaled_adversarial_loss: 0.7097\n",
      "Epoch 68/100\n",
      "89/89 - 1s - loss: 0.0012 - sparse_categorical_crossentropy: 1.9841e-04 - sparse_categorical_accuracy: 1.0000 - scaled_adversarial_loss: 9.9410e-04 - val_loss: 2.6400 - val_sparse_categorical_crossentropy: 2.0150 - val_sparse_categorical_accuracy: 0.6811 - val_scaled_adversarial_loss: 0.6250\n",
      "Epoch 69/100\n",
      "89/89 - 1s - loss: 8.2954e-04 - sparse_categorical_crossentropy: 1.5053e-04 - sparse_categorical_accuracy: 1.0000 - scaled_adversarial_loss: 6.7900e-04 - val_loss: 2.5076 - val_sparse_categorical_crossentropy: 1.9103 - val_sparse_categorical_accuracy: 0.6911 - val_scaled_adversarial_loss: 0.5973\n",
      "Epoch 70/100\n",
      "89/89 - 1s - loss: 6.5158e-04 - sparse_categorical_crossentropy: 1.2443e-04 - sparse_categorical_accuracy: 1.0000 - scaled_adversarial_loss: 5.2713e-04 - val_loss: 2.3437 - val_sparse_categorical_crossentropy: 1.7810 - val_sparse_categorical_accuracy: 0.7124 - val_scaled_adversarial_loss: 0.5627\n",
      "Epoch 71/100\n",
      "89/89 - 1s - loss: 5.3279e-04 - sparse_categorical_crossentropy: 1.0672e-04 - sparse_categorical_accuracy: 1.0000 - scaled_adversarial_loss: 4.2606e-04 - val_loss: 2.2110 - val_sparse_categorical_crossentropy: 1.6764 - val_sparse_categorical_accuracy: 0.7244 - val_scaled_adversarial_loss: 0.5346\n",
      "Epoch 72/100\n",
      "89/89 - 2s - loss: 4.6099e-04 - sparse_categorical_crossentropy: 9.4500e-05 - sparse_categorical_accuracy: 1.0000 - scaled_adversarial_loss: 3.6648e-04 - val_loss: 2.1700 - val_sparse_categorical_crossentropy: 1.6442 - val_sparse_categorical_accuracy: 0.7287 - val_scaled_adversarial_loss: 0.5258\n",
      "Epoch 73/100\n",
      "89/89 - 1s - loss: 4.1335e-04 - sparse_categorical_crossentropy: 8.5550e-05 - sparse_categorical_accuracy: 1.0000 - scaled_adversarial_loss: 3.2779e-04 - val_loss: 2.1516 - val_sparse_categorical_crossentropy: 1.6297 - val_sparse_categorical_accuracy: 0.7351 - val_scaled_adversarial_loss: 0.5219\n",
      "Epoch 74/100\n",
      "89/89 - 1s - loss: 3.7667e-04 - sparse_categorical_crossentropy: 7.8304e-05 - sparse_categorical_accuracy: 1.0000 - scaled_adversarial_loss: 2.9836e-04 - val_loss: 2.1465 - val_sparse_categorical_crossentropy: 1.6255 - val_sparse_categorical_accuracy: 0.7358 - val_scaled_adversarial_loss: 0.5210\n",
      "Epoch 75/100\n",
      "89/89 - 1s - loss: 3.4696e-04 - sparse_categorical_crossentropy: 7.2242e-05 - sparse_categorical_accuracy: 1.0000 - scaled_adversarial_loss: 2.7471e-04 - val_loss: 2.1424 - val_sparse_categorical_crossentropy: 1.6222 - val_sparse_categorical_accuracy: 0.7379 - val_scaled_adversarial_loss: 0.5202\n",
      "Epoch 76/100\n",
      "89/89 - 1s - loss: 3.2182e-04 - sparse_categorical_crossentropy: 6.6987e-05 - sparse_categorical_accuracy: 1.0000 - scaled_adversarial_loss: 2.5483e-04 - val_loss: 2.1438 - val_sparse_categorical_crossentropy: 1.6232 - val_sparse_categorical_accuracy: 0.7386 - val_scaled_adversarial_loss: 0.5206\n",
      "Epoch 77/100\n",
      "89/89 - 1s - loss: 3.0011e-04 - sparse_categorical_crossentropy: 6.2408e-05 - sparse_categorical_accuracy: 1.0000 - scaled_adversarial_loss: 2.3770e-04 - val_loss: 2.1435 - val_sparse_categorical_crossentropy: 1.6229 - val_sparse_categorical_accuracy: 0.7379 - val_scaled_adversarial_loss: 0.5206\n",
      "Epoch 78/100\n",
      "89/89 - 1s - loss: 2.8076e-04 - sparse_categorical_crossentropy: 5.8302e-05 - sparse_categorical_accuracy: 1.0000 - scaled_adversarial_loss: 2.2245e-04 - val_loss: 2.1448 - val_sparse_categorical_crossentropy: 1.6236 - val_sparse_categorical_accuracy: 0.7386 - val_scaled_adversarial_loss: 0.5211\n",
      "Epoch 79/100\n",
      "89/89 - 1s - loss: 2.6409e-04 - sparse_categorical_crossentropy: 5.4665e-05 - sparse_categorical_accuracy: 1.0000 - scaled_adversarial_loss: 2.0942e-04 - val_loss: 2.1498 - val_sparse_categorical_crossentropy: 1.6274 - val_sparse_categorical_accuracy: 0.7393 - val_scaled_adversarial_loss: 0.5223\n",
      "Epoch 80/100\n",
      "89/89 - 1s - loss: 2.4871e-04 - sparse_categorical_crossentropy: 5.1344e-05 - sparse_categorical_accuracy: 1.0000 - scaled_adversarial_loss: 1.9737e-04 - val_loss: 2.1501 - val_sparse_categorical_crossentropy: 1.6275 - val_sparse_categorical_accuracy: 0.7393 - val_scaled_adversarial_loss: 0.5226\n",
      "Epoch 81/100\n",
      "89/89 - 1s - loss: 2.3470e-04 - sparse_categorical_crossentropy: 4.8325e-05 - sparse_categorical_accuracy: 1.0000 - scaled_adversarial_loss: 1.8637e-04 - val_loss: 2.1532 - val_sparse_categorical_crossentropy: 1.6297 - val_sparse_categorical_accuracy: 0.7422 - val_scaled_adversarial_loss: 0.5235\n",
      "Epoch 82/100\n",
      "89/89 - 1s - loss: 2.2178e-04 - sparse_categorical_crossentropy: 4.5541e-05 - sparse_categorical_accuracy: 1.0000 - scaled_adversarial_loss: 1.7623e-04 - val_loss: 2.1560 - val_sparse_categorical_crossentropy: 1.6317 - val_sparse_categorical_accuracy: 0.7415 - val_scaled_adversarial_loss: 0.5243\n",
      "Epoch 83/100\n",
      "89/89 - 1s - loss: 2.0992e-04 - sparse_categorical_crossentropy: 4.3011e-05 - sparse_categorical_accuracy: 1.0000 - scaled_adversarial_loss: 1.6691e-04 - val_loss: 2.1598 - val_sparse_categorical_crossentropy: 1.6346 - val_sparse_categorical_accuracy: 0.7422 - val_scaled_adversarial_loss: 0.5252\n",
      "Epoch 84/100\n",
      "89/89 - 1s - loss: 1.9910e-04 - sparse_categorical_crossentropy: 4.0665e-05 - sparse_categorical_accuracy: 1.0000 - scaled_adversarial_loss: 1.5843e-04 - val_loss: 2.1650 - val_sparse_categorical_crossentropy: 1.6384 - val_sparse_categorical_accuracy: 0.7422 - val_scaled_adversarial_loss: 0.5266\n",
      "Epoch 85/100\n",
      "89/89 - 1s - loss: 1.8893e-04 - sparse_categorical_crossentropy: 3.8480e-05 - sparse_categorical_accuracy: 1.0000 - scaled_adversarial_loss: 1.5045e-04 - val_loss: 2.1684 - val_sparse_categorical_crossentropy: 1.6409 - val_sparse_categorical_accuracy: 0.7415 - val_scaled_adversarial_loss: 0.5275\n",
      "Epoch 86/100\n",
      "89/89 - 1s - loss: 1.7946e-04 - sparse_categorical_crossentropy: 3.6454e-05 - sparse_categorical_accuracy: 1.0000 - scaled_adversarial_loss: 1.4301e-04 - val_loss: 2.1717 - val_sparse_categorical_crossentropy: 1.6433 - val_sparse_categorical_accuracy: 0.7408 - val_scaled_adversarial_loss: 0.5284\n",
      "Epoch 87/100\n",
      "89/89 - 1s - loss: 1.7054e-04 - sparse_categorical_crossentropy: 3.4556e-05 - sparse_categorical_accuracy: 1.0000 - scaled_adversarial_loss: 1.3598e-04 - val_loss: 2.1751 - val_sparse_categorical_crossentropy: 1.6456 - val_sparse_categorical_accuracy: 0.7401 - val_scaled_adversarial_loss: 0.5294\n",
      "Epoch 88/100\n",
      "89/89 - 1s - loss: 1.6235e-04 - sparse_categorical_crossentropy: 3.2789e-05 - sparse_categorical_accuracy: 1.0000 - scaled_adversarial_loss: 1.2956e-04 - val_loss: 2.1796 - val_sparse_categorical_crossentropy: 1.6490 - val_sparse_categorical_accuracy: 0.7408 - val_scaled_adversarial_loss: 0.5306\n",
      "Epoch 89/100\n",
      "89/89 - 1s - loss: 1.5474e-04 - sparse_categorical_crossentropy: 3.1136e-05 - sparse_categorical_accuracy: 1.0000 - scaled_adversarial_loss: 1.2360e-04 - val_loss: 2.1842 - val_sparse_categorical_crossentropy: 1.6524 - val_sparse_categorical_accuracy: 0.7408 - val_scaled_adversarial_loss: 0.5318\n",
      "Epoch 90/100\n",
      "89/89 - 1s - loss: 1.4762e-04 - sparse_categorical_crossentropy: 2.9597e-05 - sparse_categorical_accuracy: 1.0000 - scaled_adversarial_loss: 1.1802e-04 - val_loss: 2.1887 - val_sparse_categorical_crossentropy: 1.6558 - val_sparse_categorical_accuracy: 0.7408 - val_scaled_adversarial_loss: 0.5329\n",
      "Epoch 91/100\n",
      "89/89 - 1s - loss: 1.4078e-04 - sparse_categorical_crossentropy: 2.8146e-05 - sparse_categorical_accuracy: 1.0000 - scaled_adversarial_loss: 1.1263e-04 - val_loss: 2.1925 - val_sparse_categorical_crossentropy: 1.6586 - val_sparse_categorical_accuracy: 0.7408 - val_scaled_adversarial_loss: 0.5339\n",
      "Epoch 92/100\n",
      "89/89 - 1s - loss: 1.3448e-04 - sparse_categorical_crossentropy: 2.6774e-05 - sparse_categorical_accuracy: 1.0000 - scaled_adversarial_loss: 1.0771e-04 - val_loss: 2.1967 - val_sparse_categorical_crossentropy: 1.6615 - val_sparse_categorical_accuracy: 0.7422 - val_scaled_adversarial_loss: 0.5351\n",
      "Epoch 93/100\n",
      "89/89 - 1s - loss: 1.2843e-04 - sparse_categorical_crossentropy: 2.5479e-05 - sparse_categorical_accuracy: 1.0000 - scaled_adversarial_loss: 1.0295e-04 - val_loss: 2.2004 - val_sparse_categorical_crossentropy: 1.6643 - val_sparse_categorical_accuracy: 0.7415 - val_scaled_adversarial_loss: 0.5362\n",
      "Epoch 94/100\n",
      "89/89 - 1s - loss: 1.2283e-04 - sparse_categorical_crossentropy: 2.4261e-05 - sparse_categorical_accuracy: 1.0000 - scaled_adversarial_loss: 9.8569e-05 - val_loss: 2.2050 - val_sparse_categorical_crossentropy: 1.6676 - val_sparse_categorical_accuracy: 0.7415 - val_scaled_adversarial_loss: 0.5374\n",
      "Epoch 95/100\n",
      "89/89 - 1s - loss: 1.1739e-04 - sparse_categorical_crossentropy: 2.3105e-05 - sparse_categorical_accuracy: 1.0000 - scaled_adversarial_loss: 9.4286e-05 - val_loss: 2.2090 - val_sparse_categorical_crossentropy: 1.6705 - val_sparse_categorical_accuracy: 0.7415 - val_scaled_adversarial_loss: 0.5384\n",
      "Epoch 96/100\n",
      "89/89 - 1s - loss: 1.1224e-04 - sparse_categorical_crossentropy: 2.2010e-05 - sparse_categorical_accuracy: 1.0000 - scaled_adversarial_loss: 9.0229e-05 - val_loss: 2.2135 - val_sparse_categorical_crossentropy: 1.6739 - val_sparse_categorical_accuracy: 0.7415 - val_scaled_adversarial_loss: 0.5397\n",
      "Epoch 97/100\n",
      "89/89 - 1s - loss: 1.0733e-04 - sparse_categorical_crossentropy: 2.0977e-05 - sparse_categorical_accuracy: 1.0000 - scaled_adversarial_loss: 8.6347e-05 - val_loss: 2.2188 - val_sparse_categorical_crossentropy: 1.6777 - val_sparse_categorical_accuracy: 0.7422 - val_scaled_adversarial_loss: 0.5410\n",
      "Epoch 98/100\n",
      "89/89 - 1s - loss: 1.0262e-04 - sparse_categorical_crossentropy: 1.9998e-05 - sparse_categorical_accuracy: 1.0000 - scaled_adversarial_loss: 8.2622e-05 - val_loss: 2.2228 - val_sparse_categorical_crossentropy: 1.6807 - val_sparse_categorical_accuracy: 0.7408 - val_scaled_adversarial_loss: 0.5421\n",
      "Epoch 99/100\n",
      "89/89 - 1s - loss: 9.8243e-05 - sparse_categorical_crossentropy: 1.9068e-05 - sparse_categorical_accuracy: 1.0000 - scaled_adversarial_loss: 7.9174e-05 - val_loss: 2.2272 - val_sparse_categorical_crossentropy: 1.6839 - val_sparse_categorical_accuracy: 0.7415 - val_scaled_adversarial_loss: 0.5433\n",
      "Epoch 100/100\n",
      "89/89 - 1s - loss: 9.3931e-05 - sparse_categorical_crossentropy: 1.8180e-05 - sparse_categorical_accuracy: 1.0000 - scaled_adversarial_loss: 7.5749e-05 - val_loss: 2.2321 - val_sparse_categorical_crossentropy: 1.6876 - val_sparse_categorical_accuracy: 0.7401 - val_scaled_adversarial_loss: 0.5445\n"
     ]
    },
    {
     "data": {
      "text/plain": [
       "<tensorflow.python.keras.callbacks.History at 0x7fe270f41550>"
      ]
     },
     "execution_count": 20,
     "metadata": {},
     "output_type": "execute_result"
    }
   ],
   "source": [
    "train3=tf.data.Dataset.from_tensor_slices(\n",
    "    {'input':x_train3,'label':y_train3}).batch(batch_size)\n",
    "valid3=tf.data.Dataset.from_tensor_slices(\n",
    "    {'input':x_valid3,'label':y_valid3}).batch(batch_size)\n",
    "valid_steps=x_valid3.shape[0]//batch_size\n",
    "adv_model.fit(train3,validation_data=valid3,verbose=2,\n",
    "              validation_steps=valid_steps,epochs=epochs)"
   ]
  },
  {
   "cell_type": "code",
   "execution_count": 21,
   "metadata": {
    "papermill": {
     "duration": 0.772819,
     "end_time": "2021-01-08T18:42:55.838315",
     "exception": false,
     "start_time": "2021-01-08T18:42:55.065496",
     "status": "completed"
    },
    "tags": []
   },
   "outputs": [
    {
     "name": "stdout",
     "output_type": "stream",
     "text": [
      "1419/1419 [==============================] - 1s 417us/sample - loss: 2.2422 - sparse_categorical_crossentropy: 1.6914 - sparse_categorical_accuracy: 0.7357 - scaled_adversarial_loss: 0.5428\n"
     ]
    },
    {
     "data": {
      "text/plain": [
       "[2.2422102609934145, 1.6914164, 0.7357294, 0.5428185]"
      ]
     },
     "execution_count": 21,
     "metadata": {},
     "output_type": "execute_result"
    }
   ],
   "source": [
    "adv_model.evaluate({'input':x_test3,'label':y_test3})"
   ]
  },
  {
   "cell_type": "code",
   "execution_count": 22,
   "metadata": {
    "papermill": {
     "duration": 0.32657,
     "end_time": "2021-01-08T18:42:56.306132",
     "exception": false,
     "start_time": "2021-01-08T18:42:55.979562",
     "status": "completed"
    },
    "tags": []
   },
   "outputs": [],
   "source": [
    "batch_size=16; img_size=128; n_class=10; epochs=100\n",
    "base_model=tf.keras.models.Sequential([\n",
    "        tf.keras.Input((img_size,img_size,3),name='input'),\n",
    "        tf.keras.layers.Flatten(),\n",
    "        tf.keras.layers.Dense(128,activation='relu'),\n",
    "        tf.keras.layers.BatchNormalization(),    \n",
    "        tf.keras.layers.Dense(128,activation='relu'),\n",
    "        tf.keras.layers.BatchNormalization(),    \n",
    "        tf.keras.layers.Dense(1024,activation='relu'),\n",
    "        tf.keras.layers.BatchNormalization(),   \n",
    "        tf.keras.layers.Dense(1024,activation='relu'),\n",
    "        tf.keras.layers.Dense(10,activation='softmax')\n",
    "    ])\n",
    "adv_config=nsl.configs\\\n",
    ".make_adv_reg_config(multiplier=.2,adv_step_size=.05)\n",
    "adv_model=nsl.keras\\\n",
    ".AdversarialRegularization(base_model,adv_config=adv_config)\n",
    "adv_model.compile(optimizer='adam',\n",
    "                  loss='sparse_categorical_crossentropy',\n",
    "                  metrics=['accuracy'])"
   ]
  },
  {
   "cell_type": "code",
   "execution_count": 23,
   "metadata": {
    "_kg_hide-output": true,
    "papermill": {
     "duration": 18.07257,
     "end_time": "2021-01-08T18:43:14.518360",
     "exception": false,
     "start_time": "2021-01-08T18:42:56.445790",
     "status": "completed"
    },
    "tags": []
   },
   "outputs": [
    {
     "name": "stdout",
     "output_type": "stream",
     "text": [
      "Train for 11 steps, validate for 1 steps\n",
      "Epoch 1/100\n",
      "11/11 - 3s - loss: 3.8254 - sparse_categorical_crossentropy: 3.1716 - sparse_categorical_accuracy: 0.2321 - scaled_adversarial_loss: 0.6520 - val_loss: 8.3906 - val_sparse_categorical_crossentropy: 6.9898 - val_sparse_categorical_accuracy: 0.1875 - val_scaled_adversarial_loss: 1.4008\n",
      "Epoch 2/100\n",
      "11/11 - 0s - loss: 2.3404 - sparse_categorical_crossentropy: 1.9401 - sparse_categorical_accuracy: 0.5238 - scaled_adversarial_loss: 0.3927 - val_loss: 6.3208 - val_sparse_categorical_crossentropy: 5.2656 - val_sparse_categorical_accuracy: 0.2500 - val_scaled_adversarial_loss: 1.0552\n",
      "Epoch 3/100\n",
      "11/11 - 0s - loss: 0.6340 - sparse_categorical_crossentropy: 0.5249 - sparse_categorical_accuracy: 0.8036 - scaled_adversarial_loss: 0.1079 - val_loss: 4.5190 - val_sparse_categorical_crossentropy: 3.7639 - val_sparse_categorical_accuracy: 0.2500 - val_scaled_adversarial_loss: 0.7551\n",
      "Epoch 4/100\n",
      "11/11 - 0s - loss: 0.2039 - sparse_categorical_crossentropy: 0.1683 - sparse_categorical_accuracy: 0.9762 - scaled_adversarial_loss: 0.0349 - val_loss: 3.9815 - val_sparse_categorical_crossentropy: 3.3157 - val_sparse_categorical_accuracy: 0.2500 - val_scaled_adversarial_loss: 0.6657\n",
      "Epoch 5/100\n",
      "11/11 - 0s - loss: 0.0445 - sparse_categorical_crossentropy: 0.0365 - sparse_categorical_accuracy: 0.9881 - scaled_adversarial_loss: 0.0078 - val_loss: 4.2956 - val_sparse_categorical_crossentropy: 3.5771 - val_sparse_categorical_accuracy: 0.1875 - val_scaled_adversarial_loss: 0.7185\n",
      "Epoch 6/100\n",
      "11/11 - 0s - loss: 0.0353 - sparse_categorical_crossentropy: 0.0290 - sparse_categorical_accuracy: 0.9940 - scaled_adversarial_loss: 0.0062 - val_loss: 3.5852 - val_sparse_categorical_crossentropy: 2.9849 - val_sparse_categorical_accuracy: 0.2500 - val_scaled_adversarial_loss: 0.6004\n",
      "Epoch 7/100\n",
      "11/11 - 0s - loss: 0.0045 - sparse_categorical_crossentropy: 0.0037 - sparse_categorical_accuracy: 1.0000 - scaled_adversarial_loss: 8.0063e-04 - val_loss: 3.0328 - val_sparse_categorical_crossentropy: 2.5241 - val_sparse_categorical_accuracy: 0.2500 - val_scaled_adversarial_loss: 0.5087\n",
      "Epoch 8/100\n",
      "11/11 - 0s - loss: 0.0230 - sparse_categorical_crossentropy: 0.0189 - sparse_categorical_accuracy: 0.9940 - scaled_adversarial_loss: 0.0040 - val_loss: 2.7858 - val_sparse_categorical_crossentropy: 2.3182 - val_sparse_categorical_accuracy: 0.3750 - val_scaled_adversarial_loss: 0.4676\n",
      "Epoch 9/100\n",
      "11/11 - 0s - loss: 0.0071 - sparse_categorical_crossentropy: 0.0058 - sparse_categorical_accuracy: 1.0000 - scaled_adversarial_loss: 0.0013 - val_loss: 2.5561 - val_sparse_categorical_crossentropy: 2.1268 - val_sparse_categorical_accuracy: 0.4375 - val_scaled_adversarial_loss: 0.4293\n",
      "Epoch 10/100\n",
      "11/11 - 0s - loss: 0.0018 - sparse_categorical_crossentropy: 0.0015 - sparse_categorical_accuracy: 1.0000 - scaled_adversarial_loss: 3.1822e-04 - val_loss: 2.3610 - val_sparse_categorical_crossentropy: 1.9640 - val_sparse_categorical_accuracy: 0.4375 - val_scaled_adversarial_loss: 0.3969\n",
      "Epoch 11/100\n",
      "11/11 - 0s - loss: 0.0014 - sparse_categorical_crossentropy: 0.0012 - sparse_categorical_accuracy: 1.0000 - scaled_adversarial_loss: 2.5257e-04 - val_loss: 2.1769 - val_sparse_categorical_crossentropy: 1.8104 - val_sparse_categorical_accuracy: 0.5625 - val_scaled_adversarial_loss: 0.3665\n",
      "Epoch 12/100\n",
      "11/11 - 0s - loss: 0.0013 - sparse_categorical_crossentropy: 0.0010 - sparse_categorical_accuracy: 1.0000 - scaled_adversarial_loss: 2.2145e-04 - val_loss: 2.0359 - val_sparse_categorical_crossentropy: 1.6928 - val_sparse_categorical_accuracy: 0.6875 - val_scaled_adversarial_loss: 0.3430\n",
      "Epoch 13/100\n",
      "11/11 - 0s - loss: 0.0011 - sparse_categorical_crossentropy: 9.0107e-04 - sparse_categorical_accuracy: 1.0000 - scaled_adversarial_loss: 1.9102e-04 - val_loss: 1.9459 - val_sparse_categorical_crossentropy: 1.6178 - val_sparse_categorical_accuracy: 0.6250 - val_scaled_adversarial_loss: 0.3281\n",
      "Epoch 14/100\n",
      "11/11 - 0s - loss: 9.5807e-04 - sparse_categorical_crossentropy: 7.8909e-04 - sparse_categorical_accuracy: 1.0000 - scaled_adversarial_loss: 1.6701e-04 - val_loss: 1.8938 - val_sparse_categorical_crossentropy: 1.5742 - val_sparse_categorical_accuracy: 0.6250 - val_scaled_adversarial_loss: 0.3195\n",
      "Epoch 15/100\n",
      "11/11 - 0s - loss: 8.5525e-04 - sparse_categorical_crossentropy: 7.0463e-04 - sparse_categorical_accuracy: 1.0000 - scaled_adversarial_loss: 1.4894e-04 - val_loss: 1.8660 - val_sparse_categorical_crossentropy: 1.5511 - val_sparse_categorical_accuracy: 0.6250 - val_scaled_adversarial_loss: 0.3148\n",
      "Epoch 16/100\n",
      "11/11 - 0s - loss: 7.7562e-04 - sparse_categorical_crossentropy: 6.3918e-04 - sparse_categorical_accuracy: 1.0000 - scaled_adversarial_loss: 1.3498e-04 - val_loss: 1.8544 - val_sparse_categorical_crossentropy: 1.5413 - val_sparse_categorical_accuracy: 0.6250 - val_scaled_adversarial_loss: 0.3132\n",
      "Epoch 17/100\n",
      "11/11 - 0s - loss: 7.1144e-04 - sparse_categorical_crossentropy: 5.8640e-04 - sparse_categorical_accuracy: 1.0000 - scaled_adversarial_loss: 1.2375e-04 - val_loss: 1.8501 - val_sparse_categorical_crossentropy: 1.5374 - val_sparse_categorical_accuracy: 0.6250 - val_scaled_adversarial_loss: 0.3127\n",
      "Epoch 18/100\n",
      "11/11 - 0s - loss: 6.5802e-04 - sparse_categorical_crossentropy: 5.4245e-04 - sparse_categorical_accuracy: 1.0000 - scaled_adversarial_loss: 1.1441e-04 - val_loss: 1.8540 - val_sparse_categorical_crossentropy: 1.5405 - val_sparse_categorical_accuracy: 0.6250 - val_scaled_adversarial_loss: 0.3135\n",
      "Epoch 19/100\n",
      "11/11 - 0s - loss: 6.1245e-04 - sparse_categorical_crossentropy: 5.0495e-04 - sparse_categorical_accuracy: 1.0000 - scaled_adversarial_loss: 1.0645e-04 - val_loss: 1.8601 - val_sparse_categorical_crossentropy: 1.5454 - val_sparse_categorical_accuracy: 0.6250 - val_scaled_adversarial_loss: 0.3147\n",
      "Epoch 20/100\n",
      "11/11 - 0s - loss: 5.7277e-04 - sparse_categorical_crossentropy: 4.7228e-04 - sparse_categorical_accuracy: 1.0000 - scaled_adversarial_loss: 9.9530e-05 - val_loss: 1.8668 - val_sparse_categorical_crossentropy: 1.5509 - val_sparse_categorical_accuracy: 0.6250 - val_scaled_adversarial_loss: 0.3159\n",
      "Epoch 21/100\n",
      "11/11 - 0s - loss: 5.3779e-04 - sparse_categorical_crossentropy: 4.4347e-04 - sparse_categorical_accuracy: 1.0000 - scaled_adversarial_loss: 9.3432e-05 - val_loss: 1.8747 - val_sparse_categorical_crossentropy: 1.5574 - val_sparse_categorical_accuracy: 0.6250 - val_scaled_adversarial_loss: 0.3172\n",
      "Epoch 22/100\n",
      "11/11 - 0s - loss: 5.0668e-04 - sparse_categorical_crossentropy: 4.1785e-04 - sparse_categorical_accuracy: 1.0000 - scaled_adversarial_loss: 8.8008e-05 - val_loss: 1.8828 - val_sparse_categorical_crossentropy: 1.5642 - val_sparse_categorical_accuracy: 0.6250 - val_scaled_adversarial_loss: 0.3186\n",
      "Epoch 23/100\n",
      "11/11 - 0s - loss: 4.7879e-04 - sparse_categorical_crossentropy: 3.9488e-04 - sparse_categorical_accuracy: 1.0000 - scaled_adversarial_loss: 8.3152e-05 - val_loss: 1.8902 - val_sparse_categorical_crossentropy: 1.5704 - val_sparse_categorical_accuracy: 0.6250 - val_scaled_adversarial_loss: 0.3199\n",
      "Epoch 24/100\n",
      "11/11 - 0s - loss: 4.5360e-04 - sparse_categorical_crossentropy: 3.7412e-04 - sparse_categorical_accuracy: 1.0000 - scaled_adversarial_loss: 7.8765e-05 - val_loss: 1.8956 - val_sparse_categorical_crossentropy: 1.5749 - val_sparse_categorical_accuracy: 0.6250 - val_scaled_adversarial_loss: 0.3207\n",
      "Epoch 25/100\n",
      "11/11 - 0s - loss: 4.3071e-04 - sparse_categorical_crossentropy: 3.5526e-04 - sparse_categorical_accuracy: 1.0000 - scaled_adversarial_loss: 7.4780e-05 - val_loss: 1.9008 - val_sparse_categorical_crossentropy: 1.5793 - val_sparse_categorical_accuracy: 0.6250 - val_scaled_adversarial_loss: 0.3216\n",
      "Epoch 26/100\n",
      "11/11 - 0s - loss: 4.0983e-04 - sparse_categorical_crossentropy: 3.3805e-04 - sparse_categorical_accuracy: 1.0000 - scaled_adversarial_loss: 7.1145e-05 - val_loss: 1.9052 - val_sparse_categorical_crossentropy: 1.5829 - val_sparse_categorical_accuracy: 0.6250 - val_scaled_adversarial_loss: 0.3223\n",
      "Epoch 27/100\n",
      "11/11 - 0s - loss: 3.9067e-04 - sparse_categorical_crossentropy: 3.2226e-04 - sparse_categorical_accuracy: 1.0000 - scaled_adversarial_loss: 6.7816e-05 - val_loss: 1.9088 - val_sparse_categorical_crossentropy: 1.5858 - val_sparse_categorical_accuracy: 0.6250 - val_scaled_adversarial_loss: 0.3229\n",
      "Epoch 28/100\n",
      "11/11 - 0s - loss: 3.7305e-04 - sparse_categorical_crossentropy: 3.0774e-04 - sparse_categorical_accuracy: 1.0000 - scaled_adversarial_loss: 6.4748e-05 - val_loss: 1.9117 - val_sparse_categorical_crossentropy: 1.5882 - val_sparse_categorical_accuracy: 0.6250 - val_scaled_adversarial_loss: 0.3235\n",
      "Epoch 29/100\n",
      "11/11 - 0s - loss: 3.5679e-04 - sparse_categorical_crossentropy: 2.9433e-04 - sparse_categorical_accuracy: 1.0000 - scaled_adversarial_loss: 6.1921e-05 - val_loss: 1.9139 - val_sparse_categorical_crossentropy: 1.5900 - val_sparse_categorical_accuracy: 0.6250 - val_scaled_adversarial_loss: 0.3239\n",
      "Epoch 30/100\n",
      "11/11 - 0s - loss: 3.4173e-04 - sparse_categorical_crossentropy: 2.8192e-04 - sparse_categorical_accuracy: 1.0000 - scaled_adversarial_loss: 5.9299e-05 - val_loss: 1.9156 - val_sparse_categorical_crossentropy: 1.5913 - val_sparse_categorical_accuracy: 0.6250 - val_scaled_adversarial_loss: 0.3243\n",
      "Epoch 31/100\n",
      "11/11 - 0s - loss: 3.2778e-04 - sparse_categorical_crossentropy: 2.7042e-04 - sparse_categorical_accuracy: 1.0000 - scaled_adversarial_loss: 5.6873e-05 - val_loss: 1.9168 - val_sparse_categorical_crossentropy: 1.5923 - val_sparse_categorical_accuracy: 0.6250 - val_scaled_adversarial_loss: 0.3245\n",
      "Epoch 32/100\n",
      "11/11 - 0s - loss: 3.1478e-04 - sparse_categorical_crossentropy: 2.5970e-04 - sparse_categorical_accuracy: 1.0000 - scaled_adversarial_loss: 5.4612e-05 - val_loss: 1.9176 - val_sparse_categorical_crossentropy: 1.5930 - val_sparse_categorical_accuracy: 0.6250 - val_scaled_adversarial_loss: 0.3246\n",
      "Epoch 33/100\n",
      "11/11 - 0s - loss: 3.0264e-04 - sparse_categorical_crossentropy: 2.4969e-04 - sparse_categorical_accuracy: 1.0000 - scaled_adversarial_loss: 5.2502e-05 - val_loss: 1.9182 - val_sparse_categorical_crossentropy: 1.5934 - val_sparse_categorical_accuracy: 0.6250 - val_scaled_adversarial_loss: 0.3247\n",
      "Epoch 34/100\n",
      "11/11 - 0s - loss: 2.9127e-04 - sparse_categorical_crossentropy: 2.4032e-04 - sparse_categorical_accuracy: 1.0000 - scaled_adversarial_loss: 5.0527e-05 - val_loss: 1.9185 - val_sparse_categorical_crossentropy: 1.5937 - val_sparse_categorical_accuracy: 0.6250 - val_scaled_adversarial_loss: 0.3248\n",
      "Epoch 35/100\n",
      "11/11 - 0s - loss: 2.8063e-04 - sparse_categorical_crossentropy: 2.3154e-04 - sparse_categorical_accuracy: 1.0000 - scaled_adversarial_loss: 4.8674e-05 - val_loss: 1.9187 - val_sparse_categorical_crossentropy: 1.5938 - val_sparse_categorical_accuracy: 0.6250 - val_scaled_adversarial_loss: 0.3248\n",
      "Epoch 36/100\n",
      "11/11 - 0s - loss: 2.7064e-04 - sparse_categorical_crossentropy: 2.2330e-04 - sparse_categorical_accuracy: 1.0000 - scaled_adversarial_loss: 4.6939e-05 - val_loss: 1.9187 - val_sparse_categorical_crossentropy: 1.5938 - val_sparse_categorical_accuracy: 0.6250 - val_scaled_adversarial_loss: 0.3249\n",
      "Epoch 37/100\n",
      "11/11 - 0s - loss: 2.6123e-04 - sparse_categorical_crossentropy: 2.1555e-04 - sparse_categorical_accuracy: 1.0000 - scaled_adversarial_loss: 4.5304e-05 - val_loss: 1.9186 - val_sparse_categorical_crossentropy: 1.5937 - val_sparse_categorical_accuracy: 0.6250 - val_scaled_adversarial_loss: 0.3249\n",
      "Epoch 38/100\n",
      "11/11 - 0s - loss: 2.5236e-04 - sparse_categorical_crossentropy: 2.0823e-04 - sparse_categorical_accuracy: 1.0000 - scaled_adversarial_loss: 4.3763e-05 - val_loss: 1.9183 - val_sparse_categorical_crossentropy: 1.5935 - val_sparse_categorical_accuracy: 0.6250 - val_scaled_adversarial_loss: 0.3248\n",
      "Epoch 39/100\n",
      "11/11 - 0s - loss: 2.4395e-04 - sparse_categorical_crossentropy: 2.0129e-04 - sparse_categorical_accuracy: 1.0000 - scaled_adversarial_loss: 4.2305e-05 - val_loss: 1.9180 - val_sparse_categorical_crossentropy: 1.5932 - val_sparse_categorical_accuracy: 0.6250 - val_scaled_adversarial_loss: 0.3248\n",
      "Epoch 40/100\n",
      "11/11 - 0s - loss: 2.3600e-04 - sparse_categorical_crossentropy: 1.9473e-04 - sparse_categorical_accuracy: 1.0000 - scaled_adversarial_loss: 4.0927e-05 - val_loss: 1.9177 - val_sparse_categorical_crossentropy: 1.5929 - val_sparse_categorical_accuracy: 0.6250 - val_scaled_adversarial_loss: 0.3247\n",
      "Epoch 41/100\n",
      "11/11 - 0s - loss: 2.2848e-04 - sparse_categorical_crossentropy: 1.8853e-04 - sparse_categorical_accuracy: 1.0000 - scaled_adversarial_loss: 3.9621e-05 - val_loss: 1.9172 - val_sparse_categorical_crossentropy: 1.5925 - val_sparse_categorical_accuracy: 0.6250 - val_scaled_adversarial_loss: 0.3246\n",
      "Epoch 42/100\n",
      "11/11 - 0s - loss: 2.2134e-04 - sparse_categorical_crossentropy: 1.8264e-04 - sparse_categorical_accuracy: 1.0000 - scaled_adversarial_loss: 3.8381e-05 - val_loss: 1.9166 - val_sparse_categorical_crossentropy: 1.5920 - val_sparse_categorical_accuracy: 0.6250 - val_scaled_adversarial_loss: 0.3245\n",
      "Epoch 43/100\n",
      "11/11 - 0s - loss: 2.1457e-04 - sparse_categorical_crossentropy: 1.7705e-04 - sparse_categorical_accuracy: 1.0000 - scaled_adversarial_loss: 3.7207e-05 - val_loss: 1.9160 - val_sparse_categorical_crossentropy: 1.5916 - val_sparse_categorical_accuracy: 0.6250 - val_scaled_adversarial_loss: 0.3244\n",
      "Epoch 44/100\n",
      "11/11 - 0s - loss: 2.0812e-04 - sparse_categorical_crossentropy: 1.7174e-04 - sparse_categorical_accuracy: 1.0000 - scaled_adversarial_loss: 3.6085e-05 - val_loss: 1.9154 - val_sparse_categorical_crossentropy: 1.5911 - val_sparse_categorical_accuracy: 0.6250 - val_scaled_adversarial_loss: 0.3243\n",
      "Epoch 45/100\n",
      "11/11 - 0s - loss: 2.0200e-04 - sparse_categorical_crossentropy: 1.6669e-04 - sparse_categorical_accuracy: 1.0000 - scaled_adversarial_loss: 3.5022e-05 - val_loss: 1.9149 - val_sparse_categorical_crossentropy: 1.5907 - val_sparse_categorical_accuracy: 0.6250 - val_scaled_adversarial_loss: 0.3242\n",
      "Epoch 46/100\n",
      "11/11 - 0s - loss: 1.9617e-04 - sparse_categorical_crossentropy: 1.6188e-04 - sparse_categorical_accuracy: 1.0000 - scaled_adversarial_loss: 3.4007e-05 - val_loss: 1.9145 - val_sparse_categorical_crossentropy: 1.5903 - val_sparse_categorical_accuracy: 0.6250 - val_scaled_adversarial_loss: 0.3242\n",
      "Epoch 47/100\n",
      "11/11 - 0s - loss: 1.9059e-04 - sparse_categorical_crossentropy: 1.5727e-04 - sparse_categorical_accuracy: 1.0000 - scaled_adversarial_loss: 3.3044e-05 - val_loss: 1.9140 - val_sparse_categorical_crossentropy: 1.5899 - val_sparse_categorical_accuracy: 0.6250 - val_scaled_adversarial_loss: 0.3241\n",
      "Epoch 48/100\n",
      "11/11 - 0s - loss: 1.8527e-04 - sparse_categorical_crossentropy: 1.5289e-04 - sparse_categorical_accuracy: 1.0000 - scaled_adversarial_loss: 3.2117e-05 - val_loss: 1.9135 - val_sparse_categorical_crossentropy: 1.5895 - val_sparse_categorical_accuracy: 0.6250 - val_scaled_adversarial_loss: 0.3240\n",
      "Epoch 49/100\n",
      "11/11 - 0s - loss: 1.8021e-04 - sparse_categorical_crossentropy: 1.4871e-04 - sparse_categorical_accuracy: 1.0000 - scaled_adversarial_loss: 3.1238e-05 - val_loss: 1.9130 - val_sparse_categorical_crossentropy: 1.5891 - val_sparse_categorical_accuracy: 0.6250 - val_scaled_adversarial_loss: 0.3239\n",
      "Epoch 50/100\n",
      "11/11 - 0s - loss: 1.7536e-04 - sparse_categorical_crossentropy: 1.4471e-04 - sparse_categorical_accuracy: 1.0000 - scaled_adversarial_loss: 3.0395e-05 - val_loss: 1.9126 - val_sparse_categorical_crossentropy: 1.5888 - val_sparse_categorical_accuracy: 0.6250 - val_scaled_adversarial_loss: 0.3238\n",
      "Epoch 51/100\n",
      "11/11 - 0s - loss: 1.7071e-04 - sparse_categorical_crossentropy: 1.4088e-04 - sparse_categorical_accuracy: 1.0000 - scaled_adversarial_loss: 2.9592e-05 - val_loss: 1.9122 - val_sparse_categorical_crossentropy: 1.5884 - val_sparse_categorical_accuracy: 0.6250 - val_scaled_adversarial_loss: 0.3238\n",
      "Epoch 52/100\n",
      "11/11 - 0s - loss: 1.6628e-04 - sparse_categorical_crossentropy: 1.3722e-04 - sparse_categorical_accuracy: 1.0000 - scaled_adversarial_loss: 2.8823e-05 - val_loss: 1.9118 - val_sparse_categorical_crossentropy: 1.5881 - val_sparse_categorical_accuracy: 0.6250 - val_scaled_adversarial_loss: 0.3237\n",
      "Epoch 53/100\n",
      "11/11 - 0s - loss: 1.6201e-04 - sparse_categorical_crossentropy: 1.3370e-04 - sparse_categorical_accuracy: 1.0000 - scaled_adversarial_loss: 2.8083e-05 - val_loss: 1.9114 - val_sparse_categorical_crossentropy: 1.5878 - val_sparse_categorical_accuracy: 0.6250 - val_scaled_adversarial_loss: 0.3237\n",
      "Epoch 54/100\n",
      "11/11 - 0s - loss: 1.5793e-04 - sparse_categorical_crossentropy: 1.3033e-04 - sparse_categorical_accuracy: 1.0000 - scaled_adversarial_loss: 2.7376e-05 - val_loss: 1.9112 - val_sparse_categorical_crossentropy: 1.5876 - val_sparse_categorical_accuracy: 0.6250 - val_scaled_adversarial_loss: 0.3236\n",
      "Epoch 55/100\n",
      "11/11 - 0s - loss: 1.5400e-04 - sparse_categorical_crossentropy: 1.2709e-04 - sparse_categorical_accuracy: 1.0000 - scaled_adversarial_loss: 2.6690e-05 - val_loss: 1.9110 - val_sparse_categorical_crossentropy: 1.5874 - val_sparse_categorical_accuracy: 0.6250 - val_scaled_adversarial_loss: 0.3236\n",
      "Epoch 56/100\n",
      "11/11 - 0s - loss: 1.5023e-04 - sparse_categorical_crossentropy: 1.2398e-04 - sparse_categorical_accuracy: 1.0000 - scaled_adversarial_loss: 2.6037e-05 - val_loss: 1.9109 - val_sparse_categorical_crossentropy: 1.5873 - val_sparse_categorical_accuracy: 0.6250 - val_scaled_adversarial_loss: 0.3236\n",
      "Epoch 57/100\n",
      "11/11 - 0s - loss: 1.4661e-04 - sparse_categorical_crossentropy: 1.2099e-04 - sparse_categorical_accuracy: 1.0000 - scaled_adversarial_loss: 2.5410e-05 - val_loss: 1.9110 - val_sparse_categorical_crossentropy: 1.5874 - val_sparse_categorical_accuracy: 0.6250 - val_scaled_adversarial_loss: 0.3236\n",
      "Epoch 58/100\n",
      "11/11 - 0s - loss: 1.4314e-04 - sparse_categorical_crossentropy: 1.1813e-04 - sparse_categorical_accuracy: 1.0000 - scaled_adversarial_loss: 2.4808e-05 - val_loss: 1.9110 - val_sparse_categorical_crossentropy: 1.5874 - val_sparse_categorical_accuracy: 0.6250 - val_scaled_adversarial_loss: 0.3236\n",
      "Epoch 59/100\n",
      "11/11 - 0s - loss: 1.3978e-04 - sparse_categorical_crossentropy: 1.1536e-04 - sparse_categorical_accuracy: 1.0000 - scaled_adversarial_loss: 2.4226e-05 - val_loss: 1.9111 - val_sparse_categorical_crossentropy: 1.5874 - val_sparse_categorical_accuracy: 0.6250 - val_scaled_adversarial_loss: 0.3236\n",
      "Epoch 60/100\n",
      "11/11 - 0s - loss: 1.3656e-04 - sparse_categorical_crossentropy: 1.1270e-04 - sparse_categorical_accuracy: 1.0000 - scaled_adversarial_loss: 2.3666e-05 - val_loss: 1.9111 - val_sparse_categorical_crossentropy: 1.5875 - val_sparse_categorical_accuracy: 0.6250 - val_scaled_adversarial_loss: 0.3236\n",
      "Epoch 61/100\n",
      "11/11 - 0s - loss: 1.3347e-04 - sparse_categorical_crossentropy: 1.1015e-04 - sparse_categorical_accuracy: 1.0000 - scaled_adversarial_loss: 2.3129e-05 - val_loss: 1.9113 - val_sparse_categorical_crossentropy: 1.5876 - val_sparse_categorical_accuracy: 0.6250 - val_scaled_adversarial_loss: 0.3237\n",
      "Epoch 62/100\n",
      "11/11 - 0s - loss: 1.3048e-04 - sparse_categorical_crossentropy: 1.0768e-04 - sparse_categorical_accuracy: 1.0000 - scaled_adversarial_loss: 2.2610e-05 - val_loss: 1.9115 - val_sparse_categorical_crossentropy: 1.5878 - val_sparse_categorical_accuracy: 0.6250 - val_scaled_adversarial_loss: 0.3237\n",
      "Epoch 63/100\n",
      "11/11 - 0s - loss: 1.2760e-04 - sparse_categorical_crossentropy: 1.0531e-04 - sparse_categorical_accuracy: 1.0000 - scaled_adversarial_loss: 2.2111e-05 - val_loss: 1.9117 - val_sparse_categorical_crossentropy: 1.5880 - val_sparse_categorical_accuracy: 0.6250 - val_scaled_adversarial_loss: 0.3237\n",
      "Epoch 64/100\n",
      "11/11 - 0s - loss: 1.2482e-04 - sparse_categorical_crossentropy: 1.0301e-04 - sparse_categorical_accuracy: 1.0000 - scaled_adversarial_loss: 2.1628e-05 - val_loss: 1.9119 - val_sparse_categorical_crossentropy: 1.5882 - val_sparse_categorical_accuracy: 0.6250 - val_scaled_adversarial_loss: 0.3238\n",
      "Epoch 65/100\n",
      "11/11 - 0s - loss: 1.2214e-04 - sparse_categorical_crossentropy: 1.0080e-04 - sparse_categorical_accuracy: 1.0000 - scaled_adversarial_loss: 2.1162e-05 - val_loss: 1.9121 - val_sparse_categorical_crossentropy: 1.5883 - val_sparse_categorical_accuracy: 0.6250 - val_scaled_adversarial_loss: 0.3238\n",
      "Epoch 66/100\n",
      "11/11 - 0s - loss: 1.1953e-04 - sparse_categorical_crossentropy: 9.8650e-05 - sparse_categorical_accuracy: 1.0000 - scaled_adversarial_loss: 2.0712e-05 - val_loss: 1.9123 - val_sparse_categorical_crossentropy: 1.5885 - val_sparse_categorical_accuracy: 0.6250 - val_scaled_adversarial_loss: 0.3238\n",
      "Epoch 67/100\n",
      "11/11 - 0s - loss: 1.1704e-04 - sparse_categorical_crossentropy: 9.6590e-05 - sparse_categorical_accuracy: 1.0000 - scaled_adversarial_loss: 2.0279e-05 - val_loss: 1.9126 - val_sparse_categorical_crossentropy: 1.5887 - val_sparse_categorical_accuracy: 0.6250 - val_scaled_adversarial_loss: 0.3239\n",
      "Epoch 68/100\n",
      "11/11 - 0s - loss: 1.1462e-04 - sparse_categorical_crossentropy: 9.4594e-05 - sparse_categorical_accuracy: 1.0000 - scaled_adversarial_loss: 1.9860e-05 - val_loss: 1.9128 - val_sparse_categorical_crossentropy: 1.5889 - val_sparse_categorical_accuracy: 0.6250 - val_scaled_adversarial_loss: 0.3239\n",
      "Epoch 69/100\n",
      "11/11 - 0s - loss: 1.1229e-04 - sparse_categorical_crossentropy: 9.2672e-05 - sparse_categorical_accuracy: 1.0000 - scaled_adversarial_loss: 1.9451e-05 - val_loss: 1.9130 - val_sparse_categorical_crossentropy: 1.5890 - val_sparse_categorical_accuracy: 0.6250 - val_scaled_adversarial_loss: 0.3239\n",
      "Epoch 70/100\n",
      "11/11 - 0s - loss: 1.1001e-04 - sparse_categorical_crossentropy: 9.0794e-05 - sparse_categorical_accuracy: 1.0000 - scaled_adversarial_loss: 1.9059e-05 - val_loss: 1.9132 - val_sparse_categorical_crossentropy: 1.5892 - val_sparse_categorical_accuracy: 0.6250 - val_scaled_adversarial_loss: 0.3240\n",
      "Epoch 71/100\n",
      "11/11 - 0s - loss: 1.0781e-04 - sparse_categorical_crossentropy: 8.8974e-05 - sparse_categorical_accuracy: 1.0000 - scaled_adversarial_loss: 1.8676e-05 - val_loss: 1.9133 - val_sparse_categorical_crossentropy: 1.5893 - val_sparse_categorical_accuracy: 0.6250 - val_scaled_adversarial_loss: 0.3240\n",
      "Epoch 72/100\n",
      "11/11 - 0s - loss: 1.0567e-04 - sparse_categorical_crossentropy: 8.7209e-05 - sparse_categorical_accuracy: 1.0000 - scaled_adversarial_loss: 1.8308e-05 - val_loss: 1.9136 - val_sparse_categorical_crossentropy: 1.5895 - val_sparse_categorical_accuracy: 0.6250 - val_scaled_adversarial_loss: 0.3241\n",
      "Epoch 73/100\n",
      "11/11 - 0s - loss: 1.0361e-04 - sparse_categorical_crossentropy: 8.5510e-05 - sparse_categorical_accuracy: 1.0000 - scaled_adversarial_loss: 1.7950e-05 - val_loss: 1.9140 - val_sparse_categorical_crossentropy: 1.5898 - val_sparse_categorical_accuracy: 0.6250 - val_scaled_adversarial_loss: 0.3241\n",
      "Epoch 74/100\n",
      "11/11 - 0s - loss: 1.0162e-04 - sparse_categorical_crossentropy: 8.3867e-05 - sparse_categorical_accuracy: 1.0000 - scaled_adversarial_loss: 1.7602e-05 - val_loss: 1.9143 - val_sparse_categorical_crossentropy: 1.5901 - val_sparse_categorical_accuracy: 0.6250 - val_scaled_adversarial_loss: 0.3242\n",
      "Epoch 75/100\n",
      "11/11 - 0s - loss: 9.9659e-05 - sparse_categorical_crossentropy: 8.2252e-05 - sparse_categorical_accuracy: 1.0000 - scaled_adversarial_loss: 1.7264e-05 - val_loss: 1.9146 - val_sparse_categorical_crossentropy: 1.5904 - val_sparse_categorical_accuracy: 0.6250 - val_scaled_adversarial_loss: 0.3242\n",
      "Epoch 76/100\n",
      "11/11 - 0s - loss: 9.7782e-05 - sparse_categorical_crossentropy: 8.0703e-05 - sparse_categorical_accuracy: 1.0000 - scaled_adversarial_loss: 1.6937e-05 - val_loss: 1.9149 - val_sparse_categorical_crossentropy: 1.5906 - val_sparse_categorical_accuracy: 0.6250 - val_scaled_adversarial_loss: 0.3243\n",
      "Epoch 77/100\n",
      "11/11 - 0s - loss: 9.5947e-05 - sparse_categorical_crossentropy: 7.9189e-05 - sparse_categorical_accuracy: 1.0000 - scaled_adversarial_loss: 1.6620e-05 - val_loss: 1.9152 - val_sparse_categorical_crossentropy: 1.5909 - val_sparse_categorical_accuracy: 0.6250 - val_scaled_adversarial_loss: 0.3243\n",
      "Epoch 78/100\n",
      "11/11 - 0s - loss: 9.4170e-05 - sparse_categorical_crossentropy: 7.7721e-05 - sparse_categorical_accuracy: 1.0000 - scaled_adversarial_loss: 1.6312e-05 - val_loss: 1.9155 - val_sparse_categorical_crossentropy: 1.5911 - val_sparse_categorical_accuracy: 0.6250 - val_scaled_adversarial_loss: 0.3244\n",
      "Epoch 79/100\n",
      "11/11 - 0s - loss: 9.2442e-05 - sparse_categorical_crossentropy: 7.6294e-05 - sparse_categorical_accuracy: 1.0000 - scaled_adversarial_loss: 1.6013e-05 - val_loss: 1.9157 - val_sparse_categorical_crossentropy: 1.5913 - val_sparse_categorical_accuracy: 0.6875 - val_scaled_adversarial_loss: 0.3244\n",
      "Epoch 80/100\n",
      "11/11 - 0s - loss: 9.0768e-05 - sparse_categorical_crossentropy: 7.4915e-05 - sparse_categorical_accuracy: 1.0000 - scaled_adversarial_loss: 1.5722e-05 - val_loss: 1.9160 - val_sparse_categorical_crossentropy: 1.5915 - val_sparse_categorical_accuracy: 0.6875 - val_scaled_adversarial_loss: 0.3244\n",
      "Epoch 81/100\n",
      "11/11 - 0s - loss: 8.9133e-05 - sparse_categorical_crossentropy: 7.3564e-05 - sparse_categorical_accuracy: 1.0000 - scaled_adversarial_loss: 1.5439e-05 - val_loss: 1.9163 - val_sparse_categorical_crossentropy: 1.5918 - val_sparse_categorical_accuracy: 0.6875 - val_scaled_adversarial_loss: 0.3245\n",
      "Epoch 82/100\n",
      "11/11 - 0s - loss: 8.7546e-05 - sparse_categorical_crossentropy: 7.2255e-05 - sparse_categorical_accuracy: 1.0000 - scaled_adversarial_loss: 1.5164e-05 - val_loss: 1.9165 - val_sparse_categorical_crossentropy: 1.5920 - val_sparse_categorical_accuracy: 0.6875 - val_scaled_adversarial_loss: 0.3245\n",
      "Epoch 83/100\n",
      "11/11 - 0s - loss: 8.6000e-05 - sparse_categorical_crossentropy: 7.0980e-05 - sparse_categorical_accuracy: 1.0000 - scaled_adversarial_loss: 1.4895e-05 - val_loss: 1.9168 - val_sparse_categorical_crossentropy: 1.5922 - val_sparse_categorical_accuracy: 0.6875 - val_scaled_adversarial_loss: 0.3246\n",
      "Epoch 84/100\n",
      "11/11 - 0s - loss: 8.4506e-05 - sparse_categorical_crossentropy: 6.9747e-05 - sparse_categorical_accuracy: 1.0000 - scaled_adversarial_loss: 1.4636e-05 - val_loss: 1.9170 - val_sparse_categorical_crossentropy: 1.5924 - val_sparse_categorical_accuracy: 0.6875 - val_scaled_adversarial_loss: 0.3246\n",
      "Epoch 85/100\n",
      "11/11 - 0s - loss: 8.3045e-05 - sparse_categorical_crossentropy: 6.8540e-05 - sparse_categorical_accuracy: 1.0000 - scaled_adversarial_loss: 1.4384e-05 - val_loss: 1.9173 - val_sparse_categorical_crossentropy: 1.5926 - val_sparse_categorical_accuracy: 0.6875 - val_scaled_adversarial_loss: 0.3247\n",
      "Epoch 86/100\n",
      "11/11 - 0s - loss: 8.1629e-05 - sparse_categorical_crossentropy: 6.7373e-05 - sparse_categorical_accuracy: 1.0000 - scaled_adversarial_loss: 1.4137e-05 - val_loss: 1.9175 - val_sparse_categorical_crossentropy: 1.5928 - val_sparse_categorical_accuracy: 0.6875 - val_scaled_adversarial_loss: 0.3247\n",
      "Epoch 87/100\n",
      "11/11 - 0s - loss: 8.0245e-05 - sparse_categorical_crossentropy: 6.6230e-05 - sparse_categorical_accuracy: 1.0000 - scaled_adversarial_loss: 1.3898e-05 - val_loss: 1.9178 - val_sparse_categorical_crossentropy: 1.5930 - val_sparse_categorical_accuracy: 0.6875 - val_scaled_adversarial_loss: 0.3247\n",
      "Epoch 88/100\n",
      "11/11 - 0s - loss: 7.8900e-05 - sparse_categorical_crossentropy: 6.5120e-05 - sparse_categorical_accuracy: 1.0000 - scaled_adversarial_loss: 1.3664e-05 - val_loss: 1.9181 - val_sparse_categorical_crossentropy: 1.5933 - val_sparse_categorical_accuracy: 0.6875 - val_scaled_adversarial_loss: 0.3248\n",
      "Epoch 89/100\n",
      "11/11 - 0s - loss: 7.7593e-05 - sparse_categorical_crossentropy: 6.4044e-05 - sparse_categorical_accuracy: 1.0000 - scaled_adversarial_loss: 1.3437e-05 - val_loss: 1.9184 - val_sparse_categorical_crossentropy: 1.5935 - val_sparse_categorical_accuracy: 0.6875 - val_scaled_adversarial_loss: 0.3248\n",
      "Epoch 90/100\n",
      "11/11 - 0s - loss: 7.6314e-05 - sparse_categorical_crossentropy: 6.2988e-05 - sparse_categorical_accuracy: 1.0000 - scaled_adversarial_loss: 1.3215e-05 - val_loss: 1.9187 - val_sparse_categorical_crossentropy: 1.5938 - val_sparse_categorical_accuracy: 0.6875 - val_scaled_adversarial_loss: 0.3249\n",
      "Epoch 91/100\n",
      "11/11 - 0s - loss: 7.5059e-05 - sparse_categorical_crossentropy: 6.1950e-05 - sparse_categorical_accuracy: 1.0000 - scaled_adversarial_loss: 1.3000e-05 - val_loss: 1.9189 - val_sparse_categorical_crossentropy: 1.5940 - val_sparse_categorical_accuracy: 0.6875 - val_scaled_adversarial_loss: 0.3249\n",
      "Epoch 92/100\n",
      "11/11 - 0s - loss: 7.3847e-05 - sparse_categorical_crossentropy: 6.0952e-05 - sparse_categorical_accuracy: 1.0000 - scaled_adversarial_loss: 1.2787e-05 - val_loss: 1.9192 - val_sparse_categorical_crossentropy: 1.5942 - val_sparse_categorical_accuracy: 0.6875 - val_scaled_adversarial_loss: 0.3250\n",
      "Epoch 93/100\n",
      "11/11 - 0s - loss: 7.2661e-05 - sparse_categorical_crossentropy: 5.9973e-05 - sparse_categorical_accuracy: 1.0000 - scaled_adversarial_loss: 1.2583e-05 - val_loss: 1.9195 - val_sparse_categorical_crossentropy: 1.5945 - val_sparse_categorical_accuracy: 0.6875 - val_scaled_adversarial_loss: 0.3250\n",
      "Epoch 94/100\n",
      "11/11 - 0s - loss: 7.1501e-05 - sparse_categorical_crossentropy: 5.9014e-05 - sparse_categorical_accuracy: 1.0000 - scaled_adversarial_loss: 1.2382e-05 - val_loss: 1.9198 - val_sparse_categorical_crossentropy: 1.5947 - val_sparse_categorical_accuracy: 0.6875 - val_scaled_adversarial_loss: 0.3251\n",
      "Epoch 95/100\n",
      "11/11 - 0s - loss: 7.0372e-05 - sparse_categorical_crossentropy: 5.8084e-05 - sparse_categorical_accuracy: 1.0000 - scaled_adversarial_loss: 1.2185e-05 - val_loss: 1.9200 - val_sparse_categorical_crossentropy: 1.5949 - val_sparse_categorical_accuracy: 0.6875 - val_scaled_adversarial_loss: 0.3251\n",
      "Epoch 96/100\n",
      "11/11 - 0s - loss: 6.9265e-05 - sparse_categorical_crossentropy: 5.7169e-05 - sparse_categorical_accuracy: 1.0000 - scaled_adversarial_loss: 1.1994e-05 - val_loss: 1.9203 - val_sparse_categorical_crossentropy: 1.5952 - val_sparse_categorical_accuracy: 0.6875 - val_scaled_adversarial_loss: 0.3252\n",
      "Epoch 97/100\n",
      "11/11 - 0s - loss: 6.8185e-05 - sparse_categorical_crossentropy: 5.6277e-05 - sparse_categorical_accuracy: 1.0000 - scaled_adversarial_loss: 1.1808e-05 - val_loss: 1.9207 - val_sparse_categorical_crossentropy: 1.5954 - val_sparse_categorical_accuracy: 0.6875 - val_scaled_adversarial_loss: 0.3252\n",
      "Epoch 98/100\n",
      "11/11 - 0s - loss: 6.7142e-05 - sparse_categorical_crossentropy: 5.5418e-05 - sparse_categorical_accuracy: 1.0000 - scaled_adversarial_loss: 1.1626e-05 - val_loss: 1.9209 - val_sparse_categorical_crossentropy: 1.5957 - val_sparse_categorical_accuracy: 0.6875 - val_scaled_adversarial_loss: 0.3253\n",
      "Epoch 99/100\n",
      "11/11 - 0s - loss: 6.6106e-05 - sparse_categorical_crossentropy: 5.4563e-05 - sparse_categorical_accuracy: 1.0000 - scaled_adversarial_loss: 1.1446e-05 - val_loss: 1.9212 - val_sparse_categorical_crossentropy: 1.5959 - val_sparse_categorical_accuracy: 0.6875 - val_scaled_adversarial_loss: 0.3253\n",
      "Epoch 100/100\n",
      "11/11 - 0s - loss: 6.5105e-05 - sparse_categorical_crossentropy: 5.3735e-05 - sparse_categorical_accuracy: 1.0000 - scaled_adversarial_loss: 1.1274e-05 - val_loss: 1.9215 - val_sparse_categorical_crossentropy: 1.5962 - val_sparse_categorical_accuracy: 0.6875 - val_scaled_adversarial_loss: 0.3253\n"
     ]
    },
    {
     "data": {
      "text/plain": [
       "<tensorflow.python.keras.callbacks.History at 0x7fe26ccc1250>"
      ]
     },
     "execution_count": 23,
     "metadata": {},
     "output_type": "execute_result"
    }
   ],
   "source": [
    "train4=tf.data.Dataset.from_tensor_slices(\n",
    "    {'input':x_train4,'label':y_train4}).batch(batch_size)\n",
    "valid4=tf.data.Dataset.from_tensor_slices(\n",
    "    {'input':x_valid4,'label':y_valid4}).batch(batch_size)\n",
    "valid_steps=x_valid4.shape[0]//batch_size\n",
    "adv_model.fit(train4,validation_data=valid4,verbose=2,\n",
    "              validation_steps=valid_steps,epochs=epochs)"
   ]
  },
  {
   "cell_type": "code",
   "execution_count": 24,
   "metadata": {
    "papermill": {
     "duration": 0.693431,
     "end_time": "2021-01-08T18:43:15.430008",
     "exception": false,
     "start_time": "2021-01-08T18:43:14.736577",
     "status": "completed"
    },
    "tags": []
   },
   "outputs": [
    {
     "name": "stdout",
     "output_type": "stream",
     "text": [
      "21/21 [==============================] - 0s 21ms/sample - loss: 2.2583 - sparse_categorical_crossentropy: 1.8708 - sparse_categorical_accuracy: 0.5238 - scaled_adversarial_loss: 0.3876\n"
     ]
    },
    {
     "data": {
      "text/plain": [
       "[2.258343458175659, 1.8707559, 0.52380955, 0.38758752]"
      ]
     },
     "execution_count": 24,
     "metadata": {},
     "output_type": "execute_result"
    }
   ],
   "source": [
    "adv_model.evaluate({'input':x_test4,'label':y_test4})"
   ]
  },
  {
   "cell_type": "code",
   "execution_count": 25,
   "metadata": {
    "_kg_hide-input": true,
    "papermill": {
     "duration": 0.23285,
     "end_time": "2021-01-08T18:43:15.884534",
     "exception": false,
     "start_time": "2021-01-08T18:43:15.651684",
     "status": "completed"
    },
    "tags": []
   },
   "outputs": [
    {
     "data": {
      "text/html": [
       "<div id='html_string9436570.01602626' style='width:100%;'><iframe src='d3header9436570.01602626.html' height=54\n",
       "    style='display:block; width:100%;'></iframe></div>"
      ],
      "text/plain": [
       "<IPython.core.display.HTML object>"
      ]
     },
     "metadata": {},
     "output_type": "display_data"
    }
   ],
   "source": [
    "%decor_header CNN Base|18"
   ]
  },
  {
   "cell_type": "code",
   "execution_count": 26,
   "metadata": {
    "papermill": {
     "duration": 0.400489,
     "end_time": "2021-01-08T18:43:16.496019",
     "exception": false,
     "start_time": "2021-01-08T18:43:16.095530",
     "status": "completed"
    },
    "tags": []
   },
   "outputs": [],
   "source": [
    "batch_size=128; img_size=28; n_class=10; epochs=7\n",
    "base_model=tf.keras.Sequential([\n",
    "    tf.keras.Input((img_size,img_size,1),name='input'),\n",
    "    tf.keras.layers.Conv2D(32,(5,5),padding='same'),\n",
    "    tf.keras.layers.Activation('relu'),\n",
    "    tf.keras.layers.MaxPooling2D(pool_size=(2,2)),\n",
    "    tf.keras.layers.Dropout(.25),\n",
    "    tf.keras.layers.Conv2D(196,(5,5)),\n",
    "    tf.keras.layers.Activation('relu'),    \n",
    "    tf.keras.layers.MaxPooling2D(pool_size=(2,2)),\n",
    "    tf.keras.layers.Dropout(.25),\n",
    "    tf.keras.layers.GlobalMaxPooling2D(),    \n",
    "    tf.keras.layers.Dense(512),\n",
    "    tf.keras.layers.Activation('relu'),\n",
    "    tf.keras.layers.Dropout(.25),\n",
    "    tf.keras.layers.Dense(128),\n",
    "    tf.keras.layers.Activation('relu'),\n",
    "    tf.keras.layers.Dropout(.25),\n",
    "    tf.keras.layers.Dense(10,activation='softmax')\n",
    "])\n",
    "adv_config=nsl.configs\\\n",
    ".make_adv_reg_config(multiplier=.2,adv_step_size=.05)\n",
    "adv_model=nsl.keras\\\n",
    ".AdversarialRegularization(base_model,adv_config=adv_config)\n",
    "adv_model.compile(optimizer='adam',\n",
    "                  loss='sparse_categorical_crossentropy',\n",
    "                  metrics=['accuracy'])"
   ]
  },
  {
   "cell_type": "code",
   "execution_count": 27,
   "metadata": {
    "_kg_hide-output": true,
    "papermill": {
     "duration": 48.300046,
     "end_time": "2021-01-08T18:44:05.009684",
     "exception": false,
     "start_time": "2021-01-08T18:43:16.709638",
     "status": "completed"
    },
    "tags": []
   },
   "outputs": [
    {
     "name": "stdout",
     "output_type": "stream",
     "text": [
      "Train for 469 steps, validate for 39 steps\n",
      "Epoch 1/7\n",
      "469/469 - 10s - loss: 0.4617 - sparse_categorical_crossentropy: 0.3818 - sparse_categorical_accuracy: 0.8772 - scaled_adversarial_loss: 0.0799 - val_loss: 0.1597 - val_sparse_categorical_crossentropy: 0.1307 - val_sparse_categorical_accuracy: 0.9619 - val_scaled_adversarial_loss: 0.0290\n",
      "Epoch 2/7\n",
      "469/469 - 6s - loss: 0.1092 - sparse_categorical_crossentropy: 0.0895 - sparse_categorical_accuracy: 0.9735 - scaled_adversarial_loss: 0.0197 - val_loss: 0.0701 - val_sparse_categorical_crossentropy: 0.0569 - val_sparse_categorical_accuracy: 0.9832 - val_scaled_adversarial_loss: 0.0132\n",
      "Epoch 3/7\n",
      "469/469 - 6s - loss: 0.0811 - sparse_categorical_crossentropy: 0.0664 - sparse_categorical_accuracy: 0.9800 - scaled_adversarial_loss: 0.0146 - val_loss: 0.0578 - val_sparse_categorical_crossentropy: 0.0467 - val_sparse_categorical_accuracy: 0.9858 - val_scaled_adversarial_loss: 0.0111\n",
      "Epoch 4/7\n",
      "469/469 - 6s - loss: 0.0669 - sparse_categorical_crossentropy: 0.0547 - sparse_categorical_accuracy: 0.9841 - scaled_adversarial_loss: 0.0122 - val_loss: 0.0597 - val_sparse_categorical_crossentropy: 0.0482 - val_sparse_categorical_accuracy: 0.9866 - val_scaled_adversarial_loss: 0.0115\n",
      "Epoch 5/7\n",
      "469/469 - 6s - loss: 0.0566 - sparse_categorical_crossentropy: 0.0459 - sparse_categorical_accuracy: 0.9862 - scaled_adversarial_loss: 0.0107 - val_loss: 0.0515 - val_sparse_categorical_crossentropy: 0.0415 - val_sparse_categorical_accuracy: 0.9870 - val_scaled_adversarial_loss: 0.0099\n",
      "Epoch 6/7\n",
      "469/469 - 6s - loss: 0.0505 - sparse_categorical_crossentropy: 0.0411 - sparse_categorical_accuracy: 0.9876 - scaled_adversarial_loss: 0.0093 - val_loss: 0.0502 - val_sparse_categorical_crossentropy: 0.0404 - val_sparse_categorical_accuracy: 0.9880 - val_scaled_adversarial_loss: 0.0097\n",
      "Epoch 7/7\n",
      "469/469 - 6s - loss: 0.0452 - sparse_categorical_crossentropy: 0.0367 - sparse_categorical_accuracy: 0.9892 - scaled_adversarial_loss: 0.0085 - val_loss: 0.0457 - val_sparse_categorical_crossentropy: 0.0368 - val_sparse_categorical_accuracy: 0.9896 - val_scaled_adversarial_loss: 0.0089\n"
     ]
    },
    {
     "data": {
      "text/plain": [
       "<tensorflow.python.keras.callbacks.History at 0x7fe28e4fc390>"
      ]
     },
     "execution_count": 27,
     "metadata": {},
     "output_type": "execute_result"
    }
   ],
   "source": [
    "train1=tf.data.Dataset.from_tensor_slices(\n",
    "    {'input':x_train1.reshape(x_train1.shape[0],28,28,1),\n",
    "     'label':y_train1}).batch(batch_size)\n",
    "valid1=tf.data.Dataset.from_tensor_slices(\n",
    "    {'input':x_valid1.reshape(x_valid1.shape[0],28,28,1),\n",
    "     'label':y_valid1}).batch(batch_size)\n",
    "valid_steps=x_valid1.shape[0]//batch_size\n",
    "adv_model.fit(train1,validation_data=valid1,verbose=2,\n",
    "              validation_steps=valid_steps,epochs=epochs)"
   ]
  },
  {
   "cell_type": "code",
   "execution_count": 28,
   "metadata": {
    "papermill": {
     "duration": 1.636348,
     "end_time": "2021-01-08T18:44:06.856946",
     "exception": false,
     "start_time": "2021-01-08T18:44:05.220598",
     "status": "completed"
    },
    "tags": []
   },
   "outputs": [
    {
     "name": "stdout",
     "output_type": "stream",
     "text": [
      "5000/5000 [==============================] - 1s 258us/sample - loss: 0.0176 - sparse_categorical_crossentropy: 0.0140 - sparse_categorical_accuracy: 0.9946 - scaled_adversarial_loss: 0.0035\n"
     ]
    },
    {
     "data": {
      "text/plain": [
       "[0.01762931326192338, 0.014002147, 0.9946, 0.0035446528]"
      ]
     },
     "execution_count": 28,
     "metadata": {},
     "output_type": "execute_result"
    }
   ],
   "source": [
    "adv_model.evaluate({'input':x_test1.reshape(x_test1.shape[0],28,28,1),\n",
    "                    'label':y_test1})"
   ]
  },
  {
   "cell_type": "code",
   "execution_count": 29,
   "metadata": {
    "papermill": {
     "duration": 0.370302,
     "end_time": "2021-01-08T18:44:07.446537",
     "exception": false,
     "start_time": "2021-01-08T18:44:07.076235",
     "status": "completed"
    },
    "tags": []
   },
   "outputs": [],
   "source": [
    "batch_size=64; img_size=32; n_class=10; epochs=20\n",
    "base_model=tf.keras.Sequential([\n",
    "    tf.keras.Input((img_size,img_size,3),name='input'),\n",
    "    tf.keras.layers.Conv2D(32,(5,5),padding='same'),\n",
    "    tf.keras.layers.Activation('relu'),\n",
    "    tf.keras.layers.MaxPooling2D(pool_size=(2,2)),\n",
    "    tf.keras.layers.Dropout(.25),\n",
    "    tf.keras.layers.Conv2D(96,(5,5)),\n",
    "    tf.keras.layers.Activation('relu'),    \n",
    "    tf.keras.layers.MaxPooling2D(pool_size=(2,2)),\n",
    "    tf.keras.layers.Dropout(.25),\n",
    "    tf.keras.layers.GlobalMaxPooling2D(),    \n",
    "    tf.keras.layers.Dense(512),\n",
    "    tf.keras.layers.Activation('relu'),\n",
    "    tf.keras.layers.Dropout(.25),\n",
    "    tf.keras.layers.Dense(10,activation='softmax')\n",
    "])\n",
    "adv_config=nsl.configs\\\n",
    ".make_adv_reg_config(multiplier=.2,adv_step_size=.05)\n",
    "adv_model=nsl.keras\\\n",
    ".AdversarialRegularization(base_model,adv_config=adv_config)\n",
    "adv_model.compile(optimizer='adam',\n",
    "                  loss='sparse_categorical_crossentropy',\n",
    "                  metrics=['accuracy'])"
   ]
  },
  {
   "cell_type": "code",
   "execution_count": 30,
   "metadata": {
    "_kg_hide-output": true,
    "papermill": {
     "duration": 152.382067,
     "end_time": "2021-01-08T18:46:40.049003",
     "exception": false,
     "start_time": "2021-01-08T18:44:07.666936",
     "status": "completed"
    },
    "tags": []
   },
   "outputs": [
    {
     "name": "stdout",
     "output_type": "stream",
     "text": [
      "Train for 782 steps, validate for 78 steps\n",
      "Epoch 1/20\n",
      "782/782 - 9s - loss: 1.9695 - sparse_categorical_crossentropy: 1.6360 - sparse_categorical_accuracy: 0.3975 - scaled_adversarial_loss: 0.3335 - val_loss: 1.6432 - val_sparse_categorical_crossentropy: 1.3591 - val_sparse_categorical_accuracy: 0.5162 - val_scaled_adversarial_loss: 0.2841\n",
      "Epoch 2/20\n",
      "782/782 - 8s - loss: 1.5665 - sparse_categorical_crossentropy: 1.2976 - sparse_categorical_accuracy: 0.5318 - scaled_adversarial_loss: 0.2689 - val_loss: 1.4569 - val_sparse_categorical_crossentropy: 1.2003 - val_sparse_categorical_accuracy: 0.5797 - val_scaled_adversarial_loss: 0.2566\n",
      "Epoch 3/20\n",
      "782/782 - 7s - loss: 1.4121 - sparse_categorical_crossentropy: 1.1681 - sparse_categorical_accuracy: 0.5830 - scaled_adversarial_loss: 0.2441 - val_loss: 1.3658 - val_sparse_categorical_crossentropy: 1.1219 - val_sparse_categorical_accuracy: 0.6052 - val_scaled_adversarial_loss: 0.2439\n",
      "Epoch 4/20\n",
      "782/782 - 8s - loss: 1.3166 - sparse_categorical_crossentropy: 1.0876 - sparse_categorical_accuracy: 0.6136 - scaled_adversarial_loss: 0.2290 - val_loss: 1.3147 - val_sparse_categorical_crossentropy: 1.0780 - val_sparse_categorical_accuracy: 0.6220 - val_scaled_adversarial_loss: 0.2367\n",
      "Epoch 5/20\n",
      "782/782 - 7s - loss: 1.2540 - sparse_categorical_crossentropy: 1.0349 - sparse_categorical_accuracy: 0.6301 - scaled_adversarial_loss: 0.2192 - val_loss: 1.2764 - val_sparse_categorical_crossentropy: 1.0447 - val_sparse_categorical_accuracy: 0.6430 - val_scaled_adversarial_loss: 0.2317\n",
      "Epoch 6/20\n",
      "782/782 - 7s - loss: 1.2047 - sparse_categorical_crossentropy: 0.9935 - sparse_categorical_accuracy: 0.6459 - scaled_adversarial_loss: 0.2112 - val_loss: 1.2230 - val_sparse_categorical_crossentropy: 0.9988 - val_sparse_categorical_accuracy: 0.6607 - val_scaled_adversarial_loss: 0.2241\n",
      "Epoch 7/20\n",
      "782/782 - 7s - loss: 1.1630 - sparse_categorical_crossentropy: 0.9588 - sparse_categorical_accuracy: 0.6604 - scaled_adversarial_loss: 0.2043 - val_loss: 1.1876 - val_sparse_categorical_crossentropy: 0.9684 - val_sparse_categorical_accuracy: 0.6735 - val_scaled_adversarial_loss: 0.2191\n",
      "Epoch 8/20\n",
      "782/782 - 7s - loss: 1.1244 - sparse_categorical_crossentropy: 0.9271 - sparse_categorical_accuracy: 0.6711 - scaled_adversarial_loss: 0.1973 - val_loss: 1.1685 - val_sparse_categorical_crossentropy: 0.9521 - val_sparse_categorical_accuracy: 0.6829 - val_scaled_adversarial_loss: 0.2164\n",
      "Epoch 9/20\n",
      "782/782 - 7s - loss: 1.0960 - sparse_categorical_crossentropy: 0.9018 - sparse_categorical_accuracy: 0.6810 - scaled_adversarial_loss: 0.1942 - val_loss: 1.1472 - val_sparse_categorical_crossentropy: 0.9333 - val_sparse_categorical_accuracy: 0.6827 - val_scaled_adversarial_loss: 0.2139\n",
      "Epoch 10/20\n",
      "782/782 - 8s - loss: 1.0660 - sparse_categorical_crossentropy: 0.8772 - sparse_categorical_accuracy: 0.6872 - scaled_adversarial_loss: 0.1888 - val_loss: 1.1693 - val_sparse_categorical_crossentropy: 0.9504 - val_sparse_categorical_accuracy: 0.6817 - val_scaled_adversarial_loss: 0.2189\n",
      "Epoch 11/20\n",
      "782/782 - 7s - loss: 1.0407 - sparse_categorical_crossentropy: 0.8543 - sparse_categorical_accuracy: 0.6971 - scaled_adversarial_loss: 0.1864 - val_loss: 1.1397 - val_sparse_categorical_crossentropy: 0.9234 - val_sparse_categorical_accuracy: 0.6847 - val_scaled_adversarial_loss: 0.2163\n",
      "Epoch 12/20\n",
      "782/782 - 8s - loss: 1.0264 - sparse_categorical_crossentropy: 0.8435 - sparse_categorical_accuracy: 0.7017 - scaled_adversarial_loss: 0.1829 - val_loss: 1.1193 - val_sparse_categorical_crossentropy: 0.9070 - val_sparse_categorical_accuracy: 0.6893 - val_scaled_adversarial_loss: 0.2123\n",
      "Epoch 13/20\n",
      "782/782 - 7s - loss: 1.0158 - sparse_categorical_crossentropy: 0.8349 - sparse_categorical_accuracy: 0.7046 - scaled_adversarial_loss: 0.1809 - val_loss: 1.1913 - val_sparse_categorical_crossentropy: 0.9650 - val_sparse_categorical_accuracy: 0.6665 - val_scaled_adversarial_loss: 0.2263\n",
      "Epoch 14/20\n",
      "782/782 - 7s - loss: 0.9962 - sparse_categorical_crossentropy: 0.8178 - sparse_categorical_accuracy: 0.7114 - scaled_adversarial_loss: 0.1784 - val_loss: 1.0874 - val_sparse_categorical_crossentropy: 0.8798 - val_sparse_categorical_accuracy: 0.6995 - val_scaled_adversarial_loss: 0.2076\n",
      "Epoch 15/20\n",
      "782/782 - 7s - loss: 0.9761 - sparse_categorical_crossentropy: 0.8006 - sparse_categorical_accuracy: 0.7185 - scaled_adversarial_loss: 0.1755 - val_loss: 1.0925 - val_sparse_categorical_crossentropy: 0.8834 - val_sparse_categorical_accuracy: 0.7089 - val_scaled_adversarial_loss: 0.2090\n",
      "Epoch 16/20\n",
      "782/782 - 7s - loss: 0.9665 - sparse_categorical_crossentropy: 0.7938 - sparse_categorical_accuracy: 0.7205 - scaled_adversarial_loss: 0.1727 - val_loss: 1.1110 - val_sparse_categorical_crossentropy: 0.8977 - val_sparse_categorical_accuracy: 0.6951 - val_scaled_adversarial_loss: 0.2132\n",
      "Epoch 17/20\n",
      "782/782 - 7s - loss: 0.9507 - sparse_categorical_crossentropy: 0.7808 - sparse_categorical_accuracy: 0.7234 - scaled_adversarial_loss: 0.1699 - val_loss: 1.0356 - val_sparse_categorical_crossentropy: 0.8345 - val_sparse_categorical_accuracy: 0.7153 - val_scaled_adversarial_loss: 0.2011\n",
      "Epoch 18/20\n",
      "782/782 - 8s - loss: 0.9357 - sparse_categorical_crossentropy: 0.7670 - sparse_categorical_accuracy: 0.7298 - scaled_adversarial_loss: 0.1687 - val_loss: 1.0475 - val_sparse_categorical_crossentropy: 0.8424 - val_sparse_categorical_accuracy: 0.7107 - val_scaled_adversarial_loss: 0.2051\n",
      "Epoch 19/20\n",
      "782/782 - 7s - loss: 0.9280 - sparse_categorical_crossentropy: 0.7612 - sparse_categorical_accuracy: 0.7309 - scaled_adversarial_loss: 0.1668 - val_loss: 1.0797 - val_sparse_categorical_crossentropy: 0.8691 - val_sparse_categorical_accuracy: 0.6983 - val_scaled_adversarial_loss: 0.2105\n",
      "Epoch 20/20\n",
      "782/782 - 7s - loss: 0.9174 - sparse_categorical_crossentropy: 0.7516 - sparse_categorical_accuracy: 0.7350 - scaled_adversarial_loss: 0.1657 - val_loss: 0.9937 - val_sparse_categorical_crossentropy: 0.7990 - val_sparse_categorical_accuracy: 0.7300 - val_scaled_adversarial_loss: 0.1947\n"
     ]
    },
    {
     "data": {
      "text/plain": [
       "<tensorflow.python.keras.callbacks.History at 0x7fe28c520250>"
      ]
     },
     "execution_count": 30,
     "metadata": {},
     "output_type": "execute_result"
    }
   ],
   "source": [
    "train2=tf.data.Dataset.from_tensor_slices(\n",
    "    {'input':x_train2,'label':y_train2}).batch(batch_size)\n",
    "valid2=tf.data.Dataset.from_tensor_slices(\n",
    "    {'input':x_valid2,'label':y_valid2}).batch(batch_size)\n",
    "valid_steps=x_valid2.shape[0]//batch_size\n",
    "adv_model.fit(train2,validation_data=valid2,verbose=2,\n",
    "              validation_steps=valid_steps,epochs=epochs)"
   ]
  },
  {
   "cell_type": "code",
   "execution_count": 31,
   "metadata": {
    "papermill": {
     "duration": 1.424683,
     "end_time": "2021-01-08T18:46:41.742503",
     "exception": false,
     "start_time": "2021-01-08T18:46:40.317820",
     "status": "completed"
    },
    "tags": []
   },
   "outputs": [
    {
     "name": "stdout",
     "output_type": "stream",
     "text": [
      "5000/5000 [==============================] - 1s 201us/sample - loss: 1.0260 - sparse_categorical_crossentropy: 0.8249 - sparse_categorical_accuracy: 0.7156 - scaled_adversarial_loss: 0.2015\n"
     ]
    },
    {
     "data": {
      "text/plain": [
       "[1.0260270330429078, 0.8248866, 0.7156, 0.20152642]"
      ]
     },
     "execution_count": 31,
     "metadata": {},
     "output_type": "execute_result"
    }
   ],
   "source": [
    "adv_model.evaluate({'input':x_test2,'label':y_test2})"
   ]
  },
  {
   "cell_type": "code",
   "execution_count": 32,
   "metadata": {
    "papermill": {
     "duration": 0.548936,
     "end_time": "2021-01-08T18:46:42.536730",
     "exception": false,
     "start_time": "2021-01-08T18:46:41.987794",
     "status": "completed"
    },
    "tags": []
   },
   "outputs": [],
   "source": [
    "batch_size=128; img_size=32; n_class=33; epochs=150\n",
    "base_model=tf.keras.Sequential([\n",
    "    tf.keras.Input((img_size,img_size,3),name='input'),\n",
    "    tf.keras.layers.Conv2D(32,(5,5),padding='same'),\n",
    "    tf.keras.layers.Activation('relu'),\n",
    "    tf.keras.layers.MaxPooling2D(pool_size=(2,2)),\n",
    "    tf.keras.layers.Dropout(.25),\n",
    "    tf.keras.layers.Conv2D(196,(5,5)),\n",
    "    tf.keras.layers.Activation('relu'),    \n",
    "    tf.keras.layers.MaxPooling2D(pool_size=(2,2)),\n",
    "    tf.keras.layers.Dropout(.25),\n",
    "    tf.keras.layers.GlobalMaxPooling2D(),    \n",
    "    tf.keras.layers.Dense(512),\n",
    "    tf.keras.layers.Activation('relu'),\n",
    "    tf.keras.layers.Dropout(.25),\n",
    "    tf.keras.layers.Dense(33,activation='softmax')\n",
    "])\n",
    "adv_config=nsl.configs\\\n",
    ".make_adv_reg_config(multiplier=.2,adv_step_size=.05)\n",
    "adv_model=nsl.keras\\\n",
    ".AdversarialRegularization(base_model,adv_config=adv_config)\n",
    "adv_model.compile(optimizer='adam',\n",
    "                  loss='sparse_categorical_crossentropy',\n",
    "                  metrics=['accuracy'])"
   ]
  },
  {
   "cell_type": "code",
   "execution_count": 33,
   "metadata": {
    "_kg_hide-output": true,
    "papermill": {
     "duration": 226.036395,
     "end_time": "2021-01-08T18:50:28.888075",
     "exception": false,
     "start_time": "2021-01-08T18:46:42.851680",
     "status": "completed"
    },
    "tags": []
   },
   "outputs": [
    {
     "name": "stdout",
     "output_type": "stream",
     "text": [
      "Train for 89 steps, validate for 11 steps\n",
      "Epoch 1/150\n",
      "89/89 - 3s - loss: 4.1951 - sparse_categorical_crossentropy: 3.4959 - sparse_categorical_accuracy: 0.0307 - scaled_adversarial_loss: 0.6991 - val_loss: 4.1851 - val_sparse_categorical_crossentropy: 3.4874 - val_sparse_categorical_accuracy: 0.0320 - val_scaled_adversarial_loss: 0.6977\n",
      "Epoch 2/150\n",
      "89/89 - 1s - loss: 4.1458 - sparse_categorical_crossentropy: 3.4542 - sparse_categorical_accuracy: 0.0483 - scaled_adversarial_loss: 0.6916 - val_loss: 4.0808 - val_sparse_categorical_crossentropy: 3.3986 - val_sparse_categorical_accuracy: 0.0611 - val_scaled_adversarial_loss: 0.6822\n",
      "Epoch 3/150\n",
      "89/89 - 1s - loss: 4.0335 - sparse_categorical_crossentropy: 3.3583 - sparse_categorical_accuracy: 0.0674 - scaled_adversarial_loss: 0.6752 - val_loss: 4.0084 - val_sparse_categorical_crossentropy: 3.3365 - val_sparse_categorical_accuracy: 0.0788 - val_scaled_adversarial_loss: 0.6719\n",
      "Epoch 4/150\n",
      "89/89 - 1s - loss: 3.9653 - sparse_categorical_crossentropy: 3.3006 - sparse_categorical_accuracy: 0.0718 - scaled_adversarial_loss: 0.6647 - val_loss: 3.9362 - val_sparse_categorical_crossentropy: 3.2750 - val_sparse_categorical_accuracy: 0.0838 - val_scaled_adversarial_loss: 0.6613\n",
      "Epoch 5/150\n",
      "89/89 - 1s - loss: 3.8783 - sparse_categorical_crossentropy: 3.2271 - sparse_categorical_accuracy: 0.0794 - scaled_adversarial_loss: 0.6512 - val_loss: 3.8535 - val_sparse_categorical_crossentropy: 3.2051 - val_sparse_categorical_accuracy: 0.0845 - val_scaled_adversarial_loss: 0.6483\n",
      "Epoch 6/150\n",
      "89/89 - 2s - loss: 3.7968 - sparse_categorical_crossentropy: 3.1577 - sparse_categorical_accuracy: 0.0864 - scaled_adversarial_loss: 0.6392 - val_loss: 3.8180 - val_sparse_categorical_crossentropy: 3.1735 - val_sparse_categorical_accuracy: 0.0859 - val_scaled_adversarial_loss: 0.6445\n",
      "Epoch 7/150\n",
      "89/89 - 1s - loss: 3.7516 - sparse_categorical_crossentropy: 3.1185 - sparse_categorical_accuracy: 0.0942 - scaled_adversarial_loss: 0.6331 - val_loss: 3.7520 - val_sparse_categorical_crossentropy: 3.1180 - val_sparse_categorical_accuracy: 0.0973 - val_scaled_adversarial_loss: 0.6340\n",
      "Epoch 8/150\n",
      "89/89 - 1s - loss: 3.6967 - sparse_categorical_crossentropy: 3.0719 - sparse_categorical_accuracy: 0.1013 - scaled_adversarial_loss: 0.6249 - val_loss: 3.7394 - val_sparse_categorical_crossentropy: 3.1058 - val_sparse_categorical_accuracy: 0.0966 - val_scaled_adversarial_loss: 0.6337\n",
      "Epoch 9/150\n",
      "89/89 - 1s - loss: 3.6694 - sparse_categorical_crossentropy: 3.0491 - sparse_categorical_accuracy: 0.1069 - scaled_adversarial_loss: 0.6204 - val_loss: 3.6761 - val_sparse_categorical_crossentropy: 3.0534 - val_sparse_categorical_accuracy: 0.1058 - val_scaled_adversarial_loss: 0.6227\n",
      "Epoch 10/150\n",
      "89/89 - 1s - loss: 3.5850 - sparse_categorical_crossentropy: 2.9772 - sparse_categorical_accuracy: 0.1242 - scaled_adversarial_loss: 0.6078 - val_loss: 3.6038 - val_sparse_categorical_crossentropy: 2.9915 - val_sparse_categorical_accuracy: 0.1335 - val_scaled_adversarial_loss: 0.6123\n",
      "Epoch 11/150\n",
      "89/89 - 1s - loss: 3.5210 - sparse_categorical_crossentropy: 2.9228 - sparse_categorical_accuracy: 0.1373 - scaled_adversarial_loss: 0.5983 - val_loss: 3.5461 - val_sparse_categorical_crossentropy: 2.9418 - val_sparse_categorical_accuracy: 0.1605 - val_scaled_adversarial_loss: 0.6043\n",
      "Epoch 12/150\n",
      "89/89 - 1s - loss: 3.4380 - sparse_categorical_crossentropy: 2.8521 - sparse_categorical_accuracy: 0.1571 - scaled_adversarial_loss: 0.5859 - val_loss: 3.4391 - val_sparse_categorical_crossentropy: 2.8506 - val_sparse_categorical_accuracy: 0.1861 - val_scaled_adversarial_loss: 0.5885\n",
      "Epoch 13/150\n",
      "89/89 - 2s - loss: 3.3293 - sparse_categorical_crossentropy: 2.7603 - sparse_categorical_accuracy: 0.1818 - scaled_adversarial_loss: 0.5690 - val_loss: 3.3153 - val_sparse_categorical_crossentropy: 2.7444 - val_sparse_categorical_accuracy: 0.2251 - val_scaled_adversarial_loss: 0.5709\n",
      "Epoch 14/150\n",
      "89/89 - 2s - loss: 3.2231 - sparse_categorical_crossentropy: 2.6697 - sparse_categorical_accuracy: 0.2019 - scaled_adversarial_loss: 0.5534 - val_loss: 3.1827 - val_sparse_categorical_crossentropy: 2.6303 - val_sparse_categorical_accuracy: 0.2429 - val_scaled_adversarial_loss: 0.5523\n",
      "Epoch 15/150\n",
      "89/89 - 1s - loss: 3.1138 - sparse_categorical_crossentropy: 2.5773 - sparse_categorical_accuracy: 0.2268 - scaled_adversarial_loss: 0.5365 - val_loss: 3.0741 - val_sparse_categorical_crossentropy: 2.5372 - val_sparse_categorical_accuracy: 0.2784 - val_scaled_adversarial_loss: 0.5369\n",
      "Epoch 16/150\n",
      "89/89 - 1s - loss: 3.0162 - sparse_categorical_crossentropy: 2.4931 - sparse_categorical_accuracy: 0.2438 - scaled_adversarial_loss: 0.5231 - val_loss: 3.0113 - val_sparse_categorical_crossentropy: 2.4821 - val_sparse_categorical_accuracy: 0.2905 - val_scaled_adversarial_loss: 0.5292\n",
      "Epoch 17/150\n",
      "89/89 - 1s - loss: 2.9142 - sparse_categorical_crossentropy: 2.4096 - sparse_categorical_accuracy: 0.2686 - scaled_adversarial_loss: 0.5046 - val_loss: 2.9179 - val_sparse_categorical_crossentropy: 2.4021 - val_sparse_categorical_accuracy: 0.3189 - val_scaled_adversarial_loss: 0.5158\n",
      "Epoch 18/150\n",
      "89/89 - 1s - loss: 2.8092 - sparse_categorical_crossentropy: 2.3165 - sparse_categorical_accuracy: 0.2973 - scaled_adversarial_loss: 0.4926 - val_loss: 2.7460 - val_sparse_categorical_crossentropy: 2.2540 - val_sparse_categorical_accuracy: 0.3636 - val_scaled_adversarial_loss: 0.4920\n",
      "Epoch 19/150\n",
      "89/89 - 1s - loss: 2.7153 - sparse_categorical_crossentropy: 2.2389 - sparse_categorical_accuracy: 0.3217 - scaled_adversarial_loss: 0.4763 - val_loss: 2.6789 - val_sparse_categorical_crossentropy: 2.1971 - val_sparse_categorical_accuracy: 0.3892 - val_scaled_adversarial_loss: 0.4818\n",
      "Epoch 20/150\n",
      "89/89 - 1s - loss: 2.5753 - sparse_categorical_crossentropy: 2.1204 - sparse_categorical_accuracy: 0.3597 - scaled_adversarial_loss: 0.4549 - val_loss: 2.5315 - val_sparse_categorical_crossentropy: 2.0721 - val_sparse_categorical_accuracy: 0.4226 - val_scaled_adversarial_loss: 0.4594\n",
      "Epoch 21/150\n",
      "89/89 - 2s - loss: 2.4489 - sparse_categorical_crossentropy: 2.0145 - sparse_categorical_accuracy: 0.3873 - scaled_adversarial_loss: 0.4344 - val_loss: 2.4094 - val_sparse_categorical_crossentropy: 1.9694 - val_sparse_categorical_accuracy: 0.4467 - val_scaled_adversarial_loss: 0.4400\n",
      "Epoch 22/150\n",
      "89/89 - 2s - loss: 2.3380 - sparse_categorical_crossentropy: 1.9215 - sparse_categorical_accuracy: 0.4221 - scaled_adversarial_loss: 0.4165 - val_loss: 2.2768 - val_sparse_categorical_crossentropy: 1.8551 - val_sparse_categorical_accuracy: 0.4808 - val_scaled_adversarial_loss: 0.4217\n",
      "Epoch 23/150\n",
      "89/89 - 1s - loss: 2.2059 - sparse_categorical_crossentropy: 1.8124 - sparse_categorical_accuracy: 0.4480 - scaled_adversarial_loss: 0.3936 - val_loss: 2.1027 - val_sparse_categorical_crossentropy: 1.7107 - val_sparse_categorical_accuracy: 0.5412 - val_scaled_adversarial_loss: 0.3920\n",
      "Epoch 24/150\n",
      "89/89 - 2s - loss: 2.0693 - sparse_categorical_crossentropy: 1.6962 - sparse_categorical_accuracy: 0.4832 - scaled_adversarial_loss: 0.3731 - val_loss: 1.9803 - val_sparse_categorical_crossentropy: 1.6069 - val_sparse_categorical_accuracy: 0.5732 - val_scaled_adversarial_loss: 0.3734\n",
      "Epoch 25/150\n",
      "89/89 - 2s - loss: 1.9621 - sparse_categorical_crossentropy: 1.6058 - sparse_categorical_accuracy: 0.5125 - scaled_adversarial_loss: 0.3563 - val_loss: 1.8852 - val_sparse_categorical_crossentropy: 1.5254 - val_sparse_categorical_accuracy: 0.5874 - val_scaled_adversarial_loss: 0.3598\n",
      "Epoch 26/150\n",
      "89/89 - 1s - loss: 1.8488 - sparse_categorical_crossentropy: 1.5135 - sparse_categorical_accuracy: 0.5402 - scaled_adversarial_loss: 0.3352 - val_loss: 1.7856 - val_sparse_categorical_crossentropy: 1.4430 - val_sparse_categorical_accuracy: 0.6236 - val_scaled_adversarial_loss: 0.3426\n",
      "Epoch 27/150\n",
      "89/89 - 2s - loss: 1.7695 - sparse_categorical_crossentropy: 1.4483 - sparse_categorical_accuracy: 0.5542 - scaled_adversarial_loss: 0.3211 - val_loss: 1.7217 - val_sparse_categorical_crossentropy: 1.3886 - val_sparse_categorical_accuracy: 0.6357 - val_scaled_adversarial_loss: 0.3331\n",
      "Epoch 28/150\n",
      "89/89 - 2s - loss: 1.6802 - sparse_categorical_crossentropy: 1.3727 - sparse_categorical_accuracy: 0.5854 - scaled_adversarial_loss: 0.3075 - val_loss: 1.5700 - val_sparse_categorical_crossentropy: 1.2611 - val_sparse_categorical_accuracy: 0.6669 - val_scaled_adversarial_loss: 0.3089\n",
      "Epoch 29/150\n",
      "89/89 - 2s - loss: 1.6068 - sparse_categorical_crossentropy: 1.3136 - sparse_categorical_accuracy: 0.5987 - scaled_adversarial_loss: 0.2933 - val_loss: 1.4796 - val_sparse_categorical_crossentropy: 1.1869 - val_sparse_categorical_accuracy: 0.6889 - val_scaled_adversarial_loss: 0.2927\n",
      "Epoch 30/150\n",
      "89/89 - 1s - loss: 1.5424 - sparse_categorical_crossentropy: 1.2567 - sparse_categorical_accuracy: 0.6183 - scaled_adversarial_loss: 0.2857 - val_loss: 1.4014 - val_sparse_categorical_crossentropy: 1.1216 - val_sparse_categorical_accuracy: 0.7010 - val_scaled_adversarial_loss: 0.2799\n",
      "Epoch 31/150\n",
      "89/89 - 1s - loss: 1.4889 - sparse_categorical_crossentropy: 1.2109 - sparse_categorical_accuracy: 0.6301 - scaled_adversarial_loss: 0.2781 - val_loss: 1.3568 - val_sparse_categorical_crossentropy: 1.0830 - val_sparse_categorical_accuracy: 0.7116 - val_scaled_adversarial_loss: 0.2739\n",
      "Epoch 32/150\n",
      "89/89 - 1s - loss: 1.4537 - sparse_categorical_crossentropy: 1.1859 - sparse_categorical_accuracy: 0.6419 - scaled_adversarial_loss: 0.2679 - val_loss: 1.3776 - val_sparse_categorical_crossentropy: 1.1004 - val_sparse_categorical_accuracy: 0.6996 - val_scaled_adversarial_loss: 0.2772\n",
      "Epoch 33/150\n",
      "89/89 - 1s - loss: 1.3898 - sparse_categorical_crossentropy: 1.1300 - sparse_categorical_accuracy: 0.6628 - scaled_adversarial_loss: 0.2597 - val_loss: 1.2151 - val_sparse_categorical_crossentropy: 0.9669 - val_sparse_categorical_accuracy: 0.7599 - val_scaled_adversarial_loss: 0.2482\n",
      "Epoch 34/150\n",
      "89/89 - 1s - loss: 1.3233 - sparse_categorical_crossentropy: 1.0749 - sparse_categorical_accuracy: 0.6753 - scaled_adversarial_loss: 0.2484 - val_loss: 1.1897 - val_sparse_categorical_crossentropy: 0.9455 - val_sparse_categorical_accuracy: 0.7585 - val_scaled_adversarial_loss: 0.2442\n",
      "Epoch 35/150\n",
      "89/89 - 1s - loss: 1.3011 - sparse_categorical_crossentropy: 1.0562 - sparse_categorical_accuracy: 0.6726 - scaled_adversarial_loss: 0.2448 - val_loss: 1.2205 - val_sparse_categorical_crossentropy: 0.9707 - val_sparse_categorical_accuracy: 0.7571 - val_scaled_adversarial_loss: 0.2498\n",
      "Epoch 36/150\n",
      "89/89 - 2s - loss: 1.2696 - sparse_categorical_crossentropy: 1.0316 - sparse_categorical_accuracy: 0.6817 - scaled_adversarial_loss: 0.2380 - val_loss: 1.1311 - val_sparse_categorical_crossentropy: 0.8983 - val_sparse_categorical_accuracy: 0.7749 - val_scaled_adversarial_loss: 0.2327\n",
      "Epoch 37/150\n",
      "89/89 - 1s - loss: 1.2083 - sparse_categorical_crossentropy: 0.9784 - sparse_categorical_accuracy: 0.7020 - scaled_adversarial_loss: 0.2299 - val_loss: 1.1416 - val_sparse_categorical_crossentropy: 0.9035 - val_sparse_categorical_accuracy: 0.7720 - val_scaled_adversarial_loss: 0.2381\n",
      "Epoch 38/150\n",
      "89/89 - 1s - loss: 1.1996 - sparse_categorical_crossentropy: 0.9729 - sparse_categorical_accuracy: 0.7008 - scaled_adversarial_loss: 0.2267 - val_loss: 1.1482 - val_sparse_categorical_crossentropy: 0.9102 - val_sparse_categorical_accuracy: 0.7614 - val_scaled_adversarial_loss: 0.2380\n",
      "Epoch 39/150\n",
      "89/89 - 1s - loss: 1.1376 - sparse_categorical_crossentropy: 0.9216 - sparse_categorical_accuracy: 0.7195 - scaled_adversarial_loss: 0.2159 - val_loss: 0.9809 - val_sparse_categorical_crossentropy: 0.7722 - val_sparse_categorical_accuracy: 0.8118 - val_scaled_adversarial_loss: 0.2086\n",
      "Epoch 40/150\n",
      "89/89 - 1s - loss: 1.1197 - sparse_categorical_crossentropy: 0.9074 - sparse_categorical_accuracy: 0.7206 - scaled_adversarial_loss: 0.2122 - val_loss: 1.0171 - val_sparse_categorical_crossentropy: 0.8047 - val_sparse_categorical_accuracy: 0.7997 - val_scaled_adversarial_loss: 0.2124\n",
      "Epoch 41/150\n",
      "89/89 - 1s - loss: 1.0829 - sparse_categorical_crossentropy: 0.8784 - sparse_categorical_accuracy: 0.7311 - scaled_adversarial_loss: 0.2045 - val_loss: 0.9889 - val_sparse_categorical_crossentropy: 0.7796 - val_sparse_categorical_accuracy: 0.8082 - val_scaled_adversarial_loss: 0.2093\n",
      "Epoch 42/150\n",
      "89/89 - 1s - loss: 1.1062 - sparse_categorical_crossentropy: 0.8948 - sparse_categorical_accuracy: 0.7251 - scaled_adversarial_loss: 0.2115 - val_loss: 1.0358 - val_sparse_categorical_crossentropy: 0.8160 - val_sparse_categorical_accuracy: 0.7919 - val_scaled_adversarial_loss: 0.2198\n",
      "Epoch 43/150\n",
      "89/89 - 2s - loss: 1.0561 - sparse_categorical_crossentropy: 0.8519 - sparse_categorical_accuracy: 0.7329 - scaled_adversarial_loss: 0.2042 - val_loss: 0.8921 - val_sparse_categorical_crossentropy: 0.6957 - val_sparse_categorical_accuracy: 0.8239 - val_scaled_adversarial_loss: 0.1964\n",
      "Epoch 44/150\n",
      "89/89 - 2s - loss: 1.0102 - sparse_categorical_crossentropy: 0.8159 - sparse_categorical_accuracy: 0.7506 - scaled_adversarial_loss: 0.1942 - val_loss: 0.9184 - val_sparse_categorical_crossentropy: 0.7182 - val_sparse_categorical_accuracy: 0.8139 - val_scaled_adversarial_loss: 0.2002\n",
      "Epoch 45/150\n",
      "89/89 - 1s - loss: 0.9977 - sparse_categorical_crossentropy: 0.8073 - sparse_categorical_accuracy: 0.7521 - scaled_adversarial_loss: 0.1904 - val_loss: 0.9366 - val_sparse_categorical_crossentropy: 0.7323 - val_sparse_categorical_accuracy: 0.8047 - val_scaled_adversarial_loss: 0.2043\n",
      "Epoch 46/150\n",
      "89/89 - 1s - loss: 0.9834 - sparse_categorical_crossentropy: 0.7966 - sparse_categorical_accuracy: 0.7538 - scaled_adversarial_loss: 0.1868 - val_loss: 0.8694 - val_sparse_categorical_crossentropy: 0.6768 - val_sparse_categorical_accuracy: 0.8182 - val_scaled_adversarial_loss: 0.1926\n",
      "Epoch 47/150\n",
      "89/89 - 1s - loss: 0.9657 - sparse_categorical_crossentropy: 0.7796 - sparse_categorical_accuracy: 0.7627 - scaled_adversarial_loss: 0.1861 - val_loss: 0.8690 - val_sparse_categorical_crossentropy: 0.6806 - val_sparse_categorical_accuracy: 0.8224 - val_scaled_adversarial_loss: 0.1884\n",
      "Epoch 48/150\n",
      "89/89 - 1s - loss: 0.9296 - sparse_categorical_crossentropy: 0.7492 - sparse_categorical_accuracy: 0.7711 - scaled_adversarial_loss: 0.1803 - val_loss: 0.8309 - val_sparse_categorical_crossentropy: 0.6502 - val_sparse_categorical_accuracy: 0.8331 - val_scaled_adversarial_loss: 0.1807\n",
      "Epoch 49/150\n",
      "89/89 - 1s - loss: 0.9067 - sparse_categorical_crossentropy: 0.7267 - sparse_categorical_accuracy: 0.7785 - scaled_adversarial_loss: 0.1800 - val_loss: 0.7708 - val_sparse_categorical_crossentropy: 0.5981 - val_sparse_categorical_accuracy: 0.8381 - val_scaled_adversarial_loss: 0.1727\n",
      "Epoch 50/150\n",
      "89/89 - 1s - loss: 0.8937 - sparse_categorical_crossentropy: 0.7211 - sparse_categorical_accuracy: 0.7783 - scaled_adversarial_loss: 0.1726 - val_loss: 0.8073 - val_sparse_categorical_crossentropy: 0.6285 - val_sparse_categorical_accuracy: 0.8352 - val_scaled_adversarial_loss: 0.1788\n",
      "Epoch 51/150\n",
      "89/89 - 2s - loss: 0.8955 - sparse_categorical_crossentropy: 0.7232 - sparse_categorical_accuracy: 0.7748 - scaled_adversarial_loss: 0.1723 - val_loss: 0.7802 - val_sparse_categorical_crossentropy: 0.6035 - val_sparse_categorical_accuracy: 0.8366 - val_scaled_adversarial_loss: 0.1767\n",
      "Epoch 52/150\n",
      "89/89 - 1s - loss: 0.8852 - sparse_categorical_crossentropy: 0.7151 - sparse_categorical_accuracy: 0.7783 - scaled_adversarial_loss: 0.1700 - val_loss: 0.7936 - val_sparse_categorical_crossentropy: 0.6176 - val_sparse_categorical_accuracy: 0.8416 - val_scaled_adversarial_loss: 0.1760\n",
      "Epoch 53/150\n",
      "89/89 - 1s - loss: 0.8532 - sparse_categorical_crossentropy: 0.6870 - sparse_categorical_accuracy: 0.7882 - scaled_adversarial_loss: 0.1662 - val_loss: 0.7448 - val_sparse_categorical_crossentropy: 0.5787 - val_sparse_categorical_accuracy: 0.8445 - val_scaled_adversarial_loss: 0.1662\n",
      "Epoch 54/150\n",
      "89/89 - 1s - loss: 0.8299 - sparse_categorical_crossentropy: 0.6658 - sparse_categorical_accuracy: 0.7939 - scaled_adversarial_loss: 0.1641 - val_loss: 0.7603 - val_sparse_categorical_crossentropy: 0.5917 - val_sparse_categorical_accuracy: 0.8459 - val_scaled_adversarial_loss: 0.1687\n",
      "Epoch 55/150\n",
      "89/89 - 1s - loss: 0.8320 - sparse_categorical_crossentropy: 0.6687 - sparse_categorical_accuracy: 0.7917 - scaled_adversarial_loss: 0.1633 - val_loss: 0.7448 - val_sparse_categorical_crossentropy: 0.5768 - val_sparse_categorical_accuracy: 0.8459 - val_scaled_adversarial_loss: 0.1680\n",
      "Epoch 56/150\n",
      "89/89 - 1s - loss: 0.8179 - sparse_categorical_crossentropy: 0.6584 - sparse_categorical_accuracy: 0.8015 - scaled_adversarial_loss: 0.1595 - val_loss: 0.6914 - val_sparse_categorical_crossentropy: 0.5335 - val_sparse_categorical_accuracy: 0.8558 - val_scaled_adversarial_loss: 0.1579\n",
      "Epoch 57/150\n",
      "89/89 - 1s - loss: 0.8179 - sparse_categorical_crossentropy: 0.6595 - sparse_categorical_accuracy: 0.7981 - scaled_adversarial_loss: 0.1584 - val_loss: 0.6925 - val_sparse_categorical_crossentropy: 0.5363 - val_sparse_categorical_accuracy: 0.8587 - val_scaled_adversarial_loss: 0.1562\n",
      "Epoch 58/150\n",
      "89/89 - 2s - loss: 0.7878 - sparse_categorical_crossentropy: 0.6350 - sparse_categorical_accuracy: 0.8020 - scaled_adversarial_loss: 0.1529 - val_loss: 0.6663 - val_sparse_categorical_crossentropy: 0.5118 - val_sparse_categorical_accuracy: 0.8658 - val_scaled_adversarial_loss: 0.1545\n",
      "Epoch 59/150\n",
      "89/89 - 1s - loss: 0.7896 - sparse_categorical_crossentropy: 0.6325 - sparse_categorical_accuracy: 0.8049 - scaled_adversarial_loss: 0.1571 - val_loss: 0.7128 - val_sparse_categorical_crossentropy: 0.5495 - val_sparse_categorical_accuracy: 0.8494 - val_scaled_adversarial_loss: 0.1632\n",
      "Epoch 60/150\n",
      "89/89 - 1s - loss: 0.7480 - sparse_categorical_crossentropy: 0.5978 - sparse_categorical_accuracy: 0.8132 - scaled_adversarial_loss: 0.1501 - val_loss: 0.6796 - val_sparse_categorical_crossentropy: 0.5224 - val_sparse_categorical_accuracy: 0.8643 - val_scaled_adversarial_loss: 0.1572\n",
      "Epoch 61/150\n",
      "89/89 - 1s - loss: 0.7771 - sparse_categorical_crossentropy: 0.6220 - sparse_categorical_accuracy: 0.8073 - scaled_adversarial_loss: 0.1551 - val_loss: 0.6957 - val_sparse_categorical_crossentropy: 0.5394 - val_sparse_categorical_accuracy: 0.8501 - val_scaled_adversarial_loss: 0.1563\n",
      "Epoch 62/150\n",
      "89/89 - 1s - loss: 0.7464 - sparse_categorical_crossentropy: 0.5972 - sparse_categorical_accuracy: 0.8137 - scaled_adversarial_loss: 0.1492 - val_loss: 0.6196 - val_sparse_categorical_crossentropy: 0.4741 - val_sparse_categorical_accuracy: 0.8743 - val_scaled_adversarial_loss: 0.1456\n",
      "Epoch 63/150\n",
      "89/89 - 1s - loss: 0.7454 - sparse_categorical_crossentropy: 0.5965 - sparse_categorical_accuracy: 0.8138 - scaled_adversarial_loss: 0.1488 - val_loss: 0.7156 - val_sparse_categorical_crossentropy: 0.5490 - val_sparse_categorical_accuracy: 0.8480 - val_scaled_adversarial_loss: 0.1666\n",
      "Epoch 64/150\n",
      "89/89 - 1s - loss: 0.7276 - sparse_categorical_crossentropy: 0.5849 - sparse_categorical_accuracy: 0.8179 - scaled_adversarial_loss: 0.1427 - val_loss: 0.6496 - val_sparse_categorical_crossentropy: 0.4942 - val_sparse_categorical_accuracy: 0.8651 - val_scaled_adversarial_loss: 0.1553\n",
      "Epoch 65/150\n",
      "89/89 - 2s - loss: 0.7338 - sparse_categorical_crossentropy: 0.5905 - sparse_categorical_accuracy: 0.8202 - scaled_adversarial_loss: 0.1433 - val_loss: 0.6922 - val_sparse_categorical_crossentropy: 0.5309 - val_sparse_categorical_accuracy: 0.8523 - val_scaled_adversarial_loss: 0.1614\n",
      "Epoch 66/150\n",
      "89/89 - 2s - loss: 0.7179 - sparse_categorical_crossentropy: 0.5741 - sparse_categorical_accuracy: 0.8210 - scaled_adversarial_loss: 0.1438 - val_loss: 0.6239 - val_sparse_categorical_crossentropy: 0.4793 - val_sparse_categorical_accuracy: 0.8700 - val_scaled_adversarial_loss: 0.1445\n",
      "Epoch 67/150\n",
      "89/89 - 1s - loss: 0.7189 - sparse_categorical_crossentropy: 0.5787 - sparse_categorical_accuracy: 0.8184 - scaled_adversarial_loss: 0.1403 - val_loss: 0.5916 - val_sparse_categorical_crossentropy: 0.4533 - val_sparse_categorical_accuracy: 0.8729 - val_scaled_adversarial_loss: 0.1383\n",
      "Epoch 68/150\n",
      "89/89 - 1s - loss: 0.7119 - sparse_categorical_crossentropy: 0.5722 - sparse_categorical_accuracy: 0.8229 - scaled_adversarial_loss: 0.1397 - val_loss: 0.5911 - val_sparse_categorical_crossentropy: 0.4496 - val_sparse_categorical_accuracy: 0.8778 - val_scaled_adversarial_loss: 0.1415\n",
      "Epoch 69/150\n",
      "89/89 - 1s - loss: 0.6862 - sparse_categorical_crossentropy: 0.5497 - sparse_categorical_accuracy: 0.8244 - scaled_adversarial_loss: 0.1365 - val_loss: 0.5747 - val_sparse_categorical_crossentropy: 0.4362 - val_sparse_categorical_accuracy: 0.8793 - val_scaled_adversarial_loss: 0.1384\n",
      "Epoch 70/150\n",
      "89/89 - 1s - loss: 0.6767 - sparse_categorical_crossentropy: 0.5422 - sparse_categorical_accuracy: 0.8308 - scaled_adversarial_loss: 0.1345 - val_loss: 0.5818 - val_sparse_categorical_crossentropy: 0.4454 - val_sparse_categorical_accuracy: 0.8828 - val_scaled_adversarial_loss: 0.1364\n",
      "Epoch 71/150\n",
      "89/89 - 1s - loss: 0.6746 - sparse_categorical_crossentropy: 0.5410 - sparse_categorical_accuracy: 0.8312 - scaled_adversarial_loss: 0.1336 - val_loss: 0.5932 - val_sparse_categorical_crossentropy: 0.4514 - val_sparse_categorical_accuracy: 0.8764 - val_scaled_adversarial_loss: 0.1418\n",
      "Epoch 72/150\n",
      "89/89 - 2s - loss: 0.6709 - sparse_categorical_crossentropy: 0.5375 - sparse_categorical_accuracy: 0.8288 - scaled_adversarial_loss: 0.1334 - val_loss: 0.6545 - val_sparse_categorical_crossentropy: 0.4995 - val_sparse_categorical_accuracy: 0.8558 - val_scaled_adversarial_loss: 0.1549\n",
      "Epoch 73/150\n",
      "89/89 - 1s - loss: 0.6564 - sparse_categorical_crossentropy: 0.5237 - sparse_categorical_accuracy: 0.8320 - scaled_adversarial_loss: 0.1328 - val_loss: 0.5671 - val_sparse_categorical_crossentropy: 0.4301 - val_sparse_categorical_accuracy: 0.8842 - val_scaled_adversarial_loss: 0.1370\n",
      "Epoch 74/150\n",
      "89/89 - 1s - loss: 0.6331 - sparse_categorical_crossentropy: 0.5047 - sparse_categorical_accuracy: 0.8414 - scaled_adversarial_loss: 0.1284 - val_loss: 0.6105 - val_sparse_categorical_crossentropy: 0.4632 - val_sparse_categorical_accuracy: 0.8743 - val_scaled_adversarial_loss: 0.1473\n",
      "Epoch 75/150\n",
      "89/89 - 1s - loss: 0.6457 - sparse_categorical_crossentropy: 0.5108 - sparse_categorical_accuracy: 0.8359 - scaled_adversarial_loss: 0.1349 - val_loss: 0.5807 - val_sparse_categorical_crossentropy: 0.4409 - val_sparse_categorical_accuracy: 0.8764 - val_scaled_adversarial_loss: 0.1398\n",
      "Epoch 76/150\n",
      "89/89 - 1s - loss: 0.6533 - sparse_categorical_crossentropy: 0.5235 - sparse_categorical_accuracy: 0.8365 - scaled_adversarial_loss: 0.1297 - val_loss: 0.5791 - val_sparse_categorical_crossentropy: 0.4407 - val_sparse_categorical_accuracy: 0.8786 - val_scaled_adversarial_loss: 0.1384\n",
      "Epoch 77/150\n",
      "89/89 - 1s - loss: 0.6436 - sparse_categorical_crossentropy: 0.5135 - sparse_categorical_accuracy: 0.8367 - scaled_adversarial_loss: 0.1301 - val_loss: 0.5617 - val_sparse_categorical_crossentropy: 0.4270 - val_sparse_categorical_accuracy: 0.8842 - val_scaled_adversarial_loss: 0.1346\n",
      "Epoch 78/150\n",
      "89/89 - 1s - loss: 0.6498 - sparse_categorical_crossentropy: 0.5204 - sparse_categorical_accuracy: 0.8343 - scaled_adversarial_loss: 0.1294 - val_loss: 0.5390 - val_sparse_categorical_crossentropy: 0.4090 - val_sparse_categorical_accuracy: 0.8871 - val_scaled_adversarial_loss: 0.1301\n",
      "Epoch 79/150\n",
      "89/89 - 1s - loss: 0.5963 - sparse_categorical_crossentropy: 0.4757 - sparse_categorical_accuracy: 0.8484 - scaled_adversarial_loss: 0.1206 - val_loss: 0.5355 - val_sparse_categorical_crossentropy: 0.4060 - val_sparse_categorical_accuracy: 0.8906 - val_scaled_adversarial_loss: 0.1296\n",
      "Epoch 80/150\n",
      "89/89 - 2s - loss: 0.6098 - sparse_categorical_crossentropy: 0.4857 - sparse_categorical_accuracy: 0.8467 - scaled_adversarial_loss: 0.1240 - val_loss: 0.5191 - val_sparse_categorical_crossentropy: 0.3930 - val_sparse_categorical_accuracy: 0.8899 - val_scaled_adversarial_loss: 0.1261\n",
      "Epoch 81/150\n",
      "89/89 - 1s - loss: 0.6296 - sparse_categorical_crossentropy: 0.5039 - sparse_categorical_accuracy: 0.8394 - scaled_adversarial_loss: 0.1258 - val_loss: 0.5606 - val_sparse_categorical_crossentropy: 0.4291 - val_sparse_categorical_accuracy: 0.8871 - val_scaled_adversarial_loss: 0.1316\n",
      "Epoch 82/150\n",
      "89/89 - 1s - loss: 0.6202 - sparse_categorical_crossentropy: 0.4957 - sparse_categorical_accuracy: 0.8451 - scaled_adversarial_loss: 0.1245 - val_loss: 0.5200 - val_sparse_categorical_crossentropy: 0.3938 - val_sparse_categorical_accuracy: 0.8970 - val_scaled_adversarial_loss: 0.1262\n",
      "Epoch 83/150\n",
      "89/89 - 1s - loss: 0.5762 - sparse_categorical_crossentropy: 0.4563 - sparse_categorical_accuracy: 0.8569 - scaled_adversarial_loss: 0.1199 - val_loss: 0.5511 - val_sparse_categorical_crossentropy: 0.4170 - val_sparse_categorical_accuracy: 0.8807 - val_scaled_adversarial_loss: 0.1341\n",
      "Epoch 84/150\n",
      "89/89 - 1s - loss: 0.5901 - sparse_categorical_crossentropy: 0.4684 - sparse_categorical_accuracy: 0.8528 - scaled_adversarial_loss: 0.1217 - val_loss: 0.4989 - val_sparse_categorical_crossentropy: 0.3749 - val_sparse_categorical_accuracy: 0.8956 - val_scaled_adversarial_loss: 0.1240\n",
      "Epoch 85/150\n",
      "89/89 - 1s - loss: 0.6067 - sparse_categorical_crossentropy: 0.4840 - sparse_categorical_accuracy: 0.8470 - scaled_adversarial_loss: 0.1226 - val_loss: 0.5095 - val_sparse_categorical_crossentropy: 0.3863 - val_sparse_categorical_accuracy: 0.8928 - val_scaled_adversarial_loss: 0.1233\n",
      "Epoch 86/150\n",
      "89/89 - 2s - loss: 0.5632 - sparse_categorical_crossentropy: 0.4496 - sparse_categorical_accuracy: 0.8583 - scaled_adversarial_loss: 0.1136 - val_loss: 0.5165 - val_sparse_categorical_crossentropy: 0.3884 - val_sparse_categorical_accuracy: 0.8906 - val_scaled_adversarial_loss: 0.1281\n",
      "Epoch 87/150\n",
      "89/89 - 2s - loss: 0.5627 - sparse_categorical_crossentropy: 0.4442 - sparse_categorical_accuracy: 0.8580 - scaled_adversarial_loss: 0.1184 - val_loss: 0.5159 - val_sparse_categorical_crossentropy: 0.3874 - val_sparse_categorical_accuracy: 0.8906 - val_scaled_adversarial_loss: 0.1285\n",
      "Epoch 88/150\n",
      "89/89 - 1s - loss: 0.5671 - sparse_categorical_crossentropy: 0.4464 - sparse_categorical_accuracy: 0.8561 - scaled_adversarial_loss: 0.1208 - val_loss: 0.4962 - val_sparse_categorical_crossentropy: 0.3704 - val_sparse_categorical_accuracy: 0.8970 - val_scaled_adversarial_loss: 0.1259\n",
      "Epoch 89/150\n",
      "89/89 - 1s - loss: 0.5590 - sparse_categorical_crossentropy: 0.4464 - sparse_categorical_accuracy: 0.8614 - scaled_adversarial_loss: 0.1125 - val_loss: 0.4966 - val_sparse_categorical_crossentropy: 0.3703 - val_sparse_categorical_accuracy: 0.8970 - val_scaled_adversarial_loss: 0.1263\n",
      "Epoch 90/150\n",
      "89/89 - 2s - loss: 0.5564 - sparse_categorical_crossentropy: 0.4438 - sparse_categorical_accuracy: 0.8614 - scaled_adversarial_loss: 0.1125 - val_loss: 0.4892 - val_sparse_categorical_crossentropy: 0.3653 - val_sparse_categorical_accuracy: 0.8935 - val_scaled_adversarial_loss: 0.1239\n",
      "Epoch 91/150\n",
      "89/89 - 1s - loss: 0.5584 - sparse_categorical_crossentropy: 0.4447 - sparse_categorical_accuracy: 0.8585 - scaled_adversarial_loss: 0.1137 - val_loss: 0.4814 - val_sparse_categorical_crossentropy: 0.3602 - val_sparse_categorical_accuracy: 0.8999 - val_scaled_adversarial_loss: 0.1212\n",
      "Epoch 92/150\n",
      "89/89 - 1s - loss: 0.5697 - sparse_categorical_crossentropy: 0.4545 - sparse_categorical_accuracy: 0.8567 - scaled_adversarial_loss: 0.1151 - val_loss: 0.5514 - val_sparse_categorical_crossentropy: 0.4167 - val_sparse_categorical_accuracy: 0.8885 - val_scaled_adversarial_loss: 0.1347\n",
      "Epoch 93/150\n",
      "89/89 - 1s - loss: 0.5559 - sparse_categorical_crossentropy: 0.4412 - sparse_categorical_accuracy: 0.8597 - scaled_adversarial_loss: 0.1147 - val_loss: 0.4912 - val_sparse_categorical_crossentropy: 0.3653 - val_sparse_categorical_accuracy: 0.8942 - val_scaled_adversarial_loss: 0.1259\n",
      "Epoch 94/150\n",
      "89/89 - 2s - loss: 0.5414 - sparse_categorical_crossentropy: 0.4307 - sparse_categorical_accuracy: 0.8628 - scaled_adversarial_loss: 0.1107 - val_loss: 0.4917 - val_sparse_categorical_crossentropy: 0.3658 - val_sparse_categorical_accuracy: 0.8977 - val_scaled_adversarial_loss: 0.1259\n",
      "Epoch 95/150\n",
      "89/89 - 2s - loss: 0.5373 - sparse_categorical_crossentropy: 0.4265 - sparse_categorical_accuracy: 0.8621 - scaled_adversarial_loss: 0.1108 - val_loss: 0.5016 - val_sparse_categorical_crossentropy: 0.3746 - val_sparse_categorical_accuracy: 0.8935 - val_scaled_adversarial_loss: 0.1270\n",
      "Epoch 96/150\n",
      "89/89 - 1s - loss: 0.5593 - sparse_categorical_crossentropy: 0.4451 - sparse_categorical_accuracy: 0.8572 - scaled_adversarial_loss: 0.1142 - val_loss: 0.5474 - val_sparse_categorical_crossentropy: 0.4135 - val_sparse_categorical_accuracy: 0.8913 - val_scaled_adversarial_loss: 0.1339\n",
      "Epoch 97/150\n",
      "89/89 - 1s - loss: 0.5161 - sparse_categorical_crossentropy: 0.4097 - sparse_categorical_accuracy: 0.8680 - scaled_adversarial_loss: 0.1064 - val_loss: 0.4950 - val_sparse_categorical_crossentropy: 0.3739 - val_sparse_categorical_accuracy: 0.8991 - val_scaled_adversarial_loss: 0.1211\n",
      "Epoch 98/150\n",
      "89/89 - 1s - loss: 0.5267 - sparse_categorical_crossentropy: 0.4208 - sparse_categorical_accuracy: 0.8634 - scaled_adversarial_loss: 0.1058 - val_loss: 0.4767 - val_sparse_categorical_crossentropy: 0.3572 - val_sparse_categorical_accuracy: 0.9034 - val_scaled_adversarial_loss: 0.1195\n",
      "Epoch 99/150\n",
      "89/89 - 1s - loss: 0.5172 - sparse_categorical_crossentropy: 0.4087 - sparse_categorical_accuracy: 0.8677 - scaled_adversarial_loss: 0.1086 - val_loss: 0.4978 - val_sparse_categorical_crossentropy: 0.3738 - val_sparse_categorical_accuracy: 0.8899 - val_scaled_adversarial_loss: 0.1240\n",
      "Epoch 100/150\n",
      "89/89 - 1s - loss: 0.5081 - sparse_categorical_crossentropy: 0.4034 - sparse_categorical_accuracy: 0.8680 - scaled_adversarial_loss: 0.1047 - val_loss: 0.4754 - val_sparse_categorical_crossentropy: 0.3538 - val_sparse_categorical_accuracy: 0.8977 - val_scaled_adversarial_loss: 0.1216\n",
      "Epoch 101/150\n",
      "89/89 - 1s - loss: 0.4967 - sparse_categorical_crossentropy: 0.3948 - sparse_categorical_accuracy: 0.8684 - scaled_adversarial_loss: 0.1019 - val_loss: 0.4753 - val_sparse_categorical_crossentropy: 0.3570 - val_sparse_categorical_accuracy: 0.8991 - val_scaled_adversarial_loss: 0.1183\n",
      "Epoch 102/150\n",
      "89/89 - 2s - loss: 0.5018 - sparse_categorical_crossentropy: 0.4000 - sparse_categorical_accuracy: 0.8722 - scaled_adversarial_loss: 0.1019 - val_loss: 0.4936 - val_sparse_categorical_crossentropy: 0.3682 - val_sparse_categorical_accuracy: 0.8999 - val_scaled_adversarial_loss: 0.1254\n",
      "Epoch 103/150\n",
      "89/89 - 1s - loss: 0.5097 - sparse_categorical_crossentropy: 0.4037 - sparse_categorical_accuracy: 0.8717 - scaled_adversarial_loss: 0.1059 - val_loss: 0.4586 - val_sparse_categorical_crossentropy: 0.3411 - val_sparse_categorical_accuracy: 0.9041 - val_scaled_adversarial_loss: 0.1176\n",
      "Epoch 104/150\n",
      "89/89 - 1s - loss: 0.4943 - sparse_categorical_crossentropy: 0.3929 - sparse_categorical_accuracy: 0.8725 - scaled_adversarial_loss: 0.1014 - val_loss: 0.4709 - val_sparse_categorical_crossentropy: 0.3545 - val_sparse_categorical_accuracy: 0.9084 - val_scaled_adversarial_loss: 0.1164\n",
      "Epoch 105/150\n",
      "89/89 - 2s - loss: 0.4818 - sparse_categorical_crossentropy: 0.3822 - sparse_categorical_accuracy: 0.8751 - scaled_adversarial_loss: 0.0996 - val_loss: 0.4574 - val_sparse_categorical_crossentropy: 0.3410 - val_sparse_categorical_accuracy: 0.9077 - val_scaled_adversarial_loss: 0.1164\n",
      "Epoch 106/150\n",
      "89/89 - 2s - loss: 0.4590 - sparse_categorical_crossentropy: 0.3619 - sparse_categorical_accuracy: 0.8826 - scaled_adversarial_loss: 0.0971 - val_loss: 0.4526 - val_sparse_categorical_crossentropy: 0.3379 - val_sparse_categorical_accuracy: 0.9084 - val_scaled_adversarial_loss: 0.1147\n",
      "Epoch 107/150\n",
      "89/89 - 1s - loss: 0.4878 - sparse_categorical_crossentropy: 0.3889 - sparse_categorical_accuracy: 0.8761 - scaled_adversarial_loss: 0.0989 - val_loss: 0.4800 - val_sparse_categorical_crossentropy: 0.3569 - val_sparse_categorical_accuracy: 0.8984 - val_scaled_adversarial_loss: 0.1231\n",
      "Epoch 108/150\n",
      "89/89 - 2s - loss: 0.4676 - sparse_categorical_crossentropy: 0.3688 - sparse_categorical_accuracy: 0.8817 - scaled_adversarial_loss: 0.0988 - val_loss: 0.4537 - val_sparse_categorical_crossentropy: 0.3363 - val_sparse_categorical_accuracy: 0.9070 - val_scaled_adversarial_loss: 0.1174\n",
      "Epoch 109/150\n",
      "89/89 - 2s - loss: 0.4735 - sparse_categorical_crossentropy: 0.3773 - sparse_categorical_accuracy: 0.8814 - scaled_adversarial_loss: 0.0962 - val_loss: 0.4676 - val_sparse_categorical_crossentropy: 0.3503 - val_sparse_categorical_accuracy: 0.8984 - val_scaled_adversarial_loss: 0.1172\n",
      "Epoch 110/150\n",
      "89/89 - 2s - loss: 0.4708 - sparse_categorical_crossentropy: 0.3722 - sparse_categorical_accuracy: 0.8797 - scaled_adversarial_loss: 0.0986 - val_loss: 0.4533 - val_sparse_categorical_crossentropy: 0.3372 - val_sparse_categorical_accuracy: 0.9055 - val_scaled_adversarial_loss: 0.1160\n",
      "Epoch 111/150\n",
      "89/89 - 1s - loss: 0.4579 - sparse_categorical_crossentropy: 0.3628 - sparse_categorical_accuracy: 0.8809 - scaled_adversarial_loss: 0.0951 - val_loss: 0.4704 - val_sparse_categorical_crossentropy: 0.3504 - val_sparse_categorical_accuracy: 0.9027 - val_scaled_adversarial_loss: 0.1200\n",
      "Epoch 112/150\n",
      "89/89 - 1s - loss: 0.4638 - sparse_categorical_crossentropy: 0.3670 - sparse_categorical_accuracy: 0.8813 - scaled_adversarial_loss: 0.0968 - val_loss: 0.4404 - val_sparse_categorical_crossentropy: 0.3291 - val_sparse_categorical_accuracy: 0.9105 - val_scaled_adversarial_loss: 0.1112\n",
      "Epoch 113/150\n",
      "89/89 - 1s - loss: 0.4466 - sparse_categorical_crossentropy: 0.3532 - sparse_categorical_accuracy: 0.8839 - scaled_adversarial_loss: 0.0934 - val_loss: 0.4576 - val_sparse_categorical_crossentropy: 0.3351 - val_sparse_categorical_accuracy: 0.9105 - val_scaled_adversarial_loss: 0.1225\n",
      "Epoch 114/150\n",
      "89/89 - 1s - loss: 0.4659 - sparse_categorical_crossentropy: 0.3672 - sparse_categorical_accuracy: 0.8791 - scaled_adversarial_loss: 0.0987 - val_loss: 0.4489 - val_sparse_categorical_crossentropy: 0.3317 - val_sparse_categorical_accuracy: 0.9091 - val_scaled_adversarial_loss: 0.1172\n",
      "Epoch 115/150\n",
      "89/89 - 1s - loss: 0.4543 - sparse_categorical_crossentropy: 0.3596 - sparse_categorical_accuracy: 0.8834 - scaled_adversarial_loss: 0.0947 - val_loss: 0.4342 - val_sparse_categorical_crossentropy: 0.3205 - val_sparse_categorical_accuracy: 0.9112 - val_scaled_adversarial_loss: 0.1136\n",
      "Epoch 116/150\n",
      "89/89 - 2s - loss: 0.4513 - sparse_categorical_crossentropy: 0.3562 - sparse_categorical_accuracy: 0.8831 - scaled_adversarial_loss: 0.0951 - val_loss: 0.4916 - val_sparse_categorical_crossentropy: 0.3665 - val_sparse_categorical_accuracy: 0.8942 - val_scaled_adversarial_loss: 0.1251\n",
      "Epoch 117/150\n",
      "89/89 - 2s - loss: 0.4583 - sparse_categorical_crossentropy: 0.3607 - sparse_categorical_accuracy: 0.8831 - scaled_adversarial_loss: 0.0976 - val_loss: 0.4437 - val_sparse_categorical_crossentropy: 0.3237 - val_sparse_categorical_accuracy: 0.9091 - val_scaled_adversarial_loss: 0.1199\n",
      "Epoch 118/150\n",
      "89/89 - 1s - loss: 0.4185 - sparse_categorical_crossentropy: 0.3278 - sparse_categorical_accuracy: 0.8940 - scaled_adversarial_loss: 0.0906 - val_loss: 0.4459 - val_sparse_categorical_crossentropy: 0.3253 - val_sparse_categorical_accuracy: 0.9070 - val_scaled_adversarial_loss: 0.1207\n",
      "Epoch 119/150\n",
      "89/89 - 1s - loss: 0.4378 - sparse_categorical_crossentropy: 0.3451 - sparse_categorical_accuracy: 0.8883 - scaled_adversarial_loss: 0.0926 - val_loss: 0.4522 - val_sparse_categorical_crossentropy: 0.3367 - val_sparse_categorical_accuracy: 0.9062 - val_scaled_adversarial_loss: 0.1155\n",
      "Epoch 120/150\n",
      "89/89 - 1s - loss: 0.4394 - sparse_categorical_crossentropy: 0.3483 - sparse_categorical_accuracy: 0.8875 - scaled_adversarial_loss: 0.0911 - val_loss: 0.4497 - val_sparse_categorical_crossentropy: 0.3330 - val_sparse_categorical_accuracy: 0.9126 - val_scaled_adversarial_loss: 0.1167\n",
      "Epoch 121/150\n",
      "89/89 - 1s - loss: 0.4272 - sparse_categorical_crossentropy: 0.3352 - sparse_categorical_accuracy: 0.8907 - scaled_adversarial_loss: 0.0920 - val_loss: 0.4441 - val_sparse_categorical_crossentropy: 0.3265 - val_sparse_categorical_accuracy: 0.9091 - val_scaled_adversarial_loss: 0.1176\n",
      "Epoch 122/150\n",
      "89/89 - 1s - loss: 0.4216 - sparse_categorical_crossentropy: 0.3297 - sparse_categorical_accuracy: 0.8958 - scaled_adversarial_loss: 0.0919 - val_loss: 0.4477 - val_sparse_categorical_crossentropy: 0.3311 - val_sparse_categorical_accuracy: 0.9070 - val_scaled_adversarial_loss: 0.1166\n",
      "Epoch 123/150\n",
      "89/89 - 1s - loss: 0.4131 - sparse_categorical_crossentropy: 0.3241 - sparse_categorical_accuracy: 0.8950 - scaled_adversarial_loss: 0.0890 - val_loss: 0.4819 - val_sparse_categorical_crossentropy: 0.3537 - val_sparse_categorical_accuracy: 0.8956 - val_scaled_adversarial_loss: 0.1282\n",
      "Epoch 124/150\n",
      "89/89 - 2s - loss: 0.4205 - sparse_categorical_crossentropy: 0.3327 - sparse_categorical_accuracy: 0.8926 - scaled_adversarial_loss: 0.0878 - val_loss: 0.4665 - val_sparse_categorical_crossentropy: 0.3427 - val_sparse_categorical_accuracy: 0.9048 - val_scaled_adversarial_loss: 0.1238\n",
      "Epoch 125/150\n",
      "89/89 - 1s - loss: 0.4074 - sparse_categorical_crossentropy: 0.3219 - sparse_categorical_accuracy: 0.8979 - scaled_adversarial_loss: 0.0855 - val_loss: 0.4134 - val_sparse_categorical_crossentropy: 0.3027 - val_sparse_categorical_accuracy: 0.9190 - val_scaled_adversarial_loss: 0.1107\n",
      "Epoch 126/150\n",
      "89/89 - 1s - loss: 0.3904 - sparse_categorical_crossentropy: 0.3073 - sparse_categorical_accuracy: 0.9006 - scaled_adversarial_loss: 0.0831 - val_loss: 0.4097 - val_sparse_categorical_crossentropy: 0.2977 - val_sparse_categorical_accuracy: 0.9176 - val_scaled_adversarial_loss: 0.1119\n",
      "Epoch 127/150\n",
      "89/89 - 1s - loss: 0.4304 - sparse_categorical_crossentropy: 0.3384 - sparse_categorical_accuracy: 0.8921 - scaled_adversarial_loss: 0.0920 - val_loss: 0.4338 - val_sparse_categorical_crossentropy: 0.3193 - val_sparse_categorical_accuracy: 0.9126 - val_scaled_adversarial_loss: 0.1145\n",
      "Epoch 128/150\n",
      "89/89 - 1s - loss: 0.3992 - sparse_categorical_crossentropy: 0.3155 - sparse_categorical_accuracy: 0.8959 - scaled_adversarial_loss: 0.0837 - val_loss: 0.4327 - val_sparse_categorical_crossentropy: 0.3178 - val_sparse_categorical_accuracy: 0.9112 - val_scaled_adversarial_loss: 0.1148\n",
      "Epoch 129/150\n",
      "89/89 - 1s - loss: 0.4078 - sparse_categorical_crossentropy: 0.3215 - sparse_categorical_accuracy: 0.8967 - scaled_adversarial_loss: 0.0863 - val_loss: 0.4579 - val_sparse_categorical_crossentropy: 0.3387 - val_sparse_categorical_accuracy: 0.9027 - val_scaled_adversarial_loss: 0.1193\n",
      "Epoch 130/150\n",
      "89/89 - 2s - loss: 0.4070 - sparse_categorical_crossentropy: 0.3226 - sparse_categorical_accuracy: 0.8948 - scaled_adversarial_loss: 0.0845 - val_loss: 0.4198 - val_sparse_categorical_crossentropy: 0.3115 - val_sparse_categorical_accuracy: 0.9197 - val_scaled_adversarial_loss: 0.1083\n",
      "Epoch 131/150\n",
      "89/89 - 2s - loss: 0.4031 - sparse_categorical_crossentropy: 0.3194 - sparse_categorical_accuracy: 0.8939 - scaled_adversarial_loss: 0.0837 - val_loss: 0.4263 - val_sparse_categorical_crossentropy: 0.3101 - val_sparse_categorical_accuracy: 0.9105 - val_scaled_adversarial_loss: 0.1162\n",
      "Epoch 132/150\n",
      "89/89 - 2s - loss: 0.3756 - sparse_categorical_crossentropy: 0.2962 - sparse_categorical_accuracy: 0.9055 - scaled_adversarial_loss: 0.0794 - val_loss: 0.4331 - val_sparse_categorical_crossentropy: 0.3170 - val_sparse_categorical_accuracy: 0.9105 - val_scaled_adversarial_loss: 0.1162\n",
      "Epoch 133/150\n",
      "89/89 - 1s - loss: 0.3946 - sparse_categorical_crossentropy: 0.3094 - sparse_categorical_accuracy: 0.9016 - scaled_adversarial_loss: 0.0852 - val_loss: 0.4761 - val_sparse_categorical_crossentropy: 0.3481 - val_sparse_categorical_accuracy: 0.8970 - val_scaled_adversarial_loss: 0.1281\n",
      "Epoch 134/150\n",
      "89/89 - 1s - loss: 0.4103 - sparse_categorical_crossentropy: 0.3236 - sparse_categorical_accuracy: 0.8967 - scaled_adversarial_loss: 0.0867 - val_loss: 0.4628 - val_sparse_categorical_crossentropy: 0.3447 - val_sparse_categorical_accuracy: 0.8999 - val_scaled_adversarial_loss: 0.1181\n",
      "Epoch 135/150\n",
      "89/89 - 1s - loss: 0.3813 - sparse_categorical_crossentropy: 0.3038 - sparse_categorical_accuracy: 0.9004 - scaled_adversarial_loss: 0.0775 - val_loss: 0.4426 - val_sparse_categorical_crossentropy: 0.3244 - val_sparse_categorical_accuracy: 0.9141 - val_scaled_adversarial_loss: 0.1182\n",
      "Epoch 136/150\n",
      "89/89 - 1s - loss: 0.3834 - sparse_categorical_crossentropy: 0.3018 - sparse_categorical_accuracy: 0.8999 - scaled_adversarial_loss: 0.0817 - val_loss: 0.4191 - val_sparse_categorical_crossentropy: 0.3041 - val_sparse_categorical_accuracy: 0.9119 - val_scaled_adversarial_loss: 0.1150\n",
      "Epoch 137/150\n",
      "89/89 - 1s - loss: 0.3784 - sparse_categorical_crossentropy: 0.2987 - sparse_categorical_accuracy: 0.9038 - scaled_adversarial_loss: 0.0797 - val_loss: 0.4409 - val_sparse_categorical_crossentropy: 0.3184 - val_sparse_categorical_accuracy: 0.9077 - val_scaled_adversarial_loss: 0.1226\n",
      "Epoch 138/150\n",
      "89/89 - 1s - loss: 0.3819 - sparse_categorical_crossentropy: 0.2984 - sparse_categorical_accuracy: 0.9020 - scaled_adversarial_loss: 0.0835 - val_loss: 0.4423 - val_sparse_categorical_crossentropy: 0.3265 - val_sparse_categorical_accuracy: 0.9091 - val_scaled_adversarial_loss: 0.1158\n",
      "Epoch 139/150\n",
      "89/89 - 2s - loss: 0.3760 - sparse_categorical_crossentropy: 0.2956 - sparse_categorical_accuracy: 0.9035 - scaled_adversarial_loss: 0.0804 - val_loss: 0.4396 - val_sparse_categorical_crossentropy: 0.3191 - val_sparse_categorical_accuracy: 0.9070 - val_scaled_adversarial_loss: 0.1204\n",
      "Epoch 140/150\n",
      "89/89 - 1s - loss: 0.3522 - sparse_categorical_crossentropy: 0.2752 - sparse_categorical_accuracy: 0.9099 - scaled_adversarial_loss: 0.0770 - val_loss: 0.4205 - val_sparse_categorical_crossentropy: 0.3075 - val_sparse_categorical_accuracy: 0.9119 - val_scaled_adversarial_loss: 0.1129\n",
      "Epoch 141/150\n",
      "89/89 - 1s - loss: 0.3606 - sparse_categorical_crossentropy: 0.2823 - sparse_categorical_accuracy: 0.9092 - scaled_adversarial_loss: 0.0782 - val_loss: 0.4298 - val_sparse_categorical_crossentropy: 0.3129 - val_sparse_categorical_accuracy: 0.9134 - val_scaled_adversarial_loss: 0.1169\n",
      "Epoch 142/150\n",
      "89/89 - 1s - loss: 0.3506 - sparse_categorical_crossentropy: 0.2754 - sparse_categorical_accuracy: 0.9121 - scaled_adversarial_loss: 0.0752 - val_loss: 0.3923 - val_sparse_categorical_crossentropy: 0.2835 - val_sparse_categorical_accuracy: 0.9212 - val_scaled_adversarial_loss: 0.1089\n",
      "Epoch 143/150\n",
      "89/89 - 1s - loss: 0.3509 - sparse_categorical_crossentropy: 0.2754 - sparse_categorical_accuracy: 0.9102 - scaled_adversarial_loss: 0.0755 - val_loss: 0.4051 - val_sparse_categorical_crossentropy: 0.2919 - val_sparse_categorical_accuracy: 0.9091 - val_scaled_adversarial_loss: 0.1132\n",
      "Epoch 144/150\n",
      "89/89 - 1s - loss: 0.3517 - sparse_categorical_crossentropy: 0.2755 - sparse_categorical_accuracy: 0.9095 - scaled_adversarial_loss: 0.0762 - val_loss: 0.4258 - val_sparse_categorical_crossentropy: 0.3050 - val_sparse_categorical_accuracy: 0.9098 - val_scaled_adversarial_loss: 0.1209\n",
      "Epoch 145/150\n",
      "89/89 - 2s - loss: 0.3442 - sparse_categorical_crossentropy: 0.2703 - sparse_categorical_accuracy: 0.9117 - scaled_adversarial_loss: 0.0740 - val_loss: 0.4148 - val_sparse_categorical_crossentropy: 0.3007 - val_sparse_categorical_accuracy: 0.9098 - val_scaled_adversarial_loss: 0.1141\n",
      "Epoch 146/150\n",
      "89/89 - 2s - loss: 0.3219 - sparse_categorical_crossentropy: 0.2534 - sparse_categorical_accuracy: 0.9177 - scaled_adversarial_loss: 0.0684 - val_loss: 0.4185 - val_sparse_categorical_crossentropy: 0.3011 - val_sparse_categorical_accuracy: 0.9162 - val_scaled_adversarial_loss: 0.1174\n",
      "Epoch 147/150\n",
      "89/89 - 2s - loss: 0.3304 - sparse_categorical_crossentropy: 0.2581 - sparse_categorical_accuracy: 0.9176 - scaled_adversarial_loss: 0.0722 - val_loss: 0.5019 - val_sparse_categorical_crossentropy: 0.3635 - val_sparse_categorical_accuracy: 0.8942 - val_scaled_adversarial_loss: 0.1384\n",
      "Epoch 148/150\n",
      "89/89 - 1s - loss: 0.3601 - sparse_categorical_crossentropy: 0.2835 - sparse_categorical_accuracy: 0.9081 - scaled_adversarial_loss: 0.0766 - val_loss: 0.4389 - val_sparse_categorical_crossentropy: 0.3200 - val_sparse_categorical_accuracy: 0.9013 - val_scaled_adversarial_loss: 0.1189\n",
      "Epoch 149/150\n",
      "89/89 - 1s - loss: 0.3343 - sparse_categorical_crossentropy: 0.2579 - sparse_categorical_accuracy: 0.9113 - scaled_adversarial_loss: 0.0764 - val_loss: 0.4282 - val_sparse_categorical_crossentropy: 0.3113 - val_sparse_categorical_accuracy: 0.9062 - val_scaled_adversarial_loss: 0.1169\n",
      "Epoch 150/150\n",
      "89/89 - 2s - loss: 0.3493 - sparse_categorical_crossentropy: 0.2721 - sparse_categorical_accuracy: 0.9095 - scaled_adversarial_loss: 0.0772 - val_loss: 0.4222 - val_sparse_categorical_crossentropy: 0.3054 - val_sparse_categorical_accuracy: 0.9141 - val_scaled_adversarial_loss: 0.1168\n"
     ]
    },
    {
     "data": {
      "text/plain": [
       "<tensorflow.python.keras.callbacks.History at 0x7fe2786580d0>"
      ]
     },
     "execution_count": 33,
     "metadata": {},
     "output_type": "execute_result"
    }
   ],
   "source": [
    "train3=tf.data.Dataset.from_tensor_slices(\n",
    "    {'input':x_train3,'label':y_train3}).batch(batch_size)\n",
    "valid3=tf.data.Dataset.from_tensor_slices(\n",
    "    {'input':x_valid3,'label':y_valid3}).batch(batch_size)\n",
    "valid_steps=x_valid3.shape[0]//batch_size\n",
    "adv_model.fit(train3,validation_data=valid3,verbose=2,\n",
    "              validation_steps=valid_steps,epochs=epochs)"
   ]
  },
  {
   "cell_type": "code",
   "execution_count": 34,
   "metadata": {
    "papermill": {
     "duration": 1.248884,
     "end_time": "2021-01-08T18:50:30.564208",
     "exception": false,
     "start_time": "2021-01-08T18:50:29.315324",
     "status": "completed"
    },
    "tags": []
   },
   "outputs": [
    {
     "name": "stdout",
     "output_type": "stream",
     "text": [
      "1419/1419 [==============================] - 1s 476us/sample - loss: 0.4161 - sparse_categorical_crossentropy: 0.2999 - sparse_categorical_accuracy: 0.9161 - scaled_adversarial_loss: 0.1162\n"
     ]
    },
    {
     "data": {
      "text/plain": [
       "[0.41610196310504377, 0.29994494, 0.9161381, 0.116249464]"
      ]
     },
     "execution_count": 34,
     "metadata": {},
     "output_type": "execute_result"
    }
   ],
   "source": [
    "adv_model.evaluate({'input':x_test3,'label':y_test3})"
   ]
  },
  {
   "cell_type": "code",
   "execution_count": 35,
   "metadata": {
    "papermill": {
     "duration": 0.487451,
     "end_time": "2021-01-08T18:50:31.409881",
     "exception": false,
     "start_time": "2021-01-08T18:50:30.922430",
     "status": "completed"
    },
    "tags": []
   },
   "outputs": [],
   "source": [
    "batch_size=16; img_size=32; n_class=10; epochs=100\n",
    "base_model=tf.keras.Sequential([\n",
    "    tf.keras.Input((img_size,img_size,3),name='input'),\n",
    "    tf.keras.layers.Conv2D(32,(5,5),padding='same'),\n",
    "    tf.keras.layers.Activation('relu'),\n",
    "    tf.keras.layers.MaxPooling2D(pool_size=(2,2)),\n",
    "    tf.keras.layers.Dropout(.25),\n",
    "    tf.keras.layers.Conv2D(196,(5,5)),\n",
    "    tf.keras.layers.Activation('relu'),    \n",
    "    tf.keras.layers.MaxPooling2D(pool_size=(2,2)),\n",
    "    tf.keras.layers.Dropout(.25),\n",
    "    tf.keras.layers.GlobalMaxPooling2D(),    \n",
    "    tf.keras.layers.Dense(512),\n",
    "    tf.keras.layers.Activation('relu'),\n",
    "    tf.keras.layers.Dropout(.25),\n",
    "    tf.keras.layers.Dense(10,activation='softmax')\n",
    "])\n",
    "adv_config=nsl.configs\\\n",
    ".make_adv_reg_config(multiplier=.2,adv_step_size=.05)\n",
    "adv_model=nsl.keras\\\n",
    ".AdversarialRegularization(base_model,adv_config=adv_config)\n",
    "adv_model.compile(optimizer='adam',\n",
    "                  loss='sparse_categorical_crossentropy',\n",
    "                  metrics=['accuracy'])"
   ]
  },
  {
   "cell_type": "code",
   "execution_count": 36,
   "metadata": {
    "_kg_hide-output": true,
    "papermill": {
     "duration": 32.831758,
     "end_time": "2021-01-08T18:51:04.592463",
     "exception": false,
     "start_time": "2021-01-08T18:50:31.760705",
     "status": "completed"
    },
    "tags": []
   },
   "outputs": [
    {
     "name": "stdout",
     "output_type": "stream",
     "text": [
      "Train for 11 steps, validate for 1 steps\n",
      "Epoch 1/100\n",
      "11/11 - 2s - loss: 2.7971 - sparse_categorical_crossentropy: 2.3295 - sparse_categorical_accuracy: 0.1131 - scaled_adversarial_loss: 0.4673 - val_loss: 2.7327 - val_sparse_categorical_crossentropy: 2.2767 - val_sparse_categorical_accuracy: 0.1250 - val_scaled_adversarial_loss: 0.4560\n",
      "Epoch 2/100\n",
      "11/11 - 0s - loss: 2.6584 - sparse_categorical_crossentropy: 2.2131 - sparse_categorical_accuracy: 0.2024 - scaled_adversarial_loss: 0.4452 - val_loss: 2.6086 - val_sparse_categorical_crossentropy: 2.1732 - val_sparse_categorical_accuracy: 0.1875 - val_scaled_adversarial_loss: 0.4354\n",
      "Epoch 3/100\n",
      "11/11 - 0s - loss: 2.3547 - sparse_categorical_crossentropy: 1.9604 - sparse_categorical_accuracy: 0.3869 - scaled_adversarial_loss: 0.3938 - val_loss: 2.4266 - val_sparse_categorical_crossentropy: 2.0211 - val_sparse_categorical_accuracy: 0.3125 - val_scaled_adversarial_loss: 0.4055\n",
      "Epoch 4/100\n",
      "11/11 - 0s - loss: 1.9645 - sparse_categorical_crossentropy: 1.6356 - sparse_categorical_accuracy: 0.4345 - scaled_adversarial_loss: 0.3290 - val_loss: 2.1405 - val_sparse_categorical_crossentropy: 1.7820 - val_sparse_categorical_accuracy: 0.4375 - val_scaled_adversarial_loss: 0.3585\n",
      "Epoch 5/100\n",
      "11/11 - 0s - loss: 1.7375 - sparse_categorical_crossentropy: 1.4487 - sparse_categorical_accuracy: 0.4762 - scaled_adversarial_loss: 0.2889 - val_loss: 1.9264 - val_sparse_categorical_crossentropy: 1.6032 - val_sparse_categorical_accuracy: 0.5000 - val_scaled_adversarial_loss: 0.3231\n",
      "Epoch 6/100\n",
      "11/11 - 0s - loss: 1.5648 - sparse_categorical_crossentropy: 1.3071 - sparse_categorical_accuracy: 0.5298 - scaled_adversarial_loss: 0.2579 - val_loss: 1.7374 - val_sparse_categorical_crossentropy: 1.4457 - val_sparse_categorical_accuracy: 0.5000 - val_scaled_adversarial_loss: 0.2917\n",
      "Epoch 7/100\n",
      "11/11 - 0s - loss: 1.4070 - sparse_categorical_crossentropy: 1.1716 - sparse_categorical_accuracy: 0.6012 - scaled_adversarial_loss: 0.2357 - val_loss: 1.5409 - val_sparse_categorical_crossentropy: 1.2817 - val_sparse_categorical_accuracy: 0.5625 - val_scaled_adversarial_loss: 0.2592\n",
      "Epoch 8/100\n",
      "11/11 - 0s - loss: 1.3201 - sparse_categorical_crossentropy: 1.0883 - sparse_categorical_accuracy: 0.5833 - scaled_adversarial_loss: 0.2321 - val_loss: 1.3613 - val_sparse_categorical_crossentropy: 1.1318 - val_sparse_categorical_accuracy: 0.6875 - val_scaled_adversarial_loss: 0.2295\n",
      "Epoch 9/100\n",
      "11/11 - 0s - loss: 1.0871 - sparse_categorical_crossentropy: 0.9020 - sparse_categorical_accuracy: 0.6667 - scaled_adversarial_loss: 0.1852 - val_loss: 1.3667 - val_sparse_categorical_crossentropy: 1.1363 - val_sparse_categorical_accuracy: 0.6875 - val_scaled_adversarial_loss: 0.2305\n",
      "Epoch 10/100\n",
      "11/11 - 0s - loss: 1.0060 - sparse_categorical_crossentropy: 0.8345 - sparse_categorical_accuracy: 0.6905 - scaled_adversarial_loss: 0.1714 - val_loss: 1.2143 - val_sparse_categorical_crossentropy: 1.0088 - val_sparse_categorical_accuracy: 0.6250 - val_scaled_adversarial_loss: 0.2055\n",
      "Epoch 11/100\n",
      "11/11 - 0s - loss: 0.9534 - sparse_categorical_crossentropy: 0.7882 - sparse_categorical_accuracy: 0.6905 - scaled_adversarial_loss: 0.1648 - val_loss: 1.2057 - val_sparse_categorical_crossentropy: 1.0016 - val_sparse_categorical_accuracy: 0.6875 - val_scaled_adversarial_loss: 0.2041\n",
      "Epoch 12/100\n",
      "11/11 - 0s - loss: 0.8612 - sparse_categorical_crossentropy: 0.7097 - sparse_categorical_accuracy: 0.7381 - scaled_adversarial_loss: 0.1510 - val_loss: 1.0406 - val_sparse_categorical_crossentropy: 0.8640 - val_sparse_categorical_accuracy: 0.6875 - val_scaled_adversarial_loss: 0.1767\n",
      "Epoch 13/100\n",
      "11/11 - 0s - loss: 0.8473 - sparse_categorical_crossentropy: 0.7127 - sparse_categorical_accuracy: 0.7440 - scaled_adversarial_loss: 0.1351 - val_loss: 0.9870 - val_sparse_categorical_crossentropy: 0.8191 - val_sparse_categorical_accuracy: 0.6875 - val_scaled_adversarial_loss: 0.1679\n",
      "Epoch 14/100\n",
      "11/11 - 0s - loss: 0.8178 - sparse_categorical_crossentropy: 0.6750 - sparse_categorical_accuracy: 0.7262 - scaled_adversarial_loss: 0.1436 - val_loss: 1.0681 - val_sparse_categorical_crossentropy: 0.8861 - val_sparse_categorical_accuracy: 0.6875 - val_scaled_adversarial_loss: 0.1820\n",
      "Epoch 15/100\n",
      "11/11 - 0s - loss: 0.7618 - sparse_categorical_crossentropy: 0.6406 - sparse_categorical_accuracy: 0.7440 - scaled_adversarial_loss: 0.1211 - val_loss: 1.1125 - val_sparse_categorical_crossentropy: 0.9227 - val_sparse_categorical_accuracy: 0.6250 - val_scaled_adversarial_loss: 0.1898\n",
      "Epoch 16/100\n",
      "11/11 - 0s - loss: 0.6704 - sparse_categorical_crossentropy: 0.5599 - sparse_categorical_accuracy: 0.7857 - scaled_adversarial_loss: 0.1100 - val_loss: 1.0677 - val_sparse_categorical_crossentropy: 0.8852 - val_sparse_categorical_accuracy: 0.8125 - val_scaled_adversarial_loss: 0.1825\n",
      "Epoch 17/100\n",
      "11/11 - 0s - loss: 0.6308 - sparse_categorical_crossentropy: 0.5265 - sparse_categorical_accuracy: 0.8036 - scaled_adversarial_loss: 0.1047 - val_loss: 1.0177 - val_sparse_categorical_crossentropy: 0.8432 - val_sparse_categorical_accuracy: 0.8125 - val_scaled_adversarial_loss: 0.1745\n",
      "Epoch 18/100\n",
      "11/11 - 0s - loss: 0.6066 - sparse_categorical_crossentropy: 0.4964 - sparse_categorical_accuracy: 0.8095 - scaled_adversarial_loss: 0.1108 - val_loss: 0.8295 - val_sparse_categorical_crossentropy: 0.6869 - val_sparse_categorical_accuracy: 0.8750 - val_scaled_adversarial_loss: 0.1426\n",
      "Epoch 19/100\n",
      "11/11 - 0s - loss: 0.7180 - sparse_categorical_crossentropy: 0.6031 - sparse_categorical_accuracy: 0.7857 - scaled_adversarial_loss: 0.1168 - val_loss: 0.8966 - val_sparse_categorical_crossentropy: 0.7427 - val_sparse_categorical_accuracy: 0.8125 - val_scaled_adversarial_loss: 0.1539\n",
      "Epoch 20/100\n",
      "11/11 - 0s - loss: 0.5934 - sparse_categorical_crossentropy: 0.5053 - sparse_categorical_accuracy: 0.7857 - scaled_adversarial_loss: 0.0873 - val_loss: 0.7690 - val_sparse_categorical_crossentropy: 0.6365 - val_sparse_categorical_accuracy: 0.8750 - val_scaled_adversarial_loss: 0.1325\n",
      "Epoch 21/100\n",
      "11/11 - 0s - loss: 0.4685 - sparse_categorical_crossentropy: 0.3890 - sparse_categorical_accuracy: 0.8571 - scaled_adversarial_loss: 0.0792 - val_loss: 0.8957 - val_sparse_categorical_crossentropy: 0.7416 - val_sparse_categorical_accuracy: 0.8125 - val_scaled_adversarial_loss: 0.1541\n",
      "Epoch 22/100\n",
      "11/11 - 0s - loss: 0.4227 - sparse_categorical_crossentropy: 0.3432 - sparse_categorical_accuracy: 0.8869 - scaled_adversarial_loss: 0.0804 - val_loss: 0.8151 - val_sparse_categorical_crossentropy: 0.6743 - val_sparse_categorical_accuracy: 0.8125 - val_scaled_adversarial_loss: 0.1409\n",
      "Epoch 23/100\n",
      "11/11 - 0s - loss: 0.4127 - sparse_categorical_crossentropy: 0.3361 - sparse_categorical_accuracy: 0.8869 - scaled_adversarial_loss: 0.0765 - val_loss: 0.7464 - val_sparse_categorical_crossentropy: 0.6170 - val_sparse_categorical_accuracy: 0.8125 - val_scaled_adversarial_loss: 0.1294\n",
      "Epoch 24/100\n",
      "11/11 - 0s - loss: 0.3295 - sparse_categorical_crossentropy: 0.2658 - sparse_categorical_accuracy: 0.9226 - scaled_adversarial_loss: 0.0634 - val_loss: 0.7769 - val_sparse_categorical_crossentropy: 0.6425 - val_sparse_categorical_accuracy: 0.8750 - val_scaled_adversarial_loss: 0.1344\n",
      "Epoch 25/100\n",
      "11/11 - 0s - loss: 0.3050 - sparse_categorical_crossentropy: 0.2508 - sparse_categorical_accuracy: 0.9167 - scaled_adversarial_loss: 0.0541 - val_loss: 0.7406 - val_sparse_categorical_crossentropy: 0.6123 - val_sparse_categorical_accuracy: 0.8750 - val_scaled_adversarial_loss: 0.1284\n",
      "Epoch 26/100\n",
      "11/11 - 0s - loss: 0.3070 - sparse_categorical_crossentropy: 0.2507 - sparse_categorical_accuracy: 0.9107 - scaled_adversarial_loss: 0.0564 - val_loss: 0.6852 - val_sparse_categorical_crossentropy: 0.5654 - val_sparse_categorical_accuracy: 0.7500 - val_scaled_adversarial_loss: 0.1198\n",
      "Epoch 27/100\n",
      "11/11 - 0s - loss: 0.2726 - sparse_categorical_crossentropy: 0.2223 - sparse_categorical_accuracy: 0.9167 - scaled_adversarial_loss: 0.0502 - val_loss: 0.7527 - val_sparse_categorical_crossentropy: 0.6224 - val_sparse_categorical_accuracy: 0.8125 - val_scaled_adversarial_loss: 0.1303\n",
      "Epoch 28/100\n",
      "11/11 - 0s - loss: 0.2475 - sparse_categorical_crossentropy: 0.2086 - sparse_categorical_accuracy: 0.9345 - scaled_adversarial_loss: 0.0393 - val_loss: 0.6652 - val_sparse_categorical_crossentropy: 0.5488 - val_sparse_categorical_accuracy: 0.7500 - val_scaled_adversarial_loss: 0.1164\n",
      "Epoch 29/100\n",
      "11/11 - 0s - loss: 0.3471 - sparse_categorical_crossentropy: 0.2917 - sparse_categorical_accuracy: 0.8988 - scaled_adversarial_loss: 0.0547 - val_loss: 0.9778 - val_sparse_categorical_crossentropy: 0.8074 - val_sparse_categorical_accuracy: 0.6875 - val_scaled_adversarial_loss: 0.1704\n",
      "Epoch 30/100\n",
      "11/11 - 0s - loss: 0.2982 - sparse_categorical_crossentropy: 0.2476 - sparse_categorical_accuracy: 0.9107 - scaled_adversarial_loss: 0.0505 - val_loss: 0.7343 - val_sparse_categorical_crossentropy: 0.6068 - val_sparse_categorical_accuracy: 0.8125 - val_scaled_adversarial_loss: 0.1275\n",
      "Epoch 31/100\n",
      "11/11 - 0s - loss: 0.2307 - sparse_categorical_crossentropy: 0.1902 - sparse_categorical_accuracy: 0.9464 - scaled_adversarial_loss: 0.0404 - val_loss: 0.5724 - val_sparse_categorical_crossentropy: 0.4725 - val_sparse_categorical_accuracy: 0.8750 - val_scaled_adversarial_loss: 0.0999\n",
      "Epoch 32/100\n",
      "11/11 - 0s - loss: 0.1955 - sparse_categorical_crossentropy: 0.1556 - sparse_categorical_accuracy: 0.9583 - scaled_adversarial_loss: 0.0405 - val_loss: 0.7176 - val_sparse_categorical_crossentropy: 0.5926 - val_sparse_categorical_accuracy: 0.8750 - val_scaled_adversarial_loss: 0.1250\n",
      "Epoch 33/100\n",
      "11/11 - 0s - loss: 0.1553 - sparse_categorical_crossentropy: 0.1313 - sparse_categorical_accuracy: 0.9643 - scaled_adversarial_loss: 0.0245 - val_loss: 0.5532 - val_sparse_categorical_crossentropy: 0.4561 - val_sparse_categorical_accuracy: 0.8125 - val_scaled_adversarial_loss: 0.0972\n",
      "Epoch 34/100\n",
      "11/11 - 0s - loss: 0.1193 - sparse_categorical_crossentropy: 0.0926 - sparse_categorical_accuracy: 0.9762 - scaled_adversarial_loss: 0.0265 - val_loss: 0.7084 - val_sparse_categorical_crossentropy: 0.5842 - val_sparse_categorical_accuracy: 0.8750 - val_scaled_adversarial_loss: 0.1242\n",
      "Epoch 35/100\n",
      "11/11 - 0s - loss: 0.1252 - sparse_categorical_crossentropy: 0.1039 - sparse_categorical_accuracy: 0.9762 - scaled_adversarial_loss: 0.0214 - val_loss: 0.7235 - val_sparse_categorical_crossentropy: 0.5974 - val_sparse_categorical_accuracy: 0.8750 - val_scaled_adversarial_loss: 0.1261\n",
      "Epoch 36/100\n",
      "11/11 - 0s - loss: 0.1509 - sparse_categorical_crossentropy: 0.1251 - sparse_categorical_accuracy: 0.9762 - scaled_adversarial_loss: 0.0255 - val_loss: 0.7059 - val_sparse_categorical_crossentropy: 0.5812 - val_sparse_categorical_accuracy: 0.8750 - val_scaled_adversarial_loss: 0.1247\n",
      "Epoch 37/100\n",
      "11/11 - 0s - loss: 0.1327 - sparse_categorical_crossentropy: 0.1182 - sparse_categorical_accuracy: 0.9643 - scaled_adversarial_loss: 0.0152 - val_loss: 0.7097 - val_sparse_categorical_crossentropy: 0.5862 - val_sparse_categorical_accuracy: 0.8750 - val_scaled_adversarial_loss: 0.1235\n",
      "Epoch 38/100\n",
      "11/11 - 0s - loss: 0.2042 - sparse_categorical_crossentropy: 0.1735 - sparse_categorical_accuracy: 0.9345 - scaled_adversarial_loss: 0.0305 - val_loss: 0.7361 - val_sparse_categorical_crossentropy: 0.6077 - val_sparse_categorical_accuracy: 0.8125 - val_scaled_adversarial_loss: 0.1284\n",
      "Epoch 39/100\n",
      "11/11 - 0s - loss: 0.1522 - sparse_categorical_crossentropy: 0.1243 - sparse_categorical_accuracy: 0.9702 - scaled_adversarial_loss: 0.0281 - val_loss: 0.9958 - val_sparse_categorical_crossentropy: 0.8227 - val_sparse_categorical_accuracy: 0.8125 - val_scaled_adversarial_loss: 0.1731\n",
      "Epoch 40/100\n",
      "11/11 - 0s - loss: 0.1132 - sparse_categorical_crossentropy: 0.0894 - sparse_categorical_accuracy: 0.9702 - scaled_adversarial_loss: 0.0233 - val_loss: 0.5352 - val_sparse_categorical_crossentropy: 0.4415 - val_sparse_categorical_accuracy: 0.8750 - val_scaled_adversarial_loss: 0.0937\n",
      "Epoch 41/100\n",
      "11/11 - 0s - loss: 0.0810 - sparse_categorical_crossentropy: 0.0644 - sparse_categorical_accuracy: 0.9940 - scaled_adversarial_loss: 0.0164 - val_loss: 0.8106 - val_sparse_categorical_crossentropy: 0.6691 - val_sparse_categorical_accuracy: 0.8125 - val_scaled_adversarial_loss: 0.1415\n",
      "Epoch 42/100\n",
      "11/11 - 0s - loss: 0.0580 - sparse_categorical_crossentropy: 0.0471 - sparse_categorical_accuracy: 0.9940 - scaled_adversarial_loss: 0.0108 - val_loss: 0.5382 - val_sparse_categorical_crossentropy: 0.4432 - val_sparse_categorical_accuracy: 0.8750 - val_scaled_adversarial_loss: 0.0950\n",
      "Epoch 43/100\n",
      "11/11 - 0s - loss: 0.0449 - sparse_categorical_crossentropy: 0.0349 - sparse_categorical_accuracy: 1.0000 - scaled_adversarial_loss: 0.0099 - val_loss: 0.7557 - val_sparse_categorical_crossentropy: 0.6236 - val_sparse_categorical_accuracy: 0.8750 - val_scaled_adversarial_loss: 0.1321\n",
      "Epoch 44/100\n",
      "11/11 - 0s - loss: 0.0772 - sparse_categorical_crossentropy: 0.0622 - sparse_categorical_accuracy: 0.9762 - scaled_adversarial_loss: 0.0149 - val_loss: 0.5827 - val_sparse_categorical_crossentropy: 0.4801 - val_sparse_categorical_accuracy: 0.8750 - val_scaled_adversarial_loss: 0.1027\n",
      "Epoch 45/100\n",
      "11/11 - 0s - loss: 0.0430 - sparse_categorical_crossentropy: 0.0342 - sparse_categorical_accuracy: 1.0000 - scaled_adversarial_loss: 0.0087 - val_loss: 0.8105 - val_sparse_categorical_crossentropy: 0.6697 - val_sparse_categorical_accuracy: 0.8750 - val_scaled_adversarial_loss: 0.1408\n",
      "Epoch 46/100\n",
      "11/11 - 0s - loss: 0.0573 - sparse_categorical_crossentropy: 0.0488 - sparse_categorical_accuracy: 0.9821 - scaled_adversarial_loss: 0.0083 - val_loss: 0.6700 - val_sparse_categorical_crossentropy: 0.5525 - val_sparse_categorical_accuracy: 0.8125 - val_scaled_adversarial_loss: 0.1175\n",
      "Epoch 47/100\n",
      "11/11 - 0s - loss: 0.0460 - sparse_categorical_crossentropy: 0.0342 - sparse_categorical_accuracy: 0.9940 - scaled_adversarial_loss: 0.0117 - val_loss: 0.6795 - val_sparse_categorical_crossentropy: 0.5609 - val_sparse_categorical_accuracy: 0.8750 - val_scaled_adversarial_loss: 0.1186\n",
      "Epoch 48/100\n",
      "11/11 - 0s - loss: 0.0337 - sparse_categorical_crossentropy: 0.0247 - sparse_categorical_accuracy: 1.0000 - scaled_adversarial_loss: 0.0089 - val_loss: 0.6658 - val_sparse_categorical_crossentropy: 0.5491 - val_sparse_categorical_accuracy: 0.8125 - val_scaled_adversarial_loss: 0.1167\n",
      "Epoch 49/100\n",
      "11/11 - 0s - loss: 0.0370 - sparse_categorical_crossentropy: 0.0289 - sparse_categorical_accuracy: 0.9881 - scaled_adversarial_loss: 0.0080 - val_loss: 0.7694 - val_sparse_categorical_crossentropy: 0.6342 - val_sparse_categorical_accuracy: 0.8125 - val_scaled_adversarial_loss: 0.1352\n",
      "Epoch 50/100\n",
      "11/11 - 0s - loss: 0.0336 - sparse_categorical_crossentropy: 0.0270 - sparse_categorical_accuracy: 1.0000 - scaled_adversarial_loss: 0.0066 - val_loss: 0.5621 - val_sparse_categorical_crossentropy: 0.4630 - val_sparse_categorical_accuracy: 0.8750 - val_scaled_adversarial_loss: 0.0991\n",
      "Epoch 51/100\n",
      "11/11 - 0s - loss: 0.0274 - sparse_categorical_crossentropy: 0.0220 - sparse_categorical_accuracy: 1.0000 - scaled_adversarial_loss: 0.0053 - val_loss: 0.6962 - val_sparse_categorical_crossentropy: 0.5742 - val_sparse_categorical_accuracy: 0.8750 - val_scaled_adversarial_loss: 0.1220\n",
      "Epoch 52/100\n",
      "11/11 - 0s - loss: 0.0455 - sparse_categorical_crossentropy: 0.0355 - sparse_categorical_accuracy: 0.9940 - scaled_adversarial_loss: 0.0102 - val_loss: 0.7585 - val_sparse_categorical_crossentropy: 0.6253 - val_sparse_categorical_accuracy: 0.8750 - val_scaled_adversarial_loss: 0.1332\n",
      "Epoch 53/100\n",
      "11/11 - 0s - loss: 0.0242 - sparse_categorical_crossentropy: 0.0196 - sparse_categorical_accuracy: 1.0000 - scaled_adversarial_loss: 0.0046 - val_loss: 0.5203 - val_sparse_categorical_crossentropy: 0.4278 - val_sparse_categorical_accuracy: 0.8750 - val_scaled_adversarial_loss: 0.0925\n",
      "Epoch 54/100\n",
      "11/11 - 0s - loss: 0.0235 - sparse_categorical_crossentropy: 0.0199 - sparse_categorical_accuracy: 0.9940 - scaled_adversarial_loss: 0.0036 - val_loss: 0.6967 - val_sparse_categorical_crossentropy: 0.5748 - val_sparse_categorical_accuracy: 0.8750 - val_scaled_adversarial_loss: 0.1220\n",
      "Epoch 55/100\n",
      "11/11 - 0s - loss: 0.0218 - sparse_categorical_crossentropy: 0.0172 - sparse_categorical_accuracy: 1.0000 - scaled_adversarial_loss: 0.0045 - val_loss: 0.6047 - val_sparse_categorical_crossentropy: 0.4972 - val_sparse_categorical_accuracy: 0.8750 - val_scaled_adversarial_loss: 0.1074\n",
      "Epoch 56/100\n",
      "11/11 - 0s - loss: 0.0126 - sparse_categorical_crossentropy: 0.0095 - sparse_categorical_accuracy: 1.0000 - scaled_adversarial_loss: 0.0030 - val_loss: 0.6094 - val_sparse_categorical_crossentropy: 0.5023 - val_sparse_categorical_accuracy: 0.8750 - val_scaled_adversarial_loss: 0.1071\n",
      "Epoch 57/100\n",
      "11/11 - 0s - loss: 0.0090 - sparse_categorical_crossentropy: 0.0067 - sparse_categorical_accuracy: 1.0000 - scaled_adversarial_loss: 0.0023 - val_loss: 0.6263 - val_sparse_categorical_crossentropy: 0.5165 - val_sparse_categorical_accuracy: 0.8750 - val_scaled_adversarial_loss: 0.1098\n",
      "Epoch 58/100\n",
      "11/11 - 0s - loss: 0.0112 - sparse_categorical_crossentropy: 0.0094 - sparse_categorical_accuracy: 1.0000 - scaled_adversarial_loss: 0.0018 - val_loss: 0.5647 - val_sparse_categorical_crossentropy: 0.4656 - val_sparse_categorical_accuracy: 0.8750 - val_scaled_adversarial_loss: 0.0991\n",
      "Epoch 59/100\n",
      "11/11 - 0s - loss: 0.0169 - sparse_categorical_crossentropy: 0.0139 - sparse_categorical_accuracy: 0.9940 - scaled_adversarial_loss: 0.0030 - val_loss: 0.7468 - val_sparse_categorical_crossentropy: 0.6152 - val_sparse_categorical_accuracy: 0.8125 - val_scaled_adversarial_loss: 0.1316\n",
      "Epoch 60/100\n",
      "11/11 - 0s - loss: 0.0268 - sparse_categorical_crossentropy: 0.0223 - sparse_categorical_accuracy: 0.9940 - scaled_adversarial_loss: 0.0044 - val_loss: 0.6632 - val_sparse_categorical_crossentropy: 0.5467 - val_sparse_categorical_accuracy: 0.8750 - val_scaled_adversarial_loss: 0.1165\n",
      "Epoch 61/100\n",
      "11/11 - 0s - loss: 0.0159 - sparse_categorical_crossentropy: 0.0127 - sparse_categorical_accuracy: 1.0000 - scaled_adversarial_loss: 0.0032 - val_loss: 0.7297 - val_sparse_categorical_crossentropy: 0.6022 - val_sparse_categorical_accuracy: 0.8750 - val_scaled_adversarial_loss: 0.1274\n",
      "Epoch 62/100\n",
      "11/11 - 0s - loss: 0.0157 - sparse_categorical_crossentropy: 0.0126 - sparse_categorical_accuracy: 0.9940 - scaled_adversarial_loss: 0.0030 - val_loss: 0.8133 - val_sparse_categorical_crossentropy: 0.6702 - val_sparse_categorical_accuracy: 0.8125 - val_scaled_adversarial_loss: 0.1431\n",
      "Epoch 63/100\n",
      "11/11 - 0s - loss: 0.0240 - sparse_categorical_crossentropy: 0.0218 - sparse_categorical_accuracy: 0.9940 - scaled_adversarial_loss: 0.0022 - val_loss: 0.5494 - val_sparse_categorical_crossentropy: 0.4518 - val_sparse_categorical_accuracy: 0.8750 - val_scaled_adversarial_loss: 0.0976\n",
      "Epoch 64/100\n",
      "11/11 - 0s - loss: 0.0409 - sparse_categorical_crossentropy: 0.0286 - sparse_categorical_accuracy: 0.9881 - scaled_adversarial_loss: 0.0121 - val_loss: 0.7202 - val_sparse_categorical_crossentropy: 0.5928 - val_sparse_categorical_accuracy: 0.8750 - val_scaled_adversarial_loss: 0.1274\n",
      "Epoch 65/100\n",
      "11/11 - 0s - loss: 0.0391 - sparse_categorical_crossentropy: 0.0277 - sparse_categorical_accuracy: 1.0000 - scaled_adversarial_loss: 0.0116 - val_loss: 0.6231 - val_sparse_categorical_crossentropy: 0.5146 - val_sparse_categorical_accuracy: 0.8750 - val_scaled_adversarial_loss: 0.1085\n",
      "Epoch 66/100\n",
      "11/11 - 0s - loss: 0.0357 - sparse_categorical_crossentropy: 0.0303 - sparse_categorical_accuracy: 0.9881 - scaled_adversarial_loss: 0.0053 - val_loss: 0.6212 - val_sparse_categorical_crossentropy: 0.5123 - val_sparse_categorical_accuracy: 0.8750 - val_scaled_adversarial_loss: 0.1089\n",
      "Epoch 67/100\n",
      "11/11 - 0s - loss: 0.0209 - sparse_categorical_crossentropy: 0.0172 - sparse_categorical_accuracy: 0.9940 - scaled_adversarial_loss: 0.0036 - val_loss: 0.7779 - val_sparse_categorical_crossentropy: 0.6420 - val_sparse_categorical_accuracy: 0.8750 - val_scaled_adversarial_loss: 0.1359\n",
      "Epoch 68/100\n",
      "11/11 - 0s - loss: 0.0247 - sparse_categorical_crossentropy: 0.0206 - sparse_categorical_accuracy: 0.9940 - scaled_adversarial_loss: 0.0042 - val_loss: 0.5694 - val_sparse_categorical_crossentropy: 0.4693 - val_sparse_categorical_accuracy: 0.8750 - val_scaled_adversarial_loss: 0.1002\n",
      "Epoch 69/100\n",
      "11/11 - 0s - loss: 0.0154 - sparse_categorical_crossentropy: 0.0138 - sparse_categorical_accuracy: 1.0000 - scaled_adversarial_loss: 0.0016 - val_loss: 0.7662 - val_sparse_categorical_crossentropy: 0.6301 - val_sparse_categorical_accuracy: 0.8125 - val_scaled_adversarial_loss: 0.1361\n",
      "Epoch 70/100\n",
      "11/11 - 0s - loss: 0.0190 - sparse_categorical_crossentropy: 0.0149 - sparse_categorical_accuracy: 1.0000 - scaled_adversarial_loss: 0.0042 - val_loss: 0.6657 - val_sparse_categorical_crossentropy: 0.5480 - val_sparse_categorical_accuracy: 0.8750 - val_scaled_adversarial_loss: 0.1177\n",
      "Epoch 71/100\n",
      "11/11 - 0s - loss: 0.0144 - sparse_categorical_crossentropy: 0.0099 - sparse_categorical_accuracy: 1.0000 - scaled_adversarial_loss: 0.0045 - val_loss: 0.8621 - val_sparse_categorical_crossentropy: 0.7100 - val_sparse_categorical_accuracy: 0.8750 - val_scaled_adversarial_loss: 0.1521\n",
      "Epoch 72/100\n",
      "11/11 - 0s - loss: 0.0169 - sparse_categorical_crossentropy: 0.0134 - sparse_categorical_accuracy: 1.0000 - scaled_adversarial_loss: 0.0034 - val_loss: 0.4268 - val_sparse_categorical_crossentropy: 0.3510 - val_sparse_categorical_accuracy: 0.9375 - val_scaled_adversarial_loss: 0.0757\n",
      "Epoch 73/100\n",
      "11/11 - 0s - loss: 0.0340 - sparse_categorical_crossentropy: 0.0270 - sparse_categorical_accuracy: 0.9881 - scaled_adversarial_loss: 0.0069 - val_loss: 0.6614 - val_sparse_categorical_crossentropy: 0.5444 - val_sparse_categorical_accuracy: 0.8125 - val_scaled_adversarial_loss: 0.1171\n",
      "Epoch 74/100\n",
      "11/11 - 0s - loss: 0.0358 - sparse_categorical_crossentropy: 0.0320 - sparse_categorical_accuracy: 0.9940 - scaled_adversarial_loss: 0.0038 - val_loss: 0.5938 - val_sparse_categorical_crossentropy: 0.4867 - val_sparse_categorical_accuracy: 0.8125 - val_scaled_adversarial_loss: 0.1071\n",
      "Epoch 75/100\n",
      "11/11 - 0s - loss: 0.0472 - sparse_categorical_crossentropy: 0.0379 - sparse_categorical_accuracy: 0.9821 - scaled_adversarial_loss: 0.0092 - val_loss: 0.7465 - val_sparse_categorical_crossentropy: 0.6149 - val_sparse_categorical_accuracy: 0.8125 - val_scaled_adversarial_loss: 0.1316\n",
      "Epoch 76/100\n",
      "11/11 - 0s - loss: 0.0868 - sparse_categorical_crossentropy: 0.0684 - sparse_categorical_accuracy: 0.9821 - scaled_adversarial_loss: 0.0181 - val_loss: 1.3049 - val_sparse_categorical_crossentropy: 1.0776 - val_sparse_categorical_accuracy: 0.6875 - val_scaled_adversarial_loss: 0.2274\n",
      "Epoch 77/100\n",
      "11/11 - 0s - loss: 0.0807 - sparse_categorical_crossentropy: 0.0612 - sparse_categorical_accuracy: 0.9821 - scaled_adversarial_loss: 0.0200 - val_loss: 0.9537 - val_sparse_categorical_crossentropy: 0.7861 - val_sparse_categorical_accuracy: 0.7500 - val_scaled_adversarial_loss: 0.1676\n",
      "Epoch 78/100\n",
      "11/11 - 0s - loss: 0.1797 - sparse_categorical_crossentropy: 0.1400 - sparse_categorical_accuracy: 0.9583 - scaled_adversarial_loss: 0.0391 - val_loss: 0.7549 - val_sparse_categorical_crossentropy: 0.6185 - val_sparse_categorical_accuracy: 0.6250 - val_scaled_adversarial_loss: 0.1364\n",
      "Epoch 79/100\n",
      "11/11 - 0s - loss: 0.2297 - sparse_categorical_crossentropy: 0.1971 - sparse_categorical_accuracy: 0.9345 - scaled_adversarial_loss: 0.0352 - val_loss: 1.0584 - val_sparse_categorical_crossentropy: 0.8729 - val_sparse_categorical_accuracy: 0.8125 - val_scaled_adversarial_loss: 0.1855\n",
      "Epoch 80/100\n",
      "11/11 - 0s - loss: 0.5367 - sparse_categorical_crossentropy: 0.4416 - sparse_categorical_accuracy: 0.8810 - scaled_adversarial_loss: 0.0988 - val_loss: 1.0962 - val_sparse_categorical_crossentropy: 0.9039 - val_sparse_categorical_accuracy: 0.7500 - val_scaled_adversarial_loss: 0.1923\n",
      "Epoch 81/100\n",
      "11/11 - 0s - loss: 0.3078 - sparse_categorical_crossentropy: 0.2485 - sparse_categorical_accuracy: 0.8869 - scaled_adversarial_loss: 0.0583 - val_loss: 1.1813 - val_sparse_categorical_crossentropy: 0.9772 - val_sparse_categorical_accuracy: 0.8125 - val_scaled_adversarial_loss: 0.2042\n",
      "Epoch 82/100\n",
      "11/11 - 0s - loss: 0.3771 - sparse_categorical_crossentropy: 0.3060 - sparse_categorical_accuracy: 0.8988 - scaled_adversarial_loss: 0.0710 - val_loss: 1.0363 - val_sparse_categorical_crossentropy: 0.8516 - val_sparse_categorical_accuracy: 0.6875 - val_scaled_adversarial_loss: 0.1847\n",
      "Epoch 83/100\n",
      "11/11 - 0s - loss: 0.2354 - sparse_categorical_crossentropy: 0.1952 - sparse_categorical_accuracy: 0.9464 - scaled_adversarial_loss: 0.0398 - val_loss: 0.9680 - val_sparse_categorical_crossentropy: 0.7985 - val_sparse_categorical_accuracy: 0.8125 - val_scaled_adversarial_loss: 0.1695\n",
      "Epoch 84/100\n",
      "11/11 - 0s - loss: 0.0954 - sparse_categorical_crossentropy: 0.0762 - sparse_categorical_accuracy: 0.9762 - scaled_adversarial_loss: 0.0189 - val_loss: 1.0634 - val_sparse_categorical_crossentropy: 0.8752 - val_sparse_categorical_accuracy: 0.6875 - val_scaled_adversarial_loss: 0.1882\n",
      "Epoch 85/100\n",
      "11/11 - 0s - loss: 0.0890 - sparse_categorical_crossentropy: 0.0717 - sparse_categorical_accuracy: 0.9762 - scaled_adversarial_loss: 0.0172 - val_loss: 0.3585 - val_sparse_categorical_crossentropy: 0.2946 - val_sparse_categorical_accuracy: 0.9375 - val_scaled_adversarial_loss: 0.0639\n",
      "Epoch 86/100\n",
      "11/11 - 0s - loss: 0.0550 - sparse_categorical_crossentropy: 0.0469 - sparse_categorical_accuracy: 0.9821 - scaled_adversarial_loss: 0.0079 - val_loss: 0.7278 - val_sparse_categorical_crossentropy: 0.5969 - val_sparse_categorical_accuracy: 0.8125 - val_scaled_adversarial_loss: 0.1310\n",
      "Epoch 87/100\n",
      "11/11 - 0s - loss: 0.0466 - sparse_categorical_crossentropy: 0.0396 - sparse_categorical_accuracy: 0.9881 - scaled_adversarial_loss: 0.0068 - val_loss: 0.6159 - val_sparse_categorical_crossentropy: 0.5052 - val_sparse_categorical_accuracy: 0.8750 - val_scaled_adversarial_loss: 0.1108\n",
      "Epoch 88/100\n",
      "11/11 - 0s - loss: 0.0441 - sparse_categorical_crossentropy: 0.0355 - sparse_categorical_accuracy: 0.9940 - scaled_adversarial_loss: 0.0085 - val_loss: 0.8553 - val_sparse_categorical_crossentropy: 0.7031 - val_sparse_categorical_accuracy: 0.8125 - val_scaled_adversarial_loss: 0.1522\n",
      "Epoch 89/100\n",
      "11/11 - 0s - loss: 0.0274 - sparse_categorical_crossentropy: 0.0197 - sparse_categorical_accuracy: 0.9940 - scaled_adversarial_loss: 0.0077 - val_loss: 0.7810 - val_sparse_categorical_crossentropy: 0.6430 - val_sparse_categorical_accuracy: 0.8125 - val_scaled_adversarial_loss: 0.1380\n",
      "Epoch 90/100\n",
      "11/11 - 0s - loss: 0.0246 - sparse_categorical_crossentropy: 0.0185 - sparse_categorical_accuracy: 0.9940 - scaled_adversarial_loss: 0.0061 - val_loss: 0.6877 - val_sparse_categorical_crossentropy: 0.5640 - val_sparse_categorical_accuracy: 0.8125 - val_scaled_adversarial_loss: 0.1236\n",
      "Epoch 91/100\n",
      "11/11 - 0s - loss: 0.0099 - sparse_categorical_crossentropy: 0.0070 - sparse_categorical_accuracy: 1.0000 - scaled_adversarial_loss: 0.0028 - val_loss: 0.6204 - val_sparse_categorical_crossentropy: 0.5086 - val_sparse_categorical_accuracy: 0.8125 - val_scaled_adversarial_loss: 0.1119\n",
      "Epoch 92/100\n",
      "11/11 - 0s - loss: 0.0059 - sparse_categorical_crossentropy: 0.0050 - sparse_categorical_accuracy: 1.0000 - scaled_adversarial_loss: 8.9475e-04 - val_loss: 0.5982 - val_sparse_categorical_crossentropy: 0.4907 - val_sparse_categorical_accuracy: 0.8750 - val_scaled_adversarial_loss: 0.1074\n",
      "Epoch 93/100\n",
      "11/11 - 0s - loss: 0.0055 - sparse_categorical_crossentropy: 0.0036 - sparse_categorical_accuracy: 1.0000 - scaled_adversarial_loss: 0.0019 - val_loss: 0.6167 - val_sparse_categorical_crossentropy: 0.5061 - val_sparse_categorical_accuracy: 0.8750 - val_scaled_adversarial_loss: 0.1105\n",
      "Epoch 94/100\n",
      "11/11 - 0s - loss: 0.0080 - sparse_categorical_crossentropy: 0.0073 - sparse_categorical_accuracy: 1.0000 - scaled_adversarial_loss: 6.0921e-04 - val_loss: 0.6272 - val_sparse_categorical_crossentropy: 0.5154 - val_sparse_categorical_accuracy: 0.8750 - val_scaled_adversarial_loss: 0.1118\n",
      "Epoch 95/100\n",
      "11/11 - 0s - loss: 0.0044 - sparse_categorical_crossentropy: 0.0032 - sparse_categorical_accuracy: 1.0000 - scaled_adversarial_loss: 0.0012 - val_loss: 0.6957 - val_sparse_categorical_crossentropy: 0.5715 - val_sparse_categorical_accuracy: 0.8750 - val_scaled_adversarial_loss: 0.1241\n",
      "Epoch 96/100\n",
      "11/11 - 0s - loss: 0.0056 - sparse_categorical_crossentropy: 0.0049 - sparse_categorical_accuracy: 1.0000 - scaled_adversarial_loss: 7.1361e-04 - val_loss: 0.7847 - val_sparse_categorical_crossentropy: 0.6440 - val_sparse_categorical_accuracy: 0.8125 - val_scaled_adversarial_loss: 0.1407\n",
      "Epoch 97/100\n",
      "11/11 - 0s - loss: 0.0041 - sparse_categorical_crossentropy: 0.0032 - sparse_categorical_accuracy: 1.0000 - scaled_adversarial_loss: 9.5543e-04 - val_loss: 0.7534 - val_sparse_categorical_crossentropy: 0.6190 - val_sparse_categorical_accuracy: 0.8750 - val_scaled_adversarial_loss: 0.1344\n",
      "Epoch 98/100\n",
      "11/11 - 0s - loss: 0.0086 - sparse_categorical_crossentropy: 0.0080 - sparse_categorical_accuracy: 0.9940 - scaled_adversarial_loss: 5.6035e-04 - val_loss: 0.6574 - val_sparse_categorical_crossentropy: 0.5414 - val_sparse_categorical_accuracy: 0.8750 - val_scaled_adversarial_loss: 0.1160\n",
      "Epoch 99/100\n",
      "11/11 - 0s - loss: 0.0071 - sparse_categorical_crossentropy: 0.0062 - sparse_categorical_accuracy: 1.0000 - scaled_adversarial_loss: 8.6669e-04 - val_loss: 0.7033 - val_sparse_categorical_crossentropy: 0.5785 - val_sparse_categorical_accuracy: 0.8750 - val_scaled_adversarial_loss: 0.1248\n",
      "Epoch 100/100\n",
      "11/11 - 0s - loss: 0.0046 - sparse_categorical_crossentropy: 0.0035 - sparse_categorical_accuracy: 1.0000 - scaled_adversarial_loss: 0.0011 - val_loss: 0.8155 - val_sparse_categorical_crossentropy: 0.6704 - val_sparse_categorical_accuracy: 0.8750 - val_scaled_adversarial_loss: 0.1451\n"
     ]
    },
    {
     "data": {
      "text/plain": [
       "<tensorflow.python.keras.callbacks.History at 0x7fe276773610>"
      ]
     },
     "execution_count": 36,
     "metadata": {},
     "output_type": "execute_result"
    }
   ],
   "source": [
    "train4=tf.data.Dataset.from_tensor_slices(\n",
    "    {'input':x_train4,'label':y_train4}).batch(batch_size)\n",
    "valid4=tf.data.Dataset.from_tensor_slices(\n",
    "    {'input':x_valid4,'label':y_valid4}).batch(batch_size)\n",
    "valid_steps=x_valid4.shape[0]//batch_size\n",
    "adv_model.fit(train4,validation_data=valid4,verbose=2,\n",
    "              validation_steps=valid_steps,epochs=epochs)"
   ]
  },
  {
   "cell_type": "code",
   "execution_count": 37,
   "metadata": {
    "papermill": {
     "duration": 0.878434,
     "end_time": "2021-01-08T18:51:05.878868",
     "exception": false,
     "start_time": "2021-01-08T18:51:05.000434",
     "status": "completed"
    },
    "tags": []
   },
   "outputs": [
    {
     "name": "stdout",
     "output_type": "stream",
     "text": [
      "21/21 [==============================] - 0s 20ms/sample - loss: 0.8814 - sparse_categorical_crossentropy: 0.7228 - sparse_categorical_accuracy: 0.7619 - scaled_adversarial_loss: 0.1586\n"
     ]
    },
    {
     "data": {
      "text/plain": [
       "[0.8814017176628113, 0.7227542, 0.7619048, 0.15864752]"
      ]
     },
     "execution_count": 37,
     "metadata": {},
     "output_type": "execute_result"
    }
   ],
   "source": [
    "adv_model.evaluate({'input':x_test4,'label':y_test4})"
   ]
  }
 ],
 "metadata": {
  "kernelspec": {
   "display_name": "Python 3",
   "language": "python",
   "name": "python3"
  },
  "language_info": {
   "codemirror_mode": {
    "name": "ipython",
    "version": 3
   },
   "file_extension": ".py",
   "mimetype": "text/x-python",
   "name": "python",
   "nbconvert_exporter": "python",
   "pygments_lexer": "ipython3",
   "version": "3.7.6"
  },
  "papermill": {
   "duration": 727.032976,
   "end_time": "2021-01-08T18:51:09.647539",
   "environment_variables": {},
   "exception": null,
   "input_path": "__notebook__.ipynb",
   "output_path": "__notebook__.ipynb",
   "parameters": {},
   "start_time": "2021-01-08T18:39:02.614563",
   "version": "1.2.1"
  }
 },
 "nbformat": 4,
 "nbformat_minor": 4
}
