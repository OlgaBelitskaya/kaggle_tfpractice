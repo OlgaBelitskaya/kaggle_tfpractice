{
 "cells": [
  {
   "cell_type": "code",
   "execution_count": 1,
   "metadata": {
    "_kg_hide-input": true,
    "papermill": {
     "duration": 0.042023,
     "end_time": "2021-01-08T20:52:19.432804",
     "exception": false,
     "start_time": "2021-01-08T20:52:19.390781",
     "status": "completed"
    },
    "tags": []
   },
   "outputs": [
    {
     "name": "stdout",
     "output_type": "stream",
     "text": [
      "Writing decor_header.py\n"
     ]
    }
   ],
   "source": [
    "%%writefile decor_header.py\n",
    "import random; from IPython.display import display,HTML\n",
    "from IPython.core.magic import register_line_magic\n",
    "@register_line_magic\n",
    "def decor_header(params):\n",
    "    params=params.split('|'); string=params[0]\n",
    "    if len(params)==1: \n",
    "        font_size='22'; font_family='Wallpoet'; cmap='Sinebow'\n",
    "    elif  len(params)==2: \n",
    "        font_size=params[1]\n",
    "        font_family='Wallpoet'; cmap='Sinebow'\n",
    "    elif  len(params)==3: \n",
    "        font_size=params[1]; font_family=params[2]\n",
    "        cmap='Sinebow'\n",
    "    else: \n",
    "        font_size=params[1]; font_family=params[2]; cmap=params[3]\n",
    "    height=max([int(font_size)*2.5,60]) \n",
    "    randi=str(random.uniform(0,9999999))\n",
    "    html_str=\"\"\"\n",
    "<script src='https://d3js.org/d3.v6.min.js'></script>\n",
    "<style>\n",
    "@import 'https://fonts.googleapis.com/css?family=\"\"\"+font_family+\"\"\"';\n",
    "#colorized001 {\n",
    "font-family:\"\"\"+font_family+\"\"\"; font-size:\"\"\"+font_size+\"\"\";}\n",
    "#canvas001,#canvas002 {width:10%; vertical-align:middle;}\n",
    "</style>\n",
    "<text id='colorized001'><canvas id='canvas001'></canvas>\n",
    "\"\"\"+string+\"\"\"\n",
    "<canvas id='canvas002'></canvas></text><br/>\n",
    "<script>\n",
    "var tc=setInterval(function() {\n",
    "    var now=(new Date().getTime()%5000)/5000;\n",
    "    var now_slow=(new Date().getTime()%100000)/100000;\n",
    "    var iddoc=document.getElementById('colorized001');\n",
    "    iddoc.style.color=d3.interpolate\"\"\"+cmap+\"\"\"(now);\n",
    "    var r=10,n=7;\n",
    "    var c1=document.getElementById('canvas001'); \n",
    "    var context1=c1.getContext('2d');\n",
    "    var c2=document.getElementById('canvas002'); \n",
    "    var context2=c2.getContext('2d');\n",
    "    c1.style.background=d3.interpolate\"\"\"+cmap+\"\"\"(now_slow); \n",
    "    c2.style.background=d3.interpolate\"\"\"+cmap+\"\"\"(now_slow);\n",
    "    context1.strokeStyle=d3.interpolate\"\"\"+cmap+\"\"\"(now);    \n",
    "    context2.strokeStyle=d3.interpolate\"\"\"+cmap+\"\"\"(now);\n",
    "    for (var i=1; i<n; i++) {\n",
    "        context1.beginPath(); context2.beginPath();\n",
    "        for (var j=0; j<6; j++) {\n",
    "            context1.arc(60*j,r*(n+.5),i*r,0,2*Math.PI);\n",
    "            context2.arc(60*j,r*(n+.5),i*r,0,2*Math.PI); };\n",
    "        context1.stroke(); context2.stroke(); }; },1)\n",
    "</script>\"\"\"\n",
    "    file='d3header'+randi+'.html'\n",
    "    with open(file,'w') as f:\n",
    "         f.write(html_str); f.close()\n",
    "    string=\"\"\"<div id='html_string\"\"\"+randi+\\\n",
    "    \"\"\"' style='width:100%;'><iframe src='\"\"\"+file+\\\n",
    "    \"\"\"' height=\"\"\"+str(height)+\"\"\"\n",
    "    style='display:block; width:100%;'></iframe></div>\"\"\"\n",
    "    display(HTML(string))"
   ]
  },
  {
   "cell_type": "code",
   "execution_count": 2,
   "metadata": {
    "_kg_hide-input": true,
    "papermill": {
     "duration": 0.041041,
     "end_time": "2021-01-08T20:52:19.501175",
     "exception": false,
     "start_time": "2021-01-08T20:52:19.460134",
     "status": "completed"
    },
    "tags": []
   },
   "outputs": [
    {
     "data": {
      "text/html": [
       "<div id='html_string1225438.9444145293' style='width:100%;'><iframe src='d3header1225438.9444145293.html' height=60\n",
       "    style='display:block; width:100%;'></iframe></div>"
      ],
      "text/plain": [
       "<IPython.core.display.HTML object>"
      ]
     },
     "metadata": {},
     "output_type": "display_data"
    }
   ],
   "source": [
    "%run decor_header.py\n",
    "%decor_header Modules, Helpful Functions, & Styling"
   ]
  },
  {
   "cell_type": "code",
   "execution_count": 3,
   "metadata": {
    "_kg_hide-output": false,
    "papermill": {
     "duration": 9.160288,
     "end_time": "2021-01-08T20:52:28.688409",
     "exception": false,
     "start_time": "2021-01-08T20:52:19.528121",
     "status": "completed"
    },
    "tags": []
   },
   "outputs": [],
   "source": [
    "!pip install --upgrade neural_structured_learning --user --quiet "
   ]
  },
  {
   "cell_type": "code",
   "execution_count": 4,
   "metadata": {
    "_cell_guid": "79c7e3d0-c299-4dcb-8224-4455121ee9b0",
    "_kg_hide-input": true,
    "_uuid": "d629ff2d2480ee46fbb7e2d37f6b5fab8052498a",
    "papermill": {
     "duration": 0.036014,
     "end_time": "2021-01-08T20:52:28.750340",
     "exception": false,
     "start_time": "2021-01-08T20:52:28.714326",
     "status": "completed"
    },
    "tags": []
   },
   "outputs": [
    {
     "data": {
      "text/html": [
       "<style>\n",
       "@import url('https://fonts.googleapis.com/css?family=Ewert|Roboto&effect=3d');\n",
       "span {text-shadow:3px 3px 3px #aaa;}  \n",
       "div.output_area pre{font-family:Roboto; font-size:110%; color:#36ff36;}      \n",
       "</style>\n"
      ],
      "text/plain": [
       "<IPython.core.display.HTML object>"
      ]
     },
     "metadata": {},
     "output_type": "display_data"
    }
   ],
   "source": [
    "%%html\n",
    "<style>\n",
    "@import url('https://fonts.googleapis.com/css?family=Ewert|Roboto&effect=3d');\n",
    "span {text-shadow:3px 3px 3px #aaa;}  \n",
    "div.output_area pre{font-family:Roboto; font-size:110%; color:#36ff36;}      \n",
    "</style>"
   ]
  },
  {
   "cell_type": "code",
   "execution_count": 5,
   "metadata": {
    "_cell_guid": "b1076dfc-b9ad-4769-8c92-a6c4dae69d19",
    "_uuid": "8f2839f25d086af736a60e9eeb907d3b93b6e0e5",
    "papermill": {
     "duration": 5.483184,
     "end_time": "2021-01-08T20:52:34.260047",
     "exception": false,
     "start_time": "2021-01-08T20:52:28.776863",
     "status": "completed"
    },
    "tags": []
   },
   "outputs": [],
   "source": [
    "import warnings; warnings.filterwarnings('ignore')\n",
    "import h5py,pylab as pl,pandas as pd\n",
    "import numpy as np,tensorflow as tf\n",
    "import neural_structured_learning as nsl\n",
    "from sklearn.model_selection import train_test_split\n",
    "fpath3='../input/classification-of-handwritten-letters/'\n",
    "fpath4='../input/flower-color-images/'"
   ]
  },
  {
   "cell_type": "code",
   "execution_count": 6,
   "metadata": {
    "_kg_hide-input": true,
    "papermill": {
     "duration": 0.039024,
     "end_time": "2021-01-08T20:52:34.325747",
     "exception": false,
     "start_time": "2021-01-08T20:52:34.286723",
     "status": "completed"
    },
    "tags": []
   },
   "outputs": [],
   "source": [
    "def prepro(x_train,y_train,x_test,y_test):\n",
    "    n=int(len(x_test)/2)    \n",
    "    x_valid,y_valid=x_test[:n],y_test[:n]\n",
    "    x_test,y_test=x_test[n:],y_test[n:]\n",
    "    df=pd.DataFrame([[x_train.shape,x_valid.shape,x_test.shape],\n",
    "                     [y_train.shape,y_valid.shape,y_test.shape]],\n",
    "                    columns=['train','valid','test'],\n",
    "                    index=['image arrays','label arrays'])\n",
    "    display(df)\n",
    "    return [[x_train,x_valid,x_test],\n",
    "            [y_train,y_valid,y_test]]"
   ]
  },
  {
   "cell_type": "code",
   "execution_count": 7,
   "metadata": {
    "_kg_hide-input": true,
    "papermill": {
     "duration": 0.036655,
     "end_time": "2021-01-08T20:52:34.389523",
     "exception": false,
     "start_time": "2021-01-08T20:52:34.352868",
     "status": "completed"
    },
    "tags": []
   },
   "outputs": [
    {
     "data": {
      "text/html": [
       "<div id='html_string3736230.7389019625' style='width:100%;'><iframe src='d3header3736230.7389019625.html' height=60\n",
       "    style='display:block; width:100%;'></iframe></div>"
      ],
      "text/plain": [
       "<IPython.core.display.HTML object>"
      ]
     },
     "metadata": {},
     "output_type": "display_data"
    }
   ],
   "source": [
    "%decor_header Data Loading & Preprocessing"
   ]
  },
  {
   "cell_type": "code",
   "execution_count": 8,
   "metadata": {
    "papermill": {
     "duration": 1.008827,
     "end_time": "2021-01-08T20:52:35.424360",
     "exception": false,
     "start_time": "2021-01-08T20:52:34.415533",
     "status": "completed"
    },
    "tags": []
   },
   "outputs": [
    {
     "name": "stdout",
     "output_type": "stream",
     "text": [
      "Downloading data from https://storage.googleapis.com/tensorflow/tf-keras-datasets/mnist.npz\n",
      "11493376/11490434 [==============================] - 0s 0us/step\n"
     ]
    },
    {
     "data": {
      "text/html": [
       "<div>\n",
       "<style scoped>\n",
       "    .dataframe tbody tr th:only-of-type {\n",
       "        vertical-align: middle;\n",
       "    }\n",
       "\n",
       "    .dataframe tbody tr th {\n",
       "        vertical-align: top;\n",
       "    }\n",
       "\n",
       "    .dataframe thead th {\n",
       "        text-align: right;\n",
       "    }\n",
       "</style>\n",
       "<table border=\"1\" class=\"dataframe\">\n",
       "  <thead>\n",
       "    <tr style=\"text-align: right;\">\n",
       "      <th></th>\n",
       "      <th>train</th>\n",
       "      <th>valid</th>\n",
       "      <th>test</th>\n",
       "    </tr>\n",
       "  </thead>\n",
       "  <tbody>\n",
       "    <tr>\n",
       "      <th>image arrays</th>\n",
       "      <td>(60000, 28, 28)</td>\n",
       "      <td>(5000, 28, 28)</td>\n",
       "      <td>(5000, 28, 28)</td>\n",
       "    </tr>\n",
       "    <tr>\n",
       "      <th>label arrays</th>\n",
       "      <td>(60000, 1)</td>\n",
       "      <td>(5000, 1)</td>\n",
       "      <td>(5000, 1)</td>\n",
       "    </tr>\n",
       "  </tbody>\n",
       "</table>\n",
       "</div>"
      ],
      "text/plain": [
       "                        train           valid            test\n",
       "image arrays  (60000, 28, 28)  (5000, 28, 28)  (5000, 28, 28)\n",
       "label arrays       (60000, 1)       (5000, 1)       (5000, 1)"
      ]
     },
     "metadata": {},
     "output_type": "display_data"
    }
   ],
   "source": [
    "(x_train1,y_train1),(x_test1,y_test1)=\\\n",
    "tf.keras.datasets.mnist.load_data()\n",
    "[[x_train1,x_valid1,x_test1],\n",
    " [y_train1,y_valid1,y_test1]]=\\\n",
    "prepro(x_train1/255,y_train1.reshape(-1,1),\n",
    "       x_test1/255,y_test1.reshape(-1,1))"
   ]
  },
  {
   "cell_type": "code",
   "execution_count": 9,
   "metadata": {
    "papermill": {
     "duration": 6.963973,
     "end_time": "2021-01-08T20:52:42.439711",
     "exception": false,
     "start_time": "2021-01-08T20:52:35.475738",
     "status": "completed"
    },
    "tags": []
   },
   "outputs": [
    {
     "name": "stdout",
     "output_type": "stream",
     "text": [
      "Downloading data from https://www.cs.toronto.edu/~kriz/cifar-10-python.tar.gz\n",
      "170500096/170498071 [==============================] - 4s 0us/step\n"
     ]
    },
    {
     "data": {
      "text/html": [
       "<div>\n",
       "<style scoped>\n",
       "    .dataframe tbody tr th:only-of-type {\n",
       "        vertical-align: middle;\n",
       "    }\n",
       "\n",
       "    .dataframe tbody tr th {\n",
       "        vertical-align: top;\n",
       "    }\n",
       "\n",
       "    .dataframe thead th {\n",
       "        text-align: right;\n",
       "    }\n",
       "</style>\n",
       "<table border=\"1\" class=\"dataframe\">\n",
       "  <thead>\n",
       "    <tr style=\"text-align: right;\">\n",
       "      <th></th>\n",
       "      <th>train</th>\n",
       "      <th>valid</th>\n",
       "      <th>test</th>\n",
       "    </tr>\n",
       "  </thead>\n",
       "  <tbody>\n",
       "    <tr>\n",
       "      <th>image arrays</th>\n",
       "      <td>(50000, 32, 32, 3)</td>\n",
       "      <td>(5000, 32, 32, 3)</td>\n",
       "      <td>(5000, 32, 32, 3)</td>\n",
       "    </tr>\n",
       "    <tr>\n",
       "      <th>label arrays</th>\n",
       "      <td>(50000, 1)</td>\n",
       "      <td>(5000, 1)</td>\n",
       "      <td>(5000, 1)</td>\n",
       "    </tr>\n",
       "  </tbody>\n",
       "</table>\n",
       "</div>"
      ],
      "text/plain": [
       "                           train              valid               test\n",
       "image arrays  (50000, 32, 32, 3)  (5000, 32, 32, 3)  (5000, 32, 32, 3)\n",
       "label arrays          (50000, 1)          (5000, 1)          (5000, 1)"
      ]
     },
     "metadata": {},
     "output_type": "display_data"
    }
   ],
   "source": [
    "(x_train2,y_train2),(x_test2,y_test2)=\\\n",
    "tf.keras.datasets.cifar10.load_data()\n",
    "[[x_train2,x_valid2,x_test2],\n",
    " [y_train2,y_valid2,y_test2]]=\\\n",
    "prepro(x_train2/255,y_train2,x_test2/255,y_test2)"
   ]
  },
  {
   "cell_type": "code",
   "execution_count": 10,
   "metadata": {
    "papermill": {
     "duration": 3.864156,
     "end_time": "2021-01-08T20:52:46.356819",
     "exception": false,
     "start_time": "2021-01-08T20:52:42.492663",
     "status": "completed"
    },
    "tags": []
   },
   "outputs": [
    {
     "name": "stdout",
     "output_type": "stream",
     "text": [
      "['backgrounds', 'images', 'labels']\n"
     ]
    },
    {
     "data": {
      "text/html": [
       "<div>\n",
       "<style scoped>\n",
       "    .dataframe tbody tr th:only-of-type {\n",
       "        vertical-align: middle;\n",
       "    }\n",
       "\n",
       "    .dataframe tbody tr th {\n",
       "        vertical-align: top;\n",
       "    }\n",
       "\n",
       "    .dataframe thead th {\n",
       "        text-align: right;\n",
       "    }\n",
       "</style>\n",
       "<table border=\"1\" class=\"dataframe\">\n",
       "  <thead>\n",
       "    <tr style=\"text-align: right;\">\n",
       "      <th></th>\n",
       "      <th>train</th>\n",
       "      <th>valid</th>\n",
       "      <th>test</th>\n",
       "    </tr>\n",
       "  </thead>\n",
       "  <tbody>\n",
       "    <tr>\n",
       "      <th>image arrays</th>\n",
       "      <td>(11352, 32, 32, 3)</td>\n",
       "      <td>(1419, 32, 32, 3)</td>\n",
       "      <td>(1419, 32, 32, 3)</td>\n",
       "    </tr>\n",
       "    <tr>\n",
       "      <th>label arrays</th>\n",
       "      <td>(11352, 1)</td>\n",
       "      <td>(1419, 1)</td>\n",
       "      <td>(1419, 1)</td>\n",
       "    </tr>\n",
       "  </tbody>\n",
       "</table>\n",
       "</div>"
      ],
      "text/plain": [
       "                           train              valid               test\n",
       "image arrays  (11352, 32, 32, 3)  (1419, 32, 32, 3)  (1419, 32, 32, 3)\n",
       "label arrays          (11352, 1)          (1419, 1)          (1419, 1)"
      ]
     },
     "metadata": {},
     "output_type": "display_data"
    }
   ],
   "source": [
    "f=h5py.File(fpath3+'LetterColorImages_123.h5','r') \n",
    "keys=list(f.keys()); print(keys)\n",
    "images=np.array(f[keys[1]]).astype('float32')/255\n",
    "labels=np.array(f[keys[2]]).astype('int32').reshape(-1,1)-1\n",
    "x_train3,x_test3,y_train3,y_test3=\\\n",
    "train_test_split(images,labels,test_size=.2,random_state=1)\n",
    "del images,labels\n",
    "[[x_train3,x_valid3,x_test3],\n",
    " [y_train3,y_valid3,y_test3]]=\\\n",
    "prepro(x_train3,y_train3,x_test3,y_test3)"
   ]
  },
  {
   "cell_type": "code",
   "execution_count": 11,
   "metadata": {
    "papermill": {
     "duration": 0.921594,
     "end_time": "2021-01-08T20:52:47.335675",
     "exception": false,
     "start_time": "2021-01-08T20:52:46.414081",
     "status": "completed"
    },
    "tags": []
   },
   "outputs": [
    {
     "name": "stdout",
     "output_type": "stream",
     "text": [
      "['images', 'labels']\n"
     ]
    },
    {
     "data": {
      "text/html": [
       "<div>\n",
       "<style scoped>\n",
       "    .dataframe tbody tr th:only-of-type {\n",
       "        vertical-align: middle;\n",
       "    }\n",
       "\n",
       "    .dataframe tbody tr th {\n",
       "        vertical-align: top;\n",
       "    }\n",
       "\n",
       "    .dataframe thead th {\n",
       "        text-align: right;\n",
       "    }\n",
       "</style>\n",
       "<table border=\"1\" class=\"dataframe\">\n",
       "  <thead>\n",
       "    <tr style=\"text-align: right;\">\n",
       "      <th></th>\n",
       "      <th>train</th>\n",
       "      <th>valid</th>\n",
       "      <th>test</th>\n",
       "    </tr>\n",
       "  </thead>\n",
       "  <tbody>\n",
       "    <tr>\n",
       "      <th>image arrays</th>\n",
       "      <td>(168, 128, 128, 3)</td>\n",
       "      <td>(21, 128, 128, 3)</td>\n",
       "      <td>(21, 128, 128, 3)</td>\n",
       "    </tr>\n",
       "    <tr>\n",
       "      <th>label arrays</th>\n",
       "      <td>(168, 1)</td>\n",
       "      <td>(21, 1)</td>\n",
       "      <td>(21, 1)</td>\n",
       "    </tr>\n",
       "  </tbody>\n",
       "</table>\n",
       "</div>"
      ],
      "text/plain": [
       "                           train              valid               test\n",
       "image arrays  (168, 128, 128, 3)  (21, 128, 128, 3)  (21, 128, 128, 3)\n",
       "label arrays            (168, 1)            (21, 1)            (21, 1)"
      ]
     },
     "metadata": {},
     "output_type": "display_data"
    }
   ],
   "source": [
    "f=h5py.File(fpath4+'FlowerColorImages.h5','r') \n",
    "keys=list(f.keys()); print(keys)\n",
    "images=np.array(f[keys[0]]).astype('float32')/255\n",
    "labels=np.array(f[keys[1]]).astype('int32').reshape(-1,1)\n",
    "x_train4,x_test4,y_train4,y_test4=\\\n",
    "train_test_split(images,labels,test_size=.2,random_state=1)\n",
    "del images,labels\n",
    "[[x_train4,x_valid4,x_test4],\n",
    " [y_train4,y_valid4,y_test4]]=\\\n",
    "prepro(x_train4,y_train4,x_test4,y_test4)"
   ]
  },
  {
   "cell_type": "code",
   "execution_count": 12,
   "metadata": {
    "_kg_hide-input": true,
    "papermill": {
     "duration": 0.070351,
     "end_time": "2021-01-08T20:52:47.461023",
     "exception": false,
     "start_time": "2021-01-08T20:52:47.390672",
     "status": "completed"
    },
    "tags": []
   },
   "outputs": [
    {
     "data": {
      "text/html": [
       "<div id='html_string7452181.894901615' style='width:100%;'><iframe src='d3header7452181.894901615.html' height=60\n",
       "    style='display:block; width:100%;'></iframe></div>"
      ],
      "text/plain": [
       "<IPython.core.display.HTML object>"
      ]
     },
     "metadata": {},
     "output_type": "display_data"
    },
    {
     "data": {
      "text/html": [
       "<div id='html_string3774170.6361880596' style='width:100%;'><iframe src='d3header3774170.6361880596.html' height=60\n",
       "    style='display:block; width:100%;'></iframe></div>"
      ],
      "text/plain": [
       "<IPython.core.display.HTML object>"
      ]
     },
     "metadata": {},
     "output_type": "display_data"
    }
   ],
   "source": [
    "%decor_header Models with Adversarial Regularization\n",
    "%decor_header MLP Base|18"
   ]
  },
  {
   "cell_type": "code",
   "execution_count": 13,
   "metadata": {
    "papermill": {
     "duration": 3.353585,
     "end_time": "2021-01-08T20:52:50.871329",
     "exception": false,
     "start_time": "2021-01-08T20:52:47.517744",
     "status": "completed"
    },
    "tags": []
   },
   "outputs": [],
   "source": [
    "batch_size=64; img_size=28; n_class=10; epochs=7\n",
    "base_model=tf.keras.Sequential([\n",
    "    tf.keras.Input((img_size,img_size),name='input'),\n",
    "    tf.keras.layers.Flatten(),\n",
    "    tf.keras.layers.Dense(128,activation=tf.nn.relu),\n",
    "    tf.keras.layers.BatchNormalization(),    \n",
    "    tf.keras.layers.Dense(256,activation=tf.nn.relu),\n",
    "    tf.keras.layers.Dense(n_class,activation=tf.nn.softmax)\n",
    "])\n",
    "adv_config=nsl.configs\\\n",
    ".make_adv_reg_config(multiplier=.2,adv_step_size=.05)\n",
    "adv_model=nsl.keras\\\n",
    ".AdversarialRegularization(base_model,adv_config=adv_config)\n",
    "adv_model.compile(optimizer='adam',\n",
    "                  loss='sparse_categorical_crossentropy',\n",
    "                  metrics=['accuracy'])"
   ]
  },
  {
   "cell_type": "code",
   "execution_count": 14,
   "metadata": {
    "_kg_hide-output": true,
    "papermill": {
     "duration": 52.760417,
     "end_time": "2021-01-08T20:53:43.687828",
     "exception": false,
     "start_time": "2021-01-08T20:52:50.927411",
     "status": "completed"
    },
    "tags": []
   },
   "outputs": [
    {
     "name": "stdout",
     "output_type": "stream",
     "text": [
      "Train for 938 steps, validate for 78 steps\n",
      "Epoch 1/7\n",
      "938/938 - 8s - loss: 0.2680 - sparse_categorical_crossentropy: 0.2159 - sparse_categorical_accuracy: 0.9357 - scaled_adversarial_loss: 0.0521 - val_loss: 0.2518 - val_sparse_categorical_crossentropy: 0.2031 - val_sparse_categorical_accuracy: 0.9339 - val_scaled_adversarial_loss: 0.0488\n",
      "Epoch 2/7\n",
      "938/938 - 6s - loss: 0.1134 - sparse_categorical_crossentropy: 0.0893 - sparse_categorical_accuracy: 0.9728 - scaled_adversarial_loss: 0.0241 - val_loss: 0.1990 - val_sparse_categorical_crossentropy: 0.1600 - val_sparse_categorical_accuracy: 0.9511 - val_scaled_adversarial_loss: 0.0390\n",
      "Epoch 3/7\n",
      "938/938 - 5s - loss: 0.0738 - sparse_categorical_crossentropy: 0.0569 - sparse_categorical_accuracy: 0.9825 - scaled_adversarial_loss: 0.0169 - val_loss: 0.1749 - val_sparse_categorical_crossentropy: 0.1402 - val_sparse_categorical_accuracy: 0.9615 - val_scaled_adversarial_loss: 0.0347\n",
      "Epoch 4/7\n",
      "938/938 - 5s - loss: 0.0501 - sparse_categorical_crossentropy: 0.0375 - sparse_categorical_accuracy: 0.9890 - scaled_adversarial_loss: 0.0126 - val_loss: 0.1722 - val_sparse_categorical_crossentropy: 0.1378 - val_sparse_categorical_accuracy: 0.9641 - val_scaled_adversarial_loss: 0.0344\n",
      "Epoch 5/7\n",
      "938/938 - 5s - loss: 0.0376 - sparse_categorical_crossentropy: 0.0272 - sparse_categorical_accuracy: 0.9919 - scaled_adversarial_loss: 0.0104 - val_loss: 0.2054 - val_sparse_categorical_crossentropy: 0.1643 - val_sparse_categorical_accuracy: 0.9589 - val_scaled_adversarial_loss: 0.0411\n",
      "Epoch 6/7\n",
      "938/938 - 5s - loss: 0.0325 - sparse_categorical_crossentropy: 0.0230 - sparse_categorical_accuracy: 0.9924 - scaled_adversarial_loss: 0.0096 - val_loss: 0.1966 - val_sparse_categorical_crossentropy: 0.1572 - val_sparse_categorical_accuracy: 0.9649 - val_scaled_adversarial_loss: 0.0394\n",
      "Epoch 7/7\n",
      "938/938 - 5s - loss: 0.0290 - sparse_categorical_crossentropy: 0.0200 - sparse_categorical_accuracy: 0.9935 - scaled_adversarial_loss: 0.0091 - val_loss: 0.1918 - val_sparse_categorical_crossentropy: 0.1529 - val_sparse_categorical_accuracy: 0.9647 - val_scaled_adversarial_loss: 0.0389\n"
     ]
    },
    {
     "data": {
      "text/plain": [
       "<tensorflow.python.keras.callbacks.History at 0x7f05cd72da10>"
      ]
     },
     "execution_count": 14,
     "metadata": {},
     "output_type": "execute_result"
    }
   ],
   "source": [
    "train1=tf.data.Dataset.from_tensor_slices(\n",
    "    {'input':x_train1,'label':y_train1}).batch(batch_size)\n",
    "valid1=tf.data.Dataset.from_tensor_slices(\n",
    "    {'input':x_valid1,'label':y_valid1}).batch(batch_size)\n",
    "valid_steps=x_valid1.shape[0]//batch_size\n",
    "adv_model.fit(train1,validation_data=valid1,verbose=2,\n",
    "              validation_steps=valid_steps,epochs=epochs)"
   ]
  },
  {
   "cell_type": "code",
   "execution_count": 15,
   "metadata": {
    "papermill": {
     "duration": 1.424347,
     "end_time": "2021-01-08T20:53:45.173618",
     "exception": false,
     "start_time": "2021-01-08T20:53:43.749271",
     "status": "completed"
    },
    "tags": []
   },
   "outputs": [
    {
     "name": "stdout",
     "output_type": "stream",
     "text": [
      "5000/5000 [==============================] - 1s 257us/sample - loss: 0.0693 - sparse_categorical_crossentropy: 0.0546 - sparse_categorical_accuracy: 0.9850 - scaled_adversarial_loss: 0.0143\n"
     ]
    },
    {
     "data": {
      "text/plain": [
       "[0.06931666927303158, 0.05463704, 0.985, 0.014349952]"
      ]
     },
     "execution_count": 15,
     "metadata": {},
     "output_type": "execute_result"
    }
   ],
   "source": [
    "adv_model.evaluate({'input':x_test1,'label':y_test1})"
   ]
  },
  {
   "cell_type": "code",
   "execution_count": 16,
   "metadata": {
    "papermill": {
     "duration": 0.302878,
     "end_time": "2021-01-08T20:53:45.573899",
     "exception": false,
     "start_time": "2021-01-08T20:53:45.271021",
     "status": "completed"
    },
    "tags": []
   },
   "outputs": [],
   "source": [
    "batch_size=64; img_size=32; n_class=10; epochs=7\n",
    "base_model=tf.keras.models.Sequential([\n",
    "        tf.keras.Input((img_size,img_size,3),name='input'),\n",
    "        tf.keras.layers.Flatten(),\n",
    "        tf.keras.layers.Dense(128,activation='relu'),\n",
    "        tf.keras.layers.BatchNormalization(),    \n",
    "        tf.keras.layers.Dense(256,activation='relu'),\n",
    "        tf.keras.layers.BatchNormalization(),    \n",
    "        tf.keras.layers.Dense(512,activation='relu'),\n",
    "        tf.keras.layers.BatchNormalization(),   \n",
    "        tf.keras.layers.Dense(1024,activation='relu'),\n",
    "        tf.keras.layers.Dense(10,activation='softmax')\n",
    "    ])\n",
    "adv_config=nsl.configs\\\n",
    ".make_adv_reg_config(multiplier=.2,adv_step_size=.05)\n",
    "adv_model=nsl.keras\\\n",
    ".AdversarialRegularization(base_model,adv_config=adv_config)\n",
    "adv_model.compile(optimizer='adam',\n",
    "                  loss='sparse_categorical_crossentropy',\n",
    "                  metrics=['accuracy'])"
   ]
  },
  {
   "cell_type": "code",
   "execution_count": 17,
   "metadata": {
    "_kg_hide-output": true,
    "papermill": {
     "duration": 58.060036,
     "end_time": "2021-01-08T20:54:43.703139",
     "exception": false,
     "start_time": "2021-01-08T20:53:45.643103",
     "status": "completed"
    },
    "tags": []
   },
   "outputs": [
    {
     "name": "stdout",
     "output_type": "stream",
     "text": [
      "Train for 782 steps, validate for 78 steps\n",
      "Epoch 1/7\n",
      "782/782 - 10s - loss: 2.1245 - sparse_categorical_crossentropy: 1.7583 - sparse_categorical_accuracy: 0.3853 - scaled_adversarial_loss: 0.3662 - val_loss: 1.9538 - val_sparse_categorical_crossentropy: 1.6201 - val_sparse_categorical_accuracy: 0.4167 - val_scaled_adversarial_loss: 0.3337\n",
      "Epoch 2/7\n",
      "782/782 - 7s - loss: 1.7853 - sparse_categorical_crossentropy: 1.4776 - sparse_categorical_accuracy: 0.4734 - scaled_adversarial_loss: 0.3077 - val_loss: 1.9593 - val_sparse_categorical_crossentropy: 1.6221 - val_sparse_categorical_accuracy: 0.4309 - val_scaled_adversarial_loss: 0.3372\n",
      "Epoch 3/7\n",
      "782/782 - 8s - loss: 1.6633 - sparse_categorical_crossentropy: 1.3749 - sparse_categorical_accuracy: 0.5102 - scaled_adversarial_loss: 0.2884 - val_loss: 1.8955 - val_sparse_categorical_crossentropy: 1.5674 - val_sparse_categorical_accuracy: 0.4513 - val_scaled_adversarial_loss: 0.3281\n",
      "Epoch 4/7\n",
      "782/782 - 8s - loss: 1.5402 - sparse_categorical_crossentropy: 1.2709 - sparse_categorical_accuracy: 0.5457 - scaled_adversarial_loss: 0.2692 - val_loss: 1.9174 - val_sparse_categorical_crossentropy: 1.5832 - val_sparse_categorical_accuracy: 0.4607 - val_scaled_adversarial_loss: 0.3342\n",
      "Epoch 5/7\n",
      "782/782 - 7s - loss: 1.4206 - sparse_categorical_crossentropy: 1.1698 - sparse_categorical_accuracy: 0.5817 - scaled_adversarial_loss: 0.2508 - val_loss: 2.0345 - val_sparse_categorical_crossentropy: 1.6782 - val_sparse_categorical_accuracy: 0.4549 - val_scaled_adversarial_loss: 0.3563\n",
      "Epoch 6/7\n",
      "782/782 - 7s - loss: 1.2957 - sparse_categorical_crossentropy: 1.0642 - sparse_categorical_accuracy: 0.6183 - scaled_adversarial_loss: 0.2315 - val_loss: 2.2362 - val_sparse_categorical_crossentropy: 1.8423 - val_sparse_categorical_accuracy: 0.4435 - val_scaled_adversarial_loss: 0.3940\n",
      "Epoch 7/7\n",
      "782/782 - 7s - loss: 1.1603 - sparse_categorical_crossentropy: 0.9497 - sparse_categorical_accuracy: 0.6597 - scaled_adversarial_loss: 0.2106 - val_loss: 2.5596 - val_sparse_categorical_crossentropy: 2.1057 - val_sparse_categorical_accuracy: 0.4327 - val_scaled_adversarial_loss: 0.4539\n"
     ]
    },
    {
     "data": {
      "text/plain": [
       "<tensorflow.python.keras.callbacks.History at 0x7f05702198d0>"
      ]
     },
     "execution_count": 17,
     "metadata": {},
     "output_type": "execute_result"
    }
   ],
   "source": [
    "train2=tf.data.Dataset.from_tensor_slices(\n",
    "    {'input':x_train2,'label':y_train2}).batch(batch_size)\n",
    "valid2=tf.data.Dataset.from_tensor_slices(\n",
    "    {'input':x_valid2,'label':y_valid2}).batch(batch_size)\n",
    "valid_steps=x_valid2.shape[0]//batch_size\n",
    "adv_model.fit(train2,validation_data=valid2,verbose=2,\n",
    "              validation_steps=valid_steps,epochs=epochs)"
   ]
  },
  {
   "cell_type": "code",
   "execution_count": 18,
   "metadata": {
    "papermill": {
     "duration": 1.328396,
     "end_time": "2021-01-08T20:54:45.105668",
     "exception": false,
     "start_time": "2021-01-08T20:54:43.777272",
     "status": "completed"
    },
    "tags": []
   },
   "outputs": [
    {
     "name": "stdout",
     "output_type": "stream",
     "text": [
      "5000/5000 [==============================] - 1s 213us/sample - loss: 2.5591 - sparse_categorical_crossentropy: 2.1048 - sparse_categorical_accuracy: 0.4166 - scaled_adversarial_loss: 0.4543\n"
     ]
    },
    {
     "data": {
      "text/plain": [
       "[2.559125650024414, 2.1048405, 0.4166, 0.45433268]"
      ]
     },
     "execution_count": 18,
     "metadata": {},
     "output_type": "execute_result"
    }
   ],
   "source": [
    "adv_model.evaluate({'input':x_test2,'label':y_test2})"
   ]
  },
  {
   "cell_type": "code",
   "execution_count": 19,
   "metadata": {
    "papermill": {
     "duration": 0.272406,
     "end_time": "2021-01-08T20:54:45.460537",
     "exception": false,
     "start_time": "2021-01-08T20:54:45.188131",
     "status": "completed"
    },
    "tags": []
   },
   "outputs": [],
   "source": [
    "batch_size=128; img_size=32; n_class=33; epochs=100\n",
    "base_model=tf.keras.models.Sequential([\n",
    "        tf.keras.Input((img_size,img_size,3),name='input'),\n",
    "        tf.keras.layers.Flatten(),\n",
    "        tf.keras.layers.Dense(128,activation='relu'),\n",
    "        tf.keras.layers.BatchNormalization(),    \n",
    "        tf.keras.layers.Dense(256,activation='relu'),\n",
    "        tf.keras.layers.BatchNormalization(),    \n",
    "        tf.keras.layers.Dense(512,activation='relu'),\n",
    "        tf.keras.layers.BatchNormalization(),   \n",
    "        tf.keras.layers.Dense(1024,activation='relu'),\n",
    "        tf.keras.layers.Dense(33,activation='softmax')\n",
    "    ])\n",
    "adv_config=nsl.configs\\\n",
    ".make_adv_reg_config(multiplier=.2,adv_step_size=.05)\n",
    "adv_model=nsl.keras\\\n",
    ".AdversarialRegularization(base_model,adv_config=adv_config)\n",
    "adv_model.compile(optimizer='adam',\n",
    "                  loss='sparse_categorical_crossentropy',\n",
    "                  metrics=['accuracy'])"
   ]
  },
  {
   "cell_type": "code",
   "execution_count": 20,
   "metadata": {
    "_kg_hide-output": true,
    "papermill": {
     "duration": 102.297383,
     "end_time": "2021-01-08T20:56:27.835014",
     "exception": false,
     "start_time": "2021-01-08T20:54:45.537631",
     "status": "completed"
    },
    "tags": []
   },
   "outputs": [
    {
     "name": "stdout",
     "output_type": "stream",
     "text": [
      "Train for 89 steps, validate for 11 steps\n",
      "Epoch 1/100\n",
      "89/89 - 4s - loss: 3.3316 - sparse_categorical_crossentropy: 2.7089 - sparse_categorical_accuracy: 0.2418 - scaled_adversarial_loss: 0.6227 - val_loss: 4.8022 - val_sparse_categorical_crossentropy: 3.9855 - val_sparse_categorical_accuracy: 0.0632 - val_scaled_adversarial_loss: 0.8167\n",
      "Epoch 2/100\n",
      "89/89 - 1s - loss: 2.4645 - sparse_categorical_crossentropy: 1.9835 - sparse_categorical_accuracy: 0.4189 - scaled_adversarial_loss: 0.4810 - val_loss: 7.9680 - val_sparse_categorical_crossentropy: 6.5944 - val_sparse_categorical_accuracy: 0.0639 - val_scaled_adversarial_loss: 1.3735\n",
      "Epoch 3/100\n",
      "89/89 - 1s - loss: 2.0519 - sparse_categorical_crossentropy: 1.6394 - sparse_categorical_accuracy: 0.5157 - scaled_adversarial_loss: 0.4125 - val_loss: 9.1854 - val_sparse_categorical_crossentropy: 7.5740 - val_sparse_categorical_accuracy: 0.0689 - val_scaled_adversarial_loss: 1.6114\n",
      "Epoch 4/100\n",
      "89/89 - 1s - loss: 1.7367 - sparse_categorical_crossentropy: 1.3766 - sparse_categorical_accuracy: 0.5824 - scaled_adversarial_loss: 0.3601 - val_loss: 8.5844 - val_sparse_categorical_crossentropy: 7.0864 - val_sparse_categorical_accuracy: 0.0717 - val_scaled_adversarial_loss: 1.4980\n",
      "Epoch 5/100\n",
      "89/89 - 1s - loss: 1.4853 - sparse_categorical_crossentropy: 1.1674 - sparse_categorical_accuracy: 0.6402 - scaled_adversarial_loss: 0.3179 - val_loss: 5.0915 - val_sparse_categorical_crossentropy: 4.1912 - val_sparse_categorical_accuracy: 0.1584 - val_scaled_adversarial_loss: 0.9003\n",
      "Epoch 6/100\n",
      "89/89 - 1s - loss: 1.3012 - sparse_categorical_crossentropy: 1.0151 - sparse_categorical_accuracy: 0.6860 - scaled_adversarial_loss: 0.2861 - val_loss: 7.3680 - val_sparse_categorical_crossentropy: 6.0743 - val_sparse_categorical_accuracy: 0.1080 - val_scaled_adversarial_loss: 1.2937\n",
      "Epoch 7/100\n",
      "89/89 - 1s - loss: 1.1665 - sparse_categorical_crossentropy: 0.9030 - sparse_categorical_accuracy: 0.7238 - scaled_adversarial_loss: 0.2635 - val_loss: 10.2327 - val_sparse_categorical_crossentropy: 8.4573 - val_sparse_categorical_accuracy: 0.0874 - val_scaled_adversarial_loss: 1.7753\n",
      "Epoch 8/100\n",
      "89/89 - 1s - loss: 1.0558 - sparse_categorical_crossentropy: 0.8105 - sparse_categorical_accuracy: 0.7445 - scaled_adversarial_loss: 0.2453 - val_loss: 10.2141 - val_sparse_categorical_crossentropy: 8.4153 - val_sparse_categorical_accuracy: 0.0923 - val_scaled_adversarial_loss: 1.7988\n",
      "Epoch 9/100\n",
      "89/89 - 1s - loss: 0.9414 - sparse_categorical_crossentropy: 0.7163 - sparse_categorical_accuracy: 0.7710 - scaled_adversarial_loss: 0.2251 - val_loss: 10.8295 - val_sparse_categorical_crossentropy: 8.9336 - val_sparse_categorical_accuracy: 0.0902 - val_scaled_adversarial_loss: 1.8959\n",
      "Epoch 10/100\n",
      "89/89 - 1s - loss: 0.8433 - sparse_categorical_crossentropy: 0.6351 - sparse_categorical_accuracy: 0.8034 - scaled_adversarial_loss: 0.2082 - val_loss: 11.2684 - val_sparse_categorical_crossentropy: 9.2884 - val_sparse_categorical_accuracy: 0.0866 - val_scaled_adversarial_loss: 1.9799\n",
      "Epoch 11/100\n",
      "89/89 - 1s - loss: 0.7805 - sparse_categorical_crossentropy: 0.5826 - sparse_categorical_accuracy: 0.8142 - scaled_adversarial_loss: 0.1978 - val_loss: 11.2851 - val_sparse_categorical_crossentropy: 9.2871 - val_sparse_categorical_accuracy: 0.0668 - val_scaled_adversarial_loss: 1.9980\n",
      "Epoch 12/100\n",
      "89/89 - 1s - loss: 0.6988 - sparse_categorical_crossentropy: 0.5161 - sparse_categorical_accuracy: 0.8347 - scaled_adversarial_loss: 0.1828 - val_loss: 21.2025 - val_sparse_categorical_crossentropy: 17.5246 - val_sparse_categorical_accuracy: 0.0611 - val_scaled_adversarial_loss: 3.6779\n",
      "Epoch 13/100\n",
      "89/89 - 1s - loss: 0.6125 - sparse_categorical_crossentropy: 0.4466 - sparse_categorical_accuracy: 0.8591 - scaled_adversarial_loss: 0.1659 - val_loss: 14.3684 - val_sparse_categorical_crossentropy: 11.8421 - val_sparse_categorical_accuracy: 0.1009 - val_scaled_adversarial_loss: 2.5263\n",
      "Epoch 14/100\n",
      "89/89 - 1s - loss: 0.5604 - sparse_categorical_crossentropy: 0.4028 - sparse_categorical_accuracy: 0.8713 - scaled_adversarial_loss: 0.1576 - val_loss: 12.4714 - val_sparse_categorical_crossentropy: 10.2483 - val_sparse_categorical_accuracy: 0.1428 - val_scaled_adversarial_loss: 2.2232\n",
      "Epoch 15/100\n",
      "89/89 - 1s - loss: 0.5427 - sparse_categorical_crossentropy: 0.3866 - sparse_categorical_accuracy: 0.8753 - scaled_adversarial_loss: 0.1561 - val_loss: 19.4256 - val_sparse_categorical_crossentropy: 16.0104 - val_sparse_categorical_accuracy: 0.0874 - val_scaled_adversarial_loss: 3.4152\n",
      "Epoch 16/100\n",
      "89/89 - 1s - loss: 0.5024 - sparse_categorical_crossentropy: 0.3533 - sparse_categorical_accuracy: 0.8857 - scaled_adversarial_loss: 0.1490 - val_loss: 11.6985 - val_sparse_categorical_crossentropy: 9.6139 - val_sparse_categorical_accuracy: 0.1470 - val_scaled_adversarial_loss: 2.0846\n",
      "Epoch 17/100\n",
      "89/89 - 1s - loss: 0.4304 - sparse_categorical_crossentropy: 0.2977 - sparse_categorical_accuracy: 0.9063 - scaled_adversarial_loss: 0.1327 - val_loss: 11.0921 - val_sparse_categorical_crossentropy: 9.0741 - val_sparse_categorical_accuracy: 0.1449 - val_scaled_adversarial_loss: 2.0180\n",
      "Epoch 18/100\n",
      "89/89 - 1s - loss: 0.3945 - sparse_categorical_crossentropy: 0.2693 - sparse_categorical_accuracy: 0.9165 - scaled_adversarial_loss: 0.1252 - val_loss: 16.6103 - val_sparse_categorical_crossentropy: 13.6554 - val_sparse_categorical_accuracy: 0.1080 - val_scaled_adversarial_loss: 2.9549\n",
      "Epoch 19/100\n",
      "89/89 - 1s - loss: 0.3408 - sparse_categorical_crossentropy: 0.2290 - sparse_categorical_accuracy: 0.9316 - scaled_adversarial_loss: 0.1118 - val_loss: 22.1045 - val_sparse_categorical_crossentropy: 18.2257 - val_sparse_categorical_accuracy: 0.0767 - val_scaled_adversarial_loss: 3.8788\n",
      "Epoch 20/100\n",
      "89/89 - 1s - loss: 0.2964 - sparse_categorical_crossentropy: 0.1934 - sparse_categorical_accuracy: 0.9430 - scaled_adversarial_loss: 0.1030 - val_loss: 10.2052 - val_sparse_categorical_crossentropy: 8.3074 - val_sparse_categorical_accuracy: 0.1911 - val_scaled_adversarial_loss: 1.8978\n",
      "Epoch 21/100\n",
      "89/89 - 1s - loss: 0.2508 - sparse_categorical_crossentropy: 0.1589 - sparse_categorical_accuracy: 0.9536 - scaled_adversarial_loss: 0.0920 - val_loss: 15.1382 - val_sparse_categorical_crossentropy: 12.3855 - val_sparse_categorical_accuracy: 0.1207 - val_scaled_adversarial_loss: 2.7527\n",
      "Epoch 22/100\n",
      "89/89 - 1s - loss: 0.2252 - sparse_categorical_crossentropy: 0.1411 - sparse_categorical_accuracy: 0.9589 - scaled_adversarial_loss: 0.0841 - val_loss: 11.4019 - val_sparse_categorical_crossentropy: 9.3229 - val_sparse_categorical_accuracy: 0.1463 - val_scaled_adversarial_loss: 2.0791\n",
      "Epoch 23/100\n",
      "89/89 - 1s - loss: 0.1772 - sparse_categorical_crossentropy: 0.1061 - sparse_categorical_accuracy: 0.9722 - scaled_adversarial_loss: 0.0711 - val_loss: 22.4916 - val_sparse_categorical_crossentropy: 18.5194 - val_sparse_categorical_accuracy: 0.0788 - val_scaled_adversarial_loss: 3.9723\n",
      "Epoch 24/100\n",
      "89/89 - 1s - loss: 0.1726 - sparse_categorical_crossentropy: 0.1012 - sparse_categorical_accuracy: 0.9728 - scaled_adversarial_loss: 0.0714 - val_loss: 18.8439 - val_sparse_categorical_crossentropy: 15.4725 - val_sparse_categorical_accuracy: 0.1200 - val_scaled_adversarial_loss: 3.3715\n",
      "Epoch 25/100\n",
      "89/89 - 1s - loss: 0.1604 - sparse_categorical_crossentropy: 0.0925 - sparse_categorical_accuracy: 0.9750 - scaled_adversarial_loss: 0.0679 - val_loss: 14.1918 - val_sparse_categorical_crossentropy: 11.6062 - val_sparse_categorical_accuracy: 0.1385 - val_scaled_adversarial_loss: 2.5856\n",
      "Epoch 26/100\n",
      "89/89 - 1s - loss: 0.1467 - sparse_categorical_crossentropy: 0.0824 - sparse_categorical_accuracy: 0.9789 - scaled_adversarial_loss: 0.0643 - val_loss: 21.4086 - val_sparse_categorical_crossentropy: 17.5974 - val_sparse_categorical_accuracy: 0.0952 - val_scaled_adversarial_loss: 3.8111\n",
      "Epoch 27/100\n",
      "89/89 - 1s - loss: 0.1501 - sparse_categorical_crossentropy: 0.0844 - sparse_categorical_accuracy: 0.9776 - scaled_adversarial_loss: 0.0657 - val_loss: 26.2234 - val_sparse_categorical_crossentropy: 21.5608 - val_sparse_categorical_accuracy: 0.1101 - val_scaled_adversarial_loss: 4.6626\n",
      "Epoch 28/100\n",
      "89/89 - 1s - loss: 0.1457 - sparse_categorical_crossentropy: 0.0807 - sparse_categorical_accuracy: 0.9779 - scaled_adversarial_loss: 0.0650 - val_loss: 22.1282 - val_sparse_categorical_crossentropy: 18.2138 - val_sparse_categorical_accuracy: 0.1151 - val_scaled_adversarial_loss: 3.9144\n",
      "Epoch 29/100\n",
      "89/89 - 1s - loss: 0.1485 - sparse_categorical_crossentropy: 0.0821 - sparse_categorical_accuracy: 0.9781 - scaled_adversarial_loss: 0.0664 - val_loss: 17.7170 - val_sparse_categorical_crossentropy: 14.5286 - val_sparse_categorical_accuracy: 0.1271 - val_scaled_adversarial_loss: 3.1884\n",
      "Epoch 30/100\n",
      "89/89 - 1s - loss: 0.1415 - sparse_categorical_crossentropy: 0.0764 - sparse_categorical_accuracy: 0.9778 - scaled_adversarial_loss: 0.0651 - val_loss: 10.5377 - val_sparse_categorical_crossentropy: 8.5421 - val_sparse_categorical_accuracy: 0.2266 - val_scaled_adversarial_loss: 1.9957\n",
      "Epoch 31/100\n",
      "89/89 - 1s - loss: 0.1255 - sparse_categorical_crossentropy: 0.0666 - sparse_categorical_accuracy: 0.9811 - scaled_adversarial_loss: 0.0589 - val_loss: 7.8285 - val_sparse_categorical_crossentropy: 6.3370 - val_sparse_categorical_accuracy: 0.2614 - val_scaled_adversarial_loss: 1.4915\n",
      "Epoch 32/100\n",
      "89/89 - 1s - loss: 0.1228 - sparse_categorical_crossentropy: 0.0641 - sparse_categorical_accuracy: 0.9818 - scaled_adversarial_loss: 0.0587 - val_loss: 11.1609 - val_sparse_categorical_crossentropy: 9.0997 - val_sparse_categorical_accuracy: 0.1832 - val_scaled_adversarial_loss: 2.0613\n",
      "Epoch 33/100\n",
      "89/89 - 2s - loss: 0.1234 - sparse_categorical_crossentropy: 0.0656 - sparse_categorical_accuracy: 0.9810 - scaled_adversarial_loss: 0.0577 - val_loss: 13.6348 - val_sparse_categorical_crossentropy: 11.1250 - val_sparse_categorical_accuracy: 0.1903 - val_scaled_adversarial_loss: 2.5098\n",
      "Epoch 34/100\n",
      "89/89 - 1s - loss: 0.1156 - sparse_categorical_crossentropy: 0.0597 - sparse_categorical_accuracy: 0.9834 - scaled_adversarial_loss: 0.0559 - val_loss: 9.8731 - val_sparse_categorical_crossentropy: 8.0470 - val_sparse_categorical_accuracy: 0.1719 - val_scaled_adversarial_loss: 1.8262\n",
      "Epoch 35/100\n",
      "89/89 - 1s - loss: 0.1029 - sparse_categorical_crossentropy: 0.0509 - sparse_categorical_accuracy: 0.9852 - scaled_adversarial_loss: 0.0520 - val_loss: 9.7011 - val_sparse_categorical_crossentropy: 7.8914 - val_sparse_categorical_accuracy: 0.1776 - val_scaled_adversarial_loss: 1.8097\n",
      "Epoch 36/100\n",
      "89/89 - 1s - loss: 0.0939 - sparse_categorical_crossentropy: 0.0455 - sparse_categorical_accuracy: 0.9882 - scaled_adversarial_loss: 0.0484 - val_loss: 10.2805 - val_sparse_categorical_crossentropy: 8.3617 - val_sparse_categorical_accuracy: 0.2237 - val_scaled_adversarial_loss: 1.9188\n",
      "Epoch 37/100\n",
      "89/89 - 1s - loss: 0.0751 - sparse_categorical_crossentropy: 0.0340 - sparse_categorical_accuracy: 0.9921 - scaled_adversarial_loss: 0.0411 - val_loss: 12.2784 - val_sparse_categorical_crossentropy: 10.0354 - val_sparse_categorical_accuracy: 0.1776 - val_scaled_adversarial_loss: 2.2429\n",
      "Epoch 38/100\n",
      "89/89 - 1s - loss: 0.0720 - sparse_categorical_crossentropy: 0.0330 - sparse_categorical_accuracy: 0.9922 - scaled_adversarial_loss: 0.0390 - val_loss: 7.4714 - val_sparse_categorical_crossentropy: 6.0604 - val_sparse_categorical_accuracy: 0.2372 - val_scaled_adversarial_loss: 1.4110\n",
      "Epoch 39/100\n",
      "89/89 - 1s - loss: 0.0588 - sparse_categorical_crossentropy: 0.0249 - sparse_categorical_accuracy: 0.9948 - scaled_adversarial_loss: 0.0339 - val_loss: 11.6141 - val_sparse_categorical_crossentropy: 9.4401 - val_sparse_categorical_accuracy: 0.1946 - val_scaled_adversarial_loss: 2.1740\n",
      "Epoch 40/100\n",
      "89/89 - 1s - loss: 0.0515 - sparse_categorical_crossentropy: 0.0206 - sparse_categorical_accuracy: 0.9954 - scaled_adversarial_loss: 0.0308 - val_loss: 9.3336 - val_sparse_categorical_crossentropy: 7.5700 - val_sparse_categorical_accuracy: 0.2216 - val_scaled_adversarial_loss: 1.7637\n",
      "Epoch 41/100\n",
      "89/89 - 1s - loss: 0.0487 - sparse_categorical_crossentropy: 0.0201 - sparse_categorical_accuracy: 0.9954 - scaled_adversarial_loss: 0.0286 - val_loss: 10.0672 - val_sparse_categorical_crossentropy: 8.1598 - val_sparse_categorical_accuracy: 0.2358 - val_scaled_adversarial_loss: 1.9074\n",
      "Epoch 42/100\n",
      "89/89 - 1s - loss: 0.0461 - sparse_categorical_crossentropy: 0.0186 - sparse_categorical_accuracy: 0.9959 - scaled_adversarial_loss: 0.0275 - val_loss: 14.8912 - val_sparse_categorical_crossentropy: 12.1933 - val_sparse_categorical_accuracy: 0.1712 - val_scaled_adversarial_loss: 2.6979\n",
      "Epoch 43/100\n",
      "89/89 - 1s - loss: 0.0425 - sparse_categorical_crossentropy: 0.0167 - sparse_categorical_accuracy: 0.9966 - scaled_adversarial_loss: 0.0258 - val_loss: 15.0052 - val_sparse_categorical_crossentropy: 12.2694 - val_sparse_categorical_accuracy: 0.1690 - val_scaled_adversarial_loss: 2.7359\n",
      "Epoch 44/100\n",
      "89/89 - 1s - loss: 0.0405 - sparse_categorical_crossentropy: 0.0152 - sparse_categorical_accuracy: 0.9966 - scaled_adversarial_loss: 0.0254 - val_loss: 16.5351 - val_sparse_categorical_crossentropy: 13.5367 - val_sparse_categorical_accuracy: 0.1598 - val_scaled_adversarial_loss: 2.9984\n",
      "Epoch 45/100\n",
      "89/89 - 1s - loss: 0.0558 - sparse_categorical_crossentropy: 0.0250 - sparse_categorical_accuracy: 0.9938 - scaled_adversarial_loss: 0.0308 - val_loss: 15.0575 - val_sparse_categorical_crossentropy: 12.2850 - val_sparse_categorical_accuracy: 0.1676 - val_scaled_adversarial_loss: 2.7725\n",
      "Epoch 46/100\n",
      "89/89 - 1s - loss: 0.0584 - sparse_categorical_crossentropy: 0.0257 - sparse_categorical_accuracy: 0.9931 - scaled_adversarial_loss: 0.0326 - val_loss: 12.1505 - val_sparse_categorical_crossentropy: 9.9071 - val_sparse_categorical_accuracy: 0.1889 - val_scaled_adversarial_loss: 2.2435\n",
      "Epoch 47/100\n",
      "89/89 - 1s - loss: 0.0758 - sparse_categorical_crossentropy: 0.0353 - sparse_categorical_accuracy: 0.9887 - scaled_adversarial_loss: 0.0405 - val_loss: 11.9573 - val_sparse_categorical_crossentropy: 9.7383 - val_sparse_categorical_accuracy: 0.1839 - val_scaled_adversarial_loss: 2.2190\n",
      "Epoch 48/100\n",
      "89/89 - 1s - loss: 0.1353 - sparse_categorical_crossentropy: 0.0719 - sparse_categorical_accuracy: 0.9737 - scaled_adversarial_loss: 0.0634 - val_loss: 12.5801 - val_sparse_categorical_crossentropy: 10.2183 - val_sparse_categorical_accuracy: 0.2060 - val_scaled_adversarial_loss: 2.3618\n",
      "Epoch 49/100\n",
      "89/89 - 1s - loss: 0.2763 - sparse_categorical_crossentropy: 0.1671 - sparse_categorical_accuracy: 0.9479 - scaled_adversarial_loss: 0.1093 - val_loss: 22.7680 - val_sparse_categorical_crossentropy: 18.6392 - val_sparse_categorical_accuracy: 0.1499 - val_scaled_adversarial_loss: 4.1289\n",
      "Epoch 50/100\n",
      "89/89 - 1s - loss: 0.2342 - sparse_categorical_crossentropy: 0.1381 - sparse_categorical_accuracy: 0.9545 - scaled_adversarial_loss: 0.0960 - val_loss: 18.3138 - val_sparse_categorical_crossentropy: 14.9840 - val_sparse_categorical_accuracy: 0.1428 - val_scaled_adversarial_loss: 3.3298\n",
      "Epoch 51/100\n",
      "89/89 - 1s - loss: 0.1820 - sparse_categorical_crossentropy: 0.1033 - sparse_categorical_accuracy: 0.9668 - scaled_adversarial_loss: 0.0787 - val_loss: 13.5099 - val_sparse_categorical_crossentropy: 11.0138 - val_sparse_categorical_accuracy: 0.1825 - val_scaled_adversarial_loss: 2.4960\n",
      "Epoch 52/100\n",
      "89/89 - 1s - loss: 0.1675 - sparse_categorical_crossentropy: 0.0938 - sparse_categorical_accuracy: 0.9721 - scaled_adversarial_loss: 0.0737 - val_loss: 12.5324 - val_sparse_categorical_crossentropy: 10.1610 - val_sparse_categorical_accuracy: 0.2543 - val_scaled_adversarial_loss: 2.3713\n",
      "Epoch 53/100\n",
      "89/89 - 1s - loss: 0.0815 - sparse_categorical_crossentropy: 0.0382 - sparse_categorical_accuracy: 0.9883 - scaled_adversarial_loss: 0.0432 - val_loss: 20.2930 - val_sparse_categorical_crossentropy: 16.6062 - val_sparse_categorical_accuracy: 0.1541 - val_scaled_adversarial_loss: 3.6868\n",
      "Epoch 54/100\n",
      "89/89 - 1s - loss: 0.0693 - sparse_categorical_crossentropy: 0.0315 - sparse_categorical_accuracy: 0.9921 - scaled_adversarial_loss: 0.0379 - val_loss: 12.9089 - val_sparse_categorical_crossentropy: 10.5222 - val_sparse_categorical_accuracy: 0.1946 - val_scaled_adversarial_loss: 2.3867\n",
      "Epoch 55/100\n",
      "89/89 - 1s - loss: 0.0441 - sparse_categorical_crossentropy: 0.0162 - sparse_categorical_accuracy: 0.9953 - scaled_adversarial_loss: 0.0278 - val_loss: 17.0188 - val_sparse_categorical_crossentropy: 13.8786 - val_sparse_categorical_accuracy: 0.1989 - val_scaled_adversarial_loss: 3.1402\n",
      "Epoch 56/100\n",
      "89/89 - 1s - loss: 0.0246 - sparse_categorical_crossentropy: 0.0070 - sparse_categorical_accuracy: 0.9989 - scaled_adversarial_loss: 0.0177 - val_loss: 15.7104 - val_sparse_categorical_crossentropy: 12.8044 - val_sparse_categorical_accuracy: 0.1832 - val_scaled_adversarial_loss: 2.9060\n",
      "Epoch 57/100\n",
      "89/89 - 1s - loss: 0.0159 - sparse_categorical_crossentropy: 0.0037 - sparse_categorical_accuracy: 0.9995 - scaled_adversarial_loss: 0.0122 - val_loss: 8.0151 - val_sparse_categorical_crossentropy: 6.4191 - val_sparse_categorical_accuracy: 0.3658 - val_scaled_adversarial_loss: 1.5960\n",
      "Epoch 58/100\n",
      "89/89 - 1s - loss: 0.0102 - sparse_categorical_crossentropy: 0.0020 - sparse_categorical_accuracy: 0.9996 - scaled_adversarial_loss: 0.0083 - val_loss: 7.1004 - val_sparse_categorical_crossentropy: 5.6682 - val_sparse_categorical_accuracy: 0.4041 - val_scaled_adversarial_loss: 1.4322\n",
      "Epoch 59/100\n",
      "89/89 - 1s - loss: 0.0061 - sparse_categorical_crossentropy: 9.0035e-04 - sparse_categorical_accuracy: 1.0000 - scaled_adversarial_loss: 0.0052 - val_loss: 6.4813 - val_sparse_categorical_crossentropy: 5.1519 - val_sparse_categorical_accuracy: 0.4247 - val_scaled_adversarial_loss: 1.3293\n",
      "Epoch 60/100\n",
      "89/89 - 1s - loss: 0.0036 - sparse_categorical_crossentropy: 5.3545e-04 - sparse_categorical_accuracy: 1.0000 - scaled_adversarial_loss: 0.0030 - val_loss: 3.6024 - val_sparse_categorical_crossentropy: 2.7968 - val_sparse_categorical_accuracy: 0.5881 - val_scaled_adversarial_loss: 0.8056\n",
      "Epoch 61/100\n",
      "89/89 - 1s - loss: 0.0028 - sparse_categorical_crossentropy: 4.1578e-04 - sparse_categorical_accuracy: 1.0000 - scaled_adversarial_loss: 0.0024 - val_loss: 3.5948 - val_sparse_categorical_crossentropy: 2.7850 - val_sparse_categorical_accuracy: 0.6030 - val_scaled_adversarial_loss: 0.8099\n",
      "Epoch 62/100\n",
      "89/89 - 1s - loss: 0.0015 - sparse_categorical_crossentropy: 2.5612e-04 - sparse_categorical_accuracy: 1.0000 - scaled_adversarial_loss: 0.0013 - val_loss: 3.2412 - val_sparse_categorical_crossentropy: 2.4946 - val_sparse_categorical_accuracy: 0.6328 - val_scaled_adversarial_loss: 0.7466\n",
      "Epoch 63/100\n",
      "89/89 - 1s - loss: 0.0011 - sparse_categorical_crossentropy: 1.9988e-04 - sparse_categorical_accuracy: 1.0000 - scaled_adversarial_loss: 9.4491e-04 - val_loss: 2.8090 - val_sparse_categorical_crossentropy: 2.1543 - val_sparse_categorical_accuracy: 0.6648 - val_scaled_adversarial_loss: 0.6546\n",
      "Epoch 64/100\n",
      "89/89 - 1s - loss: 8.3380e-04 - sparse_categorical_crossentropy: 1.6070e-04 - sparse_categorical_accuracy: 1.0000 - scaled_adversarial_loss: 6.7309e-04 - val_loss: 2.3298 - val_sparse_categorical_crossentropy: 1.7762 - val_sparse_categorical_accuracy: 0.7116 - val_scaled_adversarial_loss: 0.5536\n",
      "Epoch 65/100\n",
      "89/89 - 1s - loss: 6.6766e-04 - sparse_categorical_crossentropy: 1.3491e-04 - sparse_categorical_accuracy: 1.0000 - scaled_adversarial_loss: 5.3274e-04 - val_loss: 2.1784 - val_sparse_categorical_crossentropy: 1.6569 - val_sparse_categorical_accuracy: 0.7266 - val_scaled_adversarial_loss: 0.5215\n",
      "Epoch 66/100\n",
      "89/89 - 1s - loss: 5.6353e-04 - sparse_categorical_crossentropy: 1.1767e-04 - sparse_categorical_accuracy: 1.0000 - scaled_adversarial_loss: 4.4585e-04 - val_loss: 2.1561 - val_sparse_categorical_crossentropy: 1.6397 - val_sparse_categorical_accuracy: 0.7315 - val_scaled_adversarial_loss: 0.5164\n",
      "Epoch 67/100\n",
      "89/89 - 2s - loss: 4.9385e-04 - sparse_categorical_crossentropy: 1.0484e-04 - sparse_categorical_accuracy: 1.0000 - scaled_adversarial_loss: 3.8899e-04 - val_loss: 2.1468 - val_sparse_categorical_crossentropy: 1.6323 - val_sparse_categorical_accuracy: 0.7379 - val_scaled_adversarial_loss: 0.5145\n",
      "Epoch 68/100\n",
      "89/89 - 1s - loss: 4.4162e-04 - sparse_categorical_crossentropy: 9.4930e-05 - sparse_categorical_accuracy: 1.0000 - scaled_adversarial_loss: 3.4668e-04 - val_loss: 2.1387 - val_sparse_categorical_crossentropy: 1.6255 - val_sparse_categorical_accuracy: 0.7386 - val_scaled_adversarial_loss: 0.5132\n",
      "Epoch 69/100\n",
      "89/89 - 1s - loss: 4.0130e-04 - sparse_categorical_crossentropy: 8.6986e-05 - sparse_categorical_accuracy: 1.0000 - scaled_adversarial_loss: 3.1431e-04 - val_loss: 2.1352 - val_sparse_categorical_crossentropy: 1.6224 - val_sparse_categorical_accuracy: 0.7401 - val_scaled_adversarial_loss: 0.5128\n",
      "Epoch 70/100\n",
      "89/89 - 1s - loss: 3.6907e-04 - sparse_categorical_crossentropy: 8.0424e-05 - sparse_categorical_accuracy: 1.0000 - scaled_adversarial_loss: 2.8864e-04 - val_loss: 2.1314 - val_sparse_categorical_crossentropy: 1.6193 - val_sparse_categorical_accuracy: 0.7415 - val_scaled_adversarial_loss: 0.5121\n",
      "Epoch 71/100\n",
      "89/89 - 1s - loss: 3.4237e-04 - sparse_categorical_crossentropy: 7.4804e-05 - sparse_categorical_accuracy: 1.0000 - scaled_adversarial_loss: 2.6756e-04 - val_loss: 2.1304 - val_sparse_categorical_crossentropy: 1.6183 - val_sparse_categorical_accuracy: 0.7415 - val_scaled_adversarial_loss: 0.5121\n",
      "Epoch 72/100\n",
      "89/89 - 1s - loss: 3.1941e-04 - sparse_categorical_crossentropy: 6.9866e-05 - sparse_categorical_accuracy: 1.0000 - scaled_adversarial_loss: 2.4953e-04 - val_loss: 2.1301 - val_sparse_categorical_crossentropy: 1.6178 - val_sparse_categorical_accuracy: 0.7415 - val_scaled_adversarial_loss: 0.5123\n",
      "Epoch 73/100\n",
      "89/89 - 1s - loss: 2.9981e-04 - sparse_categorical_crossentropy: 6.5511e-05 - sparse_categorical_accuracy: 1.0000 - scaled_adversarial_loss: 2.3429e-04 - val_loss: 2.1319 - val_sparse_categorical_crossentropy: 1.6189 - val_sparse_categorical_accuracy: 0.7415 - val_scaled_adversarial_loss: 0.5129\n",
      "Epoch 74/100\n",
      "89/89 - 1s - loss: 2.8237e-04 - sparse_categorical_crossentropy: 6.1608e-05 - sparse_categorical_accuracy: 1.0000 - scaled_adversarial_loss: 2.2076e-04 - val_loss: 2.1338 - val_sparse_categorical_crossentropy: 1.6202 - val_sparse_categorical_accuracy: 0.7429 - val_scaled_adversarial_loss: 0.5136\n",
      "Epoch 75/100\n",
      "89/89 - 1s - loss: 2.6613e-04 - sparse_categorical_crossentropy: 5.8051e-05 - sparse_categorical_accuracy: 1.0000 - scaled_adversarial_loss: 2.0807e-04 - val_loss: 2.1360 - val_sparse_categorical_crossentropy: 1.6217 - val_sparse_categorical_accuracy: 0.7429 - val_scaled_adversarial_loss: 0.5143\n",
      "Epoch 76/100\n",
      "89/89 - 1s - loss: 2.5150e-04 - sparse_categorical_crossentropy: 5.4774e-05 - sparse_categorical_accuracy: 1.0000 - scaled_adversarial_loss: 1.9672e-04 - val_loss: 2.1387 - val_sparse_categorical_crossentropy: 1.6235 - val_sparse_categorical_accuracy: 0.7415 - val_scaled_adversarial_loss: 0.5151\n",
      "Epoch 77/100\n",
      "89/89 - 1s - loss: 2.3792e-04 - sparse_categorical_crossentropy: 5.1772e-05 - sparse_categorical_accuracy: 1.0000 - scaled_adversarial_loss: 1.8615e-04 - val_loss: 2.1428 - val_sparse_categorical_crossentropy: 1.6265 - val_sparse_categorical_accuracy: 0.7415 - val_scaled_adversarial_loss: 0.5163\n",
      "Epoch 78/100\n",
      "89/89 - 1s - loss: 2.2579e-04 - sparse_categorical_crossentropy: 4.9014e-05 - sparse_categorical_accuracy: 1.0000 - scaled_adversarial_loss: 1.7677e-04 - val_loss: 2.1459 - val_sparse_categorical_crossentropy: 1.6286 - val_sparse_categorical_accuracy: 0.7429 - val_scaled_adversarial_loss: 0.5172\n",
      "Epoch 79/100\n",
      "89/89 - 1s - loss: 2.1433e-04 - sparse_categorical_crossentropy: 4.6444e-05 - sparse_categorical_accuracy: 1.0000 - scaled_adversarial_loss: 1.6788e-04 - val_loss: 2.1493 - val_sparse_categorical_crossentropy: 1.6311 - val_sparse_categorical_accuracy: 0.7429 - val_scaled_adversarial_loss: 0.5182\n",
      "Epoch 80/100\n",
      "89/89 - 1s - loss: 2.0391e-04 - sparse_categorical_crossentropy: 4.4060e-05 - sparse_categorical_accuracy: 1.0000 - scaled_adversarial_loss: 1.5984e-04 - val_loss: 2.1530 - val_sparse_categorical_crossentropy: 1.6337 - val_sparse_categorical_accuracy: 0.7436 - val_scaled_adversarial_loss: 0.5193\n",
      "Epoch 81/100\n",
      "89/89 - 1s - loss: 1.9406e-04 - sparse_categorical_crossentropy: 4.1838e-05 - sparse_categorical_accuracy: 1.0000 - scaled_adversarial_loss: 1.5222e-04 - val_loss: 2.1575 - val_sparse_categorical_crossentropy: 1.6370 - val_sparse_categorical_accuracy: 0.7443 - val_scaled_adversarial_loss: 0.5205\n",
      "Epoch 82/100\n",
      "89/89 - 1s - loss: 1.8503e-04 - sparse_categorical_crossentropy: 3.9759e-05 - sparse_categorical_accuracy: 1.0000 - scaled_adversarial_loss: 1.4527e-04 - val_loss: 2.1615 - val_sparse_categorical_crossentropy: 1.6398 - val_sparse_categorical_accuracy: 0.7450 - val_scaled_adversarial_loss: 0.5216\n",
      "Epoch 83/100\n",
      "89/89 - 1s - loss: 1.7643e-04 - sparse_categorical_crossentropy: 3.7813e-05 - sparse_categorical_accuracy: 1.0000 - scaled_adversarial_loss: 1.3862e-04 - val_loss: 2.1659 - val_sparse_categorical_crossentropy: 1.6431 - val_sparse_categorical_accuracy: 0.7450 - val_scaled_adversarial_loss: 0.5228\n",
      "Epoch 84/100\n",
      "89/89 - 1s - loss: 1.6848e-04 - sparse_categorical_crossentropy: 3.5987e-05 - sparse_categorical_accuracy: 1.0000 - scaled_adversarial_loss: 1.3249e-04 - val_loss: 2.1695 - val_sparse_categorical_crossentropy: 1.6457 - val_sparse_categorical_accuracy: 0.7443 - val_scaled_adversarial_loss: 0.5239\n",
      "Epoch 85/100\n",
      "89/89 - 1s - loss: 1.6078e-04 - sparse_categorical_crossentropy: 3.4245e-05 - sparse_categorical_accuracy: 1.0000 - scaled_adversarial_loss: 1.2654e-04 - val_loss: 2.1739 - val_sparse_categorical_crossentropy: 1.6489 - val_sparse_categorical_accuracy: 0.7443 - val_scaled_adversarial_loss: 0.5250\n",
      "Epoch 86/100\n",
      "89/89 - 1s - loss: 1.5369e-04 - sparse_categorical_crossentropy: 3.2616e-05 - sparse_categorical_accuracy: 1.0000 - scaled_adversarial_loss: 1.2107e-04 - val_loss: 2.1786 - val_sparse_categorical_crossentropy: 1.6524 - val_sparse_categorical_accuracy: 0.7443 - val_scaled_adversarial_loss: 0.5262\n",
      "Epoch 87/100\n",
      "89/89 - 1s - loss: 1.4695e-04 - sparse_categorical_crossentropy: 3.1081e-05 - sparse_categorical_accuracy: 1.0000 - scaled_adversarial_loss: 1.1587e-04 - val_loss: 2.1842 - val_sparse_categorical_crossentropy: 1.6566 - val_sparse_categorical_accuracy: 0.7443 - val_scaled_adversarial_loss: 0.5276\n",
      "Epoch 88/100\n",
      "89/89 - 1s - loss: 1.4056e-04 - sparse_categorical_crossentropy: 2.9621e-05 - sparse_categorical_accuracy: 1.0000 - scaled_adversarial_loss: 1.1094e-04 - val_loss: 2.1894 - val_sparse_categorical_crossentropy: 1.6604 - val_sparse_categorical_accuracy: 0.7457 - val_scaled_adversarial_loss: 0.5290\n",
      "Epoch 89/100\n",
      "89/89 - 1s - loss: 1.3443e-04 - sparse_categorical_crossentropy: 2.8237e-05 - sparse_categorical_accuracy: 1.0000 - scaled_adversarial_loss: 1.0619e-04 - val_loss: 2.1944 - val_sparse_categorical_crossentropy: 1.6641 - val_sparse_categorical_accuracy: 0.7457 - val_scaled_adversarial_loss: 0.5302\n",
      "Epoch 90/100\n",
      "89/89 - 1s - loss: 1.2873e-04 - sparse_categorical_crossentropy: 2.6937e-05 - sparse_categorical_accuracy: 1.0000 - scaled_adversarial_loss: 1.0180e-04 - val_loss: 2.1987 - val_sparse_categorical_crossentropy: 1.6673 - val_sparse_categorical_accuracy: 0.7464 - val_scaled_adversarial_loss: 0.5315\n",
      "Epoch 91/100\n",
      "89/89 - 1s - loss: 1.2320e-04 - sparse_categorical_crossentropy: 2.5692e-05 - sparse_categorical_accuracy: 1.0000 - scaled_adversarial_loss: 9.7505e-05 - val_loss: 2.2028 - val_sparse_categorical_crossentropy: 1.6702 - val_sparse_categorical_accuracy: 0.7450 - val_scaled_adversarial_loss: 0.5325\n",
      "Epoch 92/100\n",
      "89/89 - 1s - loss: 1.1797e-04 - sparse_categorical_crossentropy: 2.4510e-05 - sparse_categorical_accuracy: 1.0000 - scaled_adversarial_loss: 9.3459e-05 - val_loss: 2.2081 - val_sparse_categorical_crossentropy: 1.6742 - val_sparse_categorical_accuracy: 0.7457 - val_scaled_adversarial_loss: 0.5339\n",
      "Epoch 93/100\n",
      "89/89 - 1s - loss: 1.1303e-04 - sparse_categorical_crossentropy: 2.3387e-05 - sparse_categorical_accuracy: 1.0000 - scaled_adversarial_loss: 8.9640e-05 - val_loss: 2.2131 - val_sparse_categorical_crossentropy: 1.6779 - val_sparse_categorical_accuracy: 0.7464 - val_scaled_adversarial_loss: 0.5352\n",
      "Epoch 94/100\n",
      "89/89 - 1s - loss: 1.0827e-04 - sparse_categorical_crossentropy: 2.2322e-05 - sparse_categorical_accuracy: 1.0000 - scaled_adversarial_loss: 8.5941e-05 - val_loss: 2.2180 - val_sparse_categorical_crossentropy: 1.6816 - val_sparse_categorical_accuracy: 0.7464 - val_scaled_adversarial_loss: 0.5364\n",
      "Epoch 95/100\n",
      "89/89 - 1s - loss: 1.0372e-04 - sparse_categorical_crossentropy: 2.1306e-05 - sparse_categorical_accuracy: 1.0000 - scaled_adversarial_loss: 8.2414e-05 - val_loss: 2.2229 - val_sparse_categorical_crossentropy: 1.6852 - val_sparse_categorical_accuracy: 0.7464 - val_scaled_adversarial_loss: 0.5377\n",
      "Epoch 96/100\n",
      "89/89 - 1s - loss: 9.9415e-05 - sparse_categorical_crossentropy: 2.0344e-05 - sparse_categorical_accuracy: 1.0000 - scaled_adversarial_loss: 7.9069e-05 - val_loss: 2.2289 - val_sparse_categorical_crossentropy: 1.6897 - val_sparse_categorical_accuracy: 0.7472 - val_scaled_adversarial_loss: 0.5392\n",
      "Epoch 97/100\n",
      "89/89 - 1s - loss: 9.5266e-05 - sparse_categorical_crossentropy: 1.9427e-05 - sparse_categorical_accuracy: 1.0000 - scaled_adversarial_loss: 7.5837e-05 - val_loss: 2.2332 - val_sparse_categorical_crossentropy: 1.6928 - val_sparse_categorical_accuracy: 0.7464 - val_scaled_adversarial_loss: 0.5404\n",
      "Epoch 98/100\n",
      "89/89 - 1s - loss: 9.1227e-05 - sparse_categorical_crossentropy: 1.8544e-05 - sparse_categorical_accuracy: 1.0000 - scaled_adversarial_loss: 7.2681e-05 - val_loss: 2.2375 - val_sparse_categorical_crossentropy: 1.6961 - val_sparse_categorical_accuracy: 0.7472 - val_scaled_adversarial_loss: 0.5415\n",
      "Epoch 99/100\n",
      "89/89 - 2s - loss: 8.7416e-05 - sparse_categorical_crossentropy: 1.7708e-05 - sparse_categorical_accuracy: 1.0000 - scaled_adversarial_loss: 6.9706e-05 - val_loss: 2.2427 - val_sparse_categorical_crossentropy: 1.6999 - val_sparse_categorical_accuracy: 0.7464 - val_scaled_adversarial_loss: 0.5428\n",
      "Epoch 100/100\n",
      "89/89 - 1s - loss: 8.3778e-05 - sparse_categorical_crossentropy: 1.6909e-05 - sparse_categorical_accuracy: 1.0000 - scaled_adversarial_loss: 6.6868e-05 - val_loss: 2.2473 - val_sparse_categorical_crossentropy: 1.7032 - val_sparse_categorical_accuracy: 0.7464 - val_scaled_adversarial_loss: 0.5441\n"
     ]
    },
    {
     "data": {
      "text/plain": [
       "<tensorflow.python.keras.callbacks.History at 0x7f0500309bd0>"
      ]
     },
     "execution_count": 20,
     "metadata": {},
     "output_type": "execute_result"
    }
   ],
   "source": [
    "train3=tf.data.Dataset.from_tensor_slices(\n",
    "    {'input':x_train3,'label':y_train3}).batch(batch_size)\n",
    "valid3=tf.data.Dataset.from_tensor_slices(\n",
    "    {'input':x_valid3,'label':y_valid3}).batch(batch_size)\n",
    "valid_steps=x_valid3.shape[0]//batch_size\n",
    "adv_model.fit(train3,validation_data=valid3,verbose=2,\n",
    "              validation_steps=valid_steps,epochs=epochs)"
   ]
  },
  {
   "cell_type": "code",
   "execution_count": 21,
   "metadata": {
    "papermill": {
     "duration": 0.810048,
     "end_time": "2021-01-08T20:56:28.793706",
     "exception": false,
     "start_time": "2021-01-08T20:56:27.983658",
     "status": "completed"
    },
    "tags": []
   },
   "outputs": [
    {
     "name": "stdout",
     "output_type": "stream",
     "text": [
      "1419/1419 [==============================] - 1s 433us/sample - loss: 2.2758 - sparse_categorical_crossentropy: 1.7577 - sparse_categorical_accuracy: 0.7315 - scaled_adversarial_loss: 0.5656\n"
     ]
    },
    {
     "data": {
      "text/plain": [
       "[2.275804270985599, 1.7576756, 0.73150104, 0.56562084]"
      ]
     },
     "execution_count": 21,
     "metadata": {},
     "output_type": "execute_result"
    }
   ],
   "source": [
    "adv_model.evaluate({'input':x_test3,'label':y_test3})"
   ]
  },
  {
   "cell_type": "code",
   "execution_count": 22,
   "metadata": {
    "papermill": {
     "duration": 0.359971,
     "end_time": "2021-01-08T20:56:29.304329",
     "exception": false,
     "start_time": "2021-01-08T20:56:28.944358",
     "status": "completed"
    },
    "tags": []
   },
   "outputs": [],
   "source": [
    "batch_size=16; img_size=128; n_class=10; epochs=100\n",
    "base_model=tf.keras.models.Sequential([\n",
    "        tf.keras.Input((img_size,img_size,3),name='input'),\n",
    "        tf.keras.layers.Flatten(),\n",
    "        tf.keras.layers.Dense(128,activation='relu'),\n",
    "        tf.keras.layers.BatchNormalization(),    \n",
    "        tf.keras.layers.Dense(128,activation='relu'),\n",
    "        tf.keras.layers.BatchNormalization(),    \n",
    "        tf.keras.layers.Dense(1024,activation='relu'),\n",
    "        tf.keras.layers.BatchNormalization(),   \n",
    "        tf.keras.layers.Dense(1024,activation='relu'),\n",
    "        tf.keras.layers.Dense(10,activation='softmax')\n",
    "    ])\n",
    "adv_config=nsl.configs\\\n",
    ".make_adv_reg_config(multiplier=.2,adv_step_size=.05)\n",
    "adv_model=nsl.keras\\\n",
    ".AdversarialRegularization(base_model,adv_config=adv_config)\n",
    "adv_model.compile(optimizer='adam',\n",
    "                  loss='sparse_categorical_crossentropy',\n",
    "                  metrics=['accuracy'])"
   ]
  },
  {
   "cell_type": "code",
   "execution_count": 23,
   "metadata": {
    "_kg_hide-output": true,
    "papermill": {
     "duration": 18.843455,
     "end_time": "2021-01-08T20:56:48.299464",
     "exception": false,
     "start_time": "2021-01-08T20:56:29.456009",
     "status": "completed"
    },
    "tags": []
   },
   "outputs": [
    {
     "name": "stdout",
     "output_type": "stream",
     "text": [
      "Train for 11 steps, validate for 1 steps\n",
      "Epoch 1/100\n",
      "11/11 - 3s - loss: 3.4592 - sparse_categorical_crossentropy: 2.8646 - sparse_categorical_accuracy: 0.2679 - scaled_adversarial_loss: 0.5899 - val_loss: 6.0901 - val_sparse_categorical_crossentropy: 5.0726 - val_sparse_categorical_accuracy: 0.3125 - val_scaled_adversarial_loss: 1.0175\n",
      "Epoch 2/100\n",
      "11/11 - 0s - loss: 1.8424 - sparse_categorical_crossentropy: 1.5256 - sparse_categorical_accuracy: 0.5298 - scaled_adversarial_loss: 0.3099 - val_loss: 5.9369 - val_sparse_categorical_crossentropy: 4.9453 - val_sparse_categorical_accuracy: 0.3750 - val_scaled_adversarial_loss: 0.9916\n",
      "Epoch 3/100\n",
      "11/11 - 0s - loss: 0.3816 - sparse_categorical_crossentropy: 0.3149 - sparse_categorical_accuracy: 0.9048 - scaled_adversarial_loss: 0.0656 - val_loss: 6.3651 - val_sparse_categorical_crossentropy: 5.3013 - val_sparse_categorical_accuracy: 0.2500 - val_scaled_adversarial_loss: 1.0638\n",
      "Epoch 4/100\n",
      "11/11 - 0s - loss: 0.1127 - sparse_categorical_crossentropy: 0.0930 - sparse_categorical_accuracy: 0.9702 - scaled_adversarial_loss: 0.0198 - val_loss: 5.0945 - val_sparse_categorical_crossentropy: 4.2422 - val_sparse_categorical_accuracy: 0.3125 - val_scaled_adversarial_loss: 0.8523\n",
      "Epoch 5/100\n",
      "11/11 - 0s - loss: 0.0147 - sparse_categorical_crossentropy: 0.0121 - sparse_categorical_accuracy: 1.0000 - scaled_adversarial_loss: 0.0026 - val_loss: 2.8652 - val_sparse_categorical_crossentropy: 2.3849 - val_sparse_categorical_accuracy: 0.3750 - val_scaled_adversarial_loss: 0.4802\n",
      "Epoch 6/100\n",
      "11/11 - 0s - loss: 0.0098 - sparse_categorical_crossentropy: 0.0080 - sparse_categorical_accuracy: 1.0000 - scaled_adversarial_loss: 0.0017 - val_loss: 2.6657 - val_sparse_categorical_crossentropy: 2.2186 - val_sparse_categorical_accuracy: 0.3750 - val_scaled_adversarial_loss: 0.4472\n",
      "Epoch 7/100\n",
      "11/11 - 0s - loss: 0.0039 - sparse_categorical_crossentropy: 0.0032 - sparse_categorical_accuracy: 1.0000 - scaled_adversarial_loss: 6.9327e-04 - val_loss: 2.4902 - val_sparse_categorical_crossentropy: 2.0722 - val_sparse_categorical_accuracy: 0.4375 - val_scaled_adversarial_loss: 0.4180\n",
      "Epoch 8/100\n",
      "11/11 - 0s - loss: 0.0020 - sparse_categorical_crossentropy: 0.0016 - sparse_categorical_accuracy: 1.0000 - scaled_adversarial_loss: 3.4645e-04 - val_loss: 2.2833 - val_sparse_categorical_crossentropy: 1.8998 - val_sparse_categorical_accuracy: 0.5000 - val_scaled_adversarial_loss: 0.3835\n",
      "Epoch 9/100\n",
      "11/11 - 0s - loss: 0.0015 - sparse_categorical_crossentropy: 0.0012 - sparse_categorical_accuracy: 1.0000 - scaled_adversarial_loss: 2.6063e-04 - val_loss: 2.0642 - val_sparse_categorical_crossentropy: 1.7172 - val_sparse_categorical_accuracy: 0.6250 - val_scaled_adversarial_loss: 0.3470\n",
      "Epoch 10/100\n",
      "11/11 - 0s - loss: 0.0012 - sparse_categorical_crossentropy: 0.0010 - sparse_categorical_accuracy: 1.0000 - scaled_adversarial_loss: 2.1686e-04 - val_loss: 1.8997 - val_sparse_categorical_crossentropy: 1.5802 - val_sparse_categorical_accuracy: 0.6250 - val_scaled_adversarial_loss: 0.3195\n",
      "Epoch 11/100\n",
      "11/11 - 0s - loss: 0.0011 - sparse_categorical_crossentropy: 8.9328e-04 - sparse_categorical_accuracy: 1.0000 - scaled_adversarial_loss: 1.8924e-04 - val_loss: 1.8266 - val_sparse_categorical_crossentropy: 1.5194 - val_sparse_categorical_accuracy: 0.6875 - val_scaled_adversarial_loss: 0.3073\n",
      "Epoch 12/100\n",
      "11/11 - 0s - loss: 9.7292e-04 - sparse_categorical_crossentropy: 8.0046e-04 - sparse_categorical_accuracy: 1.0000 - scaled_adversarial_loss: 1.6947e-04 - val_loss: 1.8466 - val_sparse_categorical_crossentropy: 1.5358 - val_sparse_categorical_accuracy: 0.6875 - val_scaled_adversarial_loss: 0.3108\n",
      "Epoch 13/100\n",
      "11/11 - 0s - loss: 8.8488e-04 - sparse_categorical_crossentropy: 7.2810e-04 - sparse_categorical_accuracy: 1.0000 - scaled_adversarial_loss: 1.5410e-04 - val_loss: 1.9087 - val_sparse_categorical_crossentropy: 1.5874 - val_sparse_categorical_accuracy: 0.6875 - val_scaled_adversarial_loss: 0.3213\n",
      "Epoch 14/100\n",
      "11/11 - 0s - loss: 8.1271e-04 - sparse_categorical_crossentropy: 6.6878e-04 - sparse_categorical_accuracy: 1.0000 - scaled_adversarial_loss: 1.4150e-04 - val_loss: 1.9660 - val_sparse_categorical_crossentropy: 1.6350 - val_sparse_categorical_accuracy: 0.6875 - val_scaled_adversarial_loss: 0.3310\n",
      "Epoch 15/100\n",
      "11/11 - 0s - loss: 7.5175e-04 - sparse_categorical_crossentropy: 6.1867e-04 - sparse_categorical_accuracy: 1.0000 - scaled_adversarial_loss: 1.3086e-04 - val_loss: 2.0160 - val_sparse_categorical_crossentropy: 1.6765 - val_sparse_categorical_accuracy: 0.6875 - val_scaled_adversarial_loss: 0.3395\n",
      "Epoch 16/100\n",
      "11/11 - 0s - loss: 6.9912e-04 - sparse_categorical_crossentropy: 5.7538e-04 - sparse_categorical_accuracy: 1.0000 - scaled_adversarial_loss: 1.2168e-04 - val_loss: 2.0684 - val_sparse_categorical_crossentropy: 1.7200 - val_sparse_categorical_accuracy: 0.6250 - val_scaled_adversarial_loss: 0.3483\n",
      "Epoch 17/100\n",
      "11/11 - 0s - loss: 6.5300e-04 - sparse_categorical_crossentropy: 5.3746e-04 - sparse_categorical_accuracy: 1.0000 - scaled_adversarial_loss: 1.1365e-04 - val_loss: 2.1124 - val_sparse_categorical_crossentropy: 1.7567 - val_sparse_categorical_accuracy: 0.6250 - val_scaled_adversarial_loss: 0.3557\n",
      "Epoch 18/100\n",
      "11/11 - 0s - loss: 6.1217e-04 - sparse_categorical_crossentropy: 5.0387e-04 - sparse_categorical_accuracy: 1.0000 - scaled_adversarial_loss: 1.0653e-04 - val_loss: 2.1458 - val_sparse_categorical_crossentropy: 1.7844 - val_sparse_categorical_accuracy: 0.6250 - val_scaled_adversarial_loss: 0.3614\n",
      "Epoch 19/100\n",
      "11/11 - 0s - loss: 5.7575e-04 - sparse_categorical_crossentropy: 4.7391e-04 - sparse_categorical_accuracy: 1.0000 - scaled_adversarial_loss: 1.0019e-04 - val_loss: 2.1706 - val_sparse_categorical_crossentropy: 1.8049 - val_sparse_categorical_accuracy: 0.6250 - val_scaled_adversarial_loss: 0.3656\n",
      "Epoch 20/100\n",
      "11/11 - 0s - loss: 5.4303e-04 - sparse_categorical_crossentropy: 4.4699e-04 - sparse_categorical_accuracy: 1.0000 - scaled_adversarial_loss: 9.4483e-05 - val_loss: 2.1930 - val_sparse_categorical_crossentropy: 1.8235 - val_sparse_categorical_accuracy: 0.6250 - val_scaled_adversarial_loss: 0.3695\n",
      "Epoch 21/100\n",
      "11/11 - 0s - loss: 5.1347e-04 - sparse_categorical_crossentropy: 4.2268e-04 - sparse_categorical_accuracy: 1.0000 - scaled_adversarial_loss: 8.9327e-05 - val_loss: 2.2133 - val_sparse_categorical_crossentropy: 1.8403 - val_sparse_categorical_accuracy: 0.6250 - val_scaled_adversarial_loss: 0.3730\n",
      "Epoch 22/100\n",
      "11/11 - 0s - loss: 4.8662e-04 - sparse_categorical_crossentropy: 4.0059e-04 - sparse_categorical_accuracy: 1.0000 - scaled_adversarial_loss: 8.4648e-05 - val_loss: 2.2311 - val_sparse_categorical_crossentropy: 1.8552 - val_sparse_categorical_accuracy: 0.6250 - val_scaled_adversarial_loss: 0.3759\n",
      "Epoch 23/100\n",
      "11/11 - 0s - loss: 4.6211e-04 - sparse_categorical_crossentropy: 3.8043e-04 - sparse_categorical_accuracy: 1.0000 - scaled_adversarial_loss: 8.0376e-05 - val_loss: 2.2472 - val_sparse_categorical_crossentropy: 1.8685 - val_sparse_categorical_accuracy: 0.6250 - val_scaled_adversarial_loss: 0.3787\n",
      "Epoch 24/100\n",
      "11/11 - 0s - loss: 4.3970e-04 - sparse_categorical_crossentropy: 3.6199e-04 - sparse_categorical_accuracy: 1.0000 - scaled_adversarial_loss: 7.6468e-05 - val_loss: 2.2614 - val_sparse_categorical_crossentropy: 1.8803 - val_sparse_categorical_accuracy: 0.6250 - val_scaled_adversarial_loss: 0.3811\n",
      "Epoch 25/100\n",
      "11/11 - 0s - loss: 4.1911e-04 - sparse_categorical_crossentropy: 3.4506e-04 - sparse_categorical_accuracy: 1.0000 - scaled_adversarial_loss: 7.2882e-05 - val_loss: 2.2731 - val_sparse_categorical_crossentropy: 1.8899 - val_sparse_categorical_accuracy: 0.6250 - val_scaled_adversarial_loss: 0.3831\n",
      "Epoch 26/100\n",
      "11/11 - 0s - loss: 4.0013e-04 - sparse_categorical_crossentropy: 3.2944e-04 - sparse_categorical_accuracy: 1.0000 - scaled_adversarial_loss: 6.9572e-05 - val_loss: 2.2830 - val_sparse_categorical_crossentropy: 1.8982 - val_sparse_categorical_accuracy: 0.6250 - val_scaled_adversarial_loss: 0.3848\n",
      "Epoch 27/100\n",
      "11/11 - 0s - loss: 3.8259e-04 - sparse_categorical_crossentropy: 3.1501e-04 - sparse_categorical_accuracy: 1.0000 - scaled_adversarial_loss: 6.6519e-05 - val_loss: 2.2914 - val_sparse_categorical_crossentropy: 1.9052 - val_sparse_categorical_accuracy: 0.6250 - val_scaled_adversarial_loss: 0.3863\n",
      "Epoch 28/100\n",
      "11/11 - 0s - loss: 3.6629e-04 - sparse_categorical_crossentropy: 3.0159e-04 - sparse_categorical_accuracy: 1.0000 - scaled_adversarial_loss: 6.3683e-05 - val_loss: 2.2989 - val_sparse_categorical_crossentropy: 1.9113 - val_sparse_categorical_accuracy: 0.6250 - val_scaled_adversarial_loss: 0.3876\n",
      "Epoch 29/100\n",
      "11/11 - 0s - loss: 3.5114e-04 - sparse_categorical_crossentropy: 2.8912e-04 - sparse_categorical_accuracy: 1.0000 - scaled_adversarial_loss: 6.1047e-05 - val_loss: 2.3052 - val_sparse_categorical_crossentropy: 1.9166 - val_sparse_categorical_accuracy: 0.6250 - val_scaled_adversarial_loss: 0.3886\n",
      "Epoch 30/100\n",
      "11/11 - 0s - loss: 3.3702e-04 - sparse_categorical_crossentropy: 2.7750e-04 - sparse_categorical_accuracy: 1.0000 - scaled_adversarial_loss: 5.8587e-05 - val_loss: 2.3105 - val_sparse_categorical_crossentropy: 1.9210 - val_sparse_categorical_accuracy: 0.6250 - val_scaled_adversarial_loss: 0.3896\n",
      "Epoch 31/100\n",
      "11/11 - 0s - loss: 3.2382e-04 - sparse_categorical_crossentropy: 2.6664e-04 - sparse_categorical_accuracy: 1.0000 - scaled_adversarial_loss: 5.6292e-05 - val_loss: 2.3152 - val_sparse_categorical_crossentropy: 1.9248 - val_sparse_categorical_accuracy: 0.6250 - val_scaled_adversarial_loss: 0.3904\n",
      "Epoch 32/100\n",
      "11/11 - 0s - loss: 3.1148e-04 - sparse_categorical_crossentropy: 2.5648e-04 - sparse_categorical_accuracy: 1.0000 - scaled_adversarial_loss: 5.4142e-05 - val_loss: 2.3193 - val_sparse_categorical_crossentropy: 1.9282 - val_sparse_categorical_accuracy: 0.6250 - val_scaled_adversarial_loss: 0.3911\n",
      "Epoch 33/100\n",
      "11/11 - 0s - loss: 2.9989e-04 - sparse_categorical_crossentropy: 2.4695e-04 - sparse_categorical_accuracy: 1.0000 - scaled_adversarial_loss: 5.2125e-05 - val_loss: 2.3229 - val_sparse_categorical_crossentropy: 1.9312 - val_sparse_categorical_accuracy: 0.6250 - val_scaled_adversarial_loss: 0.3917\n",
      "Epoch 34/100\n",
      "11/11 - 0s - loss: 2.8903e-04 - sparse_categorical_crossentropy: 2.3801e-04 - sparse_categorical_accuracy: 1.0000 - scaled_adversarial_loss: 5.0232e-05 - val_loss: 2.3261 - val_sparse_categorical_crossentropy: 1.9339 - val_sparse_categorical_accuracy: 0.6250 - val_scaled_adversarial_loss: 0.3922\n",
      "Epoch 35/100\n",
      "11/11 - 0s - loss: 2.7882e-04 - sparse_categorical_crossentropy: 2.2961e-04 - sparse_categorical_accuracy: 1.0000 - scaled_adversarial_loss: 4.8452e-05 - val_loss: 2.3290 - val_sparse_categorical_crossentropy: 1.9363 - val_sparse_categorical_accuracy: 0.6250 - val_scaled_adversarial_loss: 0.3927\n",
      "Epoch 36/100\n",
      "11/11 - 0s - loss: 2.6919e-04 - sparse_categorical_crossentropy: 2.2168e-04 - sparse_categorical_accuracy: 1.0000 - scaled_adversarial_loss: 4.6777e-05 - val_loss: 2.3317 - val_sparse_categorical_crossentropy: 1.9385 - val_sparse_categorical_accuracy: 0.6250 - val_scaled_adversarial_loss: 0.3932\n",
      "Epoch 37/100\n",
      "11/11 - 0s - loss: 2.6009e-04 - sparse_categorical_crossentropy: 2.1419e-04 - sparse_categorical_accuracy: 1.0000 - scaled_adversarial_loss: 4.5194e-05 - val_loss: 2.3342 - val_sparse_categorical_crossentropy: 1.9406 - val_sparse_categorical_accuracy: 0.6250 - val_scaled_adversarial_loss: 0.3936\n",
      "Epoch 38/100\n",
      "11/11 - 0s - loss: 2.5150e-04 - sparse_categorical_crossentropy: 2.0712e-04 - sparse_categorical_accuracy: 1.0000 - scaled_adversarial_loss: 4.3702e-05 - val_loss: 2.3365 - val_sparse_categorical_crossentropy: 1.9424 - val_sparse_categorical_accuracy: 0.6250 - val_scaled_adversarial_loss: 0.3940\n",
      "Epoch 39/100\n",
      "11/11 - 0s - loss: 2.4338e-04 - sparse_categorical_crossentropy: 2.0043e-04 - sparse_categorical_accuracy: 1.0000 - scaled_adversarial_loss: 4.2284e-05 - val_loss: 2.3385 - val_sparse_categorical_crossentropy: 1.9442 - val_sparse_categorical_accuracy: 0.6250 - val_scaled_adversarial_loss: 0.3944\n",
      "Epoch 40/100\n",
      "11/11 - 0s - loss: 2.3566e-04 - sparse_categorical_crossentropy: 1.9408e-04 - sparse_categorical_accuracy: 1.0000 - scaled_adversarial_loss: 4.0940e-05 - val_loss: 2.3405 - val_sparse_categorical_crossentropy: 1.9458 - val_sparse_categorical_accuracy: 0.6250 - val_scaled_adversarial_loss: 0.3947\n",
      "Epoch 41/100\n",
      "11/11 - 0s - loss: 2.2834e-04 - sparse_categorical_crossentropy: 1.8806e-04 - sparse_categorical_accuracy: 1.0000 - scaled_adversarial_loss: 3.9670e-05 - val_loss: 2.3423 - val_sparse_categorical_crossentropy: 1.9473 - val_sparse_categorical_accuracy: 0.6250 - val_scaled_adversarial_loss: 0.3950\n",
      "Epoch 42/100\n",
      "11/11 - 0s - loss: 2.2139e-04 - sparse_categorical_crossentropy: 1.8233e-04 - sparse_categorical_accuracy: 1.0000 - scaled_adversarial_loss: 3.8462e-05 - val_loss: 2.3440 - val_sparse_categorical_crossentropy: 1.9487 - val_sparse_categorical_accuracy: 0.6250 - val_scaled_adversarial_loss: 0.3953\n",
      "Epoch 43/100\n",
      "11/11 - 0s - loss: 2.1479e-04 - sparse_categorical_crossentropy: 1.7690e-04 - sparse_categorical_accuracy: 1.0000 - scaled_adversarial_loss: 3.7311e-05 - val_loss: 2.3456 - val_sparse_categorical_crossentropy: 1.9501 - val_sparse_categorical_accuracy: 0.6250 - val_scaled_adversarial_loss: 0.3956\n",
      "Epoch 44/100\n",
      "11/11 - 0s - loss: 2.0852e-04 - sparse_categorical_crossentropy: 1.7174e-04 - sparse_categorical_accuracy: 1.0000 - scaled_adversarial_loss: 3.6217e-05 - val_loss: 2.3472 - val_sparse_categorical_crossentropy: 1.9514 - val_sparse_categorical_accuracy: 0.6250 - val_scaled_adversarial_loss: 0.3958\n",
      "Epoch 45/100\n",
      "11/11 - 0s - loss: 2.0253e-04 - sparse_categorical_crossentropy: 1.6681e-04 - sparse_categorical_accuracy: 1.0000 - scaled_adversarial_loss: 3.5178e-05 - val_loss: 2.3486 - val_sparse_categorical_crossentropy: 1.9526 - val_sparse_categorical_accuracy: 0.6250 - val_scaled_adversarial_loss: 0.3961\n",
      "Epoch 46/100\n",
      "11/11 - 0s - loss: 1.9683e-04 - sparse_categorical_crossentropy: 1.6212e-04 - sparse_categorical_accuracy: 1.0000 - scaled_adversarial_loss: 3.4185e-05 - val_loss: 2.3501 - val_sparse_categorical_crossentropy: 1.9538 - val_sparse_categorical_accuracy: 0.6250 - val_scaled_adversarial_loss: 0.3963\n",
      "Epoch 47/100\n",
      "11/11 - 0s - loss: 1.9139e-04 - sparse_categorical_crossentropy: 1.5764e-04 - sparse_categorical_accuracy: 1.0000 - scaled_adversarial_loss: 3.3238e-05 - val_loss: 2.3515 - val_sparse_categorical_crossentropy: 1.9550 - val_sparse_categorical_accuracy: 0.6250 - val_scaled_adversarial_loss: 0.3966\n",
      "Epoch 48/100\n",
      "11/11 - 0s - loss: 1.8617e-04 - sparse_categorical_crossentropy: 1.5335e-04 - sparse_categorical_accuracy: 1.0000 - scaled_adversarial_loss: 3.2332e-05 - val_loss: 2.3529 - val_sparse_categorical_crossentropy: 1.9561 - val_sparse_categorical_accuracy: 0.6250 - val_scaled_adversarial_loss: 0.3968\n",
      "Epoch 49/100\n",
      "11/11 - 0s - loss: 1.8120e-04 - sparse_categorical_crossentropy: 1.4925e-04 - sparse_categorical_accuracy: 1.0000 - scaled_adversarial_loss: 3.1466e-05 - val_loss: 2.3543 - val_sparse_categorical_crossentropy: 1.9572 - val_sparse_categorical_accuracy: 0.6250 - val_scaled_adversarial_loss: 0.3971\n",
      "Epoch 50/100\n",
      "11/11 - 0s - loss: 1.7642e-04 - sparse_categorical_crossentropy: 1.4531e-04 - sparse_categorical_accuracy: 1.0000 - scaled_adversarial_loss: 3.0636e-05 - val_loss: 2.3557 - val_sparse_categorical_crossentropy: 1.9584 - val_sparse_categorical_accuracy: 0.6250 - val_scaled_adversarial_loss: 0.3973\n",
      "Epoch 51/100\n",
      "11/11 - 0s - loss: 1.7183e-04 - sparse_categorical_crossentropy: 1.4154e-04 - sparse_categorical_accuracy: 1.0000 - scaled_adversarial_loss: 2.9839e-05 - val_loss: 2.3571 - val_sparse_categorical_crossentropy: 1.9596 - val_sparse_categorical_accuracy: 0.6250 - val_scaled_adversarial_loss: 0.3976\n",
      "Epoch 52/100\n",
      "11/11 - 0s - loss: 1.6744e-04 - sparse_categorical_crossentropy: 1.3792e-04 - sparse_categorical_accuracy: 1.0000 - scaled_adversarial_loss: 2.9077e-05 - val_loss: 2.3586 - val_sparse_categorical_crossentropy: 1.9608 - val_sparse_categorical_accuracy: 0.6250 - val_scaled_adversarial_loss: 0.3978\n",
      "Epoch 53/100\n",
      "11/11 - 0s - loss: 1.6324e-04 - sparse_categorical_crossentropy: 1.3446e-04 - sparse_categorical_accuracy: 1.0000 - scaled_adversarial_loss: 2.8345e-05 - val_loss: 2.3601 - val_sparse_categorical_crossentropy: 1.9620 - val_sparse_categorical_accuracy: 0.6250 - val_scaled_adversarial_loss: 0.3981\n",
      "Epoch 54/100\n",
      "11/11 - 0s - loss: 1.5919e-04 - sparse_categorical_crossentropy: 1.3113e-04 - sparse_categorical_accuracy: 1.0000 - scaled_adversarial_loss: 2.7641e-05 - val_loss: 2.3617 - val_sparse_categorical_crossentropy: 1.9633 - val_sparse_categorical_accuracy: 0.6250 - val_scaled_adversarial_loss: 0.3984\n",
      "Epoch 55/100\n",
      "11/11 - 0s - loss: 1.5530e-04 - sparse_categorical_crossentropy: 1.2792e-04 - sparse_categorical_accuracy: 1.0000 - scaled_adversarial_loss: 2.6967e-05 - val_loss: 2.3632 - val_sparse_categorical_crossentropy: 1.9646 - val_sparse_categorical_accuracy: 0.6250 - val_scaled_adversarial_loss: 0.3986\n",
      "Epoch 56/100\n",
      "11/11 - 0s - loss: 1.5156e-04 - sparse_categorical_crossentropy: 1.2484e-04 - sparse_categorical_accuracy: 1.0000 - scaled_adversarial_loss: 2.6317e-05 - val_loss: 2.3648 - val_sparse_categorical_crossentropy: 1.9659 - val_sparse_categorical_accuracy: 0.6250 - val_scaled_adversarial_loss: 0.3989\n",
      "Epoch 57/100\n",
      "11/11 - 0s - loss: 1.4795e-04 - sparse_categorical_crossentropy: 1.2187e-04 - sparse_categorical_accuracy: 1.0000 - scaled_adversarial_loss: 2.5689e-05 - val_loss: 2.3665 - val_sparse_categorical_crossentropy: 1.9673 - val_sparse_categorical_accuracy: 0.6250 - val_scaled_adversarial_loss: 0.3992\n",
      "Epoch 58/100\n",
      "11/11 - 0s - loss: 1.4450e-04 - sparse_categorical_crossentropy: 1.1903e-04 - sparse_categorical_accuracy: 1.0000 - scaled_adversarial_loss: 2.5088e-05 - val_loss: 2.3680 - val_sparse_categorical_crossentropy: 1.9686 - val_sparse_categorical_accuracy: 0.6250 - val_scaled_adversarial_loss: 0.3994\n",
      "Epoch 59/100\n",
      "11/11 - 0s - loss: 1.4116e-04 - sparse_categorical_crossentropy: 1.1628e-04 - sparse_categorical_accuracy: 1.0000 - scaled_adversarial_loss: 2.4510e-05 - val_loss: 2.3696 - val_sparse_categorical_crossentropy: 1.9699 - val_sparse_categorical_accuracy: 0.6250 - val_scaled_adversarial_loss: 0.3997\n",
      "Epoch 60/100\n",
      "11/11 - 0s - loss: 1.3794e-04 - sparse_categorical_crossentropy: 1.1363e-04 - sparse_categorical_accuracy: 1.0000 - scaled_adversarial_loss: 2.3952e-05 - val_loss: 2.3711 - val_sparse_categorical_crossentropy: 1.9712 - val_sparse_categorical_accuracy: 0.6250 - val_scaled_adversarial_loss: 0.4000\n",
      "Epoch 61/100\n",
      "11/11 - 0s - loss: 1.3483e-04 - sparse_categorical_crossentropy: 1.1107e-04 - sparse_categorical_accuracy: 1.0000 - scaled_adversarial_loss: 2.3412e-05 - val_loss: 2.3727 - val_sparse_categorical_crossentropy: 1.9725 - val_sparse_categorical_accuracy: 0.6250 - val_scaled_adversarial_loss: 0.4002\n",
      "Epoch 62/100\n",
      "11/11 - 0s - loss: 1.3185e-04 - sparse_categorical_crossentropy: 1.0861e-04 - sparse_categorical_accuracy: 1.0000 - scaled_adversarial_loss: 2.2891e-05 - val_loss: 2.3743 - val_sparse_categorical_crossentropy: 1.9738 - val_sparse_categorical_accuracy: 0.6250 - val_scaled_adversarial_loss: 0.4005\n",
      "Epoch 63/100\n",
      "11/11 - 0s - loss: 1.2897e-04 - sparse_categorical_crossentropy: 1.0625e-04 - sparse_categorical_accuracy: 1.0000 - scaled_adversarial_loss: 2.2390e-05 - val_loss: 2.3758 - val_sparse_categorical_crossentropy: 1.9750 - val_sparse_categorical_accuracy: 0.6250 - val_scaled_adversarial_loss: 0.4008\n",
      "Epoch 64/100\n",
      "11/11 - 0s - loss: 1.2619e-04 - sparse_categorical_crossentropy: 1.0395e-04 - sparse_categorical_accuracy: 1.0000 - scaled_adversarial_loss: 2.1907e-05 - val_loss: 2.3773 - val_sparse_categorical_crossentropy: 1.9763 - val_sparse_categorical_accuracy: 0.6250 - val_scaled_adversarial_loss: 0.4010\n",
      "Epoch 65/100\n",
      "11/11 - 0s - loss: 1.2349e-04 - sparse_categorical_crossentropy: 1.0173e-04 - sparse_categorical_accuracy: 1.0000 - scaled_adversarial_loss: 2.1439e-05 - val_loss: 2.3788 - val_sparse_categorical_crossentropy: 1.9775 - val_sparse_categorical_accuracy: 0.6250 - val_scaled_adversarial_loss: 0.4013\n",
      "Epoch 66/100\n",
      "11/11 - 0s - loss: 1.2090e-04 - sparse_categorical_crossentropy: 9.9595e-05 - sparse_categorical_accuracy: 1.0000 - scaled_adversarial_loss: 2.0989e-05 - val_loss: 2.3803 - val_sparse_categorical_crossentropy: 1.9788 - val_sparse_categorical_accuracy: 0.6250 - val_scaled_adversarial_loss: 0.4015\n",
      "Epoch 67/100\n",
      "11/11 - 0s - loss: 1.1838e-04 - sparse_categorical_crossentropy: 9.7520e-05 - sparse_categorical_accuracy: 1.0000 - scaled_adversarial_loss: 2.0551e-05 - val_loss: 2.3818 - val_sparse_categorical_crossentropy: 1.9800 - val_sparse_categorical_accuracy: 0.6250 - val_scaled_adversarial_loss: 0.4018\n",
      "Epoch 68/100\n",
      "11/11 - 0s - loss: 1.1594e-04 - sparse_categorical_crossentropy: 9.5514e-05 - sparse_categorical_accuracy: 1.0000 - scaled_adversarial_loss: 2.0126e-05 - val_loss: 2.3833 - val_sparse_categorical_crossentropy: 1.9813 - val_sparse_categorical_accuracy: 0.6250 - val_scaled_adversarial_loss: 0.4021\n",
      "Epoch 69/100\n",
      "11/11 - 0s - loss: 1.1359e-04 - sparse_categorical_crossentropy: 9.3579e-05 - sparse_categorical_accuracy: 1.0000 - scaled_adversarial_loss: 1.9718e-05 - val_loss: 2.3848 - val_sparse_categorical_crossentropy: 1.9825 - val_sparse_categorical_accuracy: 0.6250 - val_scaled_adversarial_loss: 0.4023\n",
      "Epoch 70/100\n",
      "11/11 - 0s - loss: 1.1131e-04 - sparse_categorical_crossentropy: 9.1694e-05 - sparse_categorical_accuracy: 1.0000 - scaled_adversarial_loss: 1.9324e-05 - val_loss: 2.3862 - val_sparse_categorical_crossentropy: 1.9836 - val_sparse_categorical_accuracy: 0.6250 - val_scaled_adversarial_loss: 0.4025\n",
      "Epoch 71/100\n",
      "11/11 - 0s - loss: 1.0910e-04 - sparse_categorical_crossentropy: 8.9877e-05 - sparse_categorical_accuracy: 1.0000 - scaled_adversarial_loss: 1.8938e-05 - val_loss: 2.3876 - val_sparse_categorical_crossentropy: 1.9848 - val_sparse_categorical_accuracy: 0.6250 - val_scaled_adversarial_loss: 0.4028\n",
      "Epoch 72/100\n",
      "11/11 - 0s - loss: 1.0696e-04 - sparse_categorical_crossentropy: 8.8115e-05 - sparse_categorical_accuracy: 1.0000 - scaled_adversarial_loss: 1.8566e-05 - val_loss: 2.3890 - val_sparse_categorical_crossentropy: 1.9860 - val_sparse_categorical_accuracy: 0.6250 - val_scaled_adversarial_loss: 0.4030\n",
      "Epoch 73/100\n",
      "11/11 - 0s - loss: 1.0488e-04 - sparse_categorical_crossentropy: 8.6409e-05 - sparse_categorical_accuracy: 1.0000 - scaled_adversarial_loss: 1.8205e-05 - val_loss: 2.3903 - val_sparse_categorical_crossentropy: 1.9871 - val_sparse_categorical_accuracy: 0.6250 - val_scaled_adversarial_loss: 0.4033\n",
      "Epoch 74/100\n",
      "11/11 - 0s - loss: 1.0287e-04 - sparse_categorical_crossentropy: 8.4745e-05 - sparse_categorical_accuracy: 1.0000 - scaled_adversarial_loss: 1.7856e-05 - val_loss: 2.3916 - val_sparse_categorical_crossentropy: 1.9881 - val_sparse_categorical_accuracy: 0.6250 - val_scaled_adversarial_loss: 0.4035\n",
      "Epoch 75/100\n",
      "11/11 - 0s - loss: 1.0092e-04 - sparse_categorical_crossentropy: 8.3144e-05 - sparse_categorical_accuracy: 1.0000 - scaled_adversarial_loss: 1.7517e-05 - val_loss: 2.3929 - val_sparse_categorical_crossentropy: 1.9892 - val_sparse_categorical_accuracy: 0.6250 - val_scaled_adversarial_loss: 0.4037\n",
      "Epoch 76/100\n",
      "11/11 - 0s - loss: 9.9016e-05 - sparse_categorical_crossentropy: 8.1573e-05 - sparse_categorical_accuracy: 1.0000 - scaled_adversarial_loss: 1.7187e-05 - val_loss: 2.3943 - val_sparse_categorical_crossentropy: 1.9904 - val_sparse_categorical_accuracy: 0.6250 - val_scaled_adversarial_loss: 0.4039\n",
      "Epoch 77/100\n",
      "11/11 - 0s - loss: 9.7167e-05 - sparse_categorical_crossentropy: 8.0050e-05 - sparse_categorical_accuracy: 1.0000 - scaled_adversarial_loss: 1.6866e-05 - val_loss: 2.3956 - val_sparse_categorical_crossentropy: 1.9914 - val_sparse_categorical_accuracy: 0.6250 - val_scaled_adversarial_loss: 0.4042\n",
      "Epoch 78/100\n",
      "11/11 - 0s - loss: 9.5377e-05 - sparse_categorical_crossentropy: 7.8576e-05 - sparse_categorical_accuracy: 1.0000 - scaled_adversarial_loss: 1.6555e-05 - val_loss: 2.3969 - val_sparse_categorical_crossentropy: 1.9925 - val_sparse_categorical_accuracy: 0.6250 - val_scaled_adversarial_loss: 0.4044\n",
      "Epoch 79/100\n",
      "11/11 - 0s - loss: 9.3629e-05 - sparse_categorical_crossentropy: 7.7136e-05 - sparse_categorical_accuracy: 1.0000 - scaled_adversarial_loss: 1.6252e-05 - val_loss: 2.3983 - val_sparse_categorical_crossentropy: 1.9937 - val_sparse_categorical_accuracy: 0.6250 - val_scaled_adversarial_loss: 0.4046\n",
      "Epoch 80/100\n",
      "11/11 - 0s - loss: 9.1947e-05 - sparse_categorical_crossentropy: 7.5751e-05 - sparse_categorical_accuracy: 1.0000 - scaled_adversarial_loss: 1.5960e-05 - val_loss: 2.3996 - val_sparse_categorical_crossentropy: 1.9947 - val_sparse_categorical_accuracy: 0.6250 - val_scaled_adversarial_loss: 0.4048\n",
      "Epoch 81/100\n",
      "11/11 - 0s - loss: 9.0303e-05 - sparse_categorical_crossentropy: 7.4396e-05 - sparse_categorical_accuracy: 1.0000 - scaled_adversarial_loss: 1.5675e-05 - val_loss: 2.4009 - val_sparse_categorical_crossentropy: 1.9958 - val_sparse_categorical_accuracy: 0.6250 - val_scaled_adversarial_loss: 0.4050\n",
      "Epoch 82/100\n",
      "11/11 - 0s - loss: 8.8696e-05 - sparse_categorical_crossentropy: 7.3072e-05 - sparse_categorical_accuracy: 1.0000 - scaled_adversarial_loss: 1.5396e-05 - val_loss: 2.4022 - val_sparse_categorical_crossentropy: 1.9969 - val_sparse_categorical_accuracy: 0.6250 - val_scaled_adversarial_loss: 0.4053\n",
      "Epoch 83/100\n",
      "11/11 - 0s - loss: 8.7142e-05 - sparse_categorical_crossentropy: 7.1794e-05 - sparse_categorical_accuracy: 1.0000 - scaled_adversarial_loss: 1.5124e-05 - val_loss: 2.4035 - val_sparse_categorical_crossentropy: 1.9980 - val_sparse_categorical_accuracy: 0.6250 - val_scaled_adversarial_loss: 0.4055\n",
      "Epoch 84/100\n",
      "11/11 - 0s - loss: 8.5627e-05 - sparse_categorical_crossentropy: 7.0547e-05 - sparse_categorical_accuracy: 1.0000 - scaled_adversarial_loss: 1.4861e-05 - val_loss: 2.4048 - val_sparse_categorical_crossentropy: 1.9991 - val_sparse_categorical_accuracy: 0.6250 - val_scaled_adversarial_loss: 0.4057\n",
      "Epoch 85/100\n",
      "11/11 - 0s - loss: 8.4153e-05 - sparse_categorical_crossentropy: 6.9333e-05 - sparse_categorical_accuracy: 1.0000 - scaled_adversarial_loss: 1.4605e-05 - val_loss: 2.4061 - val_sparse_categorical_crossentropy: 2.0002 - val_sparse_categorical_accuracy: 0.6250 - val_scaled_adversarial_loss: 0.4059\n",
      "Epoch 86/100\n",
      "11/11 - 0s - loss: 8.2717e-05 - sparse_categorical_crossentropy: 6.8151e-05 - sparse_categorical_accuracy: 1.0000 - scaled_adversarial_loss: 1.4355e-05 - val_loss: 2.4074 - val_sparse_categorical_crossentropy: 2.0012 - val_sparse_categorical_accuracy: 0.6250 - val_scaled_adversarial_loss: 0.4062\n",
      "Epoch 87/100\n",
      "11/11 - 0s - loss: 8.1311e-05 - sparse_categorical_crossentropy: 6.6993e-05 - sparse_categorical_accuracy: 1.0000 - scaled_adversarial_loss: 1.4111e-05 - val_loss: 2.4086 - val_sparse_categorical_crossentropy: 2.0023 - val_sparse_categorical_accuracy: 0.6250 - val_scaled_adversarial_loss: 0.4064\n",
      "Epoch 88/100\n",
      "11/11 - 0s - loss: 7.9947e-05 - sparse_categorical_crossentropy: 6.5870e-05 - sparse_categorical_accuracy: 1.0000 - scaled_adversarial_loss: 1.3873e-05 - val_loss: 2.4099 - val_sparse_categorical_crossentropy: 2.0033 - val_sparse_categorical_accuracy: 0.6250 - val_scaled_adversarial_loss: 0.4066\n",
      "Epoch 89/100\n",
      "11/11 - 0s - loss: 7.8615e-05 - sparse_categorical_crossentropy: 6.4772e-05 - sparse_categorical_accuracy: 1.0000 - scaled_adversarial_loss: 1.3643e-05 - val_loss: 2.4112 - val_sparse_categorical_crossentropy: 2.0044 - val_sparse_categorical_accuracy: 0.6250 - val_scaled_adversarial_loss: 0.4068\n",
      "Epoch 90/100\n",
      "11/11 - 0s - loss: 7.7323e-05 - sparse_categorical_crossentropy: 6.3707e-05 - sparse_categorical_accuracy: 1.0000 - scaled_adversarial_loss: 1.3419e-05 - val_loss: 2.4123 - val_sparse_categorical_crossentropy: 2.0053 - val_sparse_categorical_accuracy: 0.6250 - val_scaled_adversarial_loss: 0.4070\n",
      "Epoch 91/100\n",
      "11/11 - 0s - loss: 7.6061e-05 - sparse_categorical_crossentropy: 6.2668e-05 - sparse_categorical_accuracy: 1.0000 - scaled_adversarial_loss: 1.3199e-05 - val_loss: 2.4135 - val_sparse_categorical_crossentropy: 2.0063 - val_sparse_categorical_accuracy: 0.6250 - val_scaled_adversarial_loss: 0.4072\n",
      "Epoch 92/100\n",
      "11/11 - 0s - loss: 7.4826e-05 - sparse_categorical_crossentropy: 6.1651e-05 - sparse_categorical_accuracy: 1.0000 - scaled_adversarial_loss: 1.2985e-05 - val_loss: 2.4147 - val_sparse_categorical_crossentropy: 2.0073 - val_sparse_categorical_accuracy: 0.6250 - val_scaled_adversarial_loss: 0.4074\n",
      "Epoch 93/100\n",
      "11/11 - 0s - loss: 7.3625e-05 - sparse_categorical_crossentropy: 6.0662e-05 - sparse_categorical_accuracy: 1.0000 - scaled_adversarial_loss: 1.2776e-05 - val_loss: 2.4159 - val_sparse_categorical_crossentropy: 2.0083 - val_sparse_categorical_accuracy: 0.6250 - val_scaled_adversarial_loss: 0.4076\n",
      "Epoch 94/100\n",
      "11/11 - 0s - loss: 7.2450e-05 - sparse_categorical_crossentropy: 5.9694e-05 - sparse_categorical_accuracy: 1.0000 - scaled_adversarial_loss: 1.2572e-05 - val_loss: 2.4171 - val_sparse_categorical_crossentropy: 2.0093 - val_sparse_categorical_accuracy: 0.6250 - val_scaled_adversarial_loss: 0.4078\n",
      "Epoch 95/100\n",
      "11/11 - 0s - loss: 7.1303e-05 - sparse_categorical_crossentropy: 5.8750e-05 - sparse_categorical_accuracy: 1.0000 - scaled_adversarial_loss: 1.2373e-05 - val_loss: 2.4183 - val_sparse_categorical_crossentropy: 2.0102 - val_sparse_categorical_accuracy: 0.6250 - val_scaled_adversarial_loss: 0.4080\n",
      "Epoch 96/100\n",
      "11/11 - 0s - loss: 7.0192e-05 - sparse_categorical_crossentropy: 5.7835e-05 - sparse_categorical_accuracy: 1.0000 - scaled_adversarial_loss: 1.2180e-05 - val_loss: 2.4195 - val_sparse_categorical_crossentropy: 2.0112 - val_sparse_categorical_accuracy: 0.6250 - val_scaled_adversarial_loss: 0.4082\n",
      "Epoch 97/100\n",
      "11/11 - 0s - loss: 6.9102e-05 - sparse_categorical_crossentropy: 5.6937e-05 - sparse_categorical_accuracy: 1.0000 - scaled_adversarial_loss: 1.1989e-05 - val_loss: 2.4207 - val_sparse_categorical_crossentropy: 2.0122 - val_sparse_categorical_accuracy: 0.6250 - val_scaled_adversarial_loss: 0.4084\n",
      "Epoch 98/100\n",
      "11/11 - 0s - loss: 6.8032e-05 - sparse_categorical_crossentropy: 5.6055e-05 - sparse_categorical_accuracy: 1.0000 - scaled_adversarial_loss: 1.1805e-05 - val_loss: 2.4218 - val_sparse_categorical_crossentropy: 2.0132 - val_sparse_categorical_accuracy: 0.6250 - val_scaled_adversarial_loss: 0.4086\n",
      "Epoch 99/100\n",
      "11/11 - 0s - loss: 6.6996e-05 - sparse_categorical_crossentropy: 5.5203e-05 - sparse_categorical_accuracy: 1.0000 - scaled_adversarial_loss: 1.1623e-05 - val_loss: 2.4230 - val_sparse_categorical_crossentropy: 2.0142 - val_sparse_categorical_accuracy: 0.6250 - val_scaled_adversarial_loss: 0.4088\n",
      "Epoch 100/100\n",
      "11/11 - 0s - loss: 6.5973e-05 - sparse_categorical_crossentropy: 5.4358e-05 - sparse_categorical_accuracy: 1.0000 - scaled_adversarial_loss: 1.1448e-05 - val_loss: 2.4242 - val_sparse_categorical_crossentropy: 2.0152 - val_sparse_categorical_accuracy: 0.6250 - val_scaled_adversarial_loss: 0.4090\n"
     ]
    },
    {
     "data": {
      "text/plain": [
       "<tensorflow.python.keras.callbacks.History at 0x7f00e7a00c10>"
      ]
     },
     "execution_count": 23,
     "metadata": {},
     "output_type": "execute_result"
    }
   ],
   "source": [
    "train4=tf.data.Dataset.from_tensor_slices(\n",
    "    {'input':x_train4,'label':y_train4}).batch(batch_size)\n",
    "valid4=tf.data.Dataset.from_tensor_slices(\n",
    "    {'input':x_valid4,'label':y_valid4}).batch(batch_size)\n",
    "valid_steps=x_valid4.shape[0]//batch_size\n",
    "adv_model.fit(train4,validation_data=valid4,verbose=2,\n",
    "              validation_steps=valid_steps,epochs=epochs)"
   ]
  },
  {
   "cell_type": "code",
   "execution_count": 24,
   "metadata": {
    "papermill": {
     "duration": 0.708815,
     "end_time": "2021-01-08T20:56:49.254440",
     "exception": false,
     "start_time": "2021-01-08T20:56:48.545625",
     "status": "completed"
    },
    "tags": []
   },
   "outputs": [
    {
     "name": "stdout",
     "output_type": "stream",
     "text": [
      "21/21 [==============================] - 0s 22ms/sample - loss: 2.6811 - sparse_categorical_crossentropy: 2.2279 - sparse_categorical_accuracy: 0.4762 - scaled_adversarial_loss: 0.4532\n"
     ]
    },
    {
     "data": {
      "text/plain": [
       "[2.681089162826538, 2.2278523, 0.47619048, 0.45323682]"
      ]
     },
     "execution_count": 24,
     "metadata": {},
     "output_type": "execute_result"
    }
   ],
   "source": [
    "adv_model.evaluate({'input':x_test4,'label':y_test4})"
   ]
  },
  {
   "cell_type": "code",
   "execution_count": 25,
   "metadata": {
    "_kg_hide-input": true,
    "papermill": {
     "duration": 0.231439,
     "end_time": "2021-01-08T20:56:49.706802",
     "exception": false,
     "start_time": "2021-01-08T20:56:49.475363",
     "status": "completed"
    },
    "tags": []
   },
   "outputs": [
    {
     "data": {
      "text/html": [
       "<div id='html_string8758028.983971294' style='width:100%;'><iframe src='d3header8758028.983971294.html' height=60\n",
       "    style='display:block; width:100%;'></iframe></div>"
      ],
      "text/plain": [
       "<IPython.core.display.HTML object>"
      ]
     },
     "metadata": {},
     "output_type": "display_data"
    }
   ],
   "source": [
    "%decor_header CNN Base|18"
   ]
  },
  {
   "cell_type": "code",
   "execution_count": 26,
   "metadata": {
    "papermill": {
     "duration": 0.416164,
     "end_time": "2021-01-08T20:56:50.342564",
     "exception": false,
     "start_time": "2021-01-08T20:56:49.926400",
     "status": "completed"
    },
    "tags": []
   },
   "outputs": [],
   "source": [
    "batch_size=128; img_size=28; n_class=10; epochs=7\n",
    "base_model=tf.keras.Sequential([\n",
    "    tf.keras.Input((img_size,img_size,1),name='input'),\n",
    "    tf.keras.layers.Conv2D(32,(5,5),padding='same'),\n",
    "    tf.keras.layers.Activation('relu'),\n",
    "    tf.keras.layers.MaxPooling2D(pool_size=(2,2)),\n",
    "    tf.keras.layers.Dropout(.25),\n",
    "    tf.keras.layers.Conv2D(196,(5,5)),\n",
    "    tf.keras.layers.Activation('relu'),    \n",
    "    tf.keras.layers.MaxPooling2D(pool_size=(2,2)),\n",
    "    tf.keras.layers.Dropout(.25),\n",
    "    tf.keras.layers.GlobalMaxPooling2D(),    \n",
    "    tf.keras.layers.Dense(512),\n",
    "    tf.keras.layers.Activation('relu'),\n",
    "    tf.keras.layers.Dropout(.25),\n",
    "    tf.keras.layers.Dense(128),\n",
    "    tf.keras.layers.Activation('relu'),\n",
    "    tf.keras.layers.Dropout(.25),\n",
    "    tf.keras.layers.Dense(10,activation='softmax')\n",
    "])\n",
    "adv_config=nsl.configs\\\n",
    ".make_adv_reg_config(multiplier=.2,adv_step_size=.05)\n",
    "adv_model=nsl.keras\\\n",
    ".AdversarialRegularization(base_model,adv_config=adv_config)\n",
    "adv_model.compile(optimizer='adam',\n",
    "                  loss='sparse_categorical_crossentropy',\n",
    "                  metrics=['accuracy'])"
   ]
  },
  {
   "cell_type": "code",
   "execution_count": 27,
   "metadata": {
    "_kg_hide-output": true,
    "papermill": {
     "duration": 49.003445,
     "end_time": "2021-01-08T20:57:39.563876",
     "exception": false,
     "start_time": "2021-01-08T20:56:50.560431",
     "status": "completed"
    },
    "tags": []
   },
   "outputs": [
    {
     "name": "stdout",
     "output_type": "stream",
     "text": [
      "Train for 469 steps, validate for 39 steps\n",
      "Epoch 1/7\n",
      "469/469 - 10s - loss: 0.4705 - sparse_categorical_crossentropy: 0.3900 - sparse_categorical_accuracy: 0.8736 - scaled_adversarial_loss: 0.0805 - val_loss: 0.2187 - val_sparse_categorical_crossentropy: 0.1792 - val_sparse_categorical_accuracy: 0.9453 - val_scaled_adversarial_loss: 0.0394\n",
      "Epoch 2/7\n",
      "469/469 - 6s - loss: 0.1187 - sparse_categorical_crossentropy: 0.0978 - sparse_categorical_accuracy: 0.9717 - scaled_adversarial_loss: 0.0209 - val_loss: 0.0744 - val_sparse_categorical_crossentropy: 0.0604 - val_sparse_categorical_accuracy: 0.9806 - val_scaled_adversarial_loss: 0.0140\n",
      "Epoch 3/7\n",
      "469/469 - 7s - loss: 0.0827 - sparse_categorical_crossentropy: 0.0674 - sparse_categorical_accuracy: 0.9804 - scaled_adversarial_loss: 0.0153 - val_loss: 0.0671 - val_sparse_categorical_crossentropy: 0.0542 - val_sparse_categorical_accuracy: 0.9832 - val_scaled_adversarial_loss: 0.0128\n",
      "Epoch 4/7\n",
      "469/469 - 6s - loss: 0.0692 - sparse_categorical_crossentropy: 0.0564 - sparse_categorical_accuracy: 0.9832 - scaled_adversarial_loss: 0.0127 - val_loss: 0.0543 - val_sparse_categorical_crossentropy: 0.0438 - val_sparse_categorical_accuracy: 0.9872 - val_scaled_adversarial_loss: 0.0105\n",
      "Epoch 5/7\n",
      "469/469 - 6s - loss: 0.0595 - sparse_categorical_crossentropy: 0.0481 - sparse_categorical_accuracy: 0.9853 - scaled_adversarial_loss: 0.0114 - val_loss: 0.0454 - val_sparse_categorical_crossentropy: 0.0365 - val_sparse_categorical_accuracy: 0.9898 - val_scaled_adversarial_loss: 0.0089\n",
      "Epoch 6/7\n",
      "469/469 - 6s - loss: 0.0552 - sparse_categorical_crossentropy: 0.0452 - sparse_categorical_accuracy: 0.9861 - scaled_adversarial_loss: 0.0100 - val_loss: 0.0491 - val_sparse_categorical_crossentropy: 0.0395 - val_sparse_categorical_accuracy: 0.9872 - val_scaled_adversarial_loss: 0.0097\n",
      "Epoch 7/7\n",
      "469/469 - 6s - loss: 0.0474 - sparse_categorical_crossentropy: 0.0384 - sparse_categorical_accuracy: 0.9885 - scaled_adversarial_loss: 0.0090 - val_loss: 0.0480 - val_sparse_categorical_crossentropy: 0.0385 - val_sparse_categorical_accuracy: 0.9882 - val_scaled_adversarial_loss: 0.0094\n"
     ]
    },
    {
     "data": {
      "text/plain": [
       "<tensorflow.python.keras.callbacks.History at 0x7f0108506a90>"
      ]
     },
     "execution_count": 27,
     "metadata": {},
     "output_type": "execute_result"
    }
   ],
   "source": [
    "train1=tf.data.Dataset.from_tensor_slices(\n",
    "    {'input':x_train1.reshape(x_train1.shape[0],28,28,1),\n",
    "     'label':y_train1}).batch(batch_size)\n",
    "valid1=tf.data.Dataset.from_tensor_slices(\n",
    "    {'input':x_valid1.reshape(x_valid1.shape[0],28,28,1),\n",
    "     'label':y_valid1}).batch(batch_size)\n",
    "valid_steps=x_valid1.shape[0]//batch_size\n",
    "adv_model.fit(train1,validation_data=valid1,verbose=2,\n",
    "              validation_steps=valid_steps,epochs=epochs)"
   ]
  },
  {
   "cell_type": "code",
   "execution_count": 28,
   "metadata": {
    "papermill": {
     "duration": 1.368798,
     "end_time": "2021-01-08T20:57:41.162944",
     "exception": false,
     "start_time": "2021-01-08T20:57:39.794146",
     "status": "completed"
    },
    "tags": []
   },
   "outputs": [
    {
     "name": "stdout",
     "output_type": "stream",
     "text": [
      "5000/5000 [==============================] - 1s 214us/sample - loss: 0.0249 - sparse_categorical_crossentropy: 0.0199 - sparse_categorical_accuracy: 0.9938 - scaled_adversarial_loss: 0.0049\n"
     ]
    },
    {
     "data": {
      "text/plain": [
       "[0.024870124040637164, 0.019908926, 0.9938, 0.0049104947]"
      ]
     },
     "execution_count": 28,
     "metadata": {},
     "output_type": "execute_result"
    }
   ],
   "source": [
    "adv_model.evaluate({'input':x_test1.reshape(x_test1.shape[0],28,28,1),\n",
    "                    'label':y_test1})"
   ]
  },
  {
   "cell_type": "code",
   "execution_count": 29,
   "metadata": {
    "papermill": {
     "duration": 0.447623,
     "end_time": "2021-01-08T20:57:41.864006",
     "exception": false,
     "start_time": "2021-01-08T20:57:41.416383",
     "status": "completed"
    },
    "tags": []
   },
   "outputs": [],
   "source": [
    "batch_size=64; img_size=32; n_class=10; epochs=20\n",
    "base_model=tf.keras.Sequential([\n",
    "    tf.keras.Input((img_size,img_size,3),name='input'),\n",
    "    tf.keras.layers.Conv2D(32,(5,5),padding='same'),\n",
    "    tf.keras.layers.Activation('relu'),\n",
    "    tf.keras.layers.MaxPooling2D(pool_size=(2,2)),\n",
    "    tf.keras.layers.Dropout(.25),\n",
    "    tf.keras.layers.Conv2D(96,(5,5)),\n",
    "    tf.keras.layers.Activation('relu'),    \n",
    "    tf.keras.layers.MaxPooling2D(pool_size=(2,2)),\n",
    "    tf.keras.layers.Dropout(.25),\n",
    "    tf.keras.layers.GlobalMaxPooling2D(),    \n",
    "    tf.keras.layers.Dense(512),\n",
    "    tf.keras.layers.Activation('relu'),\n",
    "    tf.keras.layers.Dropout(.25),\n",
    "    tf.keras.layers.Dense(10,activation='softmax')\n",
    "])\n",
    "adv_config=nsl.configs\\\n",
    ".make_adv_reg_config(multiplier=.2,adv_step_size=.05)\n",
    "adv_model=nsl.keras\\\n",
    ".AdversarialRegularization(base_model,adv_config=adv_config)\n",
    "adv_model.compile(optimizer='adam',\n",
    "                  loss='sparse_categorical_crossentropy',\n",
    "                  metrics=['accuracy'])"
   ]
  },
  {
   "cell_type": "code",
   "execution_count": 30,
   "metadata": {
    "_kg_hide-output": true,
    "papermill": {
     "duration": 160.057046,
     "end_time": "2021-01-08T21:00:22.207740",
     "exception": false,
     "start_time": "2021-01-08T20:57:42.150694",
     "status": "completed"
    },
    "tags": []
   },
   "outputs": [
    {
     "name": "stdout",
     "output_type": "stream",
     "text": [
      "Train for 782 steps, validate for 78 steps\n",
      "Epoch 1/20\n",
      "782/782 - 9s - loss: 1.9731 - sparse_categorical_crossentropy: 1.6389 - sparse_categorical_accuracy: 0.3945 - scaled_adversarial_loss: 0.3343 - val_loss: 1.6796 - val_sparse_categorical_crossentropy: 1.3897 - val_sparse_categorical_accuracy: 0.5058 - val_scaled_adversarial_loss: 0.2899\n",
      "Epoch 2/20\n",
      "782/782 - 8s - loss: 1.5975 - sparse_categorical_crossentropy: 1.3237 - sparse_categorical_accuracy: 0.5254 - scaled_adversarial_loss: 0.2739 - val_loss: 1.5049 - val_sparse_categorical_crossentropy: 1.2405 - val_sparse_categorical_accuracy: 0.5635 - val_scaled_adversarial_loss: 0.2643\n",
      "Epoch 3/20\n",
      "782/782 - 8s - loss: 1.4509 - sparse_categorical_crossentropy: 1.2010 - sparse_categorical_accuracy: 0.5726 - scaled_adversarial_loss: 0.2499 - val_loss: 1.3901 - val_sparse_categorical_crossentropy: 1.1430 - val_sparse_categorical_accuracy: 0.6036 - val_scaled_adversarial_loss: 0.2471\n",
      "Epoch 4/20\n",
      "782/782 - 8s - loss: 1.3655 - sparse_categorical_crossentropy: 1.1284 - sparse_categorical_accuracy: 0.5977 - scaled_adversarial_loss: 0.2370 - val_loss: 1.3299 - val_sparse_categorical_crossentropy: 1.0911 - val_sparse_categorical_accuracy: 0.6160 - val_scaled_adversarial_loss: 0.2389\n",
      "Epoch 5/20\n",
      "782/782 - 7s - loss: 1.3087 - sparse_categorical_crossentropy: 1.0819 - sparse_categorical_accuracy: 0.6158 - scaled_adversarial_loss: 0.2268 - val_loss: 1.2782 - val_sparse_categorical_crossentropy: 1.0472 - val_sparse_categorical_accuracy: 0.6414 - val_scaled_adversarial_loss: 0.2309\n",
      "Epoch 6/20\n",
      "782/782 - 8s - loss: 1.2612 - sparse_categorical_crossentropy: 1.0413 - sparse_categorical_accuracy: 0.6299 - scaled_adversarial_loss: 0.2199 - val_loss: 1.2386 - val_sparse_categorical_crossentropy: 1.0126 - val_sparse_categorical_accuracy: 0.6518 - val_scaled_adversarial_loss: 0.2260\n",
      "Epoch 7/20\n",
      "782/782 - 8s - loss: 1.2142 - sparse_categorical_crossentropy: 1.0012 - sparse_categorical_accuracy: 0.6455 - scaled_adversarial_loss: 0.2130 - val_loss: 1.2717 - val_sparse_categorical_crossentropy: 1.0389 - val_sparse_categorical_accuracy: 0.6396 - val_scaled_adversarial_loss: 0.2328\n",
      "Epoch 8/20\n",
      "782/782 - 8s - loss: 1.1773 - sparse_categorical_crossentropy: 0.9701 - sparse_categorical_accuracy: 0.6545 - scaled_adversarial_loss: 0.2072 - val_loss: 1.1815 - val_sparse_categorical_crossentropy: 0.9631 - val_sparse_categorical_accuracy: 0.6705 - val_scaled_adversarial_loss: 0.2184\n",
      "Epoch 9/20\n",
      "782/782 - 7s - loss: 1.1547 - sparse_categorical_crossentropy: 0.9515 - sparse_categorical_accuracy: 0.6610 - scaled_adversarial_loss: 0.2033 - val_loss: 1.1779 - val_sparse_categorical_crossentropy: 0.9593 - val_sparse_categorical_accuracy: 0.6687 - val_scaled_adversarial_loss: 0.2185\n",
      "Epoch 10/20\n",
      "782/782 - 8s - loss: 1.1281 - sparse_categorical_crossentropy: 0.9286 - sparse_categorical_accuracy: 0.6686 - scaled_adversarial_loss: 0.1994 - val_loss: 1.1933 - val_sparse_categorical_crossentropy: 0.9715 - val_sparse_categorical_accuracy: 0.6651 - val_scaled_adversarial_loss: 0.2219\n",
      "Epoch 11/20\n",
      "782/782 - 9s - loss: 1.1010 - sparse_categorical_crossentropy: 0.9056 - sparse_categorical_accuracy: 0.6789 - scaled_adversarial_loss: 0.1954 - val_loss: 1.1935 - val_sparse_categorical_crossentropy: 0.9689 - val_sparse_categorical_accuracy: 0.6621 - val_scaled_adversarial_loss: 0.2246\n",
      "Epoch 12/20\n",
      "782/782 - 8s - loss: 1.0827 - sparse_categorical_crossentropy: 0.8910 - sparse_categorical_accuracy: 0.6840 - scaled_adversarial_loss: 0.1917 - val_loss: 1.1522 - val_sparse_categorical_crossentropy: 0.9353 - val_sparse_categorical_accuracy: 0.6671 - val_scaled_adversarial_loss: 0.2169\n",
      "Epoch 13/20\n",
      "782/782 - 8s - loss: 1.0647 - sparse_categorical_crossentropy: 0.8761 - sparse_categorical_accuracy: 0.6890 - scaled_adversarial_loss: 0.1886 - val_loss: 1.1336 - val_sparse_categorical_crossentropy: 0.9205 - val_sparse_categorical_accuracy: 0.6767 - val_scaled_adversarial_loss: 0.2130\n",
      "Epoch 14/20\n",
      "782/782 - 8s - loss: 1.0467 - sparse_categorical_crossentropy: 0.8615 - sparse_categorical_accuracy: 0.6968 - scaled_adversarial_loss: 0.1852 - val_loss: 1.1629 - val_sparse_categorical_crossentropy: 0.9434 - val_sparse_categorical_accuracy: 0.6737 - val_scaled_adversarial_loss: 0.2195\n",
      "Epoch 15/20\n",
      "782/782 - 8s - loss: 1.0285 - sparse_categorical_crossentropy: 0.8451 - sparse_categorical_accuracy: 0.7007 - scaled_adversarial_loss: 0.1834 - val_loss: 1.1145 - val_sparse_categorical_crossentropy: 0.9021 - val_sparse_categorical_accuracy: 0.6881 - val_scaled_adversarial_loss: 0.2124\n",
      "Epoch 16/20\n",
      "782/782 - 8s - loss: 1.0177 - sparse_categorical_crossentropy: 0.8366 - sparse_categorical_accuracy: 0.7026 - scaled_adversarial_loss: 0.1811 - val_loss: 1.0632 - val_sparse_categorical_crossentropy: 0.8594 - val_sparse_categorical_accuracy: 0.7045 - val_scaled_adversarial_loss: 0.2037\n",
      "Epoch 17/20\n",
      "782/782 - 7s - loss: 1.0010 - sparse_categorical_crossentropy: 0.8229 - sparse_categorical_accuracy: 0.7070 - scaled_adversarial_loss: 0.1781 - val_loss: 1.0747 - val_sparse_categorical_crossentropy: 0.8674 - val_sparse_categorical_accuracy: 0.7049 - val_scaled_adversarial_loss: 0.2073\n",
      "Epoch 18/20\n",
      "782/782 - 7s - loss: 0.9975 - sparse_categorical_crossentropy: 0.8198 - sparse_categorical_accuracy: 0.7106 - scaled_adversarial_loss: 0.1776 - val_loss: 1.0434 - val_sparse_categorical_crossentropy: 0.8417 - val_sparse_categorical_accuracy: 0.7115 - val_scaled_adversarial_loss: 0.2017\n",
      "Epoch 19/20\n",
      "782/782 - 9s - loss: 0.9762 - sparse_categorical_crossentropy: 0.8015 - sparse_categorical_accuracy: 0.7178 - scaled_adversarial_loss: 0.1747 - val_loss: 1.0794 - val_sparse_categorical_crossentropy: 0.8706 - val_sparse_categorical_accuracy: 0.7027 - val_scaled_adversarial_loss: 0.2088\n",
      "Epoch 20/20\n",
      "782/782 - 8s - loss: 0.9675 - sparse_categorical_crossentropy: 0.7944 - sparse_categorical_accuracy: 0.7200 - scaled_adversarial_loss: 0.1731 - val_loss: 1.0621 - val_sparse_categorical_crossentropy: 0.8553 - val_sparse_categorical_accuracy: 0.7059 - val_scaled_adversarial_loss: 0.2068\n"
     ]
    },
    {
     "data": {
      "text/plain": [
       "<tensorflow.python.keras.callbacks.History at 0x7f00f45198d0>"
      ]
     },
     "execution_count": 30,
     "metadata": {},
     "output_type": "execute_result"
    }
   ],
   "source": [
    "train2=tf.data.Dataset.from_tensor_slices(\n",
    "    {'input':x_train2,'label':y_train2}).batch(batch_size)\n",
    "valid2=tf.data.Dataset.from_tensor_slices(\n",
    "    {'input':x_valid2,'label':y_valid2}).batch(batch_size)\n",
    "valid_steps=x_valid2.shape[0]//batch_size\n",
    "adv_model.fit(train2,validation_data=valid2,verbose=2,\n",
    "              validation_steps=valid_steps,epochs=epochs)"
   ]
  },
  {
   "cell_type": "code",
   "execution_count": 31,
   "metadata": {
    "papermill": {
     "duration": 1.503375,
     "end_time": "2021-01-08T21:00:23.956732",
     "exception": false,
     "start_time": "2021-01-08T21:00:22.453357",
     "status": "completed"
    },
    "tags": []
   },
   "outputs": [
    {
     "name": "stdout",
     "output_type": "stream",
     "text": [
      "5000/5000 [==============================] - 1s 212us/sample - loss: 1.0914 - sparse_categorical_crossentropy: 0.8784 - sparse_categorical_accuracy: 0.6896 - scaled_adversarial_loss: 0.2131\n"
     ]
    },
    {
     "data": {
      "text/plain": [
       "[1.0914077386856078, 0.87841755, 0.6896, 0.21311697]"
      ]
     },
     "execution_count": 31,
     "metadata": {},
     "output_type": "execute_result"
    }
   ],
   "source": [
    "adv_model.evaluate({'input':x_test2,'label':y_test2})"
   ]
  },
  {
   "cell_type": "code",
   "execution_count": 32,
   "metadata": {
    "papermill": {
     "duration": 0.406759,
     "end_time": "2021-01-08T21:00:24.616716",
     "exception": false,
     "start_time": "2021-01-08T21:00:24.209957",
     "status": "completed"
    },
    "tags": []
   },
   "outputs": [],
   "source": [
    "batch_size=128; img_size=32; n_class=33; epochs=150\n",
    "base_model=tf.keras.Sequential([\n",
    "    tf.keras.Input((img_size,img_size,3),name='input'),\n",
    "    tf.keras.layers.Conv2D(32,(5,5),padding='same'),\n",
    "    tf.keras.layers.Activation('relu'),\n",
    "    tf.keras.layers.MaxPooling2D(pool_size=(2,2)),\n",
    "    tf.keras.layers.Dropout(.25),\n",
    "    tf.keras.layers.Conv2D(196,(5,5)),\n",
    "    tf.keras.layers.Activation('relu'),    \n",
    "    tf.keras.layers.MaxPooling2D(pool_size=(2,2)),\n",
    "    tf.keras.layers.Dropout(.25),\n",
    "    tf.keras.layers.GlobalMaxPooling2D(),    \n",
    "    tf.keras.layers.Dense(512),\n",
    "    tf.keras.layers.Activation('relu'),\n",
    "    tf.keras.layers.Dropout(.25),\n",
    "    tf.keras.layers.Dense(33,activation='softmax')\n",
    "])\n",
    "adv_config=nsl.configs\\\n",
    ".make_adv_reg_config(multiplier=.2,adv_step_size=.05)\n",
    "adv_model=nsl.keras\\\n",
    ".AdversarialRegularization(base_model,adv_config=adv_config)\n",
    "adv_model.compile(optimizer='adam',\n",
    "                  loss='sparse_categorical_crossentropy',\n",
    "                  metrics=['accuracy'])"
   ]
  },
  {
   "cell_type": "code",
   "execution_count": 33,
   "metadata": {
    "_kg_hide-output": true,
    "papermill": {
     "duration": 227.820548,
     "end_time": "2021-01-08T21:04:12.691302",
     "exception": false,
     "start_time": "2021-01-08T21:00:24.870754",
     "status": "completed"
    },
    "tags": []
   },
   "outputs": [
    {
     "name": "stdout",
     "output_type": "stream",
     "text": [
      "Train for 89 steps, validate for 11 steps\n",
      "Epoch 1/150\n",
      "89/89 - 3s - loss: 4.1937 - sparse_categorical_crossentropy: 3.4947 - sparse_categorical_accuracy: 0.0283 - scaled_adversarial_loss: 0.6990 - val_loss: 4.1836 - val_sparse_categorical_crossentropy: 3.4862 - val_sparse_categorical_accuracy: 0.0355 - val_scaled_adversarial_loss: 0.6975\n",
      "Epoch 2/150\n",
      "89/89 - 1s - loss: 4.1413 - sparse_categorical_crossentropy: 3.4506 - sparse_categorical_accuracy: 0.0483 - scaled_adversarial_loss: 0.6907 - val_loss: 4.0710 - val_sparse_categorical_crossentropy: 3.3907 - val_sparse_categorical_accuracy: 0.0561 - val_scaled_adversarial_loss: 0.6803\n",
      "Epoch 3/150\n",
      "89/89 - 1s - loss: 4.0365 - sparse_categorical_crossentropy: 3.3615 - sparse_categorical_accuracy: 0.0681 - scaled_adversarial_loss: 0.6750 - val_loss: 4.0231 - val_sparse_categorical_crossentropy: 3.3501 - val_sparse_categorical_accuracy: 0.0817 - val_scaled_adversarial_loss: 0.6730\n",
      "Epoch 4/150\n",
      "89/89 - 1s - loss: 3.9493 - sparse_categorical_crossentropy: 3.2881 - sparse_categorical_accuracy: 0.0742 - scaled_adversarial_loss: 0.6612 - val_loss: 3.9254 - val_sparse_categorical_crossentropy: 3.2664 - val_sparse_categorical_accuracy: 0.0795 - val_scaled_adversarial_loss: 0.6590\n",
      "Epoch 5/150\n",
      "89/89 - 1s - loss: 3.8542 - sparse_categorical_crossentropy: 3.2068 - sparse_categorical_accuracy: 0.0855 - scaled_adversarial_loss: 0.6474 - val_loss: 3.8344 - val_sparse_categorical_crossentropy: 3.1887 - val_sparse_categorical_accuracy: 0.0916 - val_scaled_adversarial_loss: 0.6458\n",
      "Epoch 6/150\n",
      "89/89 - 1s - loss: 3.7500 - sparse_categorical_crossentropy: 3.1177 - sparse_categorical_accuracy: 0.0954 - scaled_adversarial_loss: 0.6323 - val_loss: 3.7577 - val_sparse_categorical_crossentropy: 3.1227 - val_sparse_categorical_accuracy: 0.1058 - val_scaled_adversarial_loss: 0.6350\n",
      "Epoch 7/150\n",
      "89/89 - 1s - loss: 3.6683 - sparse_categorical_crossentropy: 3.0476 - sparse_categorical_accuracy: 0.1139 - scaled_adversarial_loss: 0.6207 - val_loss: 3.6844 - val_sparse_categorical_crossentropy: 3.0590 - val_sparse_categorical_accuracy: 0.1229 - val_scaled_adversarial_loss: 0.6255\n",
      "Epoch 8/150\n",
      "89/89 - 2s - loss: 3.5360 - sparse_categorical_crossentropy: 2.9349 - sparse_categorical_accuracy: 0.1431 - scaled_adversarial_loss: 0.6011 - val_loss: 3.5577 - val_sparse_categorical_crossentropy: 2.9487 - val_sparse_categorical_accuracy: 0.1562 - val_scaled_adversarial_loss: 0.6089\n",
      "Epoch 9/150\n",
      "89/89 - 1s - loss: 3.3831 - sparse_categorical_crossentropy: 2.8051 - sparse_categorical_accuracy: 0.1854 - scaled_adversarial_loss: 0.5780 - val_loss: 3.3506 - val_sparse_categorical_crossentropy: 2.7721 - val_sparse_categorical_accuracy: 0.2180 - val_scaled_adversarial_loss: 0.5785\n",
      "Epoch 10/150\n",
      "89/89 - 2s - loss: 3.2127 - sparse_categorical_crossentropy: 2.6600 - sparse_categorical_accuracy: 0.2178 - scaled_adversarial_loss: 0.5528 - val_loss: 3.1642 - val_sparse_categorical_crossentropy: 2.6122 - val_sparse_categorical_accuracy: 0.2678 - val_scaled_adversarial_loss: 0.5520\n",
      "Epoch 11/150\n",
      "89/89 - 2s - loss: 3.0209 - sparse_categorical_crossentropy: 2.4970 - sparse_categorical_accuracy: 0.2589 - scaled_adversarial_loss: 0.5239 - val_loss: 3.0812 - val_sparse_categorical_crossentropy: 2.5413 - val_sparse_categorical_accuracy: 0.2869 - val_scaled_adversarial_loss: 0.5399\n",
      "Epoch 12/150\n",
      "89/89 - 1s - loss: 2.8856 - sparse_categorical_crossentropy: 2.3802 - sparse_categorical_accuracy: 0.2918 - scaled_adversarial_loss: 0.5053 - val_loss: 2.8908 - val_sparse_categorical_crossentropy: 2.3804 - val_sparse_categorical_accuracy: 0.3324 - val_scaled_adversarial_loss: 0.5104\n",
      "Epoch 13/150\n",
      "89/89 - 1s - loss: 2.7438 - sparse_categorical_crossentropy: 2.2636 - sparse_categorical_accuracy: 0.3254 - scaled_adversarial_loss: 0.4802 - val_loss: 2.7095 - val_sparse_categorical_crossentropy: 2.2246 - val_sparse_categorical_accuracy: 0.3700 - val_scaled_adversarial_loss: 0.4850\n",
      "Epoch 14/150\n",
      "89/89 - 1s - loss: 2.6257 - sparse_categorical_crossentropy: 2.1633 - sparse_categorical_accuracy: 0.3508 - scaled_adversarial_loss: 0.4624 - val_loss: 2.6210 - val_sparse_categorical_crossentropy: 2.1496 - val_sparse_categorical_accuracy: 0.3849 - val_scaled_adversarial_loss: 0.4714\n",
      "Epoch 15/150\n",
      "89/89 - 1s - loss: 2.4999 - sparse_categorical_crossentropy: 2.0582 - sparse_categorical_accuracy: 0.3790 - scaled_adversarial_loss: 0.4417 - val_loss: 2.5090 - val_sparse_categorical_crossentropy: 2.0532 - val_sparse_categorical_accuracy: 0.4062 - val_scaled_adversarial_loss: 0.4558\n",
      "Epoch 16/150\n",
      "89/89 - 2s - loss: 2.4043 - sparse_categorical_crossentropy: 1.9745 - sparse_categorical_accuracy: 0.4045 - scaled_adversarial_loss: 0.4298 - val_loss: 2.3282 - val_sparse_categorical_crossentropy: 1.9011 - val_sparse_categorical_accuracy: 0.4830 - val_scaled_adversarial_loss: 0.4271\n",
      "Epoch 17/150\n",
      "89/89 - 1s - loss: 2.2965 - sparse_categorical_crossentropy: 1.8863 - sparse_categorical_accuracy: 0.4286 - scaled_adversarial_loss: 0.4102 - val_loss: 2.2199 - val_sparse_categorical_crossentropy: 1.8086 - val_sparse_categorical_accuracy: 0.4993 - val_scaled_adversarial_loss: 0.4113\n",
      "Epoch 18/150\n",
      "89/89 - 1s - loss: 2.1840 - sparse_categorical_crossentropy: 1.7932 - sparse_categorical_accuracy: 0.4557 - scaled_adversarial_loss: 0.3907 - val_loss: 2.1001 - val_sparse_categorical_crossentropy: 1.7074 - val_sparse_categorical_accuracy: 0.5298 - val_scaled_adversarial_loss: 0.3927\n",
      "Epoch 19/150\n",
      "89/89 - 1s - loss: 2.0941 - sparse_categorical_crossentropy: 1.7184 - sparse_categorical_accuracy: 0.4787 - scaled_adversarial_loss: 0.3758 - val_loss: 2.0193 - val_sparse_categorical_crossentropy: 1.6395 - val_sparse_categorical_accuracy: 0.5412 - val_scaled_adversarial_loss: 0.3797\n",
      "Epoch 20/150\n",
      "89/89 - 1s - loss: 2.0205 - sparse_categorical_crossentropy: 1.6555 - sparse_categorical_accuracy: 0.4959 - scaled_adversarial_loss: 0.3650 - val_loss: 1.8887 - val_sparse_categorical_crossentropy: 1.5309 - val_sparse_categorical_accuracy: 0.5810 - val_scaled_adversarial_loss: 0.3579\n",
      "Epoch 21/150\n",
      "89/89 - 1s - loss: 1.9186 - sparse_categorical_crossentropy: 1.5703 - sparse_categorical_accuracy: 0.5271 - scaled_adversarial_loss: 0.3483 - val_loss: 1.7721 - val_sparse_categorical_crossentropy: 1.4312 - val_sparse_categorical_accuracy: 0.6030 - val_scaled_adversarial_loss: 0.3408\n",
      "Epoch 22/150\n",
      "89/89 - 1s - loss: 1.8395 - sparse_categorical_crossentropy: 1.5053 - sparse_categorical_accuracy: 0.5419 - scaled_adversarial_loss: 0.3342 - val_loss: 1.7447 - val_sparse_categorical_crossentropy: 1.4069 - val_sparse_categorical_accuracy: 0.6051 - val_scaled_adversarial_loss: 0.3378\n",
      "Epoch 23/150\n",
      "89/89 - 2s - loss: 1.7732 - sparse_categorical_crossentropy: 1.4457 - sparse_categorical_accuracy: 0.5584 - scaled_adversarial_loss: 0.3275 - val_loss: 1.6707 - val_sparse_categorical_crossentropy: 1.3417 - val_sparse_categorical_accuracy: 0.6371 - val_scaled_adversarial_loss: 0.3289\n",
      "Epoch 24/150\n",
      "89/89 - 1s - loss: 1.7062 - sparse_categorical_crossentropy: 1.3947 - sparse_categorical_accuracy: 0.5710 - scaled_adversarial_loss: 0.3115 - val_loss: 1.5531 - val_sparse_categorical_crossentropy: 1.2462 - val_sparse_categorical_accuracy: 0.6584 - val_scaled_adversarial_loss: 0.3069\n",
      "Epoch 25/150\n",
      "89/89 - 1s - loss: 1.6228 - sparse_categorical_crossentropy: 1.3219 - sparse_categorical_accuracy: 0.5976 - scaled_adversarial_loss: 0.3009 - val_loss: 1.4696 - val_sparse_categorical_crossentropy: 1.1767 - val_sparse_categorical_accuracy: 0.6882 - val_scaled_adversarial_loss: 0.2928\n",
      "Epoch 26/150\n",
      "89/89 - 1s - loss: 1.5868 - sparse_categorical_crossentropy: 1.2941 - sparse_categorical_accuracy: 0.6061 - scaled_adversarial_loss: 0.2927 - val_loss: 1.4007 - val_sparse_categorical_crossentropy: 1.1203 - val_sparse_categorical_accuracy: 0.6989 - val_scaled_adversarial_loss: 0.2804\n",
      "Epoch 27/150\n",
      "89/89 - 1s - loss: 1.5014 - sparse_categorical_crossentropy: 1.2209 - sparse_categorical_accuracy: 0.6269 - scaled_adversarial_loss: 0.2806 - val_loss: 1.3679 - val_sparse_categorical_crossentropy: 1.0944 - val_sparse_categorical_accuracy: 0.6982 - val_scaled_adversarial_loss: 0.2734\n",
      "Epoch 28/150\n",
      "89/89 - 1s - loss: 1.4726 - sparse_categorical_crossentropy: 1.1987 - sparse_categorical_accuracy: 0.6372 - scaled_adversarial_loss: 0.2739 - val_loss: 1.3116 - val_sparse_categorical_crossentropy: 1.0481 - val_sparse_categorical_accuracy: 0.7266 - val_scaled_adversarial_loss: 0.2636\n",
      "Epoch 29/150\n",
      "89/89 - 2s - loss: 1.4318 - sparse_categorical_crossentropy: 1.1630 - sparse_categorical_accuracy: 0.6477 - scaled_adversarial_loss: 0.2688 - val_loss: 1.2762 - val_sparse_categorical_crossentropy: 1.0131 - val_sparse_categorical_accuracy: 0.7244 - val_scaled_adversarial_loss: 0.2631\n",
      "Epoch 30/150\n",
      "89/89 - 2s - loss: 1.3632 - sparse_categorical_crossentropy: 1.1088 - sparse_categorical_accuracy: 0.6583 - scaled_adversarial_loss: 0.2544 - val_loss: 1.2018 - val_sparse_categorical_crossentropy: 0.9562 - val_sparse_categorical_accuracy: 0.7472 - val_scaled_adversarial_loss: 0.2456\n",
      "Epoch 31/150\n",
      "89/89 - 2s - loss: 1.3462 - sparse_categorical_crossentropy: 1.0953 - sparse_categorical_accuracy: 0.6643 - scaled_adversarial_loss: 0.2509 - val_loss: 1.2157 - val_sparse_categorical_crossentropy: 0.9662 - val_sparse_categorical_accuracy: 0.7401 - val_scaled_adversarial_loss: 0.2496\n",
      "Epoch 32/150\n",
      "89/89 - 2s - loss: 1.2818 - sparse_categorical_crossentropy: 1.0387 - sparse_categorical_accuracy: 0.6808 - scaled_adversarial_loss: 0.2431 - val_loss: 1.1368 - val_sparse_categorical_crossentropy: 0.9006 - val_sparse_categorical_accuracy: 0.7592 - val_scaled_adversarial_loss: 0.2361\n",
      "Epoch 33/150\n",
      "89/89 - 2s - loss: 1.2545 - sparse_categorical_crossentropy: 1.0195 - sparse_categorical_accuracy: 0.6861 - scaled_adversarial_loss: 0.2350 - val_loss: 1.1248 - val_sparse_categorical_crossentropy: 0.8913 - val_sparse_categorical_accuracy: 0.7592 - val_scaled_adversarial_loss: 0.2335\n",
      "Epoch 34/150\n",
      "89/89 - 1s - loss: 1.2252 - sparse_categorical_crossentropy: 0.9951 - sparse_categorical_accuracy: 0.6939 - scaled_adversarial_loss: 0.2301 - val_loss: 1.0852 - val_sparse_categorical_crossentropy: 0.8583 - val_sparse_categorical_accuracy: 0.7550 - val_scaled_adversarial_loss: 0.2269\n",
      "Epoch 35/150\n",
      "89/89 - 1s - loss: 1.1910 - sparse_categorical_crossentropy: 0.9640 - sparse_categorical_accuracy: 0.7057 - scaled_adversarial_loss: 0.2270 - val_loss: 1.0462 - val_sparse_categorical_crossentropy: 0.8222 - val_sparse_categorical_accuracy: 0.7727 - val_scaled_adversarial_loss: 0.2240\n",
      "Epoch 36/150\n",
      "89/89 - 1s - loss: 1.1728 - sparse_categorical_crossentropy: 0.9497 - sparse_categorical_accuracy: 0.7097 - scaled_adversarial_loss: 0.2231 - val_loss: 0.9774 - val_sparse_categorical_crossentropy: 0.7671 - val_sparse_categorical_accuracy: 0.7884 - val_scaled_adversarial_loss: 0.2103\n",
      "Epoch 37/150\n",
      "89/89 - 2s - loss: 1.1416 - sparse_categorical_crossentropy: 0.9242 - sparse_categorical_accuracy: 0.7114 - scaled_adversarial_loss: 0.2175 - val_loss: 0.9696 - val_sparse_categorical_crossentropy: 0.7606 - val_sparse_categorical_accuracy: 0.7919 - val_scaled_adversarial_loss: 0.2090\n",
      "Epoch 38/150\n",
      "89/89 - 2s - loss: 1.0943 - sparse_categorical_crossentropy: 0.8824 - sparse_categorical_accuracy: 0.7308 - scaled_adversarial_loss: 0.2120 - val_loss: 0.9741 - val_sparse_categorical_crossentropy: 0.7650 - val_sparse_categorical_accuracy: 0.7919 - val_scaled_adversarial_loss: 0.2091\n",
      "Epoch 39/150\n",
      "89/89 - 1s - loss: 1.0668 - sparse_categorical_crossentropy: 0.8616 - sparse_categorical_accuracy: 0.7328 - scaled_adversarial_loss: 0.2052 - val_loss: 0.9074 - val_sparse_categorical_crossentropy: 0.7111 - val_sparse_categorical_accuracy: 0.8018 - val_scaled_adversarial_loss: 0.1963\n",
      "Epoch 40/150\n",
      "89/89 - 1s - loss: 1.0299 - sparse_categorical_crossentropy: 0.8281 - sparse_categorical_accuracy: 0.7474 - scaled_adversarial_loss: 0.2018 - val_loss: 0.8944 - val_sparse_categorical_crossentropy: 0.6994 - val_sparse_categorical_accuracy: 0.8161 - val_scaled_adversarial_loss: 0.1950\n",
      "Epoch 41/150\n",
      "89/89 - 1s - loss: 1.0022 - sparse_categorical_crossentropy: 0.8061 - sparse_categorical_accuracy: 0.7508 - scaled_adversarial_loss: 0.1961 - val_loss: 0.8801 - val_sparse_categorical_crossentropy: 0.6853 - val_sparse_categorical_accuracy: 0.8104 - val_scaled_adversarial_loss: 0.1947\n",
      "Epoch 42/150\n",
      "89/89 - 2s - loss: 0.9949 - sparse_categorical_crossentropy: 0.8051 - sparse_categorical_accuracy: 0.7508 - scaled_adversarial_loss: 0.1898 - val_loss: 0.8404 - val_sparse_categorical_crossentropy: 0.6544 - val_sparse_categorical_accuracy: 0.8203 - val_scaled_adversarial_loss: 0.1860\n",
      "Epoch 43/150\n",
      "89/89 - 1s - loss: 0.9624 - sparse_categorical_crossentropy: 0.7735 - sparse_categorical_accuracy: 0.7635 - scaled_adversarial_loss: 0.1889 - val_loss: 0.8256 - val_sparse_categorical_crossentropy: 0.6434 - val_sparse_categorical_accuracy: 0.8232 - val_scaled_adversarial_loss: 0.1821\n",
      "Epoch 44/150\n",
      "89/89 - 1s - loss: 0.9605 - sparse_categorical_crossentropy: 0.7741 - sparse_categorical_accuracy: 0.7588 - scaled_adversarial_loss: 0.1864 - val_loss: 0.7977 - val_sparse_categorical_crossentropy: 0.6189 - val_sparse_categorical_accuracy: 0.8232 - val_scaled_adversarial_loss: 0.1789\n",
      "Epoch 45/150\n",
      "89/89 - 2s - loss: 0.9324 - sparse_categorical_crossentropy: 0.7515 - sparse_categorical_accuracy: 0.7689 - scaled_adversarial_loss: 0.1809 - val_loss: 0.7876 - val_sparse_categorical_crossentropy: 0.6122 - val_sparse_categorical_accuracy: 0.8224 - val_scaled_adversarial_loss: 0.1755\n",
      "Epoch 46/150\n",
      "89/89 - 1s - loss: 0.9199 - sparse_categorical_crossentropy: 0.7435 - sparse_categorical_accuracy: 0.7730 - scaled_adversarial_loss: 0.1765 - val_loss: 0.7944 - val_sparse_categorical_crossentropy: 0.6191 - val_sparse_categorical_accuracy: 0.8317 - val_scaled_adversarial_loss: 0.1753\n",
      "Epoch 47/150\n",
      "89/89 - 1s - loss: 0.9003 - sparse_categorical_crossentropy: 0.7269 - sparse_categorical_accuracy: 0.7747 - scaled_adversarial_loss: 0.1735 - val_loss: 0.7817 - val_sparse_categorical_crossentropy: 0.6073 - val_sparse_categorical_accuracy: 0.8338 - val_scaled_adversarial_loss: 0.1744\n",
      "Epoch 48/150\n",
      "89/89 - 1s - loss: 0.8768 - sparse_categorical_crossentropy: 0.7053 - sparse_categorical_accuracy: 0.7835 - scaled_adversarial_loss: 0.1715 - val_loss: 0.7808 - val_sparse_categorical_crossentropy: 0.6055 - val_sparse_categorical_accuracy: 0.8303 - val_scaled_adversarial_loss: 0.1753\n",
      "Epoch 49/150\n",
      "89/89 - 1s - loss: 0.8761 - sparse_categorical_crossentropy: 0.7046 - sparse_categorical_accuracy: 0.7814 - scaled_adversarial_loss: 0.1716 - val_loss: 0.7382 - val_sparse_categorical_crossentropy: 0.5691 - val_sparse_categorical_accuracy: 0.8452 - val_scaled_adversarial_loss: 0.1691\n",
      "Epoch 50/150\n",
      "89/89 - 1s - loss: 0.8452 - sparse_categorical_crossentropy: 0.6813 - sparse_categorical_accuracy: 0.7848 - scaled_adversarial_loss: 0.1639 - val_loss: 0.7408 - val_sparse_categorical_crossentropy: 0.5732 - val_sparse_categorical_accuracy: 0.8395 - val_scaled_adversarial_loss: 0.1676\n",
      "Epoch 51/150\n",
      "89/89 - 1s - loss: 0.8219 - sparse_categorical_crossentropy: 0.6590 - sparse_categorical_accuracy: 0.7926 - scaled_adversarial_loss: 0.1629 - val_loss: 0.7162 - val_sparse_categorical_crossentropy: 0.5528 - val_sparse_categorical_accuracy: 0.8473 - val_scaled_adversarial_loss: 0.1633\n",
      "Epoch 52/150\n",
      "89/89 - 2s - loss: 0.8184 - sparse_categorical_crossentropy: 0.6568 - sparse_categorical_accuracy: 0.7955 - scaled_adversarial_loss: 0.1616 - val_loss: 0.7206 - val_sparse_categorical_crossentropy: 0.5565 - val_sparse_categorical_accuracy: 0.8416 - val_scaled_adversarial_loss: 0.1640\n",
      "Epoch 53/150\n",
      "89/89 - 2s - loss: 0.7912 - sparse_categorical_crossentropy: 0.6362 - sparse_categorical_accuracy: 0.8013 - scaled_adversarial_loss: 0.1550 - val_loss: 0.6916 - val_sparse_categorical_crossentropy: 0.5312 - val_sparse_categorical_accuracy: 0.8509 - val_scaled_adversarial_loss: 0.1604\n",
      "Epoch 54/150\n",
      "89/89 - 1s - loss: 0.7939 - sparse_categorical_crossentropy: 0.6350 - sparse_categorical_accuracy: 0.8025 - scaled_adversarial_loss: 0.1589 - val_loss: 0.7589 - val_sparse_categorical_crossentropy: 0.5847 - val_sparse_categorical_accuracy: 0.8366 - val_scaled_adversarial_loss: 0.1743\n",
      "Epoch 55/150\n",
      "89/89 - 1s - loss: 0.8019 - sparse_categorical_crossentropy: 0.6431 - sparse_categorical_accuracy: 0.7980 - scaled_adversarial_loss: 0.1587 - val_loss: 0.6727 - val_sparse_categorical_crossentropy: 0.5151 - val_sparse_categorical_accuracy: 0.8572 - val_scaled_adversarial_loss: 0.1577\n",
      "Epoch 56/150\n",
      "89/89 - 1s - loss: 0.7866 - sparse_categorical_crossentropy: 0.6303 - sparse_categorical_accuracy: 0.8026 - scaled_adversarial_loss: 0.1562 - val_loss: 0.7203 - val_sparse_categorical_crossentropy: 0.5544 - val_sparse_categorical_accuracy: 0.8430 - val_scaled_adversarial_loss: 0.1659\n",
      "Epoch 57/150\n",
      "89/89 - 1s - loss: 0.7613 - sparse_categorical_crossentropy: 0.6101 - sparse_categorical_accuracy: 0.8082 - scaled_adversarial_loss: 0.1512 - val_loss: 0.6716 - val_sparse_categorical_crossentropy: 0.5161 - val_sparse_categorical_accuracy: 0.8558 - val_scaled_adversarial_loss: 0.1554\n",
      "Epoch 58/150\n",
      "89/89 - 1s - loss: 0.7498 - sparse_categorical_crossentropy: 0.5977 - sparse_categorical_accuracy: 0.8112 - scaled_adversarial_loss: 0.1521 - val_loss: 0.6748 - val_sparse_categorical_crossentropy: 0.5183 - val_sparse_categorical_accuracy: 0.8551 - val_scaled_adversarial_loss: 0.1565\n",
      "Epoch 59/150\n",
      "89/89 - 2s - loss: 0.7246 - sparse_categorical_crossentropy: 0.5785 - sparse_categorical_accuracy: 0.8211 - scaled_adversarial_loss: 0.1461 - val_loss: 0.6544 - val_sparse_categorical_crossentropy: 0.4995 - val_sparse_categorical_accuracy: 0.8629 - val_scaled_adversarial_loss: 0.1548\n",
      "Epoch 60/150\n",
      "89/89 - 2s - loss: 0.7229 - sparse_categorical_crossentropy: 0.5768 - sparse_categorical_accuracy: 0.8189 - scaled_adversarial_loss: 0.1460 - val_loss: 0.6675 - val_sparse_categorical_crossentropy: 0.5101 - val_sparse_categorical_accuracy: 0.8523 - val_scaled_adversarial_loss: 0.1574\n",
      "Epoch 61/150\n",
      "89/89 - 1s - loss: 0.7168 - sparse_categorical_crossentropy: 0.5741 - sparse_categorical_accuracy: 0.8192 - scaled_adversarial_loss: 0.1428 - val_loss: 0.6728 - val_sparse_categorical_crossentropy: 0.5147 - val_sparse_categorical_accuracy: 0.8516 - val_scaled_adversarial_loss: 0.1581\n",
      "Epoch 62/150\n",
      "89/89 - 1s - loss: 0.6837 - sparse_categorical_crossentropy: 0.5450 - sparse_categorical_accuracy: 0.8296 - scaled_adversarial_loss: 0.1388 - val_loss: 0.6344 - val_sparse_categorical_crossentropy: 0.4837 - val_sparse_categorical_accuracy: 0.8636 - val_scaled_adversarial_loss: 0.1507\n",
      "Epoch 63/150\n",
      "89/89 - 1s - loss: 0.6976 - sparse_categorical_crossentropy: 0.5587 - sparse_categorical_accuracy: 0.8253 - scaled_adversarial_loss: 0.1389 - val_loss: 0.6425 - val_sparse_categorical_crossentropy: 0.4914 - val_sparse_categorical_accuracy: 0.8622 - val_scaled_adversarial_loss: 0.1511\n",
      "Epoch 64/150\n",
      "89/89 - 1s - loss: 0.7021 - sparse_categorical_crossentropy: 0.5598 - sparse_categorical_accuracy: 0.8256 - scaled_adversarial_loss: 0.1423 - val_loss: 0.6212 - val_sparse_categorical_crossentropy: 0.4741 - val_sparse_categorical_accuracy: 0.8722 - val_scaled_adversarial_loss: 0.1472\n",
      "Epoch 65/150\n",
      "89/89 - 1s - loss: 0.6587 - sparse_categorical_crossentropy: 0.5253 - sparse_categorical_accuracy: 0.8325 - scaled_adversarial_loss: 0.1334 - val_loss: 0.6113 - val_sparse_categorical_crossentropy: 0.4650 - val_sparse_categorical_accuracy: 0.8693 - val_scaled_adversarial_loss: 0.1463\n",
      "Epoch 66/150\n",
      "89/89 - 1s - loss: 0.6494 - sparse_categorical_crossentropy: 0.5171 - sparse_categorical_accuracy: 0.8376 - scaled_adversarial_loss: 0.1323 - val_loss: 0.5893 - val_sparse_categorical_crossentropy: 0.4476 - val_sparse_categorical_accuracy: 0.8722 - val_scaled_adversarial_loss: 0.1417\n",
      "Epoch 67/150\n",
      "89/89 - 2s - loss: 0.6417 - sparse_categorical_crossentropy: 0.5111 - sparse_categorical_accuracy: 0.8388 - scaled_adversarial_loss: 0.1305 - val_loss: 0.5842 - val_sparse_categorical_crossentropy: 0.4418 - val_sparse_categorical_accuracy: 0.8771 - val_scaled_adversarial_loss: 0.1424\n",
      "Epoch 68/150\n",
      "89/89 - 1s - loss: 0.6457 - sparse_categorical_crossentropy: 0.5142 - sparse_categorical_accuracy: 0.8372 - scaled_adversarial_loss: 0.1314 - val_loss: 0.6196 - val_sparse_categorical_crossentropy: 0.4731 - val_sparse_categorical_accuracy: 0.8544 - val_scaled_adversarial_loss: 0.1465\n",
      "Epoch 69/150\n",
      "89/89 - 2s - loss: 0.6207 - sparse_categorical_crossentropy: 0.4926 - sparse_categorical_accuracy: 0.8434 - scaled_adversarial_loss: 0.1281 - val_loss: 0.6224 - val_sparse_categorical_crossentropy: 0.4745 - val_sparse_categorical_accuracy: 0.8622 - val_scaled_adversarial_loss: 0.1479\n",
      "Epoch 70/150\n",
      "89/89 - 2s - loss: 0.6438 - sparse_categorical_crossentropy: 0.5117 - sparse_categorical_accuracy: 0.8399 - scaled_adversarial_loss: 0.1321 - val_loss: 0.6252 - val_sparse_categorical_crossentropy: 0.4763 - val_sparse_categorical_accuracy: 0.8565 - val_scaled_adversarial_loss: 0.1489\n",
      "Epoch 71/150\n",
      "89/89 - 1s - loss: 0.6305 - sparse_categorical_crossentropy: 0.5050 - sparse_categorical_accuracy: 0.8391 - scaled_adversarial_loss: 0.1254 - val_loss: 0.5913 - val_sparse_categorical_crossentropy: 0.4501 - val_sparse_categorical_accuracy: 0.8736 - val_scaled_adversarial_loss: 0.1413\n",
      "Epoch 72/150\n",
      "89/89 - 1s - loss: 0.6161 - sparse_categorical_crossentropy: 0.4902 - sparse_categorical_accuracy: 0.8418 - scaled_adversarial_loss: 0.1259 - val_loss: 0.6064 - val_sparse_categorical_crossentropy: 0.4600 - val_sparse_categorical_accuracy: 0.8672 - val_scaled_adversarial_loss: 0.1464\n",
      "Epoch 73/150\n",
      "89/89 - 2s - loss: 0.6130 - sparse_categorical_crossentropy: 0.4884 - sparse_categorical_accuracy: 0.8479 - scaled_adversarial_loss: 0.1245 - val_loss: 0.5806 - val_sparse_categorical_crossentropy: 0.4394 - val_sparse_categorical_accuracy: 0.8800 - val_scaled_adversarial_loss: 0.1412\n",
      "Epoch 74/150\n",
      "89/89 - 2s - loss: 0.6086 - sparse_categorical_crossentropy: 0.4837 - sparse_categorical_accuracy: 0.8469 - scaled_adversarial_loss: 0.1249 - val_loss: 0.6000 - val_sparse_categorical_crossentropy: 0.4557 - val_sparse_categorical_accuracy: 0.8736 - val_scaled_adversarial_loss: 0.1444\n",
      "Epoch 75/150\n",
      "89/89 - 2s - loss: 0.6281 - sparse_categorical_crossentropy: 0.4999 - sparse_categorical_accuracy: 0.8400 - scaled_adversarial_loss: 0.1282 - val_loss: 0.5743 - val_sparse_categorical_crossentropy: 0.4343 - val_sparse_categorical_accuracy: 0.8693 - val_scaled_adversarial_loss: 0.1400\n",
      "Epoch 76/150\n",
      "89/89 - 1s - loss: 0.5833 - sparse_categorical_crossentropy: 0.4619 - sparse_categorical_accuracy: 0.8556 - scaled_adversarial_loss: 0.1214 - val_loss: 0.5747 - val_sparse_categorical_crossentropy: 0.4322 - val_sparse_categorical_accuracy: 0.8743 - val_scaled_adversarial_loss: 0.1424\n",
      "Epoch 77/150\n",
      "89/89 - 1s - loss: 0.5840 - sparse_categorical_crossentropy: 0.4621 - sparse_categorical_accuracy: 0.8525 - scaled_adversarial_loss: 0.1219 - val_loss: 0.5570 - val_sparse_categorical_crossentropy: 0.4204 - val_sparse_categorical_accuracy: 0.8793 - val_scaled_adversarial_loss: 0.1366\n",
      "Epoch 78/150\n",
      "89/89 - 1s - loss: 0.5827 - sparse_categorical_crossentropy: 0.4656 - sparse_categorical_accuracy: 0.8542 - scaled_adversarial_loss: 0.1171 - val_loss: 0.5555 - val_sparse_categorical_crossentropy: 0.4179 - val_sparse_categorical_accuracy: 0.8828 - val_scaled_adversarial_loss: 0.1376\n",
      "Epoch 79/150\n",
      "89/89 - 1s - loss: 0.5561 - sparse_categorical_crossentropy: 0.4398 - sparse_categorical_accuracy: 0.8624 - scaled_adversarial_loss: 0.1163 - val_loss: 0.5355 - val_sparse_categorical_crossentropy: 0.4028 - val_sparse_categorical_accuracy: 0.8857 - val_scaled_adversarial_loss: 0.1327\n",
      "Epoch 80/150\n",
      "89/89 - 1s - loss: 0.5429 - sparse_categorical_crossentropy: 0.4307 - sparse_categorical_accuracy: 0.8608 - scaled_adversarial_loss: 0.1122 - val_loss: 0.5558 - val_sparse_categorical_crossentropy: 0.4191 - val_sparse_categorical_accuracy: 0.8729 - val_scaled_adversarial_loss: 0.1366\n",
      "Epoch 81/150\n",
      "89/89 - 2s - loss: 0.5445 - sparse_categorical_crossentropy: 0.4310 - sparse_categorical_accuracy: 0.8607 - scaled_adversarial_loss: 0.1136 - val_loss: 0.5867 - val_sparse_categorical_crossentropy: 0.4419 - val_sparse_categorical_accuracy: 0.8686 - val_scaled_adversarial_loss: 0.1448\n",
      "Epoch 82/150\n",
      "89/89 - 1s - loss: 0.5609 - sparse_categorical_crossentropy: 0.4456 - sparse_categorical_accuracy: 0.8642 - scaled_adversarial_loss: 0.1153 - val_loss: 0.5452 - val_sparse_categorical_crossentropy: 0.4097 - val_sparse_categorical_accuracy: 0.8750 - val_scaled_adversarial_loss: 0.1355\n",
      "Epoch 83/150\n",
      "89/89 - 1s - loss: 0.5505 - sparse_categorical_crossentropy: 0.4388 - sparse_categorical_accuracy: 0.8603 - scaled_adversarial_loss: 0.1116 - val_loss: 0.5533 - val_sparse_categorical_crossentropy: 0.4170 - val_sparse_categorical_accuracy: 0.8764 - val_scaled_adversarial_loss: 0.1364\n",
      "Epoch 84/150\n",
      "89/89 - 1s - loss: 0.5381 - sparse_categorical_crossentropy: 0.4291 - sparse_categorical_accuracy: 0.8641 - scaled_adversarial_loss: 0.1090 - val_loss: 0.5695 - val_sparse_categorical_crossentropy: 0.4305 - val_sparse_categorical_accuracy: 0.8679 - val_scaled_adversarial_loss: 0.1390\n",
      "Epoch 85/150\n",
      "89/89 - 1s - loss: 0.5341 - sparse_categorical_crossentropy: 0.4222 - sparse_categorical_accuracy: 0.8647 - scaled_adversarial_loss: 0.1119 - val_loss: 0.6186 - val_sparse_categorical_crossentropy: 0.4689 - val_sparse_categorical_accuracy: 0.8509 - val_scaled_adversarial_loss: 0.1497\n",
      "Epoch 86/150\n",
      "89/89 - 1s - loss: 0.5554 - sparse_categorical_crossentropy: 0.4394 - sparse_categorical_accuracy: 0.8597 - scaled_adversarial_loss: 0.1159 - val_loss: 0.5542 - val_sparse_categorical_crossentropy: 0.4166 - val_sparse_categorical_accuracy: 0.8778 - val_scaled_adversarial_loss: 0.1376\n",
      "Epoch 87/150\n",
      "89/89 - 1s - loss: 0.5528 - sparse_categorical_crossentropy: 0.4419 - sparse_categorical_accuracy: 0.8581 - scaled_adversarial_loss: 0.1109 - val_loss: 0.5155 - val_sparse_categorical_crossentropy: 0.3854 - val_sparse_categorical_accuracy: 0.8842 - val_scaled_adversarial_loss: 0.1301\n",
      "Epoch 88/150\n",
      "89/89 - 1s - loss: 0.5279 - sparse_categorical_crossentropy: 0.4183 - sparse_categorical_accuracy: 0.8643 - scaled_adversarial_loss: 0.1096 - val_loss: 0.5596 - val_sparse_categorical_crossentropy: 0.4206 - val_sparse_categorical_accuracy: 0.8729 - val_scaled_adversarial_loss: 0.1389\n",
      "Epoch 89/150\n",
      "89/89 - 2s - loss: 0.5287 - sparse_categorical_crossentropy: 0.4174 - sparse_categorical_accuracy: 0.8672 - scaled_adversarial_loss: 0.1113 - val_loss: 0.6049 - val_sparse_categorical_crossentropy: 0.4571 - val_sparse_categorical_accuracy: 0.8551 - val_scaled_adversarial_loss: 0.1479\n",
      "Epoch 90/150\n",
      "89/89 - 1s - loss: 0.5409 - sparse_categorical_crossentropy: 0.4294 - sparse_categorical_accuracy: 0.8612 - scaled_adversarial_loss: 0.1115 - val_loss: 0.5149 - val_sparse_categorical_crossentropy: 0.3854 - val_sparse_categorical_accuracy: 0.8942 - val_scaled_adversarial_loss: 0.1296\n",
      "Epoch 91/150\n",
      "89/89 - 1s - loss: 0.5236 - sparse_categorical_crossentropy: 0.4169 - sparse_categorical_accuracy: 0.8670 - scaled_adversarial_loss: 0.1067 - val_loss: 0.5505 - val_sparse_categorical_crossentropy: 0.4147 - val_sparse_categorical_accuracy: 0.8778 - val_scaled_adversarial_loss: 0.1358\n",
      "Epoch 92/150\n",
      "89/89 - 1s - loss: 0.4961 - sparse_categorical_crossentropy: 0.3929 - sparse_categorical_accuracy: 0.8754 - scaled_adversarial_loss: 0.1033 - val_loss: 0.5000 - val_sparse_categorical_crossentropy: 0.3729 - val_sparse_categorical_accuracy: 0.8942 - val_scaled_adversarial_loss: 0.1271\n",
      "Epoch 93/150\n",
      "89/89 - 1s - loss: 0.5012 - sparse_categorical_crossentropy: 0.3970 - sparse_categorical_accuracy: 0.8743 - scaled_adversarial_loss: 0.1042 - val_loss: 0.5406 - val_sparse_categorical_crossentropy: 0.4055 - val_sparse_categorical_accuracy: 0.8793 - val_scaled_adversarial_loss: 0.1351\n",
      "Epoch 94/150\n",
      "89/89 - 1s - loss: 0.4875 - sparse_categorical_crossentropy: 0.3863 - sparse_categorical_accuracy: 0.8750 - scaled_adversarial_loss: 0.1013 - val_loss: 0.5833 - val_sparse_categorical_crossentropy: 0.4396 - val_sparse_categorical_accuracy: 0.8587 - val_scaled_adversarial_loss: 0.1437\n",
      "Epoch 95/150\n",
      "89/89 - 1s - loss: 0.4884 - sparse_categorical_crossentropy: 0.3844 - sparse_categorical_accuracy: 0.8752 - scaled_adversarial_loss: 0.1040 - val_loss: 0.5427 - val_sparse_categorical_crossentropy: 0.4070 - val_sparse_categorical_accuracy: 0.8786 - val_scaled_adversarial_loss: 0.1357\n",
      "Epoch 96/150\n",
      "89/89 - 2s - loss: 0.4878 - sparse_categorical_crossentropy: 0.3870 - sparse_categorical_accuracy: 0.8771 - scaled_adversarial_loss: 0.1008 - val_loss: 0.5240 - val_sparse_categorical_crossentropy: 0.3934 - val_sparse_categorical_accuracy: 0.8828 - val_scaled_adversarial_loss: 0.1306\n",
      "Epoch 97/150\n",
      "89/89 - 2s - loss: 0.4854 - sparse_categorical_crossentropy: 0.3841 - sparse_categorical_accuracy: 0.8761 - scaled_adversarial_loss: 0.1013 - val_loss: 0.5251 - val_sparse_categorical_crossentropy: 0.3932 - val_sparse_categorical_accuracy: 0.8835 - val_scaled_adversarial_loss: 0.1318\n",
      "Epoch 98/150\n",
      "89/89 - 1s - loss: 0.4637 - sparse_categorical_crossentropy: 0.3669 - sparse_categorical_accuracy: 0.8814 - scaled_adversarial_loss: 0.0968 - val_loss: 0.5285 - val_sparse_categorical_crossentropy: 0.3943 - val_sparse_categorical_accuracy: 0.8757 - val_scaled_adversarial_loss: 0.1342\n",
      "Epoch 99/150\n",
      "89/89 - 1s - loss: 0.4586 - sparse_categorical_crossentropy: 0.3606 - sparse_categorical_accuracy: 0.8807 - scaled_adversarial_loss: 0.0980 - val_loss: 0.5152 - val_sparse_categorical_crossentropy: 0.3826 - val_sparse_categorical_accuracy: 0.8814 - val_scaled_adversarial_loss: 0.1326\n",
      "Epoch 100/150\n",
      "89/89 - 1s - loss: 0.4770 - sparse_categorical_crossentropy: 0.3774 - sparse_categorical_accuracy: 0.8783 - scaled_adversarial_loss: 0.0996 - val_loss: 0.5637 - val_sparse_categorical_crossentropy: 0.4251 - val_sparse_categorical_accuracy: 0.8736 - val_scaled_adversarial_loss: 0.1386\n",
      "Epoch 101/150\n",
      "89/89 - 1s - loss: 0.4479 - sparse_categorical_crossentropy: 0.3520 - sparse_categorical_accuracy: 0.8869 - scaled_adversarial_loss: 0.0959 - val_loss: 0.5406 - val_sparse_categorical_crossentropy: 0.4041 - val_sparse_categorical_accuracy: 0.8800 - val_scaled_adversarial_loss: 0.1365\n",
      "Epoch 102/150\n",
      "89/89 - 1s - loss: 0.4516 - sparse_categorical_crossentropy: 0.3566 - sparse_categorical_accuracy: 0.8868 - scaled_adversarial_loss: 0.0950 - val_loss: 0.4743 - val_sparse_categorical_crossentropy: 0.3513 - val_sparse_categorical_accuracy: 0.8963 - val_scaled_adversarial_loss: 0.1229\n",
      "Epoch 103/150\n",
      "89/89 - 2s - loss: 0.4515 - sparse_categorical_crossentropy: 0.3558 - sparse_categorical_accuracy: 0.8813 - scaled_adversarial_loss: 0.0956 - val_loss: 0.5061 - val_sparse_categorical_crossentropy: 0.3778 - val_sparse_categorical_accuracy: 0.8871 - val_scaled_adversarial_loss: 0.1283\n",
      "Epoch 104/150\n",
      "89/89 - 2s - loss: 0.4501 - sparse_categorical_crossentropy: 0.3533 - sparse_categorical_accuracy: 0.8836 - scaled_adversarial_loss: 0.0968 - val_loss: 0.5739 - val_sparse_categorical_crossentropy: 0.4294 - val_sparse_categorical_accuracy: 0.8572 - val_scaled_adversarial_loss: 0.1445\n",
      "Epoch 105/150\n",
      "89/89 - 1s - loss: 0.4709 - sparse_categorical_crossentropy: 0.3725 - sparse_categorical_accuracy: 0.8817 - scaled_adversarial_loss: 0.0984 - val_loss: 0.4648 - val_sparse_categorical_crossentropy: 0.3424 - val_sparse_categorical_accuracy: 0.9048 - val_scaled_adversarial_loss: 0.1224\n",
      "Epoch 106/150\n",
      "89/89 - 1s - loss: 0.4466 - sparse_categorical_crossentropy: 0.3511 - sparse_categorical_accuracy: 0.8862 - scaled_adversarial_loss: 0.0955 - val_loss: 0.5385 - val_sparse_categorical_crossentropy: 0.4037 - val_sparse_categorical_accuracy: 0.8786 - val_scaled_adversarial_loss: 0.1347\n",
      "Epoch 107/150\n",
      "89/89 - 1s - loss: 0.4380 - sparse_categorical_crossentropy: 0.3449 - sparse_categorical_accuracy: 0.8881 - scaled_adversarial_loss: 0.0931 - val_loss: 0.4747 - val_sparse_categorical_crossentropy: 0.3497 - val_sparse_categorical_accuracy: 0.9034 - val_scaled_adversarial_loss: 0.1249\n",
      "Epoch 108/150\n",
      "89/89 - 1s - loss: 0.4420 - sparse_categorical_crossentropy: 0.3464 - sparse_categorical_accuracy: 0.8896 - scaled_adversarial_loss: 0.0956 - val_loss: 0.4940 - val_sparse_categorical_crossentropy: 0.3670 - val_sparse_categorical_accuracy: 0.8920 - val_scaled_adversarial_loss: 0.1270\n",
      "Epoch 109/150\n",
      "89/89 - 2s - loss: 0.4489 - sparse_categorical_crossentropy: 0.3564 - sparse_categorical_accuracy: 0.8848 - scaled_adversarial_loss: 0.0925 - val_loss: 0.4938 - val_sparse_categorical_crossentropy: 0.3641 - val_sparse_categorical_accuracy: 0.8935 - val_scaled_adversarial_loss: 0.1297\n",
      "Epoch 110/150\n",
      "89/89 - 2s - loss: 0.4144 - sparse_categorical_crossentropy: 0.3235 - sparse_categorical_accuracy: 0.8952 - scaled_adversarial_loss: 0.0909 - val_loss: 0.5353 - val_sparse_categorical_crossentropy: 0.3989 - val_sparse_categorical_accuracy: 0.8786 - val_scaled_adversarial_loss: 0.1364\n",
      "Epoch 111/150\n",
      "89/89 - 2s - loss: 0.4442 - sparse_categorical_crossentropy: 0.3514 - sparse_categorical_accuracy: 0.8884 - scaled_adversarial_loss: 0.0927 - val_loss: 0.5283 - val_sparse_categorical_crossentropy: 0.3942 - val_sparse_categorical_accuracy: 0.8842 - val_scaled_adversarial_loss: 0.1341\n",
      "Epoch 112/150\n",
      "89/89 - 2s - loss: 0.4264 - sparse_categorical_crossentropy: 0.3375 - sparse_categorical_accuracy: 0.8897 - scaled_adversarial_loss: 0.0888 - val_loss: 0.4731 - val_sparse_categorical_crossentropy: 0.3478 - val_sparse_categorical_accuracy: 0.9027 - val_scaled_adversarial_loss: 0.1253\n",
      "Epoch 113/150\n",
      "89/89 - 2s - loss: 0.4217 - sparse_categorical_crossentropy: 0.3325 - sparse_categorical_accuracy: 0.8939 - scaled_adversarial_loss: 0.0892 - val_loss: 0.5993 - val_sparse_categorical_crossentropy: 0.4511 - val_sparse_categorical_accuracy: 0.8615 - val_scaled_adversarial_loss: 0.1482\n",
      "Epoch 114/150\n",
      "89/89 - 1s - loss: 0.4347 - sparse_categorical_crossentropy: 0.3430 - sparse_categorical_accuracy: 0.8833 - scaled_adversarial_loss: 0.0917 - val_loss: 0.5746 - val_sparse_categorical_crossentropy: 0.4324 - val_sparse_categorical_accuracy: 0.8608 - val_scaled_adversarial_loss: 0.1422\n",
      "Epoch 115/150\n",
      "89/89 - 1s - loss: 0.4262 - sparse_categorical_crossentropy: 0.3334 - sparse_categorical_accuracy: 0.8926 - scaled_adversarial_loss: 0.0928 - val_loss: 0.5119 - val_sparse_categorical_crossentropy: 0.3826 - val_sparse_categorical_accuracy: 0.8857 - val_scaled_adversarial_loss: 0.1293\n",
      "Epoch 116/150\n",
      "89/89 - 1s - loss: 0.4119 - sparse_categorical_crossentropy: 0.3232 - sparse_categorical_accuracy: 0.8960 - scaled_adversarial_loss: 0.0888 - val_loss: 0.4750 - val_sparse_categorical_crossentropy: 0.3488 - val_sparse_categorical_accuracy: 0.8963 - val_scaled_adversarial_loss: 0.1262\n",
      "Epoch 117/150\n",
      "89/89 - 2s - loss: 0.4068 - sparse_categorical_crossentropy: 0.3209 - sparse_categorical_accuracy: 0.8946 - scaled_adversarial_loss: 0.0859 - val_loss: 0.4774 - val_sparse_categorical_crossentropy: 0.3545 - val_sparse_categorical_accuracy: 0.8942 - val_scaled_adversarial_loss: 0.1229\n",
      "Epoch 118/150\n",
      "89/89 - 2s - loss: 0.3991 - sparse_categorical_crossentropy: 0.3148 - sparse_categorical_accuracy: 0.8998 - scaled_adversarial_loss: 0.0843 - val_loss: 0.5169 - val_sparse_categorical_crossentropy: 0.3831 - val_sparse_categorical_accuracy: 0.8857 - val_scaled_adversarial_loss: 0.1338\n",
      "Epoch 119/150\n",
      "89/89 - 1s - loss: 0.4160 - sparse_categorical_crossentropy: 0.3310 - sparse_categorical_accuracy: 0.8924 - scaled_adversarial_loss: 0.0850 - val_loss: 0.5117 - val_sparse_categorical_crossentropy: 0.3793 - val_sparse_categorical_accuracy: 0.8885 - val_scaled_adversarial_loss: 0.1324\n",
      "Epoch 120/150\n",
      "89/89 - 1s - loss: 0.3905 - sparse_categorical_crossentropy: 0.3075 - sparse_categorical_accuracy: 0.9006 - scaled_adversarial_loss: 0.0830 - val_loss: 0.4711 - val_sparse_categorical_crossentropy: 0.3440 - val_sparse_categorical_accuracy: 0.9006 - val_scaled_adversarial_loss: 0.1270\n",
      "Epoch 121/150\n",
      "89/89 - 1s - loss: 0.3994 - sparse_categorical_crossentropy: 0.3134 - sparse_categorical_accuracy: 0.8960 - scaled_adversarial_loss: 0.0861 - val_loss: 0.5229 - val_sparse_categorical_crossentropy: 0.3844 - val_sparse_categorical_accuracy: 0.8878 - val_scaled_adversarial_loss: 0.1385\n",
      "Epoch 122/150\n",
      "89/89 - 1s - loss: 0.3991 - sparse_categorical_crossentropy: 0.3123 - sparse_categorical_accuracy: 0.9002 - scaled_adversarial_loss: 0.0868 - val_loss: 0.5109 - val_sparse_categorical_crossentropy: 0.3777 - val_sparse_categorical_accuracy: 0.8871 - val_scaled_adversarial_loss: 0.1332\n",
      "Epoch 123/150\n",
      "89/89 - 1s - loss: 0.3838 - sparse_categorical_crossentropy: 0.2996 - sparse_categorical_accuracy: 0.8999 - scaled_adversarial_loss: 0.0843 - val_loss: 0.4339 - val_sparse_categorical_crossentropy: 0.3157 - val_sparse_categorical_accuracy: 0.9062 - val_scaled_adversarial_loss: 0.1182\n",
      "Epoch 124/150\n",
      "89/89 - 1s - loss: 0.4104 - sparse_categorical_crossentropy: 0.3224 - sparse_categorical_accuracy: 0.8969 - scaled_adversarial_loss: 0.0880 - val_loss: 0.5079 - val_sparse_categorical_crossentropy: 0.3744 - val_sparse_categorical_accuracy: 0.8842 - val_scaled_adversarial_loss: 0.1336\n",
      "Epoch 125/150\n",
      "89/89 - 2s - loss: 0.3782 - sparse_categorical_crossentropy: 0.2959 - sparse_categorical_accuracy: 0.9026 - scaled_adversarial_loss: 0.0824 - val_loss: 0.4964 - val_sparse_categorical_crossentropy: 0.3648 - val_sparse_categorical_accuracy: 0.8920 - val_scaled_adversarial_loss: 0.1316\n",
      "Epoch 126/150\n",
      "89/89 - 1s - loss: 0.3865 - sparse_categorical_crossentropy: 0.3029 - sparse_categorical_accuracy: 0.9013 - scaled_adversarial_loss: 0.0836 - val_loss: 0.4769 - val_sparse_categorical_crossentropy: 0.3474 - val_sparse_categorical_accuracy: 0.8928 - val_scaled_adversarial_loss: 0.1294\n",
      "Epoch 127/150\n",
      "89/89 - 1s - loss: 0.3887 - sparse_categorical_crossentropy: 0.3054 - sparse_categorical_accuracy: 0.9024 - scaled_adversarial_loss: 0.0833 - val_loss: 0.4784 - val_sparse_categorical_crossentropy: 0.3514 - val_sparse_categorical_accuracy: 0.8956 - val_scaled_adversarial_loss: 0.1269\n",
      "Epoch 128/150\n",
      "89/89 - 1s - loss: 0.3803 - sparse_categorical_crossentropy: 0.2993 - sparse_categorical_accuracy: 0.9031 - scaled_adversarial_loss: 0.0810 - val_loss: 0.5207 - val_sparse_categorical_crossentropy: 0.3871 - val_sparse_categorical_accuracy: 0.8814 - val_scaled_adversarial_loss: 0.1337\n",
      "Epoch 129/150\n",
      "89/89 - 1s - loss: 0.3682 - sparse_categorical_crossentropy: 0.2853 - sparse_categorical_accuracy: 0.9069 - scaled_adversarial_loss: 0.0829 - val_loss: 0.5138 - val_sparse_categorical_crossentropy: 0.3791 - val_sparse_categorical_accuracy: 0.8849 - val_scaled_adversarial_loss: 0.1347\n",
      "Epoch 130/150\n",
      "89/89 - 1s - loss: 0.3790 - sparse_categorical_crossentropy: 0.2961 - sparse_categorical_accuracy: 0.9035 - scaled_adversarial_loss: 0.0829 - val_loss: 0.4886 - val_sparse_categorical_crossentropy: 0.3566 - val_sparse_categorical_accuracy: 0.8920 - val_scaled_adversarial_loss: 0.1320\n",
      "Epoch 131/150\n",
      "89/89 - 1s - loss: 0.3667 - sparse_categorical_crossentropy: 0.2868 - sparse_categorical_accuracy: 0.9056 - scaled_adversarial_loss: 0.0799 - val_loss: 0.4623 - val_sparse_categorical_crossentropy: 0.3348 - val_sparse_categorical_accuracy: 0.8991 - val_scaled_adversarial_loss: 0.1275\n",
      "Epoch 132/150\n",
      "89/89 - 1s - loss: 0.3684 - sparse_categorical_crossentropy: 0.2874 - sparse_categorical_accuracy: 0.9062 - scaled_adversarial_loss: 0.0810 - val_loss: 0.4833 - val_sparse_categorical_crossentropy: 0.3532 - val_sparse_categorical_accuracy: 0.9055 - val_scaled_adversarial_loss: 0.1301\n",
      "Epoch 133/150\n",
      "89/89 - 2s - loss: 0.3649 - sparse_categorical_crossentropy: 0.2865 - sparse_categorical_accuracy: 0.9042 - scaled_adversarial_loss: 0.0784 - val_loss: 0.5246 - val_sparse_categorical_crossentropy: 0.3869 - val_sparse_categorical_accuracy: 0.8849 - val_scaled_adversarial_loss: 0.1377\n",
      "Epoch 134/150\n",
      "89/89 - 1s - loss: 0.3694 - sparse_categorical_crossentropy: 0.2911 - sparse_categorical_accuracy: 0.9064 - scaled_adversarial_loss: 0.0784 - val_loss: 0.4856 - val_sparse_categorical_crossentropy: 0.3555 - val_sparse_categorical_accuracy: 0.8913 - val_scaled_adversarial_loss: 0.1301\n",
      "Epoch 135/150\n",
      "89/89 - 1s - loss: 0.3654 - sparse_categorical_crossentropy: 0.2858 - sparse_categorical_accuracy: 0.9058 - scaled_adversarial_loss: 0.0796 - val_loss: 0.4944 - val_sparse_categorical_crossentropy: 0.3611 - val_sparse_categorical_accuracy: 0.8906 - val_scaled_adversarial_loss: 0.1332\n",
      "Epoch 136/150\n",
      "89/89 - 1s - loss: 0.3705 - sparse_categorical_crossentropy: 0.2888 - sparse_categorical_accuracy: 0.9068 - scaled_adversarial_loss: 0.0817 - val_loss: 0.6685 - val_sparse_categorical_crossentropy: 0.4976 - val_sparse_categorical_accuracy: 0.8423 - val_scaled_adversarial_loss: 0.1710\n",
      "Epoch 137/150\n",
      "89/89 - 1s - loss: 0.3971 - sparse_categorical_crossentropy: 0.3121 - sparse_categorical_accuracy: 0.8963 - scaled_adversarial_loss: 0.0850 - val_loss: 0.5492 - val_sparse_categorical_crossentropy: 0.4069 - val_sparse_categorical_accuracy: 0.8771 - val_scaled_adversarial_loss: 0.1423\n",
      "Epoch 138/150\n",
      "89/89 - 1s - loss: 0.3617 - sparse_categorical_crossentropy: 0.2823 - sparse_categorical_accuracy: 0.9070 - scaled_adversarial_loss: 0.0793 - val_loss: 0.4586 - val_sparse_categorical_crossentropy: 0.3361 - val_sparse_categorical_accuracy: 0.9020 - val_scaled_adversarial_loss: 0.1225\n",
      "Epoch 139/150\n",
      "89/89 - 2s - loss: 0.3706 - sparse_categorical_crossentropy: 0.2915 - sparse_categorical_accuracy: 0.9050 - scaled_adversarial_loss: 0.0791 - val_loss: 0.4375 - val_sparse_categorical_crossentropy: 0.3201 - val_sparse_categorical_accuracy: 0.9070 - val_scaled_adversarial_loss: 0.1173\n",
      "Epoch 140/150\n",
      "89/89 - 2s - loss: 0.3836 - sparse_categorical_crossentropy: 0.3007 - sparse_categorical_accuracy: 0.9013 - scaled_adversarial_loss: 0.0829 - val_loss: 0.4443 - val_sparse_categorical_crossentropy: 0.3234 - val_sparse_categorical_accuracy: 0.9119 - val_scaled_adversarial_loss: 0.1210\n",
      "Epoch 141/150\n",
      "89/89 - 1s - loss: 0.3538 - sparse_categorical_crossentropy: 0.2755 - sparse_categorical_accuracy: 0.9087 - scaled_adversarial_loss: 0.0782 - val_loss: 0.4424 - val_sparse_categorical_crossentropy: 0.3216 - val_sparse_categorical_accuracy: 0.9055 - val_scaled_adversarial_loss: 0.1208\n",
      "Epoch 142/150\n",
      "89/89 - 1s - loss: 0.3234 - sparse_categorical_crossentropy: 0.2515 - sparse_categorical_accuracy: 0.9171 - scaled_adversarial_loss: 0.0718 - val_loss: 0.4658 - val_sparse_categorical_crossentropy: 0.3404 - val_sparse_categorical_accuracy: 0.8977 - val_scaled_adversarial_loss: 0.1254\n",
      "Epoch 143/150\n",
      "89/89 - 1s - loss: 0.3573 - sparse_categorical_crossentropy: 0.2795 - sparse_categorical_accuracy: 0.9118 - scaled_adversarial_loss: 0.0778 - val_loss: 0.5003 - val_sparse_categorical_crossentropy: 0.3696 - val_sparse_categorical_accuracy: 0.8842 - val_scaled_adversarial_loss: 0.1307\n",
      "Epoch 144/150\n",
      "89/89 - 1s - loss: 0.3581 - sparse_categorical_crossentropy: 0.2801 - sparse_categorical_accuracy: 0.9101 - scaled_adversarial_loss: 0.0780 - val_loss: 0.5298 - val_sparse_categorical_crossentropy: 0.3901 - val_sparse_categorical_accuracy: 0.8821 - val_scaled_adversarial_loss: 0.1397\n",
      "Epoch 145/150\n",
      "89/89 - 1s - loss: 0.3550 - sparse_categorical_crossentropy: 0.2775 - sparse_categorical_accuracy: 0.9126 - scaled_adversarial_loss: 0.0776 - val_loss: 0.4747 - val_sparse_categorical_crossentropy: 0.3460 - val_sparse_categorical_accuracy: 0.8935 - val_scaled_adversarial_loss: 0.1287\n",
      "Epoch 146/150\n",
      "89/89 - 1s - loss: 0.3393 - sparse_categorical_crossentropy: 0.2662 - sparse_categorical_accuracy: 0.9131 - scaled_adversarial_loss: 0.0731 - val_loss: 0.4600 - val_sparse_categorical_crossentropy: 0.3338 - val_sparse_categorical_accuracy: 0.9034 - val_scaled_adversarial_loss: 0.1262\n",
      "Epoch 147/150\n",
      "89/89 - 1s - loss: 0.3437 - sparse_categorical_crossentropy: 0.2673 - sparse_categorical_accuracy: 0.9142 - scaled_adversarial_loss: 0.0764 - val_loss: 0.5270 - val_sparse_categorical_crossentropy: 0.3866 - val_sparse_categorical_accuracy: 0.8864 - val_scaled_adversarial_loss: 0.1404\n",
      "Epoch 148/150\n",
      "89/89 - 2s - loss: 0.3396 - sparse_categorical_crossentropy: 0.2636 - sparse_categorical_accuracy: 0.9129 - scaled_adversarial_loss: 0.0760 - val_loss: 0.4455 - val_sparse_categorical_crossentropy: 0.3185 - val_sparse_categorical_accuracy: 0.9027 - val_scaled_adversarial_loss: 0.1270\n",
      "Epoch 149/150\n",
      "89/89 - 2s - loss: 0.3474 - sparse_categorical_crossentropy: 0.2714 - sparse_categorical_accuracy: 0.9106 - scaled_adversarial_loss: 0.0759 - val_loss: 0.4301 - val_sparse_categorical_crossentropy: 0.3102 - val_sparse_categorical_accuracy: 0.9070 - val_scaled_adversarial_loss: 0.1199\n",
      "Epoch 150/150\n",
      "89/89 - 2s - loss: 0.3228 - sparse_categorical_crossentropy: 0.2507 - sparse_categorical_accuracy: 0.9175 - scaled_adversarial_loss: 0.0721 - val_loss: 0.4457 - val_sparse_categorical_crossentropy: 0.3202 - val_sparse_categorical_accuracy: 0.9034 - val_scaled_adversarial_loss: 0.1254\n"
     ]
    },
    {
     "data": {
      "text/plain": [
       "<tensorflow.python.keras.callbacks.History at 0x7f00f2669610>"
      ]
     },
     "execution_count": 33,
     "metadata": {},
     "output_type": "execute_result"
    }
   ],
   "source": [
    "train3=tf.data.Dataset.from_tensor_slices(\n",
    "    {'input':x_train3,'label':y_train3}).batch(batch_size)\n",
    "valid3=tf.data.Dataset.from_tensor_slices(\n",
    "    {'input':x_valid3,'label':y_valid3}).batch(batch_size)\n",
    "valid_steps=x_valid3.shape[0]//batch_size\n",
    "adv_model.fit(train3,validation_data=valid3,verbose=2,\n",
    "              validation_steps=valid_steps,epochs=epochs)"
   ]
  },
  {
   "cell_type": "code",
   "execution_count": 34,
   "metadata": {
    "papermill": {
     "duration": 0.991581,
     "end_time": "2021-01-08T21:04:14.065376",
     "exception": false,
     "start_time": "2021-01-08T21:04:13.073795",
     "status": "completed"
    },
    "tags": []
   },
   "outputs": [
    {
     "name": "stdout",
     "output_type": "stream",
     "text": [
      "1419/1419 [==============================] - 1s 408us/sample - loss: 0.4753 - sparse_categorical_crossentropy: 0.3455 - sparse_categorical_accuracy: 0.8992 - scaled_adversarial_loss: 0.1330\n"
     ]
    },
    {
     "data": {
      "text/plain": [
       "[0.4753105203562677, 0.34550288, 0.8992248, 0.13298188]"
      ]
     },
     "execution_count": 34,
     "metadata": {},
     "output_type": "execute_result"
    }
   ],
   "source": [
    "adv_model.evaluate({'input':x_test3,'label':y_test3})"
   ]
  },
  {
   "cell_type": "code",
   "execution_count": 35,
   "metadata": {
    "papermill": {
     "duration": 0.598595,
     "end_time": "2021-01-08T21:04:15.055072",
     "exception": false,
     "start_time": "2021-01-08T21:04:14.456477",
     "status": "completed"
    },
    "tags": []
   },
   "outputs": [],
   "source": [
    "batch_size=16; img_size=32; n_class=10; epochs=100\n",
    "base_model=tf.keras.Sequential([\n",
    "    tf.keras.Input((img_size,img_size,3),name='input'),\n",
    "    tf.keras.layers.Conv2D(32,(5,5),padding='same'),\n",
    "    tf.keras.layers.Activation('relu'),\n",
    "    tf.keras.layers.MaxPooling2D(pool_size=(2,2)),\n",
    "    tf.keras.layers.Dropout(.25),\n",
    "    tf.keras.layers.Conv2D(196,(5,5)),\n",
    "    tf.keras.layers.Activation('relu'),    \n",
    "    tf.keras.layers.MaxPooling2D(pool_size=(2,2)),\n",
    "    tf.keras.layers.Dropout(.25),\n",
    "    tf.keras.layers.GlobalMaxPooling2D(),    \n",
    "    tf.keras.layers.Dense(512),\n",
    "    tf.keras.layers.Activation('relu'),\n",
    "    tf.keras.layers.Dropout(.25),\n",
    "    tf.keras.layers.Dense(10,activation='softmax')\n",
    "])\n",
    "adv_config=nsl.configs\\\n",
    ".make_adv_reg_config(multiplier=.2,adv_step_size=.05)\n",
    "adv_model=nsl.keras\\\n",
    ".AdversarialRegularization(base_model,adv_config=adv_config)\n",
    "adv_model.compile(optimizer='adam',\n",
    "                  loss='sparse_categorical_crossentropy',\n",
    "                  metrics=['accuracy'])"
   ]
  },
  {
   "cell_type": "code",
   "execution_count": 36,
   "metadata": {
    "_kg_hide-output": true,
    "papermill": {
     "duration": 34.220223,
     "end_time": "2021-01-08T21:04:49.683922",
     "exception": false,
     "start_time": "2021-01-08T21:04:15.463699",
     "status": "completed"
    },
    "tags": []
   },
   "outputs": [
    {
     "name": "stdout",
     "output_type": "stream",
     "text": [
      "Train for 11 steps, validate for 1 steps\n",
      "Epoch 1/100\n",
      "11/11 - 2s - loss: 2.8674 - sparse_categorical_crossentropy: 2.3886 - sparse_categorical_accuracy: 0.0893 - scaled_adversarial_loss: 0.4786 - val_loss: 2.7449 - val_sparse_categorical_crossentropy: 2.2869 - val_sparse_categorical_accuracy: 0.1250 - val_scaled_adversarial_loss: 0.4580\n",
      "Epoch 2/100\n",
      "11/11 - 0s - loss: 2.6709 - sparse_categorical_crossentropy: 2.2258 - sparse_categorical_accuracy: 0.2202 - scaled_adversarial_loss: 0.4453 - val_loss: 2.6441 - val_sparse_categorical_crossentropy: 2.2027 - val_sparse_categorical_accuracy: 0.1875 - val_scaled_adversarial_loss: 0.4413\n",
      "Epoch 3/100\n",
      "11/11 - 0s - loss: 2.4692 - sparse_categorical_crossentropy: 2.0609 - sparse_categorical_accuracy: 0.2679 - scaled_adversarial_loss: 0.4089 - val_loss: 2.5896 - val_sparse_categorical_crossentropy: 2.1569 - val_sparse_categorical_accuracy: 0.3750 - val_scaled_adversarial_loss: 0.4327\n",
      "Epoch 4/100\n",
      "11/11 - 0s - loss: 2.1960 - sparse_categorical_crossentropy: 1.8310 - sparse_categorical_accuracy: 0.3393 - scaled_adversarial_loss: 0.3659 - val_loss: 2.3807 - val_sparse_categorical_crossentropy: 1.9822 - val_sparse_categorical_accuracy: 0.3750 - val_scaled_adversarial_loss: 0.3985\n",
      "Epoch 5/100\n",
      "11/11 - 0s - loss: 1.8678 - sparse_categorical_crossentropy: 1.5503 - sparse_categorical_accuracy: 0.4762 - scaled_adversarial_loss: 0.3180 - val_loss: 2.1263 - val_sparse_categorical_crossentropy: 1.7694 - val_sparse_categorical_accuracy: 0.3750 - val_scaled_adversarial_loss: 0.3569\n",
      "Epoch 6/100\n",
      "11/11 - 0s - loss: 1.5987 - sparse_categorical_crossentropy: 1.3223 - sparse_categorical_accuracy: 0.5119 - scaled_adversarial_loss: 0.2768 - val_loss: 1.8213 - val_sparse_categorical_crossentropy: 1.5147 - val_sparse_categorical_accuracy: 0.4375 - val_scaled_adversarial_loss: 0.3067\n",
      "Epoch 7/100\n",
      "11/11 - 0s - loss: 1.4097 - sparse_categorical_crossentropy: 1.1760 - sparse_categorical_accuracy: 0.6071 - scaled_adversarial_loss: 0.2335 - val_loss: 1.5367 - val_sparse_categorical_crossentropy: 1.2775 - val_sparse_categorical_accuracy: 0.5000 - val_scaled_adversarial_loss: 0.2592\n",
      "Epoch 8/100\n",
      "11/11 - 0s - loss: 1.3878 - sparse_categorical_crossentropy: 1.1559 - sparse_categorical_accuracy: 0.5893 - scaled_adversarial_loss: 0.2324 - val_loss: 1.3915 - val_sparse_categorical_crossentropy: 1.1565 - val_sparse_categorical_accuracy: 0.6250 - val_scaled_adversarial_loss: 0.2350\n",
      "Epoch 9/100\n",
      "11/11 - 0s - loss: 1.3274 - sparse_categorical_crossentropy: 1.1032 - sparse_categorical_accuracy: 0.6250 - scaled_adversarial_loss: 0.2242 - val_loss: 1.3545 - val_sparse_categorical_crossentropy: 1.1254 - val_sparse_categorical_accuracy: 0.6250 - val_scaled_adversarial_loss: 0.2291\n",
      "Epoch 10/100\n",
      "11/11 - 0s - loss: 1.0709 - sparse_categorical_crossentropy: 0.8825 - sparse_categorical_accuracy: 0.6667 - scaled_adversarial_loss: 0.1877 - val_loss: 1.2767 - val_sparse_categorical_crossentropy: 1.0603 - val_sparse_categorical_accuracy: 0.7500 - val_scaled_adversarial_loss: 0.2163\n",
      "Epoch 11/100\n",
      "11/11 - 0s - loss: 0.9749 - sparse_categorical_crossentropy: 0.8110 - sparse_categorical_accuracy: 0.7262 - scaled_adversarial_loss: 0.1636 - val_loss: 1.1214 - val_sparse_categorical_crossentropy: 0.9310 - val_sparse_categorical_accuracy: 0.6875 - val_scaled_adversarial_loss: 0.1904\n",
      "Epoch 12/100\n",
      "11/11 - 0s - loss: 0.9634 - sparse_categorical_crossentropy: 0.8021 - sparse_categorical_accuracy: 0.7202 - scaled_adversarial_loss: 0.1634 - val_loss: 1.0413 - val_sparse_categorical_crossentropy: 0.8643 - val_sparse_categorical_accuracy: 0.7500 - val_scaled_adversarial_loss: 0.1770\n",
      "Epoch 13/100\n",
      "11/11 - 0s - loss: 0.8776 - sparse_categorical_crossentropy: 0.7348 - sparse_categorical_accuracy: 0.7679 - scaled_adversarial_loss: 0.1423 - val_loss: 1.0542 - val_sparse_categorical_crossentropy: 0.8748 - val_sparse_categorical_accuracy: 0.6875 - val_scaled_adversarial_loss: 0.1794\n",
      "Epoch 14/100\n",
      "11/11 - 0s - loss: 0.7555 - sparse_categorical_crossentropy: 0.6236 - sparse_categorical_accuracy: 0.7500 - scaled_adversarial_loss: 0.1316 - val_loss: 0.9383 - val_sparse_categorical_crossentropy: 0.7780 - val_sparse_categorical_accuracy: 0.7500 - val_scaled_adversarial_loss: 0.1603\n",
      "Epoch 15/100\n",
      "11/11 - 0s - loss: 0.6446 - sparse_categorical_crossentropy: 0.5334 - sparse_categorical_accuracy: 0.8036 - scaled_adversarial_loss: 0.1115 - val_loss: 0.8117 - val_sparse_categorical_crossentropy: 0.6726 - val_sparse_categorical_accuracy: 0.8125 - val_scaled_adversarial_loss: 0.1391\n",
      "Epoch 16/100\n",
      "11/11 - 0s - loss: 0.6904 - sparse_categorical_crossentropy: 0.5699 - sparse_categorical_accuracy: 0.7857 - scaled_adversarial_loss: 0.1210 - val_loss: 0.9066 - val_sparse_categorical_crossentropy: 0.7506 - val_sparse_categorical_accuracy: 0.7500 - val_scaled_adversarial_loss: 0.1560\n",
      "Epoch 17/100\n",
      "11/11 - 0s - loss: 0.6540 - sparse_categorical_crossentropy: 0.5507 - sparse_categorical_accuracy: 0.7798 - scaled_adversarial_loss: 0.1034 - val_loss: 0.8312 - val_sparse_categorical_crossentropy: 0.6882 - val_sparse_categorical_accuracy: 0.8125 - val_scaled_adversarial_loss: 0.1430\n",
      "Epoch 18/100\n",
      "11/11 - 0s - loss: 0.5491 - sparse_categorical_crossentropy: 0.4584 - sparse_categorical_accuracy: 0.8333 - scaled_adversarial_loss: 0.0902 - val_loss: 0.8040 - val_sparse_categorical_crossentropy: 0.6652 - val_sparse_categorical_accuracy: 0.8125 - val_scaled_adversarial_loss: 0.1388\n",
      "Epoch 19/100\n",
      "11/11 - 0s - loss: 0.6002 - sparse_categorical_crossentropy: 0.5002 - sparse_categorical_accuracy: 0.7798 - scaled_adversarial_loss: 0.0989 - val_loss: 0.7374 - val_sparse_categorical_crossentropy: 0.6098 - val_sparse_categorical_accuracy: 0.8750 - val_scaled_adversarial_loss: 0.1276\n",
      "Epoch 20/100\n",
      "11/11 - 0s - loss: 0.5162 - sparse_categorical_crossentropy: 0.4421 - sparse_categorical_accuracy: 0.8393 - scaled_adversarial_loss: 0.0755 - val_loss: 0.9032 - val_sparse_categorical_crossentropy: 0.7471 - val_sparse_categorical_accuracy: 0.7500 - val_scaled_adversarial_loss: 0.1561\n",
      "Epoch 21/100\n",
      "11/11 - 0s - loss: 0.4569 - sparse_categorical_crossentropy: 0.3720 - sparse_categorical_accuracy: 0.8810 - scaled_adversarial_loss: 0.0843 - val_loss: 0.9288 - val_sparse_categorical_crossentropy: 0.7684 - val_sparse_categorical_accuracy: 0.8125 - val_scaled_adversarial_loss: 0.1604\n",
      "Epoch 22/100\n",
      "11/11 - 0s - loss: 0.3919 - sparse_categorical_crossentropy: 0.3201 - sparse_categorical_accuracy: 0.8869 - scaled_adversarial_loss: 0.0717 - val_loss: 0.7604 - val_sparse_categorical_crossentropy: 0.6279 - val_sparse_categorical_accuracy: 0.8750 - val_scaled_adversarial_loss: 0.1325\n",
      "Epoch 23/100\n",
      "11/11 - 0s - loss: 0.4245 - sparse_categorical_crossentropy: 0.3536 - sparse_categorical_accuracy: 0.8571 - scaled_adversarial_loss: 0.0703 - val_loss: 0.7447 - val_sparse_categorical_crossentropy: 0.6143 - val_sparse_categorical_accuracy: 0.8125 - val_scaled_adversarial_loss: 0.1304\n",
      "Epoch 24/100\n",
      "11/11 - 0s - loss: 0.3992 - sparse_categorical_crossentropy: 0.3304 - sparse_categorical_accuracy: 0.8631 - scaled_adversarial_loss: 0.0688 - val_loss: 0.6974 - val_sparse_categorical_crossentropy: 0.5757 - val_sparse_categorical_accuracy: 0.8125 - val_scaled_adversarial_loss: 0.1217\n",
      "Epoch 25/100\n",
      "11/11 - 0s - loss: 0.4293 - sparse_categorical_crossentropy: 0.3647 - sparse_categorical_accuracy: 0.8631 - scaled_adversarial_loss: 0.0651 - val_loss: 0.6621 - val_sparse_categorical_crossentropy: 0.5471 - val_sparse_categorical_accuracy: 0.8750 - val_scaled_adversarial_loss: 0.1150\n",
      "Epoch 26/100\n",
      "11/11 - 0s - loss: 0.4161 - sparse_categorical_crossentropy: 0.3527 - sparse_categorical_accuracy: 0.8810 - scaled_adversarial_loss: 0.0641 - val_loss: 0.7650 - val_sparse_categorical_crossentropy: 0.6305 - val_sparse_categorical_accuracy: 0.7500 - val_scaled_adversarial_loss: 0.1345\n",
      "Epoch 27/100\n",
      "11/11 - 0s - loss: 0.3997 - sparse_categorical_crossentropy: 0.3264 - sparse_categorical_accuracy: 0.8690 - scaled_adversarial_loss: 0.0722 - val_loss: 0.7953 - val_sparse_categorical_crossentropy: 0.6558 - val_sparse_categorical_accuracy: 0.8125 - val_scaled_adversarial_loss: 0.1395\n",
      "Epoch 28/100\n",
      "11/11 - 0s - loss: 0.2735 - sparse_categorical_crossentropy: 0.2219 - sparse_categorical_accuracy: 0.9167 - scaled_adversarial_loss: 0.0510 - val_loss: 0.7935 - val_sparse_categorical_crossentropy: 0.6542 - val_sparse_categorical_accuracy: 0.7500 - val_scaled_adversarial_loss: 0.1393\n",
      "Epoch 29/100\n",
      "11/11 - 0s - loss: 0.2148 - sparse_categorical_crossentropy: 0.1774 - sparse_categorical_accuracy: 0.9226 - scaled_adversarial_loss: 0.0368 - val_loss: 0.6124 - val_sparse_categorical_crossentropy: 0.5046 - val_sparse_categorical_accuracy: 0.8125 - val_scaled_adversarial_loss: 0.1078\n",
      "Epoch 30/100\n",
      "11/11 - 0s - loss: 0.1937 - sparse_categorical_crossentropy: 0.1561 - sparse_categorical_accuracy: 0.9583 - scaled_adversarial_loss: 0.0381 - val_loss: 0.5928 - val_sparse_categorical_crossentropy: 0.4876 - val_sparse_categorical_accuracy: 0.8750 - val_scaled_adversarial_loss: 0.1052\n",
      "Epoch 31/100\n",
      "11/11 - 0s - loss: 0.2196 - sparse_categorical_crossentropy: 0.1831 - sparse_categorical_accuracy: 0.9286 - scaled_adversarial_loss: 0.0358 - val_loss: 0.6445 - val_sparse_categorical_crossentropy: 0.5307 - val_sparse_categorical_accuracy: 0.8125 - val_scaled_adversarial_loss: 0.1139\n",
      "Epoch 32/100\n",
      "11/11 - 0s - loss: 0.2161 - sparse_categorical_crossentropy: 0.1736 - sparse_categorical_accuracy: 0.9464 - scaled_adversarial_loss: 0.0421 - val_loss: 0.7275 - val_sparse_categorical_crossentropy: 0.5988 - val_sparse_categorical_accuracy: 0.7500 - val_scaled_adversarial_loss: 0.1287\n",
      "Epoch 33/100\n",
      "11/11 - 0s - loss: 0.1426 - sparse_categorical_crossentropy: 0.1101 - sparse_categorical_accuracy: 0.9702 - scaled_adversarial_loss: 0.0322 - val_loss: 0.5176 - val_sparse_categorical_crossentropy: 0.4268 - val_sparse_categorical_accuracy: 0.9375 - val_scaled_adversarial_loss: 0.0908\n",
      "Epoch 34/100\n",
      "11/11 - 0s - loss: 0.1503 - sparse_categorical_crossentropy: 0.1245 - sparse_categorical_accuracy: 0.9583 - scaled_adversarial_loss: 0.0254 - val_loss: 0.5246 - val_sparse_categorical_crossentropy: 0.4300 - val_sparse_categorical_accuracy: 0.8125 - val_scaled_adversarial_loss: 0.0946\n",
      "Epoch 35/100\n",
      "11/11 - 0s - loss: 0.1503 - sparse_categorical_crossentropy: 0.1226 - sparse_categorical_accuracy: 0.9643 - scaled_adversarial_loss: 0.0282 - val_loss: 0.7821 - val_sparse_categorical_crossentropy: 0.6442 - val_sparse_categorical_accuracy: 0.6875 - val_scaled_adversarial_loss: 0.1379\n",
      "Epoch 36/100\n",
      "11/11 - 0s - loss: 0.1158 - sparse_categorical_crossentropy: 0.0920 - sparse_categorical_accuracy: 0.9762 - scaled_adversarial_loss: 0.0244 - val_loss: 0.4795 - val_sparse_categorical_crossentropy: 0.3942 - val_sparse_categorical_accuracy: 0.9375 - val_scaled_adversarial_loss: 0.0853\n",
      "Epoch 37/100\n",
      "11/11 - 0s - loss: 0.1298 - sparse_categorical_crossentropy: 0.1074 - sparse_categorical_accuracy: 0.9643 - scaled_adversarial_loss: 0.0221 - val_loss: 0.6067 - val_sparse_categorical_crossentropy: 0.4986 - val_sparse_categorical_accuracy: 0.8125 - val_scaled_adversarial_loss: 0.1081\n",
      "Epoch 38/100\n",
      "11/11 - 0s - loss: 0.1809 - sparse_categorical_crossentropy: 0.1546 - sparse_categorical_accuracy: 0.9524 - scaled_adversarial_loss: 0.0267 - val_loss: 0.9537 - val_sparse_categorical_crossentropy: 0.7877 - val_sparse_categorical_accuracy: 0.7500 - val_scaled_adversarial_loss: 0.1660\n",
      "Epoch 39/100\n",
      "11/11 - 0s - loss: 0.2301 - sparse_categorical_crossentropy: 0.1877 - sparse_categorical_accuracy: 0.9226 - scaled_adversarial_loss: 0.0416 - val_loss: 0.7468 - val_sparse_categorical_crossentropy: 0.6131 - val_sparse_categorical_accuracy: 0.7500 - val_scaled_adversarial_loss: 0.1336\n",
      "Epoch 40/100\n",
      "11/11 - 0s - loss: 0.0809 - sparse_categorical_crossentropy: 0.0643 - sparse_categorical_accuracy: 0.9940 - scaled_adversarial_loss: 0.0163 - val_loss: 0.5570 - val_sparse_categorical_crossentropy: 0.4586 - val_sparse_categorical_accuracy: 0.9375 - val_scaled_adversarial_loss: 0.0984\n",
      "Epoch 41/100\n",
      "11/11 - 0s - loss: 0.0816 - sparse_categorical_crossentropy: 0.0688 - sparse_categorical_accuracy: 0.9881 - scaled_adversarial_loss: 0.0128 - val_loss: 0.5019 - val_sparse_categorical_crossentropy: 0.4108 - val_sparse_categorical_accuracy: 0.7500 - val_scaled_adversarial_loss: 0.0911\n",
      "Epoch 42/100\n",
      "11/11 - 0s - loss: 0.0727 - sparse_categorical_crossentropy: 0.0593 - sparse_categorical_accuracy: 0.9881 - scaled_adversarial_loss: 0.0133 - val_loss: 0.6948 - val_sparse_categorical_crossentropy: 0.5720 - val_sparse_categorical_accuracy: 0.8125 - val_scaled_adversarial_loss: 0.1228\n",
      "Epoch 43/100\n",
      "11/11 - 0s - loss: 0.0863 - sparse_categorical_crossentropy: 0.0724 - sparse_categorical_accuracy: 0.9762 - scaled_adversarial_loss: 0.0137 - val_loss: 0.7213 - val_sparse_categorical_crossentropy: 0.5927 - val_sparse_categorical_accuracy: 0.7500 - val_scaled_adversarial_loss: 0.1285\n",
      "Epoch 44/100\n",
      "11/11 - 0s - loss: 0.1179 - sparse_categorical_crossentropy: 0.0922 - sparse_categorical_accuracy: 0.9702 - scaled_adversarial_loss: 0.0259 - val_loss: 0.6815 - val_sparse_categorical_crossentropy: 0.5607 - val_sparse_categorical_accuracy: 0.9375 - val_scaled_adversarial_loss: 0.1208\n",
      "Epoch 45/100\n",
      "11/11 - 0s - loss: 0.1839 - sparse_categorical_crossentropy: 0.1502 - sparse_categorical_accuracy: 0.9405 - scaled_adversarial_loss: 0.0331 - val_loss: 0.6107 - val_sparse_categorical_crossentropy: 0.4991 - val_sparse_categorical_accuracy: 0.8125 - val_scaled_adversarial_loss: 0.1117\n",
      "Epoch 46/100\n",
      "11/11 - 0s - loss: 0.1251 - sparse_categorical_crossentropy: 0.1059 - sparse_categorical_accuracy: 0.9643 - scaled_adversarial_loss: 0.0194 - val_loss: 0.5544 - val_sparse_categorical_crossentropy: 0.4558 - val_sparse_categorical_accuracy: 0.8750 - val_scaled_adversarial_loss: 0.0986\n",
      "Epoch 47/100\n",
      "11/11 - 0s - loss: 0.0838 - sparse_categorical_crossentropy: 0.0669 - sparse_categorical_accuracy: 0.9821 - scaled_adversarial_loss: 0.0167 - val_loss: 0.6285 - val_sparse_categorical_crossentropy: 0.5171 - val_sparse_categorical_accuracy: 0.8125 - val_scaled_adversarial_loss: 0.1114\n",
      "Epoch 48/100\n",
      "11/11 - 0s - loss: 0.0756 - sparse_categorical_crossentropy: 0.0655 - sparse_categorical_accuracy: 0.9762 - scaled_adversarial_loss: 0.0099 - val_loss: 0.4800 - val_sparse_categorical_crossentropy: 0.3937 - val_sparse_categorical_accuracy: 0.9375 - val_scaled_adversarial_loss: 0.0863\n",
      "Epoch 49/100\n",
      "11/11 - 0s - loss: 0.0473 - sparse_categorical_crossentropy: 0.0390 - sparse_categorical_accuracy: 0.9940 - scaled_adversarial_loss: 0.0081 - val_loss: 0.7556 - val_sparse_categorical_crossentropy: 0.6214 - val_sparse_categorical_accuracy: 0.7500 - val_scaled_adversarial_loss: 0.1342\n",
      "Epoch 50/100\n",
      "11/11 - 0s - loss: 0.0466 - sparse_categorical_crossentropy: 0.0389 - sparse_categorical_accuracy: 0.9881 - scaled_adversarial_loss: 0.0077 - val_loss: 0.6531 - val_sparse_categorical_crossentropy: 0.5354 - val_sparse_categorical_accuracy: 0.8750 - val_scaled_adversarial_loss: 0.1178\n",
      "Epoch 51/100\n",
      "11/11 - 0s - loss: 0.0436 - sparse_categorical_crossentropy: 0.0320 - sparse_categorical_accuracy: 1.0000 - scaled_adversarial_loss: 0.0114 - val_loss: 0.6779 - val_sparse_categorical_crossentropy: 0.5575 - val_sparse_categorical_accuracy: 0.8125 - val_scaled_adversarial_loss: 0.1204\n",
      "Epoch 52/100\n",
      "11/11 - 0s - loss: 0.0378 - sparse_categorical_crossentropy: 0.0311 - sparse_categorical_accuracy: 0.9940 - scaled_adversarial_loss: 0.0069 - val_loss: 0.4510 - val_sparse_categorical_crossentropy: 0.3691 - val_sparse_categorical_accuracy: 0.8750 - val_scaled_adversarial_loss: 0.0819\n",
      "Epoch 53/100\n",
      "11/11 - 0s - loss: 0.0346 - sparse_categorical_crossentropy: 0.0298 - sparse_categorical_accuracy: 0.9940 - scaled_adversarial_loss: 0.0048 - val_loss: 0.4795 - val_sparse_categorical_crossentropy: 0.3936 - val_sparse_categorical_accuracy: 0.9375 - val_scaled_adversarial_loss: 0.0859\n",
      "Epoch 54/100\n",
      "11/11 - 0s - loss: 0.0244 - sparse_categorical_crossentropy: 0.0194 - sparse_categorical_accuracy: 0.9940 - scaled_adversarial_loss: 0.0050 - val_loss: 0.7867 - val_sparse_categorical_crossentropy: 0.6448 - val_sparse_categorical_accuracy: 0.7500 - val_scaled_adversarial_loss: 0.1419\n",
      "Epoch 55/100\n",
      "11/11 - 0s - loss: 0.0458 - sparse_categorical_crossentropy: 0.0390 - sparse_categorical_accuracy: 0.9940 - scaled_adversarial_loss: 0.0066 - val_loss: 0.6011 - val_sparse_categorical_crossentropy: 0.4928 - val_sparse_categorical_accuracy: 0.8125 - val_scaled_adversarial_loss: 0.1083\n",
      "Epoch 56/100\n",
      "11/11 - 0s - loss: 0.0709 - sparse_categorical_crossentropy: 0.0593 - sparse_categorical_accuracy: 0.9881 - scaled_adversarial_loss: 0.0127 - val_loss: 0.8711 - val_sparse_categorical_crossentropy: 0.7144 - val_sparse_categorical_accuracy: 0.7500 - val_scaled_adversarial_loss: 0.1567\n",
      "Epoch 57/100\n",
      "11/11 - 0s - loss: 0.0511 - sparse_categorical_crossentropy: 0.0410 - sparse_categorical_accuracy: 0.9881 - scaled_adversarial_loss: 0.0099 - val_loss: 0.6737 - val_sparse_categorical_crossentropy: 0.5522 - val_sparse_categorical_accuracy: 0.8125 - val_scaled_adversarial_loss: 0.1215\n",
      "Epoch 58/100\n",
      "11/11 - 0s - loss: 0.0331 - sparse_categorical_crossentropy: 0.0267 - sparse_categorical_accuracy: 0.9940 - scaled_adversarial_loss: 0.0063 - val_loss: 0.7047 - val_sparse_categorical_crossentropy: 0.5769 - val_sparse_categorical_accuracy: 0.8750 - val_scaled_adversarial_loss: 0.1278\n",
      "Epoch 59/100\n",
      "11/11 - 0s - loss: 0.0233 - sparse_categorical_crossentropy: 0.0177 - sparse_categorical_accuracy: 1.0000 - scaled_adversarial_loss: 0.0056 - val_loss: 0.5699 - val_sparse_categorical_crossentropy: 0.4670 - val_sparse_categorical_accuracy: 0.8750 - val_scaled_adversarial_loss: 0.1030\n",
      "Epoch 60/100\n",
      "11/11 - 0s - loss: 0.0182 - sparse_categorical_crossentropy: 0.0149 - sparse_categorical_accuracy: 1.0000 - scaled_adversarial_loss: 0.0033 - val_loss: 0.5442 - val_sparse_categorical_crossentropy: 0.4448 - val_sparse_categorical_accuracy: 0.8125 - val_scaled_adversarial_loss: 0.0994\n",
      "Epoch 61/100\n",
      "11/11 - 0s - loss: 0.0100 - sparse_categorical_crossentropy: 0.0084 - sparse_categorical_accuracy: 1.0000 - scaled_adversarial_loss: 0.0016 - val_loss: 0.5227 - val_sparse_categorical_crossentropy: 0.4265 - val_sparse_categorical_accuracy: 0.8125 - val_scaled_adversarial_loss: 0.0962\n",
      "Epoch 62/100\n",
      "11/11 - 0s - loss: 0.0123 - sparse_categorical_crossentropy: 0.0099 - sparse_categorical_accuracy: 1.0000 - scaled_adversarial_loss: 0.0024 - val_loss: 0.5158 - val_sparse_categorical_crossentropy: 0.4217 - val_sparse_categorical_accuracy: 0.8125 - val_scaled_adversarial_loss: 0.0941\n",
      "Epoch 63/100\n",
      "11/11 - 0s - loss: 0.0069 - sparse_categorical_crossentropy: 0.0052 - sparse_categorical_accuracy: 1.0000 - scaled_adversarial_loss: 0.0017 - val_loss: 0.5335 - val_sparse_categorical_crossentropy: 0.4365 - val_sparse_categorical_accuracy: 0.8125 - val_scaled_adversarial_loss: 0.0970\n",
      "Epoch 64/100\n",
      "11/11 - 0s - loss: 0.0063 - sparse_categorical_crossentropy: 0.0052 - sparse_categorical_accuracy: 1.0000 - scaled_adversarial_loss: 0.0011 - val_loss: 0.5385 - val_sparse_categorical_crossentropy: 0.4405 - val_sparse_categorical_accuracy: 0.8750 - val_scaled_adversarial_loss: 0.0979\n",
      "Epoch 65/100\n",
      "11/11 - 0s - loss: 0.0052 - sparse_categorical_crossentropy: 0.0040 - sparse_categorical_accuracy: 1.0000 - scaled_adversarial_loss: 0.0012 - val_loss: 0.5628 - val_sparse_categorical_crossentropy: 0.4605 - val_sparse_categorical_accuracy: 0.8750 - val_scaled_adversarial_loss: 0.1023\n",
      "Epoch 66/100\n",
      "11/11 - 0s - loss: 0.0055 - sparse_categorical_crossentropy: 0.0039 - sparse_categorical_accuracy: 1.0000 - scaled_adversarial_loss: 0.0016 - val_loss: 0.5621 - val_sparse_categorical_crossentropy: 0.4597 - val_sparse_categorical_accuracy: 0.8125 - val_scaled_adversarial_loss: 0.1024\n",
      "Epoch 67/100\n",
      "11/11 - 0s - loss: 0.0058 - sparse_categorical_crossentropy: 0.0047 - sparse_categorical_accuracy: 1.0000 - scaled_adversarial_loss: 0.0011 - val_loss: 0.5137 - val_sparse_categorical_crossentropy: 0.4204 - val_sparse_categorical_accuracy: 0.8750 - val_scaled_adversarial_loss: 0.0932\n",
      "Epoch 68/100\n",
      "11/11 - 0s - loss: 0.0055 - sparse_categorical_crossentropy: 0.0048 - sparse_categorical_accuracy: 1.0000 - scaled_adversarial_loss: 7.4869e-04 - val_loss: 0.5431 - val_sparse_categorical_crossentropy: 0.4443 - val_sparse_categorical_accuracy: 0.8125 - val_scaled_adversarial_loss: 0.0988\n",
      "Epoch 69/100\n",
      "11/11 - 0s - loss: 0.0059 - sparse_categorical_crossentropy: 0.0044 - sparse_categorical_accuracy: 1.0000 - scaled_adversarial_loss: 0.0015 - val_loss: 0.4995 - val_sparse_categorical_crossentropy: 0.4087 - val_sparse_categorical_accuracy: 0.8750 - val_scaled_adversarial_loss: 0.0908\n",
      "Epoch 70/100\n",
      "11/11 - 0s - loss: 0.0039 - sparse_categorical_crossentropy: 0.0031 - sparse_categorical_accuracy: 1.0000 - scaled_adversarial_loss: 8.3660e-04 - val_loss: 0.5270 - val_sparse_categorical_crossentropy: 0.4309 - val_sparse_categorical_accuracy: 0.8750 - val_scaled_adversarial_loss: 0.0961\n",
      "Epoch 71/100\n",
      "11/11 - 0s - loss: 0.0068 - sparse_categorical_crossentropy: 0.0060 - sparse_categorical_accuracy: 1.0000 - scaled_adversarial_loss: 8.1092e-04 - val_loss: 0.5133 - val_sparse_categorical_crossentropy: 0.4205 - val_sparse_categorical_accuracy: 0.9375 - val_scaled_adversarial_loss: 0.0928\n",
      "Epoch 72/100\n",
      "11/11 - 0s - loss: 0.0059 - sparse_categorical_crossentropy: 0.0045 - sparse_categorical_accuracy: 1.0000 - scaled_adversarial_loss: 0.0014 - val_loss: 0.5760 - val_sparse_categorical_crossentropy: 0.4719 - val_sparse_categorical_accuracy: 0.8750 - val_scaled_adversarial_loss: 0.1041\n",
      "Epoch 73/100\n",
      "11/11 - 0s - loss: 0.0059 - sparse_categorical_crossentropy: 0.0052 - sparse_categorical_accuracy: 1.0000 - scaled_adversarial_loss: 6.4396e-04 - val_loss: 0.4963 - val_sparse_categorical_crossentropy: 0.4064 - val_sparse_categorical_accuracy: 0.8750 - val_scaled_adversarial_loss: 0.0899\n",
      "Epoch 74/100\n",
      "11/11 - 0s - loss: 0.0131 - sparse_categorical_crossentropy: 0.0109 - sparse_categorical_accuracy: 1.0000 - scaled_adversarial_loss: 0.0022 - val_loss: 0.6792 - val_sparse_categorical_crossentropy: 0.5552 - val_sparse_categorical_accuracy: 0.8125 - val_scaled_adversarial_loss: 0.1240\n",
      "Epoch 75/100\n",
      "11/11 - 0s - loss: 0.0479 - sparse_categorical_crossentropy: 0.0424 - sparse_categorical_accuracy: 0.9821 - scaled_adversarial_loss: 0.0053 - val_loss: 0.4282 - val_sparse_categorical_crossentropy: 0.3492 - val_sparse_categorical_accuracy: 0.8750 - val_scaled_adversarial_loss: 0.0790\n",
      "Epoch 76/100\n",
      "11/11 - 0s - loss: 0.0771 - sparse_categorical_crossentropy: 0.0587 - sparse_categorical_accuracy: 0.9821 - scaled_adversarial_loss: 0.0182 - val_loss: 0.8150 - val_sparse_categorical_crossentropy: 0.6682 - val_sparse_categorical_accuracy: 0.8125 - val_scaled_adversarial_loss: 0.1468\n",
      "Epoch 77/100\n",
      "11/11 - 0s - loss: 0.1717 - sparse_categorical_crossentropy: 0.1455 - sparse_categorical_accuracy: 0.9464 - scaled_adversarial_loss: 0.0256 - val_loss: 0.9677 - val_sparse_categorical_crossentropy: 0.7903 - val_sparse_categorical_accuracy: 0.6875 - val_scaled_adversarial_loss: 0.1774\n",
      "Epoch 78/100\n",
      "11/11 - 0s - loss: 0.2452 - sparse_categorical_crossentropy: 0.2028 - sparse_categorical_accuracy: 0.9286 - scaled_adversarial_loss: 0.0414 - val_loss: 0.6945 - val_sparse_categorical_crossentropy: 0.5683 - val_sparse_categorical_accuracy: 0.8125 - val_scaled_adversarial_loss: 0.1262\n",
      "Epoch 79/100\n",
      "11/11 - 0s - loss: 0.2635 - sparse_categorical_crossentropy: 0.2151 - sparse_categorical_accuracy: 0.9464 - scaled_adversarial_loss: 0.0516 - val_loss: 0.7824 - val_sparse_categorical_crossentropy: 0.6441 - val_sparse_categorical_accuracy: 0.8750 - val_scaled_adversarial_loss: 0.1383\n",
      "Epoch 80/100\n",
      "11/11 - 0s - loss: 0.2696 - sparse_categorical_crossentropy: 0.2235 - sparse_categorical_accuracy: 0.9167 - scaled_adversarial_loss: 0.0471 - val_loss: 1.0358 - val_sparse_categorical_crossentropy: 0.8505 - val_sparse_categorical_accuracy: 0.6250 - val_scaled_adversarial_loss: 0.1853\n",
      "Epoch 81/100\n",
      "11/11 - 0s - loss: 0.1500 - sparse_categorical_crossentropy: 0.1163 - sparse_categorical_accuracy: 0.9643 - scaled_adversarial_loss: 0.0335 - val_loss: 0.7098 - val_sparse_categorical_crossentropy: 0.5846 - val_sparse_categorical_accuracy: 0.8750 - val_scaled_adversarial_loss: 0.1251\n",
      "Epoch 82/100\n",
      "11/11 - 0s - loss: 0.0755 - sparse_categorical_crossentropy: 0.0601 - sparse_categorical_accuracy: 0.9821 - scaled_adversarial_loss: 0.0152 - val_loss: 0.5323 - val_sparse_categorical_crossentropy: 0.4338 - val_sparse_categorical_accuracy: 0.8125 - val_scaled_adversarial_loss: 0.0985\n",
      "Epoch 83/100\n",
      "11/11 - 0s - loss: 0.0415 - sparse_categorical_crossentropy: 0.0320 - sparse_categorical_accuracy: 0.9940 - scaled_adversarial_loss: 0.0094 - val_loss: 0.7295 - val_sparse_categorical_crossentropy: 0.5990 - val_sparse_categorical_accuracy: 0.8125 - val_scaled_adversarial_loss: 0.1305\n",
      "Epoch 84/100\n",
      "11/11 - 0s - loss: 0.0172 - sparse_categorical_crossentropy: 0.0134 - sparse_categorical_accuracy: 1.0000 - scaled_adversarial_loss: 0.0038 - val_loss: 0.6606 - val_sparse_categorical_crossentropy: 0.5423 - val_sparse_categorical_accuracy: 0.8750 - val_scaled_adversarial_loss: 0.1183\n",
      "Epoch 85/100\n",
      "11/11 - 0s - loss: 0.0122 - sparse_categorical_crossentropy: 0.0092 - sparse_categorical_accuracy: 1.0000 - scaled_adversarial_loss: 0.0030 - val_loss: 0.5960 - val_sparse_categorical_crossentropy: 0.4898 - val_sparse_categorical_accuracy: 0.9375 - val_scaled_adversarial_loss: 0.1062\n",
      "Epoch 86/100\n",
      "11/11 - 0s - loss: 0.0066 - sparse_categorical_crossentropy: 0.0051 - sparse_categorical_accuracy: 1.0000 - scaled_adversarial_loss: 0.0015 - val_loss: 0.5477 - val_sparse_categorical_crossentropy: 0.4490 - val_sparse_categorical_accuracy: 0.9375 - val_scaled_adversarial_loss: 0.0986\n",
      "Epoch 87/100\n",
      "11/11 - 0s - loss: 0.0052 - sparse_categorical_crossentropy: 0.0039 - sparse_categorical_accuracy: 1.0000 - scaled_adversarial_loss: 0.0013 - val_loss: 0.5608 - val_sparse_categorical_crossentropy: 0.4601 - val_sparse_categorical_accuracy: 0.8750 - val_scaled_adversarial_loss: 0.1007\n",
      "Epoch 88/100\n",
      "11/11 - 0s - loss: 0.0053 - sparse_categorical_crossentropy: 0.0046 - sparse_categorical_accuracy: 1.0000 - scaled_adversarial_loss: 7.8196e-04 - val_loss: 0.5482 - val_sparse_categorical_crossentropy: 0.4493 - val_sparse_categorical_accuracy: 0.8750 - val_scaled_adversarial_loss: 0.0990\n",
      "Epoch 89/100\n",
      "11/11 - 0s - loss: 0.0042 - sparse_categorical_crossentropy: 0.0026 - sparse_categorical_accuracy: 1.0000 - scaled_adversarial_loss: 0.0016 - val_loss: 0.5313 - val_sparse_categorical_crossentropy: 0.4349 - val_sparse_categorical_accuracy: 0.8750 - val_scaled_adversarial_loss: 0.0964\n",
      "Epoch 90/100\n",
      "11/11 - 0s - loss: 0.0061 - sparse_categorical_crossentropy: 0.0055 - sparse_categorical_accuracy: 1.0000 - scaled_adversarial_loss: 5.1754e-04 - val_loss: 0.4638 - val_sparse_categorical_crossentropy: 0.3788 - val_sparse_categorical_accuracy: 0.8750 - val_scaled_adversarial_loss: 0.0850\n",
      "Epoch 91/100\n",
      "11/11 - 0s - loss: 0.0040 - sparse_categorical_crossentropy: 0.0029 - sparse_categorical_accuracy: 1.0000 - scaled_adversarial_loss: 0.0010 - val_loss: 0.4836 - val_sparse_categorical_crossentropy: 0.3955 - val_sparse_categorical_accuracy: 0.8750 - val_scaled_adversarial_loss: 0.0881\n",
      "Epoch 92/100\n",
      "11/11 - 0s - loss: 0.0049 - sparse_categorical_crossentropy: 0.0041 - sparse_categorical_accuracy: 1.0000 - scaled_adversarial_loss: 7.7188e-04 - val_loss: 0.5026 - val_sparse_categorical_crossentropy: 0.4112 - val_sparse_categorical_accuracy: 0.8750 - val_scaled_adversarial_loss: 0.0914\n",
      "Epoch 93/100\n",
      "11/11 - 0s - loss: 0.0039 - sparse_categorical_crossentropy: 0.0028 - sparse_categorical_accuracy: 1.0000 - scaled_adversarial_loss: 0.0011 - val_loss: 0.5240 - val_sparse_categorical_crossentropy: 0.4287 - val_sparse_categorical_accuracy: 0.8125 - val_scaled_adversarial_loss: 0.0952\n",
      "Epoch 94/100\n",
      "11/11 - 0s - loss: 0.0027 - sparse_categorical_crossentropy: 0.0022 - sparse_categorical_accuracy: 1.0000 - scaled_adversarial_loss: 4.3861e-04 - val_loss: 0.5305 - val_sparse_categorical_crossentropy: 0.4340 - val_sparse_categorical_accuracy: 0.8750 - val_scaled_adversarial_loss: 0.0965\n",
      "Epoch 95/100\n",
      "11/11 - 0s - loss: 0.0026 - sparse_categorical_crossentropy: 0.0022 - sparse_categorical_accuracy: 1.0000 - scaled_adversarial_loss: 3.7076e-04 - val_loss: 0.5621 - val_sparse_categorical_crossentropy: 0.4599 - val_sparse_categorical_accuracy: 0.8750 - val_scaled_adversarial_loss: 0.1023\n",
      "Epoch 96/100\n",
      "11/11 - 0s - loss: 0.0024 - sparse_categorical_crossentropy: 0.0017 - sparse_categorical_accuracy: 1.0000 - scaled_adversarial_loss: 7.3029e-04 - val_loss: 0.5536 - val_sparse_categorical_crossentropy: 0.4528 - val_sparse_categorical_accuracy: 0.8750 - val_scaled_adversarial_loss: 0.1008\n",
      "Epoch 97/100\n",
      "11/11 - 0s - loss: 0.0030 - sparse_categorical_crossentropy: 0.0023 - sparse_categorical_accuracy: 1.0000 - scaled_adversarial_loss: 7.3874e-04 - val_loss: 0.5769 - val_sparse_categorical_crossentropy: 0.4724 - val_sparse_categorical_accuracy: 0.8125 - val_scaled_adversarial_loss: 0.1046\n",
      "Epoch 98/100\n",
      "11/11 - 0s - loss: 0.0038 - sparse_categorical_crossentropy: 0.0034 - sparse_categorical_accuracy: 1.0000 - scaled_adversarial_loss: 4.0952e-04 - val_loss: 0.4807 - val_sparse_categorical_crossentropy: 0.3933 - val_sparse_categorical_accuracy: 0.9375 - val_scaled_adversarial_loss: 0.0874\n",
      "Epoch 99/100\n",
      "11/11 - 0s - loss: 0.0032 - sparse_categorical_crossentropy: 0.0028 - sparse_categorical_accuracy: 1.0000 - scaled_adversarial_loss: 3.9964e-04 - val_loss: 0.4798 - val_sparse_categorical_crossentropy: 0.3925 - val_sparse_categorical_accuracy: 0.9375 - val_scaled_adversarial_loss: 0.0873\n",
      "Epoch 100/100\n",
      "11/11 - 0s - loss: 0.0021 - sparse_categorical_crossentropy: 0.0015 - sparse_categorical_accuracy: 1.0000 - scaled_adversarial_loss: 5.6873e-04 - val_loss: 0.5179 - val_sparse_categorical_crossentropy: 0.4240 - val_sparse_categorical_accuracy: 0.9375 - val_scaled_adversarial_loss: 0.0939\n"
     ]
    },
    {
     "data": {
      "text/plain": [
       "<tensorflow.python.keras.callbacks.History at 0x7f00f0710810>"
      ]
     },
     "execution_count": 36,
     "metadata": {},
     "output_type": "execute_result"
    }
   ],
   "source": [
    "train4=tf.data.Dataset.from_tensor_slices(\n",
    "    {'input':x_train4,'label':y_train4}).batch(batch_size)\n",
    "valid4=tf.data.Dataset.from_tensor_slices(\n",
    "    {'input':x_valid4,'label':y_valid4}).batch(batch_size)\n",
    "valid_steps=x_valid4.shape[0]//batch_size\n",
    "adv_model.fit(train4,validation_data=valid4,verbose=2,\n",
    "              validation_steps=valid_steps,epochs=epochs)"
   ]
  },
  {
   "cell_type": "code",
   "execution_count": 37,
   "metadata": {
    "papermill": {
     "duration": 0.924584,
     "end_time": "2021-01-08T21:04:51.046755",
     "exception": false,
     "start_time": "2021-01-08T21:04:50.122171",
     "status": "completed"
    },
    "tags": []
   },
   "outputs": [
    {
     "name": "stdout",
     "output_type": "stream",
     "text": [
      "21/21 [==============================] - 0s 21ms/sample - loss: 1.0055 - sparse_categorical_crossentropy: 0.8260 - sparse_categorical_accuracy: 0.8571 - scaled_adversarial_loss: 0.1795\n"
     ]
    },
    {
     "data": {
      "text/plain": [
       "[1.0054844617843628, 0.82601565, 0.85714287, 0.17946881]"
      ]
     },
     "execution_count": 37,
     "metadata": {},
     "output_type": "execute_result"
    }
   ],
   "source": [
    "adv_model.evaluate({'input':x_test4,'label':y_test4})"
   ]
  }
 ],
 "metadata": {
  "kernelspec": {
   "display_name": "Python 3",
   "language": "python",
   "name": "python3"
  },
  "language_info": {
   "codemirror_mode": {
    "name": "ipython",
    "version": 3
   },
   "file_extension": ".py",
   "mimetype": "text/x-python",
   "name": "python",
   "nbconvert_exporter": "python",
   "pygments_lexer": "ipython3",
   "version": "3.7.6"
  },
  "papermill": {
   "duration": 759.956241,
   "end_time": "2021-01-08T21:04:55.119480",
   "environment_variables": {},
   "exception": null,
   "input_path": "__notebook__.ipynb",
   "output_path": "__notebook__.ipynb",
   "parameters": {},
   "start_time": "2021-01-08T20:52:15.163239",
   "version": "1.2.1"
  }
 },
 "nbformat": 4,
 "nbformat_minor": 4
}
