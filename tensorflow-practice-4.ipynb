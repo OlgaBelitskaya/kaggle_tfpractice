{
 "cells": [
  {
   "cell_type": "markdown",
   "metadata": {
    "papermill": {
     "duration": 0.01677,
     "end_time": "2021-01-08T02:44:46.198160",
     "exception": false,
     "start_time": "2021-01-08T02:44:46.181390",
     "status": "completed"
    },
    "tags": []
   },
   "source": [
    "Reading classics [Python Machine Learning 3rd Edition](https://github.com/rasbt/python-machine-learning-book-3rd-edition/blob/master/ch14/ch14_part2.ipynb)"
   ]
  },
  {
   "cell_type": "code",
   "execution_count": 1,
   "metadata": {
    "_kg_hide-input": true,
    "execution": {
     "iopub.execute_input": "2021-01-08T02:44:46.237376Z",
     "iopub.status.busy": "2021-01-08T02:44:46.236614Z",
     "iopub.status.idle": "2021-01-08T02:44:46.241128Z",
     "shell.execute_reply": "2021-01-08T02:44:46.240456Z"
    },
    "papermill": {
     "duration": 0.026908,
     "end_time": "2021-01-08T02:44:46.241291",
     "exception": false,
     "start_time": "2021-01-08T02:44:46.214383",
     "status": "completed"
    },
    "tags": []
   },
   "outputs": [
    {
     "name": "stdout",
     "output_type": "stream",
     "text": [
      "Writing cmap_header.py\n"
     ]
    }
   ],
   "source": [
    "%%writefile cmap_header.py\n",
    "from IPython.display import display,HTML\n",
    "from IPython.core.magic import register_line_magic\n",
    "import random\n",
    "#Sequential (Single-Hue,Multi-Hue),Diverging, Cyclical cmaps: \n",
    "#Reds,Sinebow,Rainbow,Turbo,Warm,Cool,Plasma,Spectral,etc.\n",
    "@register_line_magic\n",
    "def cmap_header(params):\n",
    "    params=params.split('|'); string=params[0]\n",
    "    if len(params)==1: \n",
    "        font_size='30'; font_family='Akronim'; cmap='Sinebow'\n",
    "    elif  len(params)==2: \n",
    "        font_size=params[1]\n",
    "        font_family='Akronim'; cmap='Sinebow'\n",
    "    elif  len(params)==3: \n",
    "        font_size=params[1]; font_family=params[2]\n",
    "        cmap='Sinebow'\n",
    "    else: \n",
    "        font_size=params[1]; font_family=params[2]; cmap=params[3]\n",
    "    height=int(font_size)*2.5; randi=str(random.uniform(0,9999999))\n",
    "    html_str=\"\"\"\n",
    "    <head><script src='https://d3js.org/d3.v6.min.js'></script>\n",
    "    </head><style>@import 'https://fonts.googleapis.com/css?family=\"\"\"+\\\n",
    "    font_family+\"\"\"&effect=3d'; #colorized {font-family:\"\"\"+font_family+\\\n",
    "    \"\"\"; color:white; padding-left:10px; font-size:\"\"\"+font_size+\\\n",
    "    \"\"\"px;}</style><h1 id='colorized' class='font-effect-3d'>\"\"\"+\\\n",
    "    string+\"\"\"</h1><script>\n",
    "    var tc=setInterval(function(){\n",
    "        var now=new Date().getTime();\n",
    "        var iddoc=document.getElementById('colorized');\n",
    "        iddoc.style.color=d3.interpolate\"\"\"+cmap+\\\n",
    "    \"\"\"(now%(30000)/30000);},1)</script>\"\"\"\n",
    "    file='d3header'+randi+'.html'\n",
    "    with open(file,'w') as f:\n",
    "         f.write(html_str); f.close()\n",
    "    string=\"\"\"<div id='html_string\"\"\"+randi+\\\n",
    "    \"\"\"' style='width:100%;'><iframe src='\"\"\"+file+\\\n",
    "    \"\"\"' height=\"\"\"+str(height)+\"\"\"\n",
    "    style='display:block; width:100%;'></iframe></div>\"\"\"\n",
    "    display(HTML(string))"
   ]
  },
  {
   "cell_type": "code",
   "execution_count": 2,
   "metadata": {
    "_kg_hide-input": true,
    "execution": {
     "iopub.execute_input": "2021-01-08T02:44:46.282128Z",
     "iopub.status.busy": "2021-01-08T02:44:46.281453Z",
     "iopub.status.idle": "2021-01-08T02:44:46.288835Z",
     "shell.execute_reply": "2021-01-08T02:44:46.288200Z"
    },
    "papermill": {
     "duration": 0.029692,
     "end_time": "2021-01-08T02:44:46.288981",
     "exception": false,
     "start_time": "2021-01-08T02:44:46.259289",
     "status": "completed"
    },
    "tags": []
   },
   "outputs": [
    {
     "data": {
      "text/html": [
       "<div id='html_string2688796.1349656577' style='width:100%;'><iframe src='d3header2688796.1349656577.html' height=75.0\n",
       "    style='display:block; width:100%;'></iframe></div>"
      ],
      "text/plain": [
       "<IPython.core.display.HTML object>"
      ]
     },
     "metadata": {},
     "output_type": "display_data"
    }
   ],
   "source": [
    "%run cmap_header.py\n",
    "%cmap_header Code Modules & Functions"
   ]
  },
  {
   "cell_type": "code",
   "execution_count": 3,
   "metadata": {
    "execution": {
     "iopub.execute_input": "2021-01-08T02:44:46.327034Z",
     "iopub.status.busy": "2021-01-08T02:44:46.326206Z",
     "iopub.status.idle": "2021-01-08T02:44:53.837303Z",
     "shell.execute_reply": "2021-01-08T02:44:53.836301Z"
    },
    "papermill": {
     "duration": 7.531249,
     "end_time": "2021-01-08T02:44:53.837437",
     "exception": false,
     "start_time": "2021-01-08T02:44:46.306188",
     "status": "completed"
    },
    "tags": []
   },
   "outputs": [],
   "source": [
    "import tensorflow as tf,pylab as pl\n",
    "import pandas as pd,numpy as np,seaborn as sb\n",
    "import tensorflow.keras.utils as tku\n",
    "from tensorflow.data import Dataset as tds\n",
    "import sklearn.model_selection as sms"
   ]
  },
  {
   "cell_type": "code",
   "execution_count": 4,
   "metadata": {
    "_kg_hide-input": true,
    "execution": {
     "iopub.execute_input": "2021-01-08T02:44:53.883197Z",
     "iopub.status.busy": "2021-01-08T02:44:53.882232Z",
     "iopub.status.idle": "2021-01-08T02:44:53.885387Z",
     "shell.execute_reply": "2021-01-08T02:44:53.884893Z"
    },
    "papermill": {
     "duration": 0.030423,
     "end_time": "2021-01-08T02:44:53.885500",
     "exception": false,
     "start_time": "2021-01-08T02:44:53.855077",
     "status": "completed"
    },
    "tags": []
   },
   "outputs": [],
   "source": [
    "def phtml(str):\n",
    "    display(HTML(\"\"\"<style>@import \n",
    "    'https://fonts.googleapis.com/css?family=Aladin&effect=3d-float';      \n",
    "    </style><h1 class='font-effect-3d-float' \n",
    "    style='font-family:Aladin; color:#ee55ee; font-size:20px;'>\n",
    "    %s</h1>\"\"\"%str))\n",
    "def pd_style():\n",
    "    return [dict(selector='th',props=[('font-size','10pt')]),\n",
    "            dict(selector='td',props=[('padding','0em 0em')]),\n",
    "            dict(selector='th:hover',props=[('font-size','12pt')]),\n",
    "            dict(selector='tr:hover td:hover',\n",
    "                 props=[('max-width','200px'),('font-size','10pt')])]"
   ]
  },
  {
   "cell_type": "code",
   "execution_count": 5,
   "metadata": {
    "_kg_hide-input": true,
    "execution": {
     "iopub.execute_input": "2021-01-08T02:44:53.926242Z",
     "iopub.status.busy": "2021-01-08T02:44:53.925316Z",
     "iopub.status.idle": "2021-01-08T02:44:53.930962Z",
     "shell.execute_reply": "2021-01-08T02:44:53.931489Z"
    },
    "papermill": {
     "duration": 0.028819,
     "end_time": "2021-01-08T02:44:53.931632",
     "exception": false,
     "start_time": "2021-01-08T02:44:53.902813",
     "status": "completed"
    },
    "tags": []
   },
   "outputs": [
    {
     "data": {
      "text/html": [
       "<div id='html_string6213501.049555778' style='width:100%;'><iframe src='d3header6213501.049555778.html' height=75.0\n",
       "    style='display:block; width:100%;'></iframe></div>"
      ],
      "text/plain": [
       "<IPython.core.display.HTML object>"
      ]
     },
     "metadata": {},
     "output_type": "display_data"
    }
   ],
   "source": [
    "%cmap_header Data Processing"
   ]
  },
  {
   "cell_type": "code",
   "execution_count": 6,
   "metadata": {
    "_kg_hide-output": true,
    "execution": {
     "iopub.execute_input": "2021-01-08T02:44:53.971696Z",
     "iopub.status.busy": "2021-01-08T02:44:53.970703Z",
     "iopub.status.idle": "2021-01-08T02:44:54.141265Z",
     "shell.execute_reply": "2021-01-08T02:44:54.140681Z"
    },
    "papermill": {
     "duration": 0.191489,
     "end_time": "2021-01-08T02:44:54.141398",
     "exception": false,
     "start_time": "2021-01-08T02:44:53.949909",
     "status": "completed"
    },
    "tags": []
   },
   "outputs": [
    {
     "name": "stdout",
     "output_type": "stream",
     "text": [
      "Downloading data from http://archive.ics.uci.edu/ml/machine-learning-databases/auto-mpg/auto-mpg.data\n",
      "32768/30286 [================================] - 0s 1us/step\n"
     ]
    }
   ],
   "source": [
    "url='http://archive.ics.uci.edu/ml/machine-learning-databases'+\\\n",
    "    '/auto-mpg/auto-mpg.data'\n",
    "dp=tku.get_file('auto-mpg.data',url)"
   ]
  },
  {
   "cell_type": "code",
   "execution_count": 7,
   "metadata": {
    "_kg_hide-output": false,
    "execution": {
     "iopub.execute_input": "2021-01-08T02:44:54.191354Z",
     "iopub.status.busy": "2021-01-08T02:44:54.190649Z",
     "iopub.status.idle": "2021-01-08T02:44:54.425118Z",
     "shell.execute_reply": "2021-01-08T02:44:54.424398Z"
    },
    "papermill": {
     "duration": 0.263272,
     "end_time": "2021-01-08T02:44:54.425233",
     "exception": false,
     "start_time": "2021-01-08T02:44:54.161961",
     "status": "completed"
    },
    "tags": []
   },
   "outputs": [
    {
     "data": {
      "text/html": [
       "<style>@import \n",
       "    'https://fonts.googleapis.com/css?family=Aladin&effect=3d-float';      \n",
       "    </style><h1 class='font-effect-3d-float' \n",
       "    style='font-family:Aladin; color:#ee55ee; font-size:20px;'>\n",
       "    Data Exploration</h1>"
      ],
      "text/plain": [
       "<IPython.core.display.HTML object>"
      ]
     },
     "metadata": {},
     "output_type": "display_data"
    },
    {
     "data": {
      "text/html": [
       "<style  type=\"text/css\" >\n",
       "    #T_7ce3252c_515b_11eb_ac21_0242ac130202 th {\n",
       "          font-size: 10pt;\n",
       "    }    #T_7ce3252c_515b_11eb_ac21_0242ac130202 td {\n",
       "          padding: 0em 0em;\n",
       "    }    #T_7ce3252c_515b_11eb_ac21_0242ac130202 th:hover {\n",
       "          font-size: 12pt;\n",
       "    }    #T_7ce3252c_515b_11eb_ac21_0242ac130202 tr:hover td:hover {\n",
       "          max-width: 200px;\n",
       "          font-size: 10pt;\n",
       "    }#T_7ce3252c_515b_11eb_ac21_0242ac130202row0_col0,#T_7ce3252c_515b_11eb_ac21_0242ac130202row2_col0,#T_7ce3252c_515b_11eb_ac21_0242ac130202row3_col0,#T_7ce3252c_515b_11eb_ac21_0242ac130202row4_col0{\n",
       "            background-color:  #01feff;\n",
       "            color:  #000000;\n",
       "            max-width:  80px;\n",
       "            font-size:  1pt;\n",
       "        }#T_7ce3252c_515b_11eb_ac21_0242ac130202row0_col1,#T_7ce3252c_515b_11eb_ac21_0242ac130202row0_col5,#T_7ce3252c_515b_11eb_ac21_0242ac130202row0_col7,#T_7ce3252c_515b_11eb_ac21_0242ac130202row1_col0,#T_7ce3252c_515b_11eb_ac21_0242ac130202row1_col1,#T_7ce3252c_515b_11eb_ac21_0242ac130202row1_col5,#T_7ce3252c_515b_11eb_ac21_0242ac130202row1_col7,#T_7ce3252c_515b_11eb_ac21_0242ac130202row2_col1,#T_7ce3252c_515b_11eb_ac21_0242ac130202row2_col5,#T_7ce3252c_515b_11eb_ac21_0242ac130202row2_col7,#T_7ce3252c_515b_11eb_ac21_0242ac130202row3_col1,#T_7ce3252c_515b_11eb_ac21_0242ac130202row3_col5,#T_7ce3252c_515b_11eb_ac21_0242ac130202row3_col7,#T_7ce3252c_515b_11eb_ac21_0242ac130202row4_col1,#T_7ce3252c_515b_11eb_ac21_0242ac130202row4_col5,#T_7ce3252c_515b_11eb_ac21_0242ac130202row4_col7,#T_7ce3252c_515b_11eb_ac21_0242ac130202row5_col0,#T_7ce3252c_515b_11eb_ac21_0242ac130202row5_col1,#T_7ce3252c_515b_11eb_ac21_0242ac130202row5_col5,#T_7ce3252c_515b_11eb_ac21_0242ac130202row5_col7,#T_7ce3252c_515b_11eb_ac21_0242ac130202row6_col0,#T_7ce3252c_515b_11eb_ac21_0242ac130202row6_col1,#T_7ce3252c_515b_11eb_ac21_0242ac130202row6_col5,#T_7ce3252c_515b_11eb_ac21_0242ac130202row6_col7,#T_7ce3252c_515b_11eb_ac21_0242ac130202row7_col0,#T_7ce3252c_515b_11eb_ac21_0242ac130202row7_col1,#T_7ce3252c_515b_11eb_ac21_0242ac130202row7_col5,#T_7ce3252c_515b_11eb_ac21_0242ac130202row7_col7,#T_7ce3252c_515b_11eb_ac21_0242ac130202row8_col0,#T_7ce3252c_515b_11eb_ac21_0242ac130202row8_col1,#T_7ce3252c_515b_11eb_ac21_0242ac130202row8_col5,#T_7ce3252c_515b_11eb_ac21_0242ac130202row8_col7,#T_7ce3252c_515b_11eb_ac21_0242ac130202row9_col0,#T_7ce3252c_515b_11eb_ac21_0242ac130202row9_col1,#T_7ce3252c_515b_11eb_ac21_0242ac130202row9_col5,#T_7ce3252c_515b_11eb_ac21_0242ac130202row9_col7{\n",
       "            background-color:  #00ffff;\n",
       "            color:  #000000;\n",
       "            max-width:  80px;\n",
       "            font-size:  1pt;\n",
       "        }#T_7ce3252c_515b_11eb_ac21_0242ac130202row0_col2,#T_7ce3252c_515b_11eb_ac21_0242ac130202row3_col2,#T_7ce3252c_515b_11eb_ac21_0242ac130202row4_col2{\n",
       "            background-color:  #16e9ff;\n",
       "            color:  #000000;\n",
       "            max-width:  80px;\n",
       "            font-size:  1pt;\n",
       "        }#T_7ce3252c_515b_11eb_ac21_0242ac130202row0_col3{\n",
       "            background-color:  #09f6ff;\n",
       "            color:  #000000;\n",
       "            max-width:  80px;\n",
       "            font-size:  1pt;\n",
       "        }#T_7ce3252c_515b_11eb_ac21_0242ac130202row0_col4,#T_7ce3252c_515b_11eb_ac21_0242ac130202row1_col4,#T_7ce3252c_515b_11eb_ac21_0242ac130202row2_col4,#T_7ce3252c_515b_11eb_ac21_0242ac130202row3_col4,#T_7ce3252c_515b_11eb_ac21_0242ac130202row4_col4,#T_7ce3252c_515b_11eb_ac21_0242ac130202row5_col4,#T_7ce3252c_515b_11eb_ac21_0242ac130202row6_col4,#T_7ce3252c_515b_11eb_ac21_0242ac130202row7_col4,#T_7ce3252c_515b_11eb_ac21_0242ac130202row8_col4,#T_7ce3252c_515b_11eb_ac21_0242ac130202row9_col4{\n",
       "            background-color:  #ff00ff;\n",
       "            color:  #f1f1f1;\n",
       "            max-width:  80px;\n",
       "            font-size:  1pt;\n",
       "        }#T_7ce3252c_515b_11eb_ac21_0242ac130202row0_col6,#T_7ce3252c_515b_11eb_ac21_0242ac130202row2_col6,#T_7ce3252c_515b_11eb_ac21_0242ac130202row3_col6,#T_7ce3252c_515b_11eb_ac21_0242ac130202row4_col6{\n",
       "            background-color:  #05faff;\n",
       "            color:  #000000;\n",
       "            max-width:  80px;\n",
       "            font-size:  1pt;\n",
       "        }#T_7ce3252c_515b_11eb_ac21_0242ac130202row1_col2{\n",
       "            background-color:  #18e7ff;\n",
       "            color:  #000000;\n",
       "            max-width:  80px;\n",
       "            font-size:  1pt;\n",
       "        }#T_7ce3252c_515b_11eb_ac21_0242ac130202row1_col3,#T_7ce3252c_515b_11eb_ac21_0242ac130202row2_col3,#T_7ce3252c_515b_11eb_ac21_0242ac130202row3_col3,#T_7ce3252c_515b_11eb_ac21_0242ac130202row5_col3{\n",
       "            background-color:  #0bf4ff;\n",
       "            color:  #000000;\n",
       "            max-width:  80px;\n",
       "            font-size:  1pt;\n",
       "        }#T_7ce3252c_515b_11eb_ac21_0242ac130202row1_col6,#T_7ce3252c_515b_11eb_ac21_0242ac130202row5_col6,#T_7ce3252c_515b_11eb_ac21_0242ac130202row6_col6,#T_7ce3252c_515b_11eb_ac21_0242ac130202row7_col6,#T_7ce3252c_515b_11eb_ac21_0242ac130202row9_col6{\n",
       "            background-color:  #04fbff;\n",
       "            color:  #000000;\n",
       "            max-width:  80px;\n",
       "            font-size:  1pt;\n",
       "        }#T_7ce3252c_515b_11eb_ac21_0242ac130202row2_col2{\n",
       "            background-color:  #17e8ff;\n",
       "            color:  #000000;\n",
       "            max-width:  80px;\n",
       "            font-size:  1pt;\n",
       "        }#T_7ce3252c_515b_11eb_ac21_0242ac130202row4_col3{\n",
       "            background-color:  #0af5ff;\n",
       "            color:  #000000;\n",
       "            max-width:  80px;\n",
       "            font-size:  1pt;\n",
       "        }#T_7ce3252c_515b_11eb_ac21_0242ac130202row5_col2,#T_7ce3252c_515b_11eb_ac21_0242ac130202row9_col2{\n",
       "            background-color:  #19e6ff;\n",
       "            color:  #000000;\n",
       "            max-width:  80px;\n",
       "            font-size:  1pt;\n",
       "        }#T_7ce3252c_515b_11eb_ac21_0242ac130202row6_col2,#T_7ce3252c_515b_11eb_ac21_0242ac130202row7_col2,#T_7ce3252c_515b_11eb_ac21_0242ac130202row8_col2{\n",
       "            background-color:  #1ae5ff;\n",
       "            color:  #000000;\n",
       "            max-width:  80px;\n",
       "            font-size:  1pt;\n",
       "        }#T_7ce3252c_515b_11eb_ac21_0242ac130202row6_col3,#T_7ce3252c_515b_11eb_ac21_0242ac130202row7_col3,#T_7ce3252c_515b_11eb_ac21_0242ac130202row8_col3,#T_7ce3252c_515b_11eb_ac21_0242ac130202row9_col3{\n",
       "            background-color:  #0cf3ff;\n",
       "            color:  #000000;\n",
       "            max-width:  80px;\n",
       "            font-size:  1pt;\n",
       "        }#T_7ce3252c_515b_11eb_ac21_0242ac130202row8_col6{\n",
       "            background-color:  #03fcff;\n",
       "            color:  #000000;\n",
       "            max-width:  80px;\n",
       "            font-size:  1pt;\n",
       "        }</style><table id=\"T_7ce3252c_515b_11eb_ac21_0242ac130202\" ><thead>    <tr>        <th class=\"blank level0\" ></th>        <th class=\"col_heading level0 col0\" >MPG</th>        <th class=\"col_heading level0 col1\" >Cylinders</th>        <th class=\"col_heading level0 col2\" >Displacement</th>        <th class=\"col_heading level0 col3\" >Horsepower</th>        <th class=\"col_heading level0 col4\" >Weight</th>        <th class=\"col_heading level0 col5\" >Acceleration</th>        <th class=\"col_heading level0 col6\" >ModelYear</th>        <th class=\"col_heading level0 col7\" >Origin</th>    </tr></thead><tbody>\n",
       "                <tr>\n",
       "                        <th id=\"T_7ce3252c_515b_11eb_ac21_0242ac130202level0_row0\" class=\"row_heading level0 row0\" >0</th>\n",
       "                        <td id=\"T_7ce3252c_515b_11eb_ac21_0242ac130202row0_col0\" class=\"data row0 col0\" >18.00</td>\n",
       "                        <td id=\"T_7ce3252c_515b_11eb_ac21_0242ac130202row0_col1\" class=\"data row0 col1\" >8</td>\n",
       "                        <td id=\"T_7ce3252c_515b_11eb_ac21_0242ac130202row0_col2\" class=\"data row0 col2\" >307.00</td>\n",
       "                        <td id=\"T_7ce3252c_515b_11eb_ac21_0242ac130202row0_col3\" class=\"data row0 col3\" >130.00</td>\n",
       "                        <td id=\"T_7ce3252c_515b_11eb_ac21_0242ac130202row0_col4\" class=\"data row0 col4\" >3504.00</td>\n",
       "                        <td id=\"T_7ce3252c_515b_11eb_ac21_0242ac130202row0_col5\" class=\"data row0 col5\" >12.00</td>\n",
       "                        <td id=\"T_7ce3252c_515b_11eb_ac21_0242ac130202row0_col6\" class=\"data row0 col6\" >70</td>\n",
       "                        <td id=\"T_7ce3252c_515b_11eb_ac21_0242ac130202row0_col7\" class=\"data row0 col7\" >1</td>\n",
       "            </tr>\n",
       "            <tr>\n",
       "                        <th id=\"T_7ce3252c_515b_11eb_ac21_0242ac130202level0_row1\" class=\"row_heading level0 row1\" >1</th>\n",
       "                        <td id=\"T_7ce3252c_515b_11eb_ac21_0242ac130202row1_col0\" class=\"data row1 col0\" >15.00</td>\n",
       "                        <td id=\"T_7ce3252c_515b_11eb_ac21_0242ac130202row1_col1\" class=\"data row1 col1\" >8</td>\n",
       "                        <td id=\"T_7ce3252c_515b_11eb_ac21_0242ac130202row1_col2\" class=\"data row1 col2\" >350.00</td>\n",
       "                        <td id=\"T_7ce3252c_515b_11eb_ac21_0242ac130202row1_col3\" class=\"data row1 col3\" >165.00</td>\n",
       "                        <td id=\"T_7ce3252c_515b_11eb_ac21_0242ac130202row1_col4\" class=\"data row1 col4\" >3693.00</td>\n",
       "                        <td id=\"T_7ce3252c_515b_11eb_ac21_0242ac130202row1_col5\" class=\"data row1 col5\" >11.50</td>\n",
       "                        <td id=\"T_7ce3252c_515b_11eb_ac21_0242ac130202row1_col6\" class=\"data row1 col6\" >70</td>\n",
       "                        <td id=\"T_7ce3252c_515b_11eb_ac21_0242ac130202row1_col7\" class=\"data row1 col7\" >1</td>\n",
       "            </tr>\n",
       "            <tr>\n",
       "                        <th id=\"T_7ce3252c_515b_11eb_ac21_0242ac130202level0_row2\" class=\"row_heading level0 row2\" >2</th>\n",
       "                        <td id=\"T_7ce3252c_515b_11eb_ac21_0242ac130202row2_col0\" class=\"data row2 col0\" >18.00</td>\n",
       "                        <td id=\"T_7ce3252c_515b_11eb_ac21_0242ac130202row2_col1\" class=\"data row2 col1\" >8</td>\n",
       "                        <td id=\"T_7ce3252c_515b_11eb_ac21_0242ac130202row2_col2\" class=\"data row2 col2\" >318.00</td>\n",
       "                        <td id=\"T_7ce3252c_515b_11eb_ac21_0242ac130202row2_col3\" class=\"data row2 col3\" >150.00</td>\n",
       "                        <td id=\"T_7ce3252c_515b_11eb_ac21_0242ac130202row2_col4\" class=\"data row2 col4\" >3436.00</td>\n",
       "                        <td id=\"T_7ce3252c_515b_11eb_ac21_0242ac130202row2_col5\" class=\"data row2 col5\" >11.00</td>\n",
       "                        <td id=\"T_7ce3252c_515b_11eb_ac21_0242ac130202row2_col6\" class=\"data row2 col6\" >70</td>\n",
       "                        <td id=\"T_7ce3252c_515b_11eb_ac21_0242ac130202row2_col7\" class=\"data row2 col7\" >1</td>\n",
       "            </tr>\n",
       "            <tr>\n",
       "                        <th id=\"T_7ce3252c_515b_11eb_ac21_0242ac130202level0_row3\" class=\"row_heading level0 row3\" >3</th>\n",
       "                        <td id=\"T_7ce3252c_515b_11eb_ac21_0242ac130202row3_col0\" class=\"data row3 col0\" >16.00</td>\n",
       "                        <td id=\"T_7ce3252c_515b_11eb_ac21_0242ac130202row3_col1\" class=\"data row3 col1\" >8</td>\n",
       "                        <td id=\"T_7ce3252c_515b_11eb_ac21_0242ac130202row3_col2\" class=\"data row3 col2\" >304.00</td>\n",
       "                        <td id=\"T_7ce3252c_515b_11eb_ac21_0242ac130202row3_col3\" class=\"data row3 col3\" >150.00</td>\n",
       "                        <td id=\"T_7ce3252c_515b_11eb_ac21_0242ac130202row3_col4\" class=\"data row3 col4\" >3433.00</td>\n",
       "                        <td id=\"T_7ce3252c_515b_11eb_ac21_0242ac130202row3_col5\" class=\"data row3 col5\" >12.00</td>\n",
       "                        <td id=\"T_7ce3252c_515b_11eb_ac21_0242ac130202row3_col6\" class=\"data row3 col6\" >70</td>\n",
       "                        <td id=\"T_7ce3252c_515b_11eb_ac21_0242ac130202row3_col7\" class=\"data row3 col7\" >1</td>\n",
       "            </tr>\n",
       "            <tr>\n",
       "                        <th id=\"T_7ce3252c_515b_11eb_ac21_0242ac130202level0_row4\" class=\"row_heading level0 row4\" >4</th>\n",
       "                        <td id=\"T_7ce3252c_515b_11eb_ac21_0242ac130202row4_col0\" class=\"data row4 col0\" >17.00</td>\n",
       "                        <td id=\"T_7ce3252c_515b_11eb_ac21_0242ac130202row4_col1\" class=\"data row4 col1\" >8</td>\n",
       "                        <td id=\"T_7ce3252c_515b_11eb_ac21_0242ac130202row4_col2\" class=\"data row4 col2\" >302.00</td>\n",
       "                        <td id=\"T_7ce3252c_515b_11eb_ac21_0242ac130202row4_col3\" class=\"data row4 col3\" >140.00</td>\n",
       "                        <td id=\"T_7ce3252c_515b_11eb_ac21_0242ac130202row4_col4\" class=\"data row4 col4\" >3449.00</td>\n",
       "                        <td id=\"T_7ce3252c_515b_11eb_ac21_0242ac130202row4_col5\" class=\"data row4 col5\" >10.50</td>\n",
       "                        <td id=\"T_7ce3252c_515b_11eb_ac21_0242ac130202row4_col6\" class=\"data row4 col6\" >70</td>\n",
       "                        <td id=\"T_7ce3252c_515b_11eb_ac21_0242ac130202row4_col7\" class=\"data row4 col7\" >1</td>\n",
       "            </tr>\n",
       "            <tr>\n",
       "                        <th id=\"T_7ce3252c_515b_11eb_ac21_0242ac130202level0_row5\" class=\"row_heading level0 row5\" >5</th>\n",
       "                        <td id=\"T_7ce3252c_515b_11eb_ac21_0242ac130202row5_col0\" class=\"data row5 col0\" >15.00</td>\n",
       "                        <td id=\"T_7ce3252c_515b_11eb_ac21_0242ac130202row5_col1\" class=\"data row5 col1\" >8</td>\n",
       "                        <td id=\"T_7ce3252c_515b_11eb_ac21_0242ac130202row5_col2\" class=\"data row5 col2\" >429.00</td>\n",
       "                        <td id=\"T_7ce3252c_515b_11eb_ac21_0242ac130202row5_col3\" class=\"data row5 col3\" >198.00</td>\n",
       "                        <td id=\"T_7ce3252c_515b_11eb_ac21_0242ac130202row5_col4\" class=\"data row5 col4\" >4341.00</td>\n",
       "                        <td id=\"T_7ce3252c_515b_11eb_ac21_0242ac130202row5_col5\" class=\"data row5 col5\" >10.00</td>\n",
       "                        <td id=\"T_7ce3252c_515b_11eb_ac21_0242ac130202row5_col6\" class=\"data row5 col6\" >70</td>\n",
       "                        <td id=\"T_7ce3252c_515b_11eb_ac21_0242ac130202row5_col7\" class=\"data row5 col7\" >1</td>\n",
       "            </tr>\n",
       "            <tr>\n",
       "                        <th id=\"T_7ce3252c_515b_11eb_ac21_0242ac130202level0_row6\" class=\"row_heading level0 row6\" >6</th>\n",
       "                        <td id=\"T_7ce3252c_515b_11eb_ac21_0242ac130202row6_col0\" class=\"data row6 col0\" >14.00</td>\n",
       "                        <td id=\"T_7ce3252c_515b_11eb_ac21_0242ac130202row6_col1\" class=\"data row6 col1\" >8</td>\n",
       "                        <td id=\"T_7ce3252c_515b_11eb_ac21_0242ac130202row6_col2\" class=\"data row6 col2\" >454.00</td>\n",
       "                        <td id=\"T_7ce3252c_515b_11eb_ac21_0242ac130202row6_col3\" class=\"data row6 col3\" >220.00</td>\n",
       "                        <td id=\"T_7ce3252c_515b_11eb_ac21_0242ac130202row6_col4\" class=\"data row6 col4\" >4354.00</td>\n",
       "                        <td id=\"T_7ce3252c_515b_11eb_ac21_0242ac130202row6_col5\" class=\"data row6 col5\" >9.00</td>\n",
       "                        <td id=\"T_7ce3252c_515b_11eb_ac21_0242ac130202row6_col6\" class=\"data row6 col6\" >70</td>\n",
       "                        <td id=\"T_7ce3252c_515b_11eb_ac21_0242ac130202row6_col7\" class=\"data row6 col7\" >1</td>\n",
       "            </tr>\n",
       "            <tr>\n",
       "                        <th id=\"T_7ce3252c_515b_11eb_ac21_0242ac130202level0_row7\" class=\"row_heading level0 row7\" >7</th>\n",
       "                        <td id=\"T_7ce3252c_515b_11eb_ac21_0242ac130202row7_col0\" class=\"data row7 col0\" >14.00</td>\n",
       "                        <td id=\"T_7ce3252c_515b_11eb_ac21_0242ac130202row7_col1\" class=\"data row7 col1\" >8</td>\n",
       "                        <td id=\"T_7ce3252c_515b_11eb_ac21_0242ac130202row7_col2\" class=\"data row7 col2\" >440.00</td>\n",
       "                        <td id=\"T_7ce3252c_515b_11eb_ac21_0242ac130202row7_col3\" class=\"data row7 col3\" >215.00</td>\n",
       "                        <td id=\"T_7ce3252c_515b_11eb_ac21_0242ac130202row7_col4\" class=\"data row7 col4\" >4312.00</td>\n",
       "                        <td id=\"T_7ce3252c_515b_11eb_ac21_0242ac130202row7_col5\" class=\"data row7 col5\" >8.50</td>\n",
       "                        <td id=\"T_7ce3252c_515b_11eb_ac21_0242ac130202row7_col6\" class=\"data row7 col6\" >70</td>\n",
       "                        <td id=\"T_7ce3252c_515b_11eb_ac21_0242ac130202row7_col7\" class=\"data row7 col7\" >1</td>\n",
       "            </tr>\n",
       "            <tr>\n",
       "                        <th id=\"T_7ce3252c_515b_11eb_ac21_0242ac130202level0_row8\" class=\"row_heading level0 row8\" >8</th>\n",
       "                        <td id=\"T_7ce3252c_515b_11eb_ac21_0242ac130202row8_col0\" class=\"data row8 col0\" >14.00</td>\n",
       "                        <td id=\"T_7ce3252c_515b_11eb_ac21_0242ac130202row8_col1\" class=\"data row8 col1\" >8</td>\n",
       "                        <td id=\"T_7ce3252c_515b_11eb_ac21_0242ac130202row8_col2\" class=\"data row8 col2\" >455.00</td>\n",
       "                        <td id=\"T_7ce3252c_515b_11eb_ac21_0242ac130202row8_col3\" class=\"data row8 col3\" >225.00</td>\n",
       "                        <td id=\"T_7ce3252c_515b_11eb_ac21_0242ac130202row8_col4\" class=\"data row8 col4\" >4425.00</td>\n",
       "                        <td id=\"T_7ce3252c_515b_11eb_ac21_0242ac130202row8_col5\" class=\"data row8 col5\" >10.00</td>\n",
       "                        <td id=\"T_7ce3252c_515b_11eb_ac21_0242ac130202row8_col6\" class=\"data row8 col6\" >70</td>\n",
       "                        <td id=\"T_7ce3252c_515b_11eb_ac21_0242ac130202row8_col7\" class=\"data row8 col7\" >1</td>\n",
       "            </tr>\n",
       "            <tr>\n",
       "                        <th id=\"T_7ce3252c_515b_11eb_ac21_0242ac130202level0_row9\" class=\"row_heading level0 row9\" >9</th>\n",
       "                        <td id=\"T_7ce3252c_515b_11eb_ac21_0242ac130202row9_col0\" class=\"data row9 col0\" >15.00</td>\n",
       "                        <td id=\"T_7ce3252c_515b_11eb_ac21_0242ac130202row9_col1\" class=\"data row9 col1\" >8</td>\n",
       "                        <td id=\"T_7ce3252c_515b_11eb_ac21_0242ac130202row9_col2\" class=\"data row9 col2\" >390.00</td>\n",
       "                        <td id=\"T_7ce3252c_515b_11eb_ac21_0242ac130202row9_col3\" class=\"data row9 col3\" >190.00</td>\n",
       "                        <td id=\"T_7ce3252c_515b_11eb_ac21_0242ac130202row9_col4\" class=\"data row9 col4\" >3850.00</td>\n",
       "                        <td id=\"T_7ce3252c_515b_11eb_ac21_0242ac130202row9_col5\" class=\"data row9 col5\" >8.50</td>\n",
       "                        <td id=\"T_7ce3252c_515b_11eb_ac21_0242ac130202row9_col6\" class=\"data row9 col6\" >70</td>\n",
       "                        <td id=\"T_7ce3252c_515b_11eb_ac21_0242ac130202row9_col7\" class=\"data row9 col7\" >1</td>\n",
       "            </tr>\n",
       "    </tbody></table>"
      ],
      "text/plain": [
       "<pandas.io.formats.style.Styler at 0x7f374bd18ed0>"
      ]
     },
     "execution_count": 7,
     "metadata": {},
     "output_type": "execute_result"
    }
   ],
   "source": [
    "columns=['MPG','Cylinders','Displacement','Horsepower',\n",
    "         'Weight','Acceleration','ModelYear','Origin']\n",
    "numeric_columns=columns[2:6]\n",
    "df=pd.read_csv(dp,names=columns,\n",
    "               na_values=\"?\",comment='\\t',sep=\" \",\n",
    "               skipinitialspace=True)\n",
    "df.head(10).style.background_gradient('cool',axis=1)\\\n",
    "    .set_properties(**{'max-width':'80px','font-size':'1pt'})\\\n",
    "    .set_caption(phtml('Data Exploration'))\\\n",
    "    .set_precision(2).set_table_styles(pd_style())"
   ]
  },
  {
   "cell_type": "code",
   "execution_count": 8,
   "metadata": {
    "execution": {
     "iopub.execute_input": "2021-01-08T02:44:54.474865Z",
     "iopub.status.busy": "2021-01-08T02:44:54.473523Z",
     "iopub.status.idle": "2021-01-08T02:44:54.521221Z",
     "shell.execute_reply": "2021-01-08T02:44:54.521729Z"
    },
    "papermill": {
     "duration": 0.075922,
     "end_time": "2021-01-08T02:44:54.521888",
     "exception": false,
     "start_time": "2021-01-08T02:44:54.445966",
     "status": "completed"
    },
    "tags": []
   },
   "outputs": [
    {
     "data": {
      "text/html": [
       "<style  type=\"text/css\" >\n",
       "    #T_7cf2c8d8_515b_11eb_ac21_0242ac130202 th {\n",
       "          font-size: 10pt;\n",
       "    }    #T_7cf2c8d8_515b_11eb_ac21_0242ac130202 td {\n",
       "          padding: 0em 0em;\n",
       "    }    #T_7cf2c8d8_515b_11eb_ac21_0242ac130202 th:hover {\n",
       "          font-size: 12pt;\n",
       "    }    #T_7cf2c8d8_515b_11eb_ac21_0242ac130202 tr:hover td:hover {\n",
       "          max-width: 200px;\n",
       "          font-size: 10pt;\n",
       "    }#T_7cf2c8d8_515b_11eb_ac21_0242ac130202row0_col2{\n",
       "            background-color:  #6f90ff;\n",
       "            color:  #000000;\n",
       "        }#T_7cf2c8d8_515b_11eb_ac21_0242ac130202row0_col3{\n",
       "            background-color:  #aa55ff;\n",
       "            color:  #000000;\n",
       "        }#T_7cf2c8d8_515b_11eb_ac21_0242ac130202row0_col4{\n",
       "            background-color:  #8e71ff;\n",
       "            color:  #000000;\n",
       "        }#T_7cf2c8d8_515b_11eb_ac21_0242ac130202row0_col5{\n",
       "            background-color:  #39c6ff;\n",
       "            color:  #000000;\n",
       "        }#T_7cf2c8d8_515b_11eb_ac21_0242ac130202row1_col2,#T_7cf2c8d8_515b_11eb_ac21_0242ac130202row1_col3,#T_7cf2c8d8_515b_11eb_ac21_0242ac130202row4_col4,#T_7cf2c8d8_515b_11eb_ac21_0242ac130202row6_col5{\n",
       "            background-color:  #ff00ff;\n",
       "            color:  #f1f1f1;\n",
       "        }#T_7cf2c8d8_515b_11eb_ac21_0242ac130202row1_col4{\n",
       "            background-color:  #dc23ff;\n",
       "            color:  #f1f1f1;\n",
       "        }#T_7cf2c8d8_515b_11eb_ac21_0242ac130202row1_col5{\n",
       "            background-color:  #3dc2ff;\n",
       "            color:  #000000;\n",
       "        }#T_7cf2c8d8_515b_11eb_ac21_0242ac130202row2_col2{\n",
       "            background-color:  #59a6ff;\n",
       "            color:  #000000;\n",
       "        }#T_7cf2c8d8_515b_11eb_ac21_0242ac130202row2_col3{\n",
       "            background-color:  #bb44ff;\n",
       "            color:  #000000;\n",
       "        }#T_7cf2c8d8_515b_11eb_ac21_0242ac130202row2_col4{\n",
       "            background-color:  #a758ff;\n",
       "            color:  #000000;\n",
       "        }#T_7cf2c8d8_515b_11eb_ac21_0242ac130202row2_col5{\n",
       "            background-color:  #2dd2ff;\n",
       "            color:  #000000;\n",
       "        }#T_7cf2c8d8_515b_11eb_ac21_0242ac130202row3_col2,#T_7cf2c8d8_515b_11eb_ac21_0242ac130202row7_col2{\n",
       "            background-color:  #48b7ff;\n",
       "            color:  #000000;\n",
       "        }#T_7cf2c8d8_515b_11eb_ac21_0242ac130202row3_col3,#T_7cf2c8d8_515b_11eb_ac21_0242ac130202row7_col3{\n",
       "            background-color:  #8877ff;\n",
       "            color:  #000000;\n",
       "        }#T_7cf2c8d8_515b_11eb_ac21_0242ac130202row3_col4{\n",
       "            background-color:  #4ab5ff;\n",
       "            color:  #000000;\n",
       "        }#T_7cf2c8d8_515b_11eb_ac21_0242ac130202row3_col5{\n",
       "            background-color:  #1be4ff;\n",
       "            color:  #000000;\n",
       "        }#T_7cf2c8d8_515b_11eb_ac21_0242ac130202row4_col2{\n",
       "            background-color:  #6699ff;\n",
       "            color:  #000000;\n",
       "        }#T_7cf2c8d8_515b_11eb_ac21_0242ac130202row4_col3{\n",
       "            background-color:  #a25dff;\n",
       "            color:  #000000;\n",
       "        }#T_7cf2c8d8_515b_11eb_ac21_0242ac130202row4_col5{\n",
       "            background-color:  #708fff;\n",
       "            color:  #000000;\n",
       "        }#T_7cf2c8d8_515b_11eb_ac21_0242ac130202row5_col2{\n",
       "            background-color:  #51aeff;\n",
       "            color:  #000000;\n",
       "        }#T_7cf2c8d8_515b_11eb_ac21_0242ac130202row5_col3{\n",
       "            background-color:  #916eff;\n",
       "            color:  #000000;\n",
       "        }#T_7cf2c8d8_515b_11eb_ac21_0242ac130202row5_col4{\n",
       "            background-color:  #ce31ff;\n",
       "            color:  #f1f1f1;\n",
       "        }#T_7cf2c8d8_515b_11eb_ac21_0242ac130202row5_col5{\n",
       "            background-color:  #4eb1ff;\n",
       "            color:  #000000;\n",
       "        }#T_7cf2c8d8_515b_11eb_ac21_0242ac130202row6_col2,#T_7cf2c8d8_515b_11eb_ac21_0242ac130202row6_col3,#T_7cf2c8d8_515b_11eb_ac21_0242ac130202row6_col4,#T_7cf2c8d8_515b_11eb_ac21_0242ac130202row7_col5{\n",
       "            background-color:  #00ffff;\n",
       "            color:  #000000;\n",
       "        }#T_7cf2c8d8_515b_11eb_ac21_0242ac130202row7_col4{\n",
       "            background-color:  #33ccff;\n",
       "            color:  #000000;\n",
       "        }#T_7cf2c8d8_515b_11eb_ac21_0242ac130202row8_col2{\n",
       "            background-color:  #2bd4ff;\n",
       "            color:  #000000;\n",
       "        }#T_7cf2c8d8_515b_11eb_ac21_0242ac130202row8_col3{\n",
       "            background-color:  #738cff;\n",
       "            color:  #000000;\n",
       "        }#T_7cf2c8d8_515b_11eb_ac21_0242ac130202row8_col4{\n",
       "            background-color:  #9a65ff;\n",
       "            color:  #000000;\n",
       "        }#T_7cf2c8d8_515b_11eb_ac21_0242ac130202row8_col5{\n",
       "            background-color:  #8976ff;\n",
       "            color:  #000000;\n",
       "        }#T_7cf2c8d8_515b_11eb_ac21_0242ac130202row9_col2{\n",
       "            background-color:  #29d6ff;\n",
       "            color:  #000000;\n",
       "        }#T_7cf2c8d8_515b_11eb_ac21_0242ac130202row9_col3{\n",
       "            background-color:  #807fff;\n",
       "            color:  #000000;\n",
       "        }#T_7cf2c8d8_515b_11eb_ac21_0242ac130202row9_col4{\n",
       "            background-color:  #b847ff;\n",
       "            color:  #000000;\n",
       "        }#T_7cf2c8d8_515b_11eb_ac21_0242ac130202row9_col5{\n",
       "            background-color:  #9966ff;\n",
       "            color:  #000000;\n",
       "        }</style><table id=\"T_7cf2c8d8_515b_11eb_ac21_0242ac130202\" ><thead>    <tr>        <th class=\"blank level0\" ></th>        <th class=\"col_heading level0 col0\" >MPG</th>        <th class=\"col_heading level0 col1\" >Cylinders</th>        <th class=\"col_heading level0 col2\" >Displacement</th>        <th class=\"col_heading level0 col3\" >Horsepower</th>        <th class=\"col_heading level0 col4\" >Weight</th>        <th class=\"col_heading level0 col5\" >Acceleration</th>        <th class=\"col_heading level0 col6\" >ModelYear</th>        <th class=\"col_heading level0 col7\" >Origin</th>    </tr></thead><tbody>\n",
       "                <tr>\n",
       "                        <th id=\"T_7cf2c8d8_515b_11eb_ac21_0242ac130202level0_row0\" class=\"row_heading level0 row0\" >382</th>\n",
       "                        <td id=\"T_7cf2c8d8_515b_11eb_ac21_0242ac130202row0_col0\" class=\"data row0 col0\" >26.000000</td>\n",
       "                        <td id=\"T_7cf2c8d8_515b_11eb_ac21_0242ac130202row0_col1\" class=\"data row0 col1\" >4</td>\n",
       "                        <td id=\"T_7cf2c8d8_515b_11eb_ac21_0242ac130202row0_col2\" class=\"data row0 col2\" >156.000000</td>\n",
       "                        <td id=\"T_7cf2c8d8_515b_11eb_ac21_0242ac130202row0_col3\" class=\"data row0 col3\" >92.000000</td>\n",
       "                        <td id=\"T_7cf2c8d8_515b_11eb_ac21_0242ac130202row0_col4\" class=\"data row0 col4\" >2585.000000</td>\n",
       "                        <td id=\"T_7cf2c8d8_515b_11eb_ac21_0242ac130202row0_col5\" class=\"data row0 col5\" >14.500000</td>\n",
       "                        <td id=\"T_7cf2c8d8_515b_11eb_ac21_0242ac130202row0_col6\" class=\"data row0 col6\" >82</td>\n",
       "                        <td id=\"T_7cf2c8d8_515b_11eb_ac21_0242ac130202row0_col7\" class=\"data row0 col7\" >1</td>\n",
       "            </tr>\n",
       "            <tr>\n",
       "                        <th id=\"T_7cf2c8d8_515b_11eb_ac21_0242ac130202level0_row1\" class=\"row_heading level0 row1\" >383</th>\n",
       "                        <td id=\"T_7cf2c8d8_515b_11eb_ac21_0242ac130202row1_col0\" class=\"data row1 col0\" >22.000000</td>\n",
       "                        <td id=\"T_7cf2c8d8_515b_11eb_ac21_0242ac130202row1_col1\" class=\"data row1 col1\" >6</td>\n",
       "                        <td id=\"T_7cf2c8d8_515b_11eb_ac21_0242ac130202row1_col2\" class=\"data row1 col2\" >232.000000</td>\n",
       "                        <td id=\"T_7cf2c8d8_515b_11eb_ac21_0242ac130202row1_col3\" class=\"data row1 col3\" >112.000000</td>\n",
       "                        <td id=\"T_7cf2c8d8_515b_11eb_ac21_0242ac130202row1_col4\" class=\"data row1 col4\" >2835.000000</td>\n",
       "                        <td id=\"T_7cf2c8d8_515b_11eb_ac21_0242ac130202row1_col5\" class=\"data row1 col5\" >14.700000</td>\n",
       "                        <td id=\"T_7cf2c8d8_515b_11eb_ac21_0242ac130202row1_col6\" class=\"data row1 col6\" >82</td>\n",
       "                        <td id=\"T_7cf2c8d8_515b_11eb_ac21_0242ac130202row1_col7\" class=\"data row1 col7\" >1</td>\n",
       "            </tr>\n",
       "            <tr>\n",
       "                        <th id=\"T_7cf2c8d8_515b_11eb_ac21_0242ac130202level0_row2\" class=\"row_heading level0 row2\" >384</th>\n",
       "                        <td id=\"T_7cf2c8d8_515b_11eb_ac21_0242ac130202row2_col0\" class=\"data row2 col0\" >32.000000</td>\n",
       "                        <td id=\"T_7cf2c8d8_515b_11eb_ac21_0242ac130202row2_col1\" class=\"data row2 col1\" >4</td>\n",
       "                        <td id=\"T_7cf2c8d8_515b_11eb_ac21_0242ac130202row2_col2\" class=\"data row2 col2\" >144.000000</td>\n",
       "                        <td id=\"T_7cf2c8d8_515b_11eb_ac21_0242ac130202row2_col3\" class=\"data row2 col3\" >96.000000</td>\n",
       "                        <td id=\"T_7cf2c8d8_515b_11eb_ac21_0242ac130202row2_col4\" class=\"data row2 col4\" >2665.000000</td>\n",
       "                        <td id=\"T_7cf2c8d8_515b_11eb_ac21_0242ac130202row2_col5\" class=\"data row2 col5\" >13.900000</td>\n",
       "                        <td id=\"T_7cf2c8d8_515b_11eb_ac21_0242ac130202row2_col6\" class=\"data row2 col6\" >82</td>\n",
       "                        <td id=\"T_7cf2c8d8_515b_11eb_ac21_0242ac130202row2_col7\" class=\"data row2 col7\" >3</td>\n",
       "            </tr>\n",
       "            <tr>\n",
       "                        <th id=\"T_7cf2c8d8_515b_11eb_ac21_0242ac130202level0_row3\" class=\"row_heading level0 row3\" >385</th>\n",
       "                        <td id=\"T_7cf2c8d8_515b_11eb_ac21_0242ac130202row3_col0\" class=\"data row3 col0\" >36.000000</td>\n",
       "                        <td id=\"T_7cf2c8d8_515b_11eb_ac21_0242ac130202row3_col1\" class=\"data row3 col1\" >4</td>\n",
       "                        <td id=\"T_7cf2c8d8_515b_11eb_ac21_0242ac130202row3_col2\" class=\"data row3 col2\" >135.000000</td>\n",
       "                        <td id=\"T_7cf2c8d8_515b_11eb_ac21_0242ac130202row3_col3\" class=\"data row3 col3\" >84.000000</td>\n",
       "                        <td id=\"T_7cf2c8d8_515b_11eb_ac21_0242ac130202row3_col4\" class=\"data row3 col4\" >2370.000000</td>\n",
       "                        <td id=\"T_7cf2c8d8_515b_11eb_ac21_0242ac130202row3_col5\" class=\"data row3 col5\" >13.000000</td>\n",
       "                        <td id=\"T_7cf2c8d8_515b_11eb_ac21_0242ac130202row3_col6\" class=\"data row3 col6\" >82</td>\n",
       "                        <td id=\"T_7cf2c8d8_515b_11eb_ac21_0242ac130202row3_col7\" class=\"data row3 col7\" >1</td>\n",
       "            </tr>\n",
       "            <tr>\n",
       "                        <th id=\"T_7cf2c8d8_515b_11eb_ac21_0242ac130202level0_row4\" class=\"row_heading level0 row4\" >386</th>\n",
       "                        <td id=\"T_7cf2c8d8_515b_11eb_ac21_0242ac130202row4_col0\" class=\"data row4 col0\" >27.000000</td>\n",
       "                        <td id=\"T_7cf2c8d8_515b_11eb_ac21_0242ac130202row4_col1\" class=\"data row4 col1\" >4</td>\n",
       "                        <td id=\"T_7cf2c8d8_515b_11eb_ac21_0242ac130202row4_col2\" class=\"data row4 col2\" >151.000000</td>\n",
       "                        <td id=\"T_7cf2c8d8_515b_11eb_ac21_0242ac130202row4_col3\" class=\"data row4 col3\" >90.000000</td>\n",
       "                        <td id=\"T_7cf2c8d8_515b_11eb_ac21_0242ac130202row4_col4\" class=\"data row4 col4\" >2950.000000</td>\n",
       "                        <td id=\"T_7cf2c8d8_515b_11eb_ac21_0242ac130202row4_col5\" class=\"data row4 col5\" >17.300000</td>\n",
       "                        <td id=\"T_7cf2c8d8_515b_11eb_ac21_0242ac130202row4_col6\" class=\"data row4 col6\" >82</td>\n",
       "                        <td id=\"T_7cf2c8d8_515b_11eb_ac21_0242ac130202row4_col7\" class=\"data row4 col7\" >1</td>\n",
       "            </tr>\n",
       "            <tr>\n",
       "                        <th id=\"T_7cf2c8d8_515b_11eb_ac21_0242ac130202level0_row5\" class=\"row_heading level0 row5\" >387</th>\n",
       "                        <td id=\"T_7cf2c8d8_515b_11eb_ac21_0242ac130202row5_col0\" class=\"data row5 col0\" >27.000000</td>\n",
       "                        <td id=\"T_7cf2c8d8_515b_11eb_ac21_0242ac130202row5_col1\" class=\"data row5 col1\" >4</td>\n",
       "                        <td id=\"T_7cf2c8d8_515b_11eb_ac21_0242ac130202row5_col2\" class=\"data row5 col2\" >140.000000</td>\n",
       "                        <td id=\"T_7cf2c8d8_515b_11eb_ac21_0242ac130202row5_col3\" class=\"data row5 col3\" >86.000000</td>\n",
       "                        <td id=\"T_7cf2c8d8_515b_11eb_ac21_0242ac130202row5_col4\" class=\"data row5 col4\" >2790.000000</td>\n",
       "                        <td id=\"T_7cf2c8d8_515b_11eb_ac21_0242ac130202row5_col5\" class=\"data row5 col5\" >15.600000</td>\n",
       "                        <td id=\"T_7cf2c8d8_515b_11eb_ac21_0242ac130202row5_col6\" class=\"data row5 col6\" >82</td>\n",
       "                        <td id=\"T_7cf2c8d8_515b_11eb_ac21_0242ac130202row5_col7\" class=\"data row5 col7\" >1</td>\n",
       "            </tr>\n",
       "            <tr>\n",
       "                        <th id=\"T_7cf2c8d8_515b_11eb_ac21_0242ac130202level0_row6\" class=\"row_heading level0 row6\" >388</th>\n",
       "                        <td id=\"T_7cf2c8d8_515b_11eb_ac21_0242ac130202row6_col0\" class=\"data row6 col0\" >44.000000</td>\n",
       "                        <td id=\"T_7cf2c8d8_515b_11eb_ac21_0242ac130202row6_col1\" class=\"data row6 col1\" >4</td>\n",
       "                        <td id=\"T_7cf2c8d8_515b_11eb_ac21_0242ac130202row6_col2\" class=\"data row6 col2\" >97.000000</td>\n",
       "                        <td id=\"T_7cf2c8d8_515b_11eb_ac21_0242ac130202row6_col3\" class=\"data row6 col3\" >52.000000</td>\n",
       "                        <td id=\"T_7cf2c8d8_515b_11eb_ac21_0242ac130202row6_col4\" class=\"data row6 col4\" >2130.000000</td>\n",
       "                        <td id=\"T_7cf2c8d8_515b_11eb_ac21_0242ac130202row6_col5\" class=\"data row6 col5\" >24.600000</td>\n",
       "                        <td id=\"T_7cf2c8d8_515b_11eb_ac21_0242ac130202row6_col6\" class=\"data row6 col6\" >82</td>\n",
       "                        <td id=\"T_7cf2c8d8_515b_11eb_ac21_0242ac130202row6_col7\" class=\"data row6 col7\" >2</td>\n",
       "            </tr>\n",
       "            <tr>\n",
       "                        <th id=\"T_7cf2c8d8_515b_11eb_ac21_0242ac130202level0_row7\" class=\"row_heading level0 row7\" >389</th>\n",
       "                        <td id=\"T_7cf2c8d8_515b_11eb_ac21_0242ac130202row7_col0\" class=\"data row7 col0\" >32.000000</td>\n",
       "                        <td id=\"T_7cf2c8d8_515b_11eb_ac21_0242ac130202row7_col1\" class=\"data row7 col1\" >4</td>\n",
       "                        <td id=\"T_7cf2c8d8_515b_11eb_ac21_0242ac130202row7_col2\" class=\"data row7 col2\" >135.000000</td>\n",
       "                        <td id=\"T_7cf2c8d8_515b_11eb_ac21_0242ac130202row7_col3\" class=\"data row7 col3\" >84.000000</td>\n",
       "                        <td id=\"T_7cf2c8d8_515b_11eb_ac21_0242ac130202row7_col4\" class=\"data row7 col4\" >2295.000000</td>\n",
       "                        <td id=\"T_7cf2c8d8_515b_11eb_ac21_0242ac130202row7_col5\" class=\"data row7 col5\" >11.600000</td>\n",
       "                        <td id=\"T_7cf2c8d8_515b_11eb_ac21_0242ac130202row7_col6\" class=\"data row7 col6\" >82</td>\n",
       "                        <td id=\"T_7cf2c8d8_515b_11eb_ac21_0242ac130202row7_col7\" class=\"data row7 col7\" >1</td>\n",
       "            </tr>\n",
       "            <tr>\n",
       "                        <th id=\"T_7cf2c8d8_515b_11eb_ac21_0242ac130202level0_row8\" class=\"row_heading level0 row8\" >390</th>\n",
       "                        <td id=\"T_7cf2c8d8_515b_11eb_ac21_0242ac130202row8_col0\" class=\"data row8 col0\" >28.000000</td>\n",
       "                        <td id=\"T_7cf2c8d8_515b_11eb_ac21_0242ac130202row8_col1\" class=\"data row8 col1\" >4</td>\n",
       "                        <td id=\"T_7cf2c8d8_515b_11eb_ac21_0242ac130202row8_col2\" class=\"data row8 col2\" >120.000000</td>\n",
       "                        <td id=\"T_7cf2c8d8_515b_11eb_ac21_0242ac130202row8_col3\" class=\"data row8 col3\" >79.000000</td>\n",
       "                        <td id=\"T_7cf2c8d8_515b_11eb_ac21_0242ac130202row8_col4\" class=\"data row8 col4\" >2625.000000</td>\n",
       "                        <td id=\"T_7cf2c8d8_515b_11eb_ac21_0242ac130202row8_col5\" class=\"data row8 col5\" >18.600000</td>\n",
       "                        <td id=\"T_7cf2c8d8_515b_11eb_ac21_0242ac130202row8_col6\" class=\"data row8 col6\" >82</td>\n",
       "                        <td id=\"T_7cf2c8d8_515b_11eb_ac21_0242ac130202row8_col7\" class=\"data row8 col7\" >1</td>\n",
       "            </tr>\n",
       "            <tr>\n",
       "                        <th id=\"T_7cf2c8d8_515b_11eb_ac21_0242ac130202level0_row9\" class=\"row_heading level0 row9\" >391</th>\n",
       "                        <td id=\"T_7cf2c8d8_515b_11eb_ac21_0242ac130202row9_col0\" class=\"data row9 col0\" >31.000000</td>\n",
       "                        <td id=\"T_7cf2c8d8_515b_11eb_ac21_0242ac130202row9_col1\" class=\"data row9 col1\" >4</td>\n",
       "                        <td id=\"T_7cf2c8d8_515b_11eb_ac21_0242ac130202row9_col2\" class=\"data row9 col2\" >119.000000</td>\n",
       "                        <td id=\"T_7cf2c8d8_515b_11eb_ac21_0242ac130202row9_col3\" class=\"data row9 col3\" >82.000000</td>\n",
       "                        <td id=\"T_7cf2c8d8_515b_11eb_ac21_0242ac130202row9_col4\" class=\"data row9 col4\" >2720.000000</td>\n",
       "                        <td id=\"T_7cf2c8d8_515b_11eb_ac21_0242ac130202row9_col5\" class=\"data row9 col5\" >19.400000</td>\n",
       "                        <td id=\"T_7cf2c8d8_515b_11eb_ac21_0242ac130202row9_col6\" class=\"data row9 col6\" >82</td>\n",
       "                        <td id=\"T_7cf2c8d8_515b_11eb_ac21_0242ac130202row9_col7\" class=\"data row9 col7\" >1</td>\n",
       "            </tr>\n",
       "    </tbody></table>"
      ],
      "text/plain": [
       "<pandas.io.formats.style.Styler at 0x7f372eae2a90>"
      ]
     },
     "execution_count": 8,
     "metadata": {},
     "output_type": "execute_result"
    }
   ],
   "source": [
    "df=df.dropna().reset_index(drop=True)\n",
    "df.tail(10).style.background_gradient(\n",
    "    cmap='cool',axis=0,subset=numeric_columns)\\\n",
    ".set_table_styles(pd_style())"
   ]
  },
  {
   "cell_type": "code",
   "execution_count": 9,
   "metadata": {
    "execution": {
     "iopub.execute_input": "2021-01-08T02:44:54.568703Z",
     "iopub.status.busy": "2021-01-08T02:44:54.567724Z",
     "iopub.status.idle": "2021-01-08T02:44:54.618044Z",
     "shell.execute_reply": "2021-01-08T02:44:54.618559Z"
    },
    "papermill": {
     "duration": 0.075476,
     "end_time": "2021-01-08T02:44:54.618709",
     "exception": false,
     "start_time": "2021-01-08T02:44:54.543233",
     "status": "completed"
    },
    "tags": []
   },
   "outputs": [
    {
     "data": {
      "text/html": [
       "<style  type=\"text/css\" >\n",
       "    #T_7d01844a_515b_11eb_ac21_0242ac130202 th {\n",
       "          font-size: 10pt;\n",
       "    }    #T_7d01844a_515b_11eb_ac21_0242ac130202 td {\n",
       "          padding: 0em 0em;\n",
       "    }    #T_7d01844a_515b_11eb_ac21_0242ac130202 th:hover {\n",
       "          font-size: 12pt;\n",
       "    }    #T_7d01844a_515b_11eb_ac21_0242ac130202 tr:hover td:hover {\n",
       "          max-width: 200px;\n",
       "          font-size: 10pt;\n",
       "    }#T_7d01844a_515b_11eb_ac21_0242ac130202row0_col2{\n",
       "            width:  10em;\n",
       "             height:  80%;\n",
       "            background:  linear-gradient(90deg, transparent 43.7%, #55eeee 43.7%, #55eeee 72.2%, transparent 72.2%);\n",
       "        }#T_7d01844a_515b_11eb_ac21_0242ac130202row0_col3{\n",
       "            width:  10em;\n",
       "             height:  80%;\n",
       "            background:  linear-gradient(90deg, transparent 66.7%, #55eeee 66.7%, #55eeee 87.4%, transparent 87.4%);\n",
       "        }#T_7d01844a_515b_11eb_ac21_0242ac130202row0_col4{\n",
       "            width:  10em;\n",
       "             height:  80%;\n",
       "            background:  linear-gradient(90deg, transparent 53.7%, #55eeee 53.7%, #55eeee 100.0%, transparent 100.0%);\n",
       "        }#T_7d01844a_515b_11eb_ac21_0242ac130202row0_col5{\n",
       "            width:  10em;\n",
       "             height:  80%;\n",
       "            background:  linear-gradient(90deg, transparent 22.3%, #55eeee 22.3%, #55eeee 30.3%, transparent 30.3%);\n",
       "        }#T_7d01844a_515b_11eb_ac21_0242ac130202row1_col2{\n",
       "            width:  10em;\n",
       "             height:  80%;\n",
       "            background:  linear-gradient(90deg, transparent 72.2%, #ee55ee 72.2%, #ee55ee 100.0%, transparent 100.0%);\n",
       "        }#T_7d01844a_515b_11eb_ac21_0242ac130202row1_col3{\n",
       "            width:  10em;\n",
       "             height:  80%;\n",
       "            background:  linear-gradient(90deg, transparent 87.4%, #ee55ee 87.4%, #ee55ee 100.0%, transparent 100.0%);\n",
       "        }#T_7d01844a_515b_11eb_ac21_0242ac130202row1_col4{\n",
       "            width:  10em;\n",
       "             height:  80%;\n",
       "            background:  linear-gradient(90deg, transparent 83.2%, #55eeee 83.2%, #55eeee 100.0%, transparent 100.0%);\n",
       "        }#T_7d01844a_515b_11eb_ac21_0242ac130202row1_col5{\n",
       "            width:  10em;\n",
       "             height:  80%;\n",
       "            background:  linear-gradient(90deg, transparent 23.8%, #55eeee 23.8%, #55eeee 30.3%, transparent 30.3%);\n",
       "        }#T_7d01844a_515b_11eb_ac21_0242ac130202row2_col2{\n",
       "            width:  10em;\n",
       "             height:  80%;\n",
       "            background:  linear-gradient(90deg, transparent 34.8%, #55eeee 34.8%, #55eeee 72.2%, transparent 72.2%);\n",
       "        }#T_7d01844a_515b_11eb_ac21_0242ac130202row2_col3{\n",
       "            width:  10em;\n",
       "             height:  80%;\n",
       "            background:  linear-gradient(90deg, transparent 73.3%, #55eeee 73.3%, #55eeee 87.4%, transparent 87.4%);\n",
       "        }#T_7d01844a_515b_11eb_ac21_0242ac130202row2_col4{\n",
       "            width:  10em;\n",
       "             height:  80%;\n",
       "            background:  linear-gradient(90deg, transparent 63.1%, #55eeee 63.1%, #55eeee 100.0%, transparent 100.0%);\n",
       "        }#T_7d01844a_515b_11eb_ac21_0242ac130202row2_col5{\n",
       "            width:  10em;\n",
       "             height:  80%;\n",
       "            background:  linear-gradient(90deg, transparent 17.7%, #55eeee 17.7%, #55eeee 30.3%, transparent 30.3%);\n",
       "        }#T_7d01844a_515b_11eb_ac21_0242ac130202row3_col2,#T_7d01844a_515b_11eb_ac21_0242ac130202row7_col2{\n",
       "            width:  10em;\n",
       "             height:  80%;\n",
       "            background:  linear-gradient(90deg, transparent 28.1%, #55eeee 28.1%, #55eeee 72.2%, transparent 72.2%);\n",
       "        }#T_7d01844a_515b_11eb_ac21_0242ac130202row3_col3,#T_7d01844a_515b_11eb_ac21_0242ac130202row7_col3{\n",
       "            width:  10em;\n",
       "             height:  80%;\n",
       "            background:  linear-gradient(90deg, transparent 53.3%, #55eeee 53.3%, #55eeee 87.4%, transparent 87.4%);\n",
       "        }#T_7d01844a_515b_11eb_ac21_0242ac130202row3_col4{\n",
       "            width:  10em;\n",
       "             height:  80%;\n",
       "            background:  linear-gradient(90deg, transparent 28.3%, #55eeee 28.3%, #55eeee 100.0%, transparent 100.0%);\n",
       "        }#T_7d01844a_515b_11eb_ac21_0242ac130202row3_col5{\n",
       "            width:  10em;\n",
       "             height:  80%;\n",
       "            background:  linear-gradient(90deg, transparent 10.8%, #55eeee 10.8%, #55eeee 30.3%, transparent 30.3%);\n",
       "        }#T_7d01844a_515b_11eb_ac21_0242ac130202row4_col2{\n",
       "            width:  10em;\n",
       "             height:  80%;\n",
       "            background:  linear-gradient(90deg, transparent 40.0%, #55eeee 40.0%, #55eeee 72.2%, transparent 72.2%);\n",
       "        }#T_7d01844a_515b_11eb_ac21_0242ac130202row4_col3{\n",
       "            width:  10em;\n",
       "             height:  80%;\n",
       "            background:  linear-gradient(90deg, transparent 63.3%, #55eeee 63.3%, #55eeee 87.4%, transparent 87.4%);\n",
       "        }#T_7d01844a_515b_11eb_ac21_0242ac130202row4_col4{\n",
       "            width:  10em;\n",
       "             height:  80%;\n",
       "            background:  linear-gradient(90deg, transparent 96.7%, #55eeee 96.7%, #55eeee 100.0%, transparent 100.0%);\n",
       "        }#T_7d01844a_515b_11eb_ac21_0242ac130202row4_col5{\n",
       "            width:  10em;\n",
       "             height:  80%;\n",
       "            background:  linear-gradient(90deg, transparent 30.3%, #ee55ee 30.3%, #ee55ee 43.8%, transparent 43.8%);\n",
       "        }#T_7d01844a_515b_11eb_ac21_0242ac130202row5_col2{\n",
       "            width:  10em;\n",
       "             height:  80%;\n",
       "            background:  linear-gradient(90deg, transparent 31.9%, #55eeee 31.9%, #55eeee 72.2%, transparent 72.2%);\n",
       "        }#T_7d01844a_515b_11eb_ac21_0242ac130202row5_col3{\n",
       "            width:  10em;\n",
       "             height:  80%;\n",
       "            background:  linear-gradient(90deg, transparent 56.7%, #55eeee 56.7%, #55eeee 87.4%, transparent 87.4%);\n",
       "        }#T_7d01844a_515b_11eb_ac21_0242ac130202row5_col4{\n",
       "            width:  10em;\n",
       "             height:  80%;\n",
       "            background:  linear-gradient(90deg, transparent 77.9%, #55eeee 77.9%, #55eeee 100.0%, transparent 100.0%);\n",
       "        }#T_7d01844a_515b_11eb_ac21_0242ac130202row5_col5{\n",
       "            width:  10em;\n",
       "             height:  80%;\n",
       "            background:  linear-gradient(90deg, transparent 30.3%, #ee55ee 30.3%, #ee55ee 30.8%, transparent 30.8%);\n",
       "        }#T_7d01844a_515b_11eb_ac21_0242ac130202row6_col2{\n",
       "            width:  10em;\n",
       "             height:  80%;\n",
       "            background:  linear-gradient(90deg,#55eeee 72.2%, transparent 72.2%);\n",
       "        }#T_7d01844a_515b_11eb_ac21_0242ac130202row6_col3{\n",
       "            width:  10em;\n",
       "             height:  80%;\n",
       "            background:  linear-gradient(90deg,#55eeee 87.4%, transparent 87.4%);\n",
       "        }#T_7d01844a_515b_11eb_ac21_0242ac130202row6_col4{\n",
       "            width:  10em;\n",
       "             height:  80%;\n",
       "            background:  linear-gradient(90deg,#55eeee 100.0%, transparent 100.0%);\n",
       "        }#T_7d01844a_515b_11eb_ac21_0242ac130202row6_col5{\n",
       "            width:  10em;\n",
       "             height:  80%;\n",
       "            background:  linear-gradient(90deg, transparent 30.3%, #ee55ee 30.3%, #ee55ee 100.0%, transparent 100.0%);\n",
       "        }#T_7d01844a_515b_11eb_ac21_0242ac130202row7_col4{\n",
       "            width:  10em;\n",
       "             height:  80%;\n",
       "            background:  linear-gradient(90deg, transparent 19.5%, #55eeee 19.5%, #55eeee 100.0%, transparent 100.0%);\n",
       "        }#T_7d01844a_515b_11eb_ac21_0242ac130202row7_col5{\n",
       "            width:  10em;\n",
       "             height:  80%;\n",
       "            background:  linear-gradient(90deg,#55eeee 30.3%, transparent 30.3%);\n",
       "        }#T_7d01844a_515b_11eb_ac21_0242ac130202row8_col2{\n",
       "            width:  10em;\n",
       "             height:  80%;\n",
       "            background:  linear-gradient(90deg, transparent 17.0%, #55eeee 17.0%, #55eeee 72.2%, transparent 72.2%);\n",
       "        }#T_7d01844a_515b_11eb_ac21_0242ac130202row8_col3{\n",
       "            width:  10em;\n",
       "             height:  80%;\n",
       "            background:  linear-gradient(90deg, transparent 45.0%, #55eeee 45.0%, #55eeee 87.4%, transparent 87.4%);\n",
       "        }#T_7d01844a_515b_11eb_ac21_0242ac130202row8_col4{\n",
       "            width:  10em;\n",
       "             height:  80%;\n",
       "            background:  linear-gradient(90deg, transparent 58.4%, #55eeee 58.4%, #55eeee 100.0%, transparent 100.0%);\n",
       "        }#T_7d01844a_515b_11eb_ac21_0242ac130202row8_col5{\n",
       "            width:  10em;\n",
       "             height:  80%;\n",
       "            background:  linear-gradient(90deg, transparent 30.3%, #ee55ee 30.3%, #ee55ee 53.8%, transparent 53.8%);\n",
       "        }#T_7d01844a_515b_11eb_ac21_0242ac130202row9_col2{\n",
       "            width:  10em;\n",
       "             height:  80%;\n",
       "            background:  linear-gradient(90deg, transparent 16.3%, #55eeee 16.3%, #55eeee 72.2%, transparent 72.2%);\n",
       "        }#T_7d01844a_515b_11eb_ac21_0242ac130202row9_col3{\n",
       "            width:  10em;\n",
       "             height:  80%;\n",
       "            background:  linear-gradient(90deg, transparent 50.0%, #55eeee 50.0%, #55eeee 87.4%, transparent 87.4%);\n",
       "        }#T_7d01844a_515b_11eb_ac21_0242ac130202row9_col4{\n",
       "            width:  10em;\n",
       "             height:  80%;\n",
       "            background:  linear-gradient(90deg, transparent 69.6%, #55eeee 69.6%, #55eeee 100.0%, transparent 100.0%);\n",
       "        }#T_7d01844a_515b_11eb_ac21_0242ac130202row9_col5{\n",
       "            width:  10em;\n",
       "             height:  80%;\n",
       "            background:  linear-gradient(90deg, transparent 30.3%, #ee55ee 30.3%, #ee55ee 60.0%, transparent 60.0%);\n",
       "        }</style><table id=\"T_7d01844a_515b_11eb_ac21_0242ac130202\" ><thead>    <tr>        <th class=\"blank level0\" ></th>        <th class=\"col_heading level0 col0\" >MPG</th>        <th class=\"col_heading level0 col1\" >Cylinders</th>        <th class=\"col_heading level0 col2\" >Displacement</th>        <th class=\"col_heading level0 col3\" >Horsepower</th>        <th class=\"col_heading level0 col4\" >Weight</th>        <th class=\"col_heading level0 col5\" >Acceleration</th>        <th class=\"col_heading level0 col6\" >ModelYear</th>        <th class=\"col_heading level0 col7\" >Origin</th>    </tr></thead><tbody>\n",
       "                <tr>\n",
       "                        <th id=\"T_7d01844a_515b_11eb_ac21_0242ac130202level0_row0\" class=\"row_heading level0 row0\" >382</th>\n",
       "                        <td id=\"T_7d01844a_515b_11eb_ac21_0242ac130202row0_col0\" class=\"data row0 col0\" >26.000000</td>\n",
       "                        <td id=\"T_7d01844a_515b_11eb_ac21_0242ac130202row0_col1\" class=\"data row0 col1\" >4</td>\n",
       "                        <td id=\"T_7d01844a_515b_11eb_ac21_0242ac130202row0_col2\" class=\"data row0 col2\" >-0.367073</td>\n",
       "                        <td id=\"T_7d01844a_515b_11eb_ac21_0242ac130202row0_col3\" class=\"data row0 col3\" >-0.323955</td>\n",
       "                        <td id=\"T_7d01844a_515b_11eb_ac21_0242ac130202row0_col4\" class=\"data row0 col4\" >-0.462189</td>\n",
       "                        <td id=\"T_7d01844a_515b_11eb_ac21_0242ac130202row0_col5\" class=\"data row0 col5\" >-0.377448</td>\n",
       "                        <td id=\"T_7d01844a_515b_11eb_ac21_0242ac130202row0_col6\" class=\"data row0 col6\" >82</td>\n",
       "                        <td id=\"T_7d01844a_515b_11eb_ac21_0242ac130202row0_col7\" class=\"data row0 col7\" >1</td>\n",
       "            </tr>\n",
       "            <tr>\n",
       "                        <th id=\"T_7d01844a_515b_11eb_ac21_0242ac130202level0_row1\" class=\"row_heading level0 row1\" >383</th>\n",
       "                        <td id=\"T_7d01844a_515b_11eb_ac21_0242ac130202row1_col0\" class=\"data row1 col0\" >22.000000</td>\n",
       "                        <td id=\"T_7d01844a_515b_11eb_ac21_0242ac130202row1_col1\" class=\"data row1 col1\" >6</td>\n",
       "                        <td id=\"T_7d01844a_515b_11eb_ac21_0242ac130202row1_col2\" class=\"data row1 col2\" >0.359199</td>\n",
       "                        <td id=\"T_7d01844a_515b_11eb_ac21_0242ac130202row1_col3\" class=\"data row1 col3\" >0.195645</td>\n",
       "                        <td id=\"T_7d01844a_515b_11eb_ac21_0242ac130202row1_col4\" class=\"data row1 col4\" >-0.167864</td>\n",
       "                        <td id=\"T_7d01844a_515b_11eb_ac21_0242ac130202row1_col5\" class=\"data row1 col5\" >-0.304954</td>\n",
       "                        <td id=\"T_7d01844a_515b_11eb_ac21_0242ac130202row1_col6\" class=\"data row1 col6\" >82</td>\n",
       "                        <td id=\"T_7d01844a_515b_11eb_ac21_0242ac130202row1_col7\" class=\"data row1 col7\" >1</td>\n",
       "            </tr>\n",
       "            <tr>\n",
       "                        <th id=\"T_7d01844a_515b_11eb_ac21_0242ac130202level0_row2\" class=\"row_heading level0 row2\" >384</th>\n",
       "                        <td id=\"T_7d01844a_515b_11eb_ac21_0242ac130202row2_col0\" class=\"data row2 col0\" >32.000000</td>\n",
       "                        <td id=\"T_7d01844a_515b_11eb_ac21_0242ac130202row2_col1\" class=\"data row2 col1\" >4</td>\n",
       "                        <td id=\"T_7d01844a_515b_11eb_ac21_0242ac130202row2_col2\" class=\"data row2 col2\" >-0.481748</td>\n",
       "                        <td id=\"T_7d01844a_515b_11eb_ac21_0242ac130202row2_col3\" class=\"data row2 col3\" >-0.220035</td>\n",
       "                        <td id=\"T_7d01844a_515b_11eb_ac21_0242ac130202row2_col4\" class=\"data row2 col4\" >-0.368005</td>\n",
       "                        <td id=\"T_7d01844a_515b_11eb_ac21_0242ac130202row2_col5\" class=\"data row2 col5\" >-0.594928</td>\n",
       "                        <td id=\"T_7d01844a_515b_11eb_ac21_0242ac130202row2_col6\" class=\"data row2 col6\" >82</td>\n",
       "                        <td id=\"T_7d01844a_515b_11eb_ac21_0242ac130202row2_col7\" class=\"data row2 col7\" >3</td>\n",
       "            </tr>\n",
       "            <tr>\n",
       "                        <th id=\"T_7d01844a_515b_11eb_ac21_0242ac130202level0_row3\" class=\"row_heading level0 row3\" >385</th>\n",
       "                        <td id=\"T_7d01844a_515b_11eb_ac21_0242ac130202row3_col0\" class=\"data row3 col0\" >36.000000</td>\n",
       "                        <td id=\"T_7d01844a_515b_11eb_ac21_0242ac130202row3_col1\" class=\"data row3 col1\" >4</td>\n",
       "                        <td id=\"T_7d01844a_515b_11eb_ac21_0242ac130202row3_col2\" class=\"data row3 col2\" >-0.567753</td>\n",
       "                        <td id=\"T_7d01844a_515b_11eb_ac21_0242ac130202row3_col3\" class=\"data row3 col3\" >-0.531795</td>\n",
       "                        <td id=\"T_7d01844a_515b_11eb_ac21_0242ac130202row3_col4\" class=\"data row3 col4\" >-0.715308</td>\n",
       "                        <td id=\"T_7d01844a_515b_11eb_ac21_0242ac130202row3_col5\" class=\"data row3 col5\" >-0.921150</td>\n",
       "                        <td id=\"T_7d01844a_515b_11eb_ac21_0242ac130202row3_col6\" class=\"data row3 col6\" >82</td>\n",
       "                        <td id=\"T_7d01844a_515b_11eb_ac21_0242ac130202row3_col7\" class=\"data row3 col7\" >1</td>\n",
       "            </tr>\n",
       "            <tr>\n",
       "                        <th id=\"T_7d01844a_515b_11eb_ac21_0242ac130202level0_row4\" class=\"row_heading level0 row4\" >386</th>\n",
       "                        <td id=\"T_7d01844a_515b_11eb_ac21_0242ac130202row4_col0\" class=\"data row4 col0\" >27.000000</td>\n",
       "                        <td id=\"T_7d01844a_515b_11eb_ac21_0242ac130202row4_col1\" class=\"data row4 col1\" >4</td>\n",
       "                        <td id=\"T_7d01844a_515b_11eb_ac21_0242ac130202row4_col2\" class=\"data row4 col2\" >-0.414854</td>\n",
       "                        <td id=\"T_7d01844a_515b_11eb_ac21_0242ac130202row4_col3\" class=\"data row4 col3\" >-0.375915</td>\n",
       "                        <td id=\"T_7d01844a_515b_11eb_ac21_0242ac130202row4_col4\" class=\"data row4 col4\" >-0.032475</td>\n",
       "                        <td id=\"T_7d01844a_515b_11eb_ac21_0242ac130202row4_col5\" class=\"data row4 col5\" >0.637463</td>\n",
       "                        <td id=\"T_7d01844a_515b_11eb_ac21_0242ac130202row4_col6\" class=\"data row4 col6\" >82</td>\n",
       "                        <td id=\"T_7d01844a_515b_11eb_ac21_0242ac130202row4_col7\" class=\"data row4 col7\" >1</td>\n",
       "            </tr>\n",
       "            <tr>\n",
       "                        <th id=\"T_7d01844a_515b_11eb_ac21_0242ac130202level0_row5\" class=\"row_heading level0 row5\" >387</th>\n",
       "                        <td id=\"T_7d01844a_515b_11eb_ac21_0242ac130202row5_col0\" class=\"data row5 col0\" >27.000000</td>\n",
       "                        <td id=\"T_7d01844a_515b_11eb_ac21_0242ac130202row5_col1\" class=\"data row5 col1\" >4</td>\n",
       "                        <td id=\"T_7d01844a_515b_11eb_ac21_0242ac130202row5_col2\" class=\"data row5 col2\" >-0.519972</td>\n",
       "                        <td id=\"T_7d01844a_515b_11eb_ac21_0242ac130202row5_col3\" class=\"data row5 col3\" >-0.479835</td>\n",
       "                        <td id=\"T_7d01844a_515b_11eb_ac21_0242ac130202row5_col4\" class=\"data row5 col4\" >-0.220842</td>\n",
       "                        <td id=\"T_7d01844a_515b_11eb_ac21_0242ac130202row5_col5\" class=\"data row5 col5\" >0.021267</td>\n",
       "                        <td id=\"T_7d01844a_515b_11eb_ac21_0242ac130202row5_col6\" class=\"data row5 col6\" >82</td>\n",
       "                        <td id=\"T_7d01844a_515b_11eb_ac21_0242ac130202row5_col7\" class=\"data row5 col7\" >1</td>\n",
       "            </tr>\n",
       "            <tr>\n",
       "                        <th id=\"T_7d01844a_515b_11eb_ac21_0242ac130202level0_row6\" class=\"row_heading level0 row6\" >388</th>\n",
       "                        <td id=\"T_7d01844a_515b_11eb_ac21_0242ac130202row6_col0\" class=\"data row6 col0\" >44.000000</td>\n",
       "                        <td id=\"T_7d01844a_515b_11eb_ac21_0242ac130202row6_col1\" class=\"data row6 col1\" >4</td>\n",
       "                        <td id=\"T_7d01844a_515b_11eb_ac21_0242ac130202row6_col2\" class=\"data row6 col2\" >-0.930889</td>\n",
       "                        <td id=\"T_7d01844a_515b_11eb_ac21_0242ac130202row6_col3\" class=\"data row6 col3\" >-1.363154</td>\n",
       "                        <td id=\"T_7d01844a_515b_11eb_ac21_0242ac130202row6_col4\" class=\"data row6 col4\" >-0.997859</td>\n",
       "                        <td id=\"T_7d01844a_515b_11eb_ac21_0242ac130202row6_col5\" class=\"data row6 col5\" >3.283479</td>\n",
       "                        <td id=\"T_7d01844a_515b_11eb_ac21_0242ac130202row6_col6\" class=\"data row6 col6\" >82</td>\n",
       "                        <td id=\"T_7d01844a_515b_11eb_ac21_0242ac130202row6_col7\" class=\"data row6 col7\" >2</td>\n",
       "            </tr>\n",
       "            <tr>\n",
       "                        <th id=\"T_7d01844a_515b_11eb_ac21_0242ac130202level0_row7\" class=\"row_heading level0 row7\" >389</th>\n",
       "                        <td id=\"T_7d01844a_515b_11eb_ac21_0242ac130202row7_col0\" class=\"data row7 col0\" >32.000000</td>\n",
       "                        <td id=\"T_7d01844a_515b_11eb_ac21_0242ac130202row7_col1\" class=\"data row7 col1\" >4</td>\n",
       "                        <td id=\"T_7d01844a_515b_11eb_ac21_0242ac130202row7_col2\" class=\"data row7 col2\" >-0.567753</td>\n",
       "                        <td id=\"T_7d01844a_515b_11eb_ac21_0242ac130202row7_col3\" class=\"data row7 col3\" >-0.531795</td>\n",
       "                        <td id=\"T_7d01844a_515b_11eb_ac21_0242ac130202row7_col4\" class=\"data row7 col4\" >-0.803605</td>\n",
       "                        <td id=\"T_7d01844a_515b_11eb_ac21_0242ac130202row7_col5\" class=\"data row7 col5\" >-1.428605</td>\n",
       "                        <td id=\"T_7d01844a_515b_11eb_ac21_0242ac130202row7_col6\" class=\"data row7 col6\" >82</td>\n",
       "                        <td id=\"T_7d01844a_515b_11eb_ac21_0242ac130202row7_col7\" class=\"data row7 col7\" >1</td>\n",
       "            </tr>\n",
       "            <tr>\n",
       "                        <th id=\"T_7d01844a_515b_11eb_ac21_0242ac130202level0_row8\" class=\"row_heading level0 row8\" >390</th>\n",
       "                        <td id=\"T_7d01844a_515b_11eb_ac21_0242ac130202row8_col0\" class=\"data row8 col0\" >28.000000</td>\n",
       "                        <td id=\"T_7d01844a_515b_11eb_ac21_0242ac130202row8_col1\" class=\"data row8 col1\" >4</td>\n",
       "                        <td id=\"T_7d01844a_515b_11eb_ac21_0242ac130202row8_col2\" class=\"data row8 col2\" >-0.711097</td>\n",
       "                        <td id=\"T_7d01844a_515b_11eb_ac21_0242ac130202row8_col3\" class=\"data row8 col3\" >-0.661694</td>\n",
       "                        <td id=\"T_7d01844a_515b_11eb_ac21_0242ac130202row8_col4\" class=\"data row8 col4\" >-0.415097</td>\n",
       "                        <td id=\"T_7d01844a_515b_11eb_ac21_0242ac130202row8_col5\" class=\"data row8 col5\" >1.108671</td>\n",
       "                        <td id=\"T_7d01844a_515b_11eb_ac21_0242ac130202row8_col6\" class=\"data row8 col6\" >82</td>\n",
       "                        <td id=\"T_7d01844a_515b_11eb_ac21_0242ac130202row8_col7\" class=\"data row8 col7\" >1</td>\n",
       "            </tr>\n",
       "            <tr>\n",
       "                        <th id=\"T_7d01844a_515b_11eb_ac21_0242ac130202level0_row9\" class=\"row_heading level0 row9\" >391</th>\n",
       "                        <td id=\"T_7d01844a_515b_11eb_ac21_0242ac130202row9_col0\" class=\"data row9 col0\" >31.000000</td>\n",
       "                        <td id=\"T_7d01844a_515b_11eb_ac21_0242ac130202row9_col1\" class=\"data row9 col1\" >4</td>\n",
       "                        <td id=\"T_7d01844a_515b_11eb_ac21_0242ac130202row9_col2\" class=\"data row9 col2\" >-0.720653</td>\n",
       "                        <td id=\"T_7d01844a_515b_11eb_ac21_0242ac130202row9_col3\" class=\"data row9 col3\" >-0.583754</td>\n",
       "                        <td id=\"T_7d01844a_515b_11eb_ac21_0242ac130202row9_col4\" class=\"data row9 col4\" >-0.303253</td>\n",
       "                        <td id=\"T_7d01844a_515b_11eb_ac21_0242ac130202row9_col5\" class=\"data row9 col5\" >1.398646</td>\n",
       "                        <td id=\"T_7d01844a_515b_11eb_ac21_0242ac130202row9_col6\" class=\"data row9 col6\" >82</td>\n",
       "                        <td id=\"T_7d01844a_515b_11eb_ac21_0242ac130202row9_col7\" class=\"data row9 col7\" >1</td>\n",
       "            </tr>\n",
       "    </tbody></table>"
      ],
      "text/plain": [
       "<pandas.io.formats.style.Styler at 0x7f372d5e6e90>"
      ]
     },
     "execution_count": 9,
     "metadata": {},
     "output_type": "execute_result"
    }
   ],
   "source": [
    "stats=df.describe().transpose()\n",
    "dfn=df.copy()\n",
    "for nc in numeric_columns:\n",
    "    mean=stats.loc[nc,'mean']\n",
    "    std=stats.loc[nc,'std']\n",
    "    dfn.loc[:,nc]=(dfn.loc[:,nc]-mean)/std\n",
    "dfn.tail(10).style.bar(\n",
    "    align='mid',color=['#55eeee','#ee55ee'],\n",
    "    subset=numeric_columns).set_table_styles(pd_style())"
   ]
  },
  {
   "cell_type": "code",
   "execution_count": 10,
   "metadata": {
    "_kg_hide-input": true,
    "execution": {
     "iopub.execute_input": "2021-01-08T02:44:54.667822Z",
     "iopub.status.busy": "2021-01-08T02:44:54.666797Z",
     "iopub.status.idle": "2021-01-08T02:44:54.673271Z",
     "shell.execute_reply": "2021-01-08T02:44:54.673748Z"
    },
    "papermill": {
     "duration": 0.032527,
     "end_time": "2021-01-08T02:44:54.673928",
     "exception": false,
     "start_time": "2021-01-08T02:44:54.641401",
     "status": "completed"
    },
    "tags": []
   },
   "outputs": [
    {
     "data": {
      "text/html": [
       "<div id='html_string5028630.318983484' style='width:100%;'><iframe src='d3header5028630.318983484.html' height=75.0\n",
       "    style='display:block; width:100%;'></iframe></div>"
      ],
      "text/plain": [
       "<IPython.core.display.HTML object>"
      ]
     },
     "metadata": {},
     "output_type": "display_data"
    }
   ],
   "source": [
    "%cmap_header TF Data"
   ]
  },
  {
   "cell_type": "code",
   "execution_count": 11,
   "metadata": {
    "_kg_hide-output": false,
    "execution": {
     "iopub.execute_input": "2021-01-08T02:44:54.724275Z",
     "iopub.status.busy": "2021-01-08T02:44:54.723310Z",
     "iopub.status.idle": "2021-01-08T02:44:54.730441Z",
     "shell.execute_reply": "2021-01-08T02:44:54.731000Z"
    },
    "papermill": {
     "duration": 0.033986,
     "end_time": "2021-01-08T02:44:54.731164",
     "exception": false,
     "start_time": "2021-01-08T02:44:54.697178",
     "status": "completed"
    },
    "tags": []
   },
   "outputs": [
    {
     "data": {
      "text/html": [
       "<style>@import \n",
       "    'https://fonts.googleapis.com/css?family=Aladin&effect=3d-float';      \n",
       "    </style><h1 class='font-effect-3d-float' \n",
       "    style='font-family:Aladin; color:#ee55ee; font-size:20px;'>\n",
       "    NumericColumn(key='Displacement', shape=(1,), default_value=None, dtype=tf.float32, normalizer_fn=None)</h1>"
      ],
      "text/plain": [
       "<IPython.core.display.HTML object>"
      ]
     },
     "metadata": {},
     "output_type": "display_data"
    }
   ],
   "source": [
    "numeric_features=[]\n",
    "for nc in numeric_columns:\n",
    "    nf=tf.feature_column.numeric_column(key=nc)\n",
    "    numeric_features.append(nf) \n",
    "for nf in numeric_features: \n",
    "    phtml(str(nf)); break"
   ]
  },
  {
   "cell_type": "code",
   "execution_count": 12,
   "metadata": {
    "execution": {
     "iopub.execute_input": "2021-01-08T02:44:54.782701Z",
     "iopub.status.busy": "2021-01-08T02:44:54.782049Z",
     "iopub.status.idle": "2021-01-08T02:44:54.793128Z",
     "shell.execute_reply": "2021-01-08T02:44:54.792450Z"
    },
    "papermill": {
     "duration": 0.03806,
     "end_time": "2021-01-08T02:44:54.793242",
     "exception": false,
     "start_time": "2021-01-08T02:44:54.755182",
     "status": "completed"
    },
    "tags": []
   },
   "outputs": [
    {
     "data": {
      "text/html": [
       "<style>@import \n",
       "    'https://fonts.googleapis.com/css?family=Aladin&effect=3d-float';      \n",
       "    </style><h1 class='font-effect-3d-float' \n",
       "    style='font-family:Aladin; color:#ee55ee; font-size:20px;'>\n",
       "    BucketizedColumn(source_column=NumericColumn(key='ModelYear', shape=(1,), default_value=None, dtype=tf.float32, normalizer_fn=None), boundaries=(73, 76, 79))</h1>"
      ],
      "text/plain": [
       "<IPython.core.display.HTML object>"
      ]
     },
     "metadata": {},
     "output_type": "display_data"
    }
   ],
   "source": [
    "fyear=tf.feature_column.numeric_column(key=\"ModelYear\")\n",
    "fcylinders=tf.feature_column.numeric_column(key=\"Cylinders\")\n",
    "bucketized_features=[]\n",
    "fyear=tf.feature_column.bucketized_column(\n",
    "    source_column=fyear,boundaries=[73,76,79])\n",
    "fcylinders=tf.feature_column.bucketized_column(\n",
    "    source_column=fcylinders,boundaries=[4,6,8])\n",
    "bucketized_features.append(fyear)\n",
    "bucketized_features.append(fcylinders)\n",
    "for bf in bucketized_features: \n",
    "    phtml(str(bf)); break"
   ]
  },
  {
   "cell_type": "code",
   "execution_count": 13,
   "metadata": {
    "execution": {
     "iopub.execute_input": "2021-01-08T02:44:54.851326Z",
     "iopub.status.busy": "2021-01-08T02:44:54.850145Z",
     "iopub.status.idle": "2021-01-08T02:44:54.854550Z",
     "shell.execute_reply": "2021-01-08T02:44:54.855178Z"
    },
    "papermill": {
     "duration": 0.036184,
     "end_time": "2021-01-08T02:44:54.855323",
     "exception": false,
     "start_time": "2021-01-08T02:44:54.819139",
     "status": "completed"
    },
    "tags": []
   },
   "outputs": [
    {
     "data": {
      "text/html": [
       "<style>@import \n",
       "    'https://fonts.googleapis.com/css?family=Aladin&effect=3d-float';      \n",
       "    </style><h1 class='font-effect-3d-float' \n",
       "    style='font-family:Aladin; color:#ee55ee; font-size:20px;'>\n",
       "    IndicatorColumn(categorical_column=VocabularyListCategoricalColumn(key='Origin', vocabulary_list=(1, 2, 3), dtype=tf.int64, default_value=-1, num_oov_buckets=0))</h1>"
      ],
      "text/plain": [
       "<IPython.core.display.HTML object>"
      ]
     },
     "metadata": {},
     "output_type": "display_data"
    }
   ],
   "source": [
    "forigin=tf.feature_column\\\n",
    ".categorical_column_with_vocabulary_list(\n",
    "    key='Origin',vocabulary_list=[1,2,3])\n",
    "categorical_features=\\\n",
    "[tf.feature_column.indicator_column(forigin)]\n",
    "phtml(str(categorical_features[0]))"
   ]
  },
  {
   "cell_type": "code",
   "execution_count": 14,
   "metadata": {
    "execution": {
     "iopub.execute_input": "2021-01-08T02:44:54.909242Z",
     "iopub.status.busy": "2021-01-08T02:44:54.908588Z",
     "iopub.status.idle": "2021-01-08T02:44:54.916738Z",
     "shell.execute_reply": "2021-01-08T02:44:54.916204Z"
    },
    "papermill": {
     "duration": 0.036071,
     "end_time": "2021-01-08T02:44:54.916869",
     "exception": false,
     "start_time": "2021-01-08T02:44:54.880798",
     "status": "completed"
    },
    "tags": []
   },
   "outputs": [
    {
     "data": {
      "text/html": [
       "<style>@import \n",
       "    'https://fonts.googleapis.com/css?family=Aladin&effect=3d-float';      \n",
       "    </style><h1 class='font-effect-3d-float' \n",
       "    style='font-family:Aladin; color:#ee55ee; font-size:20px;'>\n",
       "    [313, 79]</h1>"
      ],
      "text/plain": [
       "<IPython.core.display.HTML object>"
      ]
     },
     "metadata": {},
     "output_type": "display_data"
    }
   ],
   "source": [
    "features=(numeric_features+\n",
    "          bucketized_features+ \n",
    "          categorical_features)\n",
    "dfn_train,dfn_test=\\\n",
    "sms.train_test_split(dfn,train_size=.8,shuffle=True)\n",
    "phtml(str([len(dfn_train),len(dfn_test)]))"
   ]
  },
  {
   "cell_type": "code",
   "execution_count": 15,
   "metadata": {
    "execution": {
     "iopub.execute_input": "2021-01-08T02:44:55.038219Z",
     "iopub.status.busy": "2021-01-08T02:44:55.037382Z",
     "iopub.status.idle": "2021-01-08T02:44:55.124272Z",
     "shell.execute_reply": "2021-01-08T02:44:55.124757Z"
    },
    "papermill": {
     "duration": 0.18238,
     "end_time": "2021-01-08T02:44:55.124930",
     "exception": false,
     "start_time": "2021-01-08T02:44:54.942550",
     "status": "completed"
    },
    "tags": []
   },
   "outputs": [
    {
     "data": {
      "text/html": [
       "<style>@import \n",
       "    'https://fonts.googleapis.com/css?family=Aladin&effect=3d-float';      \n",
       "    </style><h1 class='font-effect-3d-float' \n",
       "    style='font-family:Aladin; color:#ee55ee; font-size:20px;'>\n",
       "    keys: </br>dict_keys(['Cylinders', 'Displacement', 'Horsepower', 'Weight', 'Acceleration', 'ModelYear', 'Origin'])</h1>"
      ],
      "text/plain": [
       "<IPython.core.display.HTML object>"
      ]
     },
     "metadata": {},
     "output_type": "display_data"
    },
    {
     "data": {
      "text/html": [
       "<style>@import \n",
       "    'https://fonts.googleapis.com/css?family=Aladin&effect=3d-float';      \n",
       "    </style><h1 class='font-effect-3d-float' \n",
       "    style='font-family:Aladin; color:#ee55ee; font-size:20px;'>\n",
       "    batch values of `Cylinders`: </br> tf.Tensor([6 4 4 8 8 8 4 8], shape=(8,), dtype=int64)</h1>"
      ],
      "text/plain": [
       "<IPython.core.display.HTML object>"
      ]
     },
     "metadata": {},
     "output_type": "display_data"
    }
   ],
   "source": [
    "batch_size=8\n",
    "def train_input_fn(dfn_train,batch_size):\n",
    "    dft=dfn_train.copy()\n",
    "    x_train,y_train=dft,dft.pop('MPG')\n",
    "    ds_train=tds.from_tensor_slices((dict(x_train),y_train))\n",
    "    return ds_train.shuffle(1000).repeat().batch(batch_size)\n",
    "ds_train=train_input_fn(dfn_train,batch_size)\n",
    "batch=next(iter(ds_train))\n",
    "phtml('keys: </br>%s'%batch[0].keys())\n",
    "phtml('batch values of `Cylinders`: </br> %s'%batch[0]['Cylinders'])"
   ]
  },
  {
   "cell_type": "code",
   "execution_count": 16,
   "metadata": {
    "execution": {
     "iopub.execute_input": "2021-01-08T02:44:55.200011Z",
     "iopub.status.busy": "2021-01-08T02:44:55.199282Z",
     "iopub.status.idle": "2021-01-08T02:44:55.213742Z",
     "shell.execute_reply": "2021-01-08T02:44:55.213118Z"
    },
    "papermill": {
     "duration": 0.061338,
     "end_time": "2021-01-08T02:44:55.213958",
     "exception": false,
     "start_time": "2021-01-08T02:44:55.152620",
     "status": "completed"
    },
    "tags": []
   },
   "outputs": [
    {
     "data": {
      "text/html": [
       "<style>@import \n",
       "    'https://fonts.googleapis.com/css?family=Aladin&effect=3d-float';      \n",
       "    </style><h1 class='font-effect-3d-float' \n",
       "    style='font-family:Aladin; color:#ee55ee; font-size:20px;'>\n",
       "    keys: </br>dict_keys(['Cylinders', 'Displacement', 'Horsepower', 'Weight', 'Acceleration', 'ModelYear', 'Origin'])</h1>"
      ],
      "text/plain": [
       "<IPython.core.display.HTML object>"
      ]
     },
     "metadata": {},
     "output_type": "display_data"
    },
    {
     "data": {
      "text/html": [
       "<style>@import \n",
       "    'https://fonts.googleapis.com/css?family=Aladin&effect=3d-float';      \n",
       "    </style><h1 class='font-effect-3d-float' \n",
       "    style='font-family:Aladin; color:#ee55ee; font-size:20px;'>\n",
       "    batch values of `ModelYear`: </br>tf.Tensor([81 73 80 74 70 74 77 72], shape=(8,), dtype=int64)</h1>"
      ],
      "text/plain": [
       "<IPython.core.display.HTML object>"
      ]
     },
     "metadata": {},
     "output_type": "display_data"
    }
   ],
   "source": [
    "def test_input_fn(dfn_test,batch_size):\n",
    "    dft2=dfn_test.copy()\n",
    "    x_test,y_test=dft2,dft2.pop('MPG')\n",
    "    ds_test=tds.from_tensor_slices((dict(x_test),y_test))\n",
    "    return ds_test.batch(batch_size)\n",
    "ds_test=train_input_fn(dfn_test,batch_size)\n",
    "batch=next(iter(ds_test))\n",
    "phtml('keys: </br>%s'%batch[0].keys())\n",
    "phtml('batch values of `ModelYear`: </br>%s'%\\\n",
    "      batch[0]['ModelYear'])"
   ]
  },
  {
   "cell_type": "code",
   "execution_count": 17,
   "metadata": {
    "_kg_hide-input": true,
    "execution": {
     "iopub.execute_input": "2021-01-08T02:44:55.276205Z",
     "iopub.status.busy": "2021-01-08T02:44:55.275485Z",
     "iopub.status.idle": "2021-01-08T02:44:55.280278Z",
     "shell.execute_reply": "2021-01-08T02:44:55.279503Z"
    },
    "papermill": {
     "duration": 0.038441,
     "end_time": "2021-01-08T02:44:55.280396",
     "exception": false,
     "start_time": "2021-01-08T02:44:55.241955",
     "status": "completed"
    },
    "tags": []
   },
   "outputs": [
    {
     "data": {
      "text/html": [
       "<div id='html_string9777401.671640921' style='width:100%;'><iframe src='d3header9777401.671640921.html' height=75.0\n",
       "    style='display:block; width:100%;'></iframe></div>"
      ],
      "text/plain": [
       "<IPython.core.display.HTML object>"
      ]
     },
     "metadata": {},
     "output_type": "display_data"
    }
   ],
   "source": [
    "%cmap_header TF Regressor"
   ]
  },
  {
   "cell_type": "code",
   "execution_count": 18,
   "metadata": {
    "_kg_hide-output": false,
    "execution": {
     "iopub.execute_input": "2021-01-08T02:44:55.344058Z",
     "iopub.status.busy": "2021-01-08T02:44:55.343409Z",
     "iopub.status.idle": "2021-01-08T02:44:55.550671Z",
     "shell.execute_reply": "2021-01-08T02:44:55.549946Z"
    },
    "papermill": {
     "duration": 0.24117,
     "end_time": "2021-01-08T02:44:55.550789",
     "exception": false,
     "start_time": "2021-01-08T02:44:55.309619",
     "status": "completed"
    },
    "tags": []
   },
   "outputs": [],
   "source": [
    "reg=tf.estimator.DNNRegressor(\n",
    "    feature_columns=features,hidden_units=[64,32,16,8],\n",
    "    model_dir='models/autompg-dnnregressor/');"
   ]
  },
  {
   "cell_type": "code",
   "execution_count": 19,
   "metadata": {
    "_kg_hide-output": false,
    "execution": {
     "iopub.execute_input": "2021-01-08T02:44:55.616925Z",
     "iopub.status.busy": "2021-01-08T02:44:55.615898Z",
     "iopub.status.idle": "2021-01-08T02:45:41.949618Z",
     "shell.execute_reply": "2021-01-08T02:45:41.948894Z"
    },
    "papermill": {
     "duration": 46.369686,
     "end_time": "2021-01-08T02:45:41.949740",
     "exception": false,
     "start_time": "2021-01-08T02:44:55.580054",
     "status": "completed"
    },
    "tags": []
   },
   "outputs": [
    {
     "data": {
      "text/html": [
       "<style>@import \n",
       "    'https://fonts.googleapis.com/css?family=Aladin&effect=3d-float';      \n",
       "    </style><h1 class='font-effect-3d-float' \n",
       "    style='font-family:Aladin; color:#ee55ee; font-size:20px;'>\n",
       "    training steps: 40000</h1>"
      ],
      "text/plain": [
       "<IPython.core.display.HTML object>"
      ]
     },
     "metadata": {},
     "output_type": "display_data"
    }
   ],
   "source": [
    "epochs=1000\n",
    "steps=epochs*int(np.ceil(len(dfn_train)/batch_size))\n",
    "phtml('training steps: %d'%steps)\n",
    "reg.train(input_fn=lambda:\\\n",
    "          train_input_fn(dfn_train,\n",
    "          batch_size),steps=steps);"
   ]
  },
  {
   "cell_type": "code",
   "execution_count": 20,
   "metadata": {
    "execution": {
     "iopub.execute_input": "2021-01-08T02:45:42.018375Z",
     "iopub.status.busy": "2021-01-08T02:45:42.017626Z",
     "iopub.status.idle": "2021-01-08T02:45:42.021021Z",
     "shell.execute_reply": "2021-01-08T02:45:42.020491Z"
    },
    "papermill": {
     "duration": 0.041043,
     "end_time": "2021-01-08T02:45:42.021144",
     "exception": false,
     "start_time": "2021-01-08T02:45:41.980101",
     "status": "completed"
    },
    "tags": []
   },
   "outputs": [],
   "source": [
    "reloaded_reg=tf.estimator.DNNRegressor(\n",
    "    feature_columns=features,hidden_units=[64,32,16,8],\n",
    "    warm_start_from='models/autompg-dnnregressor/',\n",
    "    model_dir='models/autompg-dnnregressor/');"
   ]
  },
  {
   "cell_type": "code",
   "execution_count": 21,
   "metadata": {
    "execution": {
     "iopub.execute_input": "2021-01-08T02:45:42.088390Z",
     "iopub.status.busy": "2021-01-08T02:45:42.087517Z",
     "iopub.status.idle": "2021-01-08T02:45:42.955599Z",
     "shell.execute_reply": "2021-01-08T02:45:42.954301Z"
    },
    "papermill": {
     "duration": 0.904414,
     "end_time": "2021-01-08T02:45:42.955744",
     "exception": false,
     "start_time": "2021-01-08T02:45:42.051330",
     "status": "completed"
    },
    "tags": []
   },
   "outputs": [
    {
     "data": {
      "text/html": [
       "<style>@import \n",
       "    'https://fonts.googleapis.com/css?family=Aladin&effect=3d-float';      \n",
       "    </style><h1 class='font-effect-3d-float' \n",
       "    style='font-family:Aladin; color:#ee55ee; font-size:20px;'>\n",
       "    average_loss: 7.168259143829346</h1>"
      ],
      "text/plain": [
       "<IPython.core.display.HTML object>"
      ]
     },
     "metadata": {},
     "output_type": "display_data"
    },
    {
     "data": {
      "text/html": [
       "<style>@import \n",
       "    'https://fonts.googleapis.com/css?family=Aladin&effect=3d-float';      \n",
       "    </style><h1 class='font-effect-3d-float' \n",
       "    style='font-family:Aladin; color:#ee55ee; font-size:20px;'>\n",
       "    label/mean: 23.677217483520508</h1>"
      ],
      "text/plain": [
       "<IPython.core.display.HTML object>"
      ]
     },
     "metadata": {},
     "output_type": "display_data"
    },
    {
     "data": {
      "text/html": [
       "<style>@import \n",
       "    'https://fonts.googleapis.com/css?family=Aladin&effect=3d-float';      \n",
       "    </style><h1 class='font-effect-3d-float' \n",
       "    style='font-family:Aladin; color:#ee55ee; font-size:20px;'>\n",
       "    loss: 7.185423851013184</h1>"
      ],
      "text/plain": [
       "<IPython.core.display.HTML object>"
      ]
     },
     "metadata": {},
     "output_type": "display_data"
    },
    {
     "data": {
      "text/html": [
       "<style>@import \n",
       "    'https://fonts.googleapis.com/css?family=Aladin&effect=3d-float';      \n",
       "    </style><h1 class='font-effect-3d-float' \n",
       "    style='font-family:Aladin; color:#ee55ee; font-size:20px;'>\n",
       "    prediction/mean: 23.884313583374023</h1>"
      ],
      "text/plain": [
       "<IPython.core.display.HTML object>"
      ]
     },
     "metadata": {},
     "output_type": "display_data"
    },
    {
     "data": {
      "text/html": [
       "<style>@import \n",
       "    'https://fonts.googleapis.com/css?family=Aladin&effect=3d-float';      \n",
       "    </style><h1 class='font-effect-3d-float' \n",
       "    style='font-family:Aladin; color:#ee55ee; font-size:20px;'>\n",
       "    global_step: 40000</h1>"
      ],
      "text/plain": [
       "<IPython.core.display.HTML object>"
      ]
     },
     "metadata": {},
     "output_type": "display_data"
    },
    {
     "data": {
      "text/html": [
       "<style>@import \n",
       "    'https://fonts.googleapis.com/css?family=Aladin&effect=3d-float';      \n",
       "    </style><h1 class='font-effect-3d-float' \n",
       "    style='font-family:Aladin; color:#ee55ee; font-size:20px;'>\n",
       "    test average loss% 7.1683</h1>"
      ],
      "text/plain": [
       "<IPython.core.display.HTML object>"
      ]
     },
     "metadata": {},
     "output_type": "display_data"
    }
   ],
   "source": [
    "test_results=reloaded_reg\\\n",
    ".evaluate(input_fn=lambda:\\\n",
    "          test_input_fn(dfn_test,batch_size))\n",
    "for key in test_results:\n",
    "    phtml('{}: {}'.format(key,test_results[key]))\n",
    "phtml('test average loss% {:.4f}'\\\n",
    "      .format(test_results['average_loss']))"
   ]
  },
  {
   "cell_type": "code",
   "execution_count": 22,
   "metadata": {
    "execution": {
     "iopub.execute_input": "2021-01-08T02:45:43.031304Z",
     "iopub.status.busy": "2021-01-08T02:45:43.030580Z",
     "iopub.status.idle": "2021-01-08T02:45:43.472212Z",
     "shell.execute_reply": "2021-01-08T02:45:43.471445Z"
    },
    "papermill": {
     "duration": 0.482887,
     "end_time": "2021-01-08T02:45:43.472338",
     "exception": false,
     "start_time": "2021-01-08T02:45:42.989451",
     "status": "completed"
    },
    "tags": []
   },
   "outputs": [],
   "source": [
    "y_test_pred=reg.predict(input_fn=lambda:\\\n",
    "                        test_input_fn(dfn_test,batch_size))\n",
    "py_test=[]\n",
    "for i in range(len(dfn_test)):\n",
    "    py_test.append(next(iter(y_test_pred))['predictions'][0])"
   ]
  },
  {
   "cell_type": "code",
   "execution_count": 23,
   "metadata": {
    "execution": {
     "iopub.execute_input": "2021-01-08T02:45:43.548044Z",
     "iopub.status.busy": "2021-01-08T02:45:43.547307Z",
     "iopub.status.idle": "2021-01-08T02:45:43.854255Z",
     "shell.execute_reply": "2021-01-08T02:45:43.853527Z"
    },
    "papermill": {
     "duration": 0.348349,
     "end_time": "2021-01-08T02:45:43.854381",
     "exception": false,
     "start_time": "2021-01-08T02:45:43.506032",
     "status": "completed"
    },
    "tags": []
   },
   "outputs": [
    {
     "data": {
      "image/png": "[encoded data removed]",
      "text/plain": [
       "<Figure size 720x288 with 1 Axes>"
      ]
     },
     "metadata": {
      "needs_background": "light"
     },
     "output_type": "display_data"
    }
   ],
   "source": [
    "pl.figure(figsize=(10,4))\n",
    "pl.plot(range(len(dfn_test)),dfn_test['MPG'],\n",
    "        '-o',label='real data',c='#55eeee',ms=7)\n",
    "pl.plot(range(len(dfn_test)),py_test,\n",
    "        '-o',label='predictions',c='#ee55ee',ms=5)\n",
    "pl.tight_layout(); pl.grid(); pl.legend();"
   ]
  }
 ],
 "metadata": {
  "kernelspec": {
   "display_name": "Python 3",
   "language": "python",
   "name": "python3"
  },
  "language_info": {
   "codemirror_mode": {
    "name": "ipython",
    "version": 3
   },
   "file_extension": ".py",
   "mimetype": "text/x-python",
   "name": "python",
   "nbconvert_exporter": "python",
   "pygments_lexer": "ipython3",
   "version": "3.7.6"
  },
  "papermill": {
   "duration": 62.66594,
   "end_time": "2021-01-08T02:45:44.000902",
   "environment_variables": {},
   "exception": null,
   "input_path": "__notebook__.ipynb",
   "output_path": "__notebook__.ipynb",
   "parameters": {},
   "start_time": "2021-01-08T02:44:41.334962",
   "version": "2.1.0"
  }
 },
 "nbformat": 4,
 "nbformat_minor": 4
}
