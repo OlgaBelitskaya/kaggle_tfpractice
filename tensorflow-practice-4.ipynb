{
 "cells": [
  {
   "cell_type": "markdown",
   "metadata": {
    "papermill": {
     "duration": 0.016344,
     "end_time": "2021-01-07T18:35:09.181590",
     "exception": false,
     "start_time": "2021-01-07T18:35:09.165246",
     "status": "completed"
    },
    "tags": []
   },
   "source": [
    "Reading classics [Python Machine Learning 3rd Edition](https://github.com/rasbt/python-machine-learning-book-3rd-edition/blob/master/ch14/ch14_part2.ipynb)"
   ]
  },
  {
   "cell_type": "code",
   "execution_count": 1,
   "metadata": {
    "_kg_hide-input": true,
    "execution": {
     "iopub.execute_input": "2021-01-07T18:35:09.220435Z",
     "iopub.status.busy": "2021-01-07T18:35:09.219380Z",
     "iopub.status.idle": "2021-01-07T18:35:09.223788Z",
     "shell.execute_reply": "2021-01-07T18:35:09.222992Z"
    },
    "papermill": {
     "duration": 0.026534,
     "end_time": "2021-01-07T18:35:09.223932",
     "exception": false,
     "start_time": "2021-01-07T18:35:09.197398",
     "status": "completed"
    },
    "tags": []
   },
   "outputs": [
    {
     "name": "stdout",
     "output_type": "stream",
     "text": [
      "Writing cmap_header.py\n"
     ]
    }
   ],
   "source": [
    "%%writefile cmap_header.py\n",
    "from IPython.display import display,HTML\n",
    "from IPython.core.magic import register_line_magic\n",
    "import random\n",
    "#Sequential (Single-Hue,Multi-Hue),Diverging, Cyclical cmaps: \n",
    "#Reds,Sinebow,Rainbow,Turbo,Warm,Cool,Plasma,Spectral,etc.\n",
    "@register_line_magic\n",
    "def cmap_header(params):\n",
    "    params=params.split('|'); string=params[0]\n",
    "    if len(params)==1: \n",
    "        font_size=30; font_family='Akronim'; cmap='Sinebow'\n",
    "    elif  len(params)==2: \n",
    "        font_size=int(params[1])\n",
    "        font_family='Akronim'; cmap='Sinebow'\n",
    "    elif  len(params)==3: \n",
    "        font_size=int(params[1]); font_family=params[2]\n",
    "        cmap='Sinebow'\n",
    "    else: \n",
    "        font_size=int(params[1]); font_family=params[2]\n",
    "        cmap=params[3]\n",
    "    height=font_size*2.5\n",
    "    randi=str(random.uniform(0,9999999))\n",
    "    html_str=\"\"\"\n",
    "    <head><script src='https://d3js.org/d3.v6.min.js'></script>\n",
    "    </head><style>@import 'https://fonts.googleapis.com/css?family=\"\"\"+\\\n",
    "    font_family+\"\"\"&effect=3d'; #colorized1 {font-family:\"\"\"+font_family+\\\n",
    "    \"\"\"; color:white; padding-left:10px; font-size:\"\"\"+str(font_size)+\\\n",
    "    \"\"\"px;}</style><h1 id='colorized1' class='font-effect-3d'>\"\"\"+string+\\\n",
    "    \"\"\"</h1><script>\n",
    "    var tc=setInterval(function(){\n",
    "        var now=new Date().getTime();\n",
    "        var iddoc1=document.getElementById('colorized1');\n",
    "        iddoc1.style.color=d3.interpolate\"\"\"+cmap+\\\n",
    "    \"\"\"(now%(60000)/60000);},1)</script>\"\"\"\n",
    "    file='d3header'+randi+'.html'\n",
    "    with open(file,'w') as f:\n",
    "         f.write(html_str); f.close()\n",
    "    string=\"\"\"<div id='html_string\"\"\"+randi+\\\n",
    "    \"\"\"' style='width:100%;'><iframe src='\"\"\"+file+\\\n",
    "    \"\"\"' height=\"\"\"+str(height)+\"\"\"\n",
    "    style='display:block; width:100%;'></iframe></div>\"\"\"\n",
    "    display(HTML(string))"
   ]
  },
  {
   "cell_type": "code",
   "execution_count": 2,
   "metadata": {
    "_kg_hide-input": true,
    "execution": {
     "iopub.execute_input": "2021-01-07T18:35:09.263053Z",
     "iopub.status.busy": "2021-01-07T18:35:09.262283Z",
     "iopub.status.idle": "2021-01-07T18:35:09.269791Z",
     "shell.execute_reply": "2021-01-07T18:35:09.269205Z"
    },
    "papermill": {
     "duration": 0.028665,
     "end_time": "2021-01-07T18:35:09.269888",
     "exception": false,
     "start_time": "2021-01-07T18:35:09.241223",
     "status": "completed"
    },
    "tags": []
   },
   "outputs": [
    {
     "data": {
      "text/html": [
       "<div id='html_string6704289.443975576' style='width:100%;'><iframe src='d3header6704289.443975576.html' height=75.0\n",
       "    style='display:block; width:100%;'></iframe></div>"
      ],
      "text/plain": [
       "<IPython.core.display.HTML object>"
      ]
     },
     "metadata": {},
     "output_type": "display_data"
    }
   ],
   "source": [
    "%run cmap_header.py\n",
    "%cmap_header Code Modules & Functions"
   ]
  },
  {
   "cell_type": "code",
   "execution_count": 3,
   "metadata": {
    "execution": {
     "iopub.execute_input": "2021-01-07T18:35:09.308242Z",
     "iopub.status.busy": "2021-01-07T18:35:09.307467Z",
     "iopub.status.idle": "2021-01-07T18:35:15.675870Z",
     "shell.execute_reply": "2021-01-07T18:35:15.676490Z"
    },
    "papermill": {
     "duration": 6.390447,
     "end_time": "2021-01-07T18:35:15.676701",
     "exception": false,
     "start_time": "2021-01-07T18:35:09.286254",
     "status": "completed"
    },
    "tags": []
   },
   "outputs": [],
   "source": [
    "import tensorflow as tf,pylab as pl\n",
    "import pandas as pd,numpy as np,seaborn as sb\n",
    "import tensorflow.keras.utils as tku\n",
    "from tensorflow.data import Dataset as tds\n",
    "import sklearn.model_selection as sms"
   ]
  },
  {
   "cell_type": "code",
   "execution_count": 4,
   "metadata": {
    "_kg_hide-input": true,
    "execution": {
     "iopub.execute_input": "2021-01-07T18:35:15.721323Z",
     "iopub.status.busy": "2021-01-07T18:35:15.720231Z",
     "iopub.status.idle": "2021-01-07T18:35:15.723472Z",
     "shell.execute_reply": "2021-01-07T18:35:15.722874Z"
    },
    "papermill": {
     "duration": 0.029783,
     "end_time": "2021-01-07T18:35:15.723590",
     "exception": false,
     "start_time": "2021-01-07T18:35:15.693807",
     "status": "completed"
    },
    "tags": []
   },
   "outputs": [],
   "source": [
    "def phtml(str):\n",
    "    display(HTML(\"\"\"<style>\n",
    "    @import 'https://fonts.googleapis.com/css?family=Aladin&effect=3d-float';      \n",
    "    </style><h1 class='font-effect-3d-float' \n",
    "    style='font-family:Aladin; color:#ee55ee; font-size:20px;'>\n",
    "    %s</h1>\"\"\"%str))\n",
    "def pd_style():\n",
    "    return [dict(selector='th',\n",
    "                 props=[('font-size','10pt')]),\n",
    "            dict(selector='td',\n",
    "                 props=[('padding','0em 0em')]),\n",
    "            dict(selector='th:hover',\n",
    "                 props=[('font-size','12pt')]),\n",
    "            dict(selector='tr:hover td:hover',\n",
    "                 props=[('max-width','200px'),\n",
    "                        ('font-size','10pt')])]"
   ]
  },
  {
   "cell_type": "code",
   "execution_count": 5,
   "metadata": {
    "_kg_hide-input": true,
    "execution": {
     "iopub.execute_input": "2021-01-07T18:35:15.762550Z",
     "iopub.status.busy": "2021-01-07T18:35:15.761567Z",
     "iopub.status.idle": "2021-01-07T18:35:15.766811Z",
     "shell.execute_reply": "2021-01-07T18:35:15.766190Z"
    },
    "papermill": {
     "duration": 0.026634,
     "end_time": "2021-01-07T18:35:15.766910",
     "exception": false,
     "start_time": "2021-01-07T18:35:15.740276",
     "status": "completed"
    },
    "tags": []
   },
   "outputs": [
    {
     "data": {
      "text/html": [
       "<div id='html_string3673777.6202759715' style='width:100%;'><iframe src='d3header3673777.6202759715.html' height=75.0\n",
       "    style='display:block; width:100%;'></iframe></div>"
      ],
      "text/plain": [
       "<IPython.core.display.HTML object>"
      ]
     },
     "metadata": {},
     "output_type": "display_data"
    }
   ],
   "source": [
    "%cmap_header Data Processing"
   ]
  },
  {
   "cell_type": "code",
   "execution_count": 6,
   "metadata": {
    "_kg_hide-output": true,
    "execution": {
     "iopub.execute_input": "2021-01-07T18:35:15.807638Z",
     "iopub.status.busy": "2021-01-07T18:35:15.806867Z",
     "iopub.status.idle": "2021-01-07T18:35:16.394382Z",
     "shell.execute_reply": "2021-01-07T18:35:16.393700Z"
    },
    "papermill": {
     "duration": 0.610145,
     "end_time": "2021-01-07T18:35:16.394496",
     "exception": false,
     "start_time": "2021-01-07T18:35:15.784351",
     "status": "completed"
    },
    "tags": []
   },
   "outputs": [
    {
     "name": "stdout",
     "output_type": "stream",
     "text": [
      "Downloading data from http://archive.ics.uci.edu/ml/machine-learning-databases/auto-mpg/auto-mpg.data\n",
      "32768/30286 [================================] - 0s 4us/step\n"
     ]
    }
   ],
   "source": [
    "url='http://archive.ics.uci.edu/ml/machine-learning-databases'+\\\n",
    "    '/auto-mpg/auto-mpg.data'\n",
    "dp=tku.get_file('auto-mpg.data',url)"
   ]
  },
  {
   "cell_type": "code",
   "execution_count": 7,
   "metadata": {
    "_kg_hide-output": false,
    "execution": {
     "iopub.execute_input": "2021-01-07T18:35:16.442836Z",
     "iopub.status.busy": "2021-01-07T18:35:16.442152Z",
     "iopub.status.idle": "2021-01-07T18:35:16.644994Z",
     "shell.execute_reply": "2021-01-07T18:35:16.645635Z"
    },
    "papermill": {
     "duration": 0.231359,
     "end_time": "2021-01-07T18:35:16.645768",
     "exception": false,
     "start_time": "2021-01-07T18:35:16.414409",
     "status": "completed"
    },
    "tags": []
   },
   "outputs": [
    {
     "data": {
      "text/html": [
       "<style>\n",
       "    @import 'https://fonts.googleapis.com/css?family=Aladin&effect=3d-float';      \n",
       "    </style><h1 class='font-effect-3d-float' \n",
       "    style='font-family:Aladin; color:#ee55ee; font-size:20px;'>\n",
       "    Data Exploration</h1>"
      ],
      "text/plain": [
       "<IPython.core.display.HTML object>"
      ]
     },
     "metadata": {},
     "output_type": "display_data"
    },
    {
     "data": {
      "text/html": [
       "<style  type=\"text/css\" >\n",
       "    #T_165dda0c_5117_11eb_9346_0242ac130202 th {\n",
       "          font-size: 10pt;\n",
       "    }    #T_165dda0c_5117_11eb_9346_0242ac130202 td {\n",
       "          padding: 0em 0em;\n",
       "    }    #T_165dda0c_5117_11eb_9346_0242ac130202 th:hover {\n",
       "          font-size: 12pt;\n",
       "    }    #T_165dda0c_5117_11eb_9346_0242ac130202 tr:hover td:hover {\n",
       "          max-width: 200px;\n",
       "          font-size: 10pt;\n",
       "    }#T_165dda0c_5117_11eb_9346_0242ac130202row0_col0,#T_165dda0c_5117_11eb_9346_0242ac130202row2_col0,#T_165dda0c_5117_11eb_9346_0242ac130202row3_col0,#T_165dda0c_5117_11eb_9346_0242ac130202row4_col0{\n",
       "            background-color:  #01feff;\n",
       "            color:  #000000;\n",
       "            max-width:  80px;\n",
       "            font-size:  1pt;\n",
       "        }#T_165dda0c_5117_11eb_9346_0242ac130202row0_col1,#T_165dda0c_5117_11eb_9346_0242ac130202row0_col5,#T_165dda0c_5117_11eb_9346_0242ac130202row0_col7,#T_165dda0c_5117_11eb_9346_0242ac130202row1_col0,#T_165dda0c_5117_11eb_9346_0242ac130202row1_col1,#T_165dda0c_5117_11eb_9346_0242ac130202row1_col5,#T_165dda0c_5117_11eb_9346_0242ac130202row1_col7,#T_165dda0c_5117_11eb_9346_0242ac130202row2_col1,#T_165dda0c_5117_11eb_9346_0242ac130202row2_col5,#T_165dda0c_5117_11eb_9346_0242ac130202row2_col7,#T_165dda0c_5117_11eb_9346_0242ac130202row3_col1,#T_165dda0c_5117_11eb_9346_0242ac130202row3_col5,#T_165dda0c_5117_11eb_9346_0242ac130202row3_col7,#T_165dda0c_5117_11eb_9346_0242ac130202row4_col1,#T_165dda0c_5117_11eb_9346_0242ac130202row4_col5,#T_165dda0c_5117_11eb_9346_0242ac130202row4_col7,#T_165dda0c_5117_11eb_9346_0242ac130202row5_col0,#T_165dda0c_5117_11eb_9346_0242ac130202row5_col1,#T_165dda0c_5117_11eb_9346_0242ac130202row5_col5,#T_165dda0c_5117_11eb_9346_0242ac130202row5_col7,#T_165dda0c_5117_11eb_9346_0242ac130202row6_col0,#T_165dda0c_5117_11eb_9346_0242ac130202row6_col1,#T_165dda0c_5117_11eb_9346_0242ac130202row6_col5,#T_165dda0c_5117_11eb_9346_0242ac130202row6_col7,#T_165dda0c_5117_11eb_9346_0242ac130202row7_col0,#T_165dda0c_5117_11eb_9346_0242ac130202row7_col1,#T_165dda0c_5117_11eb_9346_0242ac130202row7_col5,#T_165dda0c_5117_11eb_9346_0242ac130202row7_col7,#T_165dda0c_5117_11eb_9346_0242ac130202row8_col0,#T_165dda0c_5117_11eb_9346_0242ac130202row8_col1,#T_165dda0c_5117_11eb_9346_0242ac130202row8_col5,#T_165dda0c_5117_11eb_9346_0242ac130202row8_col7,#T_165dda0c_5117_11eb_9346_0242ac130202row9_col0,#T_165dda0c_5117_11eb_9346_0242ac130202row9_col1,#T_165dda0c_5117_11eb_9346_0242ac130202row9_col5,#T_165dda0c_5117_11eb_9346_0242ac130202row9_col7{\n",
       "            background-color:  #00ffff;\n",
       "            color:  #000000;\n",
       "            max-width:  80px;\n",
       "            font-size:  1pt;\n",
       "        }#T_165dda0c_5117_11eb_9346_0242ac130202row0_col2,#T_165dda0c_5117_11eb_9346_0242ac130202row3_col2,#T_165dda0c_5117_11eb_9346_0242ac130202row4_col2{\n",
       "            background-color:  #16e9ff;\n",
       "            color:  #000000;\n",
       "            max-width:  80px;\n",
       "            font-size:  1pt;\n",
       "        }#T_165dda0c_5117_11eb_9346_0242ac130202row0_col3{\n",
       "            background-color:  #09f6ff;\n",
       "            color:  #000000;\n",
       "            max-width:  80px;\n",
       "            font-size:  1pt;\n",
       "        }#T_165dda0c_5117_11eb_9346_0242ac130202row0_col4,#T_165dda0c_5117_11eb_9346_0242ac130202row1_col4,#T_165dda0c_5117_11eb_9346_0242ac130202row2_col4,#T_165dda0c_5117_11eb_9346_0242ac130202row3_col4,#T_165dda0c_5117_11eb_9346_0242ac130202row4_col4,#T_165dda0c_5117_11eb_9346_0242ac130202row5_col4,#T_165dda0c_5117_11eb_9346_0242ac130202row6_col4,#T_165dda0c_5117_11eb_9346_0242ac130202row7_col4,#T_165dda0c_5117_11eb_9346_0242ac130202row8_col4,#T_165dda0c_5117_11eb_9346_0242ac130202row9_col4{\n",
       "            background-color:  #ff00ff;\n",
       "            color:  #f1f1f1;\n",
       "            max-width:  80px;\n",
       "            font-size:  1pt;\n",
       "        }#T_165dda0c_5117_11eb_9346_0242ac130202row0_col6,#T_165dda0c_5117_11eb_9346_0242ac130202row2_col6,#T_165dda0c_5117_11eb_9346_0242ac130202row3_col6,#T_165dda0c_5117_11eb_9346_0242ac130202row4_col6{\n",
       "            background-color:  #05faff;\n",
       "            color:  #000000;\n",
       "            max-width:  80px;\n",
       "            font-size:  1pt;\n",
       "        }#T_165dda0c_5117_11eb_9346_0242ac130202row1_col2{\n",
       "            background-color:  #18e7ff;\n",
       "            color:  #000000;\n",
       "            max-width:  80px;\n",
       "            font-size:  1pt;\n",
       "        }#T_165dda0c_5117_11eb_9346_0242ac130202row1_col3,#T_165dda0c_5117_11eb_9346_0242ac130202row2_col3,#T_165dda0c_5117_11eb_9346_0242ac130202row3_col3,#T_165dda0c_5117_11eb_9346_0242ac130202row5_col3{\n",
       "            background-color:  #0bf4ff;\n",
       "            color:  #000000;\n",
       "            max-width:  80px;\n",
       "            font-size:  1pt;\n",
       "        }#T_165dda0c_5117_11eb_9346_0242ac130202row1_col6,#T_165dda0c_5117_11eb_9346_0242ac130202row5_col6,#T_165dda0c_5117_11eb_9346_0242ac130202row6_col6,#T_165dda0c_5117_11eb_9346_0242ac130202row7_col6,#T_165dda0c_5117_11eb_9346_0242ac130202row9_col6{\n",
       "            background-color:  #04fbff;\n",
       "            color:  #000000;\n",
       "            max-width:  80px;\n",
       "            font-size:  1pt;\n",
       "        }#T_165dda0c_5117_11eb_9346_0242ac130202row2_col2{\n",
       "            background-color:  #17e8ff;\n",
       "            color:  #000000;\n",
       "            max-width:  80px;\n",
       "            font-size:  1pt;\n",
       "        }#T_165dda0c_5117_11eb_9346_0242ac130202row4_col3{\n",
       "            background-color:  #0af5ff;\n",
       "            color:  #000000;\n",
       "            max-width:  80px;\n",
       "            font-size:  1pt;\n",
       "        }#T_165dda0c_5117_11eb_9346_0242ac130202row5_col2,#T_165dda0c_5117_11eb_9346_0242ac130202row9_col2{\n",
       "            background-color:  #19e6ff;\n",
       "            color:  #000000;\n",
       "            max-width:  80px;\n",
       "            font-size:  1pt;\n",
       "        }#T_165dda0c_5117_11eb_9346_0242ac130202row6_col2,#T_165dda0c_5117_11eb_9346_0242ac130202row7_col2,#T_165dda0c_5117_11eb_9346_0242ac130202row8_col2{\n",
       "            background-color:  #1ae5ff;\n",
       "            color:  #000000;\n",
       "            max-width:  80px;\n",
       "            font-size:  1pt;\n",
       "        }#T_165dda0c_5117_11eb_9346_0242ac130202row6_col3,#T_165dda0c_5117_11eb_9346_0242ac130202row7_col3,#T_165dda0c_5117_11eb_9346_0242ac130202row8_col3,#T_165dda0c_5117_11eb_9346_0242ac130202row9_col3{\n",
       "            background-color:  #0cf3ff;\n",
       "            color:  #000000;\n",
       "            max-width:  80px;\n",
       "            font-size:  1pt;\n",
       "        }#T_165dda0c_5117_11eb_9346_0242ac130202row8_col6{\n",
       "            background-color:  #03fcff;\n",
       "            color:  #000000;\n",
       "            max-width:  80px;\n",
       "            font-size:  1pt;\n",
       "        }</style><table id=\"T_165dda0c_5117_11eb_9346_0242ac130202\" ><thead>    <tr>        <th class=\"blank level0\" ></th>        <th class=\"col_heading level0 col0\" >MPG</th>        <th class=\"col_heading level0 col1\" >Cylinders</th>        <th class=\"col_heading level0 col2\" >Displacement</th>        <th class=\"col_heading level0 col3\" >Horsepower</th>        <th class=\"col_heading level0 col4\" >Weight</th>        <th class=\"col_heading level0 col5\" >Acceleration</th>        <th class=\"col_heading level0 col6\" >ModelYear</th>        <th class=\"col_heading level0 col7\" >Origin</th>    </tr></thead><tbody>\n",
       "                <tr>\n",
       "                        <th id=\"T_165dda0c_5117_11eb_9346_0242ac130202level0_row0\" class=\"row_heading level0 row0\" >0</th>\n",
       "                        <td id=\"T_165dda0c_5117_11eb_9346_0242ac130202row0_col0\" class=\"data row0 col0\" >18.00</td>\n",
       "                        <td id=\"T_165dda0c_5117_11eb_9346_0242ac130202row0_col1\" class=\"data row0 col1\" >8</td>\n",
       "                        <td id=\"T_165dda0c_5117_11eb_9346_0242ac130202row0_col2\" class=\"data row0 col2\" >307.00</td>\n",
       "                        <td id=\"T_165dda0c_5117_11eb_9346_0242ac130202row0_col3\" class=\"data row0 col3\" >130.00</td>\n",
       "                        <td id=\"T_165dda0c_5117_11eb_9346_0242ac130202row0_col4\" class=\"data row0 col4\" >3504.00</td>\n",
       "                        <td id=\"T_165dda0c_5117_11eb_9346_0242ac130202row0_col5\" class=\"data row0 col5\" >12.00</td>\n",
       "                        <td id=\"T_165dda0c_5117_11eb_9346_0242ac130202row0_col6\" class=\"data row0 col6\" >70</td>\n",
       "                        <td id=\"T_165dda0c_5117_11eb_9346_0242ac130202row0_col7\" class=\"data row0 col7\" >1</td>\n",
       "            </tr>\n",
       "            <tr>\n",
       "                        <th id=\"T_165dda0c_5117_11eb_9346_0242ac130202level0_row1\" class=\"row_heading level0 row1\" >1</th>\n",
       "                        <td id=\"T_165dda0c_5117_11eb_9346_0242ac130202row1_col0\" class=\"data row1 col0\" >15.00</td>\n",
       "                        <td id=\"T_165dda0c_5117_11eb_9346_0242ac130202row1_col1\" class=\"data row1 col1\" >8</td>\n",
       "                        <td id=\"T_165dda0c_5117_11eb_9346_0242ac130202row1_col2\" class=\"data row1 col2\" >350.00</td>\n",
       "                        <td id=\"T_165dda0c_5117_11eb_9346_0242ac130202row1_col3\" class=\"data row1 col3\" >165.00</td>\n",
       "                        <td id=\"T_165dda0c_5117_11eb_9346_0242ac130202row1_col4\" class=\"data row1 col4\" >3693.00</td>\n",
       "                        <td id=\"T_165dda0c_5117_11eb_9346_0242ac130202row1_col5\" class=\"data row1 col5\" >11.50</td>\n",
       "                        <td id=\"T_165dda0c_5117_11eb_9346_0242ac130202row1_col6\" class=\"data row1 col6\" >70</td>\n",
       "                        <td id=\"T_165dda0c_5117_11eb_9346_0242ac130202row1_col7\" class=\"data row1 col7\" >1</td>\n",
       "            </tr>\n",
       "            <tr>\n",
       "                        <th id=\"T_165dda0c_5117_11eb_9346_0242ac130202level0_row2\" class=\"row_heading level0 row2\" >2</th>\n",
       "                        <td id=\"T_165dda0c_5117_11eb_9346_0242ac130202row2_col0\" class=\"data row2 col0\" >18.00</td>\n",
       "                        <td id=\"T_165dda0c_5117_11eb_9346_0242ac130202row2_col1\" class=\"data row2 col1\" >8</td>\n",
       "                        <td id=\"T_165dda0c_5117_11eb_9346_0242ac130202row2_col2\" class=\"data row2 col2\" >318.00</td>\n",
       "                        <td id=\"T_165dda0c_5117_11eb_9346_0242ac130202row2_col3\" class=\"data row2 col3\" >150.00</td>\n",
       "                        <td id=\"T_165dda0c_5117_11eb_9346_0242ac130202row2_col4\" class=\"data row2 col4\" >3436.00</td>\n",
       "                        <td id=\"T_165dda0c_5117_11eb_9346_0242ac130202row2_col5\" class=\"data row2 col5\" >11.00</td>\n",
       "                        <td id=\"T_165dda0c_5117_11eb_9346_0242ac130202row2_col6\" class=\"data row2 col6\" >70</td>\n",
       "                        <td id=\"T_165dda0c_5117_11eb_9346_0242ac130202row2_col7\" class=\"data row2 col7\" >1</td>\n",
       "            </tr>\n",
       "            <tr>\n",
       "                        <th id=\"T_165dda0c_5117_11eb_9346_0242ac130202level0_row3\" class=\"row_heading level0 row3\" >3</th>\n",
       "                        <td id=\"T_165dda0c_5117_11eb_9346_0242ac130202row3_col0\" class=\"data row3 col0\" >16.00</td>\n",
       "                        <td id=\"T_165dda0c_5117_11eb_9346_0242ac130202row3_col1\" class=\"data row3 col1\" >8</td>\n",
       "                        <td id=\"T_165dda0c_5117_11eb_9346_0242ac130202row3_col2\" class=\"data row3 col2\" >304.00</td>\n",
       "                        <td id=\"T_165dda0c_5117_11eb_9346_0242ac130202row3_col3\" class=\"data row3 col3\" >150.00</td>\n",
       "                        <td id=\"T_165dda0c_5117_11eb_9346_0242ac130202row3_col4\" class=\"data row3 col4\" >3433.00</td>\n",
       "                        <td id=\"T_165dda0c_5117_11eb_9346_0242ac130202row3_col5\" class=\"data row3 col5\" >12.00</td>\n",
       "                        <td id=\"T_165dda0c_5117_11eb_9346_0242ac130202row3_col6\" class=\"data row3 col6\" >70</td>\n",
       "                        <td id=\"T_165dda0c_5117_11eb_9346_0242ac130202row3_col7\" class=\"data row3 col7\" >1</td>\n",
       "            </tr>\n",
       "            <tr>\n",
       "                        <th id=\"T_165dda0c_5117_11eb_9346_0242ac130202level0_row4\" class=\"row_heading level0 row4\" >4</th>\n",
       "                        <td id=\"T_165dda0c_5117_11eb_9346_0242ac130202row4_col0\" class=\"data row4 col0\" >17.00</td>\n",
       "                        <td id=\"T_165dda0c_5117_11eb_9346_0242ac130202row4_col1\" class=\"data row4 col1\" >8</td>\n",
       "                        <td id=\"T_165dda0c_5117_11eb_9346_0242ac130202row4_col2\" class=\"data row4 col2\" >302.00</td>\n",
       "                        <td id=\"T_165dda0c_5117_11eb_9346_0242ac130202row4_col3\" class=\"data row4 col3\" >140.00</td>\n",
       "                        <td id=\"T_165dda0c_5117_11eb_9346_0242ac130202row4_col4\" class=\"data row4 col4\" >3449.00</td>\n",
       "                        <td id=\"T_165dda0c_5117_11eb_9346_0242ac130202row4_col5\" class=\"data row4 col5\" >10.50</td>\n",
       "                        <td id=\"T_165dda0c_5117_11eb_9346_0242ac130202row4_col6\" class=\"data row4 col6\" >70</td>\n",
       "                        <td id=\"T_165dda0c_5117_11eb_9346_0242ac130202row4_col7\" class=\"data row4 col7\" >1</td>\n",
       "            </tr>\n",
       "            <tr>\n",
       "                        <th id=\"T_165dda0c_5117_11eb_9346_0242ac130202level0_row5\" class=\"row_heading level0 row5\" >5</th>\n",
       "                        <td id=\"T_165dda0c_5117_11eb_9346_0242ac130202row5_col0\" class=\"data row5 col0\" >15.00</td>\n",
       "                        <td id=\"T_165dda0c_5117_11eb_9346_0242ac130202row5_col1\" class=\"data row5 col1\" >8</td>\n",
       "                        <td id=\"T_165dda0c_5117_11eb_9346_0242ac130202row5_col2\" class=\"data row5 col2\" >429.00</td>\n",
       "                        <td id=\"T_165dda0c_5117_11eb_9346_0242ac130202row5_col3\" class=\"data row5 col3\" >198.00</td>\n",
       "                        <td id=\"T_165dda0c_5117_11eb_9346_0242ac130202row5_col4\" class=\"data row5 col4\" >4341.00</td>\n",
       "                        <td id=\"T_165dda0c_5117_11eb_9346_0242ac130202row5_col5\" class=\"data row5 col5\" >10.00</td>\n",
       "                        <td id=\"T_165dda0c_5117_11eb_9346_0242ac130202row5_col6\" class=\"data row5 col6\" >70</td>\n",
       "                        <td id=\"T_165dda0c_5117_11eb_9346_0242ac130202row5_col7\" class=\"data row5 col7\" >1</td>\n",
       "            </tr>\n",
       "            <tr>\n",
       "                        <th id=\"T_165dda0c_5117_11eb_9346_0242ac130202level0_row6\" class=\"row_heading level0 row6\" >6</th>\n",
       "                        <td id=\"T_165dda0c_5117_11eb_9346_0242ac130202row6_col0\" class=\"data row6 col0\" >14.00</td>\n",
       "                        <td id=\"T_165dda0c_5117_11eb_9346_0242ac130202row6_col1\" class=\"data row6 col1\" >8</td>\n",
       "                        <td id=\"T_165dda0c_5117_11eb_9346_0242ac130202row6_col2\" class=\"data row6 col2\" >454.00</td>\n",
       "                        <td id=\"T_165dda0c_5117_11eb_9346_0242ac130202row6_col3\" class=\"data row6 col3\" >220.00</td>\n",
       "                        <td id=\"T_165dda0c_5117_11eb_9346_0242ac130202row6_col4\" class=\"data row6 col4\" >4354.00</td>\n",
       "                        <td id=\"T_165dda0c_5117_11eb_9346_0242ac130202row6_col5\" class=\"data row6 col5\" >9.00</td>\n",
       "                        <td id=\"T_165dda0c_5117_11eb_9346_0242ac130202row6_col6\" class=\"data row6 col6\" >70</td>\n",
       "                        <td id=\"T_165dda0c_5117_11eb_9346_0242ac130202row6_col7\" class=\"data row6 col7\" >1</td>\n",
       "            </tr>\n",
       "            <tr>\n",
       "                        <th id=\"T_165dda0c_5117_11eb_9346_0242ac130202level0_row7\" class=\"row_heading level0 row7\" >7</th>\n",
       "                        <td id=\"T_165dda0c_5117_11eb_9346_0242ac130202row7_col0\" class=\"data row7 col0\" >14.00</td>\n",
       "                        <td id=\"T_165dda0c_5117_11eb_9346_0242ac130202row7_col1\" class=\"data row7 col1\" >8</td>\n",
       "                        <td id=\"T_165dda0c_5117_11eb_9346_0242ac130202row7_col2\" class=\"data row7 col2\" >440.00</td>\n",
       "                        <td id=\"T_165dda0c_5117_11eb_9346_0242ac130202row7_col3\" class=\"data row7 col3\" >215.00</td>\n",
       "                        <td id=\"T_165dda0c_5117_11eb_9346_0242ac130202row7_col4\" class=\"data row7 col4\" >4312.00</td>\n",
       "                        <td id=\"T_165dda0c_5117_11eb_9346_0242ac130202row7_col5\" class=\"data row7 col5\" >8.50</td>\n",
       "                        <td id=\"T_165dda0c_5117_11eb_9346_0242ac130202row7_col6\" class=\"data row7 col6\" >70</td>\n",
       "                        <td id=\"T_165dda0c_5117_11eb_9346_0242ac130202row7_col7\" class=\"data row7 col7\" >1</td>\n",
       "            </tr>\n",
       "            <tr>\n",
       "                        <th id=\"T_165dda0c_5117_11eb_9346_0242ac130202level0_row8\" class=\"row_heading level0 row8\" >8</th>\n",
       "                        <td id=\"T_165dda0c_5117_11eb_9346_0242ac130202row8_col0\" class=\"data row8 col0\" >14.00</td>\n",
       "                        <td id=\"T_165dda0c_5117_11eb_9346_0242ac130202row8_col1\" class=\"data row8 col1\" >8</td>\n",
       "                        <td id=\"T_165dda0c_5117_11eb_9346_0242ac130202row8_col2\" class=\"data row8 col2\" >455.00</td>\n",
       "                        <td id=\"T_165dda0c_5117_11eb_9346_0242ac130202row8_col3\" class=\"data row8 col3\" >225.00</td>\n",
       "                        <td id=\"T_165dda0c_5117_11eb_9346_0242ac130202row8_col4\" class=\"data row8 col4\" >4425.00</td>\n",
       "                        <td id=\"T_165dda0c_5117_11eb_9346_0242ac130202row8_col5\" class=\"data row8 col5\" >10.00</td>\n",
       "                        <td id=\"T_165dda0c_5117_11eb_9346_0242ac130202row8_col6\" class=\"data row8 col6\" >70</td>\n",
       "                        <td id=\"T_165dda0c_5117_11eb_9346_0242ac130202row8_col7\" class=\"data row8 col7\" >1</td>\n",
       "            </tr>\n",
       "            <tr>\n",
       "                        <th id=\"T_165dda0c_5117_11eb_9346_0242ac130202level0_row9\" class=\"row_heading level0 row9\" >9</th>\n",
       "                        <td id=\"T_165dda0c_5117_11eb_9346_0242ac130202row9_col0\" class=\"data row9 col0\" >15.00</td>\n",
       "                        <td id=\"T_165dda0c_5117_11eb_9346_0242ac130202row9_col1\" class=\"data row9 col1\" >8</td>\n",
       "                        <td id=\"T_165dda0c_5117_11eb_9346_0242ac130202row9_col2\" class=\"data row9 col2\" >390.00</td>\n",
       "                        <td id=\"T_165dda0c_5117_11eb_9346_0242ac130202row9_col3\" class=\"data row9 col3\" >190.00</td>\n",
       "                        <td id=\"T_165dda0c_5117_11eb_9346_0242ac130202row9_col4\" class=\"data row9 col4\" >3850.00</td>\n",
       "                        <td id=\"T_165dda0c_5117_11eb_9346_0242ac130202row9_col5\" class=\"data row9 col5\" >8.50</td>\n",
       "                        <td id=\"T_165dda0c_5117_11eb_9346_0242ac130202row9_col6\" class=\"data row9 col6\" >70</td>\n",
       "                        <td id=\"T_165dda0c_5117_11eb_9346_0242ac130202row9_col7\" class=\"data row9 col7\" >1</td>\n",
       "            </tr>\n",
       "    </tbody></table>"
      ],
      "text/plain": [
       "<pandas.io.formats.style.Styler at 0x7f3250657ed0>"
      ]
     },
     "execution_count": 7,
     "metadata": {},
     "output_type": "execute_result"
    }
   ],
   "source": [
    "columns=['MPG','Cylinders','Displacement','Horsepower',\n",
    "         'Weight','Acceleration','ModelYear','Origin']\n",
    "numeric_columns=columns[2:6]\n",
    "df=pd.read_csv(dp,names=columns,\n",
    "               na_values=\"?\",comment='\\t',sep=\" \",\n",
    "               skipinitialspace=True)\n",
    "df.head(10).style.background_gradient('cool',axis=1)\\\n",
    "    .set_properties(**{'max-width':'80px','font-size':'1pt'})\\\n",
    "    .set_caption(phtml('Data Exploration'))\\\n",
    "    .set_precision(2).set_table_styles(pd_style())"
   ]
  },
  {
   "cell_type": "code",
   "execution_count": 8,
   "metadata": {
    "execution": {
     "iopub.execute_input": "2021-01-07T18:35:16.695752Z",
     "iopub.status.busy": "2021-01-07T18:35:16.695106Z",
     "iopub.status.idle": "2021-01-07T18:35:16.737917Z",
     "shell.execute_reply": "2021-01-07T18:35:16.737441Z"
    },
    "papermill": {
     "duration": 0.071901,
     "end_time": "2021-01-07T18:35:16.738042",
     "exception": false,
     "start_time": "2021-01-07T18:35:16.666141",
     "status": "completed"
    },
    "tags": []
   },
   "outputs": [
    {
     "data": {
      "text/html": [
       "<style  type=\"text/css\" >\n",
       "    #T_166c80b6_5117_11eb_9346_0242ac130202 th {\n",
       "          font-size: 10pt;\n",
       "    }    #T_166c80b6_5117_11eb_9346_0242ac130202 td {\n",
       "          padding: 0em 0em;\n",
       "    }    #T_166c80b6_5117_11eb_9346_0242ac130202 th:hover {\n",
       "          font-size: 12pt;\n",
       "    }    #T_166c80b6_5117_11eb_9346_0242ac130202 tr:hover td:hover {\n",
       "          max-width: 200px;\n",
       "          font-size: 10pt;\n",
       "    }#T_166c80b6_5117_11eb_9346_0242ac130202row0_col2{\n",
       "            background-color:  #6f90ff;\n",
       "            color:  #000000;\n",
       "        }#T_166c80b6_5117_11eb_9346_0242ac130202row0_col3{\n",
       "            background-color:  #aa55ff;\n",
       "            color:  #000000;\n",
       "        }#T_166c80b6_5117_11eb_9346_0242ac130202row0_col4{\n",
       "            background-color:  #8e71ff;\n",
       "            color:  #000000;\n",
       "        }#T_166c80b6_5117_11eb_9346_0242ac130202row0_col5{\n",
       "            background-color:  #39c6ff;\n",
       "            color:  #000000;\n",
       "        }#T_166c80b6_5117_11eb_9346_0242ac130202row1_col2,#T_166c80b6_5117_11eb_9346_0242ac130202row1_col3,#T_166c80b6_5117_11eb_9346_0242ac130202row4_col4,#T_166c80b6_5117_11eb_9346_0242ac130202row6_col5{\n",
       "            background-color:  #ff00ff;\n",
       "            color:  #f1f1f1;\n",
       "        }#T_166c80b6_5117_11eb_9346_0242ac130202row1_col4{\n",
       "            background-color:  #dc23ff;\n",
       "            color:  #f1f1f1;\n",
       "        }#T_166c80b6_5117_11eb_9346_0242ac130202row1_col5{\n",
       "            background-color:  #3dc2ff;\n",
       "            color:  #000000;\n",
       "        }#T_166c80b6_5117_11eb_9346_0242ac130202row2_col2{\n",
       "            background-color:  #59a6ff;\n",
       "            color:  #000000;\n",
       "        }#T_166c80b6_5117_11eb_9346_0242ac130202row2_col3{\n",
       "            background-color:  #bb44ff;\n",
       "            color:  #000000;\n",
       "        }#T_166c80b6_5117_11eb_9346_0242ac130202row2_col4{\n",
       "            background-color:  #a758ff;\n",
       "            color:  #000000;\n",
       "        }#T_166c80b6_5117_11eb_9346_0242ac130202row2_col5{\n",
       "            background-color:  #2dd2ff;\n",
       "            color:  #000000;\n",
       "        }#T_166c80b6_5117_11eb_9346_0242ac130202row3_col2,#T_166c80b6_5117_11eb_9346_0242ac130202row7_col2{\n",
       "            background-color:  #48b7ff;\n",
       "            color:  #000000;\n",
       "        }#T_166c80b6_5117_11eb_9346_0242ac130202row3_col3,#T_166c80b6_5117_11eb_9346_0242ac130202row7_col3{\n",
       "            background-color:  #8877ff;\n",
       "            color:  #000000;\n",
       "        }#T_166c80b6_5117_11eb_9346_0242ac130202row3_col4{\n",
       "            background-color:  #4ab5ff;\n",
       "            color:  #000000;\n",
       "        }#T_166c80b6_5117_11eb_9346_0242ac130202row3_col5{\n",
       "            background-color:  #1be4ff;\n",
       "            color:  #000000;\n",
       "        }#T_166c80b6_5117_11eb_9346_0242ac130202row4_col2{\n",
       "            background-color:  #6699ff;\n",
       "            color:  #000000;\n",
       "        }#T_166c80b6_5117_11eb_9346_0242ac130202row4_col3{\n",
       "            background-color:  #a25dff;\n",
       "            color:  #000000;\n",
       "        }#T_166c80b6_5117_11eb_9346_0242ac130202row4_col5{\n",
       "            background-color:  #708fff;\n",
       "            color:  #000000;\n",
       "        }#T_166c80b6_5117_11eb_9346_0242ac130202row5_col2{\n",
       "            background-color:  #51aeff;\n",
       "            color:  #000000;\n",
       "        }#T_166c80b6_5117_11eb_9346_0242ac130202row5_col3{\n",
       "            background-color:  #916eff;\n",
       "            color:  #000000;\n",
       "        }#T_166c80b6_5117_11eb_9346_0242ac130202row5_col4{\n",
       "            background-color:  #ce31ff;\n",
       "            color:  #f1f1f1;\n",
       "        }#T_166c80b6_5117_11eb_9346_0242ac130202row5_col5{\n",
       "            background-color:  #4eb1ff;\n",
       "            color:  #000000;\n",
       "        }#T_166c80b6_5117_11eb_9346_0242ac130202row6_col2,#T_166c80b6_5117_11eb_9346_0242ac130202row6_col3,#T_166c80b6_5117_11eb_9346_0242ac130202row6_col4,#T_166c80b6_5117_11eb_9346_0242ac130202row7_col5{\n",
       "            background-color:  #00ffff;\n",
       "            color:  #000000;\n",
       "        }#T_166c80b6_5117_11eb_9346_0242ac130202row7_col4{\n",
       "            background-color:  #33ccff;\n",
       "            color:  #000000;\n",
       "        }#T_166c80b6_5117_11eb_9346_0242ac130202row8_col2{\n",
       "            background-color:  #2bd4ff;\n",
       "            color:  #000000;\n",
       "        }#T_166c80b6_5117_11eb_9346_0242ac130202row8_col3{\n",
       "            background-color:  #738cff;\n",
       "            color:  #000000;\n",
       "        }#T_166c80b6_5117_11eb_9346_0242ac130202row8_col4{\n",
       "            background-color:  #9a65ff;\n",
       "            color:  #000000;\n",
       "        }#T_166c80b6_5117_11eb_9346_0242ac130202row8_col5{\n",
       "            background-color:  #8976ff;\n",
       "            color:  #000000;\n",
       "        }#T_166c80b6_5117_11eb_9346_0242ac130202row9_col2{\n",
       "            background-color:  #29d6ff;\n",
       "            color:  #000000;\n",
       "        }#T_166c80b6_5117_11eb_9346_0242ac130202row9_col3{\n",
       "            background-color:  #807fff;\n",
       "            color:  #000000;\n",
       "        }#T_166c80b6_5117_11eb_9346_0242ac130202row9_col4{\n",
       "            background-color:  #b847ff;\n",
       "            color:  #000000;\n",
       "        }#T_166c80b6_5117_11eb_9346_0242ac130202row9_col5{\n",
       "            background-color:  #9966ff;\n",
       "            color:  #000000;\n",
       "        }</style><table id=\"T_166c80b6_5117_11eb_9346_0242ac130202\" ><thead>    <tr>        <th class=\"blank level0\" ></th>        <th class=\"col_heading level0 col0\" >MPG</th>        <th class=\"col_heading level0 col1\" >Cylinders</th>        <th class=\"col_heading level0 col2\" >Displacement</th>        <th class=\"col_heading level0 col3\" >Horsepower</th>        <th class=\"col_heading level0 col4\" >Weight</th>        <th class=\"col_heading level0 col5\" >Acceleration</th>        <th class=\"col_heading level0 col6\" >ModelYear</th>        <th class=\"col_heading level0 col7\" >Origin</th>    </tr></thead><tbody>\n",
       "                <tr>\n",
       "                        <th id=\"T_166c80b6_5117_11eb_9346_0242ac130202level0_row0\" class=\"row_heading level0 row0\" >382</th>\n",
       "                        <td id=\"T_166c80b6_5117_11eb_9346_0242ac130202row0_col0\" class=\"data row0 col0\" >26.000000</td>\n",
       "                        <td id=\"T_166c80b6_5117_11eb_9346_0242ac130202row0_col1\" class=\"data row0 col1\" >4</td>\n",
       "                        <td id=\"T_166c80b6_5117_11eb_9346_0242ac130202row0_col2\" class=\"data row0 col2\" >156.000000</td>\n",
       "                        <td id=\"T_166c80b6_5117_11eb_9346_0242ac130202row0_col3\" class=\"data row0 col3\" >92.000000</td>\n",
       "                        <td id=\"T_166c80b6_5117_11eb_9346_0242ac130202row0_col4\" class=\"data row0 col4\" >2585.000000</td>\n",
       "                        <td id=\"T_166c80b6_5117_11eb_9346_0242ac130202row0_col5\" class=\"data row0 col5\" >14.500000</td>\n",
       "                        <td id=\"T_166c80b6_5117_11eb_9346_0242ac130202row0_col6\" class=\"data row0 col6\" >82</td>\n",
       "                        <td id=\"T_166c80b6_5117_11eb_9346_0242ac130202row0_col7\" class=\"data row0 col7\" >1</td>\n",
       "            </tr>\n",
       "            <tr>\n",
       "                        <th id=\"T_166c80b6_5117_11eb_9346_0242ac130202level0_row1\" class=\"row_heading level0 row1\" >383</th>\n",
       "                        <td id=\"T_166c80b6_5117_11eb_9346_0242ac130202row1_col0\" class=\"data row1 col0\" >22.000000</td>\n",
       "                        <td id=\"T_166c80b6_5117_11eb_9346_0242ac130202row1_col1\" class=\"data row1 col1\" >6</td>\n",
       "                        <td id=\"T_166c80b6_5117_11eb_9346_0242ac130202row1_col2\" class=\"data row1 col2\" >232.000000</td>\n",
       "                        <td id=\"T_166c80b6_5117_11eb_9346_0242ac130202row1_col3\" class=\"data row1 col3\" >112.000000</td>\n",
       "                        <td id=\"T_166c80b6_5117_11eb_9346_0242ac130202row1_col4\" class=\"data row1 col4\" >2835.000000</td>\n",
       "                        <td id=\"T_166c80b6_5117_11eb_9346_0242ac130202row1_col5\" class=\"data row1 col5\" >14.700000</td>\n",
       "                        <td id=\"T_166c80b6_5117_11eb_9346_0242ac130202row1_col6\" class=\"data row1 col6\" >82</td>\n",
       "                        <td id=\"T_166c80b6_5117_11eb_9346_0242ac130202row1_col7\" class=\"data row1 col7\" >1</td>\n",
       "            </tr>\n",
       "            <tr>\n",
       "                        <th id=\"T_166c80b6_5117_11eb_9346_0242ac130202level0_row2\" class=\"row_heading level0 row2\" >384</th>\n",
       "                        <td id=\"T_166c80b6_5117_11eb_9346_0242ac130202row2_col0\" class=\"data row2 col0\" >32.000000</td>\n",
       "                        <td id=\"T_166c80b6_5117_11eb_9346_0242ac130202row2_col1\" class=\"data row2 col1\" >4</td>\n",
       "                        <td id=\"T_166c80b6_5117_11eb_9346_0242ac130202row2_col2\" class=\"data row2 col2\" >144.000000</td>\n",
       "                        <td id=\"T_166c80b6_5117_11eb_9346_0242ac130202row2_col3\" class=\"data row2 col3\" >96.000000</td>\n",
       "                        <td id=\"T_166c80b6_5117_11eb_9346_0242ac130202row2_col4\" class=\"data row2 col4\" >2665.000000</td>\n",
       "                        <td id=\"T_166c80b6_5117_11eb_9346_0242ac130202row2_col5\" class=\"data row2 col5\" >13.900000</td>\n",
       "                        <td id=\"T_166c80b6_5117_11eb_9346_0242ac130202row2_col6\" class=\"data row2 col6\" >82</td>\n",
       "                        <td id=\"T_166c80b6_5117_11eb_9346_0242ac130202row2_col7\" class=\"data row2 col7\" >3</td>\n",
       "            </tr>\n",
       "            <tr>\n",
       "                        <th id=\"T_166c80b6_5117_11eb_9346_0242ac130202level0_row3\" class=\"row_heading level0 row3\" >385</th>\n",
       "                        <td id=\"T_166c80b6_5117_11eb_9346_0242ac130202row3_col0\" class=\"data row3 col0\" >36.000000</td>\n",
       "                        <td id=\"T_166c80b6_5117_11eb_9346_0242ac130202row3_col1\" class=\"data row3 col1\" >4</td>\n",
       "                        <td id=\"T_166c80b6_5117_11eb_9346_0242ac130202row3_col2\" class=\"data row3 col2\" >135.000000</td>\n",
       "                        <td id=\"T_166c80b6_5117_11eb_9346_0242ac130202row3_col3\" class=\"data row3 col3\" >84.000000</td>\n",
       "                        <td id=\"T_166c80b6_5117_11eb_9346_0242ac130202row3_col4\" class=\"data row3 col4\" >2370.000000</td>\n",
       "                        <td id=\"T_166c80b6_5117_11eb_9346_0242ac130202row3_col5\" class=\"data row3 col5\" >13.000000</td>\n",
       "                        <td id=\"T_166c80b6_5117_11eb_9346_0242ac130202row3_col6\" class=\"data row3 col6\" >82</td>\n",
       "                        <td id=\"T_166c80b6_5117_11eb_9346_0242ac130202row3_col7\" class=\"data row3 col7\" >1</td>\n",
       "            </tr>\n",
       "            <tr>\n",
       "                        <th id=\"T_166c80b6_5117_11eb_9346_0242ac130202level0_row4\" class=\"row_heading level0 row4\" >386</th>\n",
       "                        <td id=\"T_166c80b6_5117_11eb_9346_0242ac130202row4_col0\" class=\"data row4 col0\" >27.000000</td>\n",
       "                        <td id=\"T_166c80b6_5117_11eb_9346_0242ac130202row4_col1\" class=\"data row4 col1\" >4</td>\n",
       "                        <td id=\"T_166c80b6_5117_11eb_9346_0242ac130202row4_col2\" class=\"data row4 col2\" >151.000000</td>\n",
       "                        <td id=\"T_166c80b6_5117_11eb_9346_0242ac130202row4_col3\" class=\"data row4 col3\" >90.000000</td>\n",
       "                        <td id=\"T_166c80b6_5117_11eb_9346_0242ac130202row4_col4\" class=\"data row4 col4\" >2950.000000</td>\n",
       "                        <td id=\"T_166c80b6_5117_11eb_9346_0242ac130202row4_col5\" class=\"data row4 col5\" >17.300000</td>\n",
       "                        <td id=\"T_166c80b6_5117_11eb_9346_0242ac130202row4_col6\" class=\"data row4 col6\" >82</td>\n",
       "                        <td id=\"T_166c80b6_5117_11eb_9346_0242ac130202row4_col7\" class=\"data row4 col7\" >1</td>\n",
       "            </tr>\n",
       "            <tr>\n",
       "                        <th id=\"T_166c80b6_5117_11eb_9346_0242ac130202level0_row5\" class=\"row_heading level0 row5\" >387</th>\n",
       "                        <td id=\"T_166c80b6_5117_11eb_9346_0242ac130202row5_col0\" class=\"data row5 col0\" >27.000000</td>\n",
       "                        <td id=\"T_166c80b6_5117_11eb_9346_0242ac130202row5_col1\" class=\"data row5 col1\" >4</td>\n",
       "                        <td id=\"T_166c80b6_5117_11eb_9346_0242ac130202row5_col2\" class=\"data row5 col2\" >140.000000</td>\n",
       "                        <td id=\"T_166c80b6_5117_11eb_9346_0242ac130202row5_col3\" class=\"data row5 col3\" >86.000000</td>\n",
       "                        <td id=\"T_166c80b6_5117_11eb_9346_0242ac130202row5_col4\" class=\"data row5 col4\" >2790.000000</td>\n",
       "                        <td id=\"T_166c80b6_5117_11eb_9346_0242ac130202row5_col5\" class=\"data row5 col5\" >15.600000</td>\n",
       "                        <td id=\"T_166c80b6_5117_11eb_9346_0242ac130202row5_col6\" class=\"data row5 col6\" >82</td>\n",
       "                        <td id=\"T_166c80b6_5117_11eb_9346_0242ac130202row5_col7\" class=\"data row5 col7\" >1</td>\n",
       "            </tr>\n",
       "            <tr>\n",
       "                        <th id=\"T_166c80b6_5117_11eb_9346_0242ac130202level0_row6\" class=\"row_heading level0 row6\" >388</th>\n",
       "                        <td id=\"T_166c80b6_5117_11eb_9346_0242ac130202row6_col0\" class=\"data row6 col0\" >44.000000</td>\n",
       "                        <td id=\"T_166c80b6_5117_11eb_9346_0242ac130202row6_col1\" class=\"data row6 col1\" >4</td>\n",
       "                        <td id=\"T_166c80b6_5117_11eb_9346_0242ac130202row6_col2\" class=\"data row6 col2\" >97.000000</td>\n",
       "                        <td id=\"T_166c80b6_5117_11eb_9346_0242ac130202row6_col3\" class=\"data row6 col3\" >52.000000</td>\n",
       "                        <td id=\"T_166c80b6_5117_11eb_9346_0242ac130202row6_col4\" class=\"data row6 col4\" >2130.000000</td>\n",
       "                        <td id=\"T_166c80b6_5117_11eb_9346_0242ac130202row6_col5\" class=\"data row6 col5\" >24.600000</td>\n",
       "                        <td id=\"T_166c80b6_5117_11eb_9346_0242ac130202row6_col6\" class=\"data row6 col6\" >82</td>\n",
       "                        <td id=\"T_166c80b6_5117_11eb_9346_0242ac130202row6_col7\" class=\"data row6 col7\" >2</td>\n",
       "            </tr>\n",
       "            <tr>\n",
       "                        <th id=\"T_166c80b6_5117_11eb_9346_0242ac130202level0_row7\" class=\"row_heading level0 row7\" >389</th>\n",
       "                        <td id=\"T_166c80b6_5117_11eb_9346_0242ac130202row7_col0\" class=\"data row7 col0\" >32.000000</td>\n",
       "                        <td id=\"T_166c80b6_5117_11eb_9346_0242ac130202row7_col1\" class=\"data row7 col1\" >4</td>\n",
       "                        <td id=\"T_166c80b6_5117_11eb_9346_0242ac130202row7_col2\" class=\"data row7 col2\" >135.000000</td>\n",
       "                        <td id=\"T_166c80b6_5117_11eb_9346_0242ac130202row7_col3\" class=\"data row7 col3\" >84.000000</td>\n",
       "                        <td id=\"T_166c80b6_5117_11eb_9346_0242ac130202row7_col4\" class=\"data row7 col4\" >2295.000000</td>\n",
       "                        <td id=\"T_166c80b6_5117_11eb_9346_0242ac130202row7_col5\" class=\"data row7 col5\" >11.600000</td>\n",
       "                        <td id=\"T_166c80b6_5117_11eb_9346_0242ac130202row7_col6\" class=\"data row7 col6\" >82</td>\n",
       "                        <td id=\"T_166c80b6_5117_11eb_9346_0242ac130202row7_col7\" class=\"data row7 col7\" >1</td>\n",
       "            </tr>\n",
       "            <tr>\n",
       "                        <th id=\"T_166c80b6_5117_11eb_9346_0242ac130202level0_row8\" class=\"row_heading level0 row8\" >390</th>\n",
       "                        <td id=\"T_166c80b6_5117_11eb_9346_0242ac130202row8_col0\" class=\"data row8 col0\" >28.000000</td>\n",
       "                        <td id=\"T_166c80b6_5117_11eb_9346_0242ac130202row8_col1\" class=\"data row8 col1\" >4</td>\n",
       "                        <td id=\"T_166c80b6_5117_11eb_9346_0242ac130202row8_col2\" class=\"data row8 col2\" >120.000000</td>\n",
       "                        <td id=\"T_166c80b6_5117_11eb_9346_0242ac130202row8_col3\" class=\"data row8 col3\" >79.000000</td>\n",
       "                        <td id=\"T_166c80b6_5117_11eb_9346_0242ac130202row8_col4\" class=\"data row8 col4\" >2625.000000</td>\n",
       "                        <td id=\"T_166c80b6_5117_11eb_9346_0242ac130202row8_col5\" class=\"data row8 col5\" >18.600000</td>\n",
       "                        <td id=\"T_166c80b6_5117_11eb_9346_0242ac130202row8_col6\" class=\"data row8 col6\" >82</td>\n",
       "                        <td id=\"T_166c80b6_5117_11eb_9346_0242ac130202row8_col7\" class=\"data row8 col7\" >1</td>\n",
       "            </tr>\n",
       "            <tr>\n",
       "                        <th id=\"T_166c80b6_5117_11eb_9346_0242ac130202level0_row9\" class=\"row_heading level0 row9\" >391</th>\n",
       "                        <td id=\"T_166c80b6_5117_11eb_9346_0242ac130202row9_col0\" class=\"data row9 col0\" >31.000000</td>\n",
       "                        <td id=\"T_166c80b6_5117_11eb_9346_0242ac130202row9_col1\" class=\"data row9 col1\" >4</td>\n",
       "                        <td id=\"T_166c80b6_5117_11eb_9346_0242ac130202row9_col2\" class=\"data row9 col2\" >119.000000</td>\n",
       "                        <td id=\"T_166c80b6_5117_11eb_9346_0242ac130202row9_col3\" class=\"data row9 col3\" >82.000000</td>\n",
       "                        <td id=\"T_166c80b6_5117_11eb_9346_0242ac130202row9_col4\" class=\"data row9 col4\" >2720.000000</td>\n",
       "                        <td id=\"T_166c80b6_5117_11eb_9346_0242ac130202row9_col5\" class=\"data row9 col5\" >19.400000</td>\n",
       "                        <td id=\"T_166c80b6_5117_11eb_9346_0242ac130202row9_col6\" class=\"data row9 col6\" >82</td>\n",
       "                        <td id=\"T_166c80b6_5117_11eb_9346_0242ac130202row9_col7\" class=\"data row9 col7\" >1</td>\n",
       "            </tr>\n",
       "    </tbody></table>"
      ],
      "text/plain": [
       "<pandas.io.formats.style.Styler at 0x7f3251280d10>"
      ]
     },
     "execution_count": 8,
     "metadata": {},
     "output_type": "execute_result"
    }
   ],
   "source": [
    "df=df.dropna().reset_index(drop=True)\n",
    "df.tail(10).style.background_gradient(\n",
    "    cmap='cool',axis=0,subset=numeric_columns)\\\n",
    ".set_table_styles(pd_style())"
   ]
  },
  {
   "cell_type": "code",
   "execution_count": 9,
   "metadata": {
    "execution": {
     "iopub.execute_input": "2021-01-07T18:35:16.790556Z",
     "iopub.status.busy": "2021-01-07T18:35:16.789882Z",
     "iopub.status.idle": "2021-01-07T18:35:16.834006Z",
     "shell.execute_reply": "2021-01-07T18:35:16.833377Z"
    },
    "papermill": {
     "duration": 0.075004,
     "end_time": "2021-01-07T18:35:16.834150",
     "exception": false,
     "start_time": "2021-01-07T18:35:16.759146",
     "status": "completed"
    },
    "tags": []
   },
   "outputs": [
    {
     "data": {
      "text/html": [
       "<style  type=\"text/css\" >\n",
       "    #T_167b0014_5117_11eb_9346_0242ac130202 th {\n",
       "          font-size: 10pt;\n",
       "    }    #T_167b0014_5117_11eb_9346_0242ac130202 td {\n",
       "          padding: 0em 0em;\n",
       "    }    #T_167b0014_5117_11eb_9346_0242ac130202 th:hover {\n",
       "          font-size: 12pt;\n",
       "    }    #T_167b0014_5117_11eb_9346_0242ac130202 tr:hover td:hover {\n",
       "          max-width: 200px;\n",
       "          font-size: 10pt;\n",
       "    }#T_167b0014_5117_11eb_9346_0242ac130202row0_col2{\n",
       "            width:  10em;\n",
       "             height:  80%;\n",
       "            background:  linear-gradient(90deg, transparent 43.7%, #55eeee 43.7%, #55eeee 72.2%, transparent 72.2%);\n",
       "        }#T_167b0014_5117_11eb_9346_0242ac130202row0_col3{\n",
       "            width:  10em;\n",
       "             height:  80%;\n",
       "            background:  linear-gradient(90deg, transparent 66.7%, #55eeee 66.7%, #55eeee 87.4%, transparent 87.4%);\n",
       "        }#T_167b0014_5117_11eb_9346_0242ac130202row0_col4{\n",
       "            width:  10em;\n",
       "             height:  80%;\n",
       "            background:  linear-gradient(90deg, transparent 53.7%, #55eeee 53.7%, #55eeee 100.0%, transparent 100.0%);\n",
       "        }#T_167b0014_5117_11eb_9346_0242ac130202row0_col5{\n",
       "            width:  10em;\n",
       "             height:  80%;\n",
       "            background:  linear-gradient(90deg, transparent 22.3%, #55eeee 22.3%, #55eeee 30.3%, transparent 30.3%);\n",
       "        }#T_167b0014_5117_11eb_9346_0242ac130202row1_col2{\n",
       "            width:  10em;\n",
       "             height:  80%;\n",
       "            background:  linear-gradient(90deg, transparent 72.2%, #ee55ee 72.2%, #ee55ee 100.0%, transparent 100.0%);\n",
       "        }#T_167b0014_5117_11eb_9346_0242ac130202row1_col3{\n",
       "            width:  10em;\n",
       "             height:  80%;\n",
       "            background:  linear-gradient(90deg, transparent 87.4%, #ee55ee 87.4%, #ee55ee 100.0%, transparent 100.0%);\n",
       "        }#T_167b0014_5117_11eb_9346_0242ac130202row1_col4{\n",
       "            width:  10em;\n",
       "             height:  80%;\n",
       "            background:  linear-gradient(90deg, transparent 83.2%, #55eeee 83.2%, #55eeee 100.0%, transparent 100.0%);\n",
       "        }#T_167b0014_5117_11eb_9346_0242ac130202row1_col5{\n",
       "            width:  10em;\n",
       "             height:  80%;\n",
       "            background:  linear-gradient(90deg, transparent 23.8%, #55eeee 23.8%, #55eeee 30.3%, transparent 30.3%);\n",
       "        }#T_167b0014_5117_11eb_9346_0242ac130202row2_col2{\n",
       "            width:  10em;\n",
       "             height:  80%;\n",
       "            background:  linear-gradient(90deg, transparent 34.8%, #55eeee 34.8%, #55eeee 72.2%, transparent 72.2%);\n",
       "        }#T_167b0014_5117_11eb_9346_0242ac130202row2_col3{\n",
       "            width:  10em;\n",
       "             height:  80%;\n",
       "            background:  linear-gradient(90deg, transparent 73.3%, #55eeee 73.3%, #55eeee 87.4%, transparent 87.4%);\n",
       "        }#T_167b0014_5117_11eb_9346_0242ac130202row2_col4{\n",
       "            width:  10em;\n",
       "             height:  80%;\n",
       "            background:  linear-gradient(90deg, transparent 63.1%, #55eeee 63.1%, #55eeee 100.0%, transparent 100.0%);\n",
       "        }#T_167b0014_5117_11eb_9346_0242ac130202row2_col5{\n",
       "            width:  10em;\n",
       "             height:  80%;\n",
       "            background:  linear-gradient(90deg, transparent 17.7%, #55eeee 17.7%, #55eeee 30.3%, transparent 30.3%);\n",
       "        }#T_167b0014_5117_11eb_9346_0242ac130202row3_col2,#T_167b0014_5117_11eb_9346_0242ac130202row7_col2{\n",
       "            width:  10em;\n",
       "             height:  80%;\n",
       "            background:  linear-gradient(90deg, transparent 28.1%, #55eeee 28.1%, #55eeee 72.2%, transparent 72.2%);\n",
       "        }#T_167b0014_5117_11eb_9346_0242ac130202row3_col3,#T_167b0014_5117_11eb_9346_0242ac130202row7_col3{\n",
       "            width:  10em;\n",
       "             height:  80%;\n",
       "            background:  linear-gradient(90deg, transparent 53.3%, #55eeee 53.3%, #55eeee 87.4%, transparent 87.4%);\n",
       "        }#T_167b0014_5117_11eb_9346_0242ac130202row3_col4{\n",
       "            width:  10em;\n",
       "             height:  80%;\n",
       "            background:  linear-gradient(90deg, transparent 28.3%, #55eeee 28.3%, #55eeee 100.0%, transparent 100.0%);\n",
       "        }#T_167b0014_5117_11eb_9346_0242ac130202row3_col5{\n",
       "            width:  10em;\n",
       "             height:  80%;\n",
       "            background:  linear-gradient(90deg, transparent 10.8%, #55eeee 10.8%, #55eeee 30.3%, transparent 30.3%);\n",
       "        }#T_167b0014_5117_11eb_9346_0242ac130202row4_col2{\n",
       "            width:  10em;\n",
       "             height:  80%;\n",
       "            background:  linear-gradient(90deg, transparent 40.0%, #55eeee 40.0%, #55eeee 72.2%, transparent 72.2%);\n",
       "        }#T_167b0014_5117_11eb_9346_0242ac130202row4_col3{\n",
       "            width:  10em;\n",
       "             height:  80%;\n",
       "            background:  linear-gradient(90deg, transparent 63.3%, #55eeee 63.3%, #55eeee 87.4%, transparent 87.4%);\n",
       "        }#T_167b0014_5117_11eb_9346_0242ac130202row4_col4{\n",
       "            width:  10em;\n",
       "             height:  80%;\n",
       "            background:  linear-gradient(90deg, transparent 96.7%, #55eeee 96.7%, #55eeee 100.0%, transparent 100.0%);\n",
       "        }#T_167b0014_5117_11eb_9346_0242ac130202row4_col5{\n",
       "            width:  10em;\n",
       "             height:  80%;\n",
       "            background:  linear-gradient(90deg, transparent 30.3%, #ee55ee 30.3%, #ee55ee 43.8%, transparent 43.8%);\n",
       "        }#T_167b0014_5117_11eb_9346_0242ac130202row5_col2{\n",
       "            width:  10em;\n",
       "             height:  80%;\n",
       "            background:  linear-gradient(90deg, transparent 31.9%, #55eeee 31.9%, #55eeee 72.2%, transparent 72.2%);\n",
       "        }#T_167b0014_5117_11eb_9346_0242ac130202row5_col3{\n",
       "            width:  10em;\n",
       "             height:  80%;\n",
       "            background:  linear-gradient(90deg, transparent 56.7%, #55eeee 56.7%, #55eeee 87.4%, transparent 87.4%);\n",
       "        }#T_167b0014_5117_11eb_9346_0242ac130202row5_col4{\n",
       "            width:  10em;\n",
       "             height:  80%;\n",
       "            background:  linear-gradient(90deg, transparent 77.9%, #55eeee 77.9%, #55eeee 100.0%, transparent 100.0%);\n",
       "        }#T_167b0014_5117_11eb_9346_0242ac130202row5_col5{\n",
       "            width:  10em;\n",
       "             height:  80%;\n",
       "            background:  linear-gradient(90deg, transparent 30.3%, #ee55ee 30.3%, #ee55ee 30.8%, transparent 30.8%);\n",
       "        }#T_167b0014_5117_11eb_9346_0242ac130202row6_col2{\n",
       "            width:  10em;\n",
       "             height:  80%;\n",
       "            background:  linear-gradient(90deg,#55eeee 72.2%, transparent 72.2%);\n",
       "        }#T_167b0014_5117_11eb_9346_0242ac130202row6_col3{\n",
       "            width:  10em;\n",
       "             height:  80%;\n",
       "            background:  linear-gradient(90deg,#55eeee 87.4%, transparent 87.4%);\n",
       "        }#T_167b0014_5117_11eb_9346_0242ac130202row6_col4{\n",
       "            width:  10em;\n",
       "             height:  80%;\n",
       "            background:  linear-gradient(90deg,#55eeee 100.0%, transparent 100.0%);\n",
       "        }#T_167b0014_5117_11eb_9346_0242ac130202row6_col5{\n",
       "            width:  10em;\n",
       "             height:  80%;\n",
       "            background:  linear-gradient(90deg, transparent 30.3%, #ee55ee 30.3%, #ee55ee 100.0%, transparent 100.0%);\n",
       "        }#T_167b0014_5117_11eb_9346_0242ac130202row7_col4{\n",
       "            width:  10em;\n",
       "             height:  80%;\n",
       "            background:  linear-gradient(90deg, transparent 19.5%, #55eeee 19.5%, #55eeee 100.0%, transparent 100.0%);\n",
       "        }#T_167b0014_5117_11eb_9346_0242ac130202row7_col5{\n",
       "            width:  10em;\n",
       "             height:  80%;\n",
       "            background:  linear-gradient(90deg,#55eeee 30.3%, transparent 30.3%);\n",
       "        }#T_167b0014_5117_11eb_9346_0242ac130202row8_col2{\n",
       "            width:  10em;\n",
       "             height:  80%;\n",
       "            background:  linear-gradient(90deg, transparent 17.0%, #55eeee 17.0%, #55eeee 72.2%, transparent 72.2%);\n",
       "        }#T_167b0014_5117_11eb_9346_0242ac130202row8_col3{\n",
       "            width:  10em;\n",
       "             height:  80%;\n",
       "            background:  linear-gradient(90deg, transparent 45.0%, #55eeee 45.0%, #55eeee 87.4%, transparent 87.4%);\n",
       "        }#T_167b0014_5117_11eb_9346_0242ac130202row8_col4{\n",
       "            width:  10em;\n",
       "             height:  80%;\n",
       "            background:  linear-gradient(90deg, transparent 58.4%, #55eeee 58.4%, #55eeee 100.0%, transparent 100.0%);\n",
       "        }#T_167b0014_5117_11eb_9346_0242ac130202row8_col5{\n",
       "            width:  10em;\n",
       "             height:  80%;\n",
       "            background:  linear-gradient(90deg, transparent 30.3%, #ee55ee 30.3%, #ee55ee 53.8%, transparent 53.8%);\n",
       "        }#T_167b0014_5117_11eb_9346_0242ac130202row9_col2{\n",
       "            width:  10em;\n",
       "             height:  80%;\n",
       "            background:  linear-gradient(90deg, transparent 16.3%, #55eeee 16.3%, #55eeee 72.2%, transparent 72.2%);\n",
       "        }#T_167b0014_5117_11eb_9346_0242ac130202row9_col3{\n",
       "            width:  10em;\n",
       "             height:  80%;\n",
       "            background:  linear-gradient(90deg, transparent 50.0%, #55eeee 50.0%, #55eeee 87.4%, transparent 87.4%);\n",
       "        }#T_167b0014_5117_11eb_9346_0242ac130202row9_col4{\n",
       "            width:  10em;\n",
       "             height:  80%;\n",
       "            background:  linear-gradient(90deg, transparent 69.6%, #55eeee 69.6%, #55eeee 100.0%, transparent 100.0%);\n",
       "        }#T_167b0014_5117_11eb_9346_0242ac130202row9_col5{\n",
       "            width:  10em;\n",
       "             height:  80%;\n",
       "            background:  linear-gradient(90deg, transparent 30.3%, #ee55ee 30.3%, #ee55ee 60.0%, transparent 60.0%);\n",
       "        }</style><table id=\"T_167b0014_5117_11eb_9346_0242ac130202\" ><thead>    <tr>        <th class=\"blank level0\" ></th>        <th class=\"col_heading level0 col0\" >MPG</th>        <th class=\"col_heading level0 col1\" >Cylinders</th>        <th class=\"col_heading level0 col2\" >Displacement</th>        <th class=\"col_heading level0 col3\" >Horsepower</th>        <th class=\"col_heading level0 col4\" >Weight</th>        <th class=\"col_heading level0 col5\" >Acceleration</th>        <th class=\"col_heading level0 col6\" >ModelYear</th>        <th class=\"col_heading level0 col7\" >Origin</th>    </tr></thead><tbody>\n",
       "                <tr>\n",
       "                        <th id=\"T_167b0014_5117_11eb_9346_0242ac130202level0_row0\" class=\"row_heading level0 row0\" >382</th>\n",
       "                        <td id=\"T_167b0014_5117_11eb_9346_0242ac130202row0_col0\" class=\"data row0 col0\" >26.000000</td>\n",
       "                        <td id=\"T_167b0014_5117_11eb_9346_0242ac130202row0_col1\" class=\"data row0 col1\" >4</td>\n",
       "                        <td id=\"T_167b0014_5117_11eb_9346_0242ac130202row0_col2\" class=\"data row0 col2\" >-0.367073</td>\n",
       "                        <td id=\"T_167b0014_5117_11eb_9346_0242ac130202row0_col3\" class=\"data row0 col3\" >-0.323955</td>\n",
       "                        <td id=\"T_167b0014_5117_11eb_9346_0242ac130202row0_col4\" class=\"data row0 col4\" >-0.462189</td>\n",
       "                        <td id=\"T_167b0014_5117_11eb_9346_0242ac130202row0_col5\" class=\"data row0 col5\" >-0.377448</td>\n",
       "                        <td id=\"T_167b0014_5117_11eb_9346_0242ac130202row0_col6\" class=\"data row0 col6\" >82</td>\n",
       "                        <td id=\"T_167b0014_5117_11eb_9346_0242ac130202row0_col7\" class=\"data row0 col7\" >1</td>\n",
       "            </tr>\n",
       "            <tr>\n",
       "                        <th id=\"T_167b0014_5117_11eb_9346_0242ac130202level0_row1\" class=\"row_heading level0 row1\" >383</th>\n",
       "                        <td id=\"T_167b0014_5117_11eb_9346_0242ac130202row1_col0\" class=\"data row1 col0\" >22.000000</td>\n",
       "                        <td id=\"T_167b0014_5117_11eb_9346_0242ac130202row1_col1\" class=\"data row1 col1\" >6</td>\n",
       "                        <td id=\"T_167b0014_5117_11eb_9346_0242ac130202row1_col2\" class=\"data row1 col2\" >0.359199</td>\n",
       "                        <td id=\"T_167b0014_5117_11eb_9346_0242ac130202row1_col3\" class=\"data row1 col3\" >0.195645</td>\n",
       "                        <td id=\"T_167b0014_5117_11eb_9346_0242ac130202row1_col4\" class=\"data row1 col4\" >-0.167864</td>\n",
       "                        <td id=\"T_167b0014_5117_11eb_9346_0242ac130202row1_col5\" class=\"data row1 col5\" >-0.304954</td>\n",
       "                        <td id=\"T_167b0014_5117_11eb_9346_0242ac130202row1_col6\" class=\"data row1 col6\" >82</td>\n",
       "                        <td id=\"T_167b0014_5117_11eb_9346_0242ac130202row1_col7\" class=\"data row1 col7\" >1</td>\n",
       "            </tr>\n",
       "            <tr>\n",
       "                        <th id=\"T_167b0014_5117_11eb_9346_0242ac130202level0_row2\" class=\"row_heading level0 row2\" >384</th>\n",
       "                        <td id=\"T_167b0014_5117_11eb_9346_0242ac130202row2_col0\" class=\"data row2 col0\" >32.000000</td>\n",
       "                        <td id=\"T_167b0014_5117_11eb_9346_0242ac130202row2_col1\" class=\"data row2 col1\" >4</td>\n",
       "                        <td id=\"T_167b0014_5117_11eb_9346_0242ac130202row2_col2\" class=\"data row2 col2\" >-0.481748</td>\n",
       "                        <td id=\"T_167b0014_5117_11eb_9346_0242ac130202row2_col3\" class=\"data row2 col3\" >-0.220035</td>\n",
       "                        <td id=\"T_167b0014_5117_11eb_9346_0242ac130202row2_col4\" class=\"data row2 col4\" >-0.368005</td>\n",
       "                        <td id=\"T_167b0014_5117_11eb_9346_0242ac130202row2_col5\" class=\"data row2 col5\" >-0.594928</td>\n",
       "                        <td id=\"T_167b0014_5117_11eb_9346_0242ac130202row2_col6\" class=\"data row2 col6\" >82</td>\n",
       "                        <td id=\"T_167b0014_5117_11eb_9346_0242ac130202row2_col7\" class=\"data row2 col7\" >3</td>\n",
       "            </tr>\n",
       "            <tr>\n",
       "                        <th id=\"T_167b0014_5117_11eb_9346_0242ac130202level0_row3\" class=\"row_heading level0 row3\" >385</th>\n",
       "                        <td id=\"T_167b0014_5117_11eb_9346_0242ac130202row3_col0\" class=\"data row3 col0\" >36.000000</td>\n",
       "                        <td id=\"T_167b0014_5117_11eb_9346_0242ac130202row3_col1\" class=\"data row3 col1\" >4</td>\n",
       "                        <td id=\"T_167b0014_5117_11eb_9346_0242ac130202row3_col2\" class=\"data row3 col2\" >-0.567753</td>\n",
       "                        <td id=\"T_167b0014_5117_11eb_9346_0242ac130202row3_col3\" class=\"data row3 col3\" >-0.531795</td>\n",
       "                        <td id=\"T_167b0014_5117_11eb_9346_0242ac130202row3_col4\" class=\"data row3 col4\" >-0.715308</td>\n",
       "                        <td id=\"T_167b0014_5117_11eb_9346_0242ac130202row3_col5\" class=\"data row3 col5\" >-0.921150</td>\n",
       "                        <td id=\"T_167b0014_5117_11eb_9346_0242ac130202row3_col6\" class=\"data row3 col6\" >82</td>\n",
       "                        <td id=\"T_167b0014_5117_11eb_9346_0242ac130202row3_col7\" class=\"data row3 col7\" >1</td>\n",
       "            </tr>\n",
       "            <tr>\n",
       "                        <th id=\"T_167b0014_5117_11eb_9346_0242ac130202level0_row4\" class=\"row_heading level0 row4\" >386</th>\n",
       "                        <td id=\"T_167b0014_5117_11eb_9346_0242ac130202row4_col0\" class=\"data row4 col0\" >27.000000</td>\n",
       "                        <td id=\"T_167b0014_5117_11eb_9346_0242ac130202row4_col1\" class=\"data row4 col1\" >4</td>\n",
       "                        <td id=\"T_167b0014_5117_11eb_9346_0242ac130202row4_col2\" class=\"data row4 col2\" >-0.414854</td>\n",
       "                        <td id=\"T_167b0014_5117_11eb_9346_0242ac130202row4_col3\" class=\"data row4 col3\" >-0.375915</td>\n",
       "                        <td id=\"T_167b0014_5117_11eb_9346_0242ac130202row4_col4\" class=\"data row4 col4\" >-0.032475</td>\n",
       "                        <td id=\"T_167b0014_5117_11eb_9346_0242ac130202row4_col5\" class=\"data row4 col5\" >0.637463</td>\n",
       "                        <td id=\"T_167b0014_5117_11eb_9346_0242ac130202row4_col6\" class=\"data row4 col6\" >82</td>\n",
       "                        <td id=\"T_167b0014_5117_11eb_9346_0242ac130202row4_col7\" class=\"data row4 col7\" >1</td>\n",
       "            </tr>\n",
       "            <tr>\n",
       "                        <th id=\"T_167b0014_5117_11eb_9346_0242ac130202level0_row5\" class=\"row_heading level0 row5\" >387</th>\n",
       "                        <td id=\"T_167b0014_5117_11eb_9346_0242ac130202row5_col0\" class=\"data row5 col0\" >27.000000</td>\n",
       "                        <td id=\"T_167b0014_5117_11eb_9346_0242ac130202row5_col1\" class=\"data row5 col1\" >4</td>\n",
       "                        <td id=\"T_167b0014_5117_11eb_9346_0242ac130202row5_col2\" class=\"data row5 col2\" >-0.519972</td>\n",
       "                        <td id=\"T_167b0014_5117_11eb_9346_0242ac130202row5_col3\" class=\"data row5 col3\" >-0.479835</td>\n",
       "                        <td id=\"T_167b0014_5117_11eb_9346_0242ac130202row5_col4\" class=\"data row5 col4\" >-0.220842</td>\n",
       "                        <td id=\"T_167b0014_5117_11eb_9346_0242ac130202row5_col5\" class=\"data row5 col5\" >0.021267</td>\n",
       "                        <td id=\"T_167b0014_5117_11eb_9346_0242ac130202row5_col6\" class=\"data row5 col6\" >82</td>\n",
       "                        <td id=\"T_167b0014_5117_11eb_9346_0242ac130202row5_col7\" class=\"data row5 col7\" >1</td>\n",
       "            </tr>\n",
       "            <tr>\n",
       "                        <th id=\"T_167b0014_5117_11eb_9346_0242ac130202level0_row6\" class=\"row_heading level0 row6\" >388</th>\n",
       "                        <td id=\"T_167b0014_5117_11eb_9346_0242ac130202row6_col0\" class=\"data row6 col0\" >44.000000</td>\n",
       "                        <td id=\"T_167b0014_5117_11eb_9346_0242ac130202row6_col1\" class=\"data row6 col1\" >4</td>\n",
       "                        <td id=\"T_167b0014_5117_11eb_9346_0242ac130202row6_col2\" class=\"data row6 col2\" >-0.930889</td>\n",
       "                        <td id=\"T_167b0014_5117_11eb_9346_0242ac130202row6_col3\" class=\"data row6 col3\" >-1.363154</td>\n",
       "                        <td id=\"T_167b0014_5117_11eb_9346_0242ac130202row6_col4\" class=\"data row6 col4\" >-0.997859</td>\n",
       "                        <td id=\"T_167b0014_5117_11eb_9346_0242ac130202row6_col5\" class=\"data row6 col5\" >3.283479</td>\n",
       "                        <td id=\"T_167b0014_5117_11eb_9346_0242ac130202row6_col6\" class=\"data row6 col6\" >82</td>\n",
       "                        <td id=\"T_167b0014_5117_11eb_9346_0242ac130202row6_col7\" class=\"data row6 col7\" >2</td>\n",
       "            </tr>\n",
       "            <tr>\n",
       "                        <th id=\"T_167b0014_5117_11eb_9346_0242ac130202level0_row7\" class=\"row_heading level0 row7\" >389</th>\n",
       "                        <td id=\"T_167b0014_5117_11eb_9346_0242ac130202row7_col0\" class=\"data row7 col0\" >32.000000</td>\n",
       "                        <td id=\"T_167b0014_5117_11eb_9346_0242ac130202row7_col1\" class=\"data row7 col1\" >4</td>\n",
       "                        <td id=\"T_167b0014_5117_11eb_9346_0242ac130202row7_col2\" class=\"data row7 col2\" >-0.567753</td>\n",
       "                        <td id=\"T_167b0014_5117_11eb_9346_0242ac130202row7_col3\" class=\"data row7 col3\" >-0.531795</td>\n",
       "                        <td id=\"T_167b0014_5117_11eb_9346_0242ac130202row7_col4\" class=\"data row7 col4\" >-0.803605</td>\n",
       "                        <td id=\"T_167b0014_5117_11eb_9346_0242ac130202row7_col5\" class=\"data row7 col5\" >-1.428605</td>\n",
       "                        <td id=\"T_167b0014_5117_11eb_9346_0242ac130202row7_col6\" class=\"data row7 col6\" >82</td>\n",
       "                        <td id=\"T_167b0014_5117_11eb_9346_0242ac130202row7_col7\" class=\"data row7 col7\" >1</td>\n",
       "            </tr>\n",
       "            <tr>\n",
       "                        <th id=\"T_167b0014_5117_11eb_9346_0242ac130202level0_row8\" class=\"row_heading level0 row8\" >390</th>\n",
       "                        <td id=\"T_167b0014_5117_11eb_9346_0242ac130202row8_col0\" class=\"data row8 col0\" >28.000000</td>\n",
       "                        <td id=\"T_167b0014_5117_11eb_9346_0242ac130202row8_col1\" class=\"data row8 col1\" >4</td>\n",
       "                        <td id=\"T_167b0014_5117_11eb_9346_0242ac130202row8_col2\" class=\"data row8 col2\" >-0.711097</td>\n",
       "                        <td id=\"T_167b0014_5117_11eb_9346_0242ac130202row8_col3\" class=\"data row8 col3\" >-0.661694</td>\n",
       "                        <td id=\"T_167b0014_5117_11eb_9346_0242ac130202row8_col4\" class=\"data row8 col4\" >-0.415097</td>\n",
       "                        <td id=\"T_167b0014_5117_11eb_9346_0242ac130202row8_col5\" class=\"data row8 col5\" >1.108671</td>\n",
       "                        <td id=\"T_167b0014_5117_11eb_9346_0242ac130202row8_col6\" class=\"data row8 col6\" >82</td>\n",
       "                        <td id=\"T_167b0014_5117_11eb_9346_0242ac130202row8_col7\" class=\"data row8 col7\" >1</td>\n",
       "            </tr>\n",
       "            <tr>\n",
       "                        <th id=\"T_167b0014_5117_11eb_9346_0242ac130202level0_row9\" class=\"row_heading level0 row9\" >391</th>\n",
       "                        <td id=\"T_167b0014_5117_11eb_9346_0242ac130202row9_col0\" class=\"data row9 col0\" >31.000000</td>\n",
       "                        <td id=\"T_167b0014_5117_11eb_9346_0242ac130202row9_col1\" class=\"data row9 col1\" >4</td>\n",
       "                        <td id=\"T_167b0014_5117_11eb_9346_0242ac130202row9_col2\" class=\"data row9 col2\" >-0.720653</td>\n",
       "                        <td id=\"T_167b0014_5117_11eb_9346_0242ac130202row9_col3\" class=\"data row9 col3\" >-0.583754</td>\n",
       "                        <td id=\"T_167b0014_5117_11eb_9346_0242ac130202row9_col4\" class=\"data row9 col4\" >-0.303253</td>\n",
       "                        <td id=\"T_167b0014_5117_11eb_9346_0242ac130202row9_col5\" class=\"data row9 col5\" >1.398646</td>\n",
       "                        <td id=\"T_167b0014_5117_11eb_9346_0242ac130202row9_col6\" class=\"data row9 col6\" >82</td>\n",
       "                        <td id=\"T_167b0014_5117_11eb_9346_0242ac130202row9_col7\" class=\"data row9 col7\" >1</td>\n",
       "            </tr>\n",
       "    </tbody></table>"
      ],
      "text/plain": [
       "<pandas.io.formats.style.Styler at 0x7f326e3b2150>"
      ]
     },
     "execution_count": 9,
     "metadata": {},
     "output_type": "execute_result"
    }
   ],
   "source": [
    "stats=df.describe().transpose()\n",
    "dfn=df.copy()\n",
    "for nc in numeric_columns:\n",
    "    mean=stats.loc[nc,'mean']\n",
    "    std=stats.loc[nc,'std']\n",
    "    dfn.loc[:,nc]=(dfn.loc[:,nc]-mean)/std\n",
    "dfn.tail(10).style.bar(\n",
    "    align='mid',color=['#55eeee','#ee55ee'],\n",
    "    subset=numeric_columns).set_table_styles(pd_style())"
   ]
  },
  {
   "cell_type": "code",
   "execution_count": 10,
   "metadata": {
    "_kg_hide-input": true,
    "execution": {
     "iopub.execute_input": "2021-01-07T18:35:16.884740Z",
     "iopub.status.busy": "2021-01-07T18:35:16.884069Z",
     "iopub.status.idle": "2021-01-07T18:35:16.887999Z",
     "shell.execute_reply": "2021-01-07T18:35:16.888613Z"
    },
    "papermill": {
     "duration": 0.031901,
     "end_time": "2021-01-07T18:35:16.888754",
     "exception": false,
     "start_time": "2021-01-07T18:35:16.856853",
     "status": "completed"
    },
    "tags": []
   },
   "outputs": [
    {
     "data": {
      "text/html": [
       "<div id='html_string8874910.918317707' style='width:100%;'><iframe src='d3header8874910.918317707.html' height=75.0\n",
       "    style='display:block; width:100%;'></iframe></div>"
      ],
      "text/plain": [
       "<IPython.core.display.HTML object>"
      ]
     },
     "metadata": {},
     "output_type": "display_data"
    }
   ],
   "source": [
    "%cmap_header TF Data"
   ]
  },
  {
   "cell_type": "code",
   "execution_count": 11,
   "metadata": {
    "_kg_hide-output": false,
    "execution": {
     "iopub.execute_input": "2021-01-07T18:35:16.938838Z",
     "iopub.status.busy": "2021-01-07T18:35:16.938250Z",
     "iopub.status.idle": "2021-01-07T18:35:16.945769Z",
     "shell.execute_reply": "2021-01-07T18:35:16.945249Z"
    },
    "papermill": {
     "duration": 0.03377,
     "end_time": "2021-01-07T18:35:16.945900",
     "exception": false,
     "start_time": "2021-01-07T18:35:16.912130",
     "status": "completed"
    },
    "tags": []
   },
   "outputs": [
    {
     "data": {
      "text/html": [
       "<style>\n",
       "    @import 'https://fonts.googleapis.com/css?family=Aladin&effect=3d-float';      \n",
       "    </style><h1 class='font-effect-3d-float' \n",
       "    style='font-family:Aladin; color:#ee55ee; font-size:20px;'>\n",
       "    NumericColumn(key='Displacement', shape=(1,), default_value=None, dtype=tf.float32, normalizer_fn=None)</h1>"
      ],
      "text/plain": [
       "<IPython.core.display.HTML object>"
      ]
     },
     "metadata": {},
     "output_type": "display_data"
    }
   ],
   "source": [
    "numeric_features=[]\n",
    "for nc in numeric_columns:\n",
    "    nf=tf.feature_column.numeric_column(key=nc)\n",
    "    numeric_features.append(nf) \n",
    "for nf in numeric_features: \n",
    "    phtml(str(nf)); break"
   ]
  },
  {
   "cell_type": "code",
   "execution_count": 12,
   "metadata": {
    "execution": {
     "iopub.execute_input": "2021-01-07T18:35:17.001974Z",
     "iopub.status.busy": "2021-01-07T18:35:17.001011Z",
     "iopub.status.idle": "2021-01-07T18:35:17.004897Z",
     "shell.execute_reply": "2021-01-07T18:35:17.004409Z"
    },
    "papermill": {
     "duration": 0.035343,
     "end_time": "2021-01-07T18:35:17.004998",
     "exception": false,
     "start_time": "2021-01-07T18:35:16.969655",
     "status": "completed"
    },
    "tags": []
   },
   "outputs": [
    {
     "data": {
      "text/html": [
       "<style>\n",
       "    @import 'https://fonts.googleapis.com/css?family=Aladin&effect=3d-float';      \n",
       "    </style><h1 class='font-effect-3d-float' \n",
       "    style='font-family:Aladin; color:#ee55ee; font-size:20px;'>\n",
       "    BucketizedColumn(source_column=NumericColumn(key='ModelYear', shape=(1,), default_value=None, dtype=tf.float32, normalizer_fn=None), boundaries=(73, 76, 79))</h1>"
      ],
      "text/plain": [
       "<IPython.core.display.HTML object>"
      ]
     },
     "metadata": {},
     "output_type": "display_data"
    }
   ],
   "source": [
    "fyear=tf.feature_column.numeric_column(key=\"ModelYear\")\n",
    "fcylinders=tf.feature_column.numeric_column(key=\"Cylinders\")\n",
    "bucketized_features=[]\n",
    "fyear=tf.feature_column.bucketized_column(\n",
    "    source_column=fyear,boundaries=[73,76,79])\n",
    "fcylinders=tf.feature_column.bucketized_column(\n",
    "    source_column=fcylinders,boundaries=[4,6,8])\n",
    "bucketized_features.append(fyear)\n",
    "bucketized_features.append(fcylinders)\n",
    "for bf in bucketized_features: \n",
    "    phtml(str(bf)); break"
   ]
  },
  {
   "cell_type": "code",
   "execution_count": 13,
   "metadata": {
    "execution": {
     "iopub.execute_input": "2021-01-07T18:35:17.060675Z",
     "iopub.status.busy": "2021-01-07T18:35:17.059919Z",
     "iopub.status.idle": "2021-01-07T18:35:17.062805Z",
     "shell.execute_reply": "2021-01-07T18:35:17.063343Z"
    },
    "papermill": {
     "duration": 0.033977,
     "end_time": "2021-01-07T18:35:17.063476",
     "exception": false,
     "start_time": "2021-01-07T18:35:17.029499",
     "status": "completed"
    },
    "tags": []
   },
   "outputs": [
    {
     "data": {
      "text/html": [
       "<style>\n",
       "    @import 'https://fonts.googleapis.com/css?family=Aladin&effect=3d-float';      \n",
       "    </style><h1 class='font-effect-3d-float' \n",
       "    style='font-family:Aladin; color:#ee55ee; font-size:20px;'>\n",
       "    IndicatorColumn(categorical_column=VocabularyListCategoricalColumn(key='Origin', vocabulary_list=(1, 2, 3), dtype=tf.int64, default_value=-1, num_oov_buckets=0))</h1>"
      ],
      "text/plain": [
       "<IPython.core.display.HTML object>"
      ]
     },
     "metadata": {},
     "output_type": "display_data"
    }
   ],
   "source": [
    "forigin=tf.feature_column\\\n",
    ".categorical_column_with_vocabulary_list(\n",
    "    key='Origin',vocabulary_list=[1,2,3])\n",
    "categorical_features=\\\n",
    "[tf.feature_column.indicator_column(forigin)]\n",
    "phtml(str(categorical_features[0]))"
   ]
  },
  {
   "cell_type": "code",
   "execution_count": 14,
   "metadata": {
    "execution": {
     "iopub.execute_input": "2021-01-07T18:35:17.116853Z",
     "iopub.status.busy": "2021-01-07T18:35:17.116254Z",
     "iopub.status.idle": "2021-01-07T18:35:17.123096Z",
     "shell.execute_reply": "2021-01-07T18:35:17.123590Z"
    },
    "papermill": {
     "duration": 0.035138,
     "end_time": "2021-01-07T18:35:17.123713",
     "exception": false,
     "start_time": "2021-01-07T18:35:17.088575",
     "status": "completed"
    },
    "tags": []
   },
   "outputs": [
    {
     "data": {
      "text/html": [
       "<style>\n",
       "    @import 'https://fonts.googleapis.com/css?family=Aladin&effect=3d-float';      \n",
       "    </style><h1 class='font-effect-3d-float' \n",
       "    style='font-family:Aladin; color:#ee55ee; font-size:20px;'>\n",
       "    [313, 79]</h1>"
      ],
      "text/plain": [
       "<IPython.core.display.HTML object>"
      ]
     },
     "metadata": {},
     "output_type": "display_data"
    }
   ],
   "source": [
    "features=(numeric_features+\n",
    "          bucketized_features+ \n",
    "          categorical_features)\n",
    "dfn_train,dfn_test=\\\n",
    "sms.train_test_split(dfn,train_size=.8,shuffle=True)\n",
    "phtml(str([len(dfn_train),len(dfn_test)]))"
   ]
  },
  {
   "cell_type": "code",
   "execution_count": 15,
   "metadata": {
    "execution": {
     "iopub.execute_input": "2021-01-07T18:35:17.178861Z",
     "iopub.status.busy": "2021-01-07T18:35:17.178268Z",
     "iopub.status.idle": "2021-01-07T18:35:17.300398Z",
     "shell.execute_reply": "2021-01-07T18:35:17.300872Z"
    },
    "papermill": {
     "duration": 0.151649,
     "end_time": "2021-01-07T18:35:17.301051",
     "exception": false,
     "start_time": "2021-01-07T18:35:17.149402",
     "status": "completed"
    },
    "tags": []
   },
   "outputs": [
    {
     "data": {
      "text/html": [
       "<style>\n",
       "    @import 'https://fonts.googleapis.com/css?family=Aladin&effect=3d-float';      \n",
       "    </style><h1 class='font-effect-3d-float' \n",
       "    style='font-family:Aladin; color:#ee55ee; font-size:20px;'>\n",
       "    keys: </br>dict_keys(['Cylinders', 'Displacement', 'Horsepower', 'Weight', 'Acceleration', 'ModelYear', 'Origin'])</h1>"
      ],
      "text/plain": [
       "<IPython.core.display.HTML object>"
      ]
     },
     "metadata": {},
     "output_type": "display_data"
    },
    {
     "data": {
      "text/html": [
       "<style>\n",
       "    @import 'https://fonts.googleapis.com/css?family=Aladin&effect=3d-float';      \n",
       "    </style><h1 class='font-effect-3d-float' \n",
       "    style='font-family:Aladin; color:#ee55ee; font-size:20px;'>\n",
       "    batch values of `Cylinders`: </br> tf.Tensor([4 4 4 6 6 4 6 4], shape=(8,), dtype=int64)</h1>"
      ],
      "text/plain": [
       "<IPython.core.display.HTML object>"
      ]
     },
     "metadata": {},
     "output_type": "display_data"
    }
   ],
   "source": [
    "batch_size=8\n",
    "def train_input_fn(dfn_train,batch_size):\n",
    "    dft=dfn_train.copy()\n",
    "    x_train,y_train=dft,dft.pop('MPG')\n",
    "    ds_train=tds.from_tensor_slices((dict(x_train),y_train))\n",
    "    return ds_train.shuffle(1000).repeat().batch(batch_size)\n",
    "ds_train=train_input_fn(dfn_train,batch_size)\n",
    "batch=next(iter(ds_train))\n",
    "phtml('keys: </br>%s'%batch[0].keys())\n",
    "phtml('batch values of `Cylinders`: </br> %s'%batch[0]['Cylinders'])"
   ]
  },
  {
   "cell_type": "code",
   "execution_count": 16,
   "metadata": {
    "execution": {
     "iopub.execute_input": "2021-01-07T18:35:17.360990Z",
     "iopub.status.busy": "2021-01-07T18:35:17.359962Z",
     "iopub.status.idle": "2021-01-07T18:35:17.388593Z",
     "shell.execute_reply": "2021-01-07T18:35:17.387990Z"
    },
    "papermill": {
     "duration": 0.059468,
     "end_time": "2021-01-07T18:35:17.388718",
     "exception": false,
     "start_time": "2021-01-07T18:35:17.329250",
     "status": "completed"
    },
    "tags": []
   },
   "outputs": [
    {
     "data": {
      "text/html": [
       "<style>\n",
       "    @import 'https://fonts.googleapis.com/css?family=Aladin&effect=3d-float';      \n",
       "    </style><h1 class='font-effect-3d-float' \n",
       "    style='font-family:Aladin; color:#ee55ee; font-size:20px;'>\n",
       "    keys: </br>dict_keys(['Cylinders', 'Displacement', 'Horsepower', 'Weight', 'Acceleration', 'ModelYear', 'Origin'])</h1>"
      ],
      "text/plain": [
       "<IPython.core.display.HTML object>"
      ]
     },
     "metadata": {},
     "output_type": "display_data"
    },
    {
     "data": {
      "text/html": [
       "<style>\n",
       "    @import 'https://fonts.googleapis.com/css?family=Aladin&effect=3d-float';      \n",
       "    </style><h1 class='font-effect-3d-float' \n",
       "    style='font-family:Aladin; color:#ee55ee; font-size:20px;'>\n",
       "    batch values of `ModelYear`: </br>tf.Tensor([76 75 80 76 70 75 78 82], shape=(8,), dtype=int64)</h1>"
      ],
      "text/plain": [
       "<IPython.core.display.HTML object>"
      ]
     },
     "metadata": {},
     "output_type": "display_data"
    }
   ],
   "source": [
    "def test_input_fn(dfn_test,batch_size):\n",
    "    dft2=dfn_test.copy()\n",
    "    x_test,y_test=dft2,dft2.pop('MPG')\n",
    "    ds_test=tds.from_tensor_slices((dict(x_test),y_test))\n",
    "    return ds_test.batch(batch_size)\n",
    "ds_test=train_input_fn(dfn_test,batch_size)\n",
    "batch=next(iter(ds_test))\n",
    "phtml('keys: </br>%s'%batch[0].keys())\n",
    "phtml('batch values of `ModelYear`: </br>%s'%\\\n",
    "      batch[0]['ModelYear'])"
   ]
  },
  {
   "cell_type": "code",
   "execution_count": 17,
   "metadata": {
    "_kg_hide-input": true,
    "execution": {
     "iopub.execute_input": "2021-01-07T18:35:17.451935Z",
     "iopub.status.busy": "2021-01-07T18:35:17.451155Z",
     "iopub.status.idle": "2021-01-07T18:35:17.455765Z",
     "shell.execute_reply": "2021-01-07T18:35:17.455270Z"
    },
    "papermill": {
     "duration": 0.037375,
     "end_time": "2021-01-07T18:35:17.455871",
     "exception": false,
     "start_time": "2021-01-07T18:35:17.418496",
     "status": "completed"
    },
    "tags": []
   },
   "outputs": [
    {
     "data": {
      "text/html": [
       "<div id='html_string3003934.785269538' style='width:100%;'><iframe src='d3header3003934.785269538.html' height=75.0\n",
       "    style='display:block; width:100%;'></iframe></div>"
      ],
      "text/plain": [
       "<IPython.core.display.HTML object>"
      ]
     },
     "metadata": {},
     "output_type": "display_data"
    }
   ],
   "source": [
    "%cmap_header TF Regressor"
   ]
  },
  {
   "cell_type": "code",
   "execution_count": 18,
   "metadata": {
    "_kg_hide-output": false,
    "execution": {
     "iopub.execute_input": "2021-01-07T18:35:17.517168Z",
     "iopub.status.busy": "2021-01-07T18:35:17.516214Z",
     "iopub.status.idle": "2021-01-07T18:35:17.698130Z",
     "shell.execute_reply": "2021-01-07T18:35:17.697462Z"
    },
    "papermill": {
     "duration": 0.213986,
     "end_time": "2021-01-07T18:35:17.698239",
     "exception": false,
     "start_time": "2021-01-07T18:35:17.484253",
     "status": "completed"
    },
    "tags": []
   },
   "outputs": [],
   "source": [
    "reg=tf.estimator.DNNRegressor(\n",
    "    feature_columns=features,hidden_units=[64,32,16,8],\n",
    "    model_dir='models/autompg-dnnregressor/');"
   ]
  },
  {
   "cell_type": "code",
   "execution_count": 19,
   "metadata": {
    "_kg_hide-output": false,
    "execution": {
     "iopub.execute_input": "2021-01-07T18:35:17.759852Z",
     "iopub.status.busy": "2021-01-07T18:35:17.758708Z",
     "iopub.status.idle": "2021-01-07T18:35:59.160209Z",
     "shell.execute_reply": "2021-01-07T18:35:59.159599Z"
    },
    "papermill": {
     "duration": 41.432765,
     "end_time": "2021-01-07T18:35:59.160332",
     "exception": false,
     "start_time": "2021-01-07T18:35:17.727567",
     "status": "completed"
    },
    "tags": []
   },
   "outputs": [
    {
     "data": {
      "text/html": [
       "<style>\n",
       "    @import 'https://fonts.googleapis.com/css?family=Aladin&effect=3d-float';      \n",
       "    </style><h1 class='font-effect-3d-float' \n",
       "    style='font-family:Aladin; color:#ee55ee; font-size:20px;'>\n",
       "    training steps: 40000</h1>"
      ],
      "text/plain": [
       "<IPython.core.display.HTML object>"
      ]
     },
     "metadata": {},
     "output_type": "display_data"
    }
   ],
   "source": [
    "epochs=1000\n",
    "steps=epochs*int(np.ceil(len(dfn_train)/batch_size))\n",
    "phtml('training steps: %d'%steps)\n",
    "reg.train(input_fn=lambda:\\\n",
    "          train_input_fn(dfn_train,\n",
    "          batch_size),steps=steps);"
   ]
  },
  {
   "cell_type": "code",
   "execution_count": 20,
   "metadata": {
    "execution": {
     "iopub.execute_input": "2021-01-07T18:35:59.233818Z",
     "iopub.status.busy": "2021-01-07T18:35:59.232082Z",
     "iopub.status.idle": "2021-01-07T18:35:59.235732Z",
     "shell.execute_reply": "2021-01-07T18:35:59.234842Z"
    },
    "papermill": {
     "duration": 0.04221,
     "end_time": "2021-01-07T18:35:59.235897",
     "exception": false,
     "start_time": "2021-01-07T18:35:59.193687",
     "status": "completed"
    },
    "tags": []
   },
   "outputs": [],
   "source": [
    "reloaded_reg=tf.estimator.DNNRegressor(\n",
    "    feature_columns=features,hidden_units=[64,32,16,8],\n",
    "    warm_start_from='models/autompg-dnnregressor/',\n",
    "    model_dir='models/autompg-dnnregressor/');"
   ]
  },
  {
   "cell_type": "code",
   "execution_count": 21,
   "metadata": {
    "execution": {
     "iopub.execute_input": "2021-01-07T18:35:59.308739Z",
     "iopub.status.busy": "2021-01-07T18:35:59.307761Z",
     "iopub.status.idle": "2021-01-07T18:36:00.274674Z",
     "shell.execute_reply": "2021-01-07T18:36:00.274106Z"
    },
    "papermill": {
     "duration": 1.004087,
     "end_time": "2021-01-07T18:36:00.274782",
     "exception": false,
     "start_time": "2021-01-07T18:35:59.270695",
     "status": "completed"
    },
    "tags": []
   },
   "outputs": [
    {
     "data": {
      "text/html": [
       "<style>\n",
       "    @import 'https://fonts.googleapis.com/css?family=Aladin&effect=3d-float';      \n",
       "    </style><h1 class='font-effect-3d-float' \n",
       "    style='font-family:Aladin; color:#ee55ee; font-size:20px;'>\n",
       "    average_loss: 7.903304100036621</h1>"
      ],
      "text/plain": [
       "<IPython.core.display.HTML object>"
      ]
     },
     "metadata": {},
     "output_type": "display_data"
    },
    {
     "data": {
      "text/html": [
       "<style>\n",
       "    @import 'https://fonts.googleapis.com/css?family=Aladin&effect=3d-float';      \n",
       "    </style><h1 class='font-effect-3d-float' \n",
       "    style='font-family:Aladin; color:#ee55ee; font-size:20px;'>\n",
       "    label/mean: 23.507593154907227</h1>"
      ],
      "text/plain": [
       "<IPython.core.display.HTML object>"
      ]
     },
     "metadata": {},
     "output_type": "display_data"
    },
    {
     "data": {
      "text/html": [
       "<style>\n",
       "    @import 'https://fonts.googleapis.com/css?family=Aladin&effect=3d-float';      \n",
       "    </style><h1 class='font-effect-3d-float' \n",
       "    style='font-family:Aladin; color:#ee55ee; font-size:20px;'>\n",
       "    loss: 7.870075225830078</h1>"
      ],
      "text/plain": [
       "<IPython.core.display.HTML object>"
      ]
     },
     "metadata": {},
     "output_type": "display_data"
    },
    {
     "data": {
      "text/html": [
       "<style>\n",
       "    @import 'https://fonts.googleapis.com/css?family=Aladin&effect=3d-float';      \n",
       "    </style><h1 class='font-effect-3d-float' \n",
       "    style='font-family:Aladin; color:#ee55ee; font-size:20px;'>\n",
       "    prediction/mean: 23.74333953857422</h1>"
      ],
      "text/plain": [
       "<IPython.core.display.HTML object>"
      ]
     },
     "metadata": {},
     "output_type": "display_data"
    },
    {
     "data": {
      "text/html": [
       "<style>\n",
       "    @import 'https://fonts.googleapis.com/css?family=Aladin&effect=3d-float';      \n",
       "    </style><h1 class='font-effect-3d-float' \n",
       "    style='font-family:Aladin; color:#ee55ee; font-size:20px;'>\n",
       "    global_step: 40000</h1>"
      ],
      "text/plain": [
       "<IPython.core.display.HTML object>"
      ]
     },
     "metadata": {},
     "output_type": "display_data"
    },
    {
     "data": {
      "text/html": [
       "<style>\n",
       "    @import 'https://fonts.googleapis.com/css?family=Aladin&effect=3d-float';      \n",
       "    </style><h1 class='font-effect-3d-float' \n",
       "    style='font-family:Aladin; color:#ee55ee; font-size:20px;'>\n",
       "    test average loss% 7.9033</h1>"
      ],
      "text/plain": [
       "<IPython.core.display.HTML object>"
      ]
     },
     "metadata": {},
     "output_type": "display_data"
    }
   ],
   "source": [
    "test_results=reloaded_reg\\\n",
    ".evaluate(input_fn=lambda:\\\n",
    "          test_input_fn(dfn_test,batch_size))\n",
    "for key in test_results:\n",
    "    phtml('{}: {}'.format(key,test_results[key]))\n",
    "phtml('test average loss% {:.4f}'\\\n",
    "      .format(test_results['average_loss']))"
   ]
  },
  {
   "cell_type": "code",
   "execution_count": 22,
   "metadata": {
    "execution": {
     "iopub.execute_input": "2021-01-07T18:36:00.349800Z",
     "iopub.status.busy": "2021-01-07T18:36:00.348990Z",
     "iopub.status.idle": "2021-01-07T18:36:00.781897Z",
     "shell.execute_reply": "2021-01-07T18:36:00.781090Z"
    },
    "papermill": {
     "duration": 0.473293,
     "end_time": "2021-01-07T18:36:00.782033",
     "exception": false,
     "start_time": "2021-01-07T18:36:00.308740",
     "status": "completed"
    },
    "tags": []
   },
   "outputs": [],
   "source": [
    "y_test_pred=reg.predict(input_fn=lambda:\\\n",
    "                        test_input_fn(dfn_test,batch_size))\n",
    "py_test=[]\n",
    "for i in range(len(dfn_test)):\n",
    "    py_test.append(next(iter(y_test_pred))['predictions'][0])"
   ]
  },
  {
   "cell_type": "code",
   "execution_count": 23,
   "metadata": {
    "execution": {
     "iopub.execute_input": "2021-01-07T18:36:00.858486Z",
     "iopub.status.busy": "2021-01-07T18:36:00.857753Z",
     "iopub.status.idle": "2021-01-07T18:36:01.149320Z",
     "shell.execute_reply": "2021-01-07T18:36:01.148594Z"
    },
    "papermill": {
     "duration": 0.332963,
     "end_time": "2021-01-07T18:36:01.149432",
     "exception": false,
     "start_time": "2021-01-07T18:36:00.816469",
     "status": "completed"
    },
    "tags": []
   },
   "outputs": [
    {
     "data": {
      "image/png": "[encoded data removed]",
      "text/plain": [
       "<Figure size 720x288 with 1 Axes>"
      ]
     },
     "metadata": {
      "needs_background": "light"
     },
     "output_type": "display_data"
    }
   ],
   "source": [
    "pl.figure(figsize=(10,4))\n",
    "pl.plot(range(len(dfn_test)),dfn_test['MPG'],\n",
    "        '-o',label='real data',c='#55eeee',ms=7)\n",
    "pl.plot(range(len(dfn_test)),py_test,\n",
    "        '-o',label='predictions',c='#ee55ee',ms=5)\n",
    "pl.tight_layout(); pl.grid(); pl.legend();"
   ]
  }
 ],
 "metadata": {
  "kernelspec": {
   "display_name": "Python 3",
   "language": "python",
   "name": "python3"
  },
  "language_info": {
   "codemirror_mode": {
    "name": "ipython",
    "version": 3
   },
   "file_extension": ".py",
   "mimetype": "text/x-python",
   "name": "python",
   "nbconvert_exporter": "python",
   "pygments_lexer": "ipython3",
   "version": "3.7.6"
  },
  "papermill": {
   "duration": 56.44565,
   "end_time": "2021-01-07T18:36:01.294041",
   "environment_variables": {},
   "exception": null,
   "input_path": "__notebook__.ipynb",
   "output_path": "__notebook__.ipynb",
   "parameters": {},
   "start_time": "2021-01-07T18:35:04.848391",
   "version": "2.1.0"
  }
 },
 "nbformat": 4,
 "nbformat_minor": 4
}
