{
 "cells": [
  {
   "cell_type": "markdown",
   "metadata": {
    "papermill": {
     "duration": 0.013753,
     "end_time": "2021-01-07T02:53:42.186531",
     "exception": false,
     "start_time": "2021-01-07T02:53:42.172778",
     "status": "completed"
    },
    "tags": []
   },
   "source": [
    "Reading classics [Python Machine Learning 3rd Edition](https://github.com/rasbt/python-machine-learning-book-3rd-edition/blob/master/ch14/ch14_part3.ipynb)"
   ]
  },
  {
   "cell_type": "code",
   "execution_count": 1,
   "metadata": {
    "_kg_hide-input": true,
    "execution": {
     "iopub.execute_input": "2021-01-07T02:53:42.218639Z",
     "iopub.status.busy": "2021-01-07T02:53:42.217697Z",
     "iopub.status.idle": "2021-01-07T02:53:42.222491Z",
     "shell.execute_reply": "2021-01-07T02:53:42.223167Z"
    },
    "papermill": {
     "duration": 0.024081,
     "end_time": "2021-01-07T02:53:42.223356",
     "exception": false,
     "start_time": "2021-01-07T02:53:42.199275",
     "status": "completed"
    },
    "tags": []
   },
   "outputs": [
    {
     "name": "stdout",
     "output_type": "stream",
     "text": [
      "Writing color_header.py\n"
     ]
    }
   ],
   "source": [
    "%%writefile color_header.py\n",
    "from IPython.display import display,HTML\n",
    "from IPython.core.magic import register_line_magic\n",
    "import random\n",
    "\n",
    "@register_line_magic\n",
    "def left_header(params):\n",
    "    params=params.split('|'); string=params[0]\n",
    "    if len(params)==1: font_size=24; font_family='Ewert'\n",
    "    elif  len(params)==2: font_size=int(params[1]); font_family='Ewert' \n",
    "    else: font_size=int(params[1]); font_family=params[2]\n",
    "    width=650; height=font_size*2.5\n",
    "    randi=str(random.uniform(0,9999999))\n",
    "    html_str=\"\"\"\n",
    "    <head><script src='https://d3js.org/d3.v6.min.js'></script>\n",
    "    </head><style>@import 'https://fonts.googleapis.com/css?family=\"\"\"+\\\n",
    "    font_family+\"\"\"&effect=3d'; #colorized1 {font-family:\"\"\"+font_family+\\\n",
    "    \"\"\"; color:white; padding-left:10px; font-size:\"\"\"+str(font_size)+\\\n",
    "    \"\"\"px;}</style><h1 id='colorized1' class='font-effect-3d'>\"\"\"+string+\\\n",
    "    \"\"\"</h1><script>\n",
    "    var tc=setInterval(function(){\n",
    "        var now=new Date().getTime();\n",
    "        var iddoc1=document.getElementById('colorized1');\n",
    "        iddoc1.style.color=d3.interpolateRainbow(now/20000); },1)\n",
    "    </script>\"\"\"\n",
    "    file='d3header'+randi+'.html'\n",
    "    with open(file,'w') as f:\n",
    "         f.write(html_str); f.close()\n",
    "    string=\"\"\"<div id='html_string\"\"\"+randi+\\\n",
    "    \"\"\"'><iframe src='\"\"\"+file+\\\n",
    "    \"\"\"' height=\"\"\"+str(height)+\"\"\" width=\"\"\"+str(width)+\\\n",
    "    \"\"\" style='display:block;'></iframe></div>\"\"\"\n",
    "    display(HTML(string))"
   ]
  },
  {
   "cell_type": "code",
   "execution_count": 2,
   "metadata": {
    "_kg_hide-input": true,
    "execution": {
     "iopub.execute_input": "2021-01-07T02:53:42.257323Z",
     "iopub.status.busy": "2021-01-07T02:53:42.256463Z",
     "iopub.status.idle": "2021-01-07T02:53:42.264220Z",
     "shell.execute_reply": "2021-01-07T02:53:42.263531Z"
    },
    "papermill": {
     "duration": 0.026466,
     "end_time": "2021-01-07T02:53:42.264329",
     "exception": false,
     "start_time": "2021-01-07T02:53:42.237863",
     "status": "completed"
    },
    "tags": []
   },
   "outputs": [
    {
     "data": {
      "text/html": [
       "<div id='html_string7049239.008973571'><iframe src='d3header7049239.008973571.html' height=55.0 width=650 style='display:block;'></iframe></div>"
      ],
      "text/plain": [
       "<IPython.core.display.HTML object>"
      ]
     },
     "metadata": {},
     "output_type": "display_data"
    }
   ],
   "source": [
    "%run color_header.py\n",
    "%left_header Code Modules & Functions|22|Orbitron"
   ]
  },
  {
   "cell_type": "code",
   "execution_count": 3,
   "metadata": {
    "execution": {
     "iopub.execute_input": "2021-01-07T02:53:42.302252Z",
     "iopub.status.busy": "2021-01-07T02:53:42.301519Z",
     "iopub.status.idle": "2021-01-07T02:53:49.744944Z",
     "shell.execute_reply": "2021-01-07T02:53:49.744351Z"
    },
    "papermill": {
     "duration": 7.465701,
     "end_time": "2021-01-07T02:53:49.745060",
     "exception": false,
     "start_time": "2021-01-07T02:53:42.279359",
     "status": "completed"
    },
    "tags": []
   },
   "outputs": [],
   "source": [
    "import warnings; warnings.filterwarnings('ignore')\n",
    "import tensorflow as tf,pylab as pl\n",
    "import pandas as pd,numpy as np,seaborn as sb\n",
    "import tensorflow.keras.utils as tku\n",
    "from tensorflow.data import Dataset as tfd\n",
    "import sklearn.model_selection as sms\n",
    "import tensorflow_datasets as tfds\n",
    "import tensorflow.image as tfim\n",
    "from IPython.display import display,HTML\n",
    "from IPython.core.magic import register_line_magic\n",
    "tfds.disable_progress_bar()"
   ]
  },
  {
   "cell_type": "code",
   "execution_count": 4,
   "metadata": {
    "_kg_hide-input": true,
    "execution": {
     "iopub.execute_input": "2021-01-07T02:53:49.793992Z",
     "iopub.status.busy": "2021-01-07T02:53:49.792725Z",
     "iopub.status.idle": "2021-01-07T02:53:49.795264Z",
     "shell.execute_reply": "2021-01-07T02:53:49.795755Z"
    },
    "papermill": {
     "duration": 0.035644,
     "end_time": "2021-01-07T02:53:49.795864",
     "exception": false,
     "start_time": "2021-01-07T02:53:49.760220",
     "status": "completed"
    },
    "tags": []
   },
   "outputs": [],
   "source": [
    "def phtml(str):\n",
    "    display(HTML(\"\"\"<style>\n",
    "    @import 'https://fonts.googleapis.com/css?family=Aladin&effect=3d-float';      \n",
    "    </style><h1 class='font-effect-3d-float' \n",
    "    style='font-family:Smokum; color:#11ff11; font-size:18px;'>\n",
    "    %s</h1>\"\"\"%str))\n",
    "def preprocess(item):\n",
    "    image,label=item['image'],item['label']\n",
    "    image=tfim.convert_image_dtype(image,tf.float32)\n",
    "    image=tf.reshape(image,(-1,))\n",
    "    return {'image-pixels':image},label[...,tf.newaxis]\n",
    "def train_input_fn(buffer_size,batch_size):\n",
    "    mnist_train=tfds.load(\n",
    "        name='mnist',split='train[0%:90%]',shuffle_files=True)\n",
    "    ds=mnist_train.map(preprocess)\n",
    "    ds=ds.shuffle(buffer_size)\n",
    "    ds=ds.batch(batch_size)\n",
    "    return ds.repeat()\n",
    "def valid_input_fn(batch_size):\n",
    "    mnist_valid=tfds.load(\n",
    "        name='mnist',split='train[90%:100%]',shuffle_files=True)\n",
    "    ds=mnist_valid.map(preprocess)\n",
    "    ds=ds.batch(batch_size)\n",
    "    return ds\n",
    "def test_input_fn(batch_size):\n",
    "    datasets=tfds.load(name='mnist')\n",
    "    mnist_test=datasets['test']\n",
    "    ds=mnist_test.map(preprocess)\n",
    "    ds=ds.batch(batch_size)\n",
    "    return ds\n",
    "@register_line_magic\n",
    "def display_predict(n):\n",
    "    n=int(n)\n",
    "    fig=pl.figure(figsize=(10,8))\n",
    "    randch=np.random.choice(batch_size,size=n,replace=False)\n",
    "    for i,idx in enumerate(randch):\n",
    "        ax=fig.add_subplot(3,n//3,i+1,xticks=[],yticks=[])\n",
    "        ax.imshow(bx_test[idx].reshape(img_size,img_size),\n",
    "                  cmap='rainbow')\n",
    "        pred_idx=py_test[idx]; true_idx=by_test[idx]\n",
    "        color=('#11ff11' if pred_idx==true_idx else '#ffee11')\n",
    "        ax.set_title('{} \\n({})'.format(pred_idx,true_idx),\n",
    "                     color=color)\n",
    "    pl.show()"
   ]
  },
  {
   "cell_type": "code",
   "execution_count": 5,
   "metadata": {
    "_kg_hide-input": true,
    "execution": {
     "iopub.execute_input": "2021-01-07T02:53:49.829476Z",
     "iopub.status.busy": "2021-01-07T02:53:49.828543Z",
     "iopub.status.idle": "2021-01-07T02:53:49.833158Z",
     "shell.execute_reply": "2021-01-07T02:53:49.832586Z"
    },
    "papermill": {
     "duration": 0.023021,
     "end_time": "2021-01-07T02:53:49.833245",
     "exception": false,
     "start_time": "2021-01-07T02:53:49.810224",
     "status": "completed"
    },
    "tags": []
   },
   "outputs": [
    {
     "data": {
      "text/html": [
       "<div id='html_string2440752.4375764453'><iframe src='d3header2440752.4375764453.html' height=55.0 width=650 style='display:block;'></iframe></div>"
      ],
      "text/plain": [
       "<IPython.core.display.HTML object>"
      ]
     },
     "metadata": {},
     "output_type": "display_data"
    }
   ],
   "source": [
    "%left_header Data Processing|22|Orbitron"
   ]
  },
  {
   "cell_type": "code",
   "execution_count": 6,
   "metadata": {
    "execution": {
     "iopub.execute_input": "2021-01-07T02:53:49.869814Z",
     "iopub.status.busy": "2021-01-07T02:53:49.869087Z",
     "iopub.status.idle": "2021-01-07T02:53:49.872175Z",
     "shell.execute_reply": "2021-01-07T02:53:49.871650Z"
    },
    "papermill": {
     "duration": 0.0246,
     "end_time": "2021-01-07T02:53:49.872269",
     "exception": false,
     "start_time": "2021-01-07T02:53:49.847669",
     "status": "completed"
    },
    "tags": []
   },
   "outputs": [],
   "source": [
    "buffer_size=1000; batch_size=64\n",
    "img_size=28; num_epochs=20\n",
    "steps_per_epoch=np.ceil(.9*60000/batch_size)\n",
    "feature_column=tf.feature_column.numeric_column(\n",
    "    key='image-pixels',shape=(img_size*img_size))"
   ]
  },
  {
   "cell_type": "code",
   "execution_count": 7,
   "metadata": {
    "_kg_hide-output": true,
    "execution": {
     "iopub.execute_input": "2021-01-07T02:53:49.908862Z",
     "iopub.status.busy": "2021-01-07T02:53:49.908011Z",
     "iopub.status.idle": "2021-01-07T02:53:54.555522Z",
     "shell.execute_reply": "2021-01-07T02:53:54.554337Z"
    },
    "papermill": {
     "duration": 4.66865,
     "end_time": "2021-01-07T02:53:54.555667",
     "exception": false,
     "start_time": "2021-01-07T02:53:49.887017",
     "status": "completed"
    },
    "tags": []
   },
   "outputs": [
    {
     "name": "stdout",
     "output_type": "stream",
     "text": [
      "\u001b[1mDownloading and preparing dataset mnist/3.0.1 (download: 11.06 MiB, generated: 21.00 MiB, total: 32.06 MiB) to /root/tensorflow_datasets/mnist/3.0.1...\u001b[0m\n",
      "\u001b[1mDataset mnist downloaded and prepared to /root/tensorflow_datasets/mnist/3.0.1. Subsequent calls will reuse this data.\u001b[0m\n"
     ]
    }
   ],
   "source": [
    "ds_test=test_input_fn(batch_size)\n",
    "bx_test,by_test=[],[]\n",
    "batch=next(iter(ds_test))\n",
    "for j in range(batch_size):\n",
    "    by_test.append(batch[1].numpy()[j][0])\n",
    "    bx_test.append(batch[0]['image-pixels'].numpy()[j])"
   ]
  },
  {
   "cell_type": "code",
   "execution_count": 8,
   "metadata": {
    "execution": {
     "iopub.execute_input": "2021-01-07T02:53:54.595890Z",
     "iopub.status.busy": "2021-01-07T02:53:54.594595Z",
     "iopub.status.idle": "2021-01-07T02:53:54.846849Z",
     "shell.execute_reply": "2021-01-07T02:53:54.847375Z"
    },
    "papermill": {
     "duration": 0.275553,
     "end_time": "2021-01-07T02:53:54.847533",
     "exception": false,
     "start_time": "2021-01-07T02:53:54.571980",
     "status": "completed"
    },
    "tags": []
   },
   "outputs": [
    {
     "data": {
      "text/html": [
       "<style>\n",
       "    @import 'https://fonts.googleapis.com/css?family=Aladin&effect=3d-float';      \n",
       "    </style><h1 class='font-effect-3d-float' \n",
       "    style='font-family:Smokum; color:#11ff11; font-size:18px;'>\n",
       "    keys: dict_keys(['image-pixels'])</h1>"
      ],
      "text/plain": [
       "<IPython.core.display.HTML object>"
      ]
     },
     "metadata": {},
     "output_type": "display_data"
    },
    {
     "data": {
      "image/png": "[encoded data removed]",
      "text/plain": [
       "<Figure size 432x288 with 1 Axes>"
      ]
     },
     "metadata": {
      "needs_background": "light"
     },
     "output_type": "display_data"
    }
   ],
   "source": [
    "phtml('keys: %s'%batch[0].keys())\n",
    "n=np.random.randint(0,batch_size,1)[0]\n",
    "img=bx_test[n].reshape(img_size,img_size)\n",
    "pl.imshow(img,cmap='rainbow'); pl.tight_layout();\n",
    "pl.title(by_test[n],fontdict={'fontsize':'xx-large'});"
   ]
  },
  {
   "cell_type": "code",
   "execution_count": 9,
   "metadata": {
    "_kg_hide-input": true,
    "execution": {
     "iopub.execute_input": "2021-01-07T02:53:54.893613Z",
     "iopub.status.busy": "2021-01-07T02:53:54.891939Z",
     "iopub.status.idle": "2021-01-07T02:53:54.896616Z",
     "shell.execute_reply": "2021-01-07T02:53:54.897117Z"
    },
    "papermill": {
     "duration": 0.030267,
     "end_time": "2021-01-07T02:53:54.897235",
     "exception": false,
     "start_time": "2021-01-07T02:53:54.866968",
     "status": "completed"
    },
    "tags": []
   },
   "outputs": [
    {
     "data": {
      "text/html": [
       "<div id='html_string8228750.094791145'><iframe src='d3header8228750.094791145.html' height=55.0 width=650 style='display:block;'></iframe></div>"
      ],
      "text/plain": [
       "<IPython.core.display.HTML object>"
      ]
     },
     "metadata": {},
     "output_type": "display_data"
    }
   ],
   "source": [
    "%left_header DNN Classifiers|22|Orbitron"
   ]
  },
  {
   "cell_type": "code",
   "execution_count": 10,
   "metadata": {
    "execution": {
     "iopub.execute_input": "2021-01-07T02:53:54.937398Z",
     "iopub.status.busy": "2021-01-07T02:53:54.936838Z",
     "iopub.status.idle": "2021-01-07T02:53:55.449543Z",
     "shell.execute_reply": "2021-01-07T02:53:55.448952Z"
    },
    "papermill": {
     "duration": 0.535157,
     "end_time": "2021-01-07T02:53:55.449666",
     "exception": false,
     "start_time": "2021-01-07T02:53:54.914509",
     "status": "completed"
    },
    "tags": []
   },
   "outputs": [],
   "source": [
    "dnn_clf=tf.estimator.DNNClassifier(\n",
    "    feature_columns=[feature_column],hidden_units=[512,196,32],\n",
    "    n_classes=10,model_dir='models/mnist-dnn/');"
   ]
  },
  {
   "cell_type": "code",
   "execution_count": 11,
   "metadata": {
    "_kg_hide-output": false,
    "execution": {
     "iopub.execute_input": "2021-01-07T02:53:55.490694Z",
     "iopub.status.busy": "2021-01-07T02:53:55.490029Z",
     "iopub.status.idle": "2021-01-07T02:53:55.494490Z",
     "shell.execute_reply": "2021-01-07T02:53:55.493927Z"
    },
    "papermill": {
     "duration": 0.025955,
     "end_time": "2021-01-07T02:53:55.494589",
     "exception": false,
     "start_time": "2021-01-07T02:53:55.468634",
     "status": "completed"
    },
    "tags": []
   },
   "outputs": [],
   "source": [
    "#train without validation\n",
    "#dnn_clf.train(\n",
    "#    input_fn=lambda:train_input_fn(buffer_size,batch_size),\n",
    "#    steps=num_epochs*steps_per_epoch);"
   ]
  },
  {
   "cell_type": "code",
   "execution_count": 12,
   "metadata": {
    "execution": {
     "iopub.execute_input": "2021-01-07T02:53:55.542926Z",
     "iopub.status.busy": "2021-01-07T02:53:55.541950Z",
     "iopub.status.idle": "2021-01-07T02:55:26.162487Z",
     "shell.execute_reply": "2021-01-07T02:55:26.162977Z"
    },
    "papermill": {
     "duration": 90.650272,
     "end_time": "2021-01-07T02:55:26.163121",
     "exception": false,
     "start_time": "2021-01-07T02:53:55.512849",
     "status": "completed"
    },
    "tags": []
   },
   "outputs": [
    {
     "data": {
      "text/plain": [
       "({'accuracy': 0.94133335,\n",
       "  'average_loss': 0.21912524,\n",
       "  'loss': 0.2188273,\n",
       "  'global_step': 16880},\n",
       " [])"
      ]
     },
     "execution_count": 12,
     "metadata": {},
     "output_type": "execute_result"
    }
   ],
   "source": [
    "#train with validation\n",
    "tf.estimator.train_and_evaluate(\n",
    "    dnn_clf,\n",
    "    tf.estimator.TrainSpec(\n",
    "        input_fn=lambda:train_input_fn(buffer_size,batch_size), \n",
    "        max_steps=num_epochs*steps_per_epoch),\n",
    "    tf.estimator.EvalSpec(\n",
    "        input_fn=lambda:valid_input_fn(batch_size)))"
   ]
  },
  {
   "cell_type": "code",
   "execution_count": 13,
   "metadata": {
    "execution": {
     "iopub.execute_input": "2021-01-07T02:55:26.203659Z",
     "iopub.status.busy": "2021-01-07T02:55:26.203039Z",
     "iopub.status.idle": "2021-01-07T02:55:28.402124Z",
     "shell.execute_reply": "2021-01-07T02:55:28.402650Z"
    },
    "papermill": {
     "duration": 2.221252,
     "end_time": "2021-01-07T02:55:28.402798",
     "exception": false,
     "start_time": "2021-01-07T02:55:26.181546",
     "status": "completed"
    },
    "tags": []
   },
   "outputs": [
    {
     "data": {
      "text/html": [
       "<style>\n",
       "    @import 'https://fonts.googleapis.com/css?family=Aladin&effect=3d-float';      \n",
       "    </style><h1 class='font-effect-3d-float' \n",
       "    style='font-family:Smokum; color:#11ff11; font-size:18px;'>\n",
       "    {'accuracy': 0.9424, 'average_loss': 0.20583299, 'loss': 0.20570077, 'global_step': 16880}</h1>"
      ],
      "text/plain": [
       "<IPython.core.display.HTML object>"
      ]
     },
     "metadata": {},
     "output_type": "display_data"
    }
   ],
   "source": [
    "test_result=dnn_clf.evaluate(\n",
    "    input_fn=lambda:test_input_fn(batch_size))\n",
    "phtml(test_result)"
   ]
  },
  {
   "cell_type": "code",
   "execution_count": 14,
   "metadata": {
    "_kg_hide-input": true,
    "execution": {
     "iopub.execute_input": "2021-01-07T02:55:28.447621Z",
     "iopub.status.busy": "2021-01-07T02:55:28.446049Z",
     "iopub.status.idle": "2021-01-07T02:55:28.450526Z",
     "shell.execute_reply": "2021-01-07T02:55:28.451020Z"
    },
    "papermill": {
     "duration": 0.029037,
     "end_time": "2021-01-07T02:55:28.451131",
     "exception": false,
     "start_time": "2021-01-07T02:55:28.422094",
     "status": "completed"
    },
    "tags": []
   },
   "outputs": [
    {
     "data": {
      "text/html": [
       "<div id='html_string4445761.322474535'><iframe src='d3header4445761.322474535.html' height=55.0 width=650 style='display:block;'></iframe></div>"
      ],
      "text/plain": [
       "<IPython.core.display.HTML object>"
      ]
     },
     "metadata": {},
     "output_type": "display_data"
    }
   ],
   "source": [
    "%left_header Predictions|22|Orbitron"
   ]
  },
  {
   "cell_type": "code",
   "execution_count": 15,
   "metadata": {
    "execution": {
     "iopub.execute_input": "2021-01-07T02:55:28.495557Z",
     "iopub.status.busy": "2021-01-07T02:55:28.494900Z",
     "iopub.status.idle": "2021-01-07T02:55:30.484682Z",
     "shell.execute_reply": "2021-01-07T02:55:30.483353Z"
    },
    "papermill": {
     "duration": 2.014438,
     "end_time": "2021-01-07T02:55:30.484822",
     "exception": false,
     "start_time": "2021-01-07T02:55:28.470384",
     "status": "completed"
    },
    "tags": []
   },
   "outputs": [],
   "source": [
    "y_test_pred=dnn_clf.predict(\n",
    "    input_fn=lambda:test_input_fn(batch_size))\n",
    "py_test=[]\n",
    "for i in range(10000):\n",
    "    py_test.append(next(iter(y_test_pred))['class_ids'][0])"
   ]
  },
  {
   "cell_type": "code",
   "execution_count": 16,
   "metadata": {
    "_kg_hide-input": true,
    "execution": {
     "iopub.execute_input": "2021-01-07T02:55:30.539209Z",
     "iopub.status.busy": "2021-01-07T02:55:30.537812Z",
     "iopub.status.idle": "2021-01-07T02:55:30.739641Z",
     "shell.execute_reply": "2021-01-07T02:55:30.740243Z"
    },
    "papermill": {
     "duration": 0.234512,
     "end_time": "2021-01-07T02:55:30.740426",
     "exception": false,
     "start_time": "2021-01-07T02:55:30.505914",
     "status": "completed"
    },
    "tags": []
   },
   "outputs": [
    {
     "data": {
      "image/png": "[encoded data removed]",
      "text/plain": [
       "<Figure size 720x288 with 1 Axes>"
      ]
     },
     "metadata": {
      "needs_background": "light"
     },
     "output_type": "display_data"
    }
   ],
   "source": [
    "pl.figure(figsize=(10,4))\n",
    "pl.scatter(\n",
    "    range(batch_size),by_test,\n",
    "    s=50,label='real data',c='#ffee11')\n",
    "pl.scatter(\n",
    "    range(batch_size),py_test[:batch_size],\n",
    "    s=20,marker='*',label='predictions',c='#11ff11')\n",
    "pl.tight_layout(); pl.legend();"
   ]
  },
  {
   "cell_type": "code",
   "execution_count": 17,
   "metadata": {
    "execution": {
     "iopub.execute_input": "2021-01-07T02:55:30.798272Z",
     "iopub.status.busy": "2021-01-07T02:55:30.793477Z",
     "iopub.status.idle": "2021-01-07T02:55:31.373333Z",
     "shell.execute_reply": "2021-01-07T02:55:31.372696Z"
    },
    "papermill": {
     "duration": 0.60814,
     "end_time": "2021-01-07T02:55:31.373468",
     "exception": false,
     "start_time": "2021-01-07T02:55:30.765328",
     "status": "completed"
    },
    "tags": []
   },
   "outputs": [
    {
     "data": {
      "image/png": "[encoded data removed]",
      "text/plain": [
       "<Figure size 720x576 with 15 Axes>"
      ]
     },
     "metadata": {},
     "output_type": "display_data"
    }
   ],
   "source": [
    "%display_predict 15"
   ]
  }
 ],
 "metadata": {
  "kernelspec": {
   "display_name": "Python 3",
   "language": "python",
   "name": "python3"
  },
  "language_info": {
   "codemirror_mode": {
    "name": "ipython",
    "version": 3
   },
   "file_extension": ".py",
   "mimetype": "text/x-python",
   "name": "python",
   "nbconvert_exporter": "python",
   "pygments_lexer": "ipython3",
   "version": "3.7.6"
  },
  "papermill": {
   "duration": 114.96177,
   "end_time": "2021-01-07T02:55:32.435193",
   "environment_variables": {},
   "exception": null,
   "input_path": "__notebook__.ipynb",
   "output_path": "__notebook__.ipynb",
   "parameters": {},
   "start_time": "2021-01-07T02:53:37.473423",
   "version": "2.1.0"
  }
 },
 "nbformat": 4,
 "nbformat_minor": 4
}
