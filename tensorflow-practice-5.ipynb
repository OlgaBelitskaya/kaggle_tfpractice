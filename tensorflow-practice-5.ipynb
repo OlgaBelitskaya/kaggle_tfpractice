{
 "cells": [
  {
   "cell_type": "markdown",
   "metadata": {
    "papermill": {
     "duration": 0.013839,
     "end_time": "2021-01-07T02:45:21.990732",
     "exception": false,
     "start_time": "2021-01-07T02:45:21.976893",
     "status": "completed"
    },
    "tags": []
   },
   "source": [
    "Reading classics [Python Machine Learning 3rd Edition](https://github.com/rasbt/python-machine-learning-book-3rd-edition/blob/master/ch14/ch14_part3.ipynb)"
   ]
  },
  {
   "cell_type": "code",
   "execution_count": 1,
   "metadata": {
    "execution": {
     "iopub.execute_input": "2021-01-07T02:45:22.026137Z",
     "iopub.status.busy": "2021-01-07T02:45:22.024976Z",
     "iopub.status.idle": "2021-01-07T02:45:22.030373Z",
     "shell.execute_reply": "2021-01-07T02:45:22.030922Z"
    },
    "papermill": {
     "duration": 0.026689,
     "end_time": "2021-01-07T02:45:22.031095",
     "exception": false,
     "start_time": "2021-01-07T02:45:22.004406",
     "status": "completed"
    },
    "tags": []
   },
   "outputs": [
    {
     "name": "stdout",
     "output_type": "stream",
     "text": [
      "Writing color_header.py\n"
     ]
    }
   ],
   "source": [
    "%%writefile color_header.py\n",
    "from IPython.display import display,HTML\n",
    "from IPython.core.magic import register_line_magic\n",
    "import random\n",
    "\n",
    "@register_line_magic\n",
    "def left_header(params):\n",
    "    params=params.split('|'); string=params[0]\n",
    "    if len(params)==1: font_size=24; font_family='Ewert'\n",
    "    elif  len(params)==2: font_size=int(params[1]); font_family='Ewert' \n",
    "    else: font_size=int(params[1]); font_family=params[2]\n",
    "    width=650; height=font_size*2.5\n",
    "    randi=str(random.uniform(0,9999999))\n",
    "    html_str=\"\"\"\n",
    "    <head><script src='https://d3js.org/d3.v6.min.js'></script>\n",
    "    </head><style>@import 'https://fonts.googleapis.com/css?family=\"\"\"+\\\n",
    "    font_family+\"\"\"&effect=3d'; #colorized1 {font-family:\"\"\"+font_family+\\\n",
    "    \"\"\"; color:white; padding-left:10px; font-size:\"\"\"+str(font_size)+\\\n",
    "    \"\"\"px;}</style><h1 id='colorized1' class='font-effect-3d'>\"\"\"+string+\\\n",
    "    \"\"\"</h1><script>\n",
    "    var tc=setInterval(function(){\n",
    "        var now=new Date().getTime();\n",
    "        var iddoc1=document.getElementById('colorized1');\n",
    "        iddoc1.style.color=d3.interpolateSinebow(now/20000); },1)\n",
    "    </script>\"\"\"\n",
    "    file='d3header'+randi+'.html'\n",
    "    with open(file,'w') as f:\n",
    "         f.write(html_str); f.close()\n",
    "    string=\"\"\"<div id='html_string\"\"\"+randi+\\\n",
    "    \"\"\"'><iframe src='\"\"\"+file+\\\n",
    "    \"\"\"' height=\"\"\"+str(height)+\"\"\" width=\"\"\"+str(width)+\\\n",
    "    \"\"\" style='display:block;'></iframe></div>\"\"\"\n",
    "    display(HTML(string))"
   ]
  },
  {
   "cell_type": "code",
   "execution_count": 2,
   "metadata": {
    "_kg_hide-input": true,
    "execution": {
     "iopub.execute_input": "2021-01-07T02:45:22.069676Z",
     "iopub.status.busy": "2021-01-07T02:45:22.068653Z",
     "iopub.status.idle": "2021-01-07T02:45:22.076698Z",
     "shell.execute_reply": "2021-01-07T02:45:22.076040Z"
    },
    "papermill": {
     "duration": 0.030508,
     "end_time": "2021-01-07T02:45:22.076818",
     "exception": false,
     "start_time": "2021-01-07T02:45:22.046310",
     "status": "completed"
    },
    "tags": []
   },
   "outputs": [
    {
     "data": {
      "text/html": [
       "<div id='html_string3338826.671840298'><iframe src='d3header3338826.671840298.html' height=55.0 width=650 style='display:block;'></iframe></div>"
      ],
      "text/plain": [
       "<IPython.core.display.HTML object>"
      ]
     },
     "metadata": {},
     "output_type": "display_data"
    }
   ],
   "source": [
    "%run color_header.py\n",
    "%left_header Code Modules & Functions|22|Orbitron"
   ]
  },
  {
   "cell_type": "code",
   "execution_count": 3,
   "metadata": {
    "execution": {
     "iopub.execute_input": "2021-01-07T02:45:22.114356Z",
     "iopub.status.busy": "2021-01-07T02:45:22.113656Z",
     "iopub.status.idle": "2021-01-07T02:45:29.857037Z",
     "shell.execute_reply": "2021-01-07T02:45:29.856379Z"
    },
    "papermill": {
     "duration": 7.764815,
     "end_time": "2021-01-07T02:45:29.857176",
     "exception": false,
     "start_time": "2021-01-07T02:45:22.092361",
     "status": "completed"
    },
    "tags": []
   },
   "outputs": [],
   "source": [
    "import warnings; warnings.filterwarnings('ignore')\n",
    "import tensorflow as tf,pylab as pl\n",
    "import pandas as pd,numpy as np,seaborn as sb\n",
    "import tensorflow.keras.utils as tku\n",
    "from tensorflow.data import Dataset as tfd\n",
    "import sklearn.model_selection as sms\n",
    "import tensorflow_datasets as tfds\n",
    "import tensorflow.image as tfim\n",
    "from IPython.display import display,HTML\n",
    "from IPython.core.magic import register_line_magic\n",
    "tfds.disable_progress_bar()"
   ]
  },
  {
   "cell_type": "code",
   "execution_count": 4,
   "metadata": {
    "_kg_hide-input": true,
    "execution": {
     "iopub.execute_input": "2021-01-07T02:45:29.912112Z",
     "iopub.status.busy": "2021-01-07T02:45:29.910030Z",
     "iopub.status.idle": "2021-01-07T02:45:29.912941Z",
     "shell.execute_reply": "2021-01-07T02:45:29.913490Z"
    },
    "papermill": {
     "duration": 0.040094,
     "end_time": "2021-01-07T02:45:29.913637",
     "exception": false,
     "start_time": "2021-01-07T02:45:29.873543",
     "status": "completed"
    },
    "tags": []
   },
   "outputs": [],
   "source": [
    "def phtml(str):\n",
    "    display(HTML(\"\"\"<style>\n",
    "    @import 'https://fonts.googleapis.com/css?family=Aladin&effect=3d-float';      \n",
    "    </style><h1 class='font-effect-3d-float' \n",
    "    style='font-family:Smokum; color:#11ff11; font-size:18px;'>\n",
    "    %s</h1>\"\"\"%str))\n",
    "def preprocess(item):\n",
    "    image,label=item['image'],item['label']\n",
    "    image=tfim.convert_image_dtype(image,tf.float32)\n",
    "    image=tf.reshape(image,(-1,))\n",
    "    return {'image-pixels':image},label[...,tf.newaxis]\n",
    "def train_input_fn(buffer_size,batch_size):\n",
    "    mnist_train=tfds.load(\n",
    "        name='mnist',split='train[0%:90%]',shuffle_files=True)\n",
    "    ds=mnist_train.map(preprocess)\n",
    "    ds=ds.shuffle(buffer_size)\n",
    "    ds=ds.batch(batch_size)\n",
    "    return ds.repeat()\n",
    "def valid_input_fn(batch_size):\n",
    "    mnist_valid=tfds.load(\n",
    "        name='mnist',split='train[90%:100%]',shuffle_files=True)\n",
    "    ds=mnist_valid.map(preprocess)\n",
    "    ds=ds.batch(batch_size)\n",
    "    return ds\n",
    "def test_input_fn(batch_size):\n",
    "    datasets=tfds.load(name='mnist')\n",
    "    mnist_test=datasets['test']\n",
    "    ds=mnist_test.map(preprocess)\n",
    "    ds=ds.batch(batch_size)\n",
    "    return ds\n",
    "@register_line_magic\n",
    "def display_predict(n):\n",
    "    n=int(n)\n",
    "    fig=pl.figure(figsize=(10,8))\n",
    "    randch=np.random.choice(batch_size,size=n,replace=False)\n",
    "    for i,idx in enumerate(randch):\n",
    "        ax=fig.add_subplot(3,n//3,i+1,xticks=[],yticks=[])\n",
    "        ax.imshow(bx_test[idx].reshape(img_size,img_size),\n",
    "                  cmap='rainbow')\n",
    "        pred_idx=py_test[idx]; true_idx=by_test[idx]\n",
    "        color=('#11ff11' if pred_idx==true_idx else '#ffee11')\n",
    "        ax.set_title('{} \\n({})'.format(pred_idx,true_idx),\n",
    "                     color=color)\n",
    "    pl.show()"
   ]
  },
  {
   "cell_type": "code",
   "execution_count": 5,
   "metadata": {
    "_kg_hide-input": true,
    "execution": {
     "iopub.execute_input": "2021-01-07T02:45:29.950490Z",
     "iopub.status.busy": "2021-01-07T02:45:29.949474Z",
     "iopub.status.idle": "2021-01-07T02:45:29.954820Z",
     "shell.execute_reply": "2021-01-07T02:45:29.954251Z"
    },
    "papermill": {
     "duration": 0.025696,
     "end_time": "2021-01-07T02:45:29.954928",
     "exception": false,
     "start_time": "2021-01-07T02:45:29.929232",
     "status": "completed"
    },
    "tags": []
   },
   "outputs": [
    {
     "data": {
      "text/html": [
       "<div id='html_string8956075.098351171'><iframe src='d3header8956075.098351171.html' height=55.0 width=650 style='display:block;'></iframe></div>"
      ],
      "text/plain": [
       "<IPython.core.display.HTML object>"
      ]
     },
     "metadata": {},
     "output_type": "display_data"
    }
   ],
   "source": [
    "%left_header Data Processing|22|Orbitron"
   ]
  },
  {
   "cell_type": "code",
   "execution_count": 6,
   "metadata": {
    "execution": {
     "iopub.execute_input": "2021-01-07T02:45:29.994450Z",
     "iopub.status.busy": "2021-01-07T02:45:29.993512Z",
     "iopub.status.idle": "2021-01-07T02:45:29.996751Z",
     "shell.execute_reply": "2021-01-07T02:45:29.996199Z"
    },
    "papermill": {
     "duration": 0.025553,
     "end_time": "2021-01-07T02:45:29.996863",
     "exception": false,
     "start_time": "2021-01-07T02:45:29.971310",
     "status": "completed"
    },
    "tags": []
   },
   "outputs": [],
   "source": [
    "buffer_size=1000; batch_size=64\n",
    "img_size=28; num_epochs=20\n",
    "steps_per_epoch=np.ceil(.9*60000/batch_size)\n",
    "feature_column=tf.feature_column.numeric_column(\n",
    "    key='image-pixels',shape=(img_size*img_size))"
   ]
  },
  {
   "cell_type": "code",
   "execution_count": 7,
   "metadata": {
    "_kg_hide-output": true,
    "execution": {
     "iopub.execute_input": "2021-01-07T02:45:30.037375Z",
     "iopub.status.busy": "2021-01-07T02:45:30.036490Z",
     "iopub.status.idle": "2021-01-07T02:45:34.635267Z",
     "shell.execute_reply": "2021-01-07T02:45:34.634627Z"
    },
    "papermill": {
     "duration": 4.622002,
     "end_time": "2021-01-07T02:45:34.635403",
     "exception": false,
     "start_time": "2021-01-07T02:45:30.013401",
     "status": "completed"
    },
    "tags": []
   },
   "outputs": [
    {
     "name": "stdout",
     "output_type": "stream",
     "text": [
      "\u001b[1mDownloading and preparing dataset mnist/3.0.1 (download: 11.06 MiB, generated: 21.00 MiB, total: 32.06 MiB) to /root/tensorflow_datasets/mnist/3.0.1...\u001b[0m\n",
      "\u001b[1mDataset mnist downloaded and prepared to /root/tensorflow_datasets/mnist/3.0.1. Subsequent calls will reuse this data.\u001b[0m\n"
     ]
    }
   ],
   "source": [
    "ds_test=test_input_fn(batch_size)\n",
    "bx_test,by_test=[],[]\n",
    "batch=next(iter(ds_test))\n",
    "for j in range(batch_size):\n",
    "    by_test.append(batch[1].numpy()[j][0])\n",
    "    bx_test.append(batch[0]['image-pixels'].numpy()[j])"
   ]
  },
  {
   "cell_type": "code",
   "execution_count": 8,
   "metadata": {
    "execution": {
     "iopub.execute_input": "2021-01-07T02:45:34.679386Z",
     "iopub.status.busy": "2021-01-07T02:45:34.678712Z",
     "iopub.status.idle": "2021-01-07T02:45:34.961958Z",
     "shell.execute_reply": "2021-01-07T02:45:34.961298Z"
    },
    "papermill": {
     "duration": 0.308217,
     "end_time": "2021-01-07T02:45:34.962096",
     "exception": false,
     "start_time": "2021-01-07T02:45:34.653879",
     "status": "completed"
    },
    "tags": []
   },
   "outputs": [
    {
     "data": {
      "text/html": [
       "<style>\n",
       "    @import 'https://fonts.googleapis.com/css?family=Aladin&effect=3d-float';      \n",
       "    </style><h1 class='font-effect-3d-float' \n",
       "    style='font-family:Smokum; color:#11ff11; font-size:18px;'>\n",
       "    keys: dict_keys(['image-pixels'])</h1>"
      ],
      "text/plain": [
       "<IPython.core.display.HTML object>"
      ]
     },
     "metadata": {},
     "output_type": "display_data"
    },
    {
     "data": {
      "image/png": "[encoded data removed]",
      "text/plain": [
       "<Figure size 432x288 with 1 Axes>"
      ]
     },
     "metadata": {
      "needs_background": "light"
     },
     "output_type": "display_data"
    }
   ],
   "source": [
    "phtml('keys: %s'%batch[0].keys())\n",
    "n=np.random.randint(0,batch_size,1)[0]\n",
    "img=bx_test[n].reshape(img_size,img_size)\n",
    "pl.imshow(img,cmap='rainbow'); pl.tight_layout();\n",
    "pl.title(by_test[n],fontdict={'fontsize':'xx-large'});"
   ]
  },
  {
   "cell_type": "code",
   "execution_count": 9,
   "metadata": {
    "_kg_hide-input": true,
    "execution": {
     "iopub.execute_input": "2021-01-07T02:45:35.015365Z",
     "iopub.status.busy": "2021-01-07T02:45:35.013401Z",
     "iopub.status.idle": "2021-01-07T02:45:35.018945Z",
     "shell.execute_reply": "2021-01-07T02:45:35.019548Z"
    },
    "papermill": {
     "duration": 0.035813,
     "end_time": "2021-01-07T02:45:35.019717",
     "exception": false,
     "start_time": "2021-01-07T02:45:34.983904",
     "status": "completed"
    },
    "tags": []
   },
   "outputs": [
    {
     "data": {
      "text/html": [
       "<div id='html_string7940474.668999463'><iframe src='d3header7940474.668999463.html' height=55.0 width=650 style='display:block;'></iframe></div>"
      ],
      "text/plain": [
       "<IPython.core.display.HTML object>"
      ]
     },
     "metadata": {},
     "output_type": "display_data"
    }
   ],
   "source": [
    "%left_header DNN Classifiers|22|Orbitron"
   ]
  },
  {
   "cell_type": "code",
   "execution_count": 10,
   "metadata": {
    "execution": {
     "iopub.execute_input": "2021-01-07T02:45:35.068605Z",
     "iopub.status.busy": "2021-01-07T02:45:35.067934Z",
     "iopub.status.idle": "2021-01-07T02:45:35.577866Z",
     "shell.execute_reply": "2021-01-07T02:45:35.577284Z"
    },
    "papermill": {
     "duration": 0.536082,
     "end_time": "2021-01-07T02:45:35.578011",
     "exception": false,
     "start_time": "2021-01-07T02:45:35.041929",
     "status": "completed"
    },
    "tags": []
   },
   "outputs": [],
   "source": [
    "dnn_clf=tf.estimator.DNNClassifier(\n",
    "    feature_columns=[feature_column],hidden_units=[96,32],\n",
    "    n_classes=10,model_dir='models/mnist-dnn/');"
   ]
  },
  {
   "cell_type": "code",
   "execution_count": 11,
   "metadata": {
    "_kg_hide-output": false,
    "execution": {
     "iopub.execute_input": "2021-01-07T02:45:35.623740Z",
     "iopub.status.busy": "2021-01-07T02:45:35.621895Z",
     "iopub.status.idle": "2021-01-07T02:45:35.624436Z",
     "shell.execute_reply": "2021-01-07T02:45:35.624953Z"
    },
    "papermill": {
     "duration": 0.026277,
     "end_time": "2021-01-07T02:45:35.625070",
     "exception": false,
     "start_time": "2021-01-07T02:45:35.598793",
     "status": "completed"
    },
    "tags": []
   },
   "outputs": [],
   "source": [
    "#train without validation\n",
    "#dnn_clf.train(\n",
    "#    input_fn=lambda:train_input_fn(buffer_size,batch_size),\n",
    "#    steps=num_epochs*steps_per_epoch);"
   ]
  },
  {
   "cell_type": "code",
   "execution_count": 12,
   "metadata": {
    "execution": {
     "iopub.execute_input": "2021-01-07T02:45:35.668915Z",
     "iopub.status.busy": "2021-01-07T02:45:35.667981Z",
     "iopub.status.idle": "2021-01-07T02:47:13.668515Z",
     "shell.execute_reply": "2021-01-07T02:47:13.669141Z"
    },
    "papermill": {
     "duration": 98.025735,
     "end_time": "2021-01-07T02:47:13.669310",
     "exception": false,
     "start_time": "2021-01-07T02:45:35.643575",
     "status": "completed"
    },
    "tags": []
   },
   "outputs": [
    {
     "data": {
      "text/plain": [
       "({'accuracy': 0.9188333,\n",
       "  'average_loss': 0.29841745,\n",
       "  'loss': 0.29799673,\n",
       "  'global_step': 16880},\n",
       " [])"
      ]
     },
     "execution_count": 12,
     "metadata": {},
     "output_type": "execute_result"
    }
   ],
   "source": [
    "#train with validation\n",
    "tf.estimator.train_and_evaluate(\n",
    "    dnn_clf,\n",
    "    tf.estimator.TrainSpec(\n",
    "        input_fn=lambda:train_input_fn(buffer_size,batch_size), \n",
    "        max_steps=num_epochs*steps_per_epoch),\n",
    "    tf.estimator.EvalSpec(\n",
    "        input_fn=lambda:valid_input_fn(batch_size)))"
   ]
  },
  {
   "cell_type": "code",
   "execution_count": 13,
   "metadata": {
    "execution": {
     "iopub.execute_input": "2021-01-07T02:47:13.714926Z",
     "iopub.status.busy": "2021-01-07T02:47:13.714042Z",
     "iopub.status.idle": "2021-01-07T02:47:16.945266Z",
     "shell.execute_reply": "2021-01-07T02:47:16.944353Z"
    },
    "papermill": {
     "duration": 3.255999,
     "end_time": "2021-01-07T02:47:16.945391",
     "exception": false,
     "start_time": "2021-01-07T02:47:13.689392",
     "status": "completed"
    },
    "tags": []
   },
   "outputs": [
    {
     "data": {
      "text/html": [
       "<style>\n",
       "    @import 'https://fonts.googleapis.com/css?family=Aladin&effect=3d-float';      \n",
       "    </style><h1 class='font-effect-3d-float' \n",
       "    style='font-family:Smokum; color:#11ff11; font-size:18px;'>\n",
       "    {'accuracy': 0.9244, 'average_loss': 0.28232497, 'loss': 0.28210232, 'global_step': 16880}</h1>"
      ],
      "text/plain": [
       "<IPython.core.display.HTML object>"
      ]
     },
     "metadata": {},
     "output_type": "display_data"
    }
   ],
   "source": [
    "test_result=dnn_clf.evaluate(\n",
    "    input_fn=lambda:test_input_fn(batch_size))\n",
    "phtml(test_result)"
   ]
  },
  {
   "cell_type": "code",
   "execution_count": 14,
   "metadata": {
    "_kg_hide-input": true,
    "execution": {
     "iopub.execute_input": "2021-01-07T02:47:16.997344Z",
     "iopub.status.busy": "2021-01-07T02:47:16.995467Z",
     "iopub.status.idle": "2021-01-07T02:47:17.000763Z",
     "shell.execute_reply": "2021-01-07T02:47:17.001319Z"
    },
    "papermill": {
     "duration": 0.033826,
     "end_time": "2021-01-07T02:47:17.001453",
     "exception": false,
     "start_time": "2021-01-07T02:47:16.967627",
     "status": "completed"
    },
    "tags": []
   },
   "outputs": [
    {
     "data": {
      "text/html": [
       "<div id='html_string4542547.088421934'><iframe src='d3header4542547.088421934.html' height=55.0 width=650 style='display:block;'></iframe></div>"
      ],
      "text/plain": [
       "<IPython.core.display.HTML object>"
      ]
     },
     "metadata": {},
     "output_type": "display_data"
    }
   ],
   "source": [
    "%left_header Predictions|22|Orbitron"
   ]
  },
  {
   "cell_type": "code",
   "execution_count": 15,
   "metadata": {
    "execution": {
     "iopub.execute_input": "2021-01-07T02:47:17.053316Z",
     "iopub.status.busy": "2021-01-07T02:47:17.052518Z",
     "iopub.status.idle": "2021-01-07T02:47:19.500197Z",
     "shell.execute_reply": "2021-01-07T02:47:19.502050Z"
    },
    "papermill": {
     "duration": 2.47811,
     "end_time": "2021-01-07T02:47:19.502273",
     "exception": false,
     "start_time": "2021-01-07T02:47:17.024163",
     "status": "completed"
    },
    "tags": []
   },
   "outputs": [],
   "source": [
    "y_test_pred=dnn_clf.predict(\n",
    "    input_fn=lambda:test_input_fn(batch_size))\n",
    "py_test=[]\n",
    "for i in range(10000):\n",
    "    py_test.append(next(iter(y_test_pred))['class_ids'][0])"
   ]
  },
  {
   "cell_type": "code",
   "execution_count": 16,
   "metadata": {
    "_kg_hide-input": true,
    "execution": {
     "iopub.execute_input": "2021-01-07T02:47:19.584093Z",
     "iopub.status.busy": "2021-01-07T02:47:19.582793Z",
     "iopub.status.idle": "2021-01-07T02:47:19.897179Z",
     "shell.execute_reply": "2021-01-07T02:47:19.898509Z"
    },
    "papermill": {
     "duration": 0.369983,
     "end_time": "2021-01-07T02:47:19.898743",
     "exception": false,
     "start_time": "2021-01-07T02:47:19.528760",
     "status": "completed"
    },
    "tags": []
   },
   "outputs": [
    {
     "data": {
      "image/png": "[encoded data removed]",
      "text/plain": [
       "<Figure size 720x288 with 1 Axes>"
      ]
     },
     "metadata": {
      "needs_background": "light"
     },
     "output_type": "display_data"
    }
   ],
   "source": [
    "pl.figure(figsize=(10,4))\n",
    "pl.scatter(\n",
    "    range(batch_size),by_test,\n",
    "    s=50,label='real data',c='#ffee11')\n",
    "pl.scatter(\n",
    "    range(batch_size),py_test[:batch_size],\n",
    "    s=20,marker='*',label='predictions',c='#11ff11')\n",
    "pl.tight_layout(); pl.legend();"
   ]
  },
  {
   "cell_type": "code",
   "execution_count": 17,
   "metadata": {
    "execution": {
     "iopub.execute_input": "2021-01-07T02:47:19.990917Z",
     "iopub.status.busy": "2021-01-07T02:47:19.989854Z",
     "iopub.status.idle": "2021-01-07T02:47:20.707656Z",
     "shell.execute_reply": "2021-01-07T02:47:20.706987Z"
    },
    "papermill": {
     "duration": 0.769729,
     "end_time": "2021-01-07T02:47:20.707830",
     "exception": false,
     "start_time": "2021-01-07T02:47:19.938101",
     "status": "completed"
    },
    "tags": []
   },
   "outputs": [
    {
     "data": {
      "image/png": "[encoded data removed]",
      "text/plain": [
       "<Figure size 720x576 with 15 Axes>"
      ]
     },
     "metadata": {},
     "output_type": "display_data"
    }
   ],
   "source": [
    "%display_predict 15"
   ]
  }
 ],
 "metadata": {
  "kernelspec": {
   "display_name": "Python 3",
   "language": "python",
   "name": "python3"
  },
  "language_info": {
   "codemirror_mode": {
    "name": "ipython",
    "version": 3
   },
   "file_extension": ".py",
   "mimetype": "text/x-python",
   "name": "python",
   "nbconvert_exporter": "python",
   "pygments_lexer": "ipython3",
   "version": "3.7.6"
  },
  "papermill": {
   "duration": 124.916518,
   "end_time": "2021-01-07T02:47:22.254468",
   "environment_variables": {},
   "exception": null,
   "input_path": "__notebook__.ipynb",
   "output_path": "__notebook__.ipynb",
   "parameters": {},
   "start_time": "2021-01-07T02:45:17.337950",
   "version": "2.1.0"
  }
 },
 "nbformat": 4,
 "nbformat_minor": 4
}
