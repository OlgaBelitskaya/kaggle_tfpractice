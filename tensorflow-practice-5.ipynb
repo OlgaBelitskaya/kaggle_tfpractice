{
 "cells": [
  {
   "cell_type": "markdown",
   "metadata": {
    "papermill": {
     "duration": 0.010944,
     "end_time": "2021-01-07T04:20:22.597318",
     "exception": false,
     "start_time": "2021-01-07T04:20:22.586374",
     "status": "completed"
    },
    "tags": []
   },
   "source": [
    "Reading classics [Python Machine Learning 3rd Edition](https://github.com/rasbt/python-machine-learning-book-3rd-edition/blob/master/ch14/ch14_part3.ipynb)"
   ]
  },
  {
   "cell_type": "code",
   "execution_count": 1,
   "metadata": {
    "_kg_hide-input": true,
    "execution": {
     "iopub.execute_input": "2021-01-07T04:20:22.624205Z",
     "iopub.status.busy": "2021-01-07T04:20:22.623235Z",
     "iopub.status.idle": "2021-01-07T04:20:22.626561Z",
     "shell.execute_reply": "2021-01-07T04:20:22.627007Z"
    },
    "papermill": {
     "duration": 0.019617,
     "end_time": "2021-01-07T04:20:22.627130",
     "exception": false,
     "start_time": "2021-01-07T04:20:22.607513",
     "status": "completed"
    },
    "tags": []
   },
   "outputs": [
    {
     "name": "stdout",
     "output_type": "stream",
     "text": [
      "Writing color_left_header.py\n"
     ]
    }
   ],
   "source": [
    "%%writefile color_left_header.py\n",
    "from IPython.display import display,HTML\n",
    "from IPython.core.magic import register_line_magic\n",
    "import random\n",
    "\n",
    "@register_line_magic\n",
    "def left_header(params):\n",
    "    params=params.split('|'); string=params[0]\n",
    "    if len(params)==1: font_size=24; font_family='Ewert'\n",
    "    elif  len(params)==2: font_size=int(params[1]); font_family='Ewert' \n",
    "    else: font_size=int(params[1]); font_family=params[2]\n",
    "    width=650; height=font_size*2.5\n",
    "    randi=str(random.uniform(0,9999999))\n",
    "    html_str=\"\"\"\n",
    "    <head><script src='https://d3js.org/d3.v6.min.js'></script>\n",
    "    </head><style>@import 'https://fonts.googleapis.com/css?family=\"\"\"+\\\n",
    "    font_family+\"\"\"&effect=3d'; #colorized1 {font-family:\"\"\"+font_family+\\\n",
    "    \"\"\"; color:white; padding-left:10px; font-size:\"\"\"+str(font_size)+\\\n",
    "    \"\"\"px;}</style><h1 id='colorized1' class='font-effect-3d'>\"\"\"+string+\\\n",
    "    \"\"\"</h1><script>\n",
    "    var tc=setInterval(function(){\n",
    "        var now=new Date().getTime();\n",
    "        var iddoc1=document.getElementById('colorized1');\n",
    "        iddoc1.style.color=d3.interpolateRainbow(now/20000); },1)\n",
    "    </script>\"\"\"\n",
    "    file='d3header'+randi+'.html'\n",
    "    with open(file,'w') as f:\n",
    "         f.write(html_str); f.close()\n",
    "    string=\"\"\"<div id='html_string\"\"\"+randi+\\\n",
    "    \"\"\"'><iframe src='\"\"\"+file+\\\n",
    "    \"\"\"' height=\"\"\"+str(height)+\"\"\" width=\"\"\"+str(width)+\\\n",
    "    \"\"\" style='display:block;'></iframe></div>\"\"\"\n",
    "    display(HTML(string))"
   ]
  },
  {
   "cell_type": "code",
   "execution_count": 2,
   "metadata": {
    "_kg_hide-input": true,
    "execution": {
     "iopub.execute_input": "2021-01-07T04:20:22.655419Z",
     "iopub.status.busy": "2021-01-07T04:20:22.654576Z",
     "iopub.status.idle": "2021-01-07T04:20:22.661109Z",
     "shell.execute_reply": "2021-01-07T04:20:22.661531Z"
    },
    "papermill": {
     "duration": 0.023332,
     "end_time": "2021-01-07T04:20:22.661645",
     "exception": false,
     "start_time": "2021-01-07T04:20:22.638313",
     "status": "completed"
    },
    "tags": []
   },
   "outputs": [
    {
     "data": {
      "text/html": [
       "<div id='html_string7032776.758036743'><iframe src='d3header7032776.758036743.html' height=55.0 width=650 style='display:block;'></iframe></div>"
      ],
      "text/plain": [
       "<IPython.core.display.HTML object>"
      ]
     },
     "metadata": {},
     "output_type": "display_data"
    }
   ],
   "source": [
    "%run color_left_header.py\n",
    "%left_header Code Modules & Functions|22|Orbitron"
   ]
  },
  {
   "cell_type": "code",
   "execution_count": 3,
   "metadata": {
    "execution": {
     "iopub.execute_input": "2021-01-07T04:20:22.689393Z",
     "iopub.status.busy": "2021-01-07T04:20:22.688667Z",
     "iopub.status.idle": "2021-01-07T04:20:29.220286Z",
     "shell.execute_reply": "2021-01-07T04:20:29.221224Z"
    },
    "papermill": {
     "duration": 6.549039,
     "end_time": "2021-01-07T04:20:29.221409",
     "exception": false,
     "start_time": "2021-01-07T04:20:22.672370",
     "status": "completed"
    },
    "tags": []
   },
   "outputs": [],
   "source": [
    "import warnings; warnings.filterwarnings('ignore')\n",
    "import tensorflow as tf,pylab as pl\n",
    "import pandas as pd,numpy as np,seaborn as sb\n",
    "import tensorflow.keras.utils as tku\n",
    "from tensorflow.data import Dataset as tfd\n",
    "import sklearn.model_selection as sms\n",
    "import tensorflow_datasets as tfds\n",
    "import tensorflow.image as tfim\n",
    "from IPython.display import display,HTML\n",
    "from IPython.core.magic import register_line_magic\n",
    "tfds.disable_progress_bar()"
   ]
  },
  {
   "cell_type": "code",
   "execution_count": 4,
   "metadata": {
    "_kg_hide-input": true,
    "execution": {
     "iopub.execute_input": "2021-01-07T04:20:29.270008Z",
     "iopub.status.busy": "2021-01-07T04:20:29.269049Z",
     "iopub.status.idle": "2021-01-07T04:20:29.284301Z",
     "shell.execute_reply": "2021-01-07T04:20:29.285221Z"
    },
    "papermill": {
     "duration": 0.045154,
     "end_time": "2021-01-07T04:20:29.285387",
     "exception": false,
     "start_time": "2021-01-07T04:20:29.240233",
     "status": "completed"
    },
    "tags": []
   },
   "outputs": [],
   "source": [
    "def phtml(str):\n",
    "    display(HTML(\"\"\"<style>\n",
    "    @import 'https://fonts.googleapis.com/css?family=Aladin&effect=3d-float';      \n",
    "    </style><h1 class='font-effect-3d-float' \n",
    "    style='font-family:Smokum; color:#11ff11; font-size:18px;'>\n",
    "    %s</h1>\"\"\"%str))\n",
    "def preprocess(item):\n",
    "    image,label=item['image'],item['label']\n",
    "    image=tfim.convert_image_dtype(image,tf.float32)\n",
    "    image=tf.reshape(image,(-1,))\n",
    "    return {'image-pixels':image},label[...,tf.newaxis]\n",
    "def train_input_fn(buffer_size,batch_size):\n",
    "    mnist_train=tfds.load(\n",
    "        name='mnist',split='train[0%:90%]',shuffle_files=True)\n",
    "    ds=mnist_train.map(preprocess)\n",
    "    ds=ds.shuffle(buffer_size)\n",
    "    ds=ds.batch(batch_size)\n",
    "    return ds.repeat()\n",
    "def valid_input_fn(batch_size):\n",
    "    mnist_valid=tfds.load(\n",
    "        name='mnist',split='train[90%:100%]',shuffle_files=True)\n",
    "    ds=mnist_valid.map(preprocess)\n",
    "    ds=ds.batch(batch_size)\n",
    "    return ds\n",
    "def test_input_fn(batch_size):\n",
    "    datasets=tfds.load(name='mnist')\n",
    "    mnist_test=datasets['test']\n",
    "    ds=mnist_test.map(preprocess)\n",
    "    ds=ds.batch(batch_size)\n",
    "    return ds\n",
    "@register_line_magic\n",
    "def display_predict(n):\n",
    "    n=int(n)\n",
    "    fig=pl.figure(figsize=(10,8))\n",
    "    randch=np.random.choice(batch_size,size=n,replace=False)\n",
    "    for i,idx in enumerate(randch):\n",
    "        ax=fig.add_subplot(3,n//3,i+1,xticks=[],yticks=[])\n",
    "        ax.imshow(bx_test[idx].reshape(img_size,img_size),\n",
    "                  cmap='rainbow')\n",
    "        pred_idx=py_test[idx]; true_idx=by_test[idx]\n",
    "        color=('#11ff11' if pred_idx==true_idx else '#ffee11')\n",
    "        ax.set_title('{} \\n({})'.format(pred_idx,true_idx),\n",
    "                     color=color)\n",
    "    pl.show()"
   ]
  },
  {
   "cell_type": "code",
   "execution_count": 5,
   "metadata": {
    "_kg_hide-input": true,
    "execution": {
     "iopub.execute_input": "2021-01-07T04:20:29.332010Z",
     "iopub.status.busy": "2021-01-07T04:20:29.331218Z",
     "iopub.status.idle": "2021-01-07T04:20:29.336069Z",
     "shell.execute_reply": "2021-01-07T04:20:29.336706Z"
    },
    "papermill": {
     "duration": 0.031977,
     "end_time": "2021-01-07T04:20:29.336865",
     "exception": false,
     "start_time": "2021-01-07T04:20:29.304888",
     "status": "completed"
    },
    "tags": []
   },
   "outputs": [
    {
     "data": {
      "text/html": [
       "<div id='html_string6594320.15501298'><iframe src='d3header6594320.15501298.html' height=55.0 width=650 style='display:block;'></iframe></div>"
      ],
      "text/plain": [
       "<IPython.core.display.HTML object>"
      ]
     },
     "metadata": {},
     "output_type": "display_data"
    }
   ],
   "source": [
    "%left_header Data Processing|22|Orbitron"
   ]
  },
  {
   "cell_type": "code",
   "execution_count": 6,
   "metadata": {
    "execution": {
     "iopub.execute_input": "2021-01-07T04:20:29.400344Z",
     "iopub.status.busy": "2021-01-07T04:20:29.396698Z",
     "iopub.status.idle": "2021-01-07T04:20:29.403328Z",
     "shell.execute_reply": "2021-01-07T04:20:29.399796Z"
    },
    "papermill": {
     "duration": 0.046881,
     "end_time": "2021-01-07T04:20:29.403459",
     "exception": false,
     "start_time": "2021-01-07T04:20:29.356578",
     "status": "completed"
    },
    "tags": []
   },
   "outputs": [],
   "source": [
    "buffer_size=1000; batch_size=16\n",
    "img_size=28; num_epochs=20\n",
    "steps_per_epoch=np.ceil(.9*60000/batch_size)\n",
    "feature_column=tf.feature_column.numeric_column(\n",
    "    key='image-pixels',shape=(img_size*img_size))"
   ]
  },
  {
   "cell_type": "code",
   "execution_count": 7,
   "metadata": {
    "_kg_hide-output": true,
    "execution": {
     "iopub.execute_input": "2021-01-07T04:20:29.455762Z",
     "iopub.status.busy": "2021-01-07T04:20:29.454888Z",
     "iopub.status.idle": "2021-01-07T04:20:37.172414Z",
     "shell.execute_reply": "2021-01-07T04:20:37.170899Z"
    },
    "papermill": {
     "duration": 7.747468,
     "end_time": "2021-01-07T04:20:37.172528",
     "exception": false,
     "start_time": "2021-01-07T04:20:29.425060",
     "status": "completed"
    },
    "tags": []
   },
   "outputs": [
    {
     "name": "stdout",
     "output_type": "stream",
     "text": [
      "\u001b[1mDownloading and preparing dataset mnist/3.0.1 (download: 11.06 MiB, generated: 21.00 MiB, total: 32.06 MiB) to /root/tensorflow_datasets/mnist/3.0.1...\u001b[0m\n",
      "\u001b[1mDataset mnist downloaded and prepared to /root/tensorflow_datasets/mnist/3.0.1. Subsequent calls will reuse this data.\u001b[0m\n"
     ]
    }
   ],
   "source": [
    "ds_test=test_input_fn(batch_size)\n",
    "bx_test,by_test=[],[]\n",
    "batch=next(iter(ds_test))\n",
    "for j in range(batch_size):\n",
    "    by_test.append(batch[1].numpy()[j][0])\n",
    "    bx_test.append(batch[0]['image-pixels'].numpy()[j])"
   ]
  },
  {
   "cell_type": "code",
   "execution_count": 8,
   "metadata": {
    "execution": {
     "iopub.execute_input": "2021-01-07T04:20:37.204889Z",
     "iopub.status.busy": "2021-01-07T04:20:37.203717Z",
     "iopub.status.idle": "2021-01-07T04:20:37.425750Z",
     "shell.execute_reply": "2021-01-07T04:20:37.426251Z"
    },
    "papermill": {
     "duration": 0.240981,
     "end_time": "2021-01-07T04:20:37.426376",
     "exception": false,
     "start_time": "2021-01-07T04:20:37.185395",
     "status": "completed"
    },
    "tags": []
   },
   "outputs": [
    {
     "data": {
      "text/html": [
       "<style>\n",
       "    @import 'https://fonts.googleapis.com/css?family=Aladin&effect=3d-float';      \n",
       "    </style><h1 class='font-effect-3d-float' \n",
       "    style='font-family:Smokum; color:#11ff11; font-size:18px;'>\n",
       "    keys: dict_keys(['image-pixels'])</h1>"
      ],
      "text/plain": [
       "<IPython.core.display.HTML object>"
      ]
     },
     "metadata": {},
     "output_type": "display_data"
    },
    {
     "data": {
      "image/png": "[encoded data removed]",
      "text/plain": [
       "<Figure size 432x288 with 1 Axes>"
      ]
     },
     "metadata": {
      "needs_background": "light"
     },
     "output_type": "display_data"
    }
   ],
   "source": [
    "phtml('keys: %s'%batch[0].keys())\n",
    "n=np.random.randint(0,batch_size,1)[0]\n",
    "img=bx_test[n].reshape(img_size,img_size)\n",
    "pl.imshow(img,cmap='rainbow'); pl.tight_layout();\n",
    "pl.title(by_test[n],fontdict={'fontsize':'xx-large'});"
   ]
  },
  {
   "cell_type": "code",
   "execution_count": 9,
   "metadata": {
    "_kg_hide-input": true,
    "execution": {
     "iopub.execute_input": "2021-01-07T04:20:37.464000Z",
     "iopub.status.busy": "2021-01-07T04:20:37.463032Z",
     "iopub.status.idle": "2021-01-07T04:20:37.467765Z",
     "shell.execute_reply": "2021-01-07T04:20:37.467264Z"
    },
    "papermill": {
     "duration": 0.025765,
     "end_time": "2021-01-07T04:20:37.467881",
     "exception": false,
     "start_time": "2021-01-07T04:20:37.442116",
     "status": "completed"
    },
    "tags": []
   },
   "outputs": [
    {
     "data": {
      "text/html": [
       "<div id='html_string8585205.610791868'><iframe src='d3header8585205.610791868.html' height=55.0 width=650 style='display:block;'></iframe></div>"
      ],
      "text/plain": [
       "<IPython.core.display.HTML object>"
      ]
     },
     "metadata": {},
     "output_type": "display_data"
    }
   ],
   "source": [
    "%left_header DNN Classifiers|22|Orbitron"
   ]
  },
  {
   "cell_type": "code",
   "execution_count": 10,
   "metadata": {
    "execution": {
     "iopub.execute_input": "2021-01-07T04:20:37.502537Z",
     "iopub.status.busy": "2021-01-07T04:20:37.501979Z",
     "iopub.status.idle": "2021-01-07T04:20:37.932180Z",
     "shell.execute_reply": "2021-01-07T04:20:37.930717Z"
    },
    "papermill": {
     "duration": 0.448705,
     "end_time": "2021-01-07T04:20:37.932293",
     "exception": false,
     "start_time": "2021-01-07T04:20:37.483588",
     "status": "completed"
    },
    "tags": []
   },
   "outputs": [],
   "source": [
    "dnn_clf=tf.estimator.DNNClassifier(\n",
    "    feature_columns=[feature_column],hidden_units=[1024,196,32],\n",
    "    n_classes=10,model_dir='models/mnist-dnn/');"
   ]
  },
  {
   "cell_type": "code",
   "execution_count": 11,
   "metadata": {
    "_kg_hide-output": false,
    "execution": {
     "iopub.execute_input": "2021-01-07T04:20:37.966334Z",
     "iopub.status.busy": "2021-01-07T04:20:37.964659Z",
     "iopub.status.idle": "2021-01-07T04:20:37.967034Z",
     "shell.execute_reply": "2021-01-07T04:20:37.967475Z"
    },
    "papermill": {
     "duration": 0.020569,
     "end_time": "2021-01-07T04:20:37.967581",
     "exception": false,
     "start_time": "2021-01-07T04:20:37.947012",
     "status": "completed"
    },
    "tags": []
   },
   "outputs": [],
   "source": [
    "#train without validation\n",
    "#dnn_clf.train(\n",
    "#    input_fn=lambda:train_input_fn(buffer_size,batch_size),\n",
    "#    steps=num_epochs*steps_per_epoch);"
   ]
  },
  {
   "cell_type": "code",
   "execution_count": 12,
   "metadata": {
    "execution": {
     "iopub.execute_input": "2021-01-07T04:20:38.002516Z",
     "iopub.status.busy": "2021-01-07T04:20:38.001671Z",
     "iopub.status.idle": "2021-01-07T04:23:49.809598Z",
     "shell.execute_reply": "2021-01-07T04:23:49.810094Z"
    },
    "papermill": {
     "duration": 191.828204,
     "end_time": "2021-01-07T04:23:49.810243",
     "exception": false,
     "start_time": "2021-01-07T04:20:37.982039",
     "status": "completed"
    },
    "tags": []
   },
   "outputs": [
    {
     "data": {
      "text/plain": [
       "({'accuracy': 0.965625,\n",
       "  'average_loss': 0.1345617,\n",
       "  'loss': 0.1345617,\n",
       "  'global_step': 67500},\n",
       " [])"
      ]
     },
     "execution_count": 12,
     "metadata": {},
     "output_type": "execute_result"
    }
   ],
   "source": [
    "#train with validation\n",
    "tf.estimator.train_and_evaluate(\n",
    "    dnn_clf,\n",
    "    tf.estimator.TrainSpec(\n",
    "        input_fn=lambda:train_input_fn(buffer_size,batch_size), \n",
    "        max_steps=num_epochs*steps_per_epoch),\n",
    "    tf.estimator.EvalSpec(\n",
    "        input_fn=lambda:valid_input_fn(batch_size)))"
   ]
  },
  {
   "cell_type": "code",
   "execution_count": 13,
   "metadata": {
    "execution": {
     "iopub.execute_input": "2021-01-07T04:23:49.846200Z",
     "iopub.status.busy": "2021-01-07T04:23:49.845460Z",
     "iopub.status.idle": "2021-01-07T04:23:52.791491Z",
     "shell.execute_reply": "2021-01-07T04:23:52.791008Z"
    },
    "papermill": {
     "duration": 2.965551,
     "end_time": "2021-01-07T04:23:52.791595",
     "exception": false,
     "start_time": "2021-01-07T04:23:49.826044",
     "status": "completed"
    },
    "tags": []
   },
   "outputs": [
    {
     "data": {
      "text/html": [
       "<style>\n",
       "    @import 'https://fonts.googleapis.com/css?family=Aladin&effect=3d-float';      \n",
       "    </style><h1 class='font-effect-3d-float' \n",
       "    style='font-family:Smokum; color:#11ff11; font-size:18px;'>\n",
       "    {'accuracy': 0.964, 'average_loss': 0.12681973, 'loss': 0.12681973, 'global_step': 67500}</h1>"
      ],
      "text/plain": [
       "<IPython.core.display.HTML object>"
      ]
     },
     "metadata": {},
     "output_type": "display_data"
    }
   ],
   "source": [
    "test_result=dnn_clf.evaluate(\n",
    "    input_fn=lambda:test_input_fn(batch_size))\n",
    "phtml(test_result)"
   ]
  },
  {
   "cell_type": "code",
   "execution_count": 14,
   "metadata": {
    "_kg_hide-input": true,
    "execution": {
     "iopub.execute_input": "2021-01-07T04:23:52.830359Z",
     "iopub.status.busy": "2021-01-07T04:23:52.828920Z",
     "iopub.status.idle": "2021-01-07T04:23:52.833250Z",
     "shell.execute_reply": "2021-01-07T04:23:52.833691Z"
    },
    "papermill": {
     "duration": 0.025197,
     "end_time": "2021-01-07T04:23:52.833815",
     "exception": false,
     "start_time": "2021-01-07T04:23:52.808618",
     "status": "completed"
    },
    "tags": []
   },
   "outputs": [
    {
     "data": {
      "text/html": [
       "<div id='html_string507996.0251213036'><iframe src='d3header507996.0251213036.html' height=55.0 width=650 style='display:block;'></iframe></div>"
      ],
      "text/plain": [
       "<IPython.core.display.HTML object>"
      ]
     },
     "metadata": {},
     "output_type": "display_data"
    }
   ],
   "source": [
    "%left_header Predictions|22|Orbitron"
   ]
  },
  {
   "cell_type": "code",
   "execution_count": 15,
   "metadata": {
    "execution": {
     "iopub.execute_input": "2021-01-07T04:23:52.873700Z",
     "iopub.status.busy": "2021-01-07T04:23:52.873092Z",
     "iopub.status.idle": "2021-01-07T04:23:55.156912Z",
     "shell.execute_reply": "2021-01-07T04:23:55.157344Z"
    },
    "papermill": {
     "duration": 2.307178,
     "end_time": "2021-01-07T04:23:55.157483",
     "exception": false,
     "start_time": "2021-01-07T04:23:52.850305",
     "status": "completed"
    },
    "tags": []
   },
   "outputs": [],
   "source": [
    "y_test_pred=dnn_clf.predict(\n",
    "    input_fn=lambda:test_input_fn(batch_size))\n",
    "py_test=[]\n",
    "for i in range(10000):\n",
    "    py_test.append(next(iter(y_test_pred))['class_ids'][0])"
   ]
  },
  {
   "cell_type": "code",
   "execution_count": 16,
   "metadata": {
    "_kg_hide-input": true,
    "execution": {
     "iopub.execute_input": "2021-01-07T04:23:55.202496Z",
     "iopub.status.busy": "2021-01-07T04:23:55.201315Z",
     "iopub.status.idle": "2021-01-07T04:23:55.364422Z",
     "shell.execute_reply": "2021-01-07T04:23:55.364906Z"
    },
    "papermill": {
     "duration": 0.191139,
     "end_time": "2021-01-07T04:23:55.365032",
     "exception": false,
     "start_time": "2021-01-07T04:23:55.173893",
     "status": "completed"
    },
    "tags": []
   },
   "outputs": [
    {
     "data": {
      "image/png": "[encoded data removed]",
      "text/plain": [
       "<Figure size 720x288 with 1 Axes>"
      ]
     },
     "metadata": {
      "needs_background": "light"
     },
     "output_type": "display_data"
    }
   ],
   "source": [
    "pl.figure(figsize=(10,4))\n",
    "pl.scatter(\n",
    "    range(batch_size),by_test,\n",
    "    s=50,label='real data',c='#ffee11')\n",
    "pl.scatter(\n",
    "    range(batch_size),py_test[:batch_size],\n",
    "    s=20,marker='*',label='predictions',c='#11ff11')\n",
    "pl.tight_layout(); pl.legend();"
   ]
  },
  {
   "cell_type": "code",
   "execution_count": 17,
   "metadata": {
    "execution": {
     "iopub.execute_input": "2021-01-07T04:23:55.410880Z",
     "iopub.status.busy": "2021-01-07T04:23:55.406022Z",
     "iopub.status.idle": "2021-01-07T04:23:55.893895Z",
     "shell.execute_reply": "2021-01-07T04:23:55.893388Z"
    },
    "papermill": {
     "duration": 0.510918,
     "end_time": "2021-01-07T04:23:55.894011",
     "exception": false,
     "start_time": "2021-01-07T04:23:55.383093",
     "status": "completed"
    },
    "tags": []
   },
   "outputs": [
    {
     "data": {
      "image/png": "[encoded data removed]",
      "text/plain": [
       "<Figure size 720x576 with 15 Axes>"
      ]
     },
     "metadata": {},
     "output_type": "display_data"
    }
   ],
   "source": [
    "%display_predict 15"
   ]
  }
 ],
 "metadata": {
  "kernelspec": {
   "display_name": "Python 3",
   "language": "python",
   "name": "python3"
  },
  "language_info": {
   "codemirror_mode": {
    "name": "ipython",
    "version": 3
   },
   "file_extension": ".py",
   "mimetype": "text/x-python",
   "name": "python",
   "nbconvert_exporter": "python",
   "pygments_lexer": "ipython3",
   "version": "3.7.6"
  },
  "papermill": {
   "duration": 218.927122,
   "end_time": "2021-01-07T04:23:57.415959",
   "environment_variables": {},
   "exception": null,
   "input_path": "__notebook__.ipynb",
   "output_path": "__notebook__.ipynb",
   "parameters": {},
   "start_time": "2021-01-07T04:20:18.488837",
   "version": "2.1.0"
  }
 },
 "nbformat": 4,
 "nbformat_minor": 4
}
