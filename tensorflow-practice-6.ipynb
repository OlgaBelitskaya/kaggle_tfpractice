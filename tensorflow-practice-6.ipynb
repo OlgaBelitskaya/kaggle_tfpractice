{
 "cells": [
  {
   "cell_type": "markdown",
   "metadata": {
    "papermill": {
     "duration": 0.008068,
     "end_time": "2021-01-06T04:29:49.234968",
     "exception": false,
     "start_time": "2021-01-06T04:29:49.226900",
     "status": "completed"
    },
    "tags": []
   },
   "source": [
    "Reading classics [Python Machine Learning 3rd Edition](https://github.com/rasbt/python-machine-learning-book-3rd-edition/blob/master/ch14/ch14_part3.ipynb)"
   ]
  },
  {
   "cell_type": "code",
   "execution_count": 1,
   "metadata": {
    "_kg_hide-input": true,
    "execution": {
     "iopub.execute_input": "2021-01-06T04:29:49.252841Z",
     "iopub.status.busy": "2021-01-06T04:29:49.252136Z",
     "iopub.status.idle": "2021-01-06T04:29:49.259256Z",
     "shell.execute_reply": "2021-01-06T04:29:49.259796Z"
    },
    "papermill": {
     "duration": 0.017961,
     "end_time": "2021-01-06T04:29:49.260003",
     "exception": false,
     "start_time": "2021-01-06T04:29:49.242042",
     "status": "completed"
    },
    "tags": []
   },
   "outputs": [
    {
     "name": "stdout",
     "output_type": "stream",
     "text": [
      "Writing color_header.py\n"
     ]
    }
   ],
   "source": [
    "%%writefile color_header.py\n",
    "from IPython.display import display,HTML\n",
    "from IPython.core.magic import register_line_magic\n",
    "import random,warnings; warnings.filterwarnings('ignore')\n",
    "\n",
    "@register_line_magic\n",
    "def header(string):\n",
    "    font_size=24; font_family='Ewert'\n",
    "    width=650; height=font_size*2.5\n",
    "    randi=str(random.uniform(0,9999999))\n",
    "    html_str=\"\"\"\n",
    "    <head><script src='https://d3js.org/d3.v6.min.js'></script>\n",
    "    </head><style>@import 'https://fonts.googleapis.com/css?family=\"\"\"+\\\n",
    "    font_family+\"\"\"&effect=3d'; #colorized1 {font-family:\"\"\"+font_family+\\\n",
    "    \"\"\"; color:white; text-align:center; font-size:\"\"\"+str(font_size)+\\\n",
    "    \"\"\"px;}</style><h1 id='colorized1' class='font-effect-3d'>\"\"\"+string+\\\n",
    "    \"\"\"</h1><script>\n",
    "    var tc=setInterval(function(){\n",
    "        var now=new Date().getTime();\n",
    "        var iddoc1=document.getElementById('colorized1');\n",
    "        iddoc1.style.color=d3.interpolateSinebow(now/60000); },1)\n",
    "    </script>\"\"\"\n",
    "    file='d3header'+randi+'.html'\n",
    "    with open(file,'w') as f:\n",
    "         f.write(html_str); f.close()\n",
    "    string=\"\"\"<div id='html_string\"\"\"+randi+\\\n",
    "    \"\"\"'><iframe src='\"\"\"+file+\\\n",
    "    \"\"\"' height=\"\"\"+str(height)+\"\"\" width=\"\"\"+str(width)+\\\n",
    "    \"\"\" style='display:block;'></iframe></div>\"\"\"\n",
    "    display(HTML(string))"
   ]
  },
  {
   "cell_type": "code",
   "execution_count": 2,
   "metadata": {
    "_cell_guid": "79c7e3d0-c299-4dcb-8224-4455121ee9b0",
    "_kg_hide-input": true,
    "_uuid": "d629ff2d2480ee46fbb7e2d37f6b5fab8052498a",
    "execution": {
     "iopub.execute_input": "2021-01-06T04:29:49.279110Z",
     "iopub.status.busy": "2021-01-06T04:29:49.278390Z",
     "iopub.status.idle": "2021-01-06T04:29:49.287421Z",
     "shell.execute_reply": "2021-01-06T04:29:49.287938Z"
    },
    "papermill": {
     "duration": 0.019944,
     "end_time": "2021-01-06T04:29:49.288100",
     "exception": false,
     "start_time": "2021-01-06T04:29:49.268156",
     "status": "completed"
    },
    "tags": []
   },
   "outputs": [
    {
     "data": {
      "text/html": [
       "<div id='html_string4715508.516447246'><iframe src='d3header4715508.516447246.html' height=60.0 width=650 style='display:block;'></iframe></div>"
      ],
      "text/plain": [
       "<IPython.core.display.HTML object>"
      ]
     },
     "metadata": {},
     "output_type": "display_data"
    }
   ],
   "source": [
    "%run color_header.py\n",
    "%header Code Modules, Settings, & Functions"
   ]
  },
  {
   "cell_type": "code",
   "execution_count": 3,
   "metadata": {
    "_kg_hide-input": true,
    "execution": {
     "iopub.execute_input": "2021-01-06T04:29:49.308316Z",
     "iopub.status.busy": "2021-01-06T04:29:49.307578Z",
     "iopub.status.idle": "2021-01-06T04:29:56.606577Z",
     "shell.execute_reply": "2021-01-06T04:29:56.607397Z"
    },
    "papermill": {
     "duration": 7.311253,
     "end_time": "2021-01-06T04:29:56.607575",
     "exception": false,
     "start_time": "2021-01-06T04:29:49.296322",
     "status": "completed"
    },
    "tags": []
   },
   "outputs": [],
   "source": [
    "from IPython.display import display,HTML\n",
    "from IPython.core.magic import register_line_magic\n",
    "import random,warnings; warnings.filterwarnings('ignore')\n",
    "import tensorflow as tf,pylab as pl,numpy as np\n",
    "import tensorflow.keras.layers as tkl\n",
    "import tensorflow_datasets as tfds\n",
    "from tensorflow.data import Dataset as tds\n",
    "tf.random.set_seed(123)\n",
    "np.random.seed(123)\n",
    "tfds.disable_progress_bar()\n",
    "\n",
    "def styled_header(str):\n",
    "    display(HTML(\"\"\"<style>\n",
    "    @import 'https://fonts.googleapis.com/css?family=Aladin&effect=3d-float';      \n",
    "    </style><h1 class='font-effect-3d-float' \n",
    "    style='font-family:Aladin; color:#ff6611; font-size:20px;'>%s</h1>\"\"\"%str))\n",
    "    \n",
    "@register_line_magic\n",
    "def display_data(data):\n",
    "    global features\n",
    "    if data=='train': x,y=x_train,y_train\n",
    "    if data=='test': x,y=x_test,y_test\n",
    "    if data=='vaid': x,y=x_valid,y_valid\n",
    "    cols=[['#ff6611','#11ffee'][int(el)] for el in y]\n",
    "    pl.figure(figsize=(10,6))\n",
    "    pl.scatter(x[:,0],x[:,1],c=cols,marker='*')\n",
    "    styled_header('Labeled Artificial Data')\n",
    "    pl.tight_layout(); pl.grid(); pl.show()\n",
    "    styled_header(str(features))\n",
    "    \n",
    "@register_line_magic\n",
    "def display_predictions(data):\n",
    "    global y_valid,py_valid,y_test,py_test\n",
    "    if data=='test': py,y=py_test,y_test\n",
    "    if data=='valid': py,y=py_valid,y_valid\n",
    "    pl.figure(figsize=(10,3))\n",
    "    pl.scatter(range(len(y)),y,s=50,\n",
    "               label='real data',c=\"#11ffee\")\n",
    "    pl.scatter(range(len(py)),py,s=20,marker='*',\n",
    "               label='predictions',c=\"#ff6611\")\n",
    "    pl.grid(); pl.legend(); pl.tight_layout(); pl.show()\n",
    "    \n",
    "@register_line_magic\n",
    "def make_XOR(N):\n",
    "    N=int(N)\n",
    "    global x_train,x_valid,x_test,\\\n",
    "           y_train,y_valid,y_test\n",
    "    x=np.random.uniform(low=-1,high=1,size=(N,2))\n",
    "    y=np.ones(len(x)); y[x[:,0]*x[:,1]<0]=0\n",
    "    x_train,y_train=x[:int(.8*N),:],y[:int(.8*N)]\n",
    "    x_valid=x[int(.8*N):int(.9*N),:]\n",
    "    y_valid=y[int(.8*N):int(.9*N)]\n",
    "    x_test,y_test=x[int(.9*N):,:],y[int(.9*N):]\n",
    "    \n",
    "def train_input_fn(x_train,y_train,batch_size):\n",
    "    ds=tds.from_tensor_slices(\n",
    "        ({'input-features':x_train},y_train.reshape(-1,1)))\n",
    "    return ds.shuffle(1000).repeat().batch(batch_size)\n",
    "\n",
    "def valid_input_fn(x_vaid,y_valid,batch_size):\n",
    "    ds=tds.from_tensor_slices(\n",
    "        ({'input-features':x_valid},y_valid.reshape(-1,1)))\n",
    "    return ds.batch(batch_size)\n",
    "\n",
    "def test_input_fn(x_test,y_test,batch_size):\n",
    "    if y_test is None:\n",
    "        ds=tds.from_tensor_slices({'input-features':x_test})\n",
    "    else:\n",
    "        ds=tds.from_tensor_slices(\n",
    "            ({'input-features':x_test},y_test.reshape(-1,1)))\n",
    "    return ds.batch(batch_size)\n",
    "\n",
    "@register_line_magic\n",
    "def train_valid(pars):\n",
    "    pars=pars.split()\n",
    "    num_epochs=int(pars[0])\n",
    "    batch_size=int(pars[1])\n",
    "    global tfe,x_train,y_train,x_valid,y_valid\n",
    "    steps_per_epoch=np.ceil(len(x_train)/batch_size)\n",
    "    train_spec=tf.estimator\\\n",
    "    .TrainSpec(input_fn=lambda:\\\n",
    "               train_input_fn(x_train,y_train,batch_size),\n",
    "               max_steps=num_epochs*steps_per_epoch)\n",
    "    valid_spec=tf.estimator\\\n",
    "    .EvalSpec(input_fn=lambda:\\\n",
    "              valid_input_fn(x_valid,y_valid,batch_size))\n",
    "    tf.estimator.train_and_evaluate(tfe,train_spec,valid_spec)\n",
    "    \n",
    "def test(batch_size):\n",
    "    global tfe,x_test,y_test\n",
    "    test_result=tfe\\\n",
    "    .evaluate(input_fn=lambda:\\\n",
    "              test_input_fn(x_test,y_test,batch_size))\n",
    "    y_test_pred=tfe\\\n",
    "    .predict(input_fn=lambda:\\\n",
    "             test_input_fn(x_test,y_test,batch_size))\n",
    "    py_test=[]\n",
    "    for i in range(len(y_test)):\n",
    "        py_test.append(round(next(iter(y_test_pred))['out'][0]))\n",
    "    return test_result,py_test"
   ]
  },
  {
   "cell_type": "code",
   "execution_count": 4,
   "metadata": {
    "_kg_hide-input": true,
    "execution": {
     "iopub.execute_input": "2021-01-06T04:29:56.626543Z",
     "iopub.status.busy": "2021-01-06T04:29:56.625992Z",
     "iopub.status.idle": "2021-01-06T04:29:56.631922Z",
     "shell.execute_reply": "2021-01-06T04:29:56.632349Z"
    },
    "papermill": {
     "duration": 0.017038,
     "end_time": "2021-01-06T04:29:56.632494",
     "exception": false,
     "start_time": "2021-01-06T04:29:56.615456",
     "status": "completed"
    },
    "tags": []
   },
   "outputs": [
    {
     "data": {
      "text/html": [
       "<div id='html_string9101055.337894697'><iframe src='d3header9101055.337894697.html' height=60.0 width=650 style='display:block;'></iframe></div>"
      ],
      "text/plain": [
       "<IPython.core.display.HTML object>"
      ]
     },
     "metadata": {},
     "output_type": "display_data"
    }
   ],
   "source": [
    "%header Artificial Data"
   ]
  },
  {
   "cell_type": "code",
   "execution_count": 5,
   "metadata": {
    "execution": {
     "iopub.execute_input": "2021-01-06T04:29:56.658149Z",
     "iopub.status.busy": "2021-01-06T04:29:56.656018Z",
     "iopub.status.idle": "2021-01-06T04:29:56.926759Z",
     "shell.execute_reply": "2021-01-06T04:29:56.926247Z"
    },
    "papermill": {
     "duration": 0.286364,
     "end_time": "2021-01-06T04:29:56.926892",
     "exception": false,
     "start_time": "2021-01-06T04:29:56.640528",
     "status": "completed"
    },
    "tags": []
   },
   "outputs": [
    {
     "data": {
      "text/html": [
       "<style>\n",
       "    @import 'https://fonts.googleapis.com/css?family=Aladin&effect=3d-float';      \n",
       "    </style><h1 class='font-effect-3d-float' \n",
       "    style='font-family:Aladin; color:#ff6611; font-size:20px;'>Labeled Artificial Data</h1>"
      ],
      "text/plain": [
       "<IPython.core.display.HTML object>"
      ]
     },
     "metadata": {},
     "output_type": "display_data"
    },
    {
     "data": {
      "image/png": "[encoded data removed]",
      "text/plain": [
       "<Figure size 720x432 with 1 Axes>"
      ]
     },
     "metadata": {
      "needs_background": "light"
     },
     "output_type": "display_data"
    },
    {
     "data": {
      "text/html": [
       "<style>\n",
       "    @import 'https://fonts.googleapis.com/css?family=Aladin&effect=3d-float';      \n",
       "    </style><h1 class='font-effect-3d-float' \n",
       "    style='font-family:Aladin; color:#ff6611; font-size:20px;'>[NumericColumn(key='input-features:', shape=(2,), default_value=None, dtype=tf.float32, normalizer_fn=None)]</h1>"
      ],
      "text/plain": [
       "<IPython.core.display.HTML object>"
      ]
     },
     "metadata": {},
     "output_type": "display_data"
    }
   ],
   "source": [
    "[x_train,x_valid,x_test,y_train,y_valid,y_test]=\\\n",
    "[[] for i in range(6)]\n",
    "%make_XOR 1000\n",
    "features=[tf.feature_column.numeric_column(\n",
    "          key='input-features:',shape=(2,))]\n",
    "%display_data test"
   ]
  },
  {
   "cell_type": "code",
   "execution_count": 6,
   "metadata": {
    "_kg_hide-input": true,
    "execution": {
     "iopub.execute_input": "2021-01-06T04:29:56.952577Z",
     "iopub.status.busy": "2021-01-06T04:29:56.951561Z",
     "iopub.status.idle": "2021-01-06T04:29:56.957729Z",
     "shell.execute_reply": "2021-01-06T04:29:56.958202Z"
    },
    "papermill": {
     "duration": 0.021159,
     "end_time": "2021-01-06T04:29:56.958356",
     "exception": false,
     "start_time": "2021-01-06T04:29:56.937197",
     "status": "completed"
    },
    "tags": []
   },
   "outputs": [
    {
     "data": {
      "text/html": [
       "<div id='html_string7483930.052980728'><iframe src='d3header7483930.052980728.html' height=60.0 width=650 style='display:block;'></iframe></div>"
      ],
      "text/plain": [
       "<IPython.core.display.HTML object>"
      ]
     },
     "metadata": {},
     "output_type": "display_data"
    }
   ],
   "source": [
    "%header Built Keras Models as Estimators"
   ]
  },
  {
   "cell_type": "code",
   "execution_count": 7,
   "metadata": {
    "execution": {
     "iopub.execute_input": "2021-01-06T04:29:56.984457Z",
     "iopub.status.busy": "2021-01-06T04:29:56.983459Z",
     "iopub.status.idle": "2021-01-06T04:29:57.710888Z",
     "shell.execute_reply": "2021-01-06T04:29:57.710178Z"
    },
    "papermill": {
     "duration": 0.741629,
     "end_time": "2021-01-06T04:29:57.711042",
     "exception": false,
     "start_time": "2021-01-06T04:29:56.969413",
     "status": "completed"
    },
    "tags": []
   },
   "outputs": [],
   "source": [
    "model=tf.keras.Sequential([\n",
    "    tkl.Input(shape=(2,),name='input-features'),\n",
    "    tkl.Dense(units=4,activation='relu'),\n",
    "    tkl.Dense(units=8,activation='relu'),\n",
    "    tkl.Dense(units=4,activation='relu'),\n",
    "    tkl.Dense(1,activation='sigmoid',name='out')])\n",
    "model.compile(optimizer=tf.keras.optimizers.SGD(),\n",
    "              loss=tf.keras.losses.BinaryCrossentropy(),\n",
    "              metrics=[tf.keras.metrics.BinaryAccuracy()])\n",
    "tfe=tf.keras.estimator.model_to_estimator(\n",
    "    keras_model=model,\n",
    "    model_dir='models/estimator-for-XOR/')"
   ]
  },
  {
   "cell_type": "code",
   "execution_count": 8,
   "metadata": {
    "_kg_hide-input": true,
    "execution": {
     "iopub.execute_input": "2021-01-06T04:29:57.739240Z",
     "iopub.status.busy": "2021-01-06T04:29:57.738250Z",
     "iopub.status.idle": "2021-01-06T04:29:57.742945Z",
     "shell.execute_reply": "2021-01-06T04:29:57.743404Z"
    },
    "papermill": {
     "duration": 0.021221,
     "end_time": "2021-01-06T04:29:57.743555",
     "exception": false,
     "start_time": "2021-01-06T04:29:57.722334",
     "status": "completed"
    },
    "tags": []
   },
   "outputs": [
    {
     "data": {
      "text/html": [
       "<div id='html_string2967441.3962952127'><iframe src='d3header2967441.3962952127.html' height=60.0 width=650 style='display:block;'></iframe></div>"
      ],
      "text/plain": [
       "<IPython.core.display.HTML object>"
      ]
     },
     "metadata": {},
     "output_type": "display_data"
    }
   ],
   "source": [
    "%header Training"
   ]
  },
  {
   "cell_type": "code",
   "execution_count": 9,
   "metadata": {
    "_kg_hide-output": false,
    "execution": {
     "iopub.execute_input": "2021-01-06T04:29:57.772812Z",
     "iopub.status.busy": "2021-01-06T04:29:57.772184Z",
     "iopub.status.idle": "2021-01-06T04:30:16.511684Z",
     "shell.execute_reply": "2021-01-06T04:30:16.512149Z"
    },
    "papermill": {
     "duration": 18.75731,
     "end_time": "2021-01-06T04:30:16.512325",
     "exception": false,
     "start_time": "2021-01-06T04:29:57.755015",
     "status": "completed"
    },
    "tags": []
   },
   "outputs": [
    {
     "name": "stdout",
     "output_type": "stream",
     "text": [
      "Model: \"sequential\"\n",
      "_________________________________________________________________\n",
      "Layer (type)                 Output Shape              Param #   \n",
      "=================================================================\n",
      "dense (Dense)                (None, 4)                 12        \n",
      "_________________________________________________________________\n",
      "dense_1 (Dense)              (None, 8)                 40        \n",
      "_________________________________________________________________\n",
      "dense_2 (Dense)              (None, 4)                 36        \n",
      "_________________________________________________________________\n",
      "out (Dense)                  (None, 1)                 5         \n",
      "=================================================================\n",
      "Total params: 93\n",
      "Trainable params: 93\n",
      "Non-trainable params: 0\n",
      "_________________________________________________________________\n",
      "None\n"
     ]
    },
    {
     "data": {
      "text/html": [
       "<style>\n",
       "    @import 'https://fonts.googleapis.com/css?family=Aladin&effect=3d-float';      \n",
       "    </style><h1 class='font-effect-3d-float' \n",
       "    style='font-family:Aladin; color:#ff6611; font-size:20px;'>allow_soft_placement: true\n",
       "graph_options {\n",
       "  rewrite_options {\n",
       "    meta_optimizer_iterations: ONE\n",
       "  }\n",
       "}\n",
       "</h1>"
      ],
      "text/plain": [
       "<IPython.core.display.HTML object>"
      ]
     },
     "metadata": {},
     "output_type": "display_data"
    }
   ],
   "source": [
    "print(model.summary())\n",
    "styled_header(tfe.config.session_config)\n",
    "%train_valid 200 8"
   ]
  },
  {
   "cell_type": "code",
   "execution_count": 10,
   "metadata": {
    "_kg_hide-input": true,
    "execution": {
     "iopub.execute_input": "2021-01-06T04:30:16.545230Z",
     "iopub.status.busy": "2021-01-06T04:30:16.544275Z",
     "iopub.status.idle": "2021-01-06T04:30:16.550243Z",
     "shell.execute_reply": "2021-01-06T04:30:16.549750Z"
    },
    "papermill": {
     "duration": 0.025362,
     "end_time": "2021-01-06T04:30:16.550399",
     "exception": false,
     "start_time": "2021-01-06T04:30:16.525037",
     "status": "completed"
    },
    "tags": []
   },
   "outputs": [
    {
     "data": {
      "text/html": [
       "<div id='html_string2760793.6240243297'><iframe src='d3header2760793.6240243297.html' height=60.0 width=650 style='display:block;'></iframe></div>"
      ],
      "text/plain": [
       "<IPython.core.display.HTML object>"
      ]
     },
     "metadata": {},
     "output_type": "display_data"
    }
   ],
   "source": [
    "%header Evaluation"
   ]
  },
  {
   "cell_type": "code",
   "execution_count": 11,
   "metadata": {
    "execution": {
     "iopub.execute_input": "2021-01-06T04:30:16.582583Z",
     "iopub.status.busy": "2021-01-06T04:30:16.581871Z",
     "iopub.status.idle": "2021-01-06T04:30:17.264470Z",
     "shell.execute_reply": "2021-01-06T04:30:17.263998Z"
    },
    "papermill": {
     "duration": 0.701464,
     "end_time": "2021-01-06T04:30:17.264607",
     "exception": false,
     "start_time": "2021-01-06T04:30:16.563143",
     "status": "completed"
    },
    "tags": []
   },
   "outputs": [
    {
     "data": {
      "text/html": [
       "<style>\n",
       "    @import 'https://fonts.googleapis.com/css?family=Aladin&effect=3d-float';      \n",
       "    </style><h1 class='font-effect-3d-float' \n",
       "    style='font-family:Aladin; color:#ff6611; font-size:20px;'>{'binary_accuracy': 0.99, 'loss': 0.016754337, 'global_step': 20000}</h1>"
      ],
      "text/plain": [
       "<IPython.core.display.HTML object>"
      ]
     },
     "metadata": {},
     "output_type": "display_data"
    },
    {
     "data": {
      "image/png": "[encoded data removed]",
      "text/plain": [
       "<Figure size 720x216 with 1 Axes>"
      ]
     },
     "metadata": {
      "needs_background": "light"
     },
     "output_type": "display_data"
    }
   ],
   "source": [
    "test_result,py_test=test(8)\n",
    "styled_header(test_result)\n",
    "%display_predictions test"
   ]
  }
 ],
 "metadata": {
  "kernelspec": {
   "display_name": "Python 3",
   "language": "python",
   "name": "python3"
  },
  "language_info": {
   "codemirror_mode": {
    "name": "ipython",
    "version": 3
   },
   "file_extension": ".py",
   "mimetype": "text/x-python",
   "name": "python",
   "nbconvert_exporter": "python",
   "pygments_lexer": "ipython3",
   "version": "3.7.6"
  },
  "papermill": {
   "duration": 32.861761,
   "end_time": "2021-01-06T04:30:17.387262",
   "environment_variables": {},
   "exception": null,
   "input_path": "__notebook__.ipynb",
   "output_path": "__notebook__.ipynb",
   "parameters": {},
   "start_time": "2021-01-06T04:29:44.525501",
   "version": "2.1.0"
  }
 },
 "nbformat": 4,
 "nbformat_minor": 4
}
