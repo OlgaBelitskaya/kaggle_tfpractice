{
 "cells": [
  {
   "cell_type": "markdown",
   "metadata": {
    "papermill": {
     "duration": 0.017871,
     "end_time": "2021-01-01T00:23:07.403995",
     "exception": false,
     "start_time": "2021-01-01T00:23:07.386124",
     "status": "completed"
    },
    "tags": []
   },
   "source": [
    "Reading classics [Python Machine Learning 3rd Edition](https://github.com/rasbt/python-machine-learning-book-3rd-edition/blob/master/ch15/ch15_part1.ipynb)"
   ]
  },
  {
   "cell_type": "code",
   "execution_count": 1,
   "metadata": {
    "_cell_guid": "b1076dfc-b9ad-4769-8c92-a6c4dae69d19",
    "_kg_hide-input": true,
    "_uuid": "8f2839f25d086af736a60e9eeb907d3b93b6e0e5",
    "execution": {
     "iopub.execute_input": "2021-01-01T00:23:07.448540Z",
     "iopub.status.busy": "2021-01-01T00:23:07.447791Z",
     "iopub.status.idle": "2021-01-01T00:23:07.452131Z",
     "shell.execute_reply": "2021-01-01T00:23:07.451430Z"
    },
    "papermill": {
     "duration": 0.032064,
     "end_time": "2021-01-01T00:23:07.452234",
     "exception": false,
     "start_time": "2021-01-01T00:23:07.420170",
     "status": "completed"
    },
    "tags": []
   },
   "outputs": [],
   "source": [
    "from IPython.display import display,HTML\n",
    "import random\n",
    "c1,c2,f1,f2,fs1,fs2=\\\n",
    "'#11ff66','#6611ff','Lobster','Orbitron',30,10\n",
    "def bhtml(string,font_color=c1,font_family=f1,font_size=fs1):\n",
    "    randi=random.randint(1,999999999)\n",
    "    display(HTML(\"\"\"<style>\n",
    "    @import 'https://fonts.googleapis.com/css?family=\"\"\"+\\\n",
    "    font_family+\"\"\"';</style><h1 id='colored_font\"\"\"+str(randi)+\\\n",
    "    \"\"\"' style='text-shadow:3px 3px 3px #11dd33; font-family:\"\"\"+\\\n",
    "    font_family+\"\"\"; color:\"\"\"+font_color+\"\"\"; font-size:\"\"\"+\\\n",
    "    str(font_size)+\"\"\"px; text-align:center; \"\"\"+\\\n",
    "    \"\"\"height:\"\"\"+str(1.5*font_size)+\"\"\"px'>%s</h1>\"\"\"%string+\\\n",
    "    \"\"\"<script>var idc=setInterval(function() {\"\"\"+\\\n",
    "    \"\"\"var iddoc=document.getElementById(\"\"\"+\\\n",
    "    \"\"\"'colored_font\"\"\"+str(randi)+\"\"\"'); \"\"\"+\\\n",
    "    \"\"\"var now=new Date().getTime(); \"\"\"+\\\n",
    "    \"\"\"var sec=Math.floor((now%(1000*60))/1000); \"\"\"+\\\n",
    "    \"\"\"var col='rgb(0,'+(255-Math.abs(245-8*sec))+','\"\"\"+\\\n",
    "    \"\"\"+(10+Math.abs(245-8*sec))+')'; \"\"\"+\\\n",
    "    \"\"\"iddoc.style.background=col;},100);</\"\"\"+\"\"\"script>\"\"\"))\n",
    "def df_with_styling(arg,index):\n",
    "    return display(pd.DataFrame(arg,index)\\\n",
    "        .style.background_gradient(cmap='GnBu',axis=1)\\\n",
    "        .set_properties(**{'max-width':'50px','height':'50px'}))"
   ]
  },
  {
   "cell_type": "code",
   "execution_count": 2,
   "metadata": {
    "_cell_guid": "79c7e3d0-c299-4dcb-8224-4455121ee9b0",
    "_kg_hide-input": true,
    "_uuid": "d629ff2d2480ee46fbb7e2d37f6b5fab8052498a",
    "execution": {
     "iopub.execute_input": "2021-01-01T00:23:07.491638Z",
     "iopub.status.busy": "2021-01-01T00:23:07.490839Z",
     "iopub.status.idle": "2021-01-01T00:23:07.496404Z",
     "shell.execute_reply": "2021-01-01T00:23:07.497108Z"
    },
    "papermill": {
     "duration": 0.028297,
     "end_time": "2021-01-01T00:23:07.497283",
     "exception": false,
     "start_time": "2021-01-01T00:23:07.468986",
     "status": "completed"
    },
    "tags": []
   },
   "outputs": [
    {
     "data": {
      "text/html": [
       "<style>\n",
       "    @import 'https://fonts.googleapis.com/css?family=Lobster';</style><h1 id='colored_font932493058' style='text-shadow:3px 3px 3px #11dd33; font-family:Lobster; color:#11ff66; font-size:30px; text-align:center; height:45.0px'>Code Modules, Setting, & Functions</h1><script>var idc=setInterval(function() {var iddoc=document.getElementById('colored_font932493058'); var now=new Date().getTime(); var sec=Math.floor((now%(1000*60))/1000); var col='rgb(0,'+(255-Math.abs(245-8*sec))+','+(10+Math.abs(245-8*sec))+')'; iddoc.style.background=col;},100);</script>"
      ],
      "text/plain": [
       "<IPython.core.display.HTML object>"
      ]
     },
     "metadata": {},
     "output_type": "display_data"
    }
   ],
   "source": [
    "bhtml('Code Modules, Setting, & Functions')"
   ]
  },
  {
   "cell_type": "code",
   "execution_count": 3,
   "metadata": {
    "execution": {
     "iopub.execute_input": "2021-01-01T00:23:07.555452Z",
     "iopub.status.busy": "2021-01-01T00:23:07.554847Z",
     "iopub.status.idle": "2021-01-01T00:23:13.912366Z",
     "shell.execute_reply": "2021-01-01T00:23:13.911807Z"
    },
    "papermill": {
     "duration": 6.38884,
     "end_time": "2021-01-01T00:23:13.912486",
     "exception": false,
     "start_time": "2021-01-01T00:23:07.523646",
     "status": "completed"
    },
    "tags": []
   },
   "outputs": [],
   "source": [
    "import warnings; warnings.filterwarnings('ignore')\n",
    "import tensorflow as tf,pylab as pl\n",
    "import pandas as pd,numpy as np\n",
    "import scipy.signal as sps\n",
    "import skimage.measure as sim\n",
    "import tensorflow.keras.layers as tkl\n",
    "import tensorflow.keras.utils as tku\n",
    "from IPython.core.magic import register_line_magic\n",
    "pd.set_option('precision',3)"
   ]
  },
  {
   "cell_type": "code",
   "execution_count": 4,
   "metadata": {
    "_kg_hide-input": true,
    "execution": {
     "iopub.execute_input": "2021-01-01T00:23:13.954357Z",
     "iopub.status.busy": "2021-01-01T00:23:13.953610Z",
     "iopub.status.idle": "2021-01-01T00:23:13.958021Z",
     "shell.execute_reply": "2021-01-01T00:23:13.958700Z"
    },
    "papermill": {
     "duration": 0.027301,
     "end_time": "2021-01-01T00:23:13.958877",
     "exception": false,
     "start_time": "2021-01-01T00:23:13.931576",
     "status": "completed"
    },
    "tags": []
   },
   "outputs": [
    {
     "data": {
      "text/html": [
       "<style>\n",
       "    @import 'https://fonts.googleapis.com/css?family=Lobster';</style><h1 id='colored_font61455676' style='text-shadow:3px 3px 3px #11dd33; font-family:Lobster; color:#11ff66; font-size:30px; text-align:center; height:45.0px'>Conv1d Exploration</h1><script>var idc=setInterval(function() {var iddoc=document.getElementById('colored_font61455676'); var now=new Date().getTime(); var sec=Math.floor((now%(1000*60))/1000); var col='rgb(0,'+(255-Math.abs(245-8*sec))+','+(10+Math.abs(245-8*sec))+')'; iddoc.style.background=col;},100);</script>"
      ],
      "text/plain": [
       "<IPython.core.display.HTML object>"
      ]
     },
     "metadata": {},
     "output_type": "display_data"
    }
   ],
   "source": [
    "bhtml('Conv1d Exploration')"
   ]
  },
  {
   "cell_type": "code",
   "execution_count": 5,
   "metadata": {
    "execution": {
     "iopub.execute_input": "2021-01-01T00:23:14.019208Z",
     "iopub.status.busy": "2021-01-01T00:23:14.018518Z",
     "iopub.status.idle": "2021-01-01T00:23:14.435135Z",
     "shell.execute_reply": "2021-01-01T00:23:14.434483Z"
    },
    "papermill": {
     "duration": 0.449763,
     "end_time": "2021-01-01T00:23:14.435254",
     "exception": false,
     "start_time": "2021-01-01T00:23:13.985491",
     "status": "completed"
    },
    "tags": []
   },
   "outputs": [
    {
     "data": {
      "text/html": [
       "<style  type=\"text/css\" >\n",
       "#T_899cbe3e_4bc7_11eb_bb95_0242ac130202row0_col0,#T_899cbe3e_4bc7_11eb_bb95_0242ac130202row1_col3{\n",
       "            background-color:  #a6dcb6;\n",
       "            color:  #000000;\n",
       "            max-width:  50px;\n",
       "            height:  50px;\n",
       "        }#T_899cbe3e_4bc7_11eb_bb95_0242ac130202row0_col1,#T_899cbe3e_4bc7_11eb_bb95_0242ac130202row1_col2{\n",
       "            background-color:  #084081;\n",
       "            color:  #f1f1f1;\n",
       "            max-width:  50px;\n",
       "            height:  50px;\n",
       "        }#T_899cbe3e_4bc7_11eb_bb95_0242ac130202row0_col2,#T_899cbe3e_4bc7_11eb_bb95_0242ac130202row1_col1{\n",
       "            background-color:  #f7fcf0;\n",
       "            color:  #000000;\n",
       "            max-width:  50px;\n",
       "            height:  50px;\n",
       "        }#T_899cbe3e_4bc7_11eb_bb95_0242ac130202row0_col3,#T_899cbe3e_4bc7_11eb_bb95_0242ac130202row1_col0{\n",
       "            background-color:  #0862a5;\n",
       "            color:  #f1f1f1;\n",
       "            max-width:  50px;\n",
       "            height:  50px;\n",
       "        }</style><table id=\"T_899cbe3e_4bc7_11eb_bb95_0242ac130202\" ><thead>    <tr>        <th class=\"blank level0\" ></th>        <th class=\"col_heading level0 col0\" >0</th>        <th class=\"col_heading level0 col1\" >1</th>        <th class=\"col_heading level0 col2\" >2</th>        <th class=\"col_heading level0 col3\" >3</th>    </tr></thead><tbody>\n",
       "                <tr>\n",
       "                        <th id=\"T_899cbe3e_4bc7_11eb_bb95_0242ac130202level0_row0\" class=\"row_heading level0 row0\" >w</th>\n",
       "                        <td id=\"T_899cbe3e_4bc7_11eb_bb95_0242ac130202row0_col0\" class=\"data row0 col0\" >0.665</td>\n",
       "                        <td id=\"T_899cbe3e_4bc7_11eb_bb95_0242ac130202row0_col1\" class=\"data row0 col1\" >0.983</td>\n",
       "                        <td id=\"T_899cbe3e_4bc7_11eb_bb95_0242ac130202row0_col2\" class=\"data row0 col2\" >0.468</td>\n",
       "                        <td id=\"T_899cbe3e_4bc7_11eb_bb95_0242ac130202row0_col3\" class=\"data row0 col3\" >0.927</td>\n",
       "            </tr>\n",
       "            <tr>\n",
       "                        <th id=\"T_899cbe3e_4bc7_11eb_bb95_0242ac130202level0_row1\" class=\"row_heading level0 row1\" >w_rotated</th>\n",
       "                        <td id=\"T_899cbe3e_4bc7_11eb_bb95_0242ac130202row1_col0\" class=\"data row1 col0\" >0.927</td>\n",
       "                        <td id=\"T_899cbe3e_4bc7_11eb_bb95_0242ac130202row1_col1\" class=\"data row1 col1\" >0.468</td>\n",
       "                        <td id=\"T_899cbe3e_4bc7_11eb_bb95_0242ac130202row1_col2\" class=\"data row1 col2\" >0.983</td>\n",
       "                        <td id=\"T_899cbe3e_4bc7_11eb_bb95_0242ac130202row1_col3\" class=\"data row1 col3\" >0.665</td>\n",
       "            </tr>\n",
       "    </tbody></table>"
      ],
      "text/plain": [
       "<pandas.io.formats.style.Styler at 0x7fb1358ec690>"
      ]
     },
     "metadata": {},
     "output_type": "display_data"
    }
   ],
   "source": [
    "num_w,num_x=4,7 #num_w>3!\n",
    "w=np.random.random(num_w)\n",
    "x=np.random.random(num_x)\n",
    "w_rotated=np.array(w[::-1])\n",
    "df_with_styling([w,w_rotated],index=['w','w_rotated'])"
   ]
  },
  {
   "cell_type": "code",
   "execution_count": 6,
   "metadata": {
    "_kg_hide-output": true,
    "execution": {
     "iopub.execute_input": "2021-01-01T00:23:14.481620Z",
     "iopub.status.busy": "2021-01-01T00:23:14.480983Z",
     "iopub.status.idle": "2021-01-01T00:23:14.566519Z",
     "shell.execute_reply": "2021-01-01T00:23:14.565982Z"
    },
    "papermill": {
     "duration": 0.11251,
     "end_time": "2021-01-01T00:23:14.566625",
     "exception": false,
     "start_time": "2021-01-01T00:23:14.454115",
     "status": "completed"
    },
    "tags": []
   },
   "outputs": [
    {
     "data": {
      "text/html": [
       "<style  type=\"text/css\" >\n",
       "#T_89a7b500_4bc7_11eb_bb95_0242ac130202row0_col0{\n",
       "            width:  10em;\n",
       "             height:  80%;\n",
       "            background:  linear-gradient(90deg,#11ff66 26.7%, transparent 26.7%);\n",
       "            max-width:  50px;\n",
       "        }#T_89a7b500_4bc7_11eb_bb95_0242ac130202row0_col1{\n",
       "            width:  10em;\n",
       "             height:  80%;\n",
       "            background:  linear-gradient(90deg,#11ff66 39.6%, transparent 39.6%);\n",
       "            max-width:  50px;\n",
       "        }#T_89a7b500_4bc7_11eb_bb95_0242ac130202row0_col2{\n",
       "            width:  10em;\n",
       "             height:  80%;\n",
       "            background:  linear-gradient(90deg,#11ff66 50.5%, transparent 50.5%);\n",
       "            max-width:  50px;\n",
       "        }#T_89a7b500_4bc7_11eb_bb95_0242ac130202row0_col3{\n",
       "            width:  10em;\n",
       "             height:  80%;\n",
       "            background:  linear-gradient(90deg,#11ff66 93.4%, transparent 93.4%);\n",
       "            max-width:  50px;\n",
       "        }#T_89a7b500_4bc7_11eb_bb95_0242ac130202row0_col4,#T_89a7b500_4bc7_11eb_bb95_0242ac130202row0_col5,#T_89a7b500_4bc7_11eb_bb95_0242ac130202row0_col6,#T_89a7b500_4bc7_11eb_bb95_0242ac130202row1_col4,#T_89a7b500_4bc7_11eb_bb95_0242ac130202row1_col5,#T_89a7b500_4bc7_11eb_bb95_0242ac130202row1_col6,#T_89a7b500_4bc7_11eb_bb95_0242ac130202row2_col1,#T_89a7b500_4bc7_11eb_bb95_0242ac130202row2_col2,#T_89a7b500_4bc7_11eb_bb95_0242ac130202row2_col3,#T_89a7b500_4bc7_11eb_bb95_0242ac130202row2_col4,#T_89a7b500_4bc7_11eb_bb95_0242ac130202row2_col5,#T_89a7b500_4bc7_11eb_bb95_0242ac130202row2_col6{\n",
       "            max-width:  50px;\n",
       "        }#T_89a7b500_4bc7_11eb_bb95_0242ac130202row1_col0{\n",
       "            width:  10em;\n",
       "             height:  80%;\n",
       "            background:  linear-gradient(90deg,#11ff66 70.6%, transparent 70.6%);\n",
       "            max-width:  50px;\n",
       "        }#T_89a7b500_4bc7_11eb_bb95_0242ac130202row1_col1,#T_89a7b500_4bc7_11eb_bb95_0242ac130202row1_col2,#T_89a7b500_4bc7_11eb_bb95_0242ac130202row1_col3,#T_89a7b500_4bc7_11eb_bb95_0242ac130202row2_col0{\n",
       "            width:  10em;\n",
       "             height:  80%;\n",
       "            background:  linear-gradient(90deg,#11ff66 100.0%, transparent 100.0%);\n",
       "            max-width:  50px;\n",
       "        }</style><table id=\"T_89a7b500_4bc7_11eb_bb95_0242ac130202\" ><thead>    <tr>        <th class=\"blank level0\" ></th>        <th class=\"col_heading level0 col0\" >0</th>        <th class=\"col_heading level0 col1\" >1</th>        <th class=\"col_heading level0 col2\" >2</th>        <th class=\"col_heading level0 col3\" >3</th>        <th class=\"col_heading level0 col4\" >4</th>        <th class=\"col_heading level0 col5\" >5</th>        <th class=\"col_heading level0 col6\" >6</th>    </tr></thead><tbody>\n",
       "                <tr>\n",
       "                        <th id=\"T_89a7b500_4bc7_11eb_bb95_0242ac130202level0_row0\" class=\"row_heading level0 row0\" >x</th>\n",
       "                        <td id=\"T_89a7b500_4bc7_11eb_bb95_0242ac130202row0_col0\" class=\"data row0 col0\" >0.351</td>\n",
       "                        <td id=\"T_89a7b500_4bc7_11eb_bb95_0242ac130202row0_col1\" class=\"data row0 col1\" >0.185</td>\n",
       "                        <td id=\"T_89a7b500_4bc7_11eb_bb95_0242ac130202row0_col2\" class=\"data row0 col2\" >0.496</td>\n",
       "                        <td id=\"T_89a7b500_4bc7_11eb_bb95_0242ac130202row0_col3\" class=\"data row0 col3\" >0.621</td>\n",
       "                        <td id=\"T_89a7b500_4bc7_11eb_bb95_0242ac130202row0_col4\" class=\"data row0 col4\" >0.766</td>\n",
       "                        <td id=\"T_89a7b500_4bc7_11eb_bb95_0242ac130202row0_col5\" class=\"data row0 col5\" >0.253</td>\n",
       "                        <td id=\"T_89a7b500_4bc7_11eb_bb95_0242ac130202row0_col6\" class=\"data row0 col6\" >0.948</td>\n",
       "            </tr>\n",
       "            <tr>\n",
       "                        <th id=\"T_89a7b500_4bc7_11eb_bb95_0242ac130202level0_row1\" class=\"row_heading level0 row1\" >w_rotated</th>\n",
       "                        <td id=\"T_89a7b500_4bc7_11eb_bb95_0242ac130202row1_col0\" class=\"data row1 col0\" >0.927</td>\n",
       "                        <td id=\"T_89a7b500_4bc7_11eb_bb95_0242ac130202row1_col1\" class=\"data row1 col1\" >0.468</td>\n",
       "                        <td id=\"T_89a7b500_4bc7_11eb_bb95_0242ac130202row1_col2\" class=\"data row1 col2\" >0.983</td>\n",
       "                        <td id=\"T_89a7b500_4bc7_11eb_bb95_0242ac130202row1_col3\" class=\"data row1 col3\" >0.665</td>\n",
       "                        <td id=\"T_89a7b500_4bc7_11eb_bb95_0242ac130202row1_col4\" class=\"data row1 col4\" >nan</td>\n",
       "                        <td id=\"T_89a7b500_4bc7_11eb_bb95_0242ac130202row1_col5\" class=\"data row1 col5\" >nan</td>\n",
       "                        <td id=\"T_89a7b500_4bc7_11eb_bb95_0242ac130202row1_col6\" class=\"data row1 col6\" >nan</td>\n",
       "            </tr>\n",
       "            <tr>\n",
       "                        <th id=\"T_89a7b500_4bc7_11eb_bb95_0242ac130202level0_row2\" class=\"row_heading level0 row2\" >y</th>\n",
       "                        <td id=\"T_89a7b500_4bc7_11eb_bb95_0242ac130202row2_col0\" class=\"data row2 col0\" >1.313</td>\n",
       "                        <td id=\"T_89a7b500_4bc7_11eb_bb95_0242ac130202row2_col1\" class=\"data row2 col1\" >nan</td>\n",
       "                        <td id=\"T_89a7b500_4bc7_11eb_bb95_0242ac130202row2_col2\" class=\"data row2 col2\" >nan</td>\n",
       "                        <td id=\"T_89a7b500_4bc7_11eb_bb95_0242ac130202row2_col3\" class=\"data row2 col3\" >nan</td>\n",
       "                        <td id=\"T_89a7b500_4bc7_11eb_bb95_0242ac130202row2_col4\" class=\"data row2 col4\" >nan</td>\n",
       "                        <td id=\"T_89a7b500_4bc7_11eb_bb95_0242ac130202row2_col5\" class=\"data row2 col5\" >nan</td>\n",
       "                        <td id=\"T_89a7b500_4bc7_11eb_bb95_0242ac130202row2_col6\" class=\"data row2 col6\" >nan</td>\n",
       "            </tr>\n",
       "    </tbody></table>"
      ],
      "text/plain": [
       "<pandas.io.formats.style.Styler at 0x7fb135754350>"
      ]
     },
     "metadata": {},
     "output_type": "display_data"
    },
    {
     "data": {
      "text/html": [
       "<style  type=\"text/css\" >\n",
       "#T_89aab548_4bc7_11eb_bb95_0242ac130202row0_col0,#T_89aab548_4bc7_11eb_bb95_0242ac130202row0_col5,#T_89aab548_4bc7_11eb_bb95_0242ac130202row0_col6,#T_89aab548_4bc7_11eb_bb95_0242ac130202row1_col0,#T_89aab548_4bc7_11eb_bb95_0242ac130202row1_col5,#T_89aab548_4bc7_11eb_bb95_0242ac130202row1_col6,#T_89aab548_4bc7_11eb_bb95_0242ac130202row2_col0,#T_89aab548_4bc7_11eb_bb95_0242ac130202row2_col2,#T_89aab548_4bc7_11eb_bb95_0242ac130202row2_col3,#T_89aab548_4bc7_11eb_bb95_0242ac130202row2_col4,#T_89aab548_4bc7_11eb_bb95_0242ac130202row2_col5,#T_89aab548_4bc7_11eb_bb95_0242ac130202row2_col6{\n",
       "            max-width:  50px;\n",
       "        }#T_89aab548_4bc7_11eb_bb95_0242ac130202row0_col1{\n",
       "            width:  10em;\n",
       "             height:  80%;\n",
       "            background:  linear-gradient(90deg,#11ff66 12.2%, transparent 12.2%);\n",
       "            max-width:  50px;\n",
       "        }#T_89aab548_4bc7_11eb_bb95_0242ac130202row0_col2,#T_89aab548_4bc7_11eb_bb95_0242ac130202row0_col4,#T_89aab548_4bc7_11eb_bb95_0242ac130202row1_col3,#T_89aab548_4bc7_11eb_bb95_0242ac130202row2_col1{\n",
       "            width:  10em;\n",
       "             height:  80%;\n",
       "            background:  linear-gradient(90deg,#11ff66 100.0%, transparent 100.0%);\n",
       "            max-width:  50px;\n",
       "        }#T_89aab548_4bc7_11eb_bb95_0242ac130202row0_col3{\n",
       "            width:  10em;\n",
       "             height:  80%;\n",
       "            background:  linear-gradient(90deg,#11ff66 63.2%, transparent 63.2%);\n",
       "            max-width:  50px;\n",
       "        }#T_89aab548_4bc7_11eb_bb95_0242ac130202row1_col1{\n",
       "            width:  10em;\n",
       "             height:  80%;\n",
       "            background:  linear-gradient(90deg,#11ff66 60.8%, transparent 60.8%);\n",
       "            max-width:  50px;\n",
       "        }#T_89aab548_4bc7_11eb_bb95_0242ac130202row1_col2{\n",
       "            width:  10em;\n",
       "             height:  80%;\n",
       "            background:  linear-gradient(90deg,#11ff66 94.4%, transparent 94.4%);\n",
       "            max-width:  50px;\n",
       "        }#T_89aab548_4bc7_11eb_bb95_0242ac130202row1_col4{\n",
       "            width:  10em;\n",
       "             height:  80%;\n",
       "            background:  linear-gradient(90deg,#11ff66 86.8%, transparent 86.8%);\n",
       "            max-width:  50px;\n",
       "        }</style><table id=\"T_89aab548_4bc7_11eb_bb95_0242ac130202\" ><thead>    <tr>        <th class=\"blank level0\" ></th>        <th class=\"col_heading level0 col0\" >0</th>        <th class=\"col_heading level0 col1\" >1</th>        <th class=\"col_heading level0 col2\" >2</th>        <th class=\"col_heading level0 col3\" >3</th>        <th class=\"col_heading level0 col4\" >4</th>        <th class=\"col_heading level0 col5\" >5</th>        <th class=\"col_heading level0 col6\" >6</th>    </tr></thead><tbody>\n",
       "                <tr>\n",
       "                        <th id=\"T_89aab548_4bc7_11eb_bb95_0242ac130202level0_row0\" class=\"row_heading level0 row0\" >x</th>\n",
       "                        <td id=\"T_89aab548_4bc7_11eb_bb95_0242ac130202row0_col0\" class=\"data row0 col0\" >0.351</td>\n",
       "                        <td id=\"T_89aab548_4bc7_11eb_bb95_0242ac130202row0_col1\" class=\"data row0 col1\" >0.185</td>\n",
       "                        <td id=\"T_89aab548_4bc7_11eb_bb95_0242ac130202row0_col2\" class=\"data row0 col2\" >0.496</td>\n",
       "                        <td id=\"T_89aab548_4bc7_11eb_bb95_0242ac130202row0_col3\" class=\"data row0 col3\" >0.621</td>\n",
       "                        <td id=\"T_89aab548_4bc7_11eb_bb95_0242ac130202row0_col4\" class=\"data row0 col4\" >0.766</td>\n",
       "                        <td id=\"T_89aab548_4bc7_11eb_bb95_0242ac130202row0_col5\" class=\"data row0 col5\" >0.253</td>\n",
       "                        <td id=\"T_89aab548_4bc7_11eb_bb95_0242ac130202row0_col6\" class=\"data row0 col6\" >0.948</td>\n",
       "            </tr>\n",
       "            <tr>\n",
       "                        <th id=\"T_89aab548_4bc7_11eb_bb95_0242ac130202level0_row1\" class=\"row_heading level0 row1\" >w_rotated</th>\n",
       "                        <td id=\"T_89aab548_4bc7_11eb_bb95_0242ac130202row1_col0\" class=\"data row1 col0\" >nan</td>\n",
       "                        <td id=\"T_89aab548_4bc7_11eb_bb95_0242ac130202row1_col1\" class=\"data row1 col1\" >0.927</td>\n",
       "                        <td id=\"T_89aab548_4bc7_11eb_bb95_0242ac130202row1_col2\" class=\"data row1 col2\" >0.468</td>\n",
       "                        <td id=\"T_89aab548_4bc7_11eb_bb95_0242ac130202row1_col3\" class=\"data row1 col3\" >0.983</td>\n",
       "                        <td id=\"T_89aab548_4bc7_11eb_bb95_0242ac130202row1_col4\" class=\"data row1 col4\" >0.665</td>\n",
       "                        <td id=\"T_89aab548_4bc7_11eb_bb95_0242ac130202row1_col5\" class=\"data row1 col5\" >nan</td>\n",
       "                        <td id=\"T_89aab548_4bc7_11eb_bb95_0242ac130202row1_col6\" class=\"data row1 col6\" >nan</td>\n",
       "            </tr>\n",
       "            <tr>\n",
       "                        <th id=\"T_89aab548_4bc7_11eb_bb95_0242ac130202level0_row2\" class=\"row_heading level0 row2\" >y</th>\n",
       "                        <td id=\"T_89aab548_4bc7_11eb_bb95_0242ac130202row2_col0\" class=\"data row2 col0\" >nan</td>\n",
       "                        <td id=\"T_89aab548_4bc7_11eb_bb95_0242ac130202row2_col1\" class=\"data row2 col1\" >1.524</td>\n",
       "                        <td id=\"T_89aab548_4bc7_11eb_bb95_0242ac130202row2_col2\" class=\"data row2 col2\" >nan</td>\n",
       "                        <td id=\"T_89aab548_4bc7_11eb_bb95_0242ac130202row2_col3\" class=\"data row2 col3\" >nan</td>\n",
       "                        <td id=\"T_89aab548_4bc7_11eb_bb95_0242ac130202row2_col4\" class=\"data row2 col4\" >nan</td>\n",
       "                        <td id=\"T_89aab548_4bc7_11eb_bb95_0242ac130202row2_col5\" class=\"data row2 col5\" >nan</td>\n",
       "                        <td id=\"T_89aab548_4bc7_11eb_bb95_0242ac130202row2_col6\" class=\"data row2 col6\" >nan</td>\n",
       "            </tr>\n",
       "    </tbody></table>"
      ],
      "text/plain": [
       "<pandas.io.formats.style.Styler at 0x7fb1356e6990>"
      ]
     },
     "metadata": {},
     "output_type": "display_data"
    },
    {
     "data": {
      "text/html": [
       "<style  type=\"text/css\" >\n",
       "#T_89adc54e_4bc7_11eb_bb95_0242ac130202row0_col0,#T_89adc54e_4bc7_11eb_bb95_0242ac130202row0_col1,#T_89adc54e_4bc7_11eb_bb95_0242ac130202row0_col6,#T_89adc54e_4bc7_11eb_bb95_0242ac130202row1_col0,#T_89adc54e_4bc7_11eb_bb95_0242ac130202row1_col1,#T_89adc54e_4bc7_11eb_bb95_0242ac130202row1_col6,#T_89adc54e_4bc7_11eb_bb95_0242ac130202row2_col0,#T_89adc54e_4bc7_11eb_bb95_0242ac130202row2_col1,#T_89adc54e_4bc7_11eb_bb95_0242ac130202row2_col3,#T_89adc54e_4bc7_11eb_bb95_0242ac130202row2_col4,#T_89adc54e_4bc7_11eb_bb95_0242ac130202row2_col5,#T_89adc54e_4bc7_11eb_bb95_0242ac130202row2_col6{\n",
       "            max-width:  50px;\n",
       "        }#T_89adc54e_4bc7_11eb_bb95_0242ac130202row0_col2{\n",
       "            width:  10em;\n",
       "             height:  80%;\n",
       "            background:  linear-gradient(90deg,#11ff66 29.7%, transparent 29.7%);\n",
       "            max-width:  50px;\n",
       "        }#T_89adc54e_4bc7_11eb_bb95_0242ac130202row0_col3,#T_89adc54e_4bc7_11eb_bb95_0242ac130202row1_col4,#T_89adc54e_4bc7_11eb_bb95_0242ac130202row1_col5,#T_89adc54e_4bc7_11eb_bb95_0242ac130202row2_col2{\n",
       "            width:  10em;\n",
       "             height:  80%;\n",
       "            background:  linear-gradient(90deg,#11ff66 100.0%, transparent 100.0%);\n",
       "            max-width:  50px;\n",
       "        }#T_89adc54e_4bc7_11eb_bb95_0242ac130202row0_col4{\n",
       "            width:  10em;\n",
       "             height:  80%;\n",
       "            background:  linear-gradient(90deg,#11ff66 77.9%, transparent 77.9%);\n",
       "            max-width:  50px;\n",
       "        }#T_89adc54e_4bc7_11eb_bb95_0242ac130202row0_col5{\n",
       "            width:  10em;\n",
       "             height:  80%;\n",
       "            background:  linear-gradient(90deg,#11ff66 38.0%, transparent 38.0%);\n",
       "            max-width:  50px;\n",
       "        }#T_89adc54e_4bc7_11eb_bb95_0242ac130202row1_col2{\n",
       "            width:  10em;\n",
       "             height:  80%;\n",
       "            background:  linear-gradient(90deg,#11ff66 55.5%, transparent 55.5%);\n",
       "            max-width:  50px;\n",
       "        }#T_89adc54e_4bc7_11eb_bb95_0242ac130202row1_col3{\n",
       "            width:  10em;\n",
       "             height:  80%;\n",
       "            background:  linear-gradient(90deg,#11ff66 75.4%, transparent 75.4%);\n",
       "            max-width:  50px;\n",
       "        }</style><table id=\"T_89adc54e_4bc7_11eb_bb95_0242ac130202\" ><thead>    <tr>        <th class=\"blank level0\" ></th>        <th class=\"col_heading level0 col0\" >0</th>        <th class=\"col_heading level0 col1\" >1</th>        <th class=\"col_heading level0 col2\" >2</th>        <th class=\"col_heading level0 col3\" >3</th>        <th class=\"col_heading level0 col4\" >4</th>        <th class=\"col_heading level0 col5\" >5</th>        <th class=\"col_heading level0 col6\" >6</th>    </tr></thead><tbody>\n",
       "                <tr>\n",
       "                        <th id=\"T_89adc54e_4bc7_11eb_bb95_0242ac130202level0_row0\" class=\"row_heading level0 row0\" >x</th>\n",
       "                        <td id=\"T_89adc54e_4bc7_11eb_bb95_0242ac130202row0_col0\" class=\"data row0 col0\" >0.351</td>\n",
       "                        <td id=\"T_89adc54e_4bc7_11eb_bb95_0242ac130202row0_col1\" class=\"data row0 col1\" >0.185</td>\n",
       "                        <td id=\"T_89adc54e_4bc7_11eb_bb95_0242ac130202row0_col2\" class=\"data row0 col2\" >0.496</td>\n",
       "                        <td id=\"T_89adc54e_4bc7_11eb_bb95_0242ac130202row0_col3\" class=\"data row0 col3\" >0.621</td>\n",
       "                        <td id=\"T_89adc54e_4bc7_11eb_bb95_0242ac130202row0_col4\" class=\"data row0 col4\" >0.766</td>\n",
       "                        <td id=\"T_89adc54e_4bc7_11eb_bb95_0242ac130202row0_col5\" class=\"data row0 col5\" >0.253</td>\n",
       "                        <td id=\"T_89adc54e_4bc7_11eb_bb95_0242ac130202row0_col6\" class=\"data row0 col6\" >0.948</td>\n",
       "            </tr>\n",
       "            <tr>\n",
       "                        <th id=\"T_89adc54e_4bc7_11eb_bb95_0242ac130202level0_row1\" class=\"row_heading level0 row1\" >w_rotated</th>\n",
       "                        <td id=\"T_89adc54e_4bc7_11eb_bb95_0242ac130202row1_col0\" class=\"data row1 col0\" >nan</td>\n",
       "                        <td id=\"T_89adc54e_4bc7_11eb_bb95_0242ac130202row1_col1\" class=\"data row1 col1\" >nan</td>\n",
       "                        <td id=\"T_89adc54e_4bc7_11eb_bb95_0242ac130202row1_col2\" class=\"data row1 col2\" >0.927</td>\n",
       "                        <td id=\"T_89adc54e_4bc7_11eb_bb95_0242ac130202row1_col3\" class=\"data row1 col3\" >0.468</td>\n",
       "                        <td id=\"T_89adc54e_4bc7_11eb_bb95_0242ac130202row1_col4\" class=\"data row1 col4\" >0.983</td>\n",
       "                        <td id=\"T_89adc54e_4bc7_11eb_bb95_0242ac130202row1_col5\" class=\"data row1 col5\" >0.665</td>\n",
       "                        <td id=\"T_89adc54e_4bc7_11eb_bb95_0242ac130202row1_col6\" class=\"data row1 col6\" >nan</td>\n",
       "            </tr>\n",
       "            <tr>\n",
       "                        <th id=\"T_89adc54e_4bc7_11eb_bb95_0242ac130202level0_row2\" class=\"row_heading level0 row2\" >y</th>\n",
       "                        <td id=\"T_89adc54e_4bc7_11eb_bb95_0242ac130202row2_col0\" class=\"data row2 col0\" >nan</td>\n",
       "                        <td id=\"T_89adc54e_4bc7_11eb_bb95_0242ac130202row2_col1\" class=\"data row2 col1\" >nan</td>\n",
       "                        <td id=\"T_89adc54e_4bc7_11eb_bb95_0242ac130202row2_col2\" class=\"data row2 col2\" >1.672</td>\n",
       "                        <td id=\"T_89adc54e_4bc7_11eb_bb95_0242ac130202row2_col3\" class=\"data row2 col3\" >nan</td>\n",
       "                        <td id=\"T_89adc54e_4bc7_11eb_bb95_0242ac130202row2_col4\" class=\"data row2 col4\" >nan</td>\n",
       "                        <td id=\"T_89adc54e_4bc7_11eb_bb95_0242ac130202row2_col5\" class=\"data row2 col5\" >nan</td>\n",
       "                        <td id=\"T_89adc54e_4bc7_11eb_bb95_0242ac130202row2_col6\" class=\"data row2 col6\" >nan</td>\n",
       "            </tr>\n",
       "    </tbody></table>"
      ],
      "text/plain": [
       "<pandas.io.formats.style.Styler at 0x7fb135743bd0>"
      ]
     },
     "metadata": {},
     "output_type": "display_data"
    },
    {
     "data": {
      "text/html": [
       "<style  type=\"text/css\" >\n",
       "#T_89b0e3b4_4bc7_11eb_bb95_0242ac130202row0_col0,#T_89b0e3b4_4bc7_11eb_bb95_0242ac130202row0_col1,#T_89b0e3b4_4bc7_11eb_bb95_0242ac130202row0_col2,#T_89b0e3b4_4bc7_11eb_bb95_0242ac130202row1_col0,#T_89b0e3b4_4bc7_11eb_bb95_0242ac130202row1_col1,#T_89b0e3b4_4bc7_11eb_bb95_0242ac130202row1_col2,#T_89b0e3b4_4bc7_11eb_bb95_0242ac130202row2_col0,#T_89b0e3b4_4bc7_11eb_bb95_0242ac130202row2_col1,#T_89b0e3b4_4bc7_11eb_bb95_0242ac130202row2_col2,#T_89b0e3b4_4bc7_11eb_bb95_0242ac130202row2_col4,#T_89b0e3b4_4bc7_11eb_bb95_0242ac130202row2_col5,#T_89b0e3b4_4bc7_11eb_bb95_0242ac130202row2_col6{\n",
       "            max-width:  50px;\n",
       "        }#T_89b0e3b4_4bc7_11eb_bb95_0242ac130202row0_col3{\n",
       "            width:  10em;\n",
       "             height:  80%;\n",
       "            background:  linear-gradient(90deg,#11ff66 34.3%, transparent 34.3%);\n",
       "            max-width:  50px;\n",
       "        }#T_89b0e3b4_4bc7_11eb_bb95_0242ac130202row0_col4,#T_89b0e3b4_4bc7_11eb_bb95_0242ac130202row0_col6,#T_89b0e3b4_4bc7_11eb_bb95_0242ac130202row1_col5,#T_89b0e3b4_4bc7_11eb_bb95_0242ac130202row2_col3{\n",
       "            width:  10em;\n",
       "             height:  80%;\n",
       "            background:  linear-gradient(90deg,#11ff66 100.0%, transparent 100.0%);\n",
       "            max-width:  50px;\n",
       "        }#T_89b0e3b4_4bc7_11eb_bb95_0242ac130202row0_col5{\n",
       "            width:  10em;\n",
       "             height:  80%;\n",
       "            background:  linear-gradient(90deg,#11ff66 25.7%, transparent 25.7%);\n",
       "            max-width:  50px;\n",
       "        }#T_89b0e3b4_4bc7_11eb_bb95_0242ac130202row1_col3{\n",
       "            width:  10em;\n",
       "             height:  80%;\n",
       "            background:  linear-gradient(90deg,#11ff66 51.1%, transparent 51.1%);\n",
       "            max-width:  50px;\n",
       "        }#T_89b0e3b4_4bc7_11eb_bb95_0242ac130202row1_col4{\n",
       "            width:  10em;\n",
       "             height:  80%;\n",
       "            background:  linear-gradient(90deg,#11ff66 61.2%, transparent 61.2%);\n",
       "            max-width:  50px;\n",
       "        }#T_89b0e3b4_4bc7_11eb_bb95_0242ac130202row1_col6{\n",
       "            width:  10em;\n",
       "             height:  80%;\n",
       "            background:  linear-gradient(90deg,#11ff66 70.1%, transparent 70.1%);\n",
       "            max-width:  50px;\n",
       "        }</style><table id=\"T_89b0e3b4_4bc7_11eb_bb95_0242ac130202\" ><thead>    <tr>        <th class=\"blank level0\" ></th>        <th class=\"col_heading level0 col0\" >0</th>        <th class=\"col_heading level0 col1\" >1</th>        <th class=\"col_heading level0 col2\" >2</th>        <th class=\"col_heading level0 col3\" >3</th>        <th class=\"col_heading level0 col4\" >4</th>        <th class=\"col_heading level0 col5\" >5</th>        <th class=\"col_heading level0 col6\" >6</th>    </tr></thead><tbody>\n",
       "                <tr>\n",
       "                        <th id=\"T_89b0e3b4_4bc7_11eb_bb95_0242ac130202level0_row0\" class=\"row_heading level0 row0\" >x</th>\n",
       "                        <td id=\"T_89b0e3b4_4bc7_11eb_bb95_0242ac130202row0_col0\" class=\"data row0 col0\" >0.351</td>\n",
       "                        <td id=\"T_89b0e3b4_4bc7_11eb_bb95_0242ac130202row0_col1\" class=\"data row0 col1\" >0.185</td>\n",
       "                        <td id=\"T_89b0e3b4_4bc7_11eb_bb95_0242ac130202row0_col2\" class=\"data row0 col2\" >0.496</td>\n",
       "                        <td id=\"T_89b0e3b4_4bc7_11eb_bb95_0242ac130202row0_col3\" class=\"data row0 col3\" >0.621</td>\n",
       "                        <td id=\"T_89b0e3b4_4bc7_11eb_bb95_0242ac130202row0_col4\" class=\"data row0 col4\" >0.766</td>\n",
       "                        <td id=\"T_89b0e3b4_4bc7_11eb_bb95_0242ac130202row0_col5\" class=\"data row0 col5\" >0.253</td>\n",
       "                        <td id=\"T_89b0e3b4_4bc7_11eb_bb95_0242ac130202row0_col6\" class=\"data row0 col6\" >0.948</td>\n",
       "            </tr>\n",
       "            <tr>\n",
       "                        <th id=\"T_89b0e3b4_4bc7_11eb_bb95_0242ac130202level0_row1\" class=\"row_heading level0 row1\" >w_rotated</th>\n",
       "                        <td id=\"T_89b0e3b4_4bc7_11eb_bb95_0242ac130202row1_col0\" class=\"data row1 col0\" >nan</td>\n",
       "                        <td id=\"T_89b0e3b4_4bc7_11eb_bb95_0242ac130202row1_col1\" class=\"data row1 col1\" >nan</td>\n",
       "                        <td id=\"T_89b0e3b4_4bc7_11eb_bb95_0242ac130202row1_col2\" class=\"data row1 col2\" >nan</td>\n",
       "                        <td id=\"T_89b0e3b4_4bc7_11eb_bb95_0242ac130202row1_col3\" class=\"data row1 col3\" >0.927</td>\n",
       "                        <td id=\"T_89b0e3b4_4bc7_11eb_bb95_0242ac130202row1_col4\" class=\"data row1 col4\" >0.468</td>\n",
       "                        <td id=\"T_89b0e3b4_4bc7_11eb_bb95_0242ac130202row1_col5\" class=\"data row1 col5\" >0.983</td>\n",
       "                        <td id=\"T_89b0e3b4_4bc7_11eb_bb95_0242ac130202row1_col6\" class=\"data row1 col6\" >0.665</td>\n",
       "            </tr>\n",
       "            <tr>\n",
       "                        <th id=\"T_89b0e3b4_4bc7_11eb_bb95_0242ac130202level0_row2\" class=\"row_heading level0 row2\" >y</th>\n",
       "                        <td id=\"T_89b0e3b4_4bc7_11eb_bb95_0242ac130202row2_col0\" class=\"data row2 col0\" >nan</td>\n",
       "                        <td id=\"T_89b0e3b4_4bc7_11eb_bb95_0242ac130202row2_col1\" class=\"data row2 col1\" >nan</td>\n",
       "                        <td id=\"T_89b0e3b4_4bc7_11eb_bb95_0242ac130202row2_col2\" class=\"data row2 col2\" >nan</td>\n",
       "                        <td id=\"T_89b0e3b4_4bc7_11eb_bb95_0242ac130202row2_col3\" class=\"data row2 col3\" >1.813</td>\n",
       "                        <td id=\"T_89b0e3b4_4bc7_11eb_bb95_0242ac130202row2_col4\" class=\"data row2 col4\" >nan</td>\n",
       "                        <td id=\"T_89b0e3b4_4bc7_11eb_bb95_0242ac130202row2_col5\" class=\"data row2 col5\" >nan</td>\n",
       "                        <td id=\"T_89b0e3b4_4bc7_11eb_bb95_0242ac130202row2_col6\" class=\"data row2 col6\" >nan</td>\n",
       "            </tr>\n",
       "    </tbody></table>"
      ],
      "text/plain": [
       "<pandas.io.formats.style.Styler at 0x7fb135754610>"
      ]
     },
     "metadata": {},
     "output_type": "display_data"
    }
   ],
   "source": [
    "def conv_step(x,i):\n",
    "    y=np.dot(x[i:i+len(w)],w_rotated)\n",
    "    display(\n",
    "        pd.DataFrame([x,i*[np.nan]+list(w_rotated),\n",
    "                      i*[np.nan]+[y]],\n",
    "                     index=['x','w_rotated','y'])\\\n",
    "        .style.bar(align='mid',color=c1,\n",
    "                   subset=list(range(i,i+len(w))))\\\n",
    "        .set_properties(**{'max-width':'50px'}))  \n",
    "for i in range(len(x)-len(w)+1): conv_step(x,i)"
   ]
  },
  {
   "cell_type": "code",
   "execution_count": 7,
   "metadata": {
    "execution": {
     "iopub.execute_input": "2021-01-01T00:23:14.632978Z",
     "iopub.status.busy": "2021-01-01T00:23:14.624112Z",
     "iopub.status.idle": "2021-01-01T00:23:14.706232Z",
     "shell.execute_reply": "2021-01-01T00:23:14.705641Z"
    },
    "papermill": {
     "duration": 0.118029,
     "end_time": "2021-01-01T00:23:14.706341",
     "exception": false,
     "start_time": "2021-01-01T00:23:14.588312",
     "status": "completed"
    },
    "tags": []
   },
   "outputs": [
    {
     "data": {
      "text/html": [
       "<style  type=\"text/css\" >\n",
       "#T_89c103a2_4bc7_11eb_bb95_0242ac130202row0_col0{\n",
       "            background-color:  #d1edcb;\n",
       "            color:  #000000;\n",
       "            max-width:  50px;\n",
       "            height:  50px;\n",
       "        }#T_89c103a2_4bc7_11eb_bb95_0242ac130202row0_col1,#T_89c103a2_4bc7_11eb_bb95_0242ac130202row1_col0,#T_89c103a2_4bc7_11eb_bb95_0242ac130202row1_col1,#T_89c103a2_4bc7_11eb_bb95_0242ac130202row1_col9,#T_89c103a2_4bc7_11eb_bb95_0242ac130202row1_col10,#T_89c103a2_4bc7_11eb_bb95_0242ac130202row2_col2,#T_89c103a2_4bc7_11eb_bb95_0242ac130202row3_col1{\n",
       "            background-color:  #f7fcf0;\n",
       "            color:  #000000;\n",
       "            max-width:  50px;\n",
       "            height:  50px;\n",
       "        }#T_89c103a2_4bc7_11eb_bb95_0242ac130202row0_col2{\n",
       "            background-color:  #9cd9b9;\n",
       "            color:  #000000;\n",
       "            max-width:  50px;\n",
       "            height:  50px;\n",
       "        }#T_89c103a2_4bc7_11eb_bb95_0242ac130202row0_col3{\n",
       "            background-color:  #61bdcd;\n",
       "            color:  #000000;\n",
       "            max-width:  50px;\n",
       "            height:  50px;\n",
       "        }#T_89c103a2_4bc7_11eb_bb95_0242ac130202row0_col4{\n",
       "            background-color:  #2889bc;\n",
       "            color:  #000000;\n",
       "            max-width:  50px;\n",
       "            height:  50px;\n",
       "        }#T_89c103a2_4bc7_11eb_bb95_0242ac130202row0_col5{\n",
       "            background-color:  #e7f6e2;\n",
       "            color:  #000000;\n",
       "            max-width:  50px;\n",
       "            height:  50px;\n",
       "        }#T_89c103a2_4bc7_11eb_bb95_0242ac130202row0_col6,#T_89c103a2_4bc7_11eb_bb95_0242ac130202row1_col8,#T_89c103a2_4bc7_11eb_bb95_0242ac130202row2_col1,#T_89c103a2_4bc7_11eb_bb95_0242ac130202row3_col2{\n",
       "            background-color:  #084081;\n",
       "            color:  #f1f1f1;\n",
       "            max-width:  50px;\n",
       "            height:  50px;\n",
       "        }#T_89c103a2_4bc7_11eb_bb95_0242ac130202row0_col7,#T_89c103a2_4bc7_11eb_bb95_0242ac130202row0_col8,#T_89c103a2_4bc7_11eb_bb95_0242ac130202row0_col9,#T_89c103a2_4bc7_11eb_bb95_0242ac130202row0_col10,#T_89c103a2_4bc7_11eb_bb95_0242ac130202row2_col4,#T_89c103a2_4bc7_11eb_bb95_0242ac130202row2_col5,#T_89c103a2_4bc7_11eb_bb95_0242ac130202row2_col6,#T_89c103a2_4bc7_11eb_bb95_0242ac130202row2_col7,#T_89c103a2_4bc7_11eb_bb95_0242ac130202row2_col8,#T_89c103a2_4bc7_11eb_bb95_0242ac130202row2_col9,#T_89c103a2_4bc7_11eb_bb95_0242ac130202row2_col10,#T_89c103a2_4bc7_11eb_bb95_0242ac130202row3_col4,#T_89c103a2_4bc7_11eb_bb95_0242ac130202row3_col5,#T_89c103a2_4bc7_11eb_bb95_0242ac130202row3_col6,#T_89c103a2_4bc7_11eb_bb95_0242ac130202row3_col7,#T_89c103a2_4bc7_11eb_bb95_0242ac130202row3_col8,#T_89c103a2_4bc7_11eb_bb95_0242ac130202row3_col9,#T_89c103a2_4bc7_11eb_bb95_0242ac130202row3_col10{\n",
       "            background-color:  #000000;\n",
       "            color:  #f1f1f1;\n",
       "            max-width:  50px;\n",
       "            height:  50px;\n",
       "        }#T_89c103a2_4bc7_11eb_bb95_0242ac130202row1_col2{\n",
       "            background-color:  #aadeb6;\n",
       "            color:  #000000;\n",
       "            max-width:  50px;\n",
       "            height:  50px;\n",
       "        }#T_89c103a2_4bc7_11eb_bb95_0242ac130202row1_col3{\n",
       "            background-color:  #d5eece;\n",
       "            color:  #000000;\n",
       "            max-width:  50px;\n",
       "            height:  50px;\n",
       "        }#T_89c103a2_4bc7_11eb_bb95_0242ac130202row1_col4{\n",
       "            background-color:  #73c8c7;\n",
       "            color:  #000000;\n",
       "            max-width:  50px;\n",
       "            height:  50px;\n",
       "        }#T_89c103a2_4bc7_11eb_bb95_0242ac130202row1_col5{\n",
       "            background-color:  #46aace;\n",
       "            color:  #000000;\n",
       "            max-width:  50px;\n",
       "            height:  50px;\n",
       "        }#T_89c103a2_4bc7_11eb_bb95_0242ac130202row1_col6{\n",
       "            background-color:  #1b7bb6;\n",
       "            color:  #000000;\n",
       "            max-width:  50px;\n",
       "            height:  50px;\n",
       "        }#T_89c103a2_4bc7_11eb_bb95_0242ac130202row1_col7{\n",
       "            background-color:  #c7e9c3;\n",
       "            color:  #000000;\n",
       "            max-width:  50px;\n",
       "            height:  50px;\n",
       "        }#T_89c103a2_4bc7_11eb_bb95_0242ac130202row2_col0,#T_89c103a2_4bc7_11eb_bb95_0242ac130202row3_col3{\n",
       "            background-color:  #a6dcb6;\n",
       "            color:  #000000;\n",
       "            max-width:  50px;\n",
       "            height:  50px;\n",
       "        }#T_89c103a2_4bc7_11eb_bb95_0242ac130202row2_col3,#T_89c103a2_4bc7_11eb_bb95_0242ac130202row3_col0{\n",
       "            background-color:  #0862a5;\n",
       "            color:  #f1f1f1;\n",
       "            max-width:  50px;\n",
       "            height:  50px;\n",
       "        }</style><table id=\"T_89c103a2_4bc7_11eb_bb95_0242ac130202\" ><thead>    <tr>        <th class=\"blank level0\" ></th>        <th class=\"col_heading level0 col0\" >0</th>        <th class=\"col_heading level0 col1\" >1</th>        <th class=\"col_heading level0 col2\" >2</th>        <th class=\"col_heading level0 col3\" >3</th>        <th class=\"col_heading level0 col4\" >4</th>        <th class=\"col_heading level0 col5\" >5</th>        <th class=\"col_heading level0 col6\" >6</th>        <th class=\"col_heading level0 col7\" >7</th>        <th class=\"col_heading level0 col8\" >8</th>        <th class=\"col_heading level0 col9\" >9</th>        <th class=\"col_heading level0 col10\" >10</th>    </tr></thead><tbody>\n",
       "                <tr>\n",
       "                        <th id=\"T_89c103a2_4bc7_11eb_bb95_0242ac130202level0_row0\" class=\"row_heading level0 row0\" >x</th>\n",
       "                        <td id=\"T_89c103a2_4bc7_11eb_bb95_0242ac130202row0_col0\" class=\"data row0 col0\" >0.351</td>\n",
       "                        <td id=\"T_89c103a2_4bc7_11eb_bb95_0242ac130202row0_col1\" class=\"data row0 col1\" >0.185</td>\n",
       "                        <td id=\"T_89c103a2_4bc7_11eb_bb95_0242ac130202row0_col2\" class=\"data row0 col2\" >0.496</td>\n",
       "                        <td id=\"T_89c103a2_4bc7_11eb_bb95_0242ac130202row0_col3\" class=\"data row0 col3\" >0.621</td>\n",
       "                        <td id=\"T_89c103a2_4bc7_11eb_bb95_0242ac130202row0_col4\" class=\"data row0 col4\" >0.766</td>\n",
       "                        <td id=\"T_89c103a2_4bc7_11eb_bb95_0242ac130202row0_col5\" class=\"data row0 col5\" >0.253</td>\n",
       "                        <td id=\"T_89c103a2_4bc7_11eb_bb95_0242ac130202row0_col6\" class=\"data row0 col6\" >0.948</td>\n",
       "                        <td id=\"T_89c103a2_4bc7_11eb_bb95_0242ac130202row0_col7\" class=\"data row0 col7\" >nan</td>\n",
       "                        <td id=\"T_89c103a2_4bc7_11eb_bb95_0242ac130202row0_col8\" class=\"data row0 col8\" >nan</td>\n",
       "                        <td id=\"T_89c103a2_4bc7_11eb_bb95_0242ac130202row0_col9\" class=\"data row0 col9\" >nan</td>\n",
       "                        <td id=\"T_89c103a2_4bc7_11eb_bb95_0242ac130202row0_col10\" class=\"data row0 col10\" >nan</td>\n",
       "            </tr>\n",
       "            <tr>\n",
       "                        <th id=\"T_89c103a2_4bc7_11eb_bb95_0242ac130202level0_row1\" class=\"row_heading level0 row1\" >padded x</th>\n",
       "                        <td id=\"T_89c103a2_4bc7_11eb_bb95_0242ac130202row1_col0\" class=\"data row1 col0\" >0.000</td>\n",
       "                        <td id=\"T_89c103a2_4bc7_11eb_bb95_0242ac130202row1_col1\" class=\"data row1 col1\" >0.000</td>\n",
       "                        <td id=\"T_89c103a2_4bc7_11eb_bb95_0242ac130202row1_col2\" class=\"data row1 col2\" >0.351</td>\n",
       "                        <td id=\"T_89c103a2_4bc7_11eb_bb95_0242ac130202row1_col3\" class=\"data row1 col3\" >0.185</td>\n",
       "                        <td id=\"T_89c103a2_4bc7_11eb_bb95_0242ac130202row1_col4\" class=\"data row1 col4\" >0.496</td>\n",
       "                        <td id=\"T_89c103a2_4bc7_11eb_bb95_0242ac130202row1_col5\" class=\"data row1 col5\" >0.621</td>\n",
       "                        <td id=\"T_89c103a2_4bc7_11eb_bb95_0242ac130202row1_col6\" class=\"data row1 col6\" >0.766</td>\n",
       "                        <td id=\"T_89c103a2_4bc7_11eb_bb95_0242ac130202row1_col7\" class=\"data row1 col7\" >0.253</td>\n",
       "                        <td id=\"T_89c103a2_4bc7_11eb_bb95_0242ac130202row1_col8\" class=\"data row1 col8\" >0.948</td>\n",
       "                        <td id=\"T_89c103a2_4bc7_11eb_bb95_0242ac130202row1_col9\" class=\"data row1 col9\" >0.000</td>\n",
       "                        <td id=\"T_89c103a2_4bc7_11eb_bb95_0242ac130202row1_col10\" class=\"data row1 col10\" >0.000</td>\n",
       "            </tr>\n",
       "            <tr>\n",
       "                        <th id=\"T_89c103a2_4bc7_11eb_bb95_0242ac130202level0_row2\" class=\"row_heading level0 row2\" >w</th>\n",
       "                        <td id=\"T_89c103a2_4bc7_11eb_bb95_0242ac130202row2_col0\" class=\"data row2 col0\" >0.665</td>\n",
       "                        <td id=\"T_89c103a2_4bc7_11eb_bb95_0242ac130202row2_col1\" class=\"data row2 col1\" >0.983</td>\n",
       "                        <td id=\"T_89c103a2_4bc7_11eb_bb95_0242ac130202row2_col2\" class=\"data row2 col2\" >0.468</td>\n",
       "                        <td id=\"T_89c103a2_4bc7_11eb_bb95_0242ac130202row2_col3\" class=\"data row2 col3\" >0.927</td>\n",
       "                        <td id=\"T_89c103a2_4bc7_11eb_bb95_0242ac130202row2_col4\" class=\"data row2 col4\" >nan</td>\n",
       "                        <td id=\"T_89c103a2_4bc7_11eb_bb95_0242ac130202row2_col5\" class=\"data row2 col5\" >nan</td>\n",
       "                        <td id=\"T_89c103a2_4bc7_11eb_bb95_0242ac130202row2_col6\" class=\"data row2 col6\" >nan</td>\n",
       "                        <td id=\"T_89c103a2_4bc7_11eb_bb95_0242ac130202row2_col7\" class=\"data row2 col7\" >nan</td>\n",
       "                        <td id=\"T_89c103a2_4bc7_11eb_bb95_0242ac130202row2_col8\" class=\"data row2 col8\" >nan</td>\n",
       "                        <td id=\"T_89c103a2_4bc7_11eb_bb95_0242ac130202row2_col9\" class=\"data row2 col9\" >nan</td>\n",
       "                        <td id=\"T_89c103a2_4bc7_11eb_bb95_0242ac130202row2_col10\" class=\"data row2 col10\" >nan</td>\n",
       "            </tr>\n",
       "            <tr>\n",
       "                        <th id=\"T_89c103a2_4bc7_11eb_bb95_0242ac130202level0_row3\" class=\"row_heading level0 row3\" >rotated w</th>\n",
       "                        <td id=\"T_89c103a2_4bc7_11eb_bb95_0242ac130202row3_col0\" class=\"data row3 col0\" >0.927</td>\n",
       "                        <td id=\"T_89c103a2_4bc7_11eb_bb95_0242ac130202row3_col1\" class=\"data row3 col1\" >0.468</td>\n",
       "                        <td id=\"T_89c103a2_4bc7_11eb_bb95_0242ac130202row3_col2\" class=\"data row3 col2\" >0.983</td>\n",
       "                        <td id=\"T_89c103a2_4bc7_11eb_bb95_0242ac130202row3_col3\" class=\"data row3 col3\" >0.665</td>\n",
       "                        <td id=\"T_89c103a2_4bc7_11eb_bb95_0242ac130202row3_col4\" class=\"data row3 col4\" >nan</td>\n",
       "                        <td id=\"T_89c103a2_4bc7_11eb_bb95_0242ac130202row3_col5\" class=\"data row3 col5\" >nan</td>\n",
       "                        <td id=\"T_89c103a2_4bc7_11eb_bb95_0242ac130202row3_col6\" class=\"data row3 col6\" >nan</td>\n",
       "                        <td id=\"T_89c103a2_4bc7_11eb_bb95_0242ac130202row3_col7\" class=\"data row3 col7\" >nan</td>\n",
       "                        <td id=\"T_89c103a2_4bc7_11eb_bb95_0242ac130202row3_col8\" class=\"data row3 col8\" >nan</td>\n",
       "                        <td id=\"T_89c103a2_4bc7_11eb_bb95_0242ac130202row3_col9\" class=\"data row3 col9\" >nan</td>\n",
       "                        <td id=\"T_89c103a2_4bc7_11eb_bb95_0242ac130202row3_col10\" class=\"data row3 col10\" >nan</td>\n",
       "            </tr>\n",
       "    </tbody></table>"
      ],
      "text/plain": [
       "<pandas.io.formats.style.Styler at 0x7fb13562b610>"
      ]
     },
     "metadata": {},
     "output_type": "display_data"
    },
    {
     "data": {
      "text/html": [
       "<style  type=\"text/css\" >\n",
       "#T_89c629d6_4bc7_11eb_bb95_0242ac130202row0_col0,#T_89c629d6_4bc7_11eb_bb95_0242ac130202row1_col0{\n",
       "            background-color:  #f7fcf0;\n",
       "            color:  #000000;\n",
       "            max-width:  50px;\n",
       "            height:  50px;\n",
       "        }#T_89c629d6_4bc7_11eb_bb95_0242ac130202row0_col1,#T_89c629d6_4bc7_11eb_bb95_0242ac130202row1_col1{\n",
       "            background-color:  #dcf1d6;\n",
       "            color:  #000000;\n",
       "            max-width:  50px;\n",
       "            height:  50px;\n",
       "        }#T_89c629d6_4bc7_11eb_bb95_0242ac130202row0_col2,#T_89c629d6_4bc7_11eb_bb95_0242ac130202row1_col2{\n",
       "            background-color:  #4db2d3;\n",
       "            color:  #000000;\n",
       "            max-width:  50px;\n",
       "            height:  50px;\n",
       "        }#T_89c629d6_4bc7_11eb_bb95_0242ac130202row0_col3,#T_89c629d6_4bc7_11eb_bb95_0242ac130202row1_col3{\n",
       "            background-color:  #2182b9;\n",
       "            color:  #000000;\n",
       "            max-width:  50px;\n",
       "            height:  50px;\n",
       "        }#T_89c629d6_4bc7_11eb_bb95_0242ac130202row0_col4,#T_89c629d6_4bc7_11eb_bb95_0242ac130202row1_col4{\n",
       "            background-color:  #0861a4;\n",
       "            color:  #f1f1f1;\n",
       "            max-width:  50px;\n",
       "            height:  50px;\n",
       "        }#T_89c629d6_4bc7_11eb_bb95_0242ac130202row0_col5,#T_89c629d6_4bc7_11eb_bb95_0242ac130202row1_col5{\n",
       "            background-color:  #084081;\n",
       "            color:  #f1f1f1;\n",
       "            max-width:  50px;\n",
       "            height:  50px;\n",
       "        }#T_89c629d6_4bc7_11eb_bb95_0242ac130202row0_col6,#T_89c629d6_4bc7_11eb_bb95_0242ac130202row1_col6{\n",
       "            background-color:  #084d8e;\n",
       "            color:  #f1f1f1;\n",
       "            max-width:  50px;\n",
       "            height:  50px;\n",
       "        }</style><table id=\"T_89c629d6_4bc7_11eb_bb95_0242ac130202\" ><thead>    <tr>        <th class=\"blank level0\" ></th>        <th class=\"col_heading level0 col0\" >0</th>        <th class=\"col_heading level0 col1\" >1</th>        <th class=\"col_heading level0 col2\" >2</th>        <th class=\"col_heading level0 col3\" >3</th>        <th class=\"col_heading level0 col4\" >4</th>        <th class=\"col_heading level0 col5\" >5</th>        <th class=\"col_heading level0 col6\" >6</th>    </tr></thead><tbody>\n",
       "                <tr>\n",
       "                        <th id=\"T_89c629d6_4bc7_11eb_bb95_0242ac130202level0_row0\" class=\"row_heading level0 row0\" >conv1d</th>\n",
       "                        <td id=\"T_89c629d6_4bc7_11eb_bb95_0242ac130202row0_col0\" class=\"data row0 col0\" >0.469</td>\n",
       "                        <td id=\"T_89c629d6_4bc7_11eb_bb95_0242ac130202row0_col1\" class=\"data row0 col1\" >0.677</td>\n",
       "                        <td id=\"T_89c629d6_4bc7_11eb_bb95_0242ac130202row0_col2\" class=\"data row0 col2\" >1.313</td>\n",
       "                        <td id=\"T_89c629d6_4bc7_11eb_bb95_0242ac130202row0_col3\" class=\"data row0 col3\" >1.524</td>\n",
       "                        <td id=\"T_89c629d6_4bc7_11eb_bb95_0242ac130202row0_col4\" class=\"data row0 col4\" >1.672</td>\n",
       "                        <td id=\"T_89c629d6_4bc7_11eb_bb95_0242ac130202row0_col5\" class=\"data row0 col5\" >1.813</td>\n",
       "                        <td id=\"T_89c629d6_4bc7_11eb_bb95_0242ac130202row0_col6\" class=\"data row0 col6\" >1.760</td>\n",
       "            </tr>\n",
       "            <tr>\n",
       "                        <th id=\"T_89c629d6_4bc7_11eb_bb95_0242ac130202level0_row1\" class=\"row_heading level0 row1\" >numpy convolve</th>\n",
       "                        <td id=\"T_89c629d6_4bc7_11eb_bb95_0242ac130202row1_col0\" class=\"data row1 col0\" >0.469</td>\n",
       "                        <td id=\"T_89c629d6_4bc7_11eb_bb95_0242ac130202row1_col1\" class=\"data row1 col1\" >0.677</td>\n",
       "                        <td id=\"T_89c629d6_4bc7_11eb_bb95_0242ac130202row1_col2\" class=\"data row1 col2\" >1.313</td>\n",
       "                        <td id=\"T_89c629d6_4bc7_11eb_bb95_0242ac130202row1_col3\" class=\"data row1 col3\" >1.524</td>\n",
       "                        <td id=\"T_89c629d6_4bc7_11eb_bb95_0242ac130202row1_col4\" class=\"data row1 col4\" >1.672</td>\n",
       "                        <td id=\"T_89c629d6_4bc7_11eb_bb95_0242ac130202row1_col5\" class=\"data row1 col5\" >1.813</td>\n",
       "                        <td id=\"T_89c629d6_4bc7_11eb_bb95_0242ac130202row1_col6\" class=\"data row1 col6\" >1.760</td>\n",
       "            </tr>\n",
       "    </tbody></table>"
      ],
      "text/plain": [
       "<pandas.io.formats.style.Styler at 0x7fb135695ed0>"
      ]
     },
     "metadata": {},
     "output_type": "display_data"
    }
   ],
   "source": [
    "def conv1d(x,w,p,s):\n",
    "    w_rotated=np.array(w[::-1])\n",
    "    x_padded=np.array(x)\n",
    "    w_length=w_rotated.shape[0]\n",
    "    x_length=x_padded.shape[0]+p*2\n",
    "    if p>0:\n",
    "        zero_pad=np.zeros(shape=p)\n",
    "        x_padded=np.concatenate([zero_pad,x_padded,zero_pad])\n",
    "    df_with_styling([x,x_padded,w,w_rotated],\n",
    "                    index=['x','padded x','w','rotated w'])\n",
    "    result=[]; steps=int((x_length-w_length)/s)+w_length%2\n",
    "    for i in range(0,steps,s):\n",
    "        result.append(np.sum(x_padded[i:i+w_length]*w_rotated))\n",
    "    return np.array(result)\n",
    "df_with_styling([conv1d(x,w,p=2,s=1),\n",
    "                 np.convolve(x,w,mode='same')],\n",
    "                index=['conv1d','numpy convolve'])"
   ]
  },
  {
   "cell_type": "code",
   "execution_count": 8,
   "metadata": {
    "execution": {
     "iopub.execute_input": "2021-01-01T00:23:14.771394Z",
     "iopub.status.busy": "2021-01-01T00:23:14.767008Z",
     "iopub.status.idle": "2021-01-01T00:23:14.814139Z",
     "shell.execute_reply": "2021-01-01T00:23:14.813466Z"
    },
    "papermill": {
     "duration": 0.084122,
     "end_time": "2021-01-01T00:23:14.814251",
     "exception": false,
     "start_time": "2021-01-01T00:23:14.730129",
     "status": "completed"
    },
    "tags": []
   },
   "outputs": [
    {
     "data": {
      "text/html": [
       "<style  type=\"text/css\" >\n",
       "#T_89d5e8e4_4bc7_11eb_bb95_0242ac130202row0_col0{\n",
       "            background-color:  #d1edcb;\n",
       "            color:  #000000;\n",
       "            max-width:  50px;\n",
       "            height:  50px;\n",
       "        }#T_89d5e8e4_4bc7_11eb_bb95_0242ac130202row0_col1,#T_89d5e8e4_4bc7_11eb_bb95_0242ac130202row1_col2,#T_89d5e8e4_4bc7_11eb_bb95_0242ac130202row2_col0,#T_89d5e8e4_4bc7_11eb_bb95_0242ac130202row3_col0,#T_89d5e8e4_4bc7_11eb_bb95_0242ac130202row4_col0{\n",
       "            background-color:  #f7fcf0;\n",
       "            color:  #000000;\n",
       "            max-width:  50px;\n",
       "            height:  50px;\n",
       "        }#T_89d5e8e4_4bc7_11eb_bb95_0242ac130202row0_col2,#T_89d5e8e4_4bc7_11eb_bb95_0242ac130202row2_col9{\n",
       "            background-color:  #9cd9b9;\n",
       "            color:  #000000;\n",
       "            max-width:  50px;\n",
       "            height:  50px;\n",
       "        }#T_89d5e8e4_4bc7_11eb_bb95_0242ac130202row0_col3{\n",
       "            background-color:  #61bdcd;\n",
       "            color:  #000000;\n",
       "            max-width:  50px;\n",
       "            height:  50px;\n",
       "        }#T_89d5e8e4_4bc7_11eb_bb95_0242ac130202row0_col4{\n",
       "            background-color:  #2889bc;\n",
       "            color:  #000000;\n",
       "            max-width:  50px;\n",
       "            height:  50px;\n",
       "        }#T_89d5e8e4_4bc7_11eb_bb95_0242ac130202row0_col5{\n",
       "            background-color:  #e7f6e2;\n",
       "            color:  #000000;\n",
       "            max-width:  50px;\n",
       "            height:  50px;\n",
       "        }#T_89d5e8e4_4bc7_11eb_bb95_0242ac130202row0_col6,#T_89d5e8e4_4bc7_11eb_bb95_0242ac130202row1_col1,#T_89d5e8e4_4bc7_11eb_bb95_0242ac130202row2_col6,#T_89d5e8e4_4bc7_11eb_bb95_0242ac130202row3_col5,#T_89d5e8e4_4bc7_11eb_bb95_0242ac130202row4_col3{\n",
       "            background-color:  #084081;\n",
       "            color:  #f1f1f1;\n",
       "            max-width:  50px;\n",
       "            height:  50px;\n",
       "        }#T_89d5e8e4_4bc7_11eb_bb95_0242ac130202row0_col7,#T_89d5e8e4_4bc7_11eb_bb95_0242ac130202row0_col8,#T_89d5e8e4_4bc7_11eb_bb95_0242ac130202row0_col9,#T_89d5e8e4_4bc7_11eb_bb95_0242ac130202row1_col4,#T_89d5e8e4_4bc7_11eb_bb95_0242ac130202row1_col5,#T_89d5e8e4_4bc7_11eb_bb95_0242ac130202row1_col6,#T_89d5e8e4_4bc7_11eb_bb95_0242ac130202row1_col7,#T_89d5e8e4_4bc7_11eb_bb95_0242ac130202row1_col8,#T_89d5e8e4_4bc7_11eb_bb95_0242ac130202row1_col9,#T_89d5e8e4_4bc7_11eb_bb95_0242ac130202row3_col7,#T_89d5e8e4_4bc7_11eb_bb95_0242ac130202row3_col8,#T_89d5e8e4_4bc7_11eb_bb95_0242ac130202row3_col9,#T_89d5e8e4_4bc7_11eb_bb95_0242ac130202row4_col4,#T_89d5e8e4_4bc7_11eb_bb95_0242ac130202row4_col5,#T_89d5e8e4_4bc7_11eb_bb95_0242ac130202row4_col6,#T_89d5e8e4_4bc7_11eb_bb95_0242ac130202row4_col7,#T_89d5e8e4_4bc7_11eb_bb95_0242ac130202row4_col8,#T_89d5e8e4_4bc7_11eb_bb95_0242ac130202row4_col9{\n",
       "            background-color:  #000000;\n",
       "            color:  #f1f1f1;\n",
       "            max-width:  50px;\n",
       "            height:  50px;\n",
       "        }#T_89d5e8e4_4bc7_11eb_bb95_0242ac130202row1_col0{\n",
       "            background-color:  #a6dcb6;\n",
       "            color:  #000000;\n",
       "            max-width:  50px;\n",
       "            height:  50px;\n",
       "        }#T_89d5e8e4_4bc7_11eb_bb95_0242ac130202row1_col3{\n",
       "            background-color:  #0862a5;\n",
       "            color:  #f1f1f1;\n",
       "            max-width:  50px;\n",
       "            height:  50px;\n",
       "        }#T_89d5e8e4_4bc7_11eb_bb95_0242ac130202row2_col1{\n",
       "            background-color:  #dcf1d7;\n",
       "            color:  #000000;\n",
       "            max-width:  50px;\n",
       "            height:  50px;\n",
       "        }#T_89d5e8e4_4bc7_11eb_bb95_0242ac130202row2_col2{\n",
       "            background-color:  #c4e8c1;\n",
       "            color:  #000000;\n",
       "            max-width:  50px;\n",
       "            height:  50px;\n",
       "        }#T_89d5e8e4_4bc7_11eb_bb95_0242ac130202row2_col3{\n",
       "            background-color:  #3ea1c9;\n",
       "            color:  #000000;\n",
       "            max-width:  50px;\n",
       "            height:  50px;\n",
       "        }#T_89d5e8e4_4bc7_11eb_bb95_0242ac130202row2_col4{\n",
       "            background-color:  #1878b4;\n",
       "            color:  #f1f1f1;\n",
       "            max-width:  50px;\n",
       "            height:  50px;\n",
       "        }#T_89d5e8e4_4bc7_11eb_bb95_0242ac130202row2_col5{\n",
       "            background-color:  #085c9f;\n",
       "            color:  #f1f1f1;\n",
       "            max-width:  50px;\n",
       "            height:  50px;\n",
       "        }#T_89d5e8e4_4bc7_11eb_bb95_0242ac130202row2_col7{\n",
       "            background-color:  #084a8c;\n",
       "            color:  #f1f1f1;\n",
       "            max-width:  50px;\n",
       "            height:  50px;\n",
       "        }#T_89d5e8e4_4bc7_11eb_bb95_0242ac130202row2_col8{\n",
       "            background-color:  #c3e7c1;\n",
       "            color:  #000000;\n",
       "            max-width:  50px;\n",
       "            height:  50px;\n",
       "        }#T_89d5e8e4_4bc7_11eb_bb95_0242ac130202row3_col1{\n",
       "            background-color:  #dcf1d6;\n",
       "            color:  #000000;\n",
       "            max-width:  50px;\n",
       "            height:  50px;\n",
       "        }#T_89d5e8e4_4bc7_11eb_bb95_0242ac130202row3_col2{\n",
       "            background-color:  #4db2d3;\n",
       "            color:  #000000;\n",
       "            max-width:  50px;\n",
       "            height:  50px;\n",
       "        }#T_89d5e8e4_4bc7_11eb_bb95_0242ac130202row3_col3{\n",
       "            background-color:  #2182b9;\n",
       "            color:  #000000;\n",
       "            max-width:  50px;\n",
       "            height:  50px;\n",
       "        }#T_89d5e8e4_4bc7_11eb_bb95_0242ac130202row3_col4{\n",
       "            background-color:  #0861a4;\n",
       "            color:  #f1f1f1;\n",
       "            max-width:  50px;\n",
       "            height:  50px;\n",
       "        }#T_89d5e8e4_4bc7_11eb_bb95_0242ac130202row3_col6{\n",
       "            background-color:  #084d8e;\n",
       "            color:  #f1f1f1;\n",
       "            max-width:  50px;\n",
       "            height:  50px;\n",
       "        }#T_89d5e8e4_4bc7_11eb_bb95_0242ac130202row4_col1{\n",
       "            background-color:  #98d7ba;\n",
       "            color:  #000000;\n",
       "            max-width:  50px;\n",
       "            height:  50px;\n",
       "        }#T_89d5e8e4_4bc7_11eb_bb95_0242ac130202row4_col2{\n",
       "            background-color:  #3496c3;\n",
       "            color:  #000000;\n",
       "            max-width:  50px;\n",
       "            height:  50px;\n",
       "        }</style><table id=\"T_89d5e8e4_4bc7_11eb_bb95_0242ac130202\" ><thead>    <tr>        <th class=\"blank level0\" ></th>        <th class=\"col_heading level0 col0\" >0</th>        <th class=\"col_heading level0 col1\" >1</th>        <th class=\"col_heading level0 col2\" >2</th>        <th class=\"col_heading level0 col3\" >3</th>        <th class=\"col_heading level0 col4\" >4</th>        <th class=\"col_heading level0 col5\" >5</th>        <th class=\"col_heading level0 col6\" >6</th>        <th class=\"col_heading level0 col7\" >7</th>        <th class=\"col_heading level0 col8\" >8</th>        <th class=\"col_heading level0 col9\" >9</th>    </tr></thead><tbody>\n",
       "                <tr>\n",
       "                        <th id=\"T_89d5e8e4_4bc7_11eb_bb95_0242ac130202level0_row0\" class=\"row_heading level0 row0\" >0</th>\n",
       "                        <td id=\"T_89d5e8e4_4bc7_11eb_bb95_0242ac130202row0_col0\" class=\"data row0 col0\" >0.351</td>\n",
       "                        <td id=\"T_89d5e8e4_4bc7_11eb_bb95_0242ac130202row0_col1\" class=\"data row0 col1\" >0.185</td>\n",
       "                        <td id=\"T_89d5e8e4_4bc7_11eb_bb95_0242ac130202row0_col2\" class=\"data row0 col2\" >0.496</td>\n",
       "                        <td id=\"T_89d5e8e4_4bc7_11eb_bb95_0242ac130202row0_col3\" class=\"data row0 col3\" >0.621</td>\n",
       "                        <td id=\"T_89d5e8e4_4bc7_11eb_bb95_0242ac130202row0_col4\" class=\"data row0 col4\" >0.766</td>\n",
       "                        <td id=\"T_89d5e8e4_4bc7_11eb_bb95_0242ac130202row0_col5\" class=\"data row0 col5\" >0.253</td>\n",
       "                        <td id=\"T_89d5e8e4_4bc7_11eb_bb95_0242ac130202row0_col6\" class=\"data row0 col6\" >0.948</td>\n",
       "                        <td id=\"T_89d5e8e4_4bc7_11eb_bb95_0242ac130202row0_col7\" class=\"data row0 col7\" >nan</td>\n",
       "                        <td id=\"T_89d5e8e4_4bc7_11eb_bb95_0242ac130202row0_col8\" class=\"data row0 col8\" >nan</td>\n",
       "                        <td id=\"T_89d5e8e4_4bc7_11eb_bb95_0242ac130202row0_col9\" class=\"data row0 col9\" >nan</td>\n",
       "            </tr>\n",
       "            <tr>\n",
       "                        <th id=\"T_89d5e8e4_4bc7_11eb_bb95_0242ac130202level0_row1\" class=\"row_heading level0 row1\" >1</th>\n",
       "                        <td id=\"T_89d5e8e4_4bc7_11eb_bb95_0242ac130202row1_col0\" class=\"data row1 col0\" >0.665</td>\n",
       "                        <td id=\"T_89d5e8e4_4bc7_11eb_bb95_0242ac130202row1_col1\" class=\"data row1 col1\" >0.983</td>\n",
       "                        <td id=\"T_89d5e8e4_4bc7_11eb_bb95_0242ac130202row1_col2\" class=\"data row1 col2\" >0.468</td>\n",
       "                        <td id=\"T_89d5e8e4_4bc7_11eb_bb95_0242ac130202row1_col3\" class=\"data row1 col3\" >0.927</td>\n",
       "                        <td id=\"T_89d5e8e4_4bc7_11eb_bb95_0242ac130202row1_col4\" class=\"data row1 col4\" >nan</td>\n",
       "                        <td id=\"T_89d5e8e4_4bc7_11eb_bb95_0242ac130202row1_col5\" class=\"data row1 col5\" >nan</td>\n",
       "                        <td id=\"T_89d5e8e4_4bc7_11eb_bb95_0242ac130202row1_col6\" class=\"data row1 col6\" >nan</td>\n",
       "                        <td id=\"T_89d5e8e4_4bc7_11eb_bb95_0242ac130202row1_col7\" class=\"data row1 col7\" >nan</td>\n",
       "                        <td id=\"T_89d5e8e4_4bc7_11eb_bb95_0242ac130202row1_col8\" class=\"data row1 col8\" >nan</td>\n",
       "                        <td id=\"T_89d5e8e4_4bc7_11eb_bb95_0242ac130202row1_col9\" class=\"data row1 col9\" >nan</td>\n",
       "            </tr>\n",
       "            <tr>\n",
       "                        <th id=\"T_89d5e8e4_4bc7_11eb_bb95_0242ac130202level0_row2\" class=\"row_heading level0 row2\" >2</th>\n",
       "                        <td id=\"T_89d5e8e4_4bc7_11eb_bb95_0242ac130202row2_col0\" class=\"data row2 col0\" >0.233</td>\n",
       "                        <td id=\"T_89d5e8e4_4bc7_11eb_bb95_0242ac130202row2_col1\" class=\"data row2 col1\" >0.469</td>\n",
       "                        <td id=\"T_89d5e8e4_4bc7_11eb_bb95_0242ac130202row2_col2\" class=\"data row2 col2\" >0.677</td>\n",
       "                        <td id=\"T_89d5e8e4_4bc7_11eb_bb95_0242ac130202row2_col3\" class=\"data row2 col3\" >1.313</td>\n",
       "                        <td id=\"T_89d5e8e4_4bc7_11eb_bb95_0242ac130202row2_col4\" class=\"data row2 col4\" >1.524</td>\n",
       "                        <td id=\"T_89d5e8e4_4bc7_11eb_bb95_0242ac130202row2_col5\" class=\"data row2 col5\" >1.672</td>\n",
       "                        <td id=\"T_89d5e8e4_4bc7_11eb_bb95_0242ac130202row2_col6\" class=\"data row2 col6\" >1.813</td>\n",
       "                        <td id=\"T_89d5e8e4_4bc7_11eb_bb95_0242ac130202row2_col7\" class=\"data row2 col7\" >1.760</td>\n",
       "                        <td id=\"T_89d5e8e4_4bc7_11eb_bb95_0242ac130202row2_col8\" class=\"data row2 col8\" >0.678</td>\n",
       "                        <td id=\"T_89d5e8e4_4bc7_11eb_bb95_0242ac130202row2_col9\" class=\"data row2 col9\" >0.879</td>\n",
       "            </tr>\n",
       "            <tr>\n",
       "                        <th id=\"T_89d5e8e4_4bc7_11eb_bb95_0242ac130202level0_row3\" class=\"row_heading level0 row3\" >3</th>\n",
       "                        <td id=\"T_89d5e8e4_4bc7_11eb_bb95_0242ac130202row3_col0\" class=\"data row3 col0\" >0.469</td>\n",
       "                        <td id=\"T_89d5e8e4_4bc7_11eb_bb95_0242ac130202row3_col1\" class=\"data row3 col1\" >0.677</td>\n",
       "                        <td id=\"T_89d5e8e4_4bc7_11eb_bb95_0242ac130202row3_col2\" class=\"data row3 col2\" >1.313</td>\n",
       "                        <td id=\"T_89d5e8e4_4bc7_11eb_bb95_0242ac130202row3_col3\" class=\"data row3 col3\" >1.524</td>\n",
       "                        <td id=\"T_89d5e8e4_4bc7_11eb_bb95_0242ac130202row3_col4\" class=\"data row3 col4\" >1.672</td>\n",
       "                        <td id=\"T_89d5e8e4_4bc7_11eb_bb95_0242ac130202row3_col5\" class=\"data row3 col5\" >1.813</td>\n",
       "                        <td id=\"T_89d5e8e4_4bc7_11eb_bb95_0242ac130202row3_col6\" class=\"data row3 col6\" >1.760</td>\n",
       "                        <td id=\"T_89d5e8e4_4bc7_11eb_bb95_0242ac130202row3_col7\" class=\"data row3 col7\" >nan</td>\n",
       "                        <td id=\"T_89d5e8e4_4bc7_11eb_bb95_0242ac130202row3_col8\" class=\"data row3 col8\" >nan</td>\n",
       "                        <td id=\"T_89d5e8e4_4bc7_11eb_bb95_0242ac130202row3_col9\" class=\"data row3 col9\" >nan</td>\n",
       "            </tr>\n",
       "            <tr>\n",
       "                        <th id=\"T_89d5e8e4_4bc7_11eb_bb95_0242ac130202level0_row4\" class=\"row_heading level0 row4\" >4</th>\n",
       "                        <td id=\"T_89d5e8e4_4bc7_11eb_bb95_0242ac130202row4_col0\" class=\"data row4 col0\" >1.313</td>\n",
       "                        <td id=\"T_89d5e8e4_4bc7_11eb_bb95_0242ac130202row4_col1\" class=\"data row4 col1\" >1.524</td>\n",
       "                        <td id=\"T_89d5e8e4_4bc7_11eb_bb95_0242ac130202row4_col2\" class=\"data row4 col2\" >1.672</td>\n",
       "                        <td id=\"T_89d5e8e4_4bc7_11eb_bb95_0242ac130202row4_col3\" class=\"data row4 col3\" >1.813</td>\n",
       "                        <td id=\"T_89d5e8e4_4bc7_11eb_bb95_0242ac130202row4_col4\" class=\"data row4 col4\" >nan</td>\n",
       "                        <td id=\"T_89d5e8e4_4bc7_11eb_bb95_0242ac130202row4_col5\" class=\"data row4 col5\" >nan</td>\n",
       "                        <td id=\"T_89d5e8e4_4bc7_11eb_bb95_0242ac130202row4_col6\" class=\"data row4 col6\" >nan</td>\n",
       "                        <td id=\"T_89d5e8e4_4bc7_11eb_bb95_0242ac130202row4_col7\" class=\"data row4 col7\" >nan</td>\n",
       "                        <td id=\"T_89d5e8e4_4bc7_11eb_bb95_0242ac130202row4_col8\" class=\"data row4 col8\" >nan</td>\n",
       "                        <td id=\"T_89d5e8e4_4bc7_11eb_bb95_0242ac130202row4_col9\" class=\"data row4 col9\" >nan</td>\n",
       "            </tr>\n",
       "    </tbody></table>"
      ],
      "text/plain": [
       "<pandas.io.formats.style.Styler at 0x7fb1356e6710>"
      ]
     },
     "metadata": {},
     "output_type": "display_data"
    }
   ],
   "source": [
    "df_with_styling([x,w]+[np.convolve(x,w,mode=m) \n",
    "                for m in ['full','same','valid']],\n",
    "                index=range(5))"
   ]
  },
  {
   "cell_type": "code",
   "execution_count": 9,
   "metadata": {
    "_kg_hide-input": true,
    "execution": {
     "iopub.execute_input": "2021-01-01T00:23:14.869774Z",
     "iopub.status.busy": "2021-01-01T00:23:14.868513Z",
     "iopub.status.idle": "2021-01-01T00:23:14.874068Z",
     "shell.execute_reply": "2021-01-01T00:23:14.873407Z"
    },
    "papermill": {
     "duration": 0.034796,
     "end_time": "2021-01-01T00:23:14.874172",
     "exception": false,
     "start_time": "2021-01-01T00:23:14.839376",
     "status": "completed"
    },
    "tags": []
   },
   "outputs": [
    {
     "data": {
      "text/html": [
       "<style>\n",
       "    @import 'https://fonts.googleapis.com/css?family=Lobster';</style><h1 id='colored_font288115262' style='text-shadow:3px 3px 3px #11dd33; font-family:Lobster; color:#11ff66; font-size:30px; text-align:center; height:45.0px'>Conv2d Exploration</h1><script>var idc=setInterval(function() {var iddoc=document.getElementById('colored_font288115262'); var now=new Date().getTime(); var sec=Math.floor((now%(1000*60))/1000); var col='rgb(0,'+(255-Math.abs(245-8*sec))+','+(10+Math.abs(245-8*sec))+')'; iddoc.style.background=col;},100);</script>"
      ],
      "text/plain": [
       "<IPython.core.display.HTML object>"
      ]
     },
     "metadata": {},
     "output_type": "display_data"
    }
   ],
   "source": [
    "bhtml('Conv2d Exploration')"
   ]
  },
  {
   "cell_type": "code",
   "execution_count": 10,
   "metadata": {
    "_kg_hide-output": false,
    "execution": {
     "iopub.execute_input": "2021-01-01T00:23:14.941842Z",
     "iopub.status.busy": "2021-01-01T00:23:14.940578Z",
     "iopub.status.idle": "2021-01-01T00:23:14.977956Z",
     "shell.execute_reply": "2021-01-01T00:23:14.977426Z"
    },
    "papermill": {
     "duration": 0.078832,
     "end_time": "2021-01-01T00:23:14.978065",
     "exception": false,
     "start_time": "2021-01-01T00:23:14.899233",
     "status": "completed"
    },
    "tags": []
   },
   "outputs": [
    {
     "data": {
      "text/html": [
       "<style  type=\"text/css\" >\n",
       "#T_89ef05fe_4bc7_11eb_bb95_0242ac130202row0_col0,#T_89ef05fe_4bc7_11eb_bb95_0242ac130202row0_col1,#T_89ef05fe_4bc7_11eb_bb95_0242ac130202row0_col2,#T_89ef05fe_4bc7_11eb_bb95_0242ac130202row0_col3,#T_89ef05fe_4bc7_11eb_bb95_0242ac130202row0_col4,#T_89ef05fe_4bc7_11eb_bb95_0242ac130202row0_col5,#T_89ef05fe_4bc7_11eb_bb95_0242ac130202row0_col6,#T_89ef05fe_4bc7_11eb_bb95_0242ac130202row0_col7,#T_89ef05fe_4bc7_11eb_bb95_0242ac130202row1_col0,#T_89ef05fe_4bc7_11eb_bb95_0242ac130202row1_col1,#T_89ef05fe_4bc7_11eb_bb95_0242ac130202row1_col7,#T_89ef05fe_4bc7_11eb_bb95_0242ac130202row2_col0,#T_89ef05fe_4bc7_11eb_bb95_0242ac130202row2_col7,#T_89ef05fe_4bc7_11eb_bb95_0242ac130202row3_col0,#T_89ef05fe_4bc7_11eb_bb95_0242ac130202row3_col7,#T_89ef05fe_4bc7_11eb_bb95_0242ac130202row4_col0,#T_89ef05fe_4bc7_11eb_bb95_0242ac130202row4_col7,#T_89ef05fe_4bc7_11eb_bb95_0242ac130202row5_col0,#T_89ef05fe_4bc7_11eb_bb95_0242ac130202row5_col7,#T_89ef05fe_4bc7_11eb_bb95_0242ac130202row6_col0,#T_89ef05fe_4bc7_11eb_bb95_0242ac130202row6_col7,#T_89ef05fe_4bc7_11eb_bb95_0242ac130202row7_col0,#T_89ef05fe_4bc7_11eb_bb95_0242ac130202row7_col1,#T_89ef05fe_4bc7_11eb_bb95_0242ac130202row7_col2,#T_89ef05fe_4bc7_11eb_bb95_0242ac130202row7_col3,#T_89ef05fe_4bc7_11eb_bb95_0242ac130202row7_col4,#T_89ef05fe_4bc7_11eb_bb95_0242ac130202row7_col5,#T_89ef05fe_4bc7_11eb_bb95_0242ac130202row7_col6,#T_89ef05fe_4bc7_11eb_bb95_0242ac130202row7_col7{\n",
       "            background-color:  #f7fcf0;\n",
       "            color:  #000000;\n",
       "            max-width:  50px;\n",
       "            height:  50px;\n",
       "        }#T_89ef05fe_4bc7_11eb_bb95_0242ac130202row1_col2{\n",
       "            background-color:  #1475b2;\n",
       "            color:  #f1f1f1;\n",
       "            max-width:  50px;\n",
       "            height:  50px;\n",
       "        }#T_89ef05fe_4bc7_11eb_bb95_0242ac130202row1_col3,#T_89ef05fe_4bc7_11eb_bb95_0242ac130202row2_col5,#T_89ef05fe_4bc7_11eb_bb95_0242ac130202row3_col1,#T_89ef05fe_4bc7_11eb_bb95_0242ac130202row4_col3,#T_89ef05fe_4bc7_11eb_bb95_0242ac130202row5_col5,#T_89ef05fe_4bc7_11eb_bb95_0242ac130202row6_col4{\n",
       "            background-color:  #084081;\n",
       "            color:  #f1f1f1;\n",
       "            max-width:  50px;\n",
       "            height:  50px;\n",
       "        }#T_89ef05fe_4bc7_11eb_bb95_0242ac130202row1_col4{\n",
       "            background-color:  #8bd2bf;\n",
       "            color:  #000000;\n",
       "            max-width:  50px;\n",
       "            height:  50px;\n",
       "        }#T_89ef05fe_4bc7_11eb_bb95_0242ac130202row1_col5{\n",
       "            background-color:  #b3e1ba;\n",
       "            color:  #000000;\n",
       "            max-width:  50px;\n",
       "            height:  50px;\n",
       "        }#T_89ef05fe_4bc7_11eb_bb95_0242ac130202row1_col6{\n",
       "            background-color:  #3da0c9;\n",
       "            color:  #000000;\n",
       "            max-width:  50px;\n",
       "            height:  50px;\n",
       "        }#T_89ef05fe_4bc7_11eb_bb95_0242ac130202row2_col1{\n",
       "            background-color:  #b6e3bb;\n",
       "            color:  #000000;\n",
       "            max-width:  50px;\n",
       "            height:  50px;\n",
       "        }#T_89ef05fe_4bc7_11eb_bb95_0242ac130202row2_col2{\n",
       "            background-color:  #c9eac4;\n",
       "            color:  #000000;\n",
       "            max-width:  50px;\n",
       "            height:  50px;\n",
       "        }#T_89ef05fe_4bc7_11eb_bb95_0242ac130202row2_col3{\n",
       "            background-color:  #6bc3c9;\n",
       "            color:  #000000;\n",
       "            max-width:  50px;\n",
       "            height:  50px;\n",
       "        }#T_89ef05fe_4bc7_11eb_bb95_0242ac130202row2_col4{\n",
       "            background-color:  #d7efd1;\n",
       "            color:  #000000;\n",
       "            max-width:  50px;\n",
       "            height:  50px;\n",
       "        }#T_89ef05fe_4bc7_11eb_bb95_0242ac130202row2_col6{\n",
       "            background-color:  #e1f3dc;\n",
       "            color:  #000000;\n",
       "            max-width:  50px;\n",
       "            height:  50px;\n",
       "        }#T_89ef05fe_4bc7_11eb_bb95_0242ac130202row3_col2{\n",
       "            background-color:  #0a6aad;\n",
       "            color:  #f1f1f1;\n",
       "            max-width:  50px;\n",
       "            height:  50px;\n",
       "        }#T_89ef05fe_4bc7_11eb_bb95_0242ac130202row3_col3{\n",
       "            background-color:  #08589b;\n",
       "            color:  #f1f1f1;\n",
       "            max-width:  50px;\n",
       "            height:  50px;\n",
       "        }#T_89ef05fe_4bc7_11eb_bb95_0242ac130202row3_col4{\n",
       "            background-color:  #56b7d0;\n",
       "            color:  #000000;\n",
       "            max-width:  50px;\n",
       "            height:  50px;\n",
       "        }#T_89ef05fe_4bc7_11eb_bb95_0242ac130202row3_col5{\n",
       "            background-color:  #75c8c6;\n",
       "            color:  #000000;\n",
       "            max-width:  50px;\n",
       "            height:  50px;\n",
       "        }#T_89ef05fe_4bc7_11eb_bb95_0242ac130202row3_col6{\n",
       "            background-color:  #81cec2;\n",
       "            color:  #000000;\n",
       "            max-width:  50px;\n",
       "            height:  50px;\n",
       "        }#T_89ef05fe_4bc7_11eb_bb95_0242ac130202row4_col1{\n",
       "            background-color:  #b2e1b9;\n",
       "            color:  #000000;\n",
       "            max-width:  50px;\n",
       "            height:  50px;\n",
       "        }#T_89ef05fe_4bc7_11eb_bb95_0242ac130202row4_col2{\n",
       "            background-color:  #bfe6bf;\n",
       "            color:  #000000;\n",
       "            max-width:  50px;\n",
       "            height:  50px;\n",
       "        }#T_89ef05fe_4bc7_11eb_bb95_0242ac130202row4_col4{\n",
       "            background-color:  #7dcdc3;\n",
       "            color:  #000000;\n",
       "            max-width:  50px;\n",
       "            height:  50px;\n",
       "        }#T_89ef05fe_4bc7_11eb_bb95_0242ac130202row4_col5{\n",
       "            background-color:  #e7f6e2;\n",
       "            color:  #000000;\n",
       "            max-width:  50px;\n",
       "            height:  50px;\n",
       "        }#T_89ef05fe_4bc7_11eb_bb95_0242ac130202row4_col6{\n",
       "            background-color:  #b7e3bc;\n",
       "            color:  #000000;\n",
       "            max-width:  50px;\n",
       "            height:  50px;\n",
       "        }#T_89ef05fe_4bc7_11eb_bb95_0242ac130202row5_col1{\n",
       "            background-color:  #298abd;\n",
       "            color:  #000000;\n",
       "            max-width:  50px;\n",
       "            height:  50px;\n",
       "        }#T_89ef05fe_4bc7_11eb_bb95_0242ac130202row5_col2{\n",
       "            background-color:  #2889bc;\n",
       "            color:  #000000;\n",
       "            max-width:  50px;\n",
       "            height:  50px;\n",
       "        }#T_89ef05fe_4bc7_11eb_bb95_0242ac130202row5_col3{\n",
       "            background-color:  #54b6d1;\n",
       "            color:  #000000;\n",
       "            max-width:  50px;\n",
       "            height:  50px;\n",
       "        }#T_89ef05fe_4bc7_11eb_bb95_0242ac130202row5_col4{\n",
       "            background-color:  #3fa2ca;\n",
       "            color:  #000000;\n",
       "            max-width:  50px;\n",
       "            height:  50px;\n",
       "        }#T_89ef05fe_4bc7_11eb_bb95_0242ac130202row5_col6{\n",
       "            background-color:  #5fbdcd;\n",
       "            color:  #000000;\n",
       "            max-width:  50px;\n",
       "            height:  50px;\n",
       "        }#T_89ef05fe_4bc7_11eb_bb95_0242ac130202row6_col1{\n",
       "            background-color:  #6ec5c8;\n",
       "            color:  #000000;\n",
       "            max-width:  50px;\n",
       "            height:  50px;\n",
       "        }#T_89ef05fe_4bc7_11eb_bb95_0242ac130202row6_col2{\n",
       "            background-color:  #6cc4c9;\n",
       "            color:  #000000;\n",
       "            max-width:  50px;\n",
       "            height:  50px;\n",
       "        }#T_89ef05fe_4bc7_11eb_bb95_0242ac130202row6_col3{\n",
       "            background-color:  #cfecc8;\n",
       "            color:  #000000;\n",
       "            max-width:  50px;\n",
       "            height:  50px;\n",
       "        }#T_89ef05fe_4bc7_11eb_bb95_0242ac130202row6_col5{\n",
       "            background-color:  #4aafd1;\n",
       "            color:  #000000;\n",
       "            max-width:  50px;\n",
       "            height:  50px;\n",
       "        }#T_89ef05fe_4bc7_11eb_bb95_0242ac130202row6_col6{\n",
       "            background-color:  #aedfb8;\n",
       "            color:  #000000;\n",
       "            max-width:  50px;\n",
       "            height:  50px;\n",
       "        }</style><table id=\"T_89ef05fe_4bc7_11eb_bb95_0242ac130202\" ><thead>    <tr>        <th class=\"blank level0\" ></th>        <th class=\"col_heading level0 col0\" >0</th>        <th class=\"col_heading level0 col1\" >1</th>        <th class=\"col_heading level0 col2\" >2</th>        <th class=\"col_heading level0 col3\" >3</th>        <th class=\"col_heading level0 col4\" >4</th>        <th class=\"col_heading level0 col5\" >5</th>        <th class=\"col_heading level0 col6\" >6</th>        <th class=\"col_heading level0 col7\" >7</th>    </tr></thead><tbody>\n",
       "                <tr>\n",
       "                        <th id=\"T_89ef05fe_4bc7_11eb_bb95_0242ac130202level0_row0\" class=\"row_heading level0 row0\" >0</th>\n",
       "                        <td id=\"T_89ef05fe_4bc7_11eb_bb95_0242ac130202row0_col0\" class=\"data row0 col0\" >0.000</td>\n",
       "                        <td id=\"T_89ef05fe_4bc7_11eb_bb95_0242ac130202row0_col1\" class=\"data row0 col1\" >0.000</td>\n",
       "                        <td id=\"T_89ef05fe_4bc7_11eb_bb95_0242ac130202row0_col2\" class=\"data row0 col2\" >0.000</td>\n",
       "                        <td id=\"T_89ef05fe_4bc7_11eb_bb95_0242ac130202row0_col3\" class=\"data row0 col3\" >0.000</td>\n",
       "                        <td id=\"T_89ef05fe_4bc7_11eb_bb95_0242ac130202row0_col4\" class=\"data row0 col4\" >0.000</td>\n",
       "                        <td id=\"T_89ef05fe_4bc7_11eb_bb95_0242ac130202row0_col5\" class=\"data row0 col5\" >0.000</td>\n",
       "                        <td id=\"T_89ef05fe_4bc7_11eb_bb95_0242ac130202row0_col6\" class=\"data row0 col6\" >0.000</td>\n",
       "                        <td id=\"T_89ef05fe_4bc7_11eb_bb95_0242ac130202row0_col7\" class=\"data row0 col7\" >0.000</td>\n",
       "            </tr>\n",
       "            <tr>\n",
       "                        <th id=\"T_89ef05fe_4bc7_11eb_bb95_0242ac130202level0_row1\" class=\"row_heading level0 row1\" >1</th>\n",
       "                        <td id=\"T_89ef05fe_4bc7_11eb_bb95_0242ac130202row1_col0\" class=\"data row1 col0\" >0.000</td>\n",
       "                        <td id=\"T_89ef05fe_4bc7_11eb_bb95_0242ac130202row1_col1\" class=\"data row1 col1\" >0.003</td>\n",
       "                        <td id=\"T_89ef05fe_4bc7_11eb_bb95_0242ac130202row1_col2\" class=\"data row1 col2\" >0.752</td>\n",
       "                        <td id=\"T_89ef05fe_4bc7_11eb_bb95_0242ac130202row1_col3\" class=\"data row1 col3\" >0.905</td>\n",
       "                        <td id=\"T_89ef05fe_4bc7_11eb_bb95_0242ac130202row1_col4\" class=\"data row1 col4\" >0.413</td>\n",
       "                        <td id=\"T_89ef05fe_4bc7_11eb_bb95_0242ac130202row1_col5\" class=\"data row1 col5\" >0.305</td>\n",
       "                        <td id=\"T_89ef05fe_4bc7_11eb_bb95_0242ac130202row1_col6\" class=\"data row1 col6\" >0.619</td>\n",
       "                        <td id=\"T_89ef05fe_4bc7_11eb_bb95_0242ac130202row1_col7\" class=\"data row1 col7\" >0.000</td>\n",
       "            </tr>\n",
       "            <tr>\n",
       "                        <th id=\"T_89ef05fe_4bc7_11eb_bb95_0242ac130202level0_row2\" class=\"row_heading level0 row2\" >2</th>\n",
       "                        <td id=\"T_89ef05fe_4bc7_11eb_bb95_0242ac130202row2_col0\" class=\"data row2 col0\" >0.000</td>\n",
       "                        <td id=\"T_89ef05fe_4bc7_11eb_bb95_0242ac130202row2_col1\" class=\"data row2 col1\" >0.301</td>\n",
       "                        <td id=\"T_89ef05fe_4bc7_11eb_bb95_0242ac130202row2_col2\" class=\"data row2 col2\" >0.239</td>\n",
       "                        <td id=\"T_89ef05fe_4bc7_11eb_bb95_0242ac130202row2_col3\" class=\"data row2 col3\" >0.503</td>\n",
       "                        <td id=\"T_89ef05fe_4bc7_11eb_bb95_0242ac130202row2_col4\" class=\"data row2 col4\" >0.172</td>\n",
       "                        <td id=\"T_89ef05fe_4bc7_11eb_bb95_0242ac130202row2_col5\" class=\"data row2 col5\" >0.922</td>\n",
       "                        <td id=\"T_89ef05fe_4bc7_11eb_bb95_0242ac130202row2_col6\" class=\"data row2 col6\" >0.115</td>\n",
       "                        <td id=\"T_89ef05fe_4bc7_11eb_bb95_0242ac130202row2_col7\" class=\"data row2 col7\" >0.000</td>\n",
       "            </tr>\n",
       "            <tr>\n",
       "                        <th id=\"T_89ef05fe_4bc7_11eb_bb95_0242ac130202level0_row3\" class=\"row_heading level0 row3\" >3</th>\n",
       "                        <td id=\"T_89ef05fe_4bc7_11eb_bb95_0242ac130202row3_col0\" class=\"data row3 col0\" >0.000</td>\n",
       "                        <td id=\"T_89ef05fe_4bc7_11eb_bb95_0242ac130202row3_col1\" class=\"data row3 col1\" >0.932</td>\n",
       "                        <td id=\"T_89ef05fe_4bc7_11eb_bb95_0242ac130202row3_col2\" class=\"data row3 col2\" >0.805</td>\n",
       "                        <td id=\"T_89ef05fe_4bc7_11eb_bb95_0242ac130202row3_col3\" class=\"data row3 col3\" >0.861</td>\n",
       "                        <td id=\"T_89ef05fe_4bc7_11eb_bb95_0242ac130202row3_col4\" class=\"data row3 col4\" >0.563</td>\n",
       "                        <td id=\"T_89ef05fe_4bc7_11eb_bb95_0242ac130202row3_col5\" class=\"data row3 col5\" >0.483</td>\n",
       "                        <td id=\"T_89ef05fe_4bc7_11eb_bb95_0242ac130202row3_col6\" class=\"data row3 col6\" >0.450</td>\n",
       "                        <td id=\"T_89ef05fe_4bc7_11eb_bb95_0242ac130202row3_col7\" class=\"data row3 col7\" >0.000</td>\n",
       "            </tr>\n",
       "            <tr>\n",
       "                        <th id=\"T_89ef05fe_4bc7_11eb_bb95_0242ac130202level0_row4\" class=\"row_heading level0 row4\" >4</th>\n",
       "                        <td id=\"T_89ef05fe_4bc7_11eb_bb95_0242ac130202row4_col0\" class=\"data row4 col0\" >0.000</td>\n",
       "                        <td id=\"T_89ef05fe_4bc7_11eb_bb95_0242ac130202row4_col1\" class=\"data row4 col1\" >0.292</td>\n",
       "                        <td id=\"T_89ef05fe_4bc7_11eb_bb95_0242ac130202row4_col2\" class=\"data row4 col2\" >0.251</td>\n",
       "                        <td id=\"T_89ef05fe_4bc7_11eb_bb95_0242ac130202row4_col3\" class=\"data row4 col3\" >0.849</td>\n",
       "                        <td id=\"T_89ef05fe_4bc7_11eb_bb95_0242ac130202row4_col4\" class=\"data row4 col4\" >0.420</td>\n",
       "                        <td id=\"T_89ef05fe_4bc7_11eb_bb95_0242ac130202row4_col5\" class=\"data row4 col5\" >0.075</td>\n",
       "                        <td id=\"T_89ef05fe_4bc7_11eb_bb95_0242ac130202row4_col6\" class=\"data row4 col6\" >0.273</td>\n",
       "                        <td id=\"T_89ef05fe_4bc7_11eb_bb95_0242ac130202row4_col7\" class=\"data row4 col7\" >0.000</td>\n",
       "            </tr>\n",
       "            <tr>\n",
       "                        <th id=\"T_89ef05fe_4bc7_11eb_bb95_0242ac130202level0_row5\" class=\"row_heading level0 row5\" >5</th>\n",
       "                        <td id=\"T_89ef05fe_4bc7_11eb_bb95_0242ac130202row5_col0\" class=\"data row5 col0\" >0.000</td>\n",
       "                        <td id=\"T_89ef05fe_4bc7_11eb_bb95_0242ac130202row5_col1\" class=\"data row5 col1\" >0.492</td>\n",
       "                        <td id=\"T_89ef05fe_4bc7_11eb_bb95_0242ac130202row5_col2\" class=\"data row5 col2\" >0.494</td>\n",
       "                        <td id=\"T_89ef05fe_4bc7_11eb_bb95_0242ac130202row5_col3\" class=\"data row5 col3\" >0.396</td>\n",
       "                        <td id=\"T_89ef05fe_4bc7_11eb_bb95_0242ac130202row5_col4\" class=\"data row5 col4\" >0.443</td>\n",
       "                        <td id=\"T_89ef05fe_4bc7_11eb_bb95_0242ac130202row5_col5\" class=\"data row5 col5\" >0.651</td>\n",
       "                        <td id=\"T_89ef05fe_4bc7_11eb_bb95_0242ac130202row5_col6\" class=\"data row5 col6\" >0.375</td>\n",
       "                        <td id=\"T_89ef05fe_4bc7_11eb_bb95_0242ac130202row5_col7\" class=\"data row5 col7\" >0.000</td>\n",
       "            </tr>\n",
       "            <tr>\n",
       "                        <th id=\"T_89ef05fe_4bc7_11eb_bb95_0242ac130202level0_row6\" class=\"row_heading level0 row6\" >6</th>\n",
       "                        <td id=\"T_89ef05fe_4bc7_11eb_bb95_0242ac130202row6_col0\" class=\"data row6 col0\" >0.000</td>\n",
       "                        <td id=\"T_89ef05fe_4bc7_11eb_bb95_0242ac130202row6_col1\" class=\"data row6 col1\" >0.430</td>\n",
       "                        <td id=\"T_89ef05fe_4bc7_11eb_bb95_0242ac130202row6_col2\" class=\"data row6 col2\" >0.432</td>\n",
       "                        <td id=\"T_89ef05fe_4bc7_11eb_bb95_0242ac130202row6_col3\" class=\"data row6 col3\" >0.185</td>\n",
       "                        <td id=\"T_89ef05fe_4bc7_11eb_bb95_0242ac130202row6_col4\" class=\"data row6 col4\" >0.798</td>\n",
       "                        <td id=\"T_89ef05fe_4bc7_11eb_bb95_0242ac130202row6_col5\" class=\"data row6 col5\" >0.511</td>\n",
       "                        <td id=\"T_89ef05fe_4bc7_11eb_bb95_0242ac130202row6_col6\" class=\"data row6 col6\" >0.283</td>\n",
       "                        <td id=\"T_89ef05fe_4bc7_11eb_bb95_0242ac130202row6_col7\" class=\"data row6 col7\" >0.000</td>\n",
       "            </tr>\n",
       "            <tr>\n",
       "                        <th id=\"T_89ef05fe_4bc7_11eb_bb95_0242ac130202level0_row7\" class=\"row_heading level0 row7\" >7</th>\n",
       "                        <td id=\"T_89ef05fe_4bc7_11eb_bb95_0242ac130202row7_col0\" class=\"data row7 col0\" >0.000</td>\n",
       "                        <td id=\"T_89ef05fe_4bc7_11eb_bb95_0242ac130202row7_col1\" class=\"data row7 col1\" >0.000</td>\n",
       "                        <td id=\"T_89ef05fe_4bc7_11eb_bb95_0242ac130202row7_col2\" class=\"data row7 col2\" >0.000</td>\n",
       "                        <td id=\"T_89ef05fe_4bc7_11eb_bb95_0242ac130202row7_col3\" class=\"data row7 col3\" >0.000</td>\n",
       "                        <td id=\"T_89ef05fe_4bc7_11eb_bb95_0242ac130202row7_col4\" class=\"data row7 col4\" >0.000</td>\n",
       "                        <td id=\"T_89ef05fe_4bc7_11eb_bb95_0242ac130202row7_col5\" class=\"data row7 col5\" >0.000</td>\n",
       "                        <td id=\"T_89ef05fe_4bc7_11eb_bb95_0242ac130202row7_col6\" class=\"data row7 col6\" >0.000</td>\n",
       "                        <td id=\"T_89ef05fe_4bc7_11eb_bb95_0242ac130202row7_col7\" class=\"data row7 col7\" >0.000</td>\n",
       "            </tr>\n",
       "    </tbody></table>"
      ],
      "text/plain": [
       "<pandas.io.formats.style.Styler at 0x7fb135634f90>"
      ]
     },
     "metadata": {},
     "output_type": "display_data"
    }
   ],
   "source": [
    "num_X=6; p=[1,1]\n",
    "X=np.random.random([num_X,num_X])\n",
    "n1=X.shape[0]+2*p[0]\n",
    "n2=X.shape[1]+2*p[1]\n",
    "X_padded=np.zeros(shape=(n1,n2))\n",
    "X_padded[p[0]:p[0]+X.shape[0],\n",
    "         p[1]:p[1]+X.shape[1]]=X\n",
    "df_with_styling(X_padded,index=range(num_X+2))"
   ]
  },
  {
   "cell_type": "code",
   "execution_count": 11,
   "metadata": {
    "execution": {
     "iopub.execute_input": "2021-01-01T00:23:15.045706Z",
     "iopub.status.busy": "2021-01-01T00:23:15.040372Z",
     "iopub.status.idle": "2021-01-01T00:23:15.077082Z",
     "shell.execute_reply": "2021-01-01T00:23:15.076444Z"
    },
    "papermill": {
     "duration": 0.07288,
     "end_time": "2021-01-01T00:23:15.077186",
     "exception": false,
     "start_time": "2021-01-01T00:23:15.004306",
     "status": "completed"
    },
    "tags": []
   },
   "outputs": [
    {
     "data": {
      "text/html": [
       "<style  type=\"text/css\" >\n",
       "#T_89fc1cd0_4bc7_11eb_bb95_0242ac130202row0_col0{\n",
       "            background-color:  #084f91;\n",
       "            color:  #f1f1f1;\n",
       "            max-width:  50px;\n",
       "            height:  50px;\n",
       "        }#T_89fc1cd0_4bc7_11eb_bb95_0242ac130202row0_col1,#T_89fc1cd0_4bc7_11eb_bb95_0242ac130202row1_col0,#T_89fc1cd0_4bc7_11eb_bb95_0242ac130202row2_col0{\n",
       "            background-color:  #f7fcf0;\n",
       "            color:  #000000;\n",
       "            max-width:  50px;\n",
       "            height:  50px;\n",
       "        }#T_89fc1cd0_4bc7_11eb_bb95_0242ac130202row0_col2,#T_89fc1cd0_4bc7_11eb_bb95_0242ac130202row1_col1,#T_89fc1cd0_4bc7_11eb_bb95_0242ac130202row2_col2{\n",
       "            background-color:  #084081;\n",
       "            color:  #f1f1f1;\n",
       "            max-width:  50px;\n",
       "            height:  50px;\n",
       "        }#T_89fc1cd0_4bc7_11eb_bb95_0242ac130202row1_col2{\n",
       "            background-color:  #bbe4bd;\n",
       "            color:  #000000;\n",
       "            max-width:  50px;\n",
       "            height:  50px;\n",
       "        }#T_89fc1cd0_4bc7_11eb_bb95_0242ac130202row2_col1{\n",
       "            background-color:  #45a8cd;\n",
       "            color:  #000000;\n",
       "            max-width:  50px;\n",
       "            height:  50px;\n",
       "        }</style><table id=\"T_89fc1cd0_4bc7_11eb_bb95_0242ac130202\" ><thead>    <tr>        <th class=\"blank level0\" ></th>        <th class=\"col_heading level0 col0\" >0</th>        <th class=\"col_heading level0 col1\" >1</th>        <th class=\"col_heading level0 col2\" >2</th>    </tr></thead><tbody>\n",
       "                <tr>\n",
       "                        <th id=\"T_89fc1cd0_4bc7_11eb_bb95_0242ac130202level0_row0\" class=\"row_heading level0 row0\" >0</th>\n",
       "                        <td id=\"T_89fc1cd0_4bc7_11eb_bb95_0242ac130202row0_col0\" class=\"data row0 col0\" >0.692</td>\n",
       "                        <td id=\"T_89fc1cd0_4bc7_11eb_bb95_0242ac130202row0_col1\" class=\"data row0 col1\" >0.111</td>\n",
       "                        <td id=\"T_89fc1cd0_4bc7_11eb_bb95_0242ac130202row0_col2\" class=\"data row0 col2\" >0.722</td>\n",
       "            </tr>\n",
       "            <tr>\n",
       "                        <th id=\"T_89fc1cd0_4bc7_11eb_bb95_0242ac130202level0_row1\" class=\"row_heading level0 row1\" >1</th>\n",
       "                        <td id=\"T_89fc1cd0_4bc7_11eb_bb95_0242ac130202row1_col0\" class=\"data row1 col0\" >0.158</td>\n",
       "                        <td id=\"T_89fc1cd0_4bc7_11eb_bb95_0242ac130202row1_col1\" class=\"data row1 col1\" >0.906</td>\n",
       "                        <td id=\"T_89fc1cd0_4bc7_11eb_bb95_0242ac130202row1_col2\" class=\"data row1 col2\" >0.390</td>\n",
       "            </tr>\n",
       "            <tr>\n",
       "                        <th id=\"T_89fc1cd0_4bc7_11eb_bb95_0242ac130202level0_row2\" class=\"row_heading level0 row2\" >2</th>\n",
       "                        <td id=\"T_89fc1cd0_4bc7_11eb_bb95_0242ac130202row2_col0\" class=\"data row2 col0\" >0.545</td>\n",
       "                        <td id=\"T_89fc1cd0_4bc7_11eb_bb95_0242ac130202row2_col1\" class=\"data row2 col1\" >0.823</td>\n",
       "                        <td id=\"T_89fc1cd0_4bc7_11eb_bb95_0242ac130202row2_col2\" class=\"data row2 col2\" >0.966</td>\n",
       "            </tr>\n",
       "    </tbody></table>"
      ],
      "text/plain": [
       "<pandas.io.formats.style.Styler at 0x7fb13562afd0>"
      ]
     },
     "metadata": {},
     "output_type": "display_data"
    },
    {
     "data": {
      "text/html": [
       "<style  type=\"text/css\" >\n",
       "#T_89feece4_4bc7_11eb_bb95_0242ac130202row0_col0,#T_89feece4_4bc7_11eb_bb95_0242ac130202row1_col1,#T_89feece4_4bc7_11eb_bb95_0242ac130202row2_col0{\n",
       "            background-color:  #084081;\n",
       "            color:  #f1f1f1;\n",
       "            max-width:  50px;\n",
       "            height:  50px;\n",
       "        }#T_89feece4_4bc7_11eb_bb95_0242ac130202row0_col1{\n",
       "            background-color:  #45a8cd;\n",
       "            color:  #000000;\n",
       "            max-width:  50px;\n",
       "            height:  50px;\n",
       "        }#T_89feece4_4bc7_11eb_bb95_0242ac130202row0_col2,#T_89feece4_4bc7_11eb_bb95_0242ac130202row1_col2,#T_89feece4_4bc7_11eb_bb95_0242ac130202row2_col1{\n",
       "            background-color:  #f7fcf0;\n",
       "            color:  #000000;\n",
       "            max-width:  50px;\n",
       "            height:  50px;\n",
       "        }#T_89feece4_4bc7_11eb_bb95_0242ac130202row1_col0{\n",
       "            background-color:  #bbe4bd;\n",
       "            color:  #000000;\n",
       "            max-width:  50px;\n",
       "            height:  50px;\n",
       "        }#T_89feece4_4bc7_11eb_bb95_0242ac130202row2_col2{\n",
       "            background-color:  #084f91;\n",
       "            color:  #f1f1f1;\n",
       "            max-width:  50px;\n",
       "            height:  50px;\n",
       "        }</style><table id=\"T_89feece4_4bc7_11eb_bb95_0242ac130202\" ><thead>    <tr>        <th class=\"blank level0\" ></th>        <th class=\"col_heading level0 col0\" >0</th>        <th class=\"col_heading level0 col1\" >1</th>        <th class=\"col_heading level0 col2\" >2</th>    </tr></thead><tbody>\n",
       "                <tr>\n",
       "                        <th id=\"T_89feece4_4bc7_11eb_bb95_0242ac130202level0_row0\" class=\"row_heading level0 row0\" >0</th>\n",
       "                        <td id=\"T_89feece4_4bc7_11eb_bb95_0242ac130202row0_col0\" class=\"data row0 col0\" >0.966</td>\n",
       "                        <td id=\"T_89feece4_4bc7_11eb_bb95_0242ac130202row0_col1\" class=\"data row0 col1\" >0.823</td>\n",
       "                        <td id=\"T_89feece4_4bc7_11eb_bb95_0242ac130202row0_col2\" class=\"data row0 col2\" >0.545</td>\n",
       "            </tr>\n",
       "            <tr>\n",
       "                        <th id=\"T_89feece4_4bc7_11eb_bb95_0242ac130202level0_row1\" class=\"row_heading level0 row1\" >1</th>\n",
       "                        <td id=\"T_89feece4_4bc7_11eb_bb95_0242ac130202row1_col0\" class=\"data row1 col0\" >0.390</td>\n",
       "                        <td id=\"T_89feece4_4bc7_11eb_bb95_0242ac130202row1_col1\" class=\"data row1 col1\" >0.906</td>\n",
       "                        <td id=\"T_89feece4_4bc7_11eb_bb95_0242ac130202row1_col2\" class=\"data row1 col2\" >0.158</td>\n",
       "            </tr>\n",
       "            <tr>\n",
       "                        <th id=\"T_89feece4_4bc7_11eb_bb95_0242ac130202level0_row2\" class=\"row_heading level0 row2\" >2</th>\n",
       "                        <td id=\"T_89feece4_4bc7_11eb_bb95_0242ac130202row2_col0\" class=\"data row2 col0\" >0.722</td>\n",
       "                        <td id=\"T_89feece4_4bc7_11eb_bb95_0242ac130202row2_col1\" class=\"data row2 col1\" >0.111</td>\n",
       "                        <td id=\"T_89feece4_4bc7_11eb_bb95_0242ac130202row2_col2\" class=\"data row2 col2\" >0.692</td>\n",
       "            </tr>\n",
       "    </tbody></table>"
      ],
      "text/plain": [
       "<pandas.io.formats.style.Styler at 0x7fb135634890>"
      ]
     },
     "metadata": {},
     "output_type": "display_data"
    }
   ],
   "source": [
    "num_W=3\n",
    "W=np.random.random([num_W,num_W])\n",
    "W_rotated=np.array(W)[::-1,::-1]\n",
    "for m in [W,W_rotated]:\n",
    "    df_with_styling(m,index=range(num_W)) "
   ]
  },
  {
   "cell_type": "code",
   "execution_count": 12,
   "metadata": {
    "execution": {
     "iopub.execute_input": "2021-01-01T00:23:15.143008Z",
     "iopub.status.busy": "2021-01-01T00:23:15.141827Z",
     "iopub.status.idle": "2021-01-01T00:23:15.184886Z",
     "shell.execute_reply": "2021-01-01T00:23:15.184331Z"
    },
    "papermill": {
     "duration": 0.08032,
     "end_time": "2021-01-01T00:23:15.185003",
     "exception": false,
     "start_time": "2021-01-01T00:23:15.104683",
     "status": "completed"
    },
    "tags": []
   },
   "outputs": [
    {
     "data": {
      "text/html": [
       "<style  type=\"text/css\" >\n",
       "#T_8a0bdddc_4bc7_11eb_bb95_0242ac130202row0_col0,#T_8a0bdddc_4bc7_11eb_bb95_0242ac130202row0_col1,#T_8a0bdddc_4bc7_11eb_bb95_0242ac130202row0_col2,#T_8a0bdddc_4bc7_11eb_bb95_0242ac130202row1_col0,#T_8a0bdddc_4bc7_11eb_bb95_0242ac130202row2_col0{\n",
       "            background-color:  #f7fcf0;\n",
       "            color:  #000000;\n",
       "            max-width:  50px;\n",
       "            height:  50px;\n",
       "        }#T_8a0bdddc_4bc7_11eb_bb95_0242ac130202row1_col1{\n",
       "            background-color:  #f6fcef;\n",
       "            color:  #000000;\n",
       "            max-width:  50px;\n",
       "            height:  50px;\n",
       "        }#T_8a0bdddc_4bc7_11eb_bb95_0242ac130202row1_col2,#T_8a0bdddc_4bc7_11eb_bb95_0242ac130202row2_col1{\n",
       "            background-color:  #084081;\n",
       "            color:  #f1f1f1;\n",
       "            max-width:  50px;\n",
       "            height:  50px;\n",
       "        }#T_8a0bdddc_4bc7_11eb_bb95_0242ac130202row2_col2{\n",
       "            background-color:  #1e7fb7;\n",
       "            color:  #000000;\n",
       "            max-width:  50px;\n",
       "            height:  50px;\n",
       "        }</style><table id=\"T_8a0bdddc_4bc7_11eb_bb95_0242ac130202\" ><thead>    <tr>        <th class=\"blank level0\" ></th>        <th class=\"col_heading level0 col0\" >0</th>        <th class=\"col_heading level0 col1\" >1</th>        <th class=\"col_heading level0 col2\" >2</th>    </tr></thead><tbody>\n",
       "                <tr>\n",
       "                        <th id=\"T_8a0bdddc_4bc7_11eb_bb95_0242ac130202level0_row0\" class=\"row_heading level0 row0\" >0</th>\n",
       "                        <td id=\"T_8a0bdddc_4bc7_11eb_bb95_0242ac130202row0_col0\" class=\"data row0 col0\" >0.000</td>\n",
       "                        <td id=\"T_8a0bdddc_4bc7_11eb_bb95_0242ac130202row0_col1\" class=\"data row0 col1\" >0.000</td>\n",
       "                        <td id=\"T_8a0bdddc_4bc7_11eb_bb95_0242ac130202row0_col2\" class=\"data row0 col2\" >0.000</td>\n",
       "            </tr>\n",
       "            <tr>\n",
       "                        <th id=\"T_8a0bdddc_4bc7_11eb_bb95_0242ac130202level0_row1\" class=\"row_heading level0 row1\" >1</th>\n",
       "                        <td id=\"T_8a0bdddc_4bc7_11eb_bb95_0242ac130202row1_col0\" class=\"data row1 col0\" >0.000</td>\n",
       "                        <td id=\"T_8a0bdddc_4bc7_11eb_bb95_0242ac130202row1_col1\" class=\"data row1 col1\" >0.003</td>\n",
       "                        <td id=\"T_8a0bdddc_4bc7_11eb_bb95_0242ac130202row1_col2\" class=\"data row1 col2\" >0.752</td>\n",
       "            </tr>\n",
       "            <tr>\n",
       "                        <th id=\"T_8a0bdddc_4bc7_11eb_bb95_0242ac130202level0_row2\" class=\"row_heading level0 row2\" >2</th>\n",
       "                        <td id=\"T_8a0bdddc_4bc7_11eb_bb95_0242ac130202row2_col0\" class=\"data row2 col0\" >0.000</td>\n",
       "                        <td id=\"T_8a0bdddc_4bc7_11eb_bb95_0242ac130202row2_col1\" class=\"data row2 col1\" >0.301</td>\n",
       "                        <td id=\"T_8a0bdddc_4bc7_11eb_bb95_0242ac130202row2_col2\" class=\"data row2 col2\" >0.239</td>\n",
       "            </tr>\n",
       "    </tbody></table>"
      ],
      "text/plain": [
       "<pandas.io.formats.style.Styler at 0x7fb1356597d0>"
      ]
     },
     "metadata": {},
     "output_type": "display_data"
    },
    {
     "data": {
      "text/html": [
       "<style  type=\"text/css\" >\n",
       "#T_8a0ed384_4bc7_11eb_bb95_0242ac130202row0_col0,#T_8a0ed384_4bc7_11eb_bb95_0242ac130202row1_col1,#T_8a0ed384_4bc7_11eb_bb95_0242ac130202row2_col0{\n",
       "            background-color:  #084081;\n",
       "            color:  #f1f1f1;\n",
       "            max-width:  50px;\n",
       "            height:  50px;\n",
       "        }#T_8a0ed384_4bc7_11eb_bb95_0242ac130202row0_col1{\n",
       "            background-color:  #45a8cd;\n",
       "            color:  #000000;\n",
       "            max-width:  50px;\n",
       "            height:  50px;\n",
       "        }#T_8a0ed384_4bc7_11eb_bb95_0242ac130202row0_col2,#T_8a0ed384_4bc7_11eb_bb95_0242ac130202row1_col2,#T_8a0ed384_4bc7_11eb_bb95_0242ac130202row2_col1{\n",
       "            background-color:  #f7fcf0;\n",
       "            color:  #000000;\n",
       "            max-width:  50px;\n",
       "            height:  50px;\n",
       "        }#T_8a0ed384_4bc7_11eb_bb95_0242ac130202row1_col0{\n",
       "            background-color:  #bbe4bd;\n",
       "            color:  #000000;\n",
       "            max-width:  50px;\n",
       "            height:  50px;\n",
       "        }#T_8a0ed384_4bc7_11eb_bb95_0242ac130202row2_col2{\n",
       "            background-color:  #084f91;\n",
       "            color:  #f1f1f1;\n",
       "            max-width:  50px;\n",
       "            height:  50px;\n",
       "        }</style><table id=\"T_8a0ed384_4bc7_11eb_bb95_0242ac130202\" ><thead>    <tr>        <th class=\"blank level0\" ></th>        <th class=\"col_heading level0 col0\" >0</th>        <th class=\"col_heading level0 col1\" >1</th>        <th class=\"col_heading level0 col2\" >2</th>    </tr></thead><tbody>\n",
       "                <tr>\n",
       "                        <th id=\"T_8a0ed384_4bc7_11eb_bb95_0242ac130202level0_row0\" class=\"row_heading level0 row0\" >0</th>\n",
       "                        <td id=\"T_8a0ed384_4bc7_11eb_bb95_0242ac130202row0_col0\" class=\"data row0 col0\" >0.966</td>\n",
       "                        <td id=\"T_8a0ed384_4bc7_11eb_bb95_0242ac130202row0_col1\" class=\"data row0 col1\" >0.823</td>\n",
       "                        <td id=\"T_8a0ed384_4bc7_11eb_bb95_0242ac130202row0_col2\" class=\"data row0 col2\" >0.545</td>\n",
       "            </tr>\n",
       "            <tr>\n",
       "                        <th id=\"T_8a0ed384_4bc7_11eb_bb95_0242ac130202level0_row1\" class=\"row_heading level0 row1\" >1</th>\n",
       "                        <td id=\"T_8a0ed384_4bc7_11eb_bb95_0242ac130202row1_col0\" class=\"data row1 col0\" >0.390</td>\n",
       "                        <td id=\"T_8a0ed384_4bc7_11eb_bb95_0242ac130202row1_col1\" class=\"data row1 col1\" >0.906</td>\n",
       "                        <td id=\"T_8a0ed384_4bc7_11eb_bb95_0242ac130202row1_col2\" class=\"data row1 col2\" >0.158</td>\n",
       "            </tr>\n",
       "            <tr>\n",
       "                        <th id=\"T_8a0ed384_4bc7_11eb_bb95_0242ac130202level0_row2\" class=\"row_heading level0 row2\" >2</th>\n",
       "                        <td id=\"T_8a0ed384_4bc7_11eb_bb95_0242ac130202row2_col0\" class=\"data row2 col0\" >0.722</td>\n",
       "                        <td id=\"T_8a0ed384_4bc7_11eb_bb95_0242ac130202row2_col1\" class=\"data row2 col1\" >0.111</td>\n",
       "                        <td id=\"T_8a0ed384_4bc7_11eb_bb95_0242ac130202row2_col2\" class=\"data row2 col2\" >0.692</td>\n",
       "            </tr>\n",
       "    </tbody></table>"
      ],
      "text/plain": [
       "<pandas.io.formats.style.Styler at 0x7fb135661c10>"
      ]
     },
     "metadata": {},
     "output_type": "display_data"
    },
    {
     "data": {
      "text/html": [
       "<style>\n",
       "    @import 'https://fonts.googleapis.com/css?family=Lobster';</style><h1 id='colored_font205850599' style='text-shadow:3px 3px 3px #11dd33; font-family:Lobster; color:#11ff66; font-size:30px; text-align:center; height:45.0px'>&#x21e3;&#x21e3;&#x21e3;&#x21e3;&#x21e3;&#x21e3;&#x21e3;</h1><script>var idc=setInterval(function() {var iddoc=document.getElementById('colored_font205850599'); var now=new Date().getTime(); var sec=Math.floor((now%(1000*60))/1000); var col='rgb(0,'+(255-Math.abs(245-8*sec))+','+(10+Math.abs(245-8*sec))+')'; iddoc.style.background=col;},100);</script>"
      ],
      "text/plain": [
       "<IPython.core.display.HTML object>"
      ]
     },
     "metadata": {},
     "output_type": "display_data"
    },
    {
     "data": {
      "text/html": [
       "<style>\n",
       "    @import 'https://fonts.googleapis.com/css?family=Lobster';</style><h1 id='colored_font475749794' style='text-shadow:3px 3px 3px #11dd33; font-family:Lobster; color:#11ff66; font-size:30px; text-align:center; height:45.0px'>0.320679157</h1><script>var idc=setInterval(function() {var iddoc=document.getElementById('colored_font475749794'); var now=new Date().getTime(); var sec=Math.floor((now%(1000*60))/1000); var col='rgb(0,'+(255-Math.abs(245-8*sec))+','+(10+Math.abs(245-8*sec))+')'; iddoc.style.background=col;},100);</script>"
      ],
      "text/plain": [
       "<IPython.core.display.HTML object>"
      ]
     },
     "metadata": {},
     "output_type": "display_data"
    }
   ],
   "source": [
    "X0=X_padded[:num_W,:num_W]\n",
    "Y0=round(np.sum(X0*W_rotated),9)\n",
    "for m in [X0,W_rotated]:\n",
    "    df_with_styling(m,index=range(num_W))\n",
    "bhtml(7*'&#x21e3;'); bhtml(str(Y0))"
   ]
  },
  {
   "cell_type": "code",
   "execution_count": 13,
   "metadata": {
    "execution": {
     "iopub.execute_input": "2021-01-01T00:23:15.265714Z",
     "iopub.status.busy": "2021-01-01T00:23:15.261666Z",
     "iopub.status.idle": "2021-01-01T00:23:15.269381Z",
     "shell.execute_reply": "2021-01-01T00:23:15.268879Z"
    },
    "papermill": {
     "duration": 0.052455,
     "end_time": "2021-01-01T00:23:15.269486",
     "exception": false,
     "start_time": "2021-01-01T00:23:15.217031",
     "status": "completed"
    },
    "tags": []
   },
   "outputs": [],
   "source": [
    "def conv2d(X,W,p,s):\n",
    "    W_rotated=np.array(W)[::-1,::-1]\n",
    "    n1=X.shape[0]+2*p[0]\n",
    "    n2=X.shape[1]+2*p[1]\n",
    "    X_padded=np.zeros(shape=(n1,n2))\n",
    "    X_padded[p[0]:p[0]+X.shape[0],\n",
    "    p[1]:p[1]+X.shape[1]]=X\n",
    "    result=[]\n",
    "    l=(int((X_padded.shape[0]-W_rotated.shape[0])/s[0])+1,\n",
    "       int((X_padded.shape[1]-W_rotated.shape[1])/s[1])+1)\n",
    "    for i in range(0,l[0],s[0]):\n",
    "        result.append([])\n",
    "        for j in range(0,l[1],s[1]):\n",
    "            X_sub=X_padded[i:i+W_rotated.shape[0],\n",
    "                           j:j+W_rotated.shape[1]]\n",
    "            result[-1].append(np.sum(X_sub*W_rotated))\n",
    "    return(np.array(result))"
   ]
  },
  {
   "cell_type": "code",
   "execution_count": 14,
   "metadata": {
    "execution": {
     "iopub.execute_input": "2021-01-01T00:23:15.344600Z",
     "iopub.status.busy": "2021-01-01T00:23:15.341487Z",
     "iopub.status.idle": "2021-01-01T00:23:15.400766Z",
     "shell.execute_reply": "2021-01-01T00:23:15.399927Z"
    },
    "papermill": {
     "duration": 0.101018,
     "end_time": "2021-01-01T00:23:15.400887",
     "exception": false,
     "start_time": "2021-01-01T00:23:15.299869",
     "status": "completed"
    },
    "tags": []
   },
   "outputs": [
    {
     "data": {
      "text/html": [
       "<style  type=\"text/css\" >\n",
       "#T_8a2b8128_4bc7_11eb_bb95_0242ac130202row0_col0,#T_8a2b8128_4bc7_11eb_bb95_0242ac130202row1_col0,#T_8a2b8128_4bc7_11eb_bb95_0242ac130202row2_col0,#T_8a2b8128_4bc7_11eb_bb95_0242ac130202row3_col5,#T_8a2b8128_4bc7_11eb_bb95_0242ac130202row4_col0,#T_8a2b8128_4bc7_11eb_bb95_0242ac130202row5_col0{\n",
       "            background-color:  #f7fcf0;\n",
       "            color:  #000000;\n",
       "            max-width:  50px;\n",
       "            height:  50px;\n",
       "        }#T_8a2b8128_4bc7_11eb_bb95_0242ac130202row0_col1{\n",
       "            background-color:  #2c8ebf;\n",
       "            color:  #000000;\n",
       "            max-width:  50px;\n",
       "            height:  50px;\n",
       "        }#T_8a2b8128_4bc7_11eb_bb95_0242ac130202row0_col2{\n",
       "            background-color:  #1878b4;\n",
       "            color:  #f1f1f1;\n",
       "            max-width:  50px;\n",
       "            height:  50px;\n",
       "        }#T_8a2b8128_4bc7_11eb_bb95_0242ac130202row0_col3,#T_8a2b8128_4bc7_11eb_bb95_0242ac130202row1_col2,#T_8a2b8128_4bc7_11eb_bb95_0242ac130202row2_col1,#T_8a2b8128_4bc7_11eb_bb95_0242ac130202row3_col2,#T_8a2b8128_4bc7_11eb_bb95_0242ac130202row4_col2,#T_8a2b8128_4bc7_11eb_bb95_0242ac130202row5_col4{\n",
       "            background-color:  #084081;\n",
       "            color:  #f1f1f1;\n",
       "            max-width:  50px;\n",
       "            height:  50px;\n",
       "        }#T_8a2b8128_4bc7_11eb_bb95_0242ac130202row0_col4{\n",
       "            background-color:  #aedfb8;\n",
       "            color:  #000000;\n",
       "            max-width:  50px;\n",
       "            height:  50px;\n",
       "        }#T_8a2b8128_4bc7_11eb_bb95_0242ac130202row0_col5{\n",
       "            background-color:  #389bc6;\n",
       "            color:  #000000;\n",
       "            max-width:  50px;\n",
       "            height:  50px;\n",
       "        }#T_8a2b8128_4bc7_11eb_bb95_0242ac130202row1_col1{\n",
       "            background-color:  #2687bb;\n",
       "            color:  #000000;\n",
       "            max-width:  50px;\n",
       "            height:  50px;\n",
       "        }#T_8a2b8128_4bc7_11eb_bb95_0242ac130202row1_col3{\n",
       "            background-color:  #2484ba;\n",
       "            color:  #000000;\n",
       "            max-width:  50px;\n",
       "            height:  50px;\n",
       "        }#T_8a2b8128_4bc7_11eb_bb95_0242ac130202row1_col4{\n",
       "            background-color:  #43a7cd;\n",
       "            color:  #000000;\n",
       "            max-width:  50px;\n",
       "            height:  50px;\n",
       "        }#T_8a2b8128_4bc7_11eb_bb95_0242ac130202row1_col5{\n",
       "            background-color:  #ddf2d8;\n",
       "            color:  #000000;\n",
       "            max-width:  50px;\n",
       "            height:  50px;\n",
       "        }#T_8a2b8128_4bc7_11eb_bb95_0242ac130202row2_col2{\n",
       "            background-color:  #2d8fbf;\n",
       "            color:  #000000;\n",
       "            max-width:  50px;\n",
       "            height:  50px;\n",
       "        }#T_8a2b8128_4bc7_11eb_bb95_0242ac130202row2_col3{\n",
       "            background-color:  #084d8e;\n",
       "            color:  #f1f1f1;\n",
       "            max-width:  50px;\n",
       "            height:  50px;\n",
       "        }#T_8a2b8128_4bc7_11eb_bb95_0242ac130202row2_col4{\n",
       "            background-color:  #72c7c7;\n",
       "            color:  #000000;\n",
       "            max-width:  50px;\n",
       "            height:  50px;\n",
       "        }#T_8a2b8128_4bc7_11eb_bb95_0242ac130202row2_col5{\n",
       "            background-color:  #e7f6e2;\n",
       "            color:  #000000;\n",
       "            max-width:  50px;\n",
       "            height:  50px;\n",
       "        }#T_8a2b8128_4bc7_11eb_bb95_0242ac130202row3_col0{\n",
       "            background-color:  #dcf1d6;\n",
       "            color:  #000000;\n",
       "            max-width:  50px;\n",
       "            height:  50px;\n",
       "        }#T_8a2b8128_4bc7_11eb_bb95_0242ac130202row3_col1{\n",
       "            background-color:  #0a6aad;\n",
       "            color:  #f1f1f1;\n",
       "            max-width:  50px;\n",
       "            height:  50px;\n",
       "        }#T_8a2b8128_4bc7_11eb_bb95_0242ac130202row3_col3{\n",
       "            background-color:  #1d7eb7;\n",
       "            color:  #000000;\n",
       "            max-width:  50px;\n",
       "            height:  50px;\n",
       "        }#T_8a2b8128_4bc7_11eb_bb95_0242ac130202row3_col4{\n",
       "            background-color:  #c6e9c2;\n",
       "            color:  #000000;\n",
       "            max-width:  50px;\n",
       "            height:  50px;\n",
       "        }#T_8a2b8128_4bc7_11eb_bb95_0242ac130202row4_col1{\n",
       "            background-color:  #4fb3d3;\n",
       "            color:  #000000;\n",
       "            max-width:  50px;\n",
       "            height:  50px;\n",
       "        }#T_8a2b8128_4bc7_11eb_bb95_0242ac130202row4_col3{\n",
       "            background-color:  #1373b2;\n",
       "            color:  #f1f1f1;\n",
       "            max-width:  50px;\n",
       "            height:  50px;\n",
       "        }#T_8a2b8128_4bc7_11eb_bb95_0242ac130202row4_col4{\n",
       "            background-color:  #3597c4;\n",
       "            color:  #000000;\n",
       "            max-width:  50px;\n",
       "            height:  50px;\n",
       "        }#T_8a2b8128_4bc7_11eb_bb95_0242ac130202row4_col5{\n",
       "            background-color:  #f2faeb;\n",
       "            color:  #000000;\n",
       "            max-width:  50px;\n",
       "            height:  50px;\n",
       "        }#T_8a2b8128_4bc7_11eb_bb95_0242ac130202row5_col1{\n",
       "            background-color:  #48accf;\n",
       "            color:  #000000;\n",
       "            max-width:  50px;\n",
       "            height:  50px;\n",
       "        }#T_8a2b8128_4bc7_11eb_bb95_0242ac130202row5_col2{\n",
       "            background-color:  #91d4bd;\n",
       "            color:  #000000;\n",
       "            max-width:  50px;\n",
       "            height:  50px;\n",
       "        }#T_8a2b8128_4bc7_11eb_bb95_0242ac130202row5_col3{\n",
       "            background-color:  #084384;\n",
       "            color:  #f1f1f1;\n",
       "            max-width:  50px;\n",
       "            height:  50px;\n",
       "        }#T_8a2b8128_4bc7_11eb_bb95_0242ac130202row5_col5{\n",
       "            background-color:  #bce5be;\n",
       "            color:  #000000;\n",
       "            max-width:  50px;\n",
       "            height:  50px;\n",
       "        }</style><table id=\"T_8a2b8128_4bc7_11eb_bb95_0242ac130202\" ><thead>    <tr>        <th class=\"blank level0\" ></th>        <th class=\"col_heading level0 col0\" >0</th>        <th class=\"col_heading level0 col1\" >1</th>        <th class=\"col_heading level0 col2\" >2</th>        <th class=\"col_heading level0 col3\" >3</th>        <th class=\"col_heading level0 col4\" >4</th>        <th class=\"col_heading level0 col5\" >5</th>    </tr></thead><tbody>\n",
       "                <tr>\n",
       "                        <th id=\"T_8a2b8128_4bc7_11eb_bb95_0242ac130202level0_row0\" class=\"row_heading level0 row0\" >0</th>\n",
       "                        <td id=\"T_8a2b8128_4bc7_11eb_bb95_0242ac130202row0_col0\" class=\"data row0 col0\" >0.321</td>\n",
       "                        <td id=\"T_8a2b8128_4bc7_11eb_bb95_0242ac130202row0_col1\" class=\"data row0 col1\" >1.417</td>\n",
       "                        <td id=\"T_8a2b8128_4bc7_11eb_bb95_0242ac130202row0_col2\" class=\"data row0 col2\" >1.525</td>\n",
       "                        <td id=\"T_8a2b8128_4bc7_11eb_bb95_0242ac130202row0_col3\" class=\"data row0 col3\" >1.796</td>\n",
       "                        <td id=\"T_8a2b8128_4bc7_11eb_bb95_0242ac130202row0_col4\" class=\"data row0 col4\" >0.841</td>\n",
       "                        <td id=\"T_8a2b8128_4bc7_11eb_bb95_0242ac130202row0_col5\" class=\"data row0 col5\" >1.358</td>\n",
       "            </tr>\n",
       "            <tr>\n",
       "                        <th id=\"T_8a2b8128_4bc7_11eb_bb95_0242ac130202level0_row1\" class=\"row_heading level0 row1\" >1</th>\n",
       "                        <td id=\"T_8a2b8128_4bc7_11eb_bb95_0242ac130202row1_col0\" class=\"data row1 col0\" >1.384</td>\n",
       "                        <td id=\"T_8a2b8128_4bc7_11eb_bb95_0242ac130202row1_col1\" class=\"data row1 col1\" >2.887</td>\n",
       "                        <td id=\"T_8a2b8128_4bc7_11eb_bb95_0242ac130202row1_col2\" class=\"data row1 col2\" >3.339</td>\n",
       "                        <td id=\"T_8a2b8128_4bc7_11eb_bb95_0242ac130202row1_col3\" class=\"data row1 col3\" >2.896</td>\n",
       "                        <td id=\"T_8a2b8128_4bc7_11eb_bb95_0242ac130202row1_col4\" class=\"data row1 col4\" >2.679</td>\n",
       "                        <td id=\"T_8a2b8128_4bc7_11eb_bb95_0242ac130202row1_col5\" class=\"data row1 col5\" >1.666</td>\n",
       "            </tr>\n",
       "            <tr>\n",
       "                        <th id=\"T_8a2b8128_4bc7_11eb_bb95_0242ac130202level0_row2\" class=\"row_heading level0 row2\" >2</th>\n",
       "                        <td id=\"T_8a2b8128_4bc7_11eb_bb95_0242ac130202row2_col0\" class=\"data row2 col0\" >1.555</td>\n",
       "                        <td id=\"T_8a2b8128_4bc7_11eb_bb95_0242ac130202row2_col1\" class=\"data row2 col1\" >2.816</td>\n",
       "                        <td id=\"T_8a2b8128_4bc7_11eb_bb95_0242ac130202row2_col2\" class=\"data row2 col2\" >2.487</td>\n",
       "                        <td id=\"T_8a2b8128_4bc7_11eb_bb95_0242ac130202row2_col3\" class=\"data row2 col3\" >2.762</td>\n",
       "                        <td id=\"T_8a2b8128_4bc7_11eb_bb95_0242ac130202row2_col4\" class=\"data row2 col4\" >2.215</td>\n",
       "                        <td id=\"T_8a2b8128_4bc7_11eb_bb95_0242ac130202row2_col5\" class=\"data row2 col5\" >1.665</td>\n",
       "            </tr>\n",
       "            <tr>\n",
       "                        <th id=\"T_8a2b8128_4bc7_11eb_bb95_0242ac130202level0_row3\" class=\"row_heading level0 row3\" >3</th>\n",
       "                        <td id=\"T_8a2b8128_4bc7_11eb_bb95_0242ac130202row3_col0\" class=\"data row3 col0\" >1.906</td>\n",
       "                        <td id=\"T_8a2b8128_4bc7_11eb_bb95_0242ac130202row3_col1\" class=\"data row3 col1\" >3.191</td>\n",
       "                        <td id=\"T_8a2b8128_4bc7_11eb_bb95_0242ac130202row3_col2\" class=\"data row3 col2\" >3.433</td>\n",
       "                        <td id=\"T_8a2b8128_4bc7_11eb_bb95_0242ac130202row3_col3\" class=\"data row3 col3\" >3.067</td>\n",
       "                        <td id=\"T_8a2b8128_4bc7_11eb_bb95_0242ac130202row3_col4\" class=\"data row3 col4\" >2.112</td>\n",
       "                        <td id=\"T_8a2b8128_4bc7_11eb_bb95_0242ac130202row3_col5\" class=\"data row3 col5\" >1.625</td>\n",
       "            </tr>\n",
       "            <tr>\n",
       "                        <th id=\"T_8a2b8128_4bc7_11eb_bb95_0242ac130202level0_row4\" class=\"row_heading level0 row4\" >4</th>\n",
       "                        <td id=\"T_8a2b8128_4bc7_11eb_bb95_0242ac130202row4_col0\" class=\"data row4 col0\" >1.247</td>\n",
       "                        <td id=\"T_8a2b8128_4bc7_11eb_bb95_0242ac130202row4_col1\" class=\"data row4 col1\" >2.139</td>\n",
       "                        <td id=\"T_8a2b8128_4bc7_11eb_bb95_0242ac130202row4_col2\" class=\"data row4 col2\" >2.676</td>\n",
       "                        <td id=\"T_8a2b8128_4bc7_11eb_bb95_0242ac130202row4_col3\" class=\"data row4 col3\" >2.440</td>\n",
       "                        <td id=\"T_8a2b8128_4bc7_11eb_bb95_0242ac130202row4_col4\" class=\"data row4 col4\" >2.267</td>\n",
       "                        <td id=\"T_8a2b8128_4bc7_11eb_bb95_0242ac130202row4_col5\" class=\"data row4 col5\" >1.291</td>\n",
       "            </tr>\n",
       "            <tr>\n",
       "                        <th id=\"T_8a2b8128_4bc7_11eb_bb95_0242ac130202level0_row5\" class=\"row_heading level0 row5\" >5</th>\n",
       "                        <td id=\"T_8a2b8128_4bc7_11eb_bb95_0242ac130202row5_col0\" class=\"data row5 col0\" >1.132</td>\n",
       "                        <td id=\"T_8a2b8128_4bc7_11eb_bb95_0242ac130202row5_col1\" class=\"data row5 col1\" >1.686</td>\n",
       "                        <td id=\"T_8a2b8128_4bc7_11eb_bb95_0242ac130202row5_col2\" class=\"data row5 col2\" >1.506</td>\n",
       "                        <td id=\"T_8a2b8128_4bc7_11eb_bb95_0242ac130202row5_col3\" class=\"data row5 col3\" >1.977</td>\n",
       "                        <td id=\"T_8a2b8128_4bc7_11eb_bb95_0242ac130202row5_col4\" class=\"data row5 col4\" >1.987</td>\n",
       "                        <td id=\"T_8a2b8128_4bc7_11eb_bb95_0242ac130202row5_col5\" class=\"data row5 col5\" >1.394</td>\n",
       "            </tr>\n",
       "    </tbody></table>"
      ],
      "text/plain": [
       "<pandas.io.formats.style.Styler at 0x7fb13564c450>"
      ]
     },
     "metadata": {},
     "output_type": "display_data"
    },
    {
     "data": {
      "text/html": [
       "<style  type=\"text/css\" >\n",
       "#T_8a2fdd04_4bc7_11eb_bb95_0242ac130202row0_col0,#T_8a2fdd04_4bc7_11eb_bb95_0242ac130202row1_col0,#T_8a2fdd04_4bc7_11eb_bb95_0242ac130202row2_col0,#T_8a2fdd04_4bc7_11eb_bb95_0242ac130202row3_col5,#T_8a2fdd04_4bc7_11eb_bb95_0242ac130202row4_col0,#T_8a2fdd04_4bc7_11eb_bb95_0242ac130202row5_col0{\n",
       "            background-color:  #f7fcf0;\n",
       "            color:  #000000;\n",
       "            max-width:  50px;\n",
       "            height:  50px;\n",
       "        }#T_8a2fdd04_4bc7_11eb_bb95_0242ac130202row0_col1{\n",
       "            background-color:  #2c8ebf;\n",
       "            color:  #000000;\n",
       "            max-width:  50px;\n",
       "            height:  50px;\n",
       "        }#T_8a2fdd04_4bc7_11eb_bb95_0242ac130202row0_col2{\n",
       "            background-color:  #1878b4;\n",
       "            color:  #f1f1f1;\n",
       "            max-width:  50px;\n",
       "            height:  50px;\n",
       "        }#T_8a2fdd04_4bc7_11eb_bb95_0242ac130202row0_col3,#T_8a2fdd04_4bc7_11eb_bb95_0242ac130202row1_col2,#T_8a2fdd04_4bc7_11eb_bb95_0242ac130202row2_col1,#T_8a2fdd04_4bc7_11eb_bb95_0242ac130202row3_col2,#T_8a2fdd04_4bc7_11eb_bb95_0242ac130202row4_col2,#T_8a2fdd04_4bc7_11eb_bb95_0242ac130202row5_col4{\n",
       "            background-color:  #084081;\n",
       "            color:  #f1f1f1;\n",
       "            max-width:  50px;\n",
       "            height:  50px;\n",
       "        }#T_8a2fdd04_4bc7_11eb_bb95_0242ac130202row0_col4{\n",
       "            background-color:  #aedfb8;\n",
       "            color:  #000000;\n",
       "            max-width:  50px;\n",
       "            height:  50px;\n",
       "        }#T_8a2fdd04_4bc7_11eb_bb95_0242ac130202row0_col5{\n",
       "            background-color:  #389bc6;\n",
       "            color:  #000000;\n",
       "            max-width:  50px;\n",
       "            height:  50px;\n",
       "        }#T_8a2fdd04_4bc7_11eb_bb95_0242ac130202row1_col1{\n",
       "            background-color:  #2687bb;\n",
       "            color:  #000000;\n",
       "            max-width:  50px;\n",
       "            height:  50px;\n",
       "        }#T_8a2fdd04_4bc7_11eb_bb95_0242ac130202row1_col3{\n",
       "            background-color:  #2484ba;\n",
       "            color:  #000000;\n",
       "            max-width:  50px;\n",
       "            height:  50px;\n",
       "        }#T_8a2fdd04_4bc7_11eb_bb95_0242ac130202row1_col4{\n",
       "            background-color:  #43a7cd;\n",
       "            color:  #000000;\n",
       "            max-width:  50px;\n",
       "            height:  50px;\n",
       "        }#T_8a2fdd04_4bc7_11eb_bb95_0242ac130202row1_col5{\n",
       "            background-color:  #ddf2d8;\n",
       "            color:  #000000;\n",
       "            max-width:  50px;\n",
       "            height:  50px;\n",
       "        }#T_8a2fdd04_4bc7_11eb_bb95_0242ac130202row2_col2{\n",
       "            background-color:  #2d8fbf;\n",
       "            color:  #000000;\n",
       "            max-width:  50px;\n",
       "            height:  50px;\n",
       "        }#T_8a2fdd04_4bc7_11eb_bb95_0242ac130202row2_col3{\n",
       "            background-color:  #084d8e;\n",
       "            color:  #f1f1f1;\n",
       "            max-width:  50px;\n",
       "            height:  50px;\n",
       "        }#T_8a2fdd04_4bc7_11eb_bb95_0242ac130202row2_col4{\n",
       "            background-color:  #72c7c7;\n",
       "            color:  #000000;\n",
       "            max-width:  50px;\n",
       "            height:  50px;\n",
       "        }#T_8a2fdd04_4bc7_11eb_bb95_0242ac130202row2_col5{\n",
       "            background-color:  #e7f6e2;\n",
       "            color:  #000000;\n",
       "            max-width:  50px;\n",
       "            height:  50px;\n",
       "        }#T_8a2fdd04_4bc7_11eb_bb95_0242ac130202row3_col0{\n",
       "            background-color:  #dcf1d6;\n",
       "            color:  #000000;\n",
       "            max-width:  50px;\n",
       "            height:  50px;\n",
       "        }#T_8a2fdd04_4bc7_11eb_bb95_0242ac130202row3_col1{\n",
       "            background-color:  #0a6aad;\n",
       "            color:  #f1f1f1;\n",
       "            max-width:  50px;\n",
       "            height:  50px;\n",
       "        }#T_8a2fdd04_4bc7_11eb_bb95_0242ac130202row3_col3{\n",
       "            background-color:  #1d7eb7;\n",
       "            color:  #000000;\n",
       "            max-width:  50px;\n",
       "            height:  50px;\n",
       "        }#T_8a2fdd04_4bc7_11eb_bb95_0242ac130202row3_col4{\n",
       "            background-color:  #c6e9c2;\n",
       "            color:  #000000;\n",
       "            max-width:  50px;\n",
       "            height:  50px;\n",
       "        }#T_8a2fdd04_4bc7_11eb_bb95_0242ac130202row4_col1{\n",
       "            background-color:  #4fb3d3;\n",
       "            color:  #000000;\n",
       "            max-width:  50px;\n",
       "            height:  50px;\n",
       "        }#T_8a2fdd04_4bc7_11eb_bb95_0242ac130202row4_col3{\n",
       "            background-color:  #1373b2;\n",
       "            color:  #f1f1f1;\n",
       "            max-width:  50px;\n",
       "            height:  50px;\n",
       "        }#T_8a2fdd04_4bc7_11eb_bb95_0242ac130202row4_col4{\n",
       "            background-color:  #3597c4;\n",
       "            color:  #000000;\n",
       "            max-width:  50px;\n",
       "            height:  50px;\n",
       "        }#T_8a2fdd04_4bc7_11eb_bb95_0242ac130202row4_col5{\n",
       "            background-color:  #f2faeb;\n",
       "            color:  #000000;\n",
       "            max-width:  50px;\n",
       "            height:  50px;\n",
       "        }#T_8a2fdd04_4bc7_11eb_bb95_0242ac130202row5_col1{\n",
       "            background-color:  #48accf;\n",
       "            color:  #000000;\n",
       "            max-width:  50px;\n",
       "            height:  50px;\n",
       "        }#T_8a2fdd04_4bc7_11eb_bb95_0242ac130202row5_col2{\n",
       "            background-color:  #91d4bd;\n",
       "            color:  #000000;\n",
       "            max-width:  50px;\n",
       "            height:  50px;\n",
       "        }#T_8a2fdd04_4bc7_11eb_bb95_0242ac130202row5_col3{\n",
       "            background-color:  #084384;\n",
       "            color:  #f1f1f1;\n",
       "            max-width:  50px;\n",
       "            height:  50px;\n",
       "        }#T_8a2fdd04_4bc7_11eb_bb95_0242ac130202row5_col5{\n",
       "            background-color:  #bce5be;\n",
       "            color:  #000000;\n",
       "            max-width:  50px;\n",
       "            height:  50px;\n",
       "        }</style><table id=\"T_8a2fdd04_4bc7_11eb_bb95_0242ac130202\" ><thead>    <tr>        <th class=\"blank level0\" ></th>        <th class=\"col_heading level0 col0\" >0</th>        <th class=\"col_heading level0 col1\" >1</th>        <th class=\"col_heading level0 col2\" >2</th>        <th class=\"col_heading level0 col3\" >3</th>        <th class=\"col_heading level0 col4\" >4</th>        <th class=\"col_heading level0 col5\" >5</th>    </tr></thead><tbody>\n",
       "                <tr>\n",
       "                        <th id=\"T_8a2fdd04_4bc7_11eb_bb95_0242ac130202level0_row0\" class=\"row_heading level0 row0\" >0</th>\n",
       "                        <td id=\"T_8a2fdd04_4bc7_11eb_bb95_0242ac130202row0_col0\" class=\"data row0 col0\" >0.321</td>\n",
       "                        <td id=\"T_8a2fdd04_4bc7_11eb_bb95_0242ac130202row0_col1\" class=\"data row0 col1\" >1.417</td>\n",
       "                        <td id=\"T_8a2fdd04_4bc7_11eb_bb95_0242ac130202row0_col2\" class=\"data row0 col2\" >1.525</td>\n",
       "                        <td id=\"T_8a2fdd04_4bc7_11eb_bb95_0242ac130202row0_col3\" class=\"data row0 col3\" >1.796</td>\n",
       "                        <td id=\"T_8a2fdd04_4bc7_11eb_bb95_0242ac130202row0_col4\" class=\"data row0 col4\" >0.841</td>\n",
       "                        <td id=\"T_8a2fdd04_4bc7_11eb_bb95_0242ac130202row0_col5\" class=\"data row0 col5\" >1.358</td>\n",
       "            </tr>\n",
       "            <tr>\n",
       "                        <th id=\"T_8a2fdd04_4bc7_11eb_bb95_0242ac130202level0_row1\" class=\"row_heading level0 row1\" >1</th>\n",
       "                        <td id=\"T_8a2fdd04_4bc7_11eb_bb95_0242ac130202row1_col0\" class=\"data row1 col0\" >1.384</td>\n",
       "                        <td id=\"T_8a2fdd04_4bc7_11eb_bb95_0242ac130202row1_col1\" class=\"data row1 col1\" >2.887</td>\n",
       "                        <td id=\"T_8a2fdd04_4bc7_11eb_bb95_0242ac130202row1_col2\" class=\"data row1 col2\" >3.339</td>\n",
       "                        <td id=\"T_8a2fdd04_4bc7_11eb_bb95_0242ac130202row1_col3\" class=\"data row1 col3\" >2.896</td>\n",
       "                        <td id=\"T_8a2fdd04_4bc7_11eb_bb95_0242ac130202row1_col4\" class=\"data row1 col4\" >2.679</td>\n",
       "                        <td id=\"T_8a2fdd04_4bc7_11eb_bb95_0242ac130202row1_col5\" class=\"data row1 col5\" >1.666</td>\n",
       "            </tr>\n",
       "            <tr>\n",
       "                        <th id=\"T_8a2fdd04_4bc7_11eb_bb95_0242ac130202level0_row2\" class=\"row_heading level0 row2\" >2</th>\n",
       "                        <td id=\"T_8a2fdd04_4bc7_11eb_bb95_0242ac130202row2_col0\" class=\"data row2 col0\" >1.555</td>\n",
       "                        <td id=\"T_8a2fdd04_4bc7_11eb_bb95_0242ac130202row2_col1\" class=\"data row2 col1\" >2.816</td>\n",
       "                        <td id=\"T_8a2fdd04_4bc7_11eb_bb95_0242ac130202row2_col2\" class=\"data row2 col2\" >2.487</td>\n",
       "                        <td id=\"T_8a2fdd04_4bc7_11eb_bb95_0242ac130202row2_col3\" class=\"data row2 col3\" >2.762</td>\n",
       "                        <td id=\"T_8a2fdd04_4bc7_11eb_bb95_0242ac130202row2_col4\" class=\"data row2 col4\" >2.215</td>\n",
       "                        <td id=\"T_8a2fdd04_4bc7_11eb_bb95_0242ac130202row2_col5\" class=\"data row2 col5\" >1.665</td>\n",
       "            </tr>\n",
       "            <tr>\n",
       "                        <th id=\"T_8a2fdd04_4bc7_11eb_bb95_0242ac130202level0_row3\" class=\"row_heading level0 row3\" >3</th>\n",
       "                        <td id=\"T_8a2fdd04_4bc7_11eb_bb95_0242ac130202row3_col0\" class=\"data row3 col0\" >1.906</td>\n",
       "                        <td id=\"T_8a2fdd04_4bc7_11eb_bb95_0242ac130202row3_col1\" class=\"data row3 col1\" >3.191</td>\n",
       "                        <td id=\"T_8a2fdd04_4bc7_11eb_bb95_0242ac130202row3_col2\" class=\"data row3 col2\" >3.433</td>\n",
       "                        <td id=\"T_8a2fdd04_4bc7_11eb_bb95_0242ac130202row3_col3\" class=\"data row3 col3\" >3.067</td>\n",
       "                        <td id=\"T_8a2fdd04_4bc7_11eb_bb95_0242ac130202row3_col4\" class=\"data row3 col4\" >2.112</td>\n",
       "                        <td id=\"T_8a2fdd04_4bc7_11eb_bb95_0242ac130202row3_col5\" class=\"data row3 col5\" >1.625</td>\n",
       "            </tr>\n",
       "            <tr>\n",
       "                        <th id=\"T_8a2fdd04_4bc7_11eb_bb95_0242ac130202level0_row4\" class=\"row_heading level0 row4\" >4</th>\n",
       "                        <td id=\"T_8a2fdd04_4bc7_11eb_bb95_0242ac130202row4_col0\" class=\"data row4 col0\" >1.247</td>\n",
       "                        <td id=\"T_8a2fdd04_4bc7_11eb_bb95_0242ac130202row4_col1\" class=\"data row4 col1\" >2.139</td>\n",
       "                        <td id=\"T_8a2fdd04_4bc7_11eb_bb95_0242ac130202row4_col2\" class=\"data row4 col2\" >2.676</td>\n",
       "                        <td id=\"T_8a2fdd04_4bc7_11eb_bb95_0242ac130202row4_col3\" class=\"data row4 col3\" >2.440</td>\n",
       "                        <td id=\"T_8a2fdd04_4bc7_11eb_bb95_0242ac130202row4_col4\" class=\"data row4 col4\" >2.267</td>\n",
       "                        <td id=\"T_8a2fdd04_4bc7_11eb_bb95_0242ac130202row4_col5\" class=\"data row4 col5\" >1.291</td>\n",
       "            </tr>\n",
       "            <tr>\n",
       "                        <th id=\"T_8a2fdd04_4bc7_11eb_bb95_0242ac130202level0_row5\" class=\"row_heading level0 row5\" >5</th>\n",
       "                        <td id=\"T_8a2fdd04_4bc7_11eb_bb95_0242ac130202row5_col0\" class=\"data row5 col0\" >1.132</td>\n",
       "                        <td id=\"T_8a2fdd04_4bc7_11eb_bb95_0242ac130202row5_col1\" class=\"data row5 col1\" >1.686</td>\n",
       "                        <td id=\"T_8a2fdd04_4bc7_11eb_bb95_0242ac130202row5_col2\" class=\"data row5 col2\" >1.506</td>\n",
       "                        <td id=\"T_8a2fdd04_4bc7_11eb_bb95_0242ac130202row5_col3\" class=\"data row5 col3\" >1.977</td>\n",
       "                        <td id=\"T_8a2fdd04_4bc7_11eb_bb95_0242ac130202row5_col4\" class=\"data row5 col4\" >1.987</td>\n",
       "                        <td id=\"T_8a2fdd04_4bc7_11eb_bb95_0242ac130202row5_col5\" class=\"data row5 col5\" >1.394</td>\n",
       "            </tr>\n",
       "    </tbody></table>"
      ],
      "text/plain": [
       "<pandas.io.formats.style.Styler at 0x7fb1358ec090>"
      ]
     },
     "metadata": {},
     "output_type": "display_data"
    }
   ],
   "source": [
    "for el in [conv2d(X,W,p=(1,1),s=(1,1)),\n",
    "           sps.convolve2d(X,W,mode='same')]:\n",
    "    df_with_styling(el,index=range(6))"
   ]
  },
  {
   "cell_type": "code",
   "execution_count": 15,
   "metadata": {
    "_kg_hide-input": true,
    "execution": {
     "iopub.execute_input": "2021-01-01T00:23:15.501633Z",
     "iopub.status.busy": "2021-01-01T00:23:15.500688Z",
     "iopub.status.idle": "2021-01-01T00:23:15.506267Z",
     "shell.execute_reply": "2021-01-01T00:23:15.505406Z"
    },
    "papermill": {
     "duration": 0.057762,
     "end_time": "2021-01-01T00:23:15.506390",
     "exception": false,
     "start_time": "2021-01-01T00:23:15.448628",
     "status": "completed"
    },
    "tags": []
   },
   "outputs": [
    {
     "data": {
      "text/html": [
       "<style>\n",
       "    @import 'https://fonts.googleapis.com/css?family=Lobster';</style><h1 id='colored_font747237444' style='text-shadow:3px 3px 3px #11dd33; font-family:Lobster; color:#11ff66; font-size:30px; text-align:center; height:45.0px'>Pooling Exploration</h1><script>var idc=setInterval(function() {var iddoc=document.getElementById('colored_font747237444'); var now=new Date().getTime(); var sec=Math.floor((now%(1000*60))/1000); var col='rgb(0,'+(255-Math.abs(245-8*sec))+','+(10+Math.abs(245-8*sec))+')'; iddoc.style.background=col;},100);</script>"
      ],
      "text/plain": [
       "<IPython.core.display.HTML object>"
      ]
     },
     "metadata": {},
     "output_type": "display_data"
    }
   ],
   "source": [
    "bhtml('Pooling Exploration')"
   ]
  },
  {
   "cell_type": "code",
   "execution_count": 16,
   "metadata": {
    "execution": {
     "iopub.execute_input": "2021-01-01T00:23:15.614319Z",
     "iopub.status.busy": "2021-01-01T00:23:15.613584Z",
     "iopub.status.idle": "2021-01-01T00:23:15.687563Z",
     "shell.execute_reply": "2021-01-01T00:23:15.686934Z"
    },
    "papermill": {
     "duration": 0.133401,
     "end_time": "2021-01-01T00:23:15.687672",
     "exception": false,
     "start_time": "2021-01-01T00:23:15.554271",
     "status": "completed"
    },
    "tags": []
   },
   "outputs": [
    {
     "data": {
      "text/html": [
       "<style  type=\"text/css\" >\n",
       "#T_8a55a5a2_4bc7_11eb_bb95_0242ac130202row0_col0,#T_8a55a5a2_4bc7_11eb_bb95_0242ac130202row0_col1,#T_8a55a5a2_4bc7_11eb_bb95_0242ac130202row0_col2,#T_8a55a5a2_4bc7_11eb_bb95_0242ac130202row1_col0,#T_8a55a5a2_4bc7_11eb_bb95_0242ac130202row1_col1,#T_8a55a5a2_4bc7_11eb_bb95_0242ac130202row1_col2,#T_8a55a5a2_4bc7_11eb_bb95_0242ac130202row2_col1,#T_8a55a5a2_4bc7_11eb_bb95_0242ac130202row2_col2{\n",
       "            max-width:  50px;\n",
       "            height:  50px;\n",
       "        }#T_8a55a5a2_4bc7_11eb_bb95_0242ac130202row2_col0{\n",
       "            background-color:  #11ff66;\n",
       "            max-width:  50px;\n",
       "            height:  50px;\n",
       "        }</style><table id=\"T_8a55a5a2_4bc7_11eb_bb95_0242ac130202\" ><thead>    <tr>        <th class=\"blank level0\" ></th>        <th class=\"col_heading level0 col0\" >0</th>        <th class=\"col_heading level0 col1\" >1</th>        <th class=\"col_heading level0 col2\" >2</th>    </tr></thead><tbody>\n",
       "                <tr>\n",
       "                        <th id=\"T_8a55a5a2_4bc7_11eb_bb95_0242ac130202level0_row0\" class=\"row_heading level0 row0\" >0</th>\n",
       "                        <td id=\"T_8a55a5a2_4bc7_11eb_bb95_0242ac130202row0_col0\" class=\"data row0 col0\" >0.003</td>\n",
       "                        <td id=\"T_8a55a5a2_4bc7_11eb_bb95_0242ac130202row0_col1\" class=\"data row0 col1\" >0.752</td>\n",
       "                        <td id=\"T_8a55a5a2_4bc7_11eb_bb95_0242ac130202row0_col2\" class=\"data row0 col2\" >0.905</td>\n",
       "            </tr>\n",
       "            <tr>\n",
       "                        <th id=\"T_8a55a5a2_4bc7_11eb_bb95_0242ac130202level0_row1\" class=\"row_heading level0 row1\" >1</th>\n",
       "                        <td id=\"T_8a55a5a2_4bc7_11eb_bb95_0242ac130202row1_col0\" class=\"data row1 col0\" >0.301</td>\n",
       "                        <td id=\"T_8a55a5a2_4bc7_11eb_bb95_0242ac130202row1_col1\" class=\"data row1 col1\" >0.239</td>\n",
       "                        <td id=\"T_8a55a5a2_4bc7_11eb_bb95_0242ac130202row1_col2\" class=\"data row1 col2\" >0.503</td>\n",
       "            </tr>\n",
       "            <tr>\n",
       "                        <th id=\"T_8a55a5a2_4bc7_11eb_bb95_0242ac130202level0_row2\" class=\"row_heading level0 row2\" >2</th>\n",
       "                        <td id=\"T_8a55a5a2_4bc7_11eb_bb95_0242ac130202row2_col0\" class=\"data row2 col0\" >0.932</td>\n",
       "                        <td id=\"T_8a55a5a2_4bc7_11eb_bb95_0242ac130202row2_col1\" class=\"data row2 col1\" >0.805</td>\n",
       "                        <td id=\"T_8a55a5a2_4bc7_11eb_bb95_0242ac130202row2_col2\" class=\"data row2 col2\" >0.861</td>\n",
       "            </tr>\n",
       "    </tbody></table>"
      ],
      "text/plain": [
       "<pandas.io.formats.style.Styler at 0x7fb1355e6550>"
      ]
     },
     "metadata": {},
     "output_type": "display_data"
    },
    {
     "data": {
      "text/html": [
       "<style  type=\"text/css\" >\n",
       "#T_8a57d3ae_4bc7_11eb_bb95_0242ac130202row0_col0,#T_8a57d3ae_4bc7_11eb_bb95_0242ac130202row0_col1,#T_8a57d3ae_4bc7_11eb_bb95_0242ac130202row0_col2,#T_8a57d3ae_4bc7_11eb_bb95_0242ac130202row1_col0,#T_8a57d3ae_4bc7_11eb_bb95_0242ac130202row1_col2,#T_8a57d3ae_4bc7_11eb_bb95_0242ac130202row2_col0,#T_8a57d3ae_4bc7_11eb_bb95_0242ac130202row2_col1,#T_8a57d3ae_4bc7_11eb_bb95_0242ac130202row2_col2{\n",
       "            max-width:  50px;\n",
       "            height:  50px;\n",
       "        }#T_8a57d3ae_4bc7_11eb_bb95_0242ac130202row1_col1{\n",
       "            background-color:  #11ff66;\n",
       "            max-width:  50px;\n",
       "            height:  50px;\n",
       "        }</style><table id=\"T_8a57d3ae_4bc7_11eb_bb95_0242ac130202\" ><thead>    <tr>        <th class=\"blank level0\" ></th>        <th class=\"col_heading level0 col0\" >0</th>        <th class=\"col_heading level0 col1\" >1</th>        <th class=\"col_heading level0 col2\" >2</th>    </tr></thead><tbody>\n",
       "                <tr>\n",
       "                        <th id=\"T_8a57d3ae_4bc7_11eb_bb95_0242ac130202level0_row0\" class=\"row_heading level0 row0\" >0</th>\n",
       "                        <td id=\"T_8a57d3ae_4bc7_11eb_bb95_0242ac130202row0_col0\" class=\"data row0 col0\" >0.413</td>\n",
       "                        <td id=\"T_8a57d3ae_4bc7_11eb_bb95_0242ac130202row0_col1\" class=\"data row0 col1\" >0.305</td>\n",
       "                        <td id=\"T_8a57d3ae_4bc7_11eb_bb95_0242ac130202row0_col2\" class=\"data row0 col2\" >0.619</td>\n",
       "            </tr>\n",
       "            <tr>\n",
       "                        <th id=\"T_8a57d3ae_4bc7_11eb_bb95_0242ac130202level0_row1\" class=\"row_heading level0 row1\" >1</th>\n",
       "                        <td id=\"T_8a57d3ae_4bc7_11eb_bb95_0242ac130202row1_col0\" class=\"data row1 col0\" >0.172</td>\n",
       "                        <td id=\"T_8a57d3ae_4bc7_11eb_bb95_0242ac130202row1_col1\" class=\"data row1 col1\" >0.922</td>\n",
       "                        <td id=\"T_8a57d3ae_4bc7_11eb_bb95_0242ac130202row1_col2\" class=\"data row1 col2\" >0.115</td>\n",
       "            </tr>\n",
       "            <tr>\n",
       "                        <th id=\"T_8a57d3ae_4bc7_11eb_bb95_0242ac130202level0_row2\" class=\"row_heading level0 row2\" >2</th>\n",
       "                        <td id=\"T_8a57d3ae_4bc7_11eb_bb95_0242ac130202row2_col0\" class=\"data row2 col0\" >0.563</td>\n",
       "                        <td id=\"T_8a57d3ae_4bc7_11eb_bb95_0242ac130202row2_col1\" class=\"data row2 col1\" >0.483</td>\n",
       "                        <td id=\"T_8a57d3ae_4bc7_11eb_bb95_0242ac130202row2_col2\" class=\"data row2 col2\" >0.450</td>\n",
       "            </tr>\n",
       "    </tbody></table>"
      ],
      "text/plain": [
       "<pandas.io.formats.style.Styler at 0x7fb13563be50>"
      ]
     },
     "metadata": {},
     "output_type": "display_data"
    },
    {
     "data": {
      "text/html": [
       "<style  type=\"text/css\" >\n",
       "#T_8a59f36e_4bc7_11eb_bb95_0242ac130202row0_col0,#T_8a59f36e_4bc7_11eb_bb95_0242ac130202row0_col1,#T_8a59f36e_4bc7_11eb_bb95_0242ac130202row1_col0,#T_8a59f36e_4bc7_11eb_bb95_0242ac130202row1_col1,#T_8a59f36e_4bc7_11eb_bb95_0242ac130202row1_col2,#T_8a59f36e_4bc7_11eb_bb95_0242ac130202row2_col0,#T_8a59f36e_4bc7_11eb_bb95_0242ac130202row2_col1,#T_8a59f36e_4bc7_11eb_bb95_0242ac130202row2_col2{\n",
       "            max-width:  50px;\n",
       "            height:  50px;\n",
       "        }#T_8a59f36e_4bc7_11eb_bb95_0242ac130202row0_col2{\n",
       "            background-color:  #11ff66;\n",
       "            max-width:  50px;\n",
       "            height:  50px;\n",
       "        }</style><table id=\"T_8a59f36e_4bc7_11eb_bb95_0242ac130202\" ><thead>    <tr>        <th class=\"blank level0\" ></th>        <th class=\"col_heading level0 col0\" >0</th>        <th class=\"col_heading level0 col1\" >1</th>        <th class=\"col_heading level0 col2\" >2</th>    </tr></thead><tbody>\n",
       "                <tr>\n",
       "                        <th id=\"T_8a59f36e_4bc7_11eb_bb95_0242ac130202level0_row0\" class=\"row_heading level0 row0\" >0</th>\n",
       "                        <td id=\"T_8a59f36e_4bc7_11eb_bb95_0242ac130202row0_col0\" class=\"data row0 col0\" >0.292</td>\n",
       "                        <td id=\"T_8a59f36e_4bc7_11eb_bb95_0242ac130202row0_col1\" class=\"data row0 col1\" >0.251</td>\n",
       "                        <td id=\"T_8a59f36e_4bc7_11eb_bb95_0242ac130202row0_col2\" class=\"data row0 col2\" >0.849</td>\n",
       "            </tr>\n",
       "            <tr>\n",
       "                        <th id=\"T_8a59f36e_4bc7_11eb_bb95_0242ac130202level0_row1\" class=\"row_heading level0 row1\" >1</th>\n",
       "                        <td id=\"T_8a59f36e_4bc7_11eb_bb95_0242ac130202row1_col0\" class=\"data row1 col0\" >0.492</td>\n",
       "                        <td id=\"T_8a59f36e_4bc7_11eb_bb95_0242ac130202row1_col1\" class=\"data row1 col1\" >0.494</td>\n",
       "                        <td id=\"T_8a59f36e_4bc7_11eb_bb95_0242ac130202row1_col2\" class=\"data row1 col2\" >0.396</td>\n",
       "            </tr>\n",
       "            <tr>\n",
       "                        <th id=\"T_8a59f36e_4bc7_11eb_bb95_0242ac130202level0_row2\" class=\"row_heading level0 row2\" >2</th>\n",
       "                        <td id=\"T_8a59f36e_4bc7_11eb_bb95_0242ac130202row2_col0\" class=\"data row2 col0\" >0.430</td>\n",
       "                        <td id=\"T_8a59f36e_4bc7_11eb_bb95_0242ac130202row2_col1\" class=\"data row2 col1\" >0.432</td>\n",
       "                        <td id=\"T_8a59f36e_4bc7_11eb_bb95_0242ac130202row2_col2\" class=\"data row2 col2\" >0.185</td>\n",
       "            </tr>\n",
       "    </tbody></table>"
      ],
      "text/plain": [
       "<pandas.io.formats.style.Styler at 0x7fb13563b190>"
      ]
     },
     "metadata": {},
     "output_type": "display_data"
    },
    {
     "data": {
      "text/html": [
       "<style  type=\"text/css\" >\n",
       "#T_8a5bfa06_4bc7_11eb_bb95_0242ac130202row0_col0,#T_8a5bfa06_4bc7_11eb_bb95_0242ac130202row0_col1,#T_8a5bfa06_4bc7_11eb_bb95_0242ac130202row0_col2,#T_8a5bfa06_4bc7_11eb_bb95_0242ac130202row1_col0,#T_8a5bfa06_4bc7_11eb_bb95_0242ac130202row1_col1,#T_8a5bfa06_4bc7_11eb_bb95_0242ac130202row1_col2,#T_8a5bfa06_4bc7_11eb_bb95_0242ac130202row2_col1,#T_8a5bfa06_4bc7_11eb_bb95_0242ac130202row2_col2{\n",
       "            max-width:  50px;\n",
       "            height:  50px;\n",
       "        }#T_8a5bfa06_4bc7_11eb_bb95_0242ac130202row2_col0{\n",
       "            background-color:  #11ff66;\n",
       "            max-width:  50px;\n",
       "            height:  50px;\n",
       "        }</style><table id=\"T_8a5bfa06_4bc7_11eb_bb95_0242ac130202\" ><thead>    <tr>        <th class=\"blank level0\" ></th>        <th class=\"col_heading level0 col0\" >0</th>        <th class=\"col_heading level0 col1\" >1</th>        <th class=\"col_heading level0 col2\" >2</th>    </tr></thead><tbody>\n",
       "                <tr>\n",
       "                        <th id=\"T_8a5bfa06_4bc7_11eb_bb95_0242ac130202level0_row0\" class=\"row_heading level0 row0\" >0</th>\n",
       "                        <td id=\"T_8a5bfa06_4bc7_11eb_bb95_0242ac130202row0_col0\" class=\"data row0 col0\" >0.420</td>\n",
       "                        <td id=\"T_8a5bfa06_4bc7_11eb_bb95_0242ac130202row0_col1\" class=\"data row0 col1\" >0.075</td>\n",
       "                        <td id=\"T_8a5bfa06_4bc7_11eb_bb95_0242ac130202row0_col2\" class=\"data row0 col2\" >0.273</td>\n",
       "            </tr>\n",
       "            <tr>\n",
       "                        <th id=\"T_8a5bfa06_4bc7_11eb_bb95_0242ac130202level0_row1\" class=\"row_heading level0 row1\" >1</th>\n",
       "                        <td id=\"T_8a5bfa06_4bc7_11eb_bb95_0242ac130202row1_col0\" class=\"data row1 col0\" >0.443</td>\n",
       "                        <td id=\"T_8a5bfa06_4bc7_11eb_bb95_0242ac130202row1_col1\" class=\"data row1 col1\" >0.651</td>\n",
       "                        <td id=\"T_8a5bfa06_4bc7_11eb_bb95_0242ac130202row1_col2\" class=\"data row1 col2\" >0.375</td>\n",
       "            </tr>\n",
       "            <tr>\n",
       "                        <th id=\"T_8a5bfa06_4bc7_11eb_bb95_0242ac130202level0_row2\" class=\"row_heading level0 row2\" >2</th>\n",
       "                        <td id=\"T_8a5bfa06_4bc7_11eb_bb95_0242ac130202row2_col0\" class=\"data row2 col0\" >0.798</td>\n",
       "                        <td id=\"T_8a5bfa06_4bc7_11eb_bb95_0242ac130202row2_col1\" class=\"data row2 col1\" >0.511</td>\n",
       "                        <td id=\"T_8a5bfa06_4bc7_11eb_bb95_0242ac130202row2_col2\" class=\"data row2 col2\" >0.283</td>\n",
       "            </tr>\n",
       "    </tbody></table>"
      ],
      "text/plain": [
       "<pandas.io.formats.style.Styler at 0x7fb13562ba90>"
      ]
     },
     "metadata": {},
     "output_type": "display_data"
    }
   ],
   "source": [
    "pool_size=3\n",
    "for [i,j] in [[0,0],[0,1],[1,0],[1,1]]:\n",
    "    display(pd.DataFrame(\n",
    "        X[i*pool_size:(i+1)*pool_size,\n",
    "          j*pool_size:(j+1)*pool_size])\\\n",
    "        .style.highlight_max(color=c1,axis=None)\\\n",
    "        .set_properties(\n",
    "            **{'max-width':'50px','height':'50px'}))"
   ]
  },
  {
   "cell_type": "code",
   "execution_count": 17,
   "metadata": {
    "execution": {
     "iopub.execute_input": "2021-01-01T00:23:15.776184Z",
     "iopub.status.busy": "2021-01-01T00:23:15.773676Z",
     "iopub.status.idle": "2021-01-01T00:23:15.782446Z",
     "shell.execute_reply": "2021-01-01T00:23:15.781556Z"
    },
    "papermill": {
     "duration": 0.059435,
     "end_time": "2021-01-01T00:23:15.782578",
     "exception": false,
     "start_time": "2021-01-01T00:23:15.723143",
     "status": "completed"
    },
    "tags": []
   },
   "outputs": [
    {
     "data": {
      "text/html": [
       "<style  type=\"text/css\" >\n",
       "#T_8a6a6564_4bc7_11eb_bb95_0242ac130202row0_col0,#T_8a6a6564_4bc7_11eb_bb95_0242ac130202row0_col1{\n",
       "            width:  10em;\n",
       "             height:  80%;\n",
       "            background:  linear-gradient(90deg,#11ff66 100.0%, transparent 100.0%);\n",
       "            max-width:  50px;\n",
       "            height:  50px;\n",
       "        }#T_8a6a6564_4bc7_11eb_bb95_0242ac130202row1_col0{\n",
       "            width:  10em;\n",
       "             height:  80%;\n",
       "            background:  linear-gradient(90deg,#11ff66 91.0%, transparent 91.0%);\n",
       "            max-width:  50px;\n",
       "            height:  50px;\n",
       "        }#T_8a6a6564_4bc7_11eb_bb95_0242ac130202row1_col1{\n",
       "            width:  10em;\n",
       "             height:  80%;\n",
       "            background:  linear-gradient(90deg,#11ff66 86.6%, transparent 86.6%);\n",
       "            max-width:  50px;\n",
       "            height:  50px;\n",
       "        }</style><table id=\"T_8a6a6564_4bc7_11eb_bb95_0242ac130202\" ><thead>    <tr>        <th class=\"blank level0\" ></th>        <th class=\"col_heading level0 col0\" >0</th>        <th class=\"col_heading level0 col1\" >1</th>    </tr></thead><tbody>\n",
       "                <tr>\n",
       "                        <th id=\"T_8a6a6564_4bc7_11eb_bb95_0242ac130202level0_row0\" class=\"row_heading level0 row0\" >0</th>\n",
       "                        <td id=\"T_8a6a6564_4bc7_11eb_bb95_0242ac130202row0_col0\" class=\"data row0 col0\" >0.932</td>\n",
       "                        <td id=\"T_8a6a6564_4bc7_11eb_bb95_0242ac130202row0_col1\" class=\"data row0 col1\" >0.922</td>\n",
       "            </tr>\n",
       "            <tr>\n",
       "                        <th id=\"T_8a6a6564_4bc7_11eb_bb95_0242ac130202level0_row1\" class=\"row_heading level0 row1\" >1</th>\n",
       "                        <td id=\"T_8a6a6564_4bc7_11eb_bb95_0242ac130202row1_col0\" class=\"data row1 col0\" >0.849</td>\n",
       "                        <td id=\"T_8a6a6564_4bc7_11eb_bb95_0242ac130202row1_col1\" class=\"data row1 col1\" >0.798</td>\n",
       "            </tr>\n",
       "    </tbody></table>"
      ],
      "text/plain": [
       "<pandas.io.formats.style.Styler at 0x7fb135743250>"
      ]
     },
     "execution_count": 17,
     "metadata": {},
     "output_type": "execute_result"
    }
   ],
   "source": [
    "maxp=sim.block_reduce(X,(pool_size,pool_size),np.max)\n",
    "pd.DataFrame(maxp).style.bar(align='mid',color=c1)\\\n",
    ".set_properties(**{'max-width':'50px','height':'50px'})"
   ]
  },
  {
   "cell_type": "code",
   "execution_count": 18,
   "metadata": {
    "execution": {
     "iopub.execute_input": "2021-01-01T00:23:15.907295Z",
     "iopub.status.busy": "2021-01-01T00:23:15.906498Z",
     "iopub.status.idle": "2021-01-01T00:23:15.912081Z",
     "shell.execute_reply": "2021-01-01T00:23:15.911511Z"
    },
    "papermill": {
     "duration": 0.075434,
     "end_time": "2021-01-01T00:23:15.912201",
     "exception": false,
     "start_time": "2021-01-01T00:23:15.836767",
     "status": "completed"
    },
    "tags": []
   },
   "outputs": [
    {
     "data": {
      "text/html": [
       "<style  type=\"text/css\" >\n",
       "#T_8a7e48f4_4bc7_11eb_bb95_0242ac130202row0_col0,#T_8a7e48f4_4bc7_11eb_bb95_0242ac130202row0_col1{\n",
       "            width:  10em;\n",
       "             height:  80%;\n",
       "            background:  linear-gradient(90deg,#11ff66 100.0%, transparent 100.0%);\n",
       "            max-width:  50px;\n",
       "            height:  50px;\n",
       "        }#T_8a7e48f4_4bc7_11eb_bb95_0242ac130202row1_col0{\n",
       "            width:  10em;\n",
       "             height:  80%;\n",
       "            background:  linear-gradient(90deg,#11ff66 72.1%, transparent 72.1%);\n",
       "            max-width:  50px;\n",
       "            height:  50px;\n",
       "        }#T_8a7e48f4_4bc7_11eb_bb95_0242ac130202row1_col1{\n",
       "            width:  10em;\n",
       "             height:  80%;\n",
       "            background:  linear-gradient(90deg,#11ff66 94.8%, transparent 94.8%);\n",
       "            max-width:  50px;\n",
       "            height:  50px;\n",
       "        }</style><table id=\"T_8a7e48f4_4bc7_11eb_bb95_0242ac130202\" ><thead>    <tr>        <th class=\"blank level0\" ></th>        <th class=\"col_heading level0 col0\" >0</th>        <th class=\"col_heading level0 col1\" >1</th>    </tr></thead><tbody>\n",
       "                <tr>\n",
       "                        <th id=\"T_8a7e48f4_4bc7_11eb_bb95_0242ac130202level0_row0\" class=\"row_heading level0 row0\" >0</th>\n",
       "                        <td id=\"T_8a7e48f4_4bc7_11eb_bb95_0242ac130202row0_col0\" class=\"data row0 col0\" >0.589</td>\n",
       "                        <td id=\"T_8a7e48f4_4bc7_11eb_bb95_0242ac130202row0_col1\" class=\"data row0 col1\" >0.449</td>\n",
       "            </tr>\n",
       "            <tr>\n",
       "                        <th id=\"T_8a7e48f4_4bc7_11eb_bb95_0242ac130202level0_row1\" class=\"row_heading level0 row1\" >1</th>\n",
       "                        <td id=\"T_8a7e48f4_4bc7_11eb_bb95_0242ac130202row1_col0\" class=\"data row1 col0\" >0.425</td>\n",
       "                        <td id=\"T_8a7e48f4_4bc7_11eb_bb95_0242ac130202row1_col1\" class=\"data row1 col1\" >0.426</td>\n",
       "            </tr>\n",
       "    </tbody></table>"
      ],
      "text/plain": [
       "<pandas.io.formats.style.Styler at 0x7fb135695810>"
      ]
     },
     "execution_count": 18,
     "metadata": {},
     "output_type": "execute_result"
    }
   ],
   "source": [
    "meanp=sim.block_reduce(X,(pool_size,pool_size),np.mean)\n",
    "pd.DataFrame(meanp).style.bar(align='mid',color=c1)\\\n",
    ".set_properties(**{'max-width':'50px','height':'50px'})"
   ]
  },
  {
   "cell_type": "code",
   "execution_count": 19,
   "metadata": {
    "_kg_hide-input": true,
    "execution": {
     "iopub.execute_input": "2021-01-01T00:23:15.993017Z",
     "iopub.status.busy": "2021-01-01T00:23:15.992141Z",
     "iopub.status.idle": "2021-01-01T00:23:15.997822Z",
     "shell.execute_reply": "2021-01-01T00:23:15.997267Z"
    },
    "papermill": {
     "duration": 0.048036,
     "end_time": "2021-01-01T00:23:15.997937",
     "exception": false,
     "start_time": "2021-01-01T00:23:15.949901",
     "status": "completed"
    },
    "tags": []
   },
   "outputs": [
    {
     "data": {
      "text/html": [
       "<style>\n",
       "    @import 'https://fonts.googleapis.com/css?family=Lobster';</style><h1 id='colored_font74837798' style='text-shadow:3px 3px 3px #11dd33; font-family:Lobster; color:#11ff66; font-size:30px; text-align:center; height:45.0px'>Keras Conv1D/MaxPool1D & Conv2D/MaxPool2D</h1><script>var idc=setInterval(function() {var iddoc=document.getElementById('colored_font74837798'); var now=new Date().getTime(); var sec=Math.floor((now%(1000*60))/1000); var col='rgb(0,'+(255-Math.abs(245-8*sec))+','+(10+Math.abs(245-8*sec))+')'; iddoc.style.background=col;},100);</script>"
      ],
      "text/plain": [
       "<IPython.core.display.HTML object>"
      ]
     },
     "metadata": {},
     "output_type": "display_data"
    }
   ],
   "source": [
    "bhtml('Keras Conv1D/MaxPool1D & Conv2D/MaxPool2D')"
   ]
  },
  {
   "cell_type": "code",
   "execution_count": 20,
   "metadata": {
    "_kg_hide-input": true,
    "execution": {
     "iopub.execute_input": "2021-01-01T00:23:16.081941Z",
     "iopub.status.busy": "2021-01-01T00:23:16.081139Z",
     "iopub.status.idle": "2021-01-01T00:23:16.084980Z",
     "shell.execute_reply": "2021-01-01T00:23:16.084307Z"
    },
    "papermill": {
     "duration": 0.049585,
     "end_time": "2021-01-01T00:23:16.085086",
     "exception": false,
     "start_time": "2021-01-01T00:23:16.035501",
     "status": "completed"
    },
    "tags": []
   },
   "outputs": [
    {
     "name": "stdout",
     "output_type": "stream",
     "text": [
      "Writing keras_model_plot12d.py\n"
     ]
    }
   ],
   "source": [
    "%%writefile keras_model_plot12d.py\n",
    "import warnings; warnings.filterwarnings('ignore')\n",
    "import tensorflow as tf\n",
    "import tensorflow.keras.layers as tkl\n",
    "import tensorflow.keras.utils as tku\n",
    "from IPython.core.magic import register_line_magic\n",
    "from IPython.display import display\n",
    "\n",
    "@register_line_magic\n",
    "def get_model_plot1d(pars):\n",
    "    pars=pars.split()\n",
    "    num_timesteps=int(pars[0])\n",
    "    num_features=int(pars[1])\n",
    "    num_filters=int(pars[2])\n",
    "    ks=int(pars[3])\n",
    "    ps=int(pars[4])\n",
    "    model=tf.keras.Sequential()\n",
    "    model.add(tkl.InputLayer((num_timesteps,\n",
    "                              num_features),\n",
    "                             name='input'))\n",
    "    model.add(tkl.Conv1D(\n",
    "        filters=num_filters,\n",
    "        kernel_size=ks,\n",
    "        padding='same',name='conv1d',\n",
    "        activation='relu'))\n",
    "    model.add(tkl.MaxPool1D(\n",
    "        pool_size=ps,name='pool1d'))\n",
    "    display(tku.plot_model(model,show_shapes=True))\n",
    "\n",
    "@register_line_magic\n",
    "def get_model_plot2d(pars):\n",
    "    pars=pars.split()\n",
    "    img_size=int(pars[0])\n",
    "    num_channels=int(pars[1])\n",
    "    num_filters=int(pars[2])\n",
    "    ks=int(pars[3])\n",
    "    ps=int(pars[4])\n",
    "    model=tf.keras.Sequential()\n",
    "    model.add(tkl.InputLayer((img_size,img_size,\n",
    "                              num_channels),\n",
    "                             name='input'))\n",
    "    model.add(tkl.Conv2D(\n",
    "        filters=num_filters,\n",
    "        kernel_size=(ks,ks),strides=(1,1),\n",
    "        padding='same',name='conv2d',\n",
    "        activation='relu'))\n",
    "    model.add(tkl.MaxPool2D(\n",
    "        pool_size=(ps,ps),name='pool2d'))\n",
    "    display(tku.plot_model(model,show_shapes=True))"
   ]
  },
  {
   "cell_type": "code",
   "execution_count": 21,
   "metadata": {
    "execution": {
     "iopub.execute_input": "2021-01-01T00:23:16.170377Z",
     "iopub.status.busy": "2021-01-01T00:23:16.169707Z",
     "iopub.status.idle": "2021-01-01T00:23:16.876357Z",
     "shell.execute_reply": "2021-01-01T00:23:16.875810Z"
    },
    "papermill": {
     "duration": 0.752319,
     "end_time": "2021-01-01T00:23:16.876473",
     "exception": false,
     "start_time": "2021-01-01T00:23:16.124154",
     "status": "completed"
    },
    "tags": []
   },
   "outputs": [
    {
     "data": {
      "image/png": "[encoded data removed]",
      "text/plain": [
       "<IPython.core.display.Image object>"
      ]
     },
     "metadata": {},
     "output_type": "display_data"
    }
   ],
   "source": [
    "%run keras_model_plot12d.py\n",
    "%get_model_plot1d 4 16 32 3 2"
   ]
  },
  {
   "cell_type": "code",
   "execution_count": 22,
   "metadata": {
    "execution": {
     "iopub.execute_input": "2021-01-01T00:23:16.963399Z",
     "iopub.status.busy": "2021-01-01T00:23:16.962706Z",
     "iopub.status.idle": "2021-01-01T00:23:17.074875Z",
     "shell.execute_reply": "2021-01-01T00:23:17.075537Z"
    },
    "papermill": {
     "duration": 0.159879,
     "end_time": "2021-01-01T00:23:17.075718",
     "exception": false,
     "start_time": "2021-01-01T00:23:16.915839",
     "status": "completed"
    },
    "tags": []
   },
   "outputs": [
    {
     "data": {
      "image/png": "[encoded data removed]",
      "text/plain": [
       "<IPython.core.display.Image object>"
      ]
     },
     "metadata": {},
     "output_type": "display_data"
    }
   ],
   "source": [
    "%get_model_plot2d 32 3 64 5 4"
   ]
  },
  {
   "cell_type": "code",
   "execution_count": 23,
   "metadata": {
    "_kg_hide-input": true,
    "execution": {
     "iopub.execute_input": "2021-01-01T00:23:17.200368Z",
     "iopub.status.busy": "2021-01-01T00:23:17.199518Z",
     "iopub.status.idle": "2021-01-01T00:23:17.206023Z",
     "shell.execute_reply": "2021-01-01T00:23:17.205342Z"
    },
    "papermill": {
     "duration": 0.070967,
     "end_time": "2021-01-01T00:23:17.206132",
     "exception": false,
     "start_time": "2021-01-01T00:23:17.135165",
     "status": "completed"
    },
    "tags": []
   },
   "outputs": [
    {
     "data": {
      "text/html": [
       "<style>\n",
       "    @import 'https://fonts.googleapis.com/css?family=Lobster';</style><h1 id='colored_font133233567' style='text-shadow:3px 3px 3px #11dd33; font-family:Lobster; color:#11ff66; font-size:30px; text-align:center; height:45.0px'>Keras Dropout</h1><script>var idc=setInterval(function() {var iddoc=document.getElementById('colored_font133233567'); var now=new Date().getTime(); var sec=Math.floor((now%(1000*60))/1000); var col='rgb(0,'+(255-Math.abs(245-8*sec))+','+(10+Math.abs(245-8*sec))+')'; iddoc.style.background=col;},100);</script>"
      ],
      "text/plain": [
       "<IPython.core.display.HTML object>"
      ]
     },
     "metadata": {},
     "output_type": "display_data"
    }
   ],
   "source": [
    "bhtml('Keras Dropout')"
   ]
  },
  {
   "cell_type": "code",
   "execution_count": 24,
   "metadata": {
    "execution": {
     "iopub.execute_input": "2021-01-01T00:23:17.296536Z",
     "iopub.status.busy": "2021-01-01T00:23:17.295917Z",
     "iopub.status.idle": "2021-01-01T00:23:17.997337Z",
     "shell.execute_reply": "2021-01-01T00:23:17.996496Z"
    },
    "papermill": {
     "duration": 0.750341,
     "end_time": "2021-01-01T00:23:17.997468",
     "exception": false,
     "start_time": "2021-01-01T00:23:17.247127",
     "status": "completed"
    },
    "tags": []
   },
   "outputs": [
    {
     "data": {
      "image/png": "[encoded data removed]",
      "text/plain": [
       "<Figure size 504x144 with 1 Axes>"
      ]
     },
     "metadata": {
      "needs_background": "light"
     },
     "output_type": "display_data"
    },
    {
     "data": {
      "image/png": "[encoded data removed]",
      "text/plain": [
       "<Figure size 504x144 with 1 Axes>"
      ]
     },
     "metadata": {
      "needs_background": "light"
     },
     "output_type": "display_data"
    },
    {
     "data": {
      "image/png": "[encoded data removed]",
      "text/plain": [
       "<Figure size 504x144 with 1 Axes>"
      ]
     },
     "metadata": {
      "needs_background": "light"
     },
     "output_type": "display_data"
    },
    {
     "data": {
      "image/png": "[encoded data removed]",
      "text/plain": [
       "<Figure size 504x144 with 1 Axes>"
      ]
     },
     "metadata": {
      "needs_background": "light"
     },
     "output_type": "display_data"
    }
   ],
   "source": [
    "num_Y=100; dr=[.2*i for i in range(4)]\n",
    "Y=np.random.random(num_Y)\n",
    "for i in range(4):\n",
    "    pl.figure(figsize=(7,2))\n",
    "    pl.scatter(range(num_Y),\n",
    "               tkl.Dropout(rate=dr[i])\\\n",
    "               (Y,training=True),c=c1)\n",
    "    pl.title('dropout rate: '+str(dr[i]))\n",
    "    pl.grid(); pl.tight_layout(); pl.show()"
   ]
  }
 ],
 "metadata": {
  "kernelspec": {
   "display_name": "Python 3",
   "language": "python",
   "name": "python3"
  },
  "language_info": {
   "codemirror_mode": {
    "name": "ipython",
    "version": 3
   },
   "file_extension": ".py",
   "mimetype": "text/x-python",
   "name": "python",
   "nbconvert_exporter": "python",
   "pygments_lexer": "ipython3",
   "version": "3.7.6"
  },
  "papermill": {
   "duration": 15.322766,
   "end_time": "2021-01-01T00:23:18.167950",
   "environment_variables": {},
   "exception": null,
   "input_path": "__notebook__.ipynb",
   "output_path": "__notebook__.ipynb",
   "parameters": {},
   "start_time": "2021-01-01T00:23:02.845184",
   "version": "2.1.0"
  }
 },
 "nbformat": 4,
 "nbformat_minor": 4
}
